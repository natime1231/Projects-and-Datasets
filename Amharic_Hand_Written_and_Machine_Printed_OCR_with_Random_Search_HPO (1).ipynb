{
  "cells": [
    {
      "cell_type": "markdown",
      "source": [
        "\n",
        "The idea of this implementation is to build an Amharic Handwritten and Machine Printed Optical Character Recognition (OCR) using CNN with Random Search Hyperparameter Optimization Algorithm. The initial CNN architecture uses some random hyperparameter values, and it scored 95% accuracy with unseen data. After applying random search within a specific search space, the results improved to 96%, and moreover, the time it took decreased.\n"
      ],
      "metadata": {
        "id": "xUWqsi4f_V78"
      }
    },
    {
      "cell_type": "code",
      "execution_count": null,
      "metadata": {
        "id": "ioc7tJM_k74S"
      },
      "outputs": [],
      "source": [
        "# Helpful packages to load\n",
        "import numpy as np # linear algebra\n",
        "import pandas as pd # data processing, CSV file I/O (e.g. pd.read_csv)\n",
        "import cv2\n",
        "import matplotlib.pyplot as plt\n",
        "from sklearn.model_selection import train_test_split\n",
        "import tensorflow as tf\n",
        "from keras.models import Sequential, load_model\n",
        "from keras.callbacks import EarlyStopping, ModelCheckpoint\n",
        "from keras import layers\n",
        "from keras.layers import *\n",
        "from keras.utils import np_utils\n",
        "import sys\n",
        "import gc\n",
        "from tqdm import tqdm\n",
        "from keras.preprocessing.image import ImageDataGenerator\n",
        "import os\n",
        "import random\n",
        "import imutils\n",
        "import seaborn as sns\n",
        "from sklearn.preprocessing import LabelBinarizer\n",
        "from keras import optimizers\n",
        "from sklearn.preprocessing import LabelBinarizer\n",
        "from keras import backend as K\n",
        "from keras.layers import Dense, Activation, Flatten, Dense,MaxPooling2D, Dropout\n",
        "from keras.layers import Conv2D, MaxPooling2D, BatchNormalization\n",
        "from PIL import Image\n",
        "import os.path\n",
        "import glob"
      ]
    },
    {
      "cell_type": "code",
      "source": [
        "# Show an example of data\n",
        "dir = \"/content/drive/MyDrive/Hybrid Amharic Character Dataset1/Split/train/\"\n",
        "train_data = []\n",
        "#img_size = 28\n",
        "non_chars = [\"#\",\"&\",\"@\"]\n",
        "for i in os.listdir(dir):\n",
        "    if i in non_chars:\n",
        "        continue\n",
        "    count = 0\n",
        "    sub_directory = os.path.join(dir,i)\n",
        "    for j in os.listdir(sub_directory):\n",
        "        count+=1\n",
        "        if count > 4000:\n",
        "            break\n",
        "        img = cv2.imread(os.path.join(sub_directory,j),0)\n",
        "        #img = cv2.resize(img,(img_size,img_size))\n",
        "        train_data.append([img,i])"
      ],
      "metadata": {
        "id": "0BxAg_7FNB3c"
      },
      "execution_count": null,
      "outputs": []
    },
    {
      "cell_type": "code",
      "execution_count": null,
      "metadata": {
        "colab": {
          "base_uri": "https://localhost:8080/"
        },
        "id": "g0F8hJWszpRz",
        "outputId": "d07a482b-7f14-4ab1-f6d8-cea974fa87b6"
      },
      "outputs": [
        {
          "output_type": "execute_result",
          "data": {
            "text/plain": [
              "83219"
            ]
          },
          "metadata": {},
          "execution_count": 3
        }
      ],
      "source": [
        "len(train_data)"
      ]
    },
    {
      "cell_type": "code",
      "execution_count": null,
      "metadata": {
        "id": "0BB4YfK1LpFz"
      },
      "outputs": [],
      "source": [
        "val_dir = \"/content/drive/MyDrive/Hybrid Amharic Character Dataset1/Split/val/\"\n",
        "val_data = []\n",
        "#img_size = 28\n",
        "for i in os.listdir(val_dir):\n",
        "    if i in non_chars:\n",
        "        continue\n",
        "    count = 0\n",
        "    sub_directory = os.path.join(val_dir,i)\n",
        "    for j in os.listdir(sub_directory):\n",
        "        count+=1\n",
        "        if count > 4000:\n",
        "            break\n",
        "        img = cv2.imread(os.path.join(sub_directory,j),0)\n",
        "        #img = cv2.resize(img,(img_size,img_size))ddd\n",
        "        val_data.append([img,i])"
      ]
    },
    {
      "cell_type": "code",
      "execution_count": null,
      "metadata": {
        "colab": {
          "base_uri": "https://localhost:8080/"
        },
        "id": "LKVPVnNmzli6",
        "outputId": "7662faec-57b7-423a-c019-dfc248a6fc5e"
      },
      "outputs": [
        {
          "data": {
            "text/plain": [
              "10292"
            ]
          },
          "execution_count": 5,
          "metadata": {},
          "output_type": "execute_result"
        }
      ],
      "source": [
        "len(val_data)"
      ]
    },
    {
      "cell_type": "code",
      "execution_count": null,
      "metadata": {
        "id": "3S-oWfpsEtTI"
      },
      "outputs": [],
      "source": [
        "test_dir = \"/content/drive/MyDrive/Hybrid Amharic Character Dataset1/Split/test/\"\n",
        "test_data = []\n",
        "#img_size = 28\n",
        "non_chars = [\"#\",\"&\",\"@\"]\n",
        "for i in os.listdir(test_dir):\n",
        "    if i in non_chars:\n",
        "        continue\n",
        "    count = 0\n",
        "    sub_directory = os.path.join(test_dir,i)\n",
        "    for j in os.listdir(sub_directory):\n",
        "        count+=1\n",
        "        if count > 4000:\n",
        "            break\n",
        "        img = cv2.imread(os.path.join(sub_directory,j),0)\n",
        "        #img = cv2.resize(img,(img_size,img_size))\n",
        "        test_data.append([img,i])"
      ]
    },
    {
      "cell_type": "code",
      "execution_count": null,
      "metadata": {
        "colab": {
          "base_uri": "https://localhost:8080/"
        },
        "id": "WDsR9VWnxjF_",
        "outputId": "09ace830-4b5f-4d15-ce4f-e74b3a728cd4"
      },
      "outputs": [
        {
          "name": "stderr",
          "output_type": "stream",
          "text": [
            "/usr/local/lib/python3.7/dist-packages/numpy/lib/npyio.py:528: VisibleDeprecationWarning: Creating an ndarray from ragged nested sequences (which is a list-or-tuple of lists-or-tuples-or ndarrays with different lengths or shapes) is deprecated. If you meant to do this, you must specify 'dtype=object' when creating the ndarray.\n",
            "  arr = np.asanyarray(arr)\n"
          ]
        }
      ],
      "source": [
        "# save nump array data\n",
        "np.save('/content/drive/MyDrive/Hybrid Amharic Character Dataset1/Figure/train_data.npy', train_data)\n",
        "np.save('/content/drive/MyDrive/Hybrid Amharic Character Dataset1/Figure/val_data.npy', val_data)\n",
        "np.save('/content/drive/MyDrive/Hybrid Amharic Character Dataset1/Figure/test_data.npy', test_data)"
      ]
    },
    {
      "cell_type": "code",
      "execution_count": null,
      "metadata": {
        "id": "YGu54oHbDqTw"
      },
      "outputs": [],
      "source": [
        "#load nump array data\n",
        "train_data_arry = np.load('/content/drive/MyDrive/Hybrid Amharic Character Dataset1/Figure/train_data.npy',allow_pickle=True)\n",
        "val_data_arry = np.load('/content/drive/MyDrive/Hybrid Amharic Character Dataset1/Figure/val_data.npy', allow_pickle=True)\n",
        "test_data_arry = np.load('/content/drive/MyDrive/Hybrid Amharic Character Dataset1/Figure/test_data.npy', allow_pickle=True)"
      ]
    },
    {
      "cell_type": "code",
      "execution_count": null,
      "metadata": {
        "colab": {
          "base_uri": "https://localhost:8080/"
        },
        "id": "Gce94OmmEJLJ",
        "outputId": "30790429-f37f-4e35-b751-716c32f8ea58"
      },
      "outputs": [
        {
          "data": {
            "text/plain": [
              "(83219, 10292, 10666)"
            ]
          },
          "execution_count": 4,
          "metadata": {},
          "output_type": "execute_result"
        }
      ],
      "source": [
        "len(train_data_arry), len(val_data_arry),len(test_data_arry)"
      ]
    },
    {
      "cell_type": "code",
      "execution_count": null,
      "metadata": {
        "id": "f74EeBKUEVLs"
      },
      "outputs": [],
      "source": [
        "#Randomly shuffling\n",
        "random.shuffle(train_data)\n",
        "random.shuffle(val_data)\n",
        "random.shuffle(test_data)"
      ]
    },
    {
      "cell_type": "code",
      "execution_count": null,
      "metadata": {
        "id": "l21riLxfp4uV"
      },
      "outputs": [],
      "source": [
        "#Preparing the featurevof training\n",
        "train_X = []\n",
        "train_Y = []\n",
        "for features,label in train_data:\n",
        "    train_X.append(features)\n",
        "    train_Y.append(label)"
      ]
    },
    {
      "cell_type": "code",
      "execution_count": null,
      "metadata": {
        "id": "ZsMKtG1BuHSX"
      },
      "outputs": [],
      "source": [
        "#Preparing the featurevof validation\n",
        "val_X = []\n",
        "val_Y = []\n",
        "for features,label in val_data:\n",
        "    val_X.append(features)\n",
        "    val_Y.append(label)"
      ]
    },
    {
      "cell_type": "code",
      "execution_count": null,
      "metadata": {
        "id": "0xate3bQRblw"
      },
      "outputs": [],
      "source": [
        "##Preparing the featurevof testing\n",
        "test_X = []\n",
        "test_Y = []\n",
        "for features,label in test_data:\n",
        "    test_X.append(features)\n",
        "    test_Y.append(label)"
      ]
    },
    {
      "cell_type": "code",
      "execution_count": null,
      "metadata": {
        "id": "LaObPxOBp7oc"
      },
      "outputs": [],
      "source": [
        "LB = LabelBinarizer()\n",
        "train_Y = LB.fit_transform(train_Y)\n",
        "val_Y = LB.fit_transform(val_Y)\n",
        "test_Y = LB.fit_transform(test_Y)\n"
      ]
    },
    {
      "cell_type": "code",
      "execution_count": null,
      "metadata": {
        "id": "0XDoZyAep980"
      },
      "outputs": [],
      "source": [
        "train_X = np.array(train_X)/255.0\n",
        "train_X = train_X.reshape(-1,28,28,1)\n",
        "train_Y = np.array(train_Y)"
      ]
    },
    {
      "cell_type": "code",
      "execution_count": null,
      "metadata": {
        "id": "2LuePIlGp_2V"
      },
      "outputs": [],
      "source": [
        "val_X = np.array(val_X)/255.0\n",
        "val_X = val_X.reshape(-1,28,28,1)\n",
        "val_Y = np.array(val_Y)"
      ]
    },
    {
      "cell_type": "code",
      "execution_count": null,
      "metadata": {
        "id": "hlWdctoCRqEH"
      },
      "outputs": [],
      "source": [
        "test_X = np.array(test_X)/255.0\n",
        "test_X = test_X.reshape(-1,28,28,1)\n",
        "test_Y = np.array(test_Y)"
      ]
    },
    {
      "cell_type": "code",
      "execution_count": null,
      "metadata": {
        "colab": {
          "base_uri": "https://localhost:8080/"
        },
        "id": "IUrBI8oCqB40",
        "outputId": "e50873b4-6f3c-417f-db9c-20ce3e7e6bfc"
      },
      "outputs": [
        {
          "output_type": "stream",
          "name": "stdout",
          "text": [
            "(83219, 28, 28, 1) (10292, 28, 28, 1) (10666, 28, 28, 1)\n"
          ]
        }
      ],
      "source": [
        "print(train_X.shape,val_X.shape, test_X.shape)"
      ]
    },
    {
      "cell_type": "code",
      "execution_count": null,
      "metadata": {
        "colab": {
          "base_uri": "https://localhost:8080/"
        },
        "id": "OCAYXUv90Zhr",
        "outputId": "40882945-b684-40fe-b8ae-c6d4d69f5661"
      },
      "outputs": [
        {
          "output_type": "stream",
          "name": "stdout",
          "text": [
            "(83219, 302) (10292, 302) (10666, 302)\n"
          ]
        }
      ],
      "source": [
        "print(train_Y.shape,val_Y.shape, test_Y.shape)"
      ]
    },
    {
      "cell_type": "code",
      "execution_count": null,
      "metadata": {
        "id": "tX5Raxjr4IAy"
      },
      "outputs": [],
      "source": [
        "# BUILD CONVOLUTIONAL NEURAL NETWORKS\n",
        "nets = 15\n",
        "model = [0] *nets\n",
        "for j in range(nets):\n",
        "    model[j] = Sequential()\n",
        "    model[j].add(Conv2D(32, kernel_size = 3, activation='relu', input_shape = (28, 28, 1)))\n",
        "    model[j].add(BatchNormalization())\n",
        "    model[j].add(Conv2D(32, kernel_size = 3, activation='relu'))\n",
        "    model[j].add(BatchNormalization())\n",
        "    model[j].add(Conv2D(32, kernel_size = 5, strides=2, padding='same', activation='relu'))\n",
        "    model[j].add(BatchNormalization())\n",
        "    model[j].add(Dropout(0.4))\n",
        "    model[j].add(Conv2D(64, kernel_size = 3, activation='relu'))\n",
        "    model[j].add(BatchNormalization())\n",
        "    model[j].add(Conv2D(64, kernel_size = 3, activation='relu'))\n",
        "    model[j].add(BatchNormalization())\n",
        "    model[j].add(Conv2D(64, kernel_size = 5, strides=2, padding='same', activation='relu'))\n",
        "    model[j].add(BatchNormalization())\n",
        "    model[j].add(Dropout(0.25))\n",
        "    model[j].add(Conv2D(128, kernel_size = 4, activation='relu'))\n",
        "    model[j].add(BatchNormalization())\n",
        "    model[j].add(Flatten())\n",
        "    model[j].add(Dropout(0.25))\n",
        "    model[j].add(Dense(302, activation='softmax'))"
      ]
    },
    {
      "cell_type": "code",
      "execution_count": null,
      "metadata": {
        "id": "xpQVilPf4M2x"
      },
      "outputs": [],
      "source": [
        "   # COMPILE WITH ADAM OPTIMIZER AND CROSS ENTROPY COST\n",
        "model[j].compile(loss='CategoricalCrossentropy', optimizer=\"Adam\", metrics=['accuracy'])"
      ]
    },
    {
      "cell_type": "code",
      "execution_count": null,
      "metadata": {
        "colab": {
          "base_uri": "https://localhost:8080/"
        },
        "outputId": "1f07713b-c09e-46b1-c39c-0b011a0e7c7f",
        "id": "TuJD1s3-28ok"
      },
      "outputs": [
        {
          "name": "stdout",
          "output_type": "stream",
          "text": [
            "model saved!!!\n"
          ]
        }
      ],
      "source": [
        "#Saving the model\n",
        "model[j].save(\"/content/drive/MyDrive/Hybrid Amharic Character Dataset1/Figure/AmharicModelA.h5\") #using h5 extension\n",
        "print(\"model saved!!!\")"
      ]
    },
    {
      "cell_type": "code",
      "execution_count": null,
      "metadata": {
        "colab": {
          "background_save": true,
          "base_uri": "https://localhost:8080/"
        },
        "outputId": "e103df5e-2b0c-43c5-8279-4745d9a54ce1",
        "id": "RFiyyeZp28om"
      },
      "outputs": [
        {
          "name": "stdout",
          "output_type": "stream",
          "text": [
            "Epoch 1/30\n",
            "2601/2601 [==============================] - 385s 147ms/step - loss: 2.0889 - accuracy: 0.5157 - val_loss: 0.6681 - val_accuracy: 0.8062\n",
            "Epoch 2/30\n",
            "2601/2601 [==============================] - 373s 143ms/step - loss: 0.6903 - accuracy: 0.7997 - val_loss: 0.3882 - val_accuracy: 0.8827\n",
            "Epoch 3/30\n",
            "2601/2601 [==============================] - 374s 144ms/step - loss: 0.5108 - accuracy: 0.8481 - val_loss: 0.3134 - val_accuracy: 0.9065\n",
            "Epoch 4/30\n",
            "2601/2601 [==============================] - 374s 144ms/step - loss: 0.4279 - accuracy: 0.8701 - val_loss: 0.2977 - val_accuracy: 0.9080\n",
            "Epoch 5/30\n",
            "2601/2601 [==============================] - 375s 144ms/step - loss: 0.3795 - accuracy: 0.8844 - val_loss: 0.2666 - val_accuracy: 0.9178\n",
            "Epoch 6/30\n",
            "2601/2601 [==============================] - 377s 145ms/step - loss: 0.3371 - accuracy: 0.8976 - val_loss: 0.2589 - val_accuracy: 0.9214\n",
            "Epoch 7/30\n",
            "2601/2601 [==============================] - 381s 146ms/step - loss: 0.3103 - accuracy: 0.9038 - val_loss: 0.2341 - val_accuracy: 0.9263\n",
            "Epoch 8/30\n",
            "2601/2601 [==============================] - 383s 147ms/step - loss: 0.2892 - accuracy: 0.9093 - val_loss: 0.2185 - val_accuracy: 0.9349\n",
            "Epoch 9/30\n",
            "2601/2601 [==============================] - 381s 146ms/step - loss: 0.2715 - accuracy: 0.9156 - val_loss: 0.2441 - val_accuracy: 0.9253\n",
            "Epoch 10/30\n",
            "2601/2601 [==============================] - 380s 146ms/step - loss: 0.2568 - accuracy: 0.9195 - val_loss: 0.2188 - val_accuracy: 0.9329\n",
            "Epoch 11/30\n",
            "2601/2601 [==============================] - 380s 146ms/step - loss: 0.2418 - accuracy: 0.9233 - val_loss: 0.2001 - val_accuracy: 0.9415\n",
            "Epoch 12/30\n",
            "2601/2601 [==============================] - 378s 145ms/step - loss: 0.2319 - accuracy: 0.9260 - val_loss: 0.1950 - val_accuracy: 0.9409\n",
            "Epoch 13/30\n",
            "2601/2601 [==============================] - 379s 146ms/step - loss: 0.2243 - accuracy: 0.9288 - val_loss: 0.2017 - val_accuracy: 0.9387\n",
            "Epoch 14/30\n",
            "2601/2601 [==============================] - 382s 147ms/step - loss: 0.2120 - accuracy: 0.9324 - val_loss: 0.1888 - val_accuracy: 0.9433\n",
            "Epoch 15/30\n",
            "2601/2601 [==============================] - 380s 146ms/step - loss: 0.2037 - accuracy: 0.9348 - val_loss: 0.1943 - val_accuracy: 0.9406\n",
            "Epoch 16/30\n",
            "2601/2601 [==============================] - 380s 146ms/step - loss: 0.1969 - accuracy: 0.9361 - val_loss: 0.1946 - val_accuracy: 0.9435\n",
            "Epoch 17/30\n",
            "2601/2601 [==============================] - 378s 145ms/step - loss: 0.1912 - accuracy: 0.9386 - val_loss: 0.1914 - val_accuracy: 0.9411\n",
            "Epoch 18/30\n",
            "2601/2601 [==============================] - 377s 145ms/step - loss: 0.1849 - accuracy: 0.9399 - val_loss: 0.1824 - val_accuracy: 0.9469\n",
            "Epoch 19/30\n",
            "2601/2601 [==============================] - 379s 146ms/step - loss: 0.1763 - accuracy: 0.9424 - val_loss: 0.1815 - val_accuracy: 0.9469\n",
            "Epoch 20/30\n",
            "2601/2601 [==============================] - 378s 145ms/step - loss: 0.1728 - accuracy: 0.9431 - val_loss: 0.1780 - val_accuracy: 0.9489\n",
            "Epoch 21/30\n",
            "2601/2601 [==============================] - 376s 145ms/step - loss: 0.1674 - accuracy: 0.9445 - val_loss: 0.1785 - val_accuracy: 0.9468\n",
            "Epoch 22/30\n",
            "2601/2601 [==============================] - 377s 145ms/step - loss: 0.1634 - accuracy: 0.9472 - val_loss: 0.1847 - val_accuracy: 0.9478\n",
            "Epoch 23/30\n",
            "2601/2601 [==============================] - 377s 145ms/step - loss: 0.1579 - accuracy: 0.9479 - val_loss: 0.1776 - val_accuracy: 0.9480\n",
            "Epoch 24/30\n",
            "2601/2601 [==============================] - 384s 148ms/step - loss: 0.1531 - accuracy: 0.9495 - val_loss: 0.1776 - val_accuracy: 0.9480\n",
            "Epoch 25/30\n",
            "2601/2601 [==============================] - 380s 146ms/step - loss: 0.1502 - accuracy: 0.9509 - val_loss: 0.1715 - val_accuracy: 0.9503\n",
            "Epoch 26/30\n",
            "2601/2601 [==============================] - 380s 146ms/step - loss: 0.1464 - accuracy: 0.9515 - val_loss: 0.1748 - val_accuracy: 0.9500\n",
            "Epoch 27/30\n",
            "2601/2601 [==============================] - 374s 144ms/step - loss: 0.1439 - accuracy: 0.9532 - val_loss: 0.1710 - val_accuracy: 0.9512\n",
            "Epoch 28/30\n",
            "2601/2601 [==============================] - 374s 144ms/step - loss: 0.1372 - accuracy: 0.9541 - val_loss: 0.1729 - val_accuracy: 0.9511\n",
            "Epoch 29/30\n",
            "2601/2601 [==============================] - 373s 143ms/step - loss: 0.1385 - accuracy: 0.9531 - val_loss: 0.1774 - val_accuracy: 0.9524\n",
            "Epoch 30/30\n",
            "2601/2601 [==============================] - 373s 143ms/step - loss: 0.1312 - accuracy: 0.9559 - val_loss: 0.1732 - val_accuracy: 0.9538\n"
          ]
        }
      ],
      "source": [
        "history = model[j].fit(train_X,train_Y, epochs=30, batch_size=32, validation_data = (val_X, val_Y),  verbose=1)"
      ]
    },
    {
      "cell_type": "code",
      "execution_count": null,
      "metadata": {
        "colab": {
          "background_save": true
        },
        "outputId": "1d65c782-7eeb-4e05-ea2e-ac1eafe7bb93",
        "id": "YI1iWynY28on"
      },
      "outputs": [
        {
          "name": "stdout",
          "output_type": "stream",
          "text": [
            "334/334 [==============================] - 11s 32ms/step - loss: 0.1612 - accuracy: 0.9593\n"
          ]
        },
        {
          "data": {
            "text/plain": [
              "[0.16115084290504456, 0.9593099355697632]"
            ]
          },
          "execution_count": 20,
          "metadata": {},
          "output_type": "execute_result"
        }
      ],
      "source": [
        "model[j].evaluate(test_X,test_Y,batch_size=32)"
      ]
    },
    {
      "cell_type": "code",
      "execution_count": null,
      "metadata": {
        "colab": {
          "background_save": true
        },
        "outputId": "a7108d4b-bfb8-4132-e2a1-be8f7c56cec0",
        "id": "ZnQLA-tZ28on"
      },
      "outputs": [
        {
          "data": {
            "image/png": "[encoded data removed]",
            "text/plain": [
              "<Figure size 432x288 with 1 Axes>"
            ]
          },
          "metadata": {},
          "output_type": "display_data"
        }
      ],
      "source": [
        "# accuracies\n",
        "plt.plot(history.history['accuracy'], label='train acc')\n",
        "plt.plot(history.history['val_accuracy'], label='val acc')\n",
        "plt.legend()\n",
        "\n",
        "plt.savefig('/content/drive/MyDrive/Hybrid Amharic Character Dataset1/Figure/acc-rps-NewHB.svg')\n",
        "plt.show()"
      ]
    },
    {
      "cell_type": "code",
      "execution_count": null,
      "metadata": {
        "colab": {
          "background_save": true
        },
        "outputId": "25b28834-84ec-4e8f-8d22-70842f3aef68",
        "id": "Oxj9sCjy28oo"
      },
      "outputs": [
        {
          "data": {
            "image/png": "[encoded data removed]",
            "text/plain": [
              "<Figure size 432x288 with 1 Axes>"
            ]
          },
          "metadata": {},
          "output_type": "display_data"
        }
      ],
      "source": [
        "# loss\n",
        "plt.plot(history.history['loss'], label='train loss')\n",
        "plt.plot(history.history['val_loss'], label='val loss')\n",
        "plt.legend()\n",
        "\n",
        "plt.savefig('/content/drive/MyDrive/Hybrid Amharic Character Dataset1/Figure/loss-rps-NewHB.svg')\n",
        "plt.show()"
      ]
    },
    {
      "cell_type": "code",
      "execution_count": null,
      "metadata": {
        "id": "-JrK4MCTpPXh",
        "colab": {
          "base_uri": "https://localhost:8080/"
        },
        "outputId": "9e70b0f5-b98f-4461-b74e-aa5d80a10fd6"
      },
      "outputs": [
        {
          "output_type": "stream",
          "name": "stdout",
          "text": [
            "\u001b[?25l\r\u001b[K     |██▍                             | 10 kB 35.6 MB/s eta 0:00:01\r\u001b[K     |████▉                           | 20 kB 21.8 MB/s eta 0:00:01\r\u001b[K     |███████▎                        | 30 kB 11.2 MB/s eta 0:00:01\r\u001b[K     |█████████▋                      | 40 kB 4.5 MB/s eta 0:00:01\r\u001b[K     |████████████                    | 51 kB 4.8 MB/s eta 0:00:01\r\u001b[K     |██████████████▌                 | 61 kB 5.7 MB/s eta 0:00:01\r\u001b[K     |█████████████████               | 71 kB 5.7 MB/s eta 0:00:01\r\u001b[K     |███████████████████▎            | 81 kB 5.6 MB/s eta 0:00:01\r\u001b[K     |█████████████████████▊          | 92 kB 6.3 MB/s eta 0:00:01\r\u001b[K     |████████████████████████▏       | 102 kB 5.0 MB/s eta 0:00:01\r\u001b[K     |██████████████████████████▋     | 112 kB 5.0 MB/s eta 0:00:01\r\u001b[K     |█████████████████████████████   | 122 kB 5.0 MB/s eta 0:00:01\r\u001b[K     |███████████████████████████████▍| 133 kB 5.0 MB/s eta 0:00:01\r\u001b[K     |████████████████████████████████| 135 kB 5.0 MB/s \n",
            "\u001b[?25h"
          ]
        }
      ],
      "source": [
        "#Installing keras-tuner for hyperparamter search\n",
        "!pip install -q -U keras-tuner"
      ]
    },
    {
      "cell_type": "code",
      "execution_count": null,
      "metadata": {
        "id": "9guHUO2_r3bH"
      },
      "outputs": [],
      "source": [
        "import tensorflow as tf\n",
        "from tensorflow import keras\n",
        "import keras_tuner as kt"
      ]
    },
    {
      "cell_type": "code",
      "execution_count": null,
      "metadata": {
        "id": "RFXnd0Ehlwit"
      },
      "outputs": [],
      "source": [
        "# BUILD CONVOLUTIONAL NEURAL NETWORKS\n",
        "def model_builder(hp):\n",
        "    #nets = 15\n",
        "   # model = [0] *nets\n",
        "#for j in range(nets):\n",
        "    model = Sequential()\n",
        "    hp_filter= hp.Int('filter_value', min_value=32, max_value=128, step=32)\n",
        "    model.add(Conv2D(filters=hp_filter, kernel_size = 3, activation=hp.Choice('activation', ['relu', 'sigmoid', 'elu', 'selu', 'softplus']), input_shape = (28, 28, 1)))\n",
        "    model.add(BatchNormalization())\n",
        "    model.add(Conv2D(filters=hp_filter, kernel_size = 3, activation=hp.Choice('activation', ['relu', 'sigmoid', 'elu', 'selu', 'softplus'])))\n",
        "    model.add(BatchNormalization())\n",
        "    model.add(Conv2D(filters=hp_filter, kernel_size = 5, strides=2, padding='same', activation=hp.Choice('activation', ['relu', 'sigmoid', 'elu', 'selu', 'softplus'])))\n",
        "    model.add(BatchNormalization())\n",
        "    model.add(Dropout(hp.Float('dropout', 0, 0.5, step=0.25, default=0.5)))\n",
        "\n",
        "    model.add(Conv2D(filters=hp_filter, kernel_size = 3, activation=hp.Choice('activation', ['relu', 'sigmoid', 'elu', 'selu', 'softplus'])))\n",
        "    model.add(BatchNormalization())\n",
        "    model.add(Conv2D(filters=hp_filter, kernel_size = 3, activation=hp.Choice('activation', ['relu', 'sigmoid', 'elu', 'selu', 'softplus'])))\n",
        "    model.add(BatchNormalization())\n",
        "    model.add(Conv2D(filters=hp_filter, kernel_size = 5, strides=2, padding='same', activation=hp.Choice('activation', ['relu', 'sigmoid', 'elu', 'selu', 'softplus'])))\n",
        "    model.add(BatchNormalization())\n",
        "    model.add(Dropout(hp.Float('dropout', 0, 0.5, step=0.25, default=0.5)))\n",
        "\n",
        "    model.add(Conv2D(filters=hp_filter, kernel_size = 4, activation=hp.Choice('activation', ['relu', 'sigmoid', 'elu', 'selu', 'softplus'])))\n",
        "    model.add(BatchNormalization())\n",
        "    model.add(Flatten())\n",
        "    model.add(Dropout(hp.Float('dropout', 0, 0.5, step=0.25, default=0.5)))\n",
        "    model.add(Dense(302, activation='softmax'))\n",
        "\n",
        "    hp_learning_rate = hp.Choice('learning_rate', values=[1e-2, 1e-3, 1e-4])\n",
        "    model.compile(optimizer=keras.optimizers.Adam(learning_rate=hp_learning_rate),\n",
        "                loss = tf.keras.losses.CategoricalCrossentropy(from_logits=True), metrics=['accuracy'])\n",
        "    #model.compile(optimizer='adam',loss = keras.losses.SparseCategoricalCrossentropy(from_logits=True), metrics=['accuracy'])\n",
        "\n",
        "\n",
        "    return model\n",
        "    #Saving the model\n",
        "    #model.save(\"/content/drive/MyDrive/MyDrive/Hybrid Amharic Character Dataset1/Figure/Model.h5\") #using h5 extension\n",
        "   # print(\"model saved!!!\")"
      ]
    },
    {
      "cell_type": "code",
      "execution_count": null,
      "metadata": {
        "colab": {
          "base_uri": "https://localhost:8080/"
        },
        "id": "9OEcALSLsm86",
        "outputId": "2439d403-52ef-4b3f-d7cb-239eb5c8837c"
      },
      "outputs": [
        {
          "output_type": "stream",
          "name": "stdout",
          "text": [
            "INFO:tensorflow:Reloading Oracle from existing project /content/drive/MyDrive/Hybrid Amharic Character Dataset1/Figure/new_arc9/oracle.json\n",
            "INFO:tensorflow:Reloading Tuner from /content/drive/MyDrive/Hybrid Amharic Character Dataset1/Figure/new_arc9/tuner0.json\n"
          ]
        }
      ],
      "source": [
        "#Random search hyperparameter optimization algorithm\n",
        "tf.keras.backend.reset_uids()\n",
        "tuner = kt.RandomSearch(model_builder,\n",
        "                     objective='val_accuracy',\n",
        "                     max_trials=10,\n",
        "                     executions_per_trial = 3,\n",
        "                     directory='/content/drive/MyDrive/Hybrid Amharic Character Dataset1/Figure',\n",
        "                     project_name='new_arc9')"
      ]
    },
    {
      "cell_type": "code",
      "execution_count": null,
      "metadata": {
        "colab": {
          "base_uri": "https://localhost:8080/"
        },
        "id": "XF57LloLs5un",
        "outputId": "5aa3069c-7162-46c0-ddcf-ff72d45c5bfa"
      },
      "outputs": [
        {
          "output_type": "stream",
          "name": "stdout",
          "text": [
            "Search space summary\n",
            "Default search space size: 4\n",
            "filter_value (Int)\n",
            "{'default': None, 'conditions': [], 'min_value': 32, 'max_value': 128, 'step': 32, 'sampling': None}\n",
            "activation (Choice)\n",
            "{'default': 'relu', 'conditions': [], 'values': ['relu', 'sigmoid', 'elu', 'selu', 'softplus'], 'ordered': False}\n",
            "dropout (Float)\n",
            "{'default': 0.5, 'conditions': [], 'min_value': 0.0, 'max_value': 0.5, 'step': 0.25, 'sampling': None}\n",
            "learning_rate (Choice)\n",
            "{'default': 0.01, 'conditions': [], 'values': [0.01, 0.001, 0.0001], 'ordered': True}\n"
          ]
        }
      ],
      "source": [
        "# hypertuning settings search space summary\n",
        "tuner.search_space_summary()"
      ]
    },
    {
      "cell_type": "code",
      "execution_count": null,
      "metadata": {
        "id": "vzzlXzxcs8fB"
      },
      "outputs": [],
      "source": [
        "stop_early = tf.keras.callbacks.EarlyStopping(monitor='val_loss', patience=5)"
      ]
    },
    {
      "cell_type": "code",
      "execution_count": null,
      "metadata": {
        "colab": {
          "base_uri": "https://localhost:8080/"
        },
        "id": "pPsUoUfHtBlA",
        "outputId": "92b51274-8a6a-4c99-e6d2-34c7e4841c13"
      },
      "outputs": [
        {
          "output_type": "stream",
          "name": "stdout",
          "text": [
            "INFO:tensorflow:Oracle triggered exit\n"
          ]
        }
      ],
      "source": [
        "tuner.search(train_X, train_Y, validation_data=(val_X,val_Y), callbacks=[stop_early])"
      ]
    },
    {
      "cell_type": "code",
      "execution_count": null,
      "metadata": {
        "colab": {
          "base_uri": "https://localhost:8080/"
        },
        "id": "uPrBWWH0-VjS",
        "outputId": "fc10a7d6-03e2-449b-a622-172cc3e11144"
      },
      "outputs": [
        {
          "output_type": "stream",
          "name": "stdout",
          "text": [
            "Results summary\n",
            "Results in /content/drive/MyDrive/Hybrid Amharic Character Dataset1/Figure/new_arc9\n",
            "Showing 10 best trials\n",
            "<keras_tuner.engine.objective.Objective object at 0x7f32e206a5d0>\n",
            "Trial summary\n",
            "Hyperparameters:\n",
            "filter_value: 96\n",
            "activation: relu\n",
            "dropout: 0.25\n",
            "learning_rate: 0.001\n",
            "Score: 0.8182083368301392\n",
            "Trial summary\n",
            "Hyperparameters:\n",
            "filter_value: 96\n",
            "activation: relu\n",
            "dropout: 0.0\n",
            "learning_rate: 0.01\n",
            "Score: 0.7585827310880026\n",
            "Trial summary\n",
            "Hyperparameters:\n",
            "filter_value: 96\n",
            "activation: relu\n",
            "dropout: 0.25\n",
            "learning_rate: 0.01\n",
            "Score: 0.665727416674296\n",
            "Trial summary\n",
            "Hyperparameters:\n",
            "filter_value: 64\n",
            "activation: sigmoid\n",
            "dropout: 0.0\n",
            "learning_rate: 0.001\n",
            "Score: 0.6383598943551382\n",
            "Trial summary\n",
            "Hyperparameters:\n",
            "filter_value: 128\n",
            "activation: sigmoid\n",
            "dropout: 0.25\n",
            "learning_rate: 0.001\n",
            "Score: 0.5798678596814474\n",
            "Trial summary\n",
            "Hyperparameters:\n",
            "filter_value: 128\n",
            "activation: sigmoid\n",
            "dropout: 0.25\n",
            "learning_rate: 0.0001\n",
            "Score: 0.40523383021354675\n",
            "Trial summary\n",
            "Hyperparameters:\n",
            "filter_value: 96\n",
            "activation: sigmoid\n",
            "dropout: 0.25\n",
            "learning_rate: 0.0001\n",
            "Score: 0.33284751574198407\n",
            "Trial summary\n",
            "Hyperparameters:\n",
            "filter_value: 32\n",
            "activation: elu\n",
            "dropout: 0.25\n",
            "learning_rate: 0.0001\n",
            "Score: 0.16656950116157532\n",
            "Trial summary\n",
            "Hyperparameters:\n",
            "filter_value: 32\n",
            "activation: relu\n",
            "dropout: 0.25\n",
            "learning_rate: 0.0001\n",
            "Score: 0.14406011005242667\n",
            "Trial summary\n",
            "Hyperparameters:\n",
            "filter_value: 64\n",
            "activation: sigmoid\n",
            "dropout: 0.5\n",
            "learning_rate: 0.01\n",
            "Score: 0.07258064672350883\n"
          ]
        }
      ],
      "source": [
        "#Result summarized\n",
        "tuner.results_summary()\n"
      ]
    },
    {
      "cell_type": "code",
      "execution_count": null,
      "metadata": {
        "id": "WvbhHGXf_exR"
      },
      "outputs": [],
      "source": [
        "#saving the best hyperparamter use it later\n",
        "best_hp = tuner.get_best_hyperparameters()[0]"
      ]
    },
    {
      "cell_type": "code",
      "execution_count": null,
      "metadata": {
        "colab": {
          "base_uri": "https://localhost:8080/"
        },
        "id": "dBPr0Xmf_j05",
        "outputId": "dce3f489-e814-491a-a15e-a35ba055b40d"
      },
      "outputs": [
        {
          "output_type": "stream",
          "name": "stdout",
          "text": [
            "Model: \"sequential\"\n",
            "_________________________________________________________________\n",
            " Layer (type)                Output Shape              Param #   \n",
            "=================================================================\n",
            " conv2d (Conv2D)             (None, 26, 26, 96)        960       \n",
            "                                                                 \n",
            " batch_normalization (BatchN  (None, 26, 26, 96)       384       \n",
            " ormalization)                                                   \n",
            "                                                                 \n",
            " conv2d_1 (Conv2D)           (None, 24, 24, 96)        83040     \n",
            "                                                                 \n",
            " batch_normalization_1 (Batc  (None, 24, 24, 96)       384       \n",
            " hNormalization)                                                 \n",
            "                                                                 \n",
            " conv2d_2 (Conv2D)           (None, 12, 12, 96)        230496    \n",
            "                                                                 \n",
            " batch_normalization_2 (Batc  (None, 12, 12, 96)       384       \n",
            " hNormalization)                                                 \n",
            "                                                                 \n",
            " dropout (Dropout)           (None, 12, 12, 96)        0         \n",
            "                                                                 \n",
            " conv2d_3 (Conv2D)           (None, 10, 10, 96)        83040     \n",
            "                                                                 \n",
            " batch_normalization_3 (Batc  (None, 10, 10, 96)       384       \n",
            " hNormalization)                                                 \n",
            "                                                                 \n",
            " conv2d_4 (Conv2D)           (None, 8, 8, 96)          83040     \n",
            "                                                                 \n",
            " batch_normalization_4 (Batc  (None, 8, 8, 96)         384       \n",
            " hNormalization)                                                 \n",
            "                                                                 \n",
            " conv2d_5 (Conv2D)           (None, 4, 4, 96)          230496    \n",
            "                                                                 \n",
            " batch_normalization_5 (Batc  (None, 4, 4, 96)         384       \n",
            " hNormalization)                                                 \n",
            "                                                                 \n",
            " dropout_1 (Dropout)         (None, 4, 4, 96)          0         \n",
            "                                                                 \n",
            " conv2d_6 (Conv2D)           (None, 1, 1, 96)          147552    \n",
            "                                                                 \n",
            " batch_normalization_6 (Batc  (None, 1, 1, 96)         384       \n",
            " hNormalization)                                                 \n",
            "                                                                 \n",
            " flatten (Flatten)           (None, 96)                0         \n",
            "                                                                 \n",
            " dropout_2 (Dropout)         (None, 96)                0         \n",
            "                                                                 \n",
            " dense (Dense)               (None, 302)               29294     \n",
            "                                                                 \n",
            "=================================================================\n",
            "Total params: 890,606\n",
            "Trainable params: 889,262\n",
            "Non-trainable params: 1,344\n",
            "_________________________________________________________________\n"
          ]
        }
      ],
      "source": [
        "model = tuner.get_best_models()[0]\n",
        "model.build(best_hp)\n",
        "model.summary()"
      ]
    },
    {
      "cell_type": "code",
      "execution_count": null,
      "metadata": {
        "colab": {
          "base_uri": "https://localhost:8080/"
        },
        "id": "UE0Mtri1_mtX",
        "outputId": "e94a6f4d-1e6d-4127-d83d-9349892ec78f"
      },
      "outputs": [
        {
          "output_type": "stream",
          "name": "stdout",
          "text": [
            "Epoch 1/30\n"
          ]
        },
        {
          "output_type": "stream",
          "name": "stderr",
          "text": [
            "/usr/local/lib/python3.7/dist-packages/tensorflow/python/util/dispatch.py:1082: UserWarning: \"`categorical_crossentropy` received `from_logits=True`, but the `output` argument was produced by a sigmoid or softmax activation and thus does not represent logits. Was this intended?\"\n",
            "  return dispatch_target(*args, **kwargs)\n"
          ]
        },
        {
          "output_type": "stream",
          "name": "stdout",
          "text": [
            "2601/2601 [==============================] - 34s 13ms/step - loss: 0.5539 - accuracy: 0.8396 - val_loss: 0.3266 - val_accuracy: 0.9020\n",
            "Epoch 2/30\n",
            "2601/2601 [==============================] - 33s 13ms/step - loss: 0.4009 - accuracy: 0.8795 - val_loss: 0.2979 - val_accuracy: 0.9085\n",
            "Epoch 3/30\n",
            "2601/2601 [==============================] - 34s 13ms/step - loss: 0.3248 - accuracy: 0.9015 - val_loss: 0.2398 - val_accuracy: 0.9264\n",
            "Epoch 4/30\n",
            "2601/2601 [==============================] - 33s 13ms/step - loss: 0.2809 - accuracy: 0.9144 - val_loss: 0.2354 - val_accuracy: 0.9257\n",
            "Epoch 5/30\n",
            "2601/2601 [==============================] - 32s 12ms/step - loss: 0.2498 - accuracy: 0.9230 - val_loss: 0.2095 - val_accuracy: 0.9379\n",
            "Epoch 6/30\n",
            "2601/2601 [==============================] - 32s 12ms/step - loss: 0.2226 - accuracy: 0.9308 - val_loss: 0.1947 - val_accuracy: 0.9389\n",
            "Epoch 7/30\n",
            "2601/2601 [==============================] - 32s 12ms/step - loss: 0.2012 - accuracy: 0.9370 - val_loss: 1.5434 - val_accuracy: 0.7244\n",
            "Epoch 8/30\n",
            "2601/2601 [==============================] - 34s 13ms/step - loss: 0.1848 - accuracy: 0.9419 - val_loss: 0.1862 - val_accuracy: 0.9417\n",
            "Epoch 9/30\n",
            "2601/2601 [==============================] - 33s 13ms/step - loss: 0.1711 - accuracy: 0.9457 - val_loss: 0.1949 - val_accuracy: 0.9475\n",
            "Epoch 10/30\n",
            "2601/2601 [==============================] - 34s 13ms/step - loss: 0.1607 - accuracy: 0.9476 - val_loss: 0.1904 - val_accuracy: 0.9435\n",
            "Epoch 11/30\n",
            "2601/2601 [==============================] - 32s 12ms/step - loss: 0.1513 - accuracy: 0.9515 - val_loss: 0.3800 - val_accuracy: 0.9001\n",
            "Epoch 12/30\n",
            "2601/2601 [==============================] - 32s 12ms/step - loss: 0.1391 - accuracy: 0.9557 - val_loss: 0.1804 - val_accuracy: 0.9509\n",
            "Epoch 13/30\n",
            "2601/2601 [==============================] - 34s 13ms/step - loss: 0.1351 - accuracy: 0.9562 - val_loss: 0.1851 - val_accuracy: 0.9507\n",
            "Epoch 14/30\n",
            "2601/2601 [==============================] - 32s 12ms/step - loss: 0.1275 - accuracy: 0.9583 - val_loss: 0.1853 - val_accuracy: 0.9498\n",
            "Epoch 15/30\n",
            "2601/2601 [==============================] - 32s 12ms/step - loss: 0.1211 - accuracy: 0.9602 - val_loss: 0.1689 - val_accuracy: 0.9527\n",
            "Epoch 16/30\n",
            "2601/2601 [==============================] - 33s 13ms/step - loss: 0.1136 - accuracy: 0.9624 - val_loss: 0.1941 - val_accuracy: 0.9517\n",
            "Epoch 17/30\n",
            "2601/2601 [==============================] - 33s 13ms/step - loss: 0.1075 - accuracy: 0.9648 - val_loss: 0.1847 - val_accuracy: 0.9513\n",
            "Epoch 18/30\n",
            "2601/2601 [==============================] - 32s 12ms/step - loss: 0.1041 - accuracy: 0.9655 - val_loss: 0.2135 - val_accuracy: 0.9430\n",
            "Epoch 19/30\n",
            "2601/2601 [==============================] - 32s 12ms/step - loss: 0.0989 - accuracy: 0.9675 - val_loss: 0.2117 - val_accuracy: 0.9448\n",
            "Epoch 20/30\n",
            "2601/2601 [==============================] - 33s 13ms/step - loss: 0.0935 - accuracy: 0.9691 - val_loss: 0.1790 - val_accuracy: 0.9543\n",
            "Epoch 21/30\n",
            "2601/2601 [==============================] - 33s 13ms/step - loss: 0.0936 - accuracy: 0.9693 - val_loss: 0.1958 - val_accuracy: 0.9506\n",
            "Epoch 22/30\n",
            "2601/2601 [==============================] - 33s 13ms/step - loss: 0.0913 - accuracy: 0.9693 - val_loss: 0.1848 - val_accuracy: 0.9532\n",
            "Epoch 23/30\n",
            "2601/2601 [==============================] - 34s 13ms/step - loss: 0.0853 - accuracy: 0.9716 - val_loss: 0.1892 - val_accuracy: 0.9528\n",
            "Epoch 24/30\n",
            "2601/2601 [==============================] - 32s 12ms/step - loss: 0.0815 - accuracy: 0.9727 - val_loss: 0.1784 - val_accuracy: 0.9533\n",
            "Epoch 25/30\n",
            "2601/2601 [==============================] - 32s 12ms/step - loss: 0.0808 - accuracy: 0.9727 - val_loss: 0.1965 - val_accuracy: 0.9532\n",
            "Epoch 26/30\n",
            "2601/2601 [==============================] - 32s 12ms/step - loss: 0.0773 - accuracy: 0.9740 - val_loss: 0.1989 - val_accuracy: 0.9533\n",
            "Epoch 27/30\n",
            "2601/2601 [==============================] - 33s 13ms/step - loss: 0.0754 - accuracy: 0.9748 - val_loss: 0.1967 - val_accuracy: 0.9505\n",
            "Epoch 28/30\n",
            "2601/2601 [==============================] - 32s 12ms/step - loss: 0.0707 - accuracy: 0.9761 - val_loss: 0.1943 - val_accuracy: 0.9528\n",
            "Epoch 29/30\n",
            "2601/2601 [==============================] - 32s 12ms/step - loss: 0.0704 - accuracy: 0.9763 - val_loss: 0.2058 - val_accuracy: 0.9503\n",
            "Epoch 30/30\n",
            "2601/2601 [==============================] - 33s 13ms/step - loss: 0.0670 - accuracy: 0.9769 - val_loss: 0.1965 - val_accuracy: 0.9538\n",
            "Execution time: 1043.3866107463837 sec\n"
          ]
        }
      ],
      "source": [
        "tf.keras.backend.reset_uids()\n",
        "# Build the model with the optimal hyperparameters and train it on the data for 30 epochs\n",
        "import time\n",
        "start_time = time.time()\n",
        "# fit the model\n",
        "history1 = model.fit(\n",
        "  train_X,\n",
        "  train_Y,\n",
        "  validation_data=(val_X,val_Y),\n",
        "  epochs=30,\n",
        "  batch_size=32,shuffle=True)\n",
        "print(\"Execution time: \" + str((time.time() - start_time)) + ' sec')"
      ]
    },
    {
      "cell_type": "code",
      "execution_count": null,
      "metadata": {
        "id": "sXBZqGayQPfq",
        "colab": {
          "base_uri": "https://localhost:8080/"
        },
        "outputId": "5a67d3f9-889b-4cb9-bf34-df085f6831a7"
      },
      "outputs": [
        {
          "output_type": "stream",
          "name": "stdout",
          "text": [
            "334/334 [==============================] - 2s 6ms/step - loss: 0.1779 - accuracy: 0.9602\n"
          ]
        },
        {
          "output_type": "execute_result",
          "data": {
            "text/plain": [
              "[0.1778588443994522, 0.9601537585258484]"
            ]
          },
          "metadata": {},
          "execution_count": 33
        }
      ],
      "source": [
        "#Testing a model with unseen data\n",
        "model.evaluate(test_X,test_Y,batch_size=32)"
      ]
    },
    {
      "cell_type": "code",
      "execution_count": null,
      "metadata": {
        "id": "-cLaIsXySIR-",
        "colab": {
          "base_uri": "https://localhost:8080/",
          "height": 265
        },
        "outputId": "64a6c263-26e8-492c-a6ee-eda56f3e2f70"
      },
      "outputs": [
        {
          "output_type": "display_data",
          "data": {
            "text/plain": [
              "<Figure size 432x288 with 1 Axes>"
            ],
            "image/png": "[encoded data removed]"
          },
          "metadata": {
            "needs_background": "light"
          }
        }
      ],
      "source": [
        "# Plot an accuracies\n",
        "plt.plot(history1.history['accuracy'], label='train acc')\n",
        "plt.plot(history1.history['val_accuracy'], label='val acc')\n",
        "plt.legend()\n",
        "\n",
        "plt.savefig('/content/drive/MyDrive/Hybrid Amharic Character Dataset1/Figure/acc-rps-RS.svg')\n",
        "plt.show()"
      ]
    },
    {
      "cell_type": "code",
      "execution_count": null,
      "metadata": {
        "id": "kNQmo6q0Sp0X",
        "colab": {
          "base_uri": "https://localhost:8080/",
          "height": 267
        },
        "outputId": "f2262629-a255-480a-ad79-3c5106c3ba3e"
      },
      "outputs": [
        {
          "output_type": "display_data",
          "data": {
            "text/plain": [
              "<Figure size 432x288 with 1 Axes>"
            ],
            "image/png": "[encoded data removed]"
          },
          "metadata": {
            "needs_background": "light"
          }
        }
      ],
      "source": [
        "# loss\n",
        "plt.plot(history1.history['loss'], label='train loss')\n",
        "plt.plot(history1.history['val_loss'], label='val loss')\n",
        "plt.legend()\n",
        "\n",
        "plt.savefig('/content/drive/MyDrive/Hybrid Amharic Character Dataset1/Figure/loss-rps-RS.svg')\n",
        "plt.show()"
      ]
    },
    {
      "cell_type": "code",
      "source": [
        "#Saving the model\n",
        "model.save(\"/content/drive/MyDrive/Hybrid Amharic Character Dataset1/Figure/AmharicModel.h5\") #using h5 extension\n",
        "print(\"model saved!!!\")"
      ],
      "metadata": {
        "id": "qK489b2XQIdZ"
      },
      "execution_count": null,
      "outputs": []
    }
  ],
  "metadata": {
    "accelerator": "GPU",
    "colab": {
      "provenance": []
    },
    "gpuClass": "standard",
    "kernelspec": {
      "display_name": "Python 3",
      "name": "python3"
    },
    "language_info": {
      "name": "python"
    }
  },
  "nbformat": 4,
  "nbformat_minor": 0
}