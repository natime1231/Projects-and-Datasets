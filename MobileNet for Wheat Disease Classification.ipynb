{
  "nbformat": 4,
  "nbformat_minor": 0,
  "metadata": {
    "accelerator": "GPU",
    "colab": {
      "provenance": []
    },
    "kernelspec": {
      "display_name": "Python 3",
      "name": "python3"
    },
    "language_info": {
      "name": "python"
    }
  },
  "cells": [
    {
      "cell_type": "markdown",
      "source": [
        "A biniary diasease classification probelm: the model built using CNN pretrained model called MobileNet."
      ],
      "metadata": {
        "id": "BStPwW0yH6wC"
      }
    },
    {
      "cell_type": "code",
      "metadata": {
        "id": "KFW3ghSCKEHV",
        "colab": {
          "base_uri": "https://localhost:8080/"
        },
        "outputId": "3ae73e21-2e2a-4e0e-9571-1b6be6e8358b"
      },
      "source": [
        "#Mouting a google drive\n",
        "from google.colab import drive\n",
        "drive.mount('/content/drive')"
      ],
      "execution_count": null,
      "outputs": [
        {
          "output_type": "stream",
          "name": "stdout",
          "text": [
            "Mounted at /content/drive\n"
          ]
        }
      ]
    },
    {
      "cell_type": "code",
      "metadata": {
        "id": "WrVYdqH60E1D"
      },
      "source": [
        "# Imporitng all the necessary libraries\n",
        "import numpy as np\n",
        "import itertools\n",
        "import keras\n",
        "from sklearn import metrics\n",
        "from sklearn.metrics import confusion_matrix\n",
        "from keras.preprocessing.image import ImageDataGenerator, img_to_array, load_img\n",
        "from keras.models import Sequential\n",
        "from keras import optimizers\n",
        "from keras.preprocessing import image\n",
        "from keras.layers import Dropout, Flatten, Dense\n"
      ],
      "execution_count": null,
      "outputs": []
    },
    {
      "cell_type": "code",
      "metadata": {
        "id": "iP_uCbyg0OVJ"
      },
      "source": [
        "from keras import applications\n",
        "from keras.utils.np_utils import to_categorical\n",
        "import matplotlib.pyplot as plt\n",
        "import matplotlib.image as mpimg\n",
        "from keras.models import load_model\n",
        "#%matplotlib inline"
      ],
      "execution_count": null,
      "outputs": []
    },
    {
      "cell_type": "code",
      "metadata": {
        "id": "ZM5Kg7ka0Sm6"
      },
      "source": [
        "import math\n",
        "import datetime\n",
        "import time"
      ],
      "execution_count": null,
      "outputs": []
    },
    {
      "cell_type": "code",
      "metadata": {
        "id": "vpfEJ5Yh0XdL"
      },
      "source": [
        "#Dimensions\n",
        "img_width, img_height = 150, 150\n",
        "\n",
        "# loading up our datasets\n",
        "train_data_dir = r'/content/drive/MyDrive/output/Banana_Data/train'\n",
        "validation_data_dir =  r'/content/drive/MyDrive/output/Banana_Data/val'\n",
        "test_data_dir = r'/content/drive/MyDrive/output/Banana_Data/test'\n",
        "\n",
        "\n",
        "# number of epochs to train top model\n",
        "epochs = 30 #this has been changed after multiple model run\n",
        "# batch size used by flow_from_directory and predict_generator\n",
        "batch_size = 32"
      ],
      "execution_count": null,
      "outputs": []
    },
    {
      "cell_type": "code",
      "metadata": {
        "colab": {
          "base_uri": "https://localhost:8080/"
        },
        "id": "l3Dk8jdp0yEs",
        "outputId": "325601d2-b53d-4edb-a7ab-3dc683e50885"
      },
      "source": [
        "!pip install Keras-Applications"
      ],
      "execution_count": null,
      "outputs": [
        {
          "output_type": "stream",
          "name": "stdout",
          "text": [
            "Collecting Keras-Applications\n",
            "  Downloading Keras_Applications-1.0.8-py3-none-any.whl (50 kB)\n",
            "\u001b[?25l\r\u001b[K     |██████▌                         | 10 kB 22.3 MB/s eta 0:00:01\r\u001b[K     |█████████████                   | 20 kB 11.3 MB/s eta 0:00:01\r\u001b[K     |███████████████████▍            | 30 kB 9.2 MB/s eta 0:00:01\r\u001b[K     |█████████████████████████▉      | 40 kB 8.4 MB/s eta 0:00:01\r\u001b[K     |████████████████████████████████| 50 kB 2.9 MB/s \n",
            "\u001b[?25hRequirement already satisfied: numpy>=1.9.1 in /usr/local/lib/python3.7/dist-packages (from Keras-Applications) (1.19.5)\n",
            "Requirement already satisfied: h5py in /usr/local/lib/python3.7/dist-packages (from Keras-Applications) (3.1.0)\n",
            "Requirement already satisfied: cached-property in /usr/local/lib/python3.7/dist-packages (from h5py->Keras-Applications) (1.5.2)\n",
            "Installing collected packages: Keras-Applications\n",
            "Successfully installed Keras-Applications-1.0.8\n"
          ]
        }
      ]
    },
    {
      "cell_type": "code",
      "metadata": {
        "colab": {
          "base_uri": "https://localhost:8080/"
        },
        "id": "oD53d6N005Xb",
        "outputId": "0e78e750-6c16-482c-cc41-2a9b7b074782"
      },
      "source": [
        "!pip install mobilenet-v3"
      ],
      "execution_count": null,
      "outputs": [
        {
          "output_type": "stream",
          "name": "stdout",
          "text": [
            "Collecting mobilenet-v3\n",
            "  Downloading mobilenet_v3-0.1.4-py3-none-any.whl (18 kB)\n",
            "Installing collected packages: mobilenet-v3\n",
            "Successfully installed mobilenet-v3-0.1.4\n"
          ]
        }
      ]
    },
    {
      "cell_type": "code",
      "metadata": {
        "colab": {
          "base_uri": "https://localhost:8080/"
        },
        "id": "EjXza7Jx0-NB",
        "outputId": "7fd1fee7-63d9-4803-90ab-590e419b3ab2"
      },
      "source": [
        "#Loading MobileNet model: It's a pretrained model for training the neural network\n",
        "from keras.applications.mobilenet import MobileNet\n",
        "mobilenet = MobileNet(weights='imagenet', include_top=False)"
      ],
      "execution_count": null,
      "outputs": [
        {
          "output_type": "stream",
          "name": "stdout",
          "text": [
            "WARNING:tensorflow:`input_shape` is undefined or non-square, or `rows` is not in [128, 160, 192, 224]. Weights for input shape (224, 224) will be loaded as the default.\n",
            "Downloading data from https://storage.googleapis.com/tensorflow/keras-applications/mobilenet/mobilenet_1_0_224_tf_no_top.h5\n",
            "17227776/17225924 [==============================] - 0s 0us/step\n",
            "17235968/17225924 [==============================] - 0s 0us/step\n"
          ]
        }
      ]
    },
    {
      "cell_type": "code",
      "metadata": {
        "id": "lV_htvhb1Cii"
      },
      "source": [
        "# Data generation for three data partitions (Training, validation, and testing)\n",
        "datagen = ImageDataGenerator(rescale=1. / 255)  #needed to create the bottleneck .npy files\n",
        "datagen_2=ImageDataGenerator(rescale=1./255,\n",
        "      rotation_range=40,\n",
        "      width_shift_range=0.2,\n",
        "      height_shift_range=0.2,\n",
        "      shear_range=0.2,\n",
        "      zoom_range=0.2,\n",
        "      horizontal_flip=True,\n",
        "      fill_mode='nearest')\n"
      ],
      "execution_count": null,
      "outputs": []
    },
    {
      "cell_type": "code",
      "metadata": {
        "colab": {
          "base_uri": "https://localhost:8080/"
        },
        "id": "J5Ne4K6T1Ivi",
        "outputId": "389878c0-93c6-41b1-95f9-2b83c77195be"
      },
      "source": [
        "\n",
        "#once the npy files have been created, no need to run again. Convert this cell to a code cell to run.__\n",
        "import tensorflow as tf\n",
        "start = datetime.datetime.now()\n",
        "\n",
        "generator = datagen_2.flow_from_directory(\n",
        "     train_data_dir,\n",
        "     target_size=(img_width, img_height),\n",
        "     batch_size=batch_size,\n",
        "     class_mode='categorical',\n",
        "     shuffle=False)\n",
        "\n",
        "nb_train_samples = len(generator.filenames)\n",
        "num_classes = len(generator.class_indices)\n",
        "\n",
        "predict_size_train = int(math.ceil(nb_train_samples / batch_size))\n",
        "\n",
        "bottleneck_features_train = mobilenet.predict_generator(generator, predict_size_train)\n",
        "\n",
        "np.save(r'/content/drive/MyDrive/Yordi_Research/Mobilenet/mobiletraining.npy', bottleneck_features_train)\n",
        "end= datetime.datetime.now()\n",
        "elapsed= end-start\n",
        "print ('Time: ', elapsed)"
      ],
      "execution_count": null,
      "outputs": [
        {
          "output_type": "stream",
          "name": "stdout",
          "text": [
            "Found 1585 images belonging to 3 classes.\n"
          ]
        },
        {
          "output_type": "stream",
          "name": "stderr",
          "text": [
            "/usr/local/lib/python3.7/dist-packages/keras/engine/training.py:2035: UserWarning: `Model.predict_generator` is deprecated and will be removed in a future version. Please use `Model.predict`, which supports generators.\n",
            "  warnings.warn('`Model.predict_generator` is deprecated and '\n"
          ]
        },
        {
          "output_type": "stream",
          "name": "stdout",
          "text": [
            "Time:  0:07:17.715583\n"
          ]
        }
      ]
    },
    {
      "cell_type": "code",
      "metadata": {
        "colab": {
          "base_uri": "https://localhost:8080/"
        },
        "id": "UyTy54tt1vdc",
        "outputId": "a1fe0b73-13de-4f3f-9203-97ccd31bb8b3"
      },
      "source": [
        "# once the npy files have been created, no need to run again. Convert this cell to a code cell to run.__\n",
        "\n",
        "start = datetime.datetime.now()\n",
        "generator = datagen.flow_from_directory(\n",
        "     validation_data_dir,\n",
        "     target_size=(img_width, img_height),\n",
        "     batch_size=batch_size,\n",
        "     class_mode='categorical',\n",
        "     shuffle=False)\n",
        "\n",
        "nb_validation_samples = len(generator.filenames)\n",
        "\n",
        "predict_size_validation = int(math.ceil(nb_validation_samples / batch_size))\n",
        "\n",
        "bottleneck_features_validation = mobilenet.predict_generator(\n",
        "     generator, predict_size_validation)\n",
        "\n",
        "np.save(r'/content/drive/MyDrive/Yordi_Research/Mobilenet/mobilevalidation.npy', bottleneck_features_validation)\n",
        "end= datetime.datetime.now()\n",
        "elapsed= end-start\n",
        "print ('Time: ', elapsed)"
      ],
      "execution_count": null,
      "outputs": [
        {
          "output_type": "stream",
          "name": "stdout",
          "text": [
            "Found 197 images belonging to 3 classes.\n"
          ]
        },
        {
          "output_type": "stream",
          "name": "stderr",
          "text": [
            "/usr/local/lib/python3.7/dist-packages/keras/engine/training.py:2035: UserWarning: `Model.predict_generator` is deprecated and will be removed in a future version. Please use `Model.predict`, which supports generators.\n",
            "  warnings.warn('`Model.predict_generator` is deprecated and '\n"
          ]
        },
        {
          "output_type": "stream",
          "name": "stdout",
          "text": [
            "Time:  0:00:49.710072\n"
          ]
        }
      ]
    },
    {
      "cell_type": "code",
      "metadata": {
        "colab": {
          "base_uri": "https://localhost:8080/"
        },
        "id": "kyaqe10b2OS_",
        "outputId": "85375e64-8958-4abb-9281-e1fe97e31e39"
      },
      "source": [
        "# once the npy files have been created, no need to run again. Convert this cell to a code cell to run.__\n",
        "\n",
        "start = datetime.datetime.now()\n",
        "generator = datagen.flow_from_directory(\n",
        "     test_data_dir,\n",
        "     target_size=(img_width, img_height),\n",
        "     batch_size=batch_size,\n",
        "     class_mode='categorical',\n",
        "     shuffle=False)\n",
        "\n",
        "nb_test_samples = len(generator.filenames)\n",
        "\n",
        "predict_size_test = int(math.ceil(nb_test_samples / batch_size))\n",
        "\n",
        "bottleneck_features_test = mobilenet.predict_generator(\n",
        "     generator, predict_size_test)\n",
        "\n",
        "np.save(r'/content/drive/MyDrive/Yordi_Research/Mobilenet/mobiletesting.npy', bottleneck_features_test)\n",
        "end= datetime.datetime.now()\n",
        "elapsed= end-start\n",
        "print ('Time: ', elapsed)"
      ],
      "execution_count": null,
      "outputs": [
        {
          "output_type": "stream",
          "name": "stdout",
          "text": [
            "Found 200 images belonging to 3 classes.\n"
          ]
        },
        {
          "output_type": "stream",
          "name": "stderr",
          "text": [
            "/usr/local/lib/python3.7/dist-packages/keras/engine/training.py:2035: UserWarning: `Model.predict_generator` is deprecated and will be removed in a future version. Please use `Model.predict`, which supports generators.\n",
            "  warnings.warn('`Model.predict_generator` is deprecated and '\n"
          ]
        },
        {
          "output_type": "stream",
          "name": "stdout",
          "text": [
            "Time:  0:00:49.795963\n"
          ]
        }
      ]
    },
    {
      "cell_type": "code",
      "metadata": {
        "colab": {
          "base_uri": "https://localhost:8080/"
        },
        "id": "XrCvbbSw2tUL",
        "outputId": "fb8bea42-ca02-4734-e740-cfc863b1f90c"
      },
      "source": [
        "#training data\n",
        "generator_top = datagen_2.flow_from_directory(\n",
        "         train_data_dir,\n",
        "         target_size=(img_width, img_height),\n",
        "         batch_size=batch_size,\n",
        "         class_mode='categorical',\n",
        "         shuffle=False)\n",
        "\n",
        "nb_train_samples = len(generator_top.filenames)\n",
        "num_classes = len(generator_top.class_indices)\n",
        "\n",
        "# load the features saved earlier\n",
        "train_data = np.load(r'/content/drive/MyDrive/Yordi_Research/Mobilenet/mobiletraining.npy')\n",
        "\n",
        "# get the class lBLE for the training data, in the original order\n",
        "train_labels = generator_top.classes\n",
        "\n",
        "# convert the training labels to categorical vectors\n",
        "train_labels = to_categorical(train_labels, num_classes=num_classes)"
      ],
      "execution_count": null,
      "outputs": [
        {
          "output_type": "stream",
          "name": "stdout",
          "text": [
            "Found 1585 images belonging to 3 classes.\n"
          ]
        }
      ]
    },
    {
      "cell_type": "code",
      "metadata": {
        "colab": {
          "base_uri": "https://localhost:8080/"
        },
        "id": "wTkN8-Rw27kS",
        "outputId": "c6d5c84e-0bfb-4b81-fde0-cdc69b358c16"
      },
      "source": [
        "#validation data\n",
        "generator_top = datagen.flow_from_directory(\n",
        "         validation_data_dir,\n",
        "         target_size=(img_width, img_height),\n",
        "         batch_size=batch_size,\n",
        "         class_mode='categorical',\n",
        "         shuffle=False)\n",
        "\n",
        "nb_validation_samples = len(generator_top.filenames)\n",
        "\n",
        "validation_data = np.load(r'/content/drive/MyDrive/Yordi_Research/Mobilenet/mobilevalidation.npy')\n",
        "\n",
        "\n",
        "validation_labels = generator_top.classes\n",
        "validation_labels = to_categorical(validation_labels, num_classes=num_classes)"
      ],
      "execution_count": null,
      "outputs": [
        {
          "output_type": "stream",
          "name": "stdout",
          "text": [
            "Found 197 images belonging to 3 classes.\n"
          ]
        }
      ]
    },
    {
      "cell_type": "code",
      "metadata": {
        "colab": {
          "base_uri": "https://localhost:8080/"
        },
        "id": "m_U3pReY3J3b",
        "outputId": "5d0c7777-200b-42f6-c553-74310fc56b88"
      },
      "source": [
        "#testing\n",
        "generator_top = datagen.flow_from_directory(\n",
        "         test_data_dir,\n",
        "         target_size=(img_width, img_height),\n",
        "         batch_size=batch_size,\n",
        "         class_mode='categorical',\n",
        "         shuffle=False)\n",
        "\n",
        "nb_test_samples = len(generator_top.filenames)\n",
        "\n",
        "test_data = np.load(r'/content/drive/MyDrive/Yordi_Research/Mobilenet/mobiletesting.npy')\n",
        "\n",
        "\n",
        "test_labels = generator_top.classes\n",
        "test_labels = to_categorical(test_labels, num_classes=num_classes)"
      ],
      "execution_count": null,
      "outputs": [
        {
          "output_type": "stream",
          "name": "stdout",
          "text": [
            "Found 200 images belonging to 3 classes.\n"
          ]
        }
      ]
    },
    {
      "cell_type": "code",
      "metadata": {
        "id": "IGrJ3HAt3enK"
      },
      "source": [
        "#Training the model\n",
        "#This is the best model we found.\n",
        "from tensorflow.keras import regularizers\n",
        "from keras import optimizers\n",
        "start = datetime.datetime.now()\n",
        "model = Sequential()\n",
        "model.add(Flatten(input_shape=train_data.shape[1:]))\n",
        "model.add(Dense(100, activation='relu'))\n",
        "model.add(Dropout(0.5))\n",
        "model.add(Dense(100, activation='relu'))\n",
        "model.add(Dropout(0.5))\n",
        "model.add(Dense(2, activation='sigmoid'))\n",
        "\n",
        "model.compile(loss='binary_crossentropy', optimizer=tf.keras.optimizers.Adam(learning_rate=0.001), metrics=['acc'])\n"
      ],
      "execution_count": null,
      "outputs": []
    },
    {
      "cell_type": "code",
      "metadata": {
        "colab": {
          "base_uri": "https://localhost:8080/"
        },
        "id": "ECsucK1D42Ty",
        "outputId": "3f62f8af-48af-4197-f3ed-79581b86205b"
      },
      "source": [
        "top_model_weights_path='/content/drive/MyDrive/Yordi_Research/Mobilenet/mobilenet.h5'\n",
        "history = model.fit(train_data, train_labels,\n",
        "      epochs=30,\n",
        "      batch_size=batch_size,\n",
        "      validation_data=(validation_data, validation_labels))\n",
        "\n",
        "model.save_weights(top_model_weights_path)\n",
        "\n",
        "(eval_loss, eval_accuracy) = model.evaluate(validation_data, validation_labels, batch_size=batch_size, verbose=1)\n",
        "\n",
        "print(\"[INFO] accuracy: {:.2f}%\".format(eval_accuracy * 100))\n",
        "print(\"[INFO] Loss: {}\".format(eval_loss))\n",
        "end= datetime.datetime.now()\n",
        "elapsed= end-start\n",
        "print ('Time: ', elapsed)"
      ],
      "execution_count": null,
      "outputs": [
        {
          "output_type": "stream",
          "name": "stdout",
          "text": [
            "Epoch 1/30\n",
            "50/50 [==============================] - 1s 11ms/step - loss: 2.0211 - acc: 0.4871 - val_loss: 0.9366 - val_acc: 0.6193\n",
            "Epoch 2/30\n",
            "50/50 [==============================] - 0s 6ms/step - loss: 1.0441 - acc: 0.5773 - val_loss: 0.8986 - val_acc: 0.6193\n",
            "Epoch 3/30\n",
            "50/50 [==============================] - 0s 6ms/step - loss: 0.9864 - acc: 0.5767 - val_loss: 0.9057 - val_acc: 0.6294\n",
            "Epoch 4/30\n",
            "50/50 [==============================] - 0s 6ms/step - loss: 0.9500 - acc: 0.5950 - val_loss: 0.8605 - val_acc: 0.6142\n",
            "Epoch 5/30\n",
            "50/50 [==============================] - 0s 6ms/step - loss: 0.9289 - acc: 0.6126 - val_loss: 0.8754 - val_acc: 0.6294\n",
            "Epoch 6/30\n",
            "50/50 [==============================] - 0s 6ms/step - loss: 0.9179 - acc: 0.6227 - val_loss: 0.8246 - val_acc: 0.6802\n",
            "Epoch 7/30\n",
            "50/50 [==============================] - 0s 7ms/step - loss: 0.8537 - acc: 0.6385 - val_loss: 0.8339 - val_acc: 0.6396\n",
            "Epoch 8/30\n",
            "50/50 [==============================] - 0s 6ms/step - loss: 0.8745 - acc: 0.6309 - val_loss: 0.8696 - val_acc: 0.6091\n",
            "Epoch 9/30\n",
            "50/50 [==============================] - 0s 6ms/step - loss: 0.8822 - acc: 0.6183 - val_loss: 0.8294 - val_acc: 0.6396\n",
            "Epoch 10/30\n",
            "50/50 [==============================] - 0s 6ms/step - loss: 0.8754 - acc: 0.6303 - val_loss: 0.8163 - val_acc: 0.6244\n",
            "Epoch 11/30\n",
            "50/50 [==============================] - 0s 6ms/step - loss: 0.8318 - acc: 0.6606 - val_loss: 0.7220 - val_acc: 0.7157\n",
            "Epoch 12/30\n",
            "50/50 [==============================] - 0s 6ms/step - loss: 0.7938 - acc: 0.6871 - val_loss: 0.7687 - val_acc: 0.7107\n",
            "Epoch 13/30\n",
            "50/50 [==============================] - 0s 6ms/step - loss: 0.8299 - acc: 0.6498 - val_loss: 0.7465 - val_acc: 0.7005\n",
            "Epoch 14/30\n",
            "50/50 [==============================] - 0s 6ms/step - loss: 0.8045 - acc: 0.6814 - val_loss: 0.8014 - val_acc: 0.6701\n",
            "Epoch 15/30\n",
            "50/50 [==============================] - 0s 7ms/step - loss: 0.8292 - acc: 0.6467 - val_loss: 0.8784 - val_acc: 0.6650\n",
            "Epoch 16/30\n",
            "50/50 [==============================] - 0s 6ms/step - loss: 0.8118 - acc: 0.6644 - val_loss: 0.7907 - val_acc: 0.7005\n",
            "Epoch 17/30\n",
            "50/50 [==============================] - 0s 6ms/step - loss: 0.7904 - acc: 0.6795 - val_loss: 0.8246 - val_acc: 0.6548\n",
            "Epoch 18/30\n",
            "50/50 [==============================] - 0s 6ms/step - loss: 0.7960 - acc: 0.6820 - val_loss: 0.7562 - val_acc: 0.7107\n",
            "Epoch 19/30\n",
            "50/50 [==============================] - 0s 6ms/step - loss: 0.7593 - acc: 0.6959 - val_loss: 1.4736 - val_acc: 0.6701\n",
            "Epoch 20/30\n",
            "50/50 [==============================] - 0s 6ms/step - loss: 0.7718 - acc: 0.6864 - val_loss: 0.7326 - val_acc: 0.6802\n",
            "Epoch 21/30\n",
            "50/50 [==============================] - 0s 6ms/step - loss: 0.7344 - acc: 0.7161 - val_loss: 0.7295 - val_acc: 0.7005\n",
            "Epoch 22/30\n",
            "50/50 [==============================] - 0s 7ms/step - loss: 0.7218 - acc: 0.7123 - val_loss: 0.7915 - val_acc: 0.6954\n",
            "Epoch 23/30\n",
            "50/50 [==============================] - 0s 6ms/step - loss: 0.7505 - acc: 0.7035 - val_loss: 0.7356 - val_acc: 0.7005\n",
            "Epoch 24/30\n",
            "50/50 [==============================] - 0s 6ms/step - loss: 0.6951 - acc: 0.7350 - val_loss: 0.8588 - val_acc: 0.7411\n",
            "Epoch 25/30\n",
            "50/50 [==============================] - 0s 6ms/step - loss: 0.7254 - acc: 0.7325 - val_loss: 0.7603 - val_acc: 0.7208\n",
            "Epoch 26/30\n",
            "50/50 [==============================] - 0s 6ms/step - loss: 0.7291 - acc: 0.7136 - val_loss: 0.7343 - val_acc: 0.7259\n",
            "Epoch 27/30\n",
            "50/50 [==============================] - 0s 6ms/step - loss: 0.6974 - acc: 0.7319 - val_loss: 0.8374 - val_acc: 0.7310\n",
            "Epoch 28/30\n",
            "50/50 [==============================] - 0s 7ms/step - loss: 0.6829 - acc: 0.7445 - val_loss: 0.8311 - val_acc: 0.7310\n",
            "Epoch 29/30\n",
            "50/50 [==============================] - 0s 6ms/step - loss: 0.6676 - acc: 0.7457 - val_loss: 0.9699 - val_acc: 0.7310\n",
            "Epoch 30/30\n",
            "50/50 [==============================] - 0s 6ms/step - loss: 0.6856 - acc: 0.7470 - val_loss: 0.6747 - val_acc: 0.7513\n",
            "7/7 [==============================] - 0s 4ms/step - loss: 0.6747 - acc: 0.7513\n",
            "[INFO] accuracy: 75.13%\n",
            "[INFO] Loss: 0.6747048497200012\n",
            "Time:  0:00:16.297185\n"
          ]
        }
      ]
    },
    {
      "cell_type": "code",
      "metadata": {
        "id": "cbDotNzJ6waq"
      },
      "source": [
        "#Model summary\n",
        "model.summary()"
      ],
      "execution_count": null,
      "outputs": []
    },
    {
      "cell_type": "code",
      "metadata": {
        "colab": {
          "base_uri": "https://localhost:8080/",
          "height": 573
        },
        "id": "syv1VjU067VD",
        "outputId": "414a24e9-1f8f-4079-d744-48ad93db6c2a"
      },
      "source": [
        "#Graphing our training and validation\n",
        "acc = history.history['acc']\n",
        "val_acc = history.history['val_acc']\n",
        "loss = history.history['loss']\n",
        "val_loss = history.history['val_loss']\n",
        "epochs = range(len(acc))\n",
        "plt.plot(epochs, acc, 'r', label='Training acc')\n",
        "plt.plot(epochs, val_acc, 'b', label='Validation acc')\n",
        "plt.title('Training and validation acc')\n",
        "plt.ylabel('Accuracy')\n",
        "plt.xlabel('Epoch')\n",
        "plt.legend()\n",
        "plt.figure()\n",
        "plt.plot(epochs, loss, 'r', label='Training loss')\n",
        "plt.plot(epochs, val_loss, 'b', label='Validation loss')\n",
        "plt.title('Training and validation loss')\n",
        "plt.ylabel('Loss')\n",
        "plt.xlabel('Epoch')\n",
        "plt.legend()\n",
        "plt.show()"
      ],
      "execution_count": null,
      "outputs": [
        {
          "output_type": "display_data",
          "data": {
            "image/png": "[encoded data removed]",
            "text/plain": [
              "<Figure size 432x288 with 1 Axes>"
            ]
          },
          "metadata": {
            "needs_background": "light"
          }
        },
        {
          "output_type": "display_data",
          "data": {
            "image/png": "[encoded data removed]",
            "text/plain": [
              "<Figure size 432x288 with 1 Axes>"
            ]
          },
          "metadata": {
            "needs_background": "light"
          }
        }
      ]
    },
    {
      "cell_type": "code",
      "metadata": {
        "colab": {
          "base_uri": "https://localhost:8080/"
        },
        "id": "-aHf_9Wn7aYS",
        "outputId": "e464717f-3c52-4c8e-9c30-ca5534985a16"
      },
      "source": [
        "#Classification metrics and confussion matrix\n",
        "print('test data', validation_data)\n",
        "preds = np.round(model.predict(validation_data),0)\n",
        "#to fit them into classification metrics and confusion metrics, some additional modificaitions are required\n",
        "print('rounded test_labels', preds)"
      ],
      "execution_count": null,
      "outputs": [
        {
          "output_type": "stream",
          "name": "stdout",
          "text": [
            "test data [[[[3.4156835  0.         0.         ... 0.         2.224344\n",
            "    2.017618  ]\n",
            "   [2.1891303  0.         0.         ... 0.         0.\n",
            "    0.3450358 ]\n",
            "   [1.0649934  0.         0.         ... 0.         0.\n",
            "    0.        ]\n",
            "   [2.2659845  0.         0.         ... 0.         0.\n",
            "    0.3644494 ]]\n",
            "\n",
            "  [[3.1788182  0.         0.         ... 0.         0.\n",
            "    0.        ]\n",
            "   [0.         0.         0.         ... 0.         0.\n",
            "    0.        ]\n",
            "   [0.         0.         0.         ... 0.         0.\n",
            "    0.        ]\n",
            "   [0.         0.         0.         ... 0.         0.\n",
            "    1.1320149 ]]\n",
            "\n",
            "  [[0.         0.         0.         ... 0.         0.\n",
            "    1.5947114 ]\n",
            "   [0.         0.         0.         ... 0.         0.\n",
            "    0.        ]\n",
            "   [0.         0.         0.         ... 0.         0.\n",
            "    0.        ]\n",
            "   [0.         0.         0.         ... 0.87355626 2.2282984\n",
            "    0.        ]]\n",
            "\n",
            "  [[0.         0.         0.         ... 0.         0.\n",
            "    0.        ]\n",
            "   [0.         0.         0.         ... 0.         0.\n",
            "    0.        ]\n",
            "   [0.         0.         0.         ... 0.         0.\n",
            "    0.        ]\n",
            "   [0.         0.         0.         ... 0.         0.8880864\n",
            "    0.91581786]]]\n",
            "\n",
            "\n",
            " [[[5.529688   0.         0.         ... 0.         0.\n",
            "    0.        ]\n",
            "   [6.         0.         0.         ... 0.         0.\n",
            "    0.        ]\n",
            "   [6.         0.         0.         ... 0.         0.\n",
            "    0.        ]\n",
            "   [1.2110357  0.         0.         ... 0.         0.\n",
            "    0.        ]]\n",
            "\n",
            "  [[6.         0.         0.         ... 0.38831836 0.\n",
            "    0.        ]\n",
            "   [3.8183496  0.         0.         ... 0.         2.2977264\n",
            "    0.        ]\n",
            "   [3.5328872  0.         0.         ... 0.41603243 0.41450733\n",
            "    0.        ]\n",
            "   [2.001111   0.         0.         ... 0.         3.6442826\n",
            "    4.3240986 ]]\n",
            "\n",
            "  [[6.         0.         0.         ... 0.4634703  0.8260824\n",
            "    4.941774  ]\n",
            "   [0.         0.         0.         ... 0.         6.\n",
            "    3.4113348 ]\n",
            "   [0.8820803  0.         0.         ... 3.3411703  2.9749272\n",
            "    3.6422498 ]\n",
            "   [0.         0.         3.2733662  ... 0.         6.\n",
            "    6.        ]]\n",
            "\n",
            "  [[1.3992842  0.         0.         ... 0.         4.549194\n",
            "    1.8862625 ]\n",
            "   [0.         0.         5.4844637  ... 0.         6.\n",
            "    6.        ]\n",
            "   [0.         0.         3.386469   ... 3.0253005  5.435201\n",
            "    5.9298964 ]\n",
            "   [0.         0.         4.796663   ... 0.         6.\n",
            "    6.        ]]]\n",
            "\n",
            "\n",
            " [[[0.31307405 0.         0.         ... 0.         0.\n",
            "    0.3728438 ]\n",
            "   [0.         0.         0.         ... 0.         0.\n",
            "    6.        ]\n",
            "   [3.2868545  0.         0.         ... 0.         0.\n",
            "    2.9397523 ]\n",
            "   [0.         0.         0.         ... 0.         0.\n",
            "    2.4664679 ]]\n",
            "\n",
            "  [[6.         0.         0.         ... 0.         0.\n",
            "    6.        ]\n",
            "   [2.725606   0.         0.         ... 0.         0.\n",
            "    6.        ]\n",
            "   [5.372977   0.         0.         ... 0.         0.\n",
            "    0.        ]\n",
            "   [1.851295   0.         0.         ... 0.         0.\n",
            "    6.        ]]\n",
            "\n",
            "  [[4.756477   0.         0.         ... 0.         0.\n",
            "    6.        ]\n",
            "   [6.         0.         0.         ... 0.         0.\n",
            "    6.        ]\n",
            "   [6.         0.         0.         ... 0.         0.\n",
            "    4.9085503 ]\n",
            "   [3.2989259  0.         0.         ... 0.         0.\n",
            "    6.        ]]\n",
            "\n",
            "  [[2.4719121  0.         0.         ... 0.         0.\n",
            "    6.        ]\n",
            "   [4.1095896  0.         0.         ... 0.         0.\n",
            "    6.        ]\n",
            "   [4.0336065  0.         2.3376808  ... 0.         0.\n",
            "    6.        ]\n",
            "   [2.7824876  0.         0.         ... 0.         0.\n",
            "    6.        ]]]\n",
            "\n",
            "\n",
            " ...\n",
            "\n",
            "\n",
            " [[[2.3150897  0.         6.         ... 0.         0.\n",
            "    0.        ]\n",
            "   [0.         0.         6.         ... 0.         0.\n",
            "    0.        ]\n",
            "   [2.6197479  0.         6.         ... 0.         0.\n",
            "    0.        ]\n",
            "   [0.         0.         1.9941827  ... 0.         0.\n",
            "    0.        ]]\n",
            "\n",
            "  [[3.8741884  0.         4.777437   ... 0.         0.\n",
            "    0.        ]\n",
            "   [5.635504   0.         4.7773604  ... 0.         0.\n",
            "    0.        ]\n",
            "   [6.         0.         6.         ... 0.         0.\n",
            "    0.        ]\n",
            "   [0.1976061  0.         6.         ... 0.838111   0.\n",
            "    0.        ]]\n",
            "\n",
            "  [[0.15743628 0.         6.         ... 0.         0.\n",
            "    0.        ]\n",
            "   [3.8953748  0.         6.         ... 0.         0.\n",
            "    0.        ]\n",
            "   [3.0034292  0.         5.544827   ... 0.         0.\n",
            "    0.        ]\n",
            "   [0.         0.         4.028852   ... 0.         0.\n",
            "    0.        ]]\n",
            "\n",
            "  [[0.         0.         2.3201456  ... 0.         0.\n",
            "    0.        ]\n",
            "   [0.         0.         4.0746937  ... 0.         0.\n",
            "    0.        ]\n",
            "   [0.         0.24195285 0.55996287 ... 0.         0.\n",
            "    0.        ]\n",
            "   [0.         1.4990838  0.         ... 0.         0.\n",
            "    0.        ]]]\n",
            "\n",
            "\n",
            " [[[2.885694   0.         0.         ... 0.         0.\n",
            "    0.        ]\n",
            "   [5.4813595  0.         0.         ... 0.         0.\n",
            "    0.        ]\n",
            "   [4.319082   0.         3.6594348  ... 0.         0.\n",
            "    0.        ]\n",
            "   [3.0443974  0.         3.4816818  ... 0.         0.\n",
            "    0.        ]]\n",
            "\n",
            "  [[4.700158   0.         0.         ... 0.         0.\n",
            "    0.        ]\n",
            "   [4.192531   0.         0.         ... 0.         0.\n",
            "    0.        ]\n",
            "   [6.         0.         0.8004284  ... 0.         0.\n",
            "    0.        ]\n",
            "   [2.1341832  0.         2.8628507  ... 0.         0.\n",
            "    0.        ]]\n",
            "\n",
            "  [[5.30063    0.         0.         ... 0.         0.\n",
            "    0.        ]\n",
            "   [2.9161282  0.         0.         ... 0.         0.\n",
            "    0.        ]\n",
            "   [3.2953117  0.         2.7783074  ... 0.         0.\n",
            "    0.        ]\n",
            "   [0.         0.         2.537657   ... 0.         0.\n",
            "    0.        ]]\n",
            "\n",
            "  [[1.0020651  0.         0.         ... 0.         0.\n",
            "    0.        ]\n",
            "   [0.         0.         0.         ... 0.         0.\n",
            "    0.        ]\n",
            "   [0.27726668 0.         2.3776813  ... 0.         0.\n",
            "    0.        ]\n",
            "   [0.         0.         0.         ... 0.         0.\n",
            "    0.        ]]]\n",
            "\n",
            "\n",
            " [[[0.         0.         0.         ... 0.         0.\n",
            "    0.        ]\n",
            "   [0.         0.         2.0244262  ... 0.49520633 0.6321947\n",
            "    0.        ]\n",
            "   [6.         0.         0.05546565 ... 0.19514586 4.2064195\n",
            "    0.8603225 ]\n",
            "   [0.         0.         0.         ... 0.         1.1388723\n",
            "    0.        ]]\n",
            "\n",
            "  [[3.0164905  0.         2.0710545  ... 0.         3.2538874\n",
            "    0.        ]\n",
            "   [3.3282325  0.         3.1173007  ... 0.         0.\n",
            "    0.        ]\n",
            "   [6.         0.         0.         ... 0.         1.3078827\n",
            "    0.        ]\n",
            "   [1.2302469  0.         0.         ... 0.         0.\n",
            "    0.        ]]\n",
            "\n",
            "  [[0.         0.         0.         ... 0.         3.645482\n",
            "    0.        ]\n",
            "   [0.         0.         6.         ... 0.         0.\n",
            "    0.        ]\n",
            "   [0.         0.         0.         ... 0.         0.\n",
            "    0.        ]\n",
            "   [0.         0.         1.6936054  ... 0.         0.\n",
            "    0.        ]]\n",
            "\n",
            "  [[0.         0.         0.         ... 0.         0.\n",
            "    0.        ]\n",
            "   [0.         1.7980111  4.533284   ... 0.         0.\n",
            "    0.        ]\n",
            "   [0.         0.         1.873447   ... 0.         0.\n",
            "    0.        ]\n",
            "   [0.         0.         3.6292617  ... 0.         0.\n",
            "    0.        ]]]]\n",
            "rounded test_labels [[1. 0. 0.]\n",
            " [1. 0. 0.]\n",
            " [1. 0. 0.]\n",
            " [1. 0. 0.]\n",
            " [1. 0. 0.]\n",
            " [1. 0. 0.]\n",
            " [1. 0. 0.]\n",
            " [1. 0. 0.]\n",
            " [0. 0. 1.]\n",
            " [0. 0. 1.]\n",
            " [0. 0. 1.]\n",
            " [1. 0. 0.]\n",
            " [0. 0. 1.]\n",
            " [1. 0. 0.]\n",
            " [0. 0. 1.]\n",
            " [1. 0. 0.]\n",
            " [0. 0. 1.]\n",
            " [0. 0. 1.]\n",
            " [0. 0. 1.]\n",
            " [0. 0. 1.]\n",
            " [0. 0. 1.]\n",
            " [0. 0. 1.]\n",
            " [1. 0. 0.]\n",
            " [1. 0. 0.]\n",
            " [1. 0. 0.]\n",
            " [0. 0. 1.]\n",
            " [0. 0. 1.]\n",
            " [1. 0. 0.]\n",
            " [0. 1. 0.]\n",
            " [0. 0. 1.]\n",
            " [1. 0. 0.]\n",
            " [0. 0. 1.]\n",
            " [0. 0. 1.]\n",
            " [0. 0. 1.]\n",
            " [1. 0. 0.]\n",
            " [1. 0. 0.]\n",
            " [0. 0. 1.]\n",
            " [1. 0. 0.]\n",
            " [1. 0. 0.]\n",
            " [1. 0. 0.]\n",
            " [1. 0. 0.]\n",
            " [1. 0. 0.]\n",
            " [1. 0. 0.]\n",
            " [0. 1. 0.]\n",
            " [0. 1. 0.]\n",
            " [0. 1. 0.]\n",
            " [0. 0. 1.]\n",
            " [0. 0. 1.]\n",
            " [0. 1. 0.]\n",
            " [0. 1. 0.]\n",
            " [0. 1. 0.]\n",
            " [0. 1. 0.]\n",
            " [0. 1. 0.]\n",
            " [0. 1. 0.]\n",
            " [0. 1. 0.]\n",
            " [0. 1. 0.]\n",
            " [0. 0. 1.]\n",
            " [0. 0. 1.]\n",
            " [0. 1. 0.]\n",
            " [0. 0. 1.]\n",
            " [0. 1. 0.]\n",
            " [0. 0. 0.]\n",
            " [0. 1. 0.]\n",
            " [0. 1. 0.]\n",
            " [0. 1. 0.]\n",
            " [0. 1. 0.]\n",
            " [0. 1. 0.]\n",
            " [0. 1. 0.]\n",
            " [0. 0. 1.]\n",
            " [0. 1. 0.]\n",
            " [0. 0. 1.]\n",
            " [0. 0. 1.]\n",
            " [0. 0. 1.]\n",
            " [0. 0. 1.]\n",
            " [0. 0. 1.]\n",
            " [0. 0. 1.]\n",
            " [0. 1. 0.]\n",
            " [0. 1. 0.]\n",
            " [0. 0. 1.]\n",
            " [0. 1. 0.]\n",
            " [0. 0. 1.]\n",
            " [0. 0. 1.]\n",
            " [0. 0. 1.]\n",
            " [0. 1. 0.]\n",
            " [0. 1. 0.]\n",
            " [0. 1. 0.]\n",
            " [0. 1. 0.]\n",
            " [0. 0. 1.]\n",
            " [0. 0. 1.]\n",
            " [0. 1. 0.]\n",
            " [0. 0. 1.]\n",
            " [0. 0. 1.]\n",
            " [0. 0. 1.]\n",
            " [0. 1. 0.]\n",
            " [0. 0. 1.]\n",
            " [0. 1. 0.]\n",
            " [0. 0. 1.]\n",
            " [0. 0. 1.]\n",
            " [0. 0. 1.]\n",
            " [0. 0. 1.]\n",
            " [0. 0. 1.]\n",
            " [0. 0. 1.]\n",
            " [0. 1. 0.]\n",
            " [0. 0. 1.]\n",
            " [0. 1. 0.]\n",
            " [0. 1. 0.]\n",
            " [0. 0. 1.]\n",
            " [0. 1. 0.]\n",
            " [0. 0. 1.]\n",
            " [0. 0. 1.]\n",
            " [0. 0. 1.]\n",
            " [0. 0. 1.]\n",
            " [0. 0. 1.]\n",
            " [0. 0. 1.]\n",
            " [0. 0. 1.]\n",
            " [0. 0. 1.]\n",
            " [0. 0. 1.]\n",
            " [0. 0. 1.]\n",
            " [0. 0. 1.]\n",
            " [0. 0. 1.]\n",
            " [0. 0. 1.]\n",
            " [0. 0. 1.]\n",
            " [0. 0. 1.]\n",
            " [0. 0. 1.]\n",
            " [0. 0. 1.]\n",
            " [0. 0. 1.]\n",
            " [0. 0. 1.]\n",
            " [0. 0. 1.]\n",
            " [0. 0. 1.]\n",
            " [0. 0. 1.]\n",
            " [0. 0. 1.]\n",
            " [0. 0. 1.]\n",
            " [0. 0. 1.]\n",
            " [0. 0. 1.]\n",
            " [0. 1. 0.]\n",
            " [0. 0. 1.]\n",
            " [0. 1. 0.]\n",
            " [0. 0. 1.]\n",
            " [0. 0. 1.]\n",
            " [0. 0. 1.]\n",
            " [0. 0. 1.]\n",
            " [0. 0. 1.]\n",
            " [0. 0. 1.]\n",
            " [0. 0. 1.]\n",
            " [0. 0. 1.]\n",
            " [0. 0. 1.]\n",
            " [0. 1. 0.]\n",
            " [0. 0. 1.]\n",
            " [0. 0. 1.]\n",
            " [0. 0. 1.]\n",
            " [0. 0. 1.]\n",
            " [0. 0. 1.]\n",
            " [0. 0. 1.]\n",
            " [0. 0. 1.]\n",
            " [0. 0. 1.]\n",
            " [0. 0. 1.]\n",
            " [0. 0. 1.]\n",
            " [0. 0. 1.]\n",
            " [0. 0. 1.]\n",
            " [0. 0. 1.]\n",
            " [0. 0. 1.]\n",
            " [0. 0. 1.]\n",
            " [0. 0. 1.]\n",
            " [0. 0. 1.]\n",
            " [0. 0. 1.]\n",
            " [0. 0. 1.]\n",
            " [0. 0. 1.]\n",
            " [0. 0. 1.]\n",
            " [0. 0. 1.]\n",
            " [0. 0. 1.]\n",
            " [0. 0. 1.]\n",
            " [0. 0. 1.]\n",
            " [0. 0. 1.]\n",
            " [0. 0. 1.]\n",
            " [0. 0. 1.]\n",
            " [0. 0. 0.]\n",
            " [0. 0. 1.]\n",
            " [0. 0. 1.]\n",
            " [0. 0. 1.]\n",
            " [0. 0. 1.]\n",
            " [0. 0. 1.]\n",
            " [0. 0. 1.]\n",
            " [0. 0. 1.]\n",
            " [0. 0. 1.]\n",
            " [0. 0. 1.]\n",
            " [0. 0. 1.]\n",
            " [0. 0. 1.]\n",
            " [0. 0. 1.]\n",
            " [0. 0. 1.]\n",
            " [0. 0. 1.]\n",
            " [0. 0. 1.]\n",
            " [0. 0. 1.]\n",
            " [0. 0. 1.]\n",
            " [0. 0. 1.]\n",
            " [0. 0. 1.]\n",
            " [0. 0. 1.]\n",
            " [0. 0. 1.]]\n"
          ]
        }
      ]
    },
    {
      "cell_type": "code",
      "metadata": {
        "id": "iV8zHTN-7qhy"
      },
      "source": [
        "plants = ['Healthy', 'Sigatoka']\n",
        "classification_metrics = metrics.classification_report(validation_labels, preds, target_names=plants )\n",
        "print(classification_metrics)"
      ],
      "execution_count": null,
      "outputs": []
    },
    {
      "cell_type": "code",
      "metadata": {
        "id": "ptdIl1iC8Xp8"
      },
      "source": [
        "#Model evaluation on testing set\n",
        "model.evaluate(test_data, test_labels)"
      ],
      "execution_count": null,
      "outputs": []
    }
  ]
}