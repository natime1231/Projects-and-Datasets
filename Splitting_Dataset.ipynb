{
  "nbformat": 4,
  "nbformat_minor": 0,
  "metadata": {
    "colab": {
      "provenance": []
    },
    "kernelspec": {
      "name": "python3",
      "display_name": "Python 3"
    },
    "language_info": {
      "name": "python"
    }
  },
  "cells": [
    {
      "cell_type": "code",
      "source": [
        "import os\n",
        "import pandas as pd"
      ],
      "metadata": {
        "id": "aCZB_bt7aVOV"
      },
      "execution_count": null,
      "outputs": []
    },
    {
      "cell_type": "code",
      "source": [
        "# Creating the folder for training, validation, and testing\n",
        "os.mkdir('/content/drive/MyDrive/Banana Disease Detection/Final Dataset/Split/train')\n",
        "os.mkdir('/content/drive/MyDrive/Banana Disease Detection/Final Dataset/Split/val')\n",
        "os.mkdir('/content/drive/MyDrive/Banana Disease Detection/Final Dataset/Split/test')"
      ],
      "metadata": {
        "id": "ZZarrX8O2UNg"
      },
      "execution_count": null,
      "outputs": []
    },
    {
      "cell_type": "code",
      "source": [
        "# Importing a library dor spliting the data for train, validation, and testing\n",
        "!pip install pydrive\n",
        "!pip install split-folders"
      ],
      "metadata": {
        "id": "J43hffeutgTF"
      },
      "execution_count": null,
      "outputs": []
    },
    {
      "cell_type": "code",
      "source": [
        "import splitfolders"
      ],
      "metadata": {
        "id": "3-f3WOzbaf9x"
      },
      "execution_count": null,
      "outputs": []
    },
    {
      "cell_type": "code",
      "source": [
        "# Source of the data\n",
        "source_file='/content/drive/MyDrive/Banana Disease Detection/Final Dataset/final_dataset'"
      ],
      "metadata": {
        "id": "gIy23UJh24U4"
      },
      "execution_count": null,
      "outputs": []
    },
    {
      "cell_type": "code",
      "source": [
        "# Spliting the data based on 80-10-10 spliting ratio\n",
        "splitfolders.ratio(source_file, output='/content/drive/MyDrive/Banana Disease Detection/Final Dataset/Split', seed=1337, ratio=(.8, .1, .1), group_prefix=None)"
      ],
      "metadata": {
        "id": "gQetKDQT3CGw"
      },
      "execution_count": null,
      "outputs": []
    }
  ]
}