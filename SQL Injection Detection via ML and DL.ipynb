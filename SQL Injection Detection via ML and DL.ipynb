{
  "cells": [
    {
      "cell_type": "code",
      "execution_count": null,
      "metadata": {
        "colab": {
          "base_uri": "https://localhost:8080/"
        },
        "id": "wE_kAh4_qrKf",
        "outputId": "d147657b-4396-4f6c-f053-c30e8d5f6764"
      },
      "outputs": [
        {
          "name": "stdout",
          "output_type": "stream",
          "text": [
            "[nltk_data] Downloading package punkt to /root/nltk_data...\n",
            "[nltk_data]   Package punkt is already up-to-date!\n",
            "[nltk_data] Downloading package stopwords to /root/nltk_data...\n",
            "[nltk_data]   Package stopwords is already up-to-date!\n",
            "[nltk_data] Downloading package wordnet to /root/nltk_data...\n",
            "[nltk_data]   Package wordnet is already up-to-date!\n"
          ]
        }
      ],
      "source": [
        "import glob\n",
        "import time\n",
        "import pandas as pd\n",
        "from nltk import ngrams\n",
        "from nltk.tokenize import sent_tokenize\n",
        "import nltk\n",
        "nltk.download('punkt')\n",
        "nltk.download('stopwords')\n",
        "nltk.download('wordnet')\n",
        "from nltk.stem import PorterStemmer\n",
        "from nltk.stem import PorterStemmer\n",
        "from nltk.tokenize import sent_tokenize, word_tokenize\n",
        "from nltk.stem import WordNetLemmatizer\n",
        "from nltk.corpus import stopwords\n",
        "from nltk.tokenize import word_tokenize"
      ]
    },
    {
      "cell_type": "code",
      "execution_count": null,
      "metadata": {
        "id": "OjlpDU2Usk-7"
      },
      "outputs": [],
      "source": [
        "from tensorflow import keras"
      ]
    },
    {
      "cell_type": "code",
      "execution_count": null,
      "metadata": {
        "id": "eY0lZhtBsx-R"
      },
      "outputs": [],
      "source": [
        "import pandas as pd\n",
        "import os"
      ]
    },
    {
      "cell_type": "code",
      "execution_count": null,
      "metadata": {
        "id": "qZ8F1UlFs03Q"
      },
      "outputs": [],
      "source": [
        "import numpy as np"
      ]
    },
    {
      "cell_type": "code",
      "execution_count": null,
      "metadata": {
        "id": "kSKyFTF0s3qt"
      },
      "outputs": [],
      "source": [
        "df=pd.read_csv('/content/drive/MyDrive/SQLI/sqli_modified.csv',encoding='utf-8')"
      ]
    },
    {
      "cell_type": "code",
      "execution_count": null,
      "metadata": {
        "colab": {
          "base_uri": "https://localhost:8080/",
          "height": 206
        },
        "id": "HhUKBnostCTw",
        "outputId": "ffde2802-e634-411e-fe4b-8d1d2f4732b2"
      },
      "outputs": [
        {
          "data": {
            "text/html": [
              "\n",
              "  <div id=\"df-401220c7-80f6-482d-8edf-e11b5d6398f7\">\n",
              "    <div class=\"colab-df-container\">\n",
              "      <div>\n",
              "<style scoped>\n",
              "    .dataframe tbody tr th:only-of-type {\n",
              "        vertical-align: middle;\n",
              "    }\n",
              "\n",
              "    .dataframe tbody tr th {\n",
              "        vertical-align: top;\n",
              "    }\n",
              "\n",
              "    .dataframe thead th {\n",
              "        text-align: right;\n",
              "    }\n",
              "</style>\n",
              "<table border=\"1\" class=\"dataframe\">\n",
              "  <thead>\n",
              "    <tr style=\"text-align: right;\">\n",
              "      <th></th>\n",
              "      <th>Sentence</th>\n",
              "      <th>Label</th>\n",
              "      <th>Class</th>\n",
              "    </tr>\n",
              "  </thead>\n",
              "  <tbody>\n",
              "    <tr>\n",
              "      <th>0</th>\n",
              "      <td>a</td>\n",
              "      <td>1</td>\n",
              "      <td>SQLI</td>\n",
              "    </tr>\n",
              "    <tr>\n",
              "      <th>1</th>\n",
              "      <td>a'</td>\n",
              "      <td>1</td>\n",
              "      <td>SQLI</td>\n",
              "    </tr>\n",
              "    <tr>\n",
              "      <th>2</th>\n",
              "      <td>a' --</td>\n",
              "      <td>1</td>\n",
              "      <td>SQLI</td>\n",
              "    </tr>\n",
              "    <tr>\n",
              "      <th>3</th>\n",
              "      <td>a' or 1 = 1; --</td>\n",
              "      <td>1</td>\n",
              "      <td>SQLI</td>\n",
              "    </tr>\n",
              "    <tr>\n",
              "      <th>4</th>\n",
              "      <td>@</td>\n",
              "      <td>1</td>\n",
              "      <td>SQLI</td>\n",
              "    </tr>\n",
              "  </tbody>\n",
              "</table>\n",
              "</div>\n",
              "      <button class=\"colab-df-convert\" onclick=\"convertToInteractive('df-401220c7-80f6-482d-8edf-e11b5d6398f7')\"\n",
              "              title=\"Convert this dataframe to an interactive table.\"\n",
              "              style=\"display:none;\">\n",
              "        \n",
              "  <svg xmlns=\"http://www.w3.org/2000/svg\" height=\"24px\"viewBox=\"0 0 24 24\"\n",
              "       width=\"24px\">\n",
              "    <path d=\"M0 0h24v24H0V0z\" fill=\"none\"/>\n",
              "    <path d=\"M18.56 5.44l.94 2.06.94-2.06 2.06-.94-2.06-.94-.94-2.06-.94 2.06-2.06.94zm-11 1L8.5 8.5l.94-2.06 2.06-.94-2.06-.94L8.5 2.5l-.94 2.06-2.06.94zm10 10l.94 2.06.94-2.06 2.06-.94-2.06-.94-.94-2.06-.94 2.06-2.06.94z\"/><path d=\"M17.41 7.96l-1.37-1.37c-.4-.4-.92-.59-1.43-.59-.52 0-1.04.2-1.43.59L10.3 9.45l-7.72 7.72c-.78.78-.78 2.05 0 2.83L4 21.41c.39.39.9.59 1.41.59.51 0 1.02-.2 1.41-.59l7.78-7.78 2.81-2.81c.8-.78.8-2.07 0-2.86zM5.41 20L4 18.59l7.72-7.72 1.47 1.35L5.41 20z\"/>\n",
              "  </svg>\n",
              "      </button>\n",
              "      \n",
              "  <style>\n",
              "    .colab-df-container {\n",
              "      display:flex;\n",
              "      flex-wrap:wrap;\n",
              "      gap: 12px;\n",
              "    }\n",
              "\n",
              "    .colab-df-convert {\n",
              "      background-color: #E8F0FE;\n",
              "      border: none;\n",
              "      border-radius: 50%;\n",
              "      cursor: pointer;\n",
              "      display: none;\n",
              "      fill: #1967D2;\n",
              "      height: 32px;\n",
              "      padding: 0 0 0 0;\n",
              "      width: 32px;\n",
              "    }\n",
              "\n",
              "    .colab-df-convert:hover {\n",
              "      background-color: #E2EBFA;\n",
              "      box-shadow: 0px 1px 2px rgba(60, 64, 67, 0.3), 0px 1px 3px 1px rgba(60, 64, 67, 0.15);\n",
              "      fill: #174EA6;\n",
              "    }\n",
              "\n",
              "    [theme=dark] .colab-df-convert {\n",
              "      background-color: #3B4455;\n",
              "      fill: #D2E3FC;\n",
              "    }\n",
              "\n",
              "    [theme=dark] .colab-df-convert:hover {\n",
              "      background-color: #434B5C;\n",
              "      box-shadow: 0px 1px 3px 1px rgba(0, 0, 0, 0.15);\n",
              "      filter: drop-shadow(0px 1px 2px rgba(0, 0, 0, 0.3));\n",
              "      fill: #FFFFFF;\n",
              "    }\n",
              "  </style>\n",
              "\n",
              "      <script>\n",
              "        const buttonEl =\n",
              "          document.querySelector('#df-401220c7-80f6-482d-8edf-e11b5d6398f7 button.colab-df-convert');\n",
              "        buttonEl.style.display =\n",
              "          google.colab.kernel.accessAllowed ? 'block' : 'none';\n",
              "\n",
              "        async function convertToInteractive(key) {\n",
              "          const element = document.querySelector('#df-401220c7-80f6-482d-8edf-e11b5d6398f7');\n",
              "          const dataTable =\n",
              "            await google.colab.kernel.invokeFunction('convertToInteractive',\n",
              "                                                     [key], {});\n",
              "          if (!dataTable) return;\n",
              "\n",
              "          const docLinkHtml = 'Like what you see? Visit the ' +\n",
              "            '<a target=\"_blank\" href=https://colab.research.google.com/notebooks/data_table.ipynb>data table notebook</a>'\n",
              "            + ' to learn more about interactive tables.';\n",
              "          element.innerHTML = '';\n",
              "          dataTable['output_type'] = 'display_data';\n",
              "          await google.colab.output.renderOutput(dataTable, element);\n",
              "          const docLink = document.createElement('div');\n",
              "          docLink.innerHTML = docLinkHtml;\n",
              "          element.appendChild(docLink);\n",
              "        }\n",
              "      </script>\n",
              "    </div>\n",
              "  </div>\n",
              "  "
            ],
            "text/plain": [
              "          Sentence  Label Class\n",
              "0                a      1  SQLI\n",
              "1               a'      1  SQLI\n",
              "2            a' --      1  SQLI\n",
              "3  a' or 1 = 1; --      1  SQLI\n",
              "4                @      1  SQLI"
            ]
          },
          "execution_count": 6,
          "metadata": {},
          "output_type": "execute_result"
        }
      ],
      "source": [
        "df.head()"
      ]
    },
    {
      "cell_type": "code",
      "execution_count": null,
      "metadata": {
        "colab": {
          "base_uri": "https://localhost:8080/",
          "height": 206
        },
        "id": "xXdsaxFutYDA",
        "outputId": "d85e44cc-802d-4e7a-bb6b-c76969eead7b"
      },
      "outputs": [
        {
          "data": {
            "text/html": [
              "\n",
              "  <div id=\"df-ee885727-e75b-4c6c-812d-e3cca253c02d\">\n",
              "    <div class=\"colab-df-container\">\n",
              "      <div>\n",
              "<style scoped>\n",
              "    .dataframe tbody tr th:only-of-type {\n",
              "        vertical-align: middle;\n",
              "    }\n",
              "\n",
              "    .dataframe tbody tr th {\n",
              "        vertical-align: top;\n",
              "    }\n",
              "\n",
              "    .dataframe thead th {\n",
              "        text-align: right;\n",
              "    }\n",
              "</style>\n",
              "<table border=\"1\" class=\"dataframe\">\n",
              "  <thead>\n",
              "    <tr style=\"text-align: right;\">\n",
              "      <th></th>\n",
              "      <th>Sentence</th>\n",
              "      <th>Label</th>\n",
              "      <th>Class</th>\n",
              "    </tr>\n",
              "  </thead>\n",
              "  <tbody>\n",
              "    <tr>\n",
              "      <th>4194</th>\n",
              "      <td>org/?option = com_k2  &lt;a href = \"http://corfopym</td>\n",
              "      <td>0</td>\n",
              "      <td>NORMAL</td>\n",
              "    </tr>\n",
              "    <tr>\n",
              "      <th>4195</th>\n",
              "      <td>com/?option = com_k2  &lt;act&gt;  &lt;![CDATA[procMemb...</td>\n",
              "      <td>0</td>\n",
              "      <td>NORMAL</td>\n",
              "    </tr>\n",
              "    <tr>\n",
              "      <th>4196</th>\n",
              "      <td>picsearch</td>\n",
              "      <td>0</td>\n",
              "      <td>NORMAL</td>\n",
              "    </tr>\n",
              "    <tr>\n",
              "      <th>4197</th>\n",
              "      <td>com/is?-WZx-uhyLezKNiYLvAbKL3W4oh5F749nr2KUmFF...</td>\n",
              "      <td>0</td>\n",
              "      <td>NORMAL</td>\n",
              "    </tr>\n",
              "    <tr>\n",
              "      <th>4198</th>\n",
              "      <td>de]]&gt;  &lt;/email_address&gt;   &lt;find_account_answer...</td>\n",
              "      <td>0</td>\n",
              "      <td>NORMAL</td>\n",
              "    </tr>\n",
              "  </tbody>\n",
              "</table>\n",
              "</div>\n",
              "      <button class=\"colab-df-convert\" onclick=\"convertToInteractive('df-ee885727-e75b-4c6c-812d-e3cca253c02d')\"\n",
              "              title=\"Convert this dataframe to an interactive table.\"\n",
              "              style=\"display:none;\">\n",
              "        \n",
              "  <svg xmlns=\"http://www.w3.org/2000/svg\" height=\"24px\"viewBox=\"0 0 24 24\"\n",
              "       width=\"24px\">\n",
              "    <path d=\"M0 0h24v24H0V0z\" fill=\"none\"/>\n",
              "    <path d=\"M18.56 5.44l.94 2.06.94-2.06 2.06-.94-2.06-.94-.94-2.06-.94 2.06-2.06.94zm-11 1L8.5 8.5l.94-2.06 2.06-.94-2.06-.94L8.5 2.5l-.94 2.06-2.06.94zm10 10l.94 2.06.94-2.06 2.06-.94-2.06-.94-.94-2.06-.94 2.06-2.06.94z\"/><path d=\"M17.41 7.96l-1.37-1.37c-.4-.4-.92-.59-1.43-.59-.52 0-1.04.2-1.43.59L10.3 9.45l-7.72 7.72c-.78.78-.78 2.05 0 2.83L4 21.41c.39.39.9.59 1.41.59.51 0 1.02-.2 1.41-.59l7.78-7.78 2.81-2.81c.8-.78.8-2.07 0-2.86zM5.41 20L4 18.59l7.72-7.72 1.47 1.35L5.41 20z\"/>\n",
              "  </svg>\n",
              "      </button>\n",
              "      \n",
              "  <style>\n",
              "    .colab-df-container {\n",
              "      display:flex;\n",
              "      flex-wrap:wrap;\n",
              "      gap: 12px;\n",
              "    }\n",
              "\n",
              "    .colab-df-convert {\n",
              "      background-color: #E8F0FE;\n",
              "      border: none;\n",
              "      border-radius: 50%;\n",
              "      cursor: pointer;\n",
              "      display: none;\n",
              "      fill: #1967D2;\n",
              "      height: 32px;\n",
              "      padding: 0 0 0 0;\n",
              "      width: 32px;\n",
              "    }\n",
              "\n",
              "    .colab-df-convert:hover {\n",
              "      background-color: #E2EBFA;\n",
              "      box-shadow: 0px 1px 2px rgba(60, 64, 67, 0.3), 0px 1px 3px 1px rgba(60, 64, 67, 0.15);\n",
              "      fill: #174EA6;\n",
              "    }\n",
              "\n",
              "    [theme=dark] .colab-df-convert {\n",
              "      background-color: #3B4455;\n",
              "      fill: #D2E3FC;\n",
              "    }\n",
              "\n",
              "    [theme=dark] .colab-df-convert:hover {\n",
              "      background-color: #434B5C;\n",
              "      box-shadow: 0px 1px 3px 1px rgba(0, 0, 0, 0.15);\n",
              "      filter: drop-shadow(0px 1px 2px rgba(0, 0, 0, 0.3));\n",
              "      fill: #FFFFFF;\n",
              "    }\n",
              "  </style>\n",
              "\n",
              "      <script>\n",
              "        const buttonEl =\n",
              "          document.querySelector('#df-ee885727-e75b-4c6c-812d-e3cca253c02d button.colab-df-convert');\n",
              "        buttonEl.style.display =\n",
              "          google.colab.kernel.accessAllowed ? 'block' : 'none';\n",
              "\n",
              "        async function convertToInteractive(key) {\n",
              "          const element = document.querySelector('#df-ee885727-e75b-4c6c-812d-e3cca253c02d');\n",
              "          const dataTable =\n",
              "            await google.colab.kernel.invokeFunction('convertToInteractive',\n",
              "                                                     [key], {});\n",
              "          if (!dataTable) return;\n",
              "\n",
              "          const docLinkHtml = 'Like what you see? Visit the ' +\n",
              "            '<a target=\"_blank\" href=https://colab.research.google.com/notebooks/data_table.ipynb>data table notebook</a>'\n",
              "            + ' to learn more about interactive tables.';\n",
              "          element.innerHTML = '';\n",
              "          dataTable['output_type'] = 'display_data';\n",
              "          await google.colab.output.renderOutput(dataTable, element);\n",
              "          const docLink = document.createElement('div');\n",
              "          docLink.innerHTML = docLinkHtml;\n",
              "          element.appendChild(docLink);\n",
              "        }\n",
              "      </script>\n",
              "    </div>\n",
              "  </div>\n",
              "  "
            ],
            "text/plain": [
              "                                               Sentence  Label   Class\n",
              "4194   org/?option = com_k2  <a href = \"http://corfopym      0  NORMAL\n",
              "4195  com/?option = com_k2  <act>  <![CDATA[procMemb...      0  NORMAL\n",
              "4196                                          picsearch      0  NORMAL\n",
              "4197  com/is?-WZx-uhyLezKNiYLvAbKL3W4oh5F749nr2KUmFF...      0  NORMAL\n",
              "4198  de]]>  </email_address>   <find_account_answer...      0  NORMAL"
            ]
          },
          "execution_count": 7,
          "metadata": {},
          "output_type": "execute_result"
        }
      ],
      "source": [
        "df.tail()"
      ]
    },
    {
      "cell_type": "code",
      "execution_count": null,
      "metadata": {
        "id": "KP3d-FmzuGfB"
      },
      "outputs": [],
      "source": [
        "df.dropna(axis=0, inplace=True)"
      ]
    },
    {
      "cell_type": "code",
      "execution_count": null,
      "metadata": {
        "colab": {
          "base_uri": "https://localhost:8080/"
        },
        "id": "JaNW-X1CuLfc",
        "outputId": "46477f7b-d966-4ea6-d34d-e1bb4ff36c3c"
      },
      "outputs": [
        {
          "name": "stdout",
          "output_type": "stream",
          "text": [
            "<class 'pandas.core.frame.DataFrame'>\n",
            "Int64Index: 4185 entries, 0 to 4198\n",
            "Data columns (total 3 columns):\n",
            " #   Column    Non-Null Count  Dtype \n",
            "---  ------    --------------  ----- \n",
            " 0   Sentence  4185 non-null   object\n",
            " 1   Label     4185 non-null   int64 \n",
            " 2   Class     4185 non-null   object\n",
            "dtypes: int64(1), object(2)\n",
            "memory usage: 130.8+ KB\n"
          ]
        }
      ],
      "source": [
        "df.info()"
      ]
    },
    {
      "cell_type": "code",
      "execution_count": null,
      "metadata": {
        "id": "20E2x3n1uRXZ"
      },
      "outputs": [],
      "source": [
        "values = df.values"
      ]
    },
    {
      "cell_type": "code",
      "execution_count": null,
      "metadata": {
        "id": "MnqhrXKXuZmo"
      },
      "outputs": [],
      "source": [
        "# vectorization of data\n",
        "\n",
        "from sklearn.feature_extraction.text import CountVectorizer\n",
        "vectorizer = CountVectorizer( min_df=2, max_df=0.7, max_features=4096, stop_words=stopwords.words('english'))\n",
        "posts = vectorizer.fit_transform(df['Sentence'].values.astype('U')).toarray()\n",
        "\n"
      ]
    },
    {
      "cell_type": "code",
      "execution_count": null,
      "metadata": {
        "colab": {
          "base_uri": "https://localhost:8080/"
        },
        "id": "VonJIjbFuq1P",
        "outputId": "3473ca15-2753-4b12-8862-c0577975a32c"
      },
      "outputs": [
        {
          "data": {
            "text/plain": [
              "(4185, 4096)"
            ]
          },
          "execution_count": 12,
          "metadata": {},
          "output_type": "execute_result"
        }
      ],
      "source": [
        "posts.shape"
      ]
    },
    {
      "cell_type": "code",
      "execution_count": null,
      "metadata": {
        "id": "HwvtzCEsux6G"
      },
      "outputs": [],
      "source": [
        "posts.shape=(4185,64,64,1)"
      ]
    },
    {
      "cell_type": "code",
      "execution_count": null,
      "metadata": {
        "colab": {
          "base_uri": "https://localhost:8080/"
        },
        "id": "gmfESbRMu4Bc",
        "outputId": "285b850e-5259-4b1b-a0bd-6679798c58e5"
      },
      "outputs": [
        {
          "data": {
            "text/plain": [
              "(4185, 64, 64, 1)"
            ]
          },
          "execution_count": 14,
          "metadata": {},
          "output_type": "execute_result"
        }
      ],
      "source": [
        "posts.shape"
      ]
    },
    {
      "cell_type": "code",
      "execution_count": null,
      "metadata": {
        "id": "UnapYR_0u-UV"
      },
      "outputs": [],
      "source": [
        "posts = posts/np.max(posts)"
      ]
    },
    {
      "cell_type": "code",
      "execution_count": null,
      "metadata": {
        "id": "Y6bwMgI7vHJS"
      },
      "outputs": [],
      "source": [
        "X=posts"
      ]
    },
    {
      "cell_type": "code",
      "execution_count": null,
      "metadata": {
        "colab": {
          "base_uri": "https://localhost:8080/"
        },
        "id": "HIuFQ5AIvH0_",
        "outputId": "6c2e62a7-63f3-43c9-fc2a-9647fb62919d"
      },
      "outputs": [
        {
          "data": {
            "text/plain": [
              "1.0"
            ]
          },
          "execution_count": 17,
          "metadata": {},
          "output_type": "execute_result"
        }
      ],
      "source": [
        "np.max(posts)"
      ]
    },
    {
      "cell_type": "code",
      "execution_count": null,
      "metadata": {
        "id": "u4Rs729rvLw2"
      },
      "outputs": [],
      "source": [
        "y=df['Label']"
      ]
    },
    {
      "cell_type": "code",
      "execution_count": null,
      "metadata": {
        "id": "bOa3vnJSvTw_"
      },
      "outputs": [],
      "source": [
        "from sklearn.model_selection import train_test_split"
      ]
    },
    {
      "cell_type": "code",
      "execution_count": null,
      "metadata": {
        "id": "lzVTXYbQvaJV"
      },
      "outputs": [],
      "source": [
        "X_train, X_test, y_train, y_test = train_test_split(X, y, test_size=0.2, random_state=42)"
      ]
    },
    {
      "cell_type": "code",
      "execution_count": null,
      "metadata": {
        "id": "XOFhj-21veYH"
      },
      "outputs": [],
      "source": [
        "\n",
        "# Importing all necessary libraries\n",
        "import tensorflow as tf\n",
        "from keras.models import Sequential\n",
        "from keras import layers\n",
        "from keras.preprocessing.text import Tokenizer\n",
        "from keras.wrappers.scikit_learn import KerasClassifier\n",
        "\n"
      ]
    },
    {
      "cell_type": "code",
      "execution_count": null,
      "metadata": {
        "id": "nPydfbQ6vtzj"
      },
      "outputs": [],
      "source": [
        "\n",
        "model=tf.keras.models.Sequential([\n",
        "\n",
        "    tf.keras.layers.Conv2D(64, (3,3), activation=tf.nn.relu, input_shape=(64,64,1)),\n",
        "    tf.keras.layers.MaxPooling2D(2,2),\n",
        "    tf.keras.layers.Conv2D(128, (3,3), activation=tf.nn.relu),\n",
        "    tf.keras.layers.MaxPooling2D(2,2),\n",
        "    tf.keras.layers.Conv2D(256, (3,3), activation=tf.nn.relu),\n",
        "    tf.keras.layers.MaxPooling2D(2,2),\n",
        "\n",
        "    tf.keras.layers.Flatten(),\n",
        "    #tf.keras.layers.Dense(256,activation='relu'),\n",
        "    #tf.keras.layers.Dense(128,activation='relu'),\n",
        "    tf.keras.layers.Dense(64,activation='relu'),\n",
        "    tf.keras.layers.Dense(1, activation='sigmoid')\n",
        "])\n",
        "\n"
      ]
    },
    {
      "cell_type": "code",
      "execution_count": null,
      "metadata": {
        "colab": {
          "base_uri": "https://localhost:8080/"
        },
        "id": "cPF_QCdtLIky",
        "outputId": "cf9cca02-1682-48d9-8de2-68743ef84c5a"
      },
      "outputs": [
        {
          "name": "stdout",
          "output_type": "stream",
          "text": [
            "Model: \"sequential\"\n",
            "_________________________________________________________________\n",
            " Layer (type)                Output Shape              Param #   \n",
            "=================================================================\n",
            " conv2d (Conv2D)             (None, 62, 62, 64)        640       \n",
            "                                                                 \n",
            " max_pooling2d (MaxPooling2D  (None, 31, 31, 64)       0         \n",
            " )                                                               \n",
            "                                                                 \n",
            " conv2d_1 (Conv2D)           (None, 29, 29, 128)       73856     \n",
            "                                                                 \n",
            " max_pooling2d_1 (MaxPooling  (None, 14, 14, 128)      0         \n",
            " 2D)                                                             \n",
            "                                                                 \n",
            " conv2d_2 (Conv2D)           (None, 12, 12, 256)       295168    \n",
            "                                                                 \n",
            " max_pooling2d_2 (MaxPooling  (None, 6, 6, 256)        0         \n",
            " 2D)                                                             \n",
            "                                                                 \n",
            " flatten (Flatten)           (None, 9216)              0         \n",
            "                                                                 \n",
            " dense (Dense)               (None, 64)                589888    \n",
            "                                                                 \n",
            " dense_1 (Dense)             (None, 1)                 65        \n",
            "                                                                 \n",
            "=================================================================\n",
            "Total params: 959,617\n",
            "Trainable params: 959,617\n",
            "Non-trainable params: 0\n",
            "_________________________________________________________________\n"
          ]
        }
      ],
      "source": [
        "model.compile(loss='binary_crossentropy',\n",
        "              optimizer='adam',\n",
        "              metrics=['accuracy'])\n",
        "model.summary()\n",
        "\n"
      ]
    },
    {
      "cell_type": "code",
      "execution_count": null,
      "metadata": {
        "colab": {
          "base_uri": "https://localhost:8080/"
        },
        "id": "orCSEnxTLePI",
        "outputId": "de15c652-3bd5-4b0f-f4c6-1c8d52052efb"
      },
      "outputs": [
        {
          "name": "stdout",
          "output_type": "stream",
          "text": [
            "Epoch 1/10\n",
            "53/53 [==============================] - 53s 989ms/step - loss: 0.4272 - accuracy: 0.7960 - val_loss: 0.2468 - val_accuracy: 0.8602\n",
            "Epoch 2/10\n",
            "53/53 [==============================] - 56s 1s/step - loss: 0.1741 - accuracy: 0.9256 - val_loss: 0.1447 - val_accuracy: 0.9450\n",
            "Epoch 3/10\n",
            "53/53 [==============================] - 68s 1s/step - loss: 0.1229 - accuracy: 0.9483 - val_loss: 0.1210 - val_accuracy: 0.9510\n",
            "Epoch 4/10\n",
            "53/53 [==============================] - 52s 990ms/step - loss: 0.1046 - accuracy: 0.9543 - val_loss: 0.0941 - val_accuracy: 0.9582\n",
            "Epoch 5/10\n",
            "53/53 [==============================] - 55s 1s/step - loss: 0.0889 - accuracy: 0.9609 - val_loss: 0.0841 - val_accuracy: 0.9630\n",
            "Epoch 6/10\n",
            "53/53 [==============================] - 52s 984ms/step - loss: 0.0909 - accuracy: 0.9624 - val_loss: 0.0886 - val_accuracy: 0.9642\n",
            "Epoch 7/10\n",
            "53/53 [==============================] - 52s 988ms/step - loss: 0.0846 - accuracy: 0.9651 - val_loss: 0.0785 - val_accuracy: 0.9665\n",
            "Epoch 8/10\n",
            "53/53 [==============================] - 53s 993ms/step - loss: 0.0733 - accuracy: 0.9671 - val_loss: 0.0900 - val_accuracy: 0.9618\n",
            "Epoch 9/10\n",
            "53/53 [==============================] - 52s 983ms/step - loss: 0.0683 - accuracy: 0.9713 - val_loss: 0.0688 - val_accuracy: 0.9665\n",
            "Epoch 10/10\n",
            "53/53 [==============================] - 52s 979ms/step - loss: 0.0822 - accuracy: 0.9665 - val_loss: 0.0911 - val_accuracy: 0.9642\n"
          ]
        }
      ],
      "source": [
        "classifier_nn = model.fit(X_train,y_train,\n",
        "                    epochs=10,\n",
        "                    verbose=True,\n",
        "                    validation_data=(X_test, y_test),\n",
        "                    batch_size=64)"
      ]
    },
    {
      "cell_type": "code",
      "execution_count": null,
      "metadata": {
        "id": "8WKLi3X3RwPP"
      },
      "outputs": [],
      "source": [
        "pred=model.predict(X_test)"
      ]
    },
    {
      "cell_type": "code",
      "execution_count": null,
      "metadata": {
        "id": "6st4l1AcLjBm"
      },
      "outputs": [],
      "source": [
        "for i in range(len(pred)):\n",
        "    if pred[i]>0.5:\n",
        "        pred[i]=1\n",
        "    elif pred[i]<=0.5:\n",
        "        pred[i]=0"
      ]
    },
    {
      "cell_type": "code",
      "execution_count": null,
      "metadata": {
        "id": "YReK8Dt4SPre"
      },
      "outputs": [],
      "source": [
        "from sklearn.metrics import accuracy_score"
      ]
    },
    {
      "cell_type": "code",
      "execution_count": null,
      "metadata": {
        "colab": {
          "base_uri": "https://localhost:8080/"
        },
        "id": "agRgNaFGSrCW",
        "outputId": "b2988e25-f292-40a4-e139-9f0be2378405"
      },
      "outputs": [
        {
          "data": {
            "text/plain": [
              "0.96415770609319"
            ]
          },
          "execution_count": 28,
          "metadata": {},
          "output_type": "execute_result"
        }
      ],
      "source": [
        "accuracy_score(y_test,pred)"
      ]
    },
    {
      "cell_type": "code",
      "execution_count": null,
      "metadata": {
        "id": "YnqSYAxwNLze"
      },
      "outputs": [],
      "source": [
        "def accuracy_function(tp,tn,fp,fn):\n",
        "\n",
        "    accuracy = (tp+tn) / (tp+tn+fp+fn)\n",
        "\n",
        "    return accuracy"
      ]
    },
    {
      "cell_type": "code",
      "execution_count": null,
      "metadata": {
        "id": "EcjnwO7gNTO-"
      },
      "outputs": [],
      "source": [
        "def precision_function(tp,fp):\n",
        "\n",
        "    precision = tp / (tp+fp)\n",
        "\n",
        "    return precision"
      ]
    },
    {
      "cell_type": "code",
      "execution_count": null,
      "metadata": {
        "id": "V_FECPywNW2a"
      },
      "outputs": [],
      "source": [
        "def recall_function(tp,fn):\n",
        "\n",
        "    recall=tp / (tp+fn)\n",
        "\n",
        "    return recall"
      ]
    },
    {
      "cell_type": "code",
      "execution_count": null,
      "metadata": {
        "id": "kwJVX2onmap0"
      },
      "outputs": [],
      "source": [
        "def confusion_matrix(truth,predicted):\n",
        "\n",
        "    true_positive = 0\n",
        "    true_negative = 0\n",
        "    false_positive = 0\n",
        "    false_negative = 0\n",
        "\n",
        "    for true,pred in zip(truth,predicted):\n",
        "\n",
        "        if true == 1.0:\n",
        "            if pred == 1.0:\n",
        "                true_positive += 1\n",
        "            elif pred != 1.0:\n",
        "                false_negative += 1\n",
        "\n",
        "        elif true == 0.0:\n",
        "            if pred == 0.0:\n",
        "                true_negative += 1\n",
        "            elif pred != 0.0:\n",
        "                false_positive += 1\n",
        "\n",
        "    accuracy=accuracy_function(true_positive, true_negative, false_positive, false_negative)\n",
        "    precision=precision_function(true_positive, false_positive)\n",
        "    recall=recall_function(true_positive, false_negative)\n",
        "\n",
        "\n",
        "    return (true_positive, true_negative,\n",
        "            false_positive, false_negative,\n",
        "            accuracy,\n",
        "            precision,\n",
        "           recall)"
      ]
    },
    {
      "cell_type": "code",
      "execution_count": null,
      "metadata": {
        "id": "dW1pxMVeZXkY"
      },
      "outputs": [],
      "source": [
        "true_positive, true_negative, false_positive, false_negative, accuracy,precision,recall=confusion_matrix(y_test,pred)"
      ]
    },
    {
      "cell_type": "code",
      "execution_count": null,
      "metadata": {
        "colab": {
          "base_uri": "https://localhost:8080/"
        },
        "id": "AoJ8Pc2WZd0a",
        "outputId": "f4c60ab6-bab9-404e-d23c-dd22b23e7670"
      },
      "outputs": [
        {
          "name": "stdout",
          "output_type": "stream",
          "text": [
            "true_positive :  246\n",
            "true_negative :  561\n",
            "false_positive :  24\n",
            "false_negative :  6\n"
          ]
        }
      ],
      "source": [
        "print(\"true_positive : \", true_positive)\n",
        "print(\"true_negative : \", true_negative)\n",
        "print(\"false_positive : \",false_positive)\n",
        "print(\"false_negative : \", false_negative)"
      ]
    },
    {
      "cell_type": "code",
      "execution_count": null,
      "metadata": {
        "colab": {
          "base_uri": "https://localhost:8080/"
        },
        "id": "ggpG2TwYN0DC",
        "outputId": "ab18d7f2-0da0-4329-8237-9193fc4cb045"
      },
      "outputs": [
        {
          "name": "stdout",
          "output_type": "stream",
          "text": [
            " For CNN 3 layer 64 batch size and noramlization \n",
            " Accuracy : 0.96415770609319 \n",
            " Precision : 0.9111111111111111 \n",
            " Recall : 0.9761904761904762\n"
          ]
        }
      ],
      "source": [
        "print(\" For CNN 3 layer 64 batch size and noramlization \\n Accuracy : {0} \\n Precision : {1} \\n Recall : {2}\".format(accuracy, precision, recall))"
      ]
    },
    {
      "cell_type": "code",
      "execution_count": null,
      "metadata": {
        "colab": {
          "base_uri": "https://localhost:8080/",
          "height": 296
        },
        "id": "CYWeJTJQZRE8",
        "outputId": "1311e3f0-97fd-4221-84c7-9700045afbac"
      },
      "outputs": [
        {
          "data": {
            "image/png": "[encoded data removed]",
            "text/plain": [
              "<Figure size 432x288 with 1 Axes>"
            ]
          },
          "metadata": {},
          "output_type": "display_data"
        },
        {
          "name": "stdout",
          "output_type": "stream",
          "text": [
            "AUC  0.9675824175824177\n"
          ]
        }
      ],
      "source": [
        "import numpy as np\n",
        "import matplotlib.pyplot as plt\n",
        "from sklearn.metrics import roc_curve, auc\n",
        "from sklearn.metrics import roc_auc_score\n",
        "\n",
        "fpr, tpr, _ = roc_curve(y_test, pred)\n",
        "\n",
        "roc_auc = auc(fpr, tpr)\n",
        "plt.plot(fpr, tpr, color='darkorange',\n",
        "         lw=2, label='ROC curve (area = %0.2f)' % roc_auc)\n",
        "plt.xlabel(\"False positive rate\")\n",
        "plt.ylabel(\"True positive rate\")\n",
        "plt.show()\n",
        "print(\"AUC \", roc_auc)"
      ]
    },
    {
      "cell_type": "code",
      "execution_count": null,
      "metadata": {
        "id": "gtkOqgIgaRUg"
      },
      "outputs": [],
      "source": [
        "def draw_confusion_matrix(true_positive, true_negative, false_positive, false_negative):\n",
        "# total = true_positive + true_negative + false_positive + false_negative\n",
        "  a = np.asarray([[true_negative,false_positive], [false_negative,true_positive]])\n",
        "  ax = sns.heatmap(a, annot=True, fmt = \"d\", cmap=\"YlGnBu\")\n",
        "  ax.set(xlabel='Predicted Labels', ylabel='True Labels')\n",
        "  plt.title(\"Confusion matrix\")"
      ]
    },
    {
      "cell_type": "code",
      "execution_count": null,
      "metadata": {
        "id": "eo2FalMFjxjm"
      },
      "outputs": [],
      "source": [
        "import seaborn as sns"
      ]
    },
    {
      "cell_type": "code",
      "execution_count": null,
      "metadata": {
        "colab": {
          "base_uri": "https://localhost:8080/",
          "height": 295
        },
        "id": "UDPzlFNyaUgd",
        "outputId": "4ad5ad65-2803-4b0a-aefe-9bed0a8b4e9f"
      },
      "outputs": [
        {
          "data": {
            "image/png": "[encoded data removed]",
            "text/plain": [
              "<Figure size 432x288 with 2 Axes>"
            ]
          },
          "metadata": {},
          "output_type": "display_data"
        }
      ],
      "source": [
        "draw_confusion_matrix(true_positive, true_negative, false_positive, false_negative)\n"
      ]
    },
    {
      "cell_type": "code",
      "execution_count": null,
      "metadata": {
        "id": "BpDoWGdpgUYm"
      },
      "outputs": [],
      "source": [
        "# Saving the model\n",
        "from keras.models import load_model\n",
        "import pickle\n",
        "\n",
        "model.save('/content/drive/MyDrive/SQLI/my_model.h5')\n",
        "with open('/content/drive/MyDrive/SQLI/vectorizer_data', 'wb') as fin:\n",
        "    pickle.dump(vectorizer, fin)"
      ]
    },
    {
      "cell_type": "code",
      "execution_count": null,
      "metadata": {
        "id": "tnx6GiPDY8lB"
      },
      "outputs": [],
      "source": [
        "import keras\n",
        "from keras.models import load_model\n",
        "import pickle\n",
        "\n",
        "mymodel = load_model('/content/drive/MyDrive/SQLI/my_model.h5')\n",
        "myvectorizer = pickle.load(open(\"/content/drive/MyDrive/SQLI/vectorizer_data\", 'rb'))\n"
      ]
    },
    {
      "cell_type": "code",
      "execution_count": null,
      "metadata": {
        "id": "Un34xpPxlkcB"
      },
      "outputs": [],
      "source": [
        "def clean_data(input_val):\n",
        "\n",
        "    input_val=input_val.replace('\\n', '')\n",
        "    input_val=input_val.replace('%20', ' ')\n",
        "    input_val=input_val.replace('=', ' = ')\n",
        "    input_val=input_val.replace('((', ' (( ')\n",
        "    input_val=input_val.replace('))', ' )) ')\n",
        "    input_val=input_val.replace('(', ' ( ')\n",
        "    input_val=input_val.replace(')', ' ) ')\n",
        "    input_val=input_val.replace('1 ', 'numeric')\n",
        "    input_val=input_val.replace(' 1', 'numeric')\n",
        "    input_val=input_val.replace(\"'1 \", \"'numeric \")\n",
        "    input_val=input_val.replace(\" 1'\", \" numeric'\")\n",
        "    input_val=input_val.replace('1,', 'numeric,')\n",
        "    input_val=input_val.replace(\" 2 \", \" numeric \")\n",
        "    input_val=input_val.replace(' 3 ', ' numeric ')\n",
        "    input_val=input_val.replace(' 3--', ' numeric--')\n",
        "    input_val=input_val.replace(\" 4 \", ' numeric ')\n",
        "    input_val=input_val.replace(\" 5 \", ' numeric ')\n",
        "    input_val=input_val.replace(' 6 ', ' numeric ')\n",
        "    input_val=input_val.replace(\" 7 \", ' numeric ')\n",
        "    input_val=input_val.replace(\" 8 \", ' numeric ')\n",
        "    input_val=input_val.replace('1234', ' numeric ')\n",
        "    input_val=input_val.replace(\"22\", ' numeric ')\n",
        "    input_val=input_val.replace(\" 8 \", ' numeric ')\n",
        "    input_val=input_val.replace(\" 200 \", ' numeric ')\n",
        "    input_val=input_val.replace(\"23 \", ' numeric ')\n",
        "    input_val=input_val.replace('\"1', '\"numeric')\n",
        "    input_val=input_val.replace('1\"', '\"numeric')\n",
        "    input_val=input_val.replace(\"7659\", 'numeric')\n",
        "    input_val=input_val.replace(\" 37 \", ' numeric ')\n",
        "    input_val=input_val.replace(\" 45 \", ' numeric ')\n",
        "\n",
        "    return input_val"
      ]
    },
    {
      "cell_type": "code",
      "execution_count": null,
      "metadata": {
        "id": "FfbL1oXfllOo"
      },
      "outputs": [],
      "source": [
        "def predict_sqli_attack():\n",
        "\n",
        "    repeat=True\n",
        "\n",
        "    beautify=''\n",
        "    for i in range(20):\n",
        "        beautify+= \"=\"\n",
        "\n",
        "    print(beautify)\n",
        "    input_val=input(\"Give me some data to work on : \")\n",
        "    print(beautify)\n",
        "\n",
        "\n",
        "    if input_val== '0':\n",
        "        repeat=False\n",
        "\n",
        "\n",
        "\n",
        "    input_val=clean_data(input_val)\n",
        "    input_val=[input_val]\n",
        "\n",
        "\n",
        "\n",
        "    input_val=myvectorizer.transform(input_val).toarray()\n",
        "\n",
        "    input_val.shape=(1,64,64,1)\n",
        "\n",
        "    result=mymodel.predict(input_val)\n",
        "\n",
        "\n",
        "    print(beautify)\n",
        "\n",
        "    if repeat == True:\n",
        "\n",
        "        if result>0.5:\n",
        "            print(\"ALERT :::: This can be SQL injection\")\n",
        "\n",
        "\n",
        "        elif result<=0.5:\n",
        "            print(\"It seems to be safe\")\n",
        "\n",
        "        print(beautify)\n",
        "\n",
        "        predict_sqli_attack()\n",
        "\n",
        "    elif repeat == False:\n",
        "        print( \" Good Bye \")\n",
        "\n",
        "\n"
      ]
    },
    {
      "cell_type": "code",
      "execution_count": null,
      "metadata": {
        "colab": {
          "background_save": true,
          "base_uri": "https://localhost:8080/"
        },
        "id": "lhHYDGhBpSEc",
        "outputId": "736994fd-33f0-4b9d-f13e-a348cb2a8517"
      },
      "outputs": [
        {
          "name": "stdout",
          "output_type": "stream",
          "text": [
            "====================\n",
            "====================\n",
            "====================\n",
            "ALERT :::: This can be SQL injection\n",
            "====================\n",
            "====================\n",
            "====================\n",
            "====================\n",
            "ALERT :::: This can be SQL injection\n",
            "====================\n",
            "====================\n",
            "====================\n",
            "====================\n",
            "It seems to be safe\n",
            "====================\n",
            "====================\n",
            "====================\n",
            "====================\n",
            "ALERT :::: This can be SQL injection\n",
            "====================\n",
            "====================\n",
            "====================\n",
            "====================\n",
            "It seems to be safe\n",
            "====================\n",
            "====================\n",
            "====================\n",
            "====================\n",
            "It seems to be safe\n",
            "====================\n",
            "====================\n",
            "====================\n",
            "====================\n",
            "ALERT :::: This can be SQL injection\n",
            "====================\n",
            "====================\n",
            "====================\n",
            "====================\n",
            "ALERT :::: This can be SQL injection\n",
            "====================\n",
            "====================\n",
            "====================\n",
            "====================\n",
            "It seems to be safe\n",
            "====================\n",
            "====================\n"
          ]
        }
      ],
      "source": [
        "predict_sqli_attack()"
      ]
    },
    {
      "cell_type": "markdown",
      "metadata": {
        "id": "4XAvgH7D69GT"
      },
      "source": [
        "**Using Machine Learning Approach **"
      ]
    },
    {
      "cell_type": "code",
      "execution_count": null,
      "metadata": {
        "colab": {
          "base_uri": "https://localhost:8080/"
        },
        "id": "2JH8m3Ba7MdK",
        "outputId": "bc644414-5989-4a6e-ad56-5a0751b70f87"
      },
      "outputs": [
        {
          "name": "stdout",
          "output_type": "stream",
          "text": [
            "Collecting pywaffle\n",
            "  Downloading pywaffle-0.6.4-py2.py3-none-any.whl (565 kB)\n",
            "\u001b[?25l\r\u001b[K     |▋                               | 10 kB 16.1 MB/s eta 0:00:01\r\u001b[K     |█▏                              | 20 kB 19.0 MB/s eta 0:00:01\r\u001b[K     |█▊                              | 30 kB 23.3 MB/s eta 0:00:01\r\u001b[K     |██▎                             | 40 kB 26.0 MB/s eta 0:00:01\r\u001b[K     |███                             | 51 kB 28.9 MB/s eta 0:00:01\r\u001b[K     |███▌                            | 61 kB 32.4 MB/s eta 0:00:01\r\u001b[K     |████                            | 71 kB 25.5 MB/s eta 0:00:01\r\u001b[K     |████▋                           | 81 kB 24.9 MB/s eta 0:00:01\r\u001b[K     |█████▏                          | 92 kB 26.7 MB/s eta 0:00:01\r\u001b[K     |█████▉                          | 102 kB 28.4 MB/s eta 0:00:01\r\u001b[K     |██████▍                         | 112 kB 28.4 MB/s eta 0:00:01\r\u001b[K     |███████                         | 122 kB 28.4 MB/s eta 0:00:01\r\u001b[K     |███████▌                        | 133 kB 28.4 MB/s eta 0:00:01\r\u001b[K     |████████                        | 143 kB 28.4 MB/s eta 0:00:01\r\u001b[K     |████████▊                       | 153 kB 28.4 MB/s eta 0:00:01\r\u001b[K     |█████████▎                      | 163 kB 28.4 MB/s eta 0:00:01\r\u001b[K     |█████████▉                      | 174 kB 28.4 MB/s eta 0:00:01\r\u001b[K     |██████████▍                     | 184 kB 28.4 MB/s eta 0:00:01\r\u001b[K     |███████████                     | 194 kB 28.4 MB/s eta 0:00:01\r\u001b[K     |███████████▋                    | 204 kB 28.4 MB/s eta 0:00:01\r\u001b[K     |████████████▏                   | 215 kB 28.4 MB/s eta 0:00:01\r\u001b[K     |████████████▊                   | 225 kB 28.4 MB/s eta 0:00:01\r\u001b[K     |█████████████▎                  | 235 kB 28.4 MB/s eta 0:00:01\r\u001b[K     |██████████████                  | 245 kB 28.4 MB/s eta 0:00:01\r\u001b[K     |██████████████▌                 | 256 kB 28.4 MB/s eta 0:00:01\r\u001b[K     |███████████████                 | 266 kB 28.4 MB/s eta 0:00:01\r\u001b[K     |███████████████▋                | 276 kB 28.4 MB/s eta 0:00:01\r\u001b[K     |████████████████▏               | 286 kB 28.4 MB/s eta 0:00:01\r\u001b[K     |████████████████▉               | 296 kB 28.4 MB/s eta 0:00:01\r\u001b[K     |█████████████████▍              | 307 kB 28.4 MB/s eta 0:00:01\r\u001b[K     |██████████████████              | 317 kB 28.4 MB/s eta 0:00:01\r\u001b[K     |██████████████████▌             | 327 kB 28.4 MB/s eta 0:00:01\r\u001b[K     |███████████████████             | 337 kB 28.4 MB/s eta 0:00:01\r\u001b[K     |███████████████████▊            | 348 kB 28.4 MB/s eta 0:00:01\r\u001b[K     |████████████████████▎           | 358 kB 28.4 MB/s eta 0:00:01\r\u001b[K     |████████████████████▉           | 368 kB 28.4 MB/s eta 0:00:01\r\u001b[K     |█████████████████████▍          | 378 kB 28.4 MB/s eta 0:00:01\r\u001b[K     |██████████████████████          | 389 kB 28.4 MB/s eta 0:00:01\r\u001b[K     |██████████████████████▋         | 399 kB 28.4 MB/s eta 0:00:01\r\u001b[K     |███████████████████████▏        | 409 kB 28.4 MB/s eta 0:00:01\r\u001b[K     |███████████████████████▊        | 419 kB 28.4 MB/s eta 0:00:01\r\u001b[K     |████████████████████████▎       | 430 kB 28.4 MB/s eta 0:00:01\r\u001b[K     |█████████████████████████       | 440 kB 28.4 MB/s eta 0:00:01\r\u001b[K     |█████████████████████████▌      | 450 kB 28.4 MB/s eta 0:00:01\r\u001b[K     |██████████████████████████      | 460 kB 28.4 MB/s eta 0:00:01\r\u001b[K     |██████████████████████████▋     | 471 kB 28.4 MB/s eta 0:00:01\r\u001b[K     |███████████████████████████▏    | 481 kB 28.4 MB/s eta 0:00:01\r\u001b[K     |███████████████████████████▉    | 491 kB 28.4 MB/s eta 0:00:01\r\u001b[K     |████████████████████████████▍   | 501 kB 28.4 MB/s eta 0:00:01\r\u001b[K     |█████████████████████████████   | 512 kB 28.4 MB/s eta 0:00:01\r\u001b[K     |█████████████████████████████▌  | 522 kB 28.4 MB/s eta 0:00:01\r\u001b[K     |██████████████████████████████▏ | 532 kB 28.4 MB/s eta 0:00:01\r\u001b[K     |██████████████████████████████▊ | 542 kB 28.4 MB/s eta 0:00:01\r\u001b[K     |███████████████████████████████▎| 552 kB 28.4 MB/s eta 0:00:01\r\u001b[K     |███████████████████████████████▉| 563 kB 28.4 MB/s eta 0:00:01\r\u001b[K     |████████████████████████████████| 565 kB 28.4 MB/s \n",
            "\u001b[?25hRequirement already satisfied: matplotlib in /usr/local/lib/python3.7/dist-packages (from pywaffle) (3.2.2)\n",
            "Requirement already satisfied: numpy>=1.11 in /usr/local/lib/python3.7/dist-packages (from matplotlib->pywaffle) (1.21.5)\n",
            "Requirement already satisfied: cycler>=0.10 in /usr/local/lib/python3.7/dist-packages (from matplotlib->pywaffle) (0.11.0)\n",
            "Requirement already satisfied: pyparsing!=2.0.4,!=2.1.2,!=2.1.6,>=2.0.1 in /usr/local/lib/python3.7/dist-packages (from matplotlib->pywaffle) (3.0.7)\n",
            "Requirement already satisfied: kiwisolver>=1.0.1 in /usr/local/lib/python3.7/dist-packages (from matplotlib->pywaffle) (1.4.0)\n",
            "Requirement already satisfied: python-dateutil>=2.1 in /usr/local/lib/python3.7/dist-packages (from matplotlib->pywaffle) (2.8.2)\n",
            "Requirement already satisfied: typing-extensions in /usr/local/lib/python3.7/dist-packages (from kiwisolver>=1.0.1->matplotlib->pywaffle) (3.10.0.2)\n",
            "Requirement already satisfied: six>=1.5 in /usr/local/lib/python3.7/dist-packages (from python-dateutil>=2.1->matplotlib->pywaffle) (1.15.0)\n",
            "Installing collected packages: pywaffle\n",
            "Successfully installed pywaffle-0.6.4\n"
          ]
        }
      ],
      "source": [
        "pip install pywaffle"
      ]
    },
    {
      "cell_type": "code",
      "execution_count": null,
      "metadata": {
        "colab": {
          "base_uri": "https://localhost:8080/",
          "height": 424
        },
        "id": "ZGTZDrPr50ib",
        "outputId": "9d035329-712e-464e-bc3b-9eb2dbb89753"
      },
      "outputs": [
        {
          "data": {
            "text/html": [
              "\n",
              "  <div id=\"df-2197141e-1092-40c1-9221-337ca33b9865\">\n",
              "    <div class=\"colab-df-container\">\n",
              "      <div>\n",
              "<style scoped>\n",
              "    .dataframe tbody tr th:only-of-type {\n",
              "        vertical-align: middle;\n",
              "    }\n",
              "\n",
              "    .dataframe tbody tr th {\n",
              "        vertical-align: top;\n",
              "    }\n",
              "\n",
              "    .dataframe thead th {\n",
              "        text-align: right;\n",
              "    }\n",
              "</style>\n",
              "<table border=\"1\" class=\"dataframe\">\n",
              "  <thead>\n",
              "    <tr style=\"text-align: right;\">\n",
              "      <th></th>\n",
              "      <th>Sentence</th>\n",
              "      <th>Label</th>\n",
              "      <th>Class</th>\n",
              "    </tr>\n",
              "  </thead>\n",
              "  <tbody>\n",
              "    <tr>\n",
              "      <th>0</th>\n",
              "      <td>a</td>\n",
              "      <td>1</td>\n",
              "      <td>SQLI</td>\n",
              "    </tr>\n",
              "    <tr>\n",
              "      <th>1</th>\n",
              "      <td>a'</td>\n",
              "      <td>1</td>\n",
              "      <td>SQLI</td>\n",
              "    </tr>\n",
              "    <tr>\n",
              "      <th>2</th>\n",
              "      <td>a' --</td>\n",
              "      <td>1</td>\n",
              "      <td>SQLI</td>\n",
              "    </tr>\n",
              "    <tr>\n",
              "      <th>3</th>\n",
              "      <td>a' or 1 = 1; --</td>\n",
              "      <td>1</td>\n",
              "      <td>SQLI</td>\n",
              "    </tr>\n",
              "    <tr>\n",
              "      <th>4</th>\n",
              "      <td>@</td>\n",
              "      <td>1</td>\n",
              "      <td>SQLI</td>\n",
              "    </tr>\n",
              "    <tr>\n",
              "      <th>...</th>\n",
              "      <td>...</td>\n",
              "      <td>...</td>\n",
              "      <td>...</td>\n",
              "    </tr>\n",
              "    <tr>\n",
              "      <th>4194</th>\n",
              "      <td>org/?option = com_k2  &lt;a href = \"http://corfopym</td>\n",
              "      <td>0</td>\n",
              "      <td>NORMAL</td>\n",
              "    </tr>\n",
              "    <tr>\n",
              "      <th>4195</th>\n",
              "      <td>com/?option = com_k2  &lt;act&gt;  &lt;![CDATA[procMemb...</td>\n",
              "      <td>0</td>\n",
              "      <td>NORMAL</td>\n",
              "    </tr>\n",
              "    <tr>\n",
              "      <th>4196</th>\n",
              "      <td>picsearch</td>\n",
              "      <td>0</td>\n",
              "      <td>NORMAL</td>\n",
              "    </tr>\n",
              "    <tr>\n",
              "      <th>4197</th>\n",
              "      <td>com/is?-WZx-uhyLezKNiYLvAbKL3W4oh5F749nr2KUmFF...</td>\n",
              "      <td>0</td>\n",
              "      <td>NORMAL</td>\n",
              "    </tr>\n",
              "    <tr>\n",
              "      <th>4198</th>\n",
              "      <td>de]]&gt;  &lt;/email_address&gt;   &lt;find_account_answer...</td>\n",
              "      <td>0</td>\n",
              "      <td>NORMAL</td>\n",
              "    </tr>\n",
              "  </tbody>\n",
              "</table>\n",
              "<p>4199 rows × 3 columns</p>\n",
              "</div>\n",
              "      <button class=\"colab-df-convert\" onclick=\"convertToInteractive('df-2197141e-1092-40c1-9221-337ca33b9865')\"\n",
              "              title=\"Convert this dataframe to an interactive table.\"\n",
              "              style=\"display:none;\">\n",
              "        \n",
              "  <svg xmlns=\"http://www.w3.org/2000/svg\" height=\"24px\"viewBox=\"0 0 24 24\"\n",
              "       width=\"24px\">\n",
              "    <path d=\"M0 0h24v24H0V0z\" fill=\"none\"/>\n",
              "    <path d=\"M18.56 5.44l.94 2.06.94-2.06 2.06-.94-2.06-.94-.94-2.06-.94 2.06-2.06.94zm-11 1L8.5 8.5l.94-2.06 2.06-.94-2.06-.94L8.5 2.5l-.94 2.06-2.06.94zm10 10l.94 2.06.94-2.06 2.06-.94-2.06-.94-.94-2.06-.94 2.06-2.06.94z\"/><path d=\"M17.41 7.96l-1.37-1.37c-.4-.4-.92-.59-1.43-.59-.52 0-1.04.2-1.43.59L10.3 9.45l-7.72 7.72c-.78.78-.78 2.05 0 2.83L4 21.41c.39.39.9.59 1.41.59.51 0 1.02-.2 1.41-.59l7.78-7.78 2.81-2.81c.8-.78.8-2.07 0-2.86zM5.41 20L4 18.59l7.72-7.72 1.47 1.35L5.41 20z\"/>\n",
              "  </svg>\n",
              "      </button>\n",
              "      \n",
              "  <style>\n",
              "    .colab-df-container {\n",
              "      display:flex;\n",
              "      flex-wrap:wrap;\n",
              "      gap: 12px;\n",
              "    }\n",
              "\n",
              "    .colab-df-convert {\n",
              "      background-color: #E8F0FE;\n",
              "      border: none;\n",
              "      border-radius: 50%;\n",
              "      cursor: pointer;\n",
              "      display: none;\n",
              "      fill: #1967D2;\n",
              "      height: 32px;\n",
              "      padding: 0 0 0 0;\n",
              "      width: 32px;\n",
              "    }\n",
              "\n",
              "    .colab-df-convert:hover {\n",
              "      background-color: #E2EBFA;\n",
              "      box-shadow: 0px 1px 2px rgba(60, 64, 67, 0.3), 0px 1px 3px 1px rgba(60, 64, 67, 0.15);\n",
              "      fill: #174EA6;\n",
              "    }\n",
              "\n",
              "    [theme=dark] .colab-df-convert {\n",
              "      background-color: #3B4455;\n",
              "      fill: #D2E3FC;\n",
              "    }\n",
              "\n",
              "    [theme=dark] .colab-df-convert:hover {\n",
              "      background-color: #434B5C;\n",
              "      box-shadow: 0px 1px 3px 1px rgba(0, 0, 0, 0.15);\n",
              "      filter: drop-shadow(0px 1px 2px rgba(0, 0, 0, 0.3));\n",
              "      fill: #FFFFFF;\n",
              "    }\n",
              "  </style>\n",
              "\n",
              "      <script>\n",
              "        const buttonEl =\n",
              "          document.querySelector('#df-2197141e-1092-40c1-9221-337ca33b9865 button.colab-df-convert');\n",
              "        buttonEl.style.display =\n",
              "          google.colab.kernel.accessAllowed ? 'block' : 'none';\n",
              "\n",
              "        async function convertToInteractive(key) {\n",
              "          const element = document.querySelector('#df-2197141e-1092-40c1-9221-337ca33b9865');\n",
              "          const dataTable =\n",
              "            await google.colab.kernel.invokeFunction('convertToInteractive',\n",
              "                                                     [key], {});\n",
              "          if (!dataTable) return;\n",
              "\n",
              "          const docLinkHtml = 'Like what you see? Visit the ' +\n",
              "            '<a target=\"_blank\" href=https://colab.research.google.com/notebooks/data_table.ipynb>data table notebook</a>'\n",
              "            + ' to learn more about interactive tables.';\n",
              "          element.innerHTML = '';\n",
              "          dataTable['output_type'] = 'display_data';\n",
              "          await google.colab.output.renderOutput(dataTable, element);\n",
              "          const docLink = document.createElement('div');\n",
              "          docLink.innerHTML = docLinkHtml;\n",
              "          element.appendChild(docLink);\n",
              "        }\n",
              "      </script>\n",
              "    </div>\n",
              "  </div>\n",
              "  "
            ],
            "text/plain": [
              "                                               Sentence  Label   Class\n",
              "0                                                     a      1    SQLI\n",
              "1                                                    a'      1    SQLI\n",
              "2                                                 a' --      1    SQLI\n",
              "3                                       a' or 1 = 1; --      1    SQLI\n",
              "4                                                     @      1    SQLI\n",
              "...                                                 ...    ...     ...\n",
              "4194   org/?option = com_k2  <a href = \"http://corfopym      0  NORMAL\n",
              "4195  com/?option = com_k2  <act>  <![CDATA[procMemb...      0  NORMAL\n",
              "4196                                          picsearch      0  NORMAL\n",
              "4197  com/is?-WZx-uhyLezKNiYLvAbKL3W4oh5F749nr2KUmFF...      0  NORMAL\n",
              "4198  de]]>  </email_address>   <find_account_answer...      0  NORMAL\n",
              "\n",
              "[4199 rows x 3 columns]"
            ]
          },
          "execution_count": 50,
          "metadata": {},
          "output_type": "execute_result"
        }
      ],
      "source": [
        "import pandas as pd\n",
        "import matplotlib.pyplot as plt\n",
        "import seaborn as sns\n",
        "sns.set_style(\"whitegrid\")\n",
        "import altair as alt\n",
        "alt.renderers.enable(\"default\")\n",
        "\n",
        "from pywaffle import Waffle\n",
        "\n",
        "# Code for hiding seaborn warnings\n",
        "import warnings\n",
        "warnings.filterwarnings(\"ignore\")\n",
        "\n",
        "# Data read\n",
        "# data = pd.read_csv('nfr.csv')\n",
        "data = pd.read_csv('/content/drive/MyDrive/SQLI/sqli_modified.csv')\n",
        "\n",
        "data"
      ]
    },
    {
      "cell_type": "code",
      "execution_count": null,
      "metadata": {
        "colab": {
          "base_uri": "https://localhost:8080/",
          "height": 206
        },
        "id": "I7GjQsLc7Xlg",
        "outputId": "c88bc057-73a3-4d24-a7cf-4d15d00b290c"
      },
      "outputs": [
        {
          "data": {
            "text/html": [
              "\n",
              "  <div id=\"df-46d35f97-fc4e-4557-9aae-2c5f8df99ee2\">\n",
              "    <div class=\"colab-df-container\">\n",
              "      <div>\n",
              "<style scoped>\n",
              "    .dataframe tbody tr th:only-of-type {\n",
              "        vertical-align: middle;\n",
              "    }\n",
              "\n",
              "    .dataframe tbody tr th {\n",
              "        vertical-align: top;\n",
              "    }\n",
              "\n",
              "    .dataframe thead th {\n",
              "        text-align: right;\n",
              "    }\n",
              "</style>\n",
              "<table border=\"1\" class=\"dataframe\">\n",
              "  <thead>\n",
              "    <tr style=\"text-align: right;\">\n",
              "      <th></th>\n",
              "      <th>Sentence</th>\n",
              "      <th>Label</th>\n",
              "      <th>Class</th>\n",
              "    </tr>\n",
              "  </thead>\n",
              "  <tbody>\n",
              "    <tr>\n",
              "      <th>0</th>\n",
              "      <td>a</td>\n",
              "      <td>1</td>\n",
              "      <td>SQLI</td>\n",
              "    </tr>\n",
              "    <tr>\n",
              "      <th>1</th>\n",
              "      <td>a'</td>\n",
              "      <td>1</td>\n",
              "      <td>SQLI</td>\n",
              "    </tr>\n",
              "    <tr>\n",
              "      <th>2</th>\n",
              "      <td>a' --</td>\n",
              "      <td>1</td>\n",
              "      <td>SQLI</td>\n",
              "    </tr>\n",
              "    <tr>\n",
              "      <th>3</th>\n",
              "      <td>a' or 1 = 1; --</td>\n",
              "      <td>1</td>\n",
              "      <td>SQLI</td>\n",
              "    </tr>\n",
              "    <tr>\n",
              "      <th>4</th>\n",
              "      <td>@</td>\n",
              "      <td>1</td>\n",
              "      <td>SQLI</td>\n",
              "    </tr>\n",
              "  </tbody>\n",
              "</table>\n",
              "</div>\n",
              "      <button class=\"colab-df-convert\" onclick=\"convertToInteractive('df-46d35f97-fc4e-4557-9aae-2c5f8df99ee2')\"\n",
              "              title=\"Convert this dataframe to an interactive table.\"\n",
              "              style=\"display:none;\">\n",
              "        \n",
              "  <svg xmlns=\"http://www.w3.org/2000/svg\" height=\"24px\"viewBox=\"0 0 24 24\"\n",
              "       width=\"24px\">\n",
              "    <path d=\"M0 0h24v24H0V0z\" fill=\"none\"/>\n",
              "    <path d=\"M18.56 5.44l.94 2.06.94-2.06 2.06-.94-2.06-.94-.94-2.06-.94 2.06-2.06.94zm-11 1L8.5 8.5l.94-2.06 2.06-.94-2.06-.94L8.5 2.5l-.94 2.06-2.06.94zm10 10l.94 2.06.94-2.06 2.06-.94-2.06-.94-.94-2.06-.94 2.06-2.06.94z\"/><path d=\"M17.41 7.96l-1.37-1.37c-.4-.4-.92-.59-1.43-.59-.52 0-1.04.2-1.43.59L10.3 9.45l-7.72 7.72c-.78.78-.78 2.05 0 2.83L4 21.41c.39.39.9.59 1.41.59.51 0 1.02-.2 1.41-.59l7.78-7.78 2.81-2.81c.8-.78.8-2.07 0-2.86zM5.41 20L4 18.59l7.72-7.72 1.47 1.35L5.41 20z\"/>\n",
              "  </svg>\n",
              "      </button>\n",
              "      \n",
              "  <style>\n",
              "    .colab-df-container {\n",
              "      display:flex;\n",
              "      flex-wrap:wrap;\n",
              "      gap: 12px;\n",
              "    }\n",
              "\n",
              "    .colab-df-convert {\n",
              "      background-color: #E8F0FE;\n",
              "      border: none;\n",
              "      border-radius: 50%;\n",
              "      cursor: pointer;\n",
              "      display: none;\n",
              "      fill: #1967D2;\n",
              "      height: 32px;\n",
              "      padding: 0 0 0 0;\n",
              "      width: 32px;\n",
              "    }\n",
              "\n",
              "    .colab-df-convert:hover {\n",
              "      background-color: #E2EBFA;\n",
              "      box-shadow: 0px 1px 2px rgba(60, 64, 67, 0.3), 0px 1px 3px 1px rgba(60, 64, 67, 0.15);\n",
              "      fill: #174EA6;\n",
              "    }\n",
              "\n",
              "    [theme=dark] .colab-df-convert {\n",
              "      background-color: #3B4455;\n",
              "      fill: #D2E3FC;\n",
              "    }\n",
              "\n",
              "    [theme=dark] .colab-df-convert:hover {\n",
              "      background-color: #434B5C;\n",
              "      box-shadow: 0px 1px 3px 1px rgba(0, 0, 0, 0.15);\n",
              "      filter: drop-shadow(0px 1px 2px rgba(0, 0, 0, 0.3));\n",
              "      fill: #FFFFFF;\n",
              "    }\n",
              "  </style>\n",
              "\n",
              "      <script>\n",
              "        const buttonEl =\n",
              "          document.querySelector('#df-46d35f97-fc4e-4557-9aae-2c5f8df99ee2 button.colab-df-convert');\n",
              "        buttonEl.style.display =\n",
              "          google.colab.kernel.accessAllowed ? 'block' : 'none';\n",
              "\n",
              "        async function convertToInteractive(key) {\n",
              "          const element = document.querySelector('#df-46d35f97-fc4e-4557-9aae-2c5f8df99ee2');\n",
              "          const dataTable =\n",
              "            await google.colab.kernel.invokeFunction('convertToInteractive',\n",
              "                                                     [key], {});\n",
              "          if (!dataTable) return;\n",
              "\n",
              "          const docLinkHtml = 'Like what you see? Visit the ' +\n",
              "            '<a target=\"_blank\" href=https://colab.research.google.com/notebooks/data_table.ipynb>data table notebook</a>'\n",
              "            + ' to learn more about interactive tables.';\n",
              "          element.innerHTML = '';\n",
              "          dataTable['output_type'] = 'display_data';\n",
              "          await google.colab.output.renderOutput(dataTable, element);\n",
              "          const docLink = document.createElement('div');\n",
              "          docLink.innerHTML = docLinkHtml;\n",
              "          element.appendChild(docLink);\n",
              "        }\n",
              "      </script>\n",
              "    </div>\n",
              "  </div>\n",
              "  "
            ],
            "text/plain": [
              "          Sentence  Label Class\n",
              "0                a      1  SQLI\n",
              "1               a'      1  SQLI\n",
              "2            a' --      1  SQLI\n",
              "3  a' or 1 = 1; --      1  SQLI\n",
              "4                @      1  SQLI"
            ]
          },
          "execution_count": 51,
          "metadata": {},
          "output_type": "execute_result"
        }
      ],
      "source": [
        "data.head()"
      ]
    },
    {
      "cell_type": "code",
      "execution_count": null,
      "metadata": {
        "colab": {
          "base_uri": "https://localhost:8080/",
          "height": 206
        },
        "id": "G4l7ko_87dv8",
        "outputId": "46e0914f-41d0-4eee-a1c5-2eade723f9dc"
      },
      "outputs": [
        {
          "data": {
            "text/html": [
              "\n",
              "  <div id=\"df-b39e41da-3a90-4b29-b36c-bcb23c7809aa\">\n",
              "    <div class=\"colab-df-container\">\n",
              "      <div>\n",
              "<style scoped>\n",
              "    .dataframe tbody tr th:only-of-type {\n",
              "        vertical-align: middle;\n",
              "    }\n",
              "\n",
              "    .dataframe tbody tr th {\n",
              "        vertical-align: top;\n",
              "    }\n",
              "\n",
              "    .dataframe thead th {\n",
              "        text-align: right;\n",
              "    }\n",
              "</style>\n",
              "<table border=\"1\" class=\"dataframe\">\n",
              "  <thead>\n",
              "    <tr style=\"text-align: right;\">\n",
              "      <th></th>\n",
              "      <th>Sentence</th>\n",
              "      <th>Label</th>\n",
              "      <th>Class</th>\n",
              "    </tr>\n",
              "  </thead>\n",
              "  <tbody>\n",
              "    <tr>\n",
              "      <th>4194</th>\n",
              "      <td>org/?option = com_k2  &lt;a href = \"http://corfopym</td>\n",
              "      <td>0</td>\n",
              "      <td>NORMAL</td>\n",
              "    </tr>\n",
              "    <tr>\n",
              "      <th>4195</th>\n",
              "      <td>com/?option = com_k2  &lt;act&gt;  &lt;![CDATA[procMemb...</td>\n",
              "      <td>0</td>\n",
              "      <td>NORMAL</td>\n",
              "    </tr>\n",
              "    <tr>\n",
              "      <th>4196</th>\n",
              "      <td>picsearch</td>\n",
              "      <td>0</td>\n",
              "      <td>NORMAL</td>\n",
              "    </tr>\n",
              "    <tr>\n",
              "      <th>4197</th>\n",
              "      <td>com/is?-WZx-uhyLezKNiYLvAbKL3W4oh5F749nr2KUmFF...</td>\n",
              "      <td>0</td>\n",
              "      <td>NORMAL</td>\n",
              "    </tr>\n",
              "    <tr>\n",
              "      <th>4198</th>\n",
              "      <td>de]]&gt;  &lt;/email_address&gt;   &lt;find_account_answer...</td>\n",
              "      <td>0</td>\n",
              "      <td>NORMAL</td>\n",
              "    </tr>\n",
              "  </tbody>\n",
              "</table>\n",
              "</div>\n",
              "      <button class=\"colab-df-convert\" onclick=\"convertToInteractive('df-b39e41da-3a90-4b29-b36c-bcb23c7809aa')\"\n",
              "              title=\"Convert this dataframe to an interactive table.\"\n",
              "              style=\"display:none;\">\n",
              "        \n",
              "  <svg xmlns=\"http://www.w3.org/2000/svg\" height=\"24px\"viewBox=\"0 0 24 24\"\n",
              "       width=\"24px\">\n",
              "    <path d=\"M0 0h24v24H0V0z\" fill=\"none\"/>\n",
              "    <path d=\"M18.56 5.44l.94 2.06.94-2.06 2.06-.94-2.06-.94-.94-2.06-.94 2.06-2.06.94zm-11 1L8.5 8.5l.94-2.06 2.06-.94-2.06-.94L8.5 2.5l-.94 2.06-2.06.94zm10 10l.94 2.06.94-2.06 2.06-.94-2.06-.94-.94-2.06-.94 2.06-2.06.94z\"/><path d=\"M17.41 7.96l-1.37-1.37c-.4-.4-.92-.59-1.43-.59-.52 0-1.04.2-1.43.59L10.3 9.45l-7.72 7.72c-.78.78-.78 2.05 0 2.83L4 21.41c.39.39.9.59 1.41.59.51 0 1.02-.2 1.41-.59l7.78-7.78 2.81-2.81c.8-.78.8-2.07 0-2.86zM5.41 20L4 18.59l7.72-7.72 1.47 1.35L5.41 20z\"/>\n",
              "  </svg>\n",
              "      </button>\n",
              "      \n",
              "  <style>\n",
              "    .colab-df-container {\n",
              "      display:flex;\n",
              "      flex-wrap:wrap;\n",
              "      gap: 12px;\n",
              "    }\n",
              "\n",
              "    .colab-df-convert {\n",
              "      background-color: #E8F0FE;\n",
              "      border: none;\n",
              "      border-radius: 50%;\n",
              "      cursor: pointer;\n",
              "      display: none;\n",
              "      fill: #1967D2;\n",
              "      height: 32px;\n",
              "      padding: 0 0 0 0;\n",
              "      width: 32px;\n",
              "    }\n",
              "\n",
              "    .colab-df-convert:hover {\n",
              "      background-color: #E2EBFA;\n",
              "      box-shadow: 0px 1px 2px rgba(60, 64, 67, 0.3), 0px 1px 3px 1px rgba(60, 64, 67, 0.15);\n",
              "      fill: #174EA6;\n",
              "    }\n",
              "\n",
              "    [theme=dark] .colab-df-convert {\n",
              "      background-color: #3B4455;\n",
              "      fill: #D2E3FC;\n",
              "    }\n",
              "\n",
              "    [theme=dark] .colab-df-convert:hover {\n",
              "      background-color: #434B5C;\n",
              "      box-shadow: 0px 1px 3px 1px rgba(0, 0, 0, 0.15);\n",
              "      filter: drop-shadow(0px 1px 2px rgba(0, 0, 0, 0.3));\n",
              "      fill: #FFFFFF;\n",
              "    }\n",
              "  </style>\n",
              "\n",
              "      <script>\n",
              "        const buttonEl =\n",
              "          document.querySelector('#df-b39e41da-3a90-4b29-b36c-bcb23c7809aa button.colab-df-convert');\n",
              "        buttonEl.style.display =\n",
              "          google.colab.kernel.accessAllowed ? 'block' : 'none';\n",
              "\n",
              "        async function convertToInteractive(key) {\n",
              "          const element = document.querySelector('#df-b39e41da-3a90-4b29-b36c-bcb23c7809aa');\n",
              "          const dataTable =\n",
              "            await google.colab.kernel.invokeFunction('convertToInteractive',\n",
              "                                                     [key], {});\n",
              "          if (!dataTable) return;\n",
              "\n",
              "          const docLinkHtml = 'Like what you see? Visit the ' +\n",
              "            '<a target=\"_blank\" href=https://colab.research.google.com/notebooks/data_table.ipynb>data table notebook</a>'\n",
              "            + ' to learn more about interactive tables.';\n",
              "          element.innerHTML = '';\n",
              "          dataTable['output_type'] = 'display_data';\n",
              "          await google.colab.output.renderOutput(dataTable, element);\n",
              "          const docLink = document.createElement('div');\n",
              "          docLink.innerHTML = docLinkHtml;\n",
              "          element.appendChild(docLink);\n",
              "        }\n",
              "      </script>\n",
              "    </div>\n",
              "  </div>\n",
              "  "
            ],
            "text/plain": [
              "                                               Sentence  Label   Class\n",
              "4194   org/?option = com_k2  <a href = \"http://corfopym      0  NORMAL\n",
              "4195  com/?option = com_k2  <act>  <![CDATA[procMemb...      0  NORMAL\n",
              "4196                                          picsearch      0  NORMAL\n",
              "4197  com/is?-WZx-uhyLezKNiYLvAbKL3W4oh5F749nr2KUmFF...      0  NORMAL\n",
              "4198  de]]>  </email_address>   <find_account_answer...      0  NORMAL"
            ]
          },
          "execution_count": 52,
          "metadata": {},
          "output_type": "execute_result"
        }
      ],
      "source": [
        "data.tail()"
      ]
    },
    {
      "cell_type": "code",
      "execution_count": null,
      "metadata": {
        "colab": {
          "base_uri": "https://localhost:8080/",
          "height": 418
        },
        "id": "TuJejcOeGBls",
        "outputId": "beec27b9-b0f7-465c-d930-f85bbb73f55a"
      },
      "outputs": [
        {
          "data": {
            "text/html": [
              "\n",
              "<div id=\"altair-viz-e20e49aa25ae44f2bdb4aa3705d041f1\"></div>\n",
              "<script type=\"text/javascript\">\n",
              "  var VEGA_DEBUG = (typeof VEGA_DEBUG == \"undefined\") ? {} : VEGA_DEBUG;\n",
              "  (function(spec, embedOpt){\n",
              "    let outputDiv = document.currentScript.previousElementSibling;\n",
              "    if (outputDiv.id !== \"altair-viz-e20e49aa25ae44f2bdb4aa3705d041f1\") {\n",
              "      outputDiv = document.getElementById(\"altair-viz-e20e49aa25ae44f2bdb4aa3705d041f1\");\n",
              "    }\n",
              "    const paths = {\n",
              "      \"vega\": \"https://cdn.jsdelivr.net/npm//vega@5?noext\",\n",
              "      \"vega-lib\": \"https://cdn.jsdelivr.net/npm//vega-lib?noext\",\n",
              "      \"vega-lite\": \"https://cdn.jsdelivr.net/npm//vega-lite@4.17.0?noext\",\n",
              "      \"vega-embed\": \"https://cdn.jsdelivr.net/npm//vega-embed@6?noext\",\n",
              "    };\n",
              "\n",
              "    function maybeLoadScript(lib, version) {\n",
              "      var key = `${lib.replace(\"-\", \"\")}_version`;\n",
              "      return (VEGA_DEBUG[key] == version) ?\n",
              "        Promise.resolve(paths[lib]) :\n",
              "        new Promise(function(resolve, reject) {\n",
              "          var s = document.createElement('script');\n",
              "          document.getElementsByTagName(\"head\")[0].appendChild(s);\n",
              "          s.async = true;\n",
              "          s.onload = () => {\n",
              "            VEGA_DEBUG[key] = version;\n",
              "            return resolve(paths[lib]);\n",
              "          };\n",
              "          s.onerror = () => reject(`Error loading script: ${paths[lib]}`);\n",
              "          s.src = paths[lib];\n",
              "        });\n",
              "    }\n",
              "\n",
              "    function showError(err) {\n",
              "      outputDiv.innerHTML = `<div class=\"error\" style=\"color:red;\">${err}</div>`;\n",
              "      throw err;\n",
              "    }\n",
              "\n",
              "    function displayChart(vegaEmbed) {\n",
              "      vegaEmbed(outputDiv, spec, embedOpt)\n",
              "        .catch(err => showError(`Javascript Error: ${err.message}<br>This usually means there's a typo in your chart specification. See the javascript console for the full traceback.`));\n",
              "    }\n",
              "\n",
              "    if(typeof define === \"function\" && define.amd) {\n",
              "      requirejs.config({paths});\n",
              "      require([\"vega-embed\"], displayChart, err => showError(`Error loading script: ${err.message}`));\n",
              "    } else {\n",
              "      maybeLoadScript(\"vega\", \"5\")\n",
              "        .then(() => maybeLoadScript(\"vega-lite\", \"4.17.0\"))\n",
              "        .then(() => maybeLoadScript(\"vega-embed\", \"6\"))\n",
              "        .catch(showError)\n",
              "        .then(() => displayChart(vegaEmbed));\n",
              "    }\n",
              "  })({\"config\": {\"view\": {\"continuousWidth\": 400, \"continuousHeight\": 300}}, \"layer\": [{\"mark\": {\"type\": \"bar\", \"size\": 50}, \"encoding\": {\"color\": {\"field\": \"Class\", \"type\": \"nominal\"}, \"tooltip\": [{\"aggregate\": \"count\", \"title\": \"Frequency\", \"type\": \"quantitative\"}, {\"field\": \"Class\", \"type\": \"nominal\"}], \"x\": {\"axis\": {\"title\": \"Categories\"}, \"field\": \"Class\", \"type\": \"nominal\"}, \"y\": {\"aggregate\": \"count\", \"axis\": {\"title\": \"Frequency\"}, \"type\": \"quantitative\"}}, \"selection\": {\"selector001\": {\"type\": \"interval\", \"bind\": \"scales\", \"encodings\": [\"x\", \"y\"]}}}, {\"mark\": {\"type\": \"text\", \"align\": \"center\", \"baseline\": \"bottom\"}, \"encoding\": {\"color\": {\"field\": \"Class\", \"type\": \"nominal\"}, \"text\": {\"aggregate\": \"count\", \"type\": \"quantitative\"}, \"tooltip\": [{\"aggregate\": \"count\", \"title\": \"Frequency\", \"type\": \"quantitative\"}, {\"field\": \"Class\", \"type\": \"nominal\"}], \"x\": {\"axis\": {\"title\": \"Categories\"}, \"field\": \"Class\", \"type\": \"nominal\"}, \"y\": {\"aggregate\": \"count\", \"axis\": {\"title\": \"Frequency\"}, \"type\": \"quantitative\"}}}], \"data\": {\"name\": \"data-a55333943349f9dac256a34dc9e094bf\"}, \"height\": 300, \"title\": \"Distribution of Categories\", \"width\": 700, \"$schema\": \"https://vega.github.io/schema/vega-lite/v4.17.0.json\", \"datasets\": {\"data-a55333943349f9dac256a34dc9e094bf\": [{\"Sentence\": \"a\", \"Label\": 1, \"Class\": \"SQLI\"}, {\"Sentence\": \"a'\", \"Label\": 1, \"Class\": \"SQLI\"}, {\"Sentence\": \"a' --\", \"Label\": 1, \"Class\": \"SQLI\"}, {\"Sentence\": \"a' or 1 = 1; --\", \"Label\": 1, \"Class\": \"SQLI\"}, {\"Sentence\": \"@\", \"Label\": 1, \"Class\": \"SQLI\"}, {\"Sentence\": \"?\", \"Label\": 1, \"Class\": \"SQLI\"}, {\"Sentence\": \" and 1 = 0 )  union all\", \"Label\": 1, \"Class\": \"SQLI\"}, {\"Sentence\": \"? or 1 = 1 --\", \"Label\": 1, \"Class\": \"SQLI\"}, {\"Sentence\": \"x' and userid is NULL; --\", \"Label\": 1, \"Class\": \"SQLI\"}, {\"Sentence\": \"x' and email is NULL; --\", \"Label\": 1, \"Class\": \"SQLI\"}, {\"Sentence\": \"anything' or 'x' = 'x\", \"Label\": 1, \"Class\": \"SQLI\"}, {\"Sentence\": \"x' and 1 =  ( select count ( * )  from tabname ) ; --\", \"Label\": 1, \"Class\": \"SQLI\"}, {\"Sentence\": \"x' and members.email is NULL; --\", \"Label\": 1, \"Class\": \"SQLI\"}, {\"Sentence\": \"x' or full_name like '%bob%\", \"Label\": 1, \"Class\": \"SQLI\"}, {\"Sentence\": \"23 or 1 = 1; --\", \"Label\": 1, \"Class\": \"SQLI\"}, {\"Sentence\": \"; exec master..xp_cmdshell 'ping 172.10.1.255'--\", \"Label\": 1, \"Class\": \"SQLI\"}, {\"Sentence\": \"a\", \"Label\": 1, \"Class\": \"SQLI\"}, {\"Sentence\": \"1 or 1 = 1\", \"Label\": 1, \"Class\": \"SQLI\"}, {\"Sentence\": \"1' or '1' = '1\", \"Label\": 1, \"Class\": \"SQLI\"}, {\"Sentence\": \"1 and user_name (  )   =  'dbo'\", \"Label\": 1, \"Class\": \"SQLI\"}, {\"Sentence\": \"1\", \"Label\": 1, \"Class\": \"SQLI\"}, {\"Sentence\": \"1'1\", \"Label\": 1, \"Class\": \"SQLI\"}, {\"Sentence\": \"1 exec sp_  ( or exec xp_ )\", \"Label\": 1, \"Class\": \"SQLI\"}, {\"Sentence\": \"1 and 1 = 1\", \"Label\": 1, \"Class\": \"SQLI\"}, {\"Sentence\": \"1' and 1 =  ( select count ( * )  from tablenames ) ; --\", \"Label\": 1, \"Class\": \"SQLI\"}, {\"Sentence\": \"1\", \"Label\": 1, \"Class\": \"SQLI\"}, {\"Sentence\": \"1 and user_name (  )   =  'dbo'\", \"Label\": 1, \"Class\": \"SQLI\"}, {\"Sentence\": \"\\\\'; desc users; --\", \"Label\": 1, \"Class\": \"SQLI\"}, {\"Sentence\": \"1\\\\'1\", \"Label\": 1, \"Class\": \"SQLI\"}, {\"Sentence\": \"1' and non_existant_table  =  '1\", \"Label\": 1, \"Class\": \"SQLI\"}, {\"Sentence\": \" or username is not NULL or username  =  '\", \"Label\": 1, \"Class\": \"SQLI\"}, {\"Sentence\": \"1 and ascii ( lower ( substring  (  (  select top 1 name from sysobjects where xtype = 'u' ) , 1, 1  )  )   )  > 116\", \"Label\": 1, \"Class\": \"SQLI\"}, {\"Sentence\": \"1 union all select 1,2,3,4,5,6,name from sysobjects where xtype  =  'u' --\", \"Label\": 1, \"Class\": \"SQLI\"}, {\"Sentence\": \"1 uni/**/on select all from where\", \"Label\": 1, \"Class\": \"SQLI\"}, {\"Sentence\": \"\\u2019 or \\u20181\\u2019 = \\u20191\", \"Label\": 1, \"Class\": \"SQLI\"}, {\"Sentence\": \" or '1' = '1\", \"Label\": 1, \"Class\": \"SQLI\"}, {\"Sentence\": \"||utl_http.request ( 'httP://192.168.1.1/' ) ||'\", \"Label\": 1, \"Class\": \"SQLI\"}, {\"Sentence\": \" || myappadmin.adduser ( 'admin', 'newpass' )  || '\", \"Label\": 1, \"Class\": \"SQLI\"}, {\"Sentence\": \" AND 1 = utl_inaddr.get_host_address  (  (  SELECT banner FROM v$version WHERE ROWNUM = 1  )  )   AND 'i' = 'i\", \"Label\": 1, \"Class\": \"SQLI\"}, {\"Sentence\": \" AND 1 = utl_inaddr.get_host_address  (  (  SELECT SYS.LOGIN_USER FROM DUAL  )  )   AND 'i' = 'i\", \"Label\": 1, \"Class\": \"SQLI\"}, {\"Sentence\": \" AND 1 = utl_inaddr.get_host_address  (  (  SELECT SYS.DATABASE_NAME FROM DUAL  )  )   AND 'i' = 'i\", \"Label\": 1, \"Class\": \"SQLI\"}, {\"Sentence\": \" AND 1 = utl_inaddr.get_host_address  (  (  SELECT host_name FROM v$instance  )  )   AND 'i' = 'i\", \"Label\": 1, \"Class\": \"SQLI\"}, {\"Sentence\": \" AND 1 = utl_inaddr.get_host_address  (  (  SELECT global_name FROM global_name  )  )   AND 'i' = 'i\", \"Label\": 1, \"Class\": \"SQLI\"}, {\"Sentence\": \" AND 1 = utl_inaddr.get_host_address  (  (  SELECT COUNT ( DISTINCT ( USERNAME  )  )   FROM SYS.ALL_USERS  )  )   AND 'i' = 'i\", \"Label\": 1, \"Class\": \"SQLI\"}, {\"Sentence\": \" AND 1 = utl_inaddr.get_host_address  (  (  SELECT COUNT ( DISTINCT ( PASSWORD  )  )   FROM SYS.USER$  )  )   AND 'i' = 'i\", \"Label\": 1, \"Class\": \"SQLI\"}, {\"Sentence\": \" AND 1 = utl_inaddr.get_host_address  (  (  SELECT COUNT ( DISTINCT ( table_name  )  )   FROM sys.all_tables  )  )   AND 'i' = 'i\", \"Label\": 1, \"Class\": \"SQLI\"}, {\"Sentence\": \" AND 1 = utl_inaddr.get_host_address  (  (  SELECT COUNT ( DISTINCT ( column_name  )  )   FROM sys.all_tab_columns  )  )   AND 'i' = 'i\", \"Label\": 1, \"Class\": \"SQLI\"}, {\"Sentence\": \" AND 1 = utl_inaddr.get_host_address  (  (  SELECT COUNT ( DISTINCT ( GRANTED_ROLE  )  )   FROM DBA_ROLE_PRIVS WHERE GRANTEE = SYS.LOGIN_USER  )  )   AND 'i' = 'i\", \"Label\": 1, \"Class\": \"SQLI\"}, {\"Sentence\": \" AND 1 = utl_inaddr.get_host_address  (  (  SELECT DISTINCT ( USERNAME )  FROM  ( SELECT DISTINCT ( USERNAME ) , ROWNUM AS LIMIT FROM SYS.ALL_USERS )  WHERE LIMIT = 1  )  )   AND 'i' = 'i\", \"Label\": 1, \"Class\": \"SQLI\"}, {\"Sentence\": \" AND 1 = utl_inaddr.get_host_address  (  (  SELECT DISTINCT ( PASSWORD )  FROM  ( SELECT DISTINCT ( PASSWORD ) , ROWNUM AS LIMIT FROM SYS.USER$ )  WHERE LIMIT = 1  )  )   AND 'i' = 'i\", \"Label\": 1, \"Class\": \"SQLI\"}, {\"Sentence\": \" AND 1 = utl_inaddr.get_host_address  (  (  SELECT DISTINCT ( table_name )  FROM  ( SELECT DISTINCT ( table_name ) , ROWNUM AS LIMIT FROM sys.all_tables )  WHERE LIMIT = 1  )  )   AND 'i' = 'i\", \"Label\": 1, \"Class\": \"SQLI\"}, {\"Sentence\": \" AND 1 = utl_inaddr.get_host_address  (  (  SELECT DISTINCT ( column_name )  FROM  ( SELECT DISTINCT ( column_name ) , ROWNUM AS LIMIT FROM all_tab_columns )  WHERE LIMIT = 1  )  )   AND 'i' = 'i\", \"Label\": 1, \"Class\": \"SQLI\"}, {\"Sentence\": \" AND 1 = utl_inaddr.get_host_address  (  (  SELECT DISTINCT ( granted_role )  FROM  ( SELECT DISTINCT ( granted_role ) , ROWNUM AS LIMIT FROM dba_role_privs WHERE GRANTEE = SYS.LOGINUSER )  WHERE LIMIT = 1  )  )   AND 'i' = 'i\", \"Label\": 1, \"Class\": \"SQLI\"}, {\"Sentence\": \" AND 1 = utl_inaddr.get_host_address  (  (  SELECT DISTINCT ( USERNAME )  FROM  ( SELECT DISTINCT ( USERNAME ) , ROWNUM AS LIMIT FROM SYS.ALL_USERS )  WHERE LIMIT = 2  )  )   AND 'i' = 'i\", \"Label\": 1, \"Class\": \"SQLI\"}, {\"Sentence\": \" AND 1 = utl_inaddr.get_host_address  (  (  SELECT DISTINCT ( PASSWORD )  FROM  ( SELECT DISTINCT ( PASSWORD ) , ROWNUM AS LIMIT FROM SYS.USER$ )  WHERE LIMIT = 2  )  )   AND 'i' = 'i\", \"Label\": 1, \"Class\": \"SQLI\"}, {\"Sentence\": \" AND 1 = utl_inaddr.get_host_address  (  (  SELECT DISTINCT ( table_name )  FROM  ( SELECT DISTINCT ( table_name ) , ROWNUM AS LIMIT FROM sys.all_tables )  WHERE LIMIT = 2  )  )   AND 'i' = 'i\", \"Label\": 1, \"Class\": \"SQLI\"}, {\"Sentence\": \" AND 1 = utl_inaddr.get_host_address  (  (  SELECT DISTINCT ( column_name )  FROM  ( SELECT DISTINCT ( column_name ) , ROWNUM AS LIMIT FROM all_tab_columns )  WHERE LIMIT = 2  )  )   AND 'i' = 'i\", \"Label\": 1, \"Class\": \"SQLI\"}, {\"Sentence\": \" AND 1 = utl_inaddr.get_host_address  (  (  SELECT DISTINCT ( granted_role )  FROM  ( SELECT DISTINCT ( granted_role ) , ROWNUM AS LIMIT FROM dba_role_privs WHERE GRANTEE = SYS.LOGINUSER )  WHERE LIMIT = 2  )  )   AND 'i' = 'i\", \"Label\": 1, \"Class\": \"SQLI\"}, {\"Sentence\": \" AND 1 = utl_inaddr.get_host_address  (  (  SELECT DISTINCT ( USERNAME )  FROM  ( SELECT DISTINCT ( USERNAME ) , ROWNUM AS LIMIT FROM SYS.ALL_USERS )  WHERE LIMIT = 3  )  )   AND 'i' = 'i\", \"Label\": 1, \"Class\": \"SQLI\"}, {\"Sentence\": \" AND 1 = utl_inaddr.get_host_address  (  (  SELECT DISTINCT ( PASSWORD )  FROM  ( SELECT DISTINCT ( PASSWORD ) , ROWNUM AS LIMIT FROM SYS.USER$ )  WHERE LIMIT = 3  )  )   AND 'i' = 'i\", \"Label\": 1, \"Class\": \"SQLI\"}, {\"Sentence\": \" AND 1 = utl_inaddr.get_host_address  (  (  SELECT DISTINCT ( table_name )  FROM  ( SELECT DISTINCT ( table_name ) , ROWNUM AS LIMIT FROM sys.all_tables )  WHERE LIMIT = 3  )  )   AND 'i' = 'i\", \"Label\": 1, \"Class\": \"SQLI\"}, {\"Sentence\": \" AND 1 = utl_inaddr.get_host_address  (  (  SELECT DISTINCT ( column_name )  FROM  ( SELECT DISTINCT ( column_name ) , ROWNUM AS LIMIT FROM all_tab_columns )  WHERE LIMIT = 3  )  )   AND 'i' = 'i\", \"Label\": 1, \"Class\": \"SQLI\"}, {\"Sentence\": \" AND 1 = utl_inaddr.get_host_address  (  (  SELECT DISTINCT ( granted_role )  FROM  ( SELECT DISTINCT ( granted_role ) , ROWNUM AS LIMIT FROM dba_role_privs WHERE GRANTEE = SYS.LOGINUSER )  WHERE LIMIT = 3  )  )   AND 'i' = 'i\", \"Label\": 1, \"Class\": \"SQLI\"}, {\"Sentence\": \" AND 1 = utl_inaddr.get_host_address  (  (  SELECT DISTINCT ( USERNAME )  FROM  ( SELECT DISTINCT ( USERNAME ) , ROWNUM AS LIMIT FROM SYS.ALL_USERS )  WHERE LIMIT = 4  )  )   AND 'i' = 'i\", \"Label\": 1, \"Class\": \"SQLI\"}, {\"Sentence\": \" AND 1 = utl_inaddr.get_host_address  (  (  SELECT DISTINCT ( PASSWORD )  FROM  ( SELECT DISTINCT ( PASSWORD ) , ROWNUM AS LIMIT FROM SYS.USER$ )  WHERE LIMIT = 4  )  )   AND 'i' = 'i\", \"Label\": 1, \"Class\": \"SQLI\"}, {\"Sentence\": \" AND 1 = utl_inaddr.get_host_address  (  (  SELECT DISTINCT ( table_name )  FROM  ( SELECT DISTINCT ( table_name ) , ROWNUM AS LIMIT FROM sys.all_tables )  WHERE LIMIT = 4  )  )   AND 'i' = 'i\", \"Label\": 1, \"Class\": \"SQLI\"}, {\"Sentence\": \" AND 1 = utl_inaddr.get_host_address  (  (  SELECT DISTINCT ( column_name )  FROM  ( SELECT DISTINCT ( column_name ) , ROWNUM AS LIMIT FROM all_tab_columns )  WHERE LIMIT = 4  )  )   AND 'i' = 'i\", \"Label\": 1, \"Class\": \"SQLI\"}, {\"Sentence\": \" AND 1 = utl_inaddr.get_host_address  (  (  SELECT DISTINCT ( granted_role )  FROM  ( SELECT DISTINCT ( granted_role ) , ROWNUM AS LIMIT FROM dba_role_privs WHERE GRANTEE = SYS.LOGINUSER )  WHERE LIMIT = 4  )  )   AND 'i' = 'i\", \"Label\": 1, \"Class\": \"SQLI\"}, {\"Sentence\": \" AND 1 = utl_inaddr.get_host_address  (  (  SELECT DISTINCT ( USERNAME )  FROM  ( SELECT DISTINCT ( USERNAME ) , ROWNUM AS LIMIT FROM SYS.ALL_USERS )  WHERE LIMIT = 5  )  )   AND 'i' = 'i\", \"Label\": 1, \"Class\": \"SQLI\"}, {\"Sentence\": \" AND 1 = utl_inaddr.get_host_address  (  (  SELECT DISTINCT ( PASSWORD )  FROM  ( SELECT DISTINCT ( PASSWORD ) , ROWNUM AS LIMIT FROM SYS.USER$ )  WHERE LIMIT = 5  )  )   AND 'i' = 'i\", \"Label\": 1, \"Class\": \"SQLI\"}, {\"Sentence\": \" AND 1 = utl_inaddr.get_host_address  (  (  SELECT DISTINCT ( table_name )  FROM  ( SELECT DISTINCT ( table_name ) , ROWNUM AS LIMIT FROM sys.all_tables )  WHERE LIMIT = 5  )  )   AND 'i' = 'i\", \"Label\": 1, \"Class\": \"SQLI\"}, {\"Sentence\": \" AND 1 = utl_inaddr.get_host_address  (  (  SELECT DISTINCT ( column_name )  FROM  ( SELECT DISTINCT ( column_name ) , ROWNUM AS LIMIT FROM all_tab_columns )  WHERE LIMIT = 5  )  )   AND 'i' = 'i\", \"Label\": 1, \"Class\": \"SQLI\"}, {\"Sentence\": \" AND 1 = utl_inaddr.get_host_address  (  (  SELECT DISTINCT ( granted_role )  FROM  ( SELECT DISTINCT ( granted_role ) , ROWNUM AS LIMIT FROM dba_role_privs WHERE GRANTEE = SYS.LOGINUSER )  WHERE LIMIT = 5  )  )   AND 'i' = 'i\", \"Label\": 1, \"Class\": \"SQLI\"}, {\"Sentence\": \" AND 1 = utl_inaddr.get_host_address  (  (  SELECT DISTINCT ( USERNAME )  FROM  ( SELECT DISTINCT ( USERNAME ) , ROWNUM AS LIMIT FROM SYS.ALL_USERS )  WHERE LIMIT = 6  )  )   AND 'i' = 'i\", \"Label\": 1, \"Class\": \"SQLI\"}, {\"Sentence\": \" AND 1 = utl_inaddr.get_host_address  (  (  SELECT DISTINCT ( PASSWORD )  FROM  ( SELECT DISTINCT ( PASSWORD ) , ROWNUM AS LIMIT FROM SYS.USER$ )  WHERE LIMIT = 6  )  )   AND 'i' = 'i\", \"Label\": 1, \"Class\": \"SQLI\"}, {\"Sentence\": \" AND 1 = utl_inaddr.get_host_address  (  (  SELECT DISTINCT ( table_name )  FROM  ( SELECT DISTINCT ( table_name ) , ROWNUM AS LIMIT FROM sys.all_tables )  WHERE LIMIT = 6  )  )   AND 'i' = 'i\", \"Label\": 1, \"Class\": \"SQLI\"}, {\"Sentence\": \" AND 1 = utl_inaddr.get_host_address  (  (  SELECT DISTINCT ( column_name )  FROM  ( SELECT DISTINCT ( column_name ) , ROWNUM AS LIMIT FROM all_tab_columns )  WHERE LIMIT = 6  )  )   AND 'i' = 'i\", \"Label\": 1, \"Class\": \"SQLI\"}, {\"Sentence\": \" AND 1 = utl_inaddr.get_host_address  (  (  SELECT DISTINCT ( granted_role )  FROM  ( SELECT DISTINCT ( granted_role ) , ROWNUM AS LIMIT FROM dba_role_privs WHERE GRANTEE = SYS.LOGINUSER )  WHERE LIMIT = 6  )  )   AND 'i' = 'i\", \"Label\": 1, \"Class\": \"SQLI\"}, {\"Sentence\": \" AND 1 = utl_inaddr.get_host_address  (  (  SELECT DISTINCT ( USERNAME )  FROM  ( SELECT DISTINCT ( USERNAME ) , ROWNUM AS LIMIT FROM SYS.ALL_USERS )  WHERE LIMIT = 7  )  )   AND 'i' = 'i\", \"Label\": 1, \"Class\": \"SQLI\"}, {\"Sentence\": \" AND 1 = utl_inaddr.get_host_address  (  (  SELECT DISTINCT ( PASSWORD )  FROM  ( SELECT DISTINCT ( PASSWORD ) , ROWNUM AS LIMIT FROM SYS.USER$ )  WHERE LIMIT = 7  )  )   AND 'i' = 'i\", \"Label\": 1, \"Class\": \"SQLI\"}, {\"Sentence\": \" AND 1 = utl_inaddr.get_host_address  (  (  SELECT DISTINCT ( table_name )  FROM  ( SELECT DISTINCT ( table_name ) , ROWNUM AS LIMIT FROM sys.all_tables )  WHERE LIMIT = 7  )  )   AND 'i' = 'i\", \"Label\": 1, \"Class\": \"SQLI\"}, {\"Sentence\": \" AND 1 = utl_inaddr.get_host_address  (  (  SELECT DISTINCT ( column_name )  FROM  ( SELECT DISTINCT ( column_name ) , ROWNUM AS LIMIT FROM all_tab_columns )  WHERE LIMIT = 7  )  )   AND 'i' = 'i\", \"Label\": 1, \"Class\": \"SQLI\"}, {\"Sentence\": \" AND 1 = utl_inaddr.get_host_address  (  (  SELECT DISTINCT ( granted_role )  FROM  ( SELECT DISTINCT ( granted_role ) , ROWNUM AS LIMIT FROM dba_role_privs WHERE GRANTEE = SYS.LOGINUSER )  WHERE LIMIT = 7  )  )   AND 'i' = 'i\", \"Label\": 1, \"Class\": \"SQLI\"}, {\"Sentence\": \" AND 1 = utl_inaddr.get_host_address  (  (  SELECT DISTINCT ( USERNAME )  FROM  ( SELECT DISTINCT ( USERNAME ) , ROWNUM AS LIMIT FROM SYS.ALL_USERS )  WHERE LIMIT = 8  )  )   AND 'i' = 'i\", \"Label\": 1, \"Class\": \"SQLI\"}, {\"Sentence\": \" AND 1 = utl_inaddr.get_host_address  (  (  SELECT DISTINCT ( PASSWORD )  FROM  ( SELECT DISTINCT ( PASSWORD ) , ROWNUM AS LIMIT FROM SYS.USER$ )  WHERE LIMIT = 8  )  )   AND 'i' = 'i\", \"Label\": 1, \"Class\": \"SQLI\"}, {\"Sentence\": \" AND 1 = utl_inaddr.get_host_address  (  (  SELECT DISTINCT ( table_name )  FROM  ( SELECT DISTINCT ( table_name ) , ROWNUM AS LIMIT FROM sys.all_tables )  WHERE LIMIT = 8  )  )   AND 'i' = 'i\", \"Label\": 1, \"Class\": \"SQLI\"}, {\"Sentence\": \" AND 1 = utl_inaddr.get_host_address  (  (  SELECT DISTINCT ( column_name )  FROM  ( SELECT DISTINCT ( column_name ) , ROWNUM AS LIMIT FROM all_tab_columns )  WHERE LIMIT = 8  )  )   AND 'i' = 'i\", \"Label\": 1, \"Class\": \"SQLI\"}, {\"Sentence\": \" AND 1 = utl_inaddr.get_host_address  (  (  SELECT DISTINCT ( granted_role )  FROM  ( SELECT DISTINCT ( granted_role ) , ROWNUM AS LIMIT FROM dba_role_privs WHERE GRANTEE = SYS.LOGINUSER )  WHERE LIMIT = 8  )  )   AND 'i' = 'i\", \"Label\": 1, \"Class\": \"SQLI\"}, {\"Sentence\": \"|| ( elt ( -3+5,bin ( 15 ) ,ord ( 10 ) ,hex ( char ( 45  )  )    )  )  \", \"Label\": 1, \"Class\": \"SQLI\"}, {\"Sentence\": \"||6\", \"Label\": 1, \"Class\": \"SQLI\"}, {\"Sentence\": \"||'6\", \"Label\": 1, \"Class\": \"SQLI\"}, {\"Sentence\": \"( ||6 )\", \"Label\": 1, \"Class\": \"SQLI\"}, {\"Sentence\": \" or 1 = 1--\", \"Label\": 1, \"Class\": \"SQLI\"}, {\"Sentence\": \"or 1 = 1\", \"Label\": 1, \"Class\": \"SQLI\"}, {\"Sentence\": \" or '1' = '1\", \"Label\": 1, \"Class\": \"SQLI\"}, {\"Sentence\": \"; or '1' = '1'\", \"Label\": 1, \"Class\": \"SQLI\"}, {\"Sentence\": \"\\\" or isNULL ( 1/0 )  /*\", \"Label\": 1, \"Class\": \"SQLI\"}, {\"Sentence\": \" or '7659' = '7659\", \"Label\": 1, \"Class\": \"SQLI\"}, {\"Sentence\": \"\\\" or isNULL ( 1/0 )  /*\", \"Label\": 1, \"Class\": \"SQLI\"}, {\"Sentence\": \" --\", \"Label\": 1, \"Class\": \"SQLI\"}, {\"Sentence\": \" or 1 = 1--\", \"Label\": 1, \"Class\": \"SQLI\"}, {\"Sentence\": \"\\\" or 1 = 1--\", \"Label\": 1, \"Class\": \"SQLI\"}, {\"Sentence\": \" or 1 = 1 /*\", \"Label\": 1, \"Class\": \"SQLI\"}, {\"Sentence\": \"or 1 = 1--\", \"Label\": 1, \"Class\": \"SQLI\"}, {\"Sentence\": \" or 'a' = 'a\", \"Label\": 1, \"Class\": \"SQLI\"}, {\"Sentence\": \"\\\" or \\\"a\\\" = \\\"a\", \"Label\": 1, \"Class\": \"SQLI\"}, {\"Sentence\": \" )  or  ( 'a' = 'a\", \"Label\": 1, \"Class\": \"SQLI\"}, {\"Sentence\": \"admin' or '\", \"Label\": 1, \"Class\": \"SQLI\"}, {\"Sentence\": \" select * from information_schema.tables--\", \"Label\": 1, \"Class\": \"SQLI\"}, {\"Sentence\": \")  union select * from information_schema.tables;\", \"Label\": 1, \"Class\": \"SQLI\"}, {\"Sentence\": \" having 1 = 1--\", \"Label\": 1, \"Class\": \"SQLI\"}, {\"Sentence\": \" having 1 = 1--\", \"Label\": 1, \"Class\": \"SQLI\"}, {\"Sentence\": \" group by userid having 1 = 1--\", \"Label\": 1, \"Class\": \"SQLI\"}, {\"Sentence\": \" select name from syscolumns where id  =   ( select id from sysobjects where name  =  tablename' ) --\", \"Label\": 1, \"Class\": \"SQLI\"}, {\"Sentence\": \" or 1 in  ( select @@version ) --\", \"Label\": 1, \"Class\": \"SQLI\"}, {\"Sentence\": \" union all select @@version--\", \"Label\": 1, \"Class\": \"SQLI\"}, {\"Sentence\": \" or 'unusual'  =  'unusual'\", \"Label\": 1, \"Class\": \"SQLI\"}, {\"Sentence\": \" or 'something'  =  'some'+'thing'\", \"Label\": 1, \"Class\": \"SQLI\"}, {\"Sentence\": \" or 'text'  =  n'text'\", \"Label\": 1, \"Class\": \"SQLI\"}, {\"Sentence\": \" or 'something' like 'some%'\", \"Label\": 1, \"Class\": \"SQLI\"}, {\"Sentence\": \" or 2 > 1\", \"Label\": 1, \"Class\": \"SQLI\"}, {\"Sentence\": \" or 'text' > 't'\", \"Label\": 1, \"Class\": \"SQLI\"}, {\"Sentence\": \" or 'whatever' in  ( 'whatever' )\", \"Label\": 1, \"Class\": \"SQLI\"}, {\"Sentence\": \" or 2 between 1 and 3\", \"Label\": 1, \"Class\": \"SQLI\"}, {\"Sentence\": \" or username like char ( 37 ) ;\", \"Label\": 1, \"Class\": \"SQLI\"}, {\"Sentence\": \" union select * from users where login  =  char ( 114,111,111,116 ) ;\", \"Label\": 1, \"Class\": \"SQLI\"}, {\"Sentence\": \" union select\", \"Label\": 1, \"Class\": \"SQLI\"}, {\"Sentence\": \"password:*/ = 1--\", \"Label\": 1, \"Class\": \"SQLI\"}, {\"Sentence\": \"uni/**/on sel/**/ect\", \"Label\": 1, \"Class\": \"SQLI\"}, {\"Sentence\": \"; execute immediate 'sel' || 'ect us' || 'er'\", \"Label\": 1, \"Class\": \"SQLI\"}, {\"Sentence\": \"; exec  ( 'sel' + 'ect us' + 'er' )\", \"Label\": 1, \"Class\": \"SQLI\"}, {\"Sentence\": \"/**/or/**/1/**/ = /**/1\", \"Label\": 1, \"Class\": \"SQLI\"}, {\"Sentence\": \" or 1/*\", \"Label\": 1, \"Class\": \"SQLI\"}, {\"Sentence\": \"or isNULL ( 1/0 )  /*\", \"Label\": 1, \"Class\": \"SQLI\"}, {\"Sentence\": \" or '7659' = '7659\", \"Label\": 1, \"Class\": \"SQLI\"}, {\"Sentence\": \"\\\" or isNULL ( 1/0 )  /*\", \"Label\": 1, \"Class\": \"SQLI\"}, {\"Sentence\": \" -- &password =\", \"Label\": 1, \"Class\": \"SQLI\"}, {\"Sentence\": \"; begin declare @var varchar ( 8000 )  set @var = ':' select @var = @var+'+login+'/'+password+' ' from users where login >\", \"Label\": 1, \"Class\": \"SQLI\"}, {\"Sentence\": \"@var select @var as var into temp end --\", \"Label\": 1, \"Class\": \"SQLI\"}, {\"Sentence\": \" and 1 in  ( select var from temp ) --\", \"Label\": 1, \"Class\": \"SQLI\"}, {\"Sentence\": \" union select 1,load_file ( '/etc/passwd' ) ,1,1,1;\", \"Label\": 1, \"Class\": \"SQLI\"}, {\"Sentence\": \"1; ( load_file ( char ( 47,101,116,99,47,112,97,115,115,119,100  )  )   ) ,1,1,1;\", \"Label\": 1, \"Class\": \"SQLI\"}, {\"Sentence\": \" and 1 =  (  if  (  (  load_file ( char ( 110,46,101,120,116  )  )  <>char ( 39,39  )  )  ,1,0  )  )  ;\", \"Label\": 1, \"Class\": \"SQLI\"}, {\"Sentence\": \"; exec master..xp_cmdshell 'ping 10.10.1.2'--\", \"Label\": 1, \"Class\": \"SQLI\"}, {\"Sentence\": \"create user name identified by 'pass123'\", \"Label\": 1, \"Class\": \"SQLI\"}, {\"Sentence\": \"create user name identified by pass123 temporary tablespace temp default tablespace users;\", \"Label\": 1, \"Class\": \"SQLI\"}, {\"Sentence\": \" ; drop table temp --\", \"Label\": 1, \"Class\": \"SQLI\"}, {\"Sentence\": \"exec sp_addlogin 'name' , 'password'\", \"Label\": 1, \"Class\": \"SQLI\"}, {\"Sentence\": \"exec sp_addsrvrolemember 'name' , 'sysadmin'\", \"Label\": 1, \"Class\": \"SQLI\"}, {\"Sentence\": \"insert into mysql.user  ( user, host, password )  values  ( 'name', 'localhost', password ( 'pass123'  )  )  \", \"Label\": 1, \"Class\": \"SQLI\"}, {\"Sentence\": \"grant connect to name; grant resource to name;\", \"Label\": 1, \"Class\": \"SQLI\"}, {\"Sentence\": \"insert into users ( login, password, level )  values (  char ( 0x70 )  + char ( 0x65 )  + char ( 0x74 )  + char ( 0x65 )  + char ( 0x72 )  + char ( 0x70 )  + char ( 0x65 )  + char ( 0x74 )  + char ( 0x65 )  + char ( 0x72 ) ,char ( 0x64 ) \", \"Label\": 1, \"Class\": \"SQLI\"}, {\"Sentence\": \" or 1 = 1 --\", \"Label\": 1, \"Class\": \"SQLI\"}, {\"Sentence\": \" union  ( select @@version )  --\", \"Label\": 1, \"Class\": \"SQLI\"}, {\"Sentence\": \" union  ( select NULL,  ( select @@version  )  )   --\", \"Label\": 1, \"Class\": \"SQLI\"}, {\"Sentence\": \" union  ( select NULL, NULL,  ( select @@version  )  )   --\", \"Label\": 1, \"Class\": \"SQLI\"}, {\"Sentence\": \" union  ( select NULL, NULL, NULL,   ( select @@version  )  )   --\", \"Label\": 1, \"Class\": \"SQLI\"}, {\"Sentence\": \" union  ( select NULL, NULL, NULL, NULL,   ( select @@version  )  )   --\", \"Label\": 1, \"Class\": \"SQLI\"}, {\"Sentence\": \" union  ( select NULL, NULL, NULL, NULL,  NULL,  ( select @@version  )  )   --\", \"Label\": 1, \"Class\": \"SQLI\"}, {\"Sentence\": \"; if not ( substring  (  (  select @@version ) ,25,1 )  <> 0 )  waitfor delay '0:0:2' --\", \"Label\": 1, \"Class\": \"SQLI\"}, {\"Sentence\": \"; if not ( substring  (  (  select @@version ) ,25,1 )  <> 5 )  waitfor delay '0:0:2' --\", \"Label\": 1, \"Class\": \"SQLI\"}, {\"Sentence\": \"; if not ( substring  (  (  select @@version ) ,25,1 )  <> 8 )  waitfor delay '0:0:2' --\", \"Label\": 1, \"Class\": \"SQLI\"}, {\"Sentence\": \"; if not ( substring  (  (  select @@version ) ,24,1 )  <> 1 )  waitfor delay '0:0:2' --\", \"Label\": 1, \"Class\": \"SQLI\"}, {\"Sentence\": \"; if not ( select system_user )  <> 'sa' waitfor delay '0:0:2' --\", \"Label\": 1, \"Class\": \"SQLI\"}, {\"Sentence\": \"; if is_srvrolemember ( 'sysadmin' )  > 0 waitfor delay '0:0:2' --\", \"Label\": 1, \"Class\": \"SQLI\"}, {\"Sentence\": \"; if not  (  (  select serverproperty ( 'isintegratedsecurityonly'  )  )   <> 1 )  waitfor delay '0:0:2' --\", \"Label\": 1, \"Class\": \"SQLI\"}, {\"Sentence\": \"; if not  (  (  select serverproperty ( 'isintegratedsecurityonly'  )  )   <> 0 )  waitfor delay '0:0:2' --\", \"Label\": 1, \"Class\": \"SQLI\"}, {\"Sentence\": \" select * from users where id = 1 or  ( \\\\ )  = 1 union select 1,@@VERSION -- 1\", \"Label\": 1, \"Class\": \"SQLI\"}, {\"Sentence\": \" select * from users where id = 1 or  ( \\\\. )  = 1 union select 1,@@VERSION -- 1\", \"Label\": 1, \"Class\": \"SQLI\"}, {\"Sentence\": \"select * from users where id = 1 or  ( \\\\+ )  = 1 or 1 = 1 -- 1\", \"Label\": 1, \"Class\": \"SQLI\"}, {\"Sentence\": \" select * from users where id = 1 or  ( 1 )  = 1 union select 1,banner from v$version where rownum = 1 -- 1\", \"Label\": 1, \"Class\": \"SQLI\"}, {\"Sentence\": \" select * from users where id = 1 or  ( \\\\+ )  = 1 union select 1,@@VERSION -- 1\", \"Label\": 1, \"Class\": \"SQLI\"}, {\"Sentence\": \"select * from users where id = 1 or  ( $+ )  = 1 or 1 = 1 -- 1\", \"Label\": 1, \"Class\": \"SQLI\"}, {\"Sentence\": \" select * from users where id = 1 or  ( $+ )  = 1 union select 1,@@VERSION -- 1\", \"Label\": 1, \"Class\": \"SQLI\"}, {\"Sentence\": \"select * from users where id = 1 or \\\\.<\\\\ or 1 = 1 -- 1\", \"Label\": 1, \"Class\": \"SQLI\"}, {\"Sentence\": \"select * from users where id = 1 or \\\\.<1 or 1 = 1 -- 1\", \"Label\": 1, \"Class\": \"SQLI\"}, {\"Sentence\": \" select * from users where id = 1 or \\\\.<1 union select 1,@@VERSION -- 1\", \"Label\": 1, \"Class\": \"SQLI\"}, {\"Sentence\": \" select * from users where id = 1 or \\\\.<\\\\ union select 1,@@VERSION -- 1\", \"Label\": 1, \"Class\": \"SQLI\"}, {\"Sentence\": \"select * from users where id = 1 or \\\\.<$ or 1 = 1 -- 1\", \"Label\": 1, \"Class\": \"SQLI\"}, {\"Sentence\": \" select * from users where id = 1 or \\\\.<$ union select 1,@@VERSION -- 1\", \"Label\": 1, \"Class\": \"SQLI\"}, {\"Sentence\": \" select * from users where id = 1 or \\\\.<  = 1 union select 1,@@VERSION -- 1\", \"Label\": 1, \"Class\": \"SQLI\"}, {\"Sentence\": \" select * from users where id = 1 ||1 union select 1,banner from v$version where rownum = 1 -- 1\", \"Label\": 1, \"Class\": \"SQLI\"}, {\"Sentence\": \" select * from users where id = 1 ||1 union select null,banner from v$version where rownum = 1 -- 1\", \"Label\": 1, \"Class\": \"SQLI\"}, {\"Sentence\": \"select * from users where id = 1   or 1 = 1 -- 1\", \"Label\": 1, \"Class\": \"SQLI\"}, {\"Sentence\": \"select * from users where id = 1 or \\\\+<\\\\ or 1 = 1 -- 1\", \"Label\": 1, \"Class\": \"SQLI\"}, {\"Sentence\": \" select * from users where id = 1 or  1<@ = 1 union select 1,version (  )  -- 1\", \"Label\": 1, \"Class\": \"SQLI\"}, {\"Sentence\": \" select * from users where id = 1 or \\\\+<\\\\ union select 1,@@VERSION -- 1\", \"Label\": 1, \"Class\": \"SQLI\"}, {\"Sentence\": \" select * from users where id = 1 or \\\\+<$ union select 1,@@VERSION -- 1\", \"Label\": 1, \"Class\": \"SQLI\"}, {\"Sentence\": \" select * from users where id = 1 or 1&@# = 1 union select 1,version (  )  -- 1\", \"Label\": 1, \"Class\": \"SQLI\"}, {\"Sentence\": \" select * from users where id = 1 or $ . = 1 union select 1,@@VERSION -- 1\", \"Label\": 1, \"Class\": \"SQLI\"}, {\"Sentence\": \"select * from users where id = 1 or $ 1 = 1 or 1 = 1 -- 1\", \"Label\": 1, \"Class\": \"SQLI\"}, {\"Sentence\": \" select * from users where id = 1 or $ 1 = 1 union select 1,@@VERSION -- 1\", \"Label\": 1, \"Class\": \"SQLI\"}, {\"Sentence\": \"select * from users where id = 1 or $<\\\\ or 1 = 1 -- 1\", \"Label\": 1, \"Class\": \"SQLI\"}, {\"Sentence\": \"select * from users where id = 1 or $<\\\\. or 1 = 1 -- 1\", \"Label\": 1, \"Class\": \"SQLI\"}, {\"Sentence\": \" select * from users where id = 1 or $<\\\\. union select 1,@@VERSION -- 1\", \"Label\": 1, \"Class\": \"SQLI\"}, {\"Sentence\": \" select * from users where id = 1 or $<\\\\ union select 1,@@VERSION -- 1\", \"Label\": 1, \"Class\": \"SQLI\"}, {\"Sentence\": \"select * from users where id = 1 or $+<\\\\ or 1 = 1 -- 1\", \"Label\": 1, \"Class\": \"SQLI\"}, {\"Sentence\": \" select * from users where id = 1 or $+<1 union select 1,@@VERSION -- 1\", \"Label\": 1, \"Class\": \"SQLI\"}, {\"Sentence\": \" select * from users where id = 1 or $+<\\\\ union select 1,@@VERSION -- 1\", \"Label\": 1, \"Class\": \"SQLI\"}, {\"Sentence\": \" select * from users where id = 1 or $+<$ union select 1,@@VERSION -- 1\", \"Label\": 1, \"Class\": \"SQLI\"}, {\"Sentence\": \"select * from users where id = 1 or \\\\<\\\\. or 1 = 1 -- 1\", \"Label\": 1, \"Class\": \"SQLI\"}, {\"Sentence\": \" select * from users where id = 1 or \\\\<\\\\. union select 1,@@VERSION -- 1\", \"Label\": 1, \"Class\": \"SQLI\"}, {\"Sentence\": \"select * from users where id = 1 or \\\\<1 or 1 = 1 -- 1\", \"Label\": 1, \"Class\": \"SQLI\"}, {\"Sentence\": \" select * from users where id = 1 or \\\\<1 union select 1,@@VERSION -- 1\", \"Label\": 1, \"Class\": \"SQLI\"}, {\"Sentence\": \" select * from users where id = 1 or \\\\<\\\\ union select 1,@@VERSION -- 1\", \"Label\": 1, \"Class\": \"SQLI\"}, {\"Sentence\": \" select * from users where id = 1 or \\\\<\\\\ union select null,@@VERSION -- 1\", \"Label\": 1, \"Class\": \"SQLI\"}, {\"Sentence\": \"select * from users where id = 1 or \\\\<$ or 1 = 1 -- 1\", \"Label\": 1, \"Class\": \"SQLI\"}, {\"Sentence\": \" select * from users where id = 1 or \\\\<$ union select 1,@@VERSION -- 1\", \"Label\": 1, \"Class\": \"SQLI\"}, {\"Sentence\": \"select * from users where id = 1 or \\\\<  = 1 or 1 = 1 -- 1\", \"Label\": 1, \"Class\": \"SQLI\"}, {\"Sentence\": \" select * from users where id = 1 or \\\\<  = 1 union select 1,@@VERSION -- 1\", \"Label\": 1, \"Class\": \"SQLI\"}, {\"Sentence\": \"select * from users where id = 1 or !<@ or 1 = 1 -- 1\", \"Label\": 1, \"Class\": \"SQLI\"}, {\"Sentence\": \" select * from users where id = 1 or !<@ union select 1,version (  )  -- 1\", \"Label\": 1, \"Class\": \"SQLI\"}, {\"Sentence\": \" select * from users where id = 1 or @`\\\\` union select 1,version (  )  -- 1\", \"Label\": 1, \"Class\": \"SQLI\"}, {\"Sentence\": \" select * from users where id = 1 or  @$# = 1 union select 1,version (  )  -- 1\", \"Label\": 1, \"Class\": \"SQLI\"}, {\"Sentence\": \" select * from users where id = 1 or @<@ = 1 union select 1,version (  )  -- 1\", \"Label\": 1, \"Class\": \"SQLI\"}, {\"Sentence\": \"select * from users where id = 1 + ( \\\\ )  or 1 = 1 -- 1\", \"Label\": 1, \"Class\": \"SQLI\"}, {\"Sentence\": \" select * from users where id = 1 + ( \\\\ )  union select null,@@VERSION -- 1\", \"Label\": 1, \"Class\": \"SQLI\"}, {\"Sentence\": \" select * from users where id = 1.&&1 union select 1,version (  )  -- 1\", \"Label\": 1, \"Class\": \"SQLI\"}, {\"Sentence\": \"select * from users where id = 1. or 1 = 1 -- 1\", \"Label\": 1, \"Class\": \"SQLI\"}, {\"Sentence\": \" select * from users where id = 1.&&@ union select 1,version (  )  -- 1\", \"Label\": 1, \"Class\": \"SQLI\"}, {\"Sentence\": \"select * from users where id = 1 +  ( \\\\. )  or 1 = 1 -- 1\", \"Label\": 1, \"Class\": \"SQLI\"}, {\"Sentence\": \" select * from users where id = 1 +  ( \\\\. )  union select null,@@VERSION -- 1\", \"Label\": 1, \"Class\": \"SQLI\"}, {\"Sentence\": \" select * from users where id = 1.  union select 1,version (  )  -- 1\", \"Label\": 1, \"Class\": \"SQLI\"}, {\"Sentence\": \" select * from users where id = 1. union select 1,banner from v$version where rownum = 1 -- 1\", \"Label\": 1, \"Class\": \"SQLI\"}, {\"Sentence\": \" select * from users where id = 1.  union select version (  ) ,version (  )  -- 1\", \"Label\": 1, \"Class\": \"SQLI\"}, {\"Sentence\": \" select * from users where id = 1. union select null,version (  )  -- 1\", \"Label\": 1, \"Class\": \"SQLI\"}, {\"Sentence\": \" select * from users where id = 1 +\\\\. union select null,@@VERSION -- 1\", \"Label\": 1, \"Class\": \"SQLI\"}, {\"Sentence\": \" select * from users where id = 1. union select null,banner from v$version where rownum = 1 -- 1\", \"Label\": 1, \"Class\": \"SQLI\"}, {\"Sentence\": \"select * from users where id = 1. <@ or 1 = 1 -- 1\", \"Label\": 1, \"Class\": \"SQLI\"}, {\"Sentence\": \"select * from users where id = 1.<@. or 1 = 1 -- 1\", \"Label\": 1, \"Class\": \"SQLI\"}, {\"Sentence\": \" select * from users where id = 1.<@. union select 1,version (  )  -- 1\", \"Label\": 1, \"Class\": \"SQLI\"}, {\"Sentence\": \"select * from users where id = 1.*1 or 1 = 1 -- 1\", \"Label\": 1, \"Class\": \"SQLI\"}, {\"Sentence\": \" select * from users where id = 1.*1 union select 1,banner from v$version where rownum = 1 -- 1\", \"Label\": 1, \"Class\": \"SQLI\"}, {\"Sentence\": \" select * from users where id = 1.<1# union select 1,version (  )  -- 1\", \"Label\": 1, \"Class\": \"SQLI\"}, {\"Sentence\": \" select * from users where id = 1. <@ union select 1,version (  )  -- 1\", \"Label\": 1, \"Class\": \"SQLI\"}, {\"Sentence\": \" select * from users where id = 1. <@ union select version (  ) ,version (  )  -- 1\", \"Label\": 1, \"Class\": \"SQLI\"}, {\"Sentence\": \" select * from users where id = 1.*\\\\ union select null,@@VERSION -- 1\", \"Label\": 1, \"Class\": \"SQLI\"}, {\"Sentence\": \"select * from users where id = 1.<@$ or 1 = 1 -- 1\", \"Label\": 1, \"Class\": \"SQLI\"}, {\"Sentence\": \" select * from users where id = 1.<@$ union select 1,version (  )  -- 1\", \"Label\": 1, \"Class\": \"SQLI\"}, {\"Sentence\": \"select * from users where id = 1.%@ or 1 = 1 -- 1\", \"Label\": 1, \"Class\": \"SQLI\"}, {\"Sentence\": \" select * from users where id = 1.%@ union select 1,version (  )  -- 1\", \"Label\": 1, \"Class\": \"SQLI\"}, {\"Sentence\": \" select * from users where id = 11||1 union select 1,banner from v$version where rownum = 1 -- 1\", \"Label\": 1, \"Class\": \"SQLI\"}, {\"Sentence\": \"select * from users where id = 1 +1 or 1 = 1 -- 1\", \"Label\": 1, \"Class\": \"SQLI\"}, {\"Sentence\": \"select * from users where id = 1 + ( 1 )  or 1 = 1 -- 1\", \"Label\": 1, \"Class\": \"SQLI\"}, {\"Sentence\": \" select * from users where id = 1 + ( 1 )  union select 1,banner from v$version where rownum = 1 -- 1\", \"Label\": 1, \"Class\": \"SQLI\"}, {\"Sentence\": \" select * from users where id = 1 + ( 1 )  union select null,banner from v$version where rownum = 1 -- 1\", \"Label\": 1, \"Class\": \"SQLI\"}, {\"Sentence\": \" select * from users where id = 1 +1 union select 1,banner from v$version where rownum = 1 -- 1\", \"Label\": 1, \"Class\": \"SQLI\"}, {\"Sentence\": \" select * from users where id = 1 +1 union select null,banner from v$version where rownum = 1 -- 1\", \"Label\": 1, \"Class\": \"SQLI\"}, {\"Sentence\": \" select * from users where id = 11<1# union select 1,version (  )  -- 1\", \"Label\": 1, \"Class\": \"SQLI\"}, {\"Sentence\": \"select * from users where id = 1 +  ( \\\\+ )  or 1 = 1 -- 1\", \"Label\": 1, \"Class\": \"SQLI\"}, {\"Sentence\": \" select * from users where id = 1 +  ( \\\\+ )  union select null,@@VERSION -- 1\", \"Label\": 1, \"Class\": \"SQLI\"}, {\"Sentence\": \" select * from users where id = 1 +\\\\+. union select null,@@VERSION -- 1\", \"Label\": 1, \"Class\": \"SQLI\"}, {\"Sentence\": \" select * from users where id = 1 -1<@ union select 1,version (  )  -- 1\", \"Label\": 1, \"Class\": \"SQLI\"}, {\"Sentence\": \" select * from users where id = 1 +1<@ union select version (  ) ,version (  )  -- 1\", \"Label\": 1, \"Class\": \"SQLI\"}, {\"Sentence\": \" select * from users where id = 1 +1<@ union select null,version (  )  -- 1\", \"Label\": 1, \"Class\": \"SQLI\"}, {\"Sentence\": \"select * from users where id = 1 + \\\\+%\\\\ or 1 = 1 -- 1\", \"Label\": 1, \"Class\": \"SQLI\"}, {\"Sentence\": \"select * from users where id = 1 + \\\\+%1 or 1 = 1 -- 1\", \"Label\": 1, \"Class\": \"SQLI\"}, {\"Sentence\": \" select * from users where id = 1 + \\\\+%1 union select null,@@VERSION -- 1\", \"Label\": 1, \"Class\": \"SQLI\"}, {\"Sentence\": \" select * from users where id = 1 + \\\\+*\\\\ union select null,@@VERSION -- 1\", \"Label\": 1, \"Class\": \"SQLI\"}, {\"Sentence\": \"select * from users where id = 1 + \\\\+%$ or 1 = 1 -- 1\", \"Label\": 1, \"Class\": \"SQLI\"}, {\"Sentence\": \" select * from users where id = 1 + \\\\+*$ union select null,@@VERSION -- 1\", \"Label\": 1, \"Class\": \"SQLI\"}, {\"Sentence\": \" select * from users where id = 1 union select  ( 1 ) ,banner from v$version where rownum = 1 -- 1\", \"Label\": 1, \"Class\": \"SQLI\"}, {\"Sentence\": \" select * from users where id = 1 union select 1||1,version (  )  -- 1\", \"Label\": 1, \"Class\": \"SQLI\"}, {\"Sentence\": \" select * from users where id = 1 union select 1||@,version (  )  -- 1\", \"Label\": 1, \"Class\": \"SQLI\"}, {\"Sentence\": \" select * from users where id = 1 union select 1 1$,version (  )  -- 1\", \"Label\": 1, \"Class\": \"SQLI\"}, {\"Sentence\": \" select * from users where id = 1 union select 1 $,version (  )  -- 1\", \"Label\": 1, \"Class\": \"SQLI\"}, {\"Sentence\": \" select * from users where id = 1 union select 1 1a,version (  )  -- 1\", \"Label\": 1, \"Class\": \"SQLI\"}, {\"Sentence\": \" select * from users where id = 1 union select 1<@$,version (  )  -- 1\", \"Label\": 1, \"Class\": \"SQLI\"}, {\"Sentence\": \" select * from users where id = 1 union select 1,banner from v$version where rownum = 1 -- 1\", \"Label\": 1, \"Class\": \"SQLI\"}, {\"Sentence\": \" select * from users where id = 1 union select .1_,version (  )  -- 1\", \"Label\": 1, \"Class\": \"SQLI\"}, {\"Sentence\": \" select * from users where id = 1 union select 1`\\\\`,version (  )  -- 1\", \"Label\": 1, \"Class\": \"SQLI\"}, {\"Sentence\": \" select * from users where id = 1 union select 1a#,banner from v$version where rownum = 1 -- 1\", \"Label\": 1, \"Class\": \"SQLI\"}, {\"Sentence\": \" select * from users where id = 1 union select 1a,banner from v$version where rownum = 1 -- 1\", \"Label\": 1, \"Class\": \"SQLI\"}, {\"Sentence\": \" select * from users where id = 1 union select .1$_,version (  )  -- 1\", \"Label\": 1, \"Class\": \"SQLI\"}, {\"Sentence\": \" select * from users where id = 1 union select 1<@,version (  )  -- 1\", \"Label\": 1, \"Class\": \"SQLI\"}, {\"Sentence\": \" select * from users where id = 1 union select 1<@.,version (  )  -- 1\", \"Label\": 1, \"Class\": \"SQLI\"}, {\"Sentence\": \" select * from users where id = 1 union select 1 $$,version (  )  -- 1\", \"Label\": 1, \"Class\": \"SQLI\"}, {\"Sentence\": \" select * from users where id = 1 union select !<1,version (  )  -- 1\", \"Label\": 1, \"Class\": \"SQLI\"}, {\"Sentence\": \" select * from users where id = 1 union select +!<1,version (  )  -- 1\", \"Label\": 1, \"Class\": \"SQLI\"}, {\"Sentence\": \" select * from users where id = 1 union select +!<@,version (  )  -- 1\", \"Label\": 1, \"Class\": \"SQLI\"}, {\"Sentence\": \" select * from users where id = 1 union select !<@,version (  )  -- 1\", \"Label\": 1, \"Class\": \"SQLI\"}, {\"Sentence\": \" select * from users where id = 1 union select @||1,version (  )  -- 1\", \"Label\": 1, \"Class\": \"SQLI\"}, {\"Sentence\": \" select * from users where id = 1 union select @&&@,version (  )  -- 1\", \"Label\": 1, \"Class\": \"SQLI\"}, {\"Sentence\": \" select * from users where id = 1 union select @ 1$,version (  )  -- 1\", \"Label\": 1, \"Class\": \"SQLI\"}, {\"Sentence\": \" select * from users where id = 1 union select  @ $,version (  )  -- 1\", \"Label\": 1, \"Class\": \"SQLI\"}, {\"Sentence\": \" select * from users where id = 1 union select @ 1a,version (  )  -- 1\", \"Label\": 1, \"Class\": \"SQLI\"}, {\"Sentence\": \" select * from users where id = 1 union select @<@$,version (  )  -- 1\", \"Label\": 1, \"Class\": \"SQLI\"}, {\"Sentence\": \" select * from users where id = 1   union select null,banner from v$version where rownum = 1 -- 1\", \"Label\": 1, \"Class\": \"SQLI\"}, {\"Sentence\": \" select * from users where id = 1 union select @ _,version (  )  -- 1\", \"Label\": 1, \"Class\": \"SQLI\"}, {\"Sentence\": \" select * from users where id = 1 union select @ $_,version (  )  -- 1\", \"Label\": 1, \"Class\": \"SQLI\"}, {\"Sentence\": \" select * from users where id = 1 union select @<@,version (  )  -- 1\", \"Label\": 1, \"Class\": \"SQLI\"}, {\"Sentence\": \" select * from users where id = 1 union select @<@.,version (  )  -- 1\", \"Label\": 1, \"Class\": \"SQLI\"}, {\"Sentence\": \" select * from users where id = 1 union select @ $$,version (  )  -- 1\", \"Label\": 1, \"Class\": \"SQLI\"}, {\"Sentence\": \"select * from users where id = 1 +$ . or 1 = 1 -- 1\", \"Label\": 1, \"Class\": \"SQLI\"}, {\"Sentence\": \" select * from users where id = 1 +$ . union select null,@@VERSION -- 1\", \"Label\": 1, \"Class\": \"SQLI\"}, {\"Sentence\": \"select * from users where id = 1 +$ 1 or 1 = 1 -- 1\", \"Label\": 1, \"Class\": \"SQLI\"}, {\"Sentence\": \" select * from users where id = 1 +$ 1 union select null,@@VERSION -- 1\", \"Label\": 1, \"Class\": \"SQLI\"}, {\"Sentence\": \"select * from users where id = 1 +$+ or 1 = 1 -- 1\", \"Label\": 1, \"Class\": \"SQLI\"}, {\"Sentence\": \"select * from users where id = 1 +  ( $+ )  or 1 = 1 -- 1\", \"Label\": 1, \"Class\": \"SQLI\"}, {\"Sentence\": \" select * from users where id = 1 +  ( $+ )  union select null,@@VERSION -- 1\", \"Label\": 1, \"Class\": \"SQLI\"}, {\"Sentence\": \"select * from users where id = 1 +$+. or 1 = 1 -- 1\", \"Label\": 1, \"Class\": \"SQLI\"}, {\"Sentence\": \" select * from users where id = 1 +$+. union select null,@@VERSION -- 1\", \"Label\": 1, \"Class\": \"SQLI\"}, {\"Sentence\": \" select * from users where id = 1 +$+ union select null,@@VERSION -- 1\", \"Label\": 1, \"Class\": \"SQLI\"}, {\"Sentence\": \"select * from users where id = 1 + $+%\\\\ or 1 = 1 -- 1\", \"Label\": 1, \"Class\": \"SQLI\"}, {\"Sentence\": \"select * from users where id = 1 + $+%1 or 1 = 1 -- 1\", \"Label\": 1, \"Class\": \"SQLI\"}, {\"Sentence\": \" select * from users where id = 1 + $+%1 union select null,@@VERSION -- 1\", \"Label\": 1, \"Class\": \"SQLI\"}, {\"Sentence\": \" select * from users where id = 1 + $+*\\\\ union select null,@@VERSION -- 1\", \"Label\": 1, \"Class\": \"SQLI\"}, {\"Sentence\": \"select * from users where id = 1 + $+%$ or 1 = 1 -- 1\", \"Label\": 1, \"Class\": \"SQLI\"}, {\"Sentence\": \" select * from users where id = 1 + $+*$ union select null,@@VERSION -- 1\", \"Label\": 1, \"Class\": \"SQLI\"}, {\"Sentence\": \"select * from users where id = 1 <@ or 1 = 1 -- 1\", \"Label\": 1, \"Class\": \"SQLI\"}, {\"Sentence\": \"select * from users where id = 1 % ( \\\\ )  or 1 = 1 -- 1\", \"Label\": 1, \"Class\": \"SQLI\"}, {\"Sentence\": \" select * from users where id = 1 * ( \\\\ )  union select null,@@VERSION -- 1\", \"Label\": 1, \"Class\": \"SQLI\"}, {\"Sentence\": \"select * from users where id = 1 % ( 1 )  or 1 = 1 -- 1\", \"Label\": 1, \"Class\": \"SQLI\"}, {\"Sentence\": \" select * from users where id = 1 * ( 1 )  union select 1,banner from v$version where rownum = 1 -- 1\", \"Label\": 1, \"Class\": \"SQLI\"}, {\"Sentence\": \"select * from users where id = 1 % ( $ )  or 1 = 1 -- 1\", \"Label\": 1, \"Class\": \"SQLI\"}, {\"Sentence\": \"select * from users where id = 1 % ( @ )  or 1 = 1 -- 1\", \"Label\": 1, \"Class\": \"SQLI\"}, {\"Sentence\": \"select * from users where id = 1 <@. or 1 = 1 -- 1\", \"Label\": 1, \"Class\": \"SQLI\"}, {\"Sentence\": \"select * from users where id = 1 <@.. or 1 = 1 -- 1\", \"Label\": 1, \"Class\": \"SQLI\"}, {\"Sentence\": \" select * from users where id = 1<@.. union select 1,version (  )  -- 1\", \"Label\": 1, \"Class\": \"SQLI\"}, {\"Sentence\": \" select * from users where id = 1 <@. union select 1,version (  )  -- 1\", \"Label\": 1, \"Class\": \"SQLI\"}, {\"Sentence\": \" select * from users where id = 1  <@. union select version (  ) ,version (  )  -- 1\", \"Label\": 1, \"Class\": \"SQLI\"}, {\"Sentence\": \" select * from users where id = 1 *\\\\. union select null,@@VERSION -- 1\", \"Label\": 1, \"Class\": \"SQLI\"}, {\"Sentence\": \"select * from users where id = 1 <@.$ or 1 = 1 -- 1\", \"Label\": 1, \"Class\": \"SQLI\"}, {\"Sentence\": \" select * from users where id = 1 <@.$ union select 1,version (  )  -- 1\", \"Label\": 1, \"Class\": \"SQLI\"}, {\"Sentence\": \"select * from users where id = 1 *1 or 1 = 1 -- 1\", \"Label\": 1, \"Class\": \"SQLI\"}, {\"Sentence\": \" select * from users where id = 1 *1 union select 1,banner from v$version where rownum = 1 -- 1\", \"Label\": 1, \"Class\": \"SQLI\"}, {\"Sentence\": \" select * from users where id = 1 *1 union select null,banner from v$version where rownum = 1 -- 1\", \"Label\": 1, \"Class\": \"SQLI\"}, {\"Sentence\": \" select * from users where id = 1 <1## union select 1,version (  )  -- 1\", \"Label\": 1, \"Class\": \"SQLI\"}, {\"Sentence\": \"select * from users where id = 1 <@1$ or 1 = 1 -- 1\", \"Label\": 1, \"Class\": \"SQLI\"}, {\"Sentence\": \" select * from users where id = 1 <@1$ union select 1,version (  )  -- 1\", \"Label\": 1, \"Class\": \"SQLI\"}, {\"Sentence\": \" select * from users where id = 1 *\\\\ union select null,@@VERSION -- 1\", \"Label\": 1, \"Class\": \"SQLI\"}, {\"Sentence\": \"select * from users where id = 1 <@$ or 1 = 1 -- 1\", \"Label\": 1, \"Class\": \"SQLI\"}, {\"Sentence\": \"select * from users where id = 1 %$ . or 1 = 1 -- 1\", \"Label\": 1, \"Class\": \"SQLI\"}, {\"Sentence\": \" select * from users where id = 1 *$ . union select null,@@VERSION -- 1\", \"Label\": 1, \"Class\": \"SQLI\"}, {\"Sentence\": \"select * from users where id = 1 %$ 1 or 1 = 1 -- 1\", \"Label\": 1, \"Class\": \"SQLI\"}, {\"Sentence\": \" select * from users where id = 1 %$ 1 union select null,@@VERSION -- 1\", \"Label\": 1, \"Class\": \"SQLI\"}, {\"Sentence\": \"select * from users where id = 1 <@$_ or 1 = 1 -- 1\", \"Label\": 1, \"Class\": \"SQLI\"}, {\"Sentence\": \" select * from users where id = 1 <@$_ union select 1,version (  )  -- 1\", \"Label\": 1, \"Class\": \"SQLI\"}, {\"Sentence\": \"select * from users where id = 1 <@<@ or 1 = 1 -- 1\", \"Label\": 1, \"Class\": \"SQLI\"}, {\"Sentence\": \"select * from users where id = 1 %!<1 or 1 = 1 -- 1\", \"Label\": 1, \"Class\": \"SQLI\"}, {\"Sentence\": \" select * from users where id = 1 | |1 union select 1,banner from v$version where rownum = 1 -- 1\", \"Label\": 1, \"Class\": \"SQLI\"}, {\"Sentence\": \" select * from users where id = 1<@<@ union select 1,version (  )  -- 1\", \"Label\": 1, \"Class\": \"SQLI\"}, {\"Sentence\": \" select * from users where id = 1 <@<@ union select version (  ) ,version (  )  -- 1\", \"Label\": 1, \"Class\": \"SQLI\"}, {\"Sentence\": \" select * from users where id = 1 <@<@ union select null,version (  )  -- 1\", \"Label\": 1, \"Class\": \"SQLI\"}, {\"Sentence\": \"select * from users where id = 1 %!<@ or 1 = 1 -- 1\", \"Label\": 1, \"Class\": \"SQLI\"}, {\"Sentence\": \" select * from users where id = 1 <@&@ union select 1,version (  )  -- 1\", \"Label\": 1, \"Class\": \"SQLI\"}, {\"Sentence\": \" select * from users where id = 1 <@$$ union select 1,version (  )  -- 1\", \"Label\": 1, \"Class\": \"SQLI\"}, {\"Sentence\": \"select * from users where id = 1 &@ or 1 = 1 -- 1\", \"Label\": 1, \"Class\": \"SQLI\"}, {\"Sentence\": \" select * from users where id = '1' or ||/1 = 1 union select 1,version (  )  -- 1'\", \"Label\": 1, \"Class\": \"SQLI\"}, {\"Sentence\": \" select * from users where id = '1' or  ( \\\\ )  = 1 union select 1,@@VERSION -- 1'\", \"Label\": 1, \"Class\": \"SQLI\"}, {\"Sentence\": \" select * from users where id = '1' or  ( \\\\. )  = 1 union select 1,@@VERSION -- 1'\", \"Label\": 1, \"Class\": \"SQLI\"}, {\"Sentence\": \" select * from users where id = '1' or  ( 1 )  = 1 union select 1,banner from v$version where rownum = 1 -- 1'\", \"Label\": 1, \"Class\": \"SQLI\"}, {\"Sentence\": \"select * from users where id = '1' or \\\\.<\\\\ or 1 = 1 -- 1'\", \"Label\": 1, \"Class\": \"SQLI\"}, {\"Sentence\": \" select * from users where id = '1' or \\\\.<1 union select 1,@@VERSION -- 1'\", \"Label\": 1, \"Class\": \"SQLI\"}, {\"Sentence\": \" select * from users where id = '1' or \\\\.<\\\\ union select 1,@@VERSION -- 1'\", \"Label\": 1, \"Class\": \"SQLI\"}, {\"Sentence\": \" select * from users where id = '1' or \\\\.<$ union select 1,@@VERSION -- 1'\", \"Label\": 1, \"Class\": \"SQLI\"}, {\"Sentence\": \" select * from users where id = '1' or \\\\.<  = 1 union select 1,@@VERSION -- 1'\", \"Label\": 1, \"Class\": \"SQLI\"}, {\"Sentence\": \" select * from users where id = '1' ||1 union select 1,banner from v$version where rownum = 1 -- 1'\", \"Label\": 1, \"Class\": \"SQLI\"}, {\"Sentence\": \"select * from users where id = '1'   or 1 = 1 -- 1'\", \"Label\": 1, \"Class\": \"SQLI\"}, {\"Sentence\": \" select * from users where id = '1' or 1^ = 1 union select 1,banner from v$version where rownum = 1 -- 1'\", \"Label\": 1, \"Class\": \"SQLI\"}, {\"Sentence\": \" select * from users where id = '1' or $ . = 1 union select 1,@@VERSION -- 1'\", \"Label\": 1, \"Class\": \"SQLI\"}, {\"Sentence\": \"select * from users where id = '1' or $ 1 = 1 or 1 = 1 -- 1'\", \"Label\": 1, \"Class\": \"SQLI\"}, {\"Sentence\": \" select * from users where id = '1' or $ 1 = 1 union select 1,@@VERSION -- 1'\", \"Label\": 1, \"Class\": \"SQLI\"}, {\"Sentence\": \"select * from users where id = '1' or $<\\\\ or 1 = 1 -- 1'\", \"Label\": 1, \"Class\": \"SQLI\"}, {\"Sentence\": \" select * from users where id = '1' or $<\\\\. union select 1,@@VERSION -- 1'\", \"Label\": 1, \"Class\": \"SQLI\"}, {\"Sentence\": \" select * from users where id = '1' or $<\\\\ union select 1,@@VERSION -- 1'\", \"Label\": 1, \"Class\": \"SQLI\"}, {\"Sentence\": \" select * from users where id = '1' or $+<$ union select 1,@@VERSION -- 1'\", \"Label\": 1, \"Class\": \"SQLI\"}, {\"Sentence\": \"select * from users where id = '1' or \\\\<\\\\. or 1 = 1 -- 1'\", \"Label\": 1, \"Class\": \"SQLI\"}, {\"Sentence\": \" select * from users where id = '1' or \\\\<\\\\. union select 1,@@VERSION -- 1'\", \"Label\": 1, \"Class\": \"SQLI\"}, {\"Sentence\": \"select * from users where id = '1' or \\\\<1 or 1 = 1 -- 1'\", \"Label\": 1, \"Class\": \"SQLI\"}, {\"Sentence\": \" select * from users where id = '1' or !<1 union select 1,version (  )  -- 1'\", \"Label\": 1, \"Class\": \"SQLI\"}, {\"Sentence\": \" select * from users where id = '1' or \\\\<\\\\ union select 1,@@VERSION -- 1'\", \"Label\": 1, \"Class\": \"SQLI\"}, {\"Sentence\": \"select * from users where id = '1' or \\\\<$ or 1 = 1 -- 1'\", \"Label\": 1, \"Class\": \"SQLI\"}, {\"Sentence\": \" select * from users where id = '1' or \\\\<$ union select 1,@@VERSION -- 1'\", \"Label\": 1, \"Class\": \"SQLI\"}, {\"Sentence\": \" select * from users where id = '1' or \\\\<  = 1 union select 1,@@VERSION -- 1'\", \"Label\": 1, \"Class\": \"SQLI\"}, {\"Sentence\": \"select * from users where id = '1' or !<@ or 1 = 1 -- 1'\", \"Label\": 1, \"Class\": \"SQLI\"}, {\"Sentence\": \" select * from users where id = '1' or !<@ union select 1,version (  )  -- 1'\", \"Label\": 1, \"Class\": \"SQLI\"}, {\"Sentence\": \" select * from users where id = '1' or @ ( 1 )  = 1 union select 1,version (  )  -- 1'\", \"Label\": 1, \"Class\": \"SQLI\"}, {\"Sentence\": \" select * from users where id = '1' or @ 1 = 1 union select 1,version (  )  -- 1'\", \"Label\": 1, \"Class\": \"SQLI\"}, {\"Sentence\": \" select * from users where id = '1' or @ @1 = 1 union select 1,version (  )  -- 1'\", \"Label\": 1, \"Class\": \"SQLI\"}, {\"Sentence\": \" select * from users where id = 1 or \\\" (  ) \\\" or 1 = 1 -- 1\", \"Label\": 1, \"Class\": \"SQLI\"}, {\"Sentence\": \" select * from users where id = 1 or \\\" ( ,\\\" = 1 or 1 = 1 -- 1\", \"Label\": 1, \"Class\": \"SQLI\"}, {\"Sentence\": \" select * from users where id = 1 or \\\" ( .\\\" or 1 = 1 -- 1\", \"Label\": 1, \"Class\": \"SQLI\"}, {\"Sentence\": \" select * from users where id = 1 or \\\" ( 1\\\" or 1 = 1 -- 1\", \"Label\": 1, \"Class\": \"SQLI\"}, {\"Sentence\": \"s\", \"Label\": 1, \"Class\": \"SQLI\"}, {\"Sentence\": \" select * from users where id = 1 or \\\" ( ;\\\" or 1 = 1 -- 1\", \"Label\": 1, \"Class\": \"SQLI\"}, {\"Sentence\": \" select * from users where id = 1 or \\\" ( ]\\\" or 1 = 1 -- 1\", \"Label\": 1, \"Class\": \"SQLI\"}, {\"Sentence\": \" select * from users where id = 1 or 1#\\\" (  union select 1,version (  )  -- 1\", \"Label\": 1, \"Class\": \"SQLI\"}, {\"Sentence\": \" select * from users where id = 1 or 1#\\\" (  union select version (  ) ,version (  )  -- 1\", \"Label\": 1, \"Class\": \"SQLI\"}, {\"Sentence\": \" select * from users where id = 1 or 1#\\\" (  union select 'a',version (  )  -- 1\", \"Label\": 1, \"Class\": \"SQLI\"}, {\"Sentence\": \" select * from users where id = 1 or 1#\\\" (  union select null,version (  )  -- 1\", \"Label\": 1, \"Class\": \"SQLI\"}, {\"Sentence\": \" select * from users where id = 1 or \\\" ( #\\\" or 1 = 1 -- 1\", \"Label\": 1, \"Class\": \"SQLI\"}, {\"Sentence\": \" select * from users where id = 1 or \\\" ( [\\\" or 1 = 1 -- 1\", \"Label\": 1, \"Class\": \"SQLI\"}, {\"Sentence\": \" select * from users where id = 1 or \\\" ( _\\\" or 1 = 1 -- 1\", \"Label\": 1, \"Class\": \"SQLI\"}, {\"Sentence\": \" select * from users where id = 1 or @#\\\" (  = 1 or 1 = 1 -- 1\", \"Label\": 1, \"Class\": \"SQLI\"}, {\"Sentence\": \" select * from users where id = 1 or @#\\\" (  = 1 union select 1,version (  )  -- 1\", \"Label\": 1, \"Class\": \"SQLI\"}, {\"Sentence\": \" select * from users where id = 1 or \\\" ( &\\\" or 1 = 1 -- 1\", \"Label\": 1, \"Class\": \"SQLI\"}, {\"Sentence\": \" select * from users where id = 1 or \\\" ( @\\\" or 1 = 1 -- 1\", \"Label\": 1, \"Class\": \"SQLI\"}, {\"Sentence\": \" select * from users where id = 1 or \\\" ( {\\\" or 1 = 1 -- 1\", \"Label\": 1, \"Class\": \"SQLI\"}, {\"Sentence\": \" select * from users where id = 1 or \\\" )  ( \\\" = 1 or 1 = 1 -- 1\", \"Label\": 1, \"Class\": \"SQLI\"}, {\"Sentence\": \" select * from users where id = 1 or \\\" ) ,\\\" or 1 = 1 -- 1\", \"Label\": 1, \"Class\": \"SQLI\"}, {\"Sentence\": \" select * from users where id = 1 or \\\" ) .\\\" = 1 or 1 = 1 -- 1\", \"Label\": 1, \"Class\": \"SQLI\"}, {\"Sentence\": \" select * from users where id = 1 or \\\" ) 1\\\" or 1 = 1 -- 1\", \"Label\": 1, \"Class\": \"SQLI\"}, {\"Sentence\": \"s\", \"Label\": 1, \"Class\": \"SQLI\"}, {\"Sentence\": \" select * from users where id = 1 or \\\" ) ;\\\" or 1 = 1 -- 1\", \"Label\": 1, \"Class\": \"SQLI\"}, {\"Sentence\": \" select * from users where id = 1 or \\\" ) ]\\\" or 1 = 1 -- 1\", \"Label\": 1, \"Class\": \"SQLI\"}, {\"Sentence\": \" select * from users where id = 1 or \\\" ) [\\\" or 1 = 1 -- 1\", \"Label\": 1, \"Class\": \"SQLI\"}, {\"Sentence\": \" select * from users where id = 1 or \\\" ) $\\\" or 1 = 1 -- 1\", \"Label\": 1, \"Class\": \"SQLI\"}, {\"Sentence\": \" select * from users where id = 1 or \\\" ) @\\\" or 1 = 1 -- 1\", \"Label\": 1, \"Class\": \"SQLI\"}, {\"Sentence\": \" select * from users where id = 1 or \\\" ) {\\\" or 1 = 1 -- 1\", \"Label\": 1, \"Class\": \"SQLI\"}, {\"Sentence\": \" select * from users where id = 1 or \\\", ( \\\" or 1 = 1 -- 1\", \"Label\": 1, \"Class\": \"SQLI\"}, {\"Sentence\": \" select * from users where id = 1 or \\\", ) \\\" = 1 or 1 = 1 -- 1\", \"Label\": 1, \"Class\": \"SQLI\"}, {\"Sentence\": \" select * from users where id = 1 or \\\",,\\\" = 1 or 1 = 1 -- 1\", \"Label\": 1, \"Class\": \"SQLI\"}, {\"Sentence\": \" select * from users where id = 1 or \\\",.\\\" or 1 = 1 -- 1\", \"Label\": 1, \"Class\": \"SQLI\"}, {\"Sentence\": \"s\", \"Label\": 1, \"Class\": \"SQLI\"}, {\"Sentence\": \" select * from users where id = 1 or \\\",;\\\" or 1 = 1 -- 1\", \"Label\": 1, \"Class\": \"SQLI\"}, {\"Sentence\": \" select * from users where id = 1 or \\\",?\\\" or 1 = 1 -- 1\", \"Label\": 1, \"Class\": \"SQLI\"}, {\"Sentence\": \" select * from users where id = 1 or 1#\\\", union select 1,version (  )  -- 1\", \"Label\": 1, \"Class\": \"SQLI\"}, {\"Sentence\": \" select * from users where id = 1 or 1#\\\", union select version (  ) ,version (  )  -- 1\", \"Label\": 1, \"Class\": \"SQLI\"}, {\"Sentence\": \" select * from users where id = 1 or 1#\\\", union select 'a',version (  )  -- 1\", \"Label\": 1, \"Class\": \"SQLI\"}, {\"Sentence\": \" select * from users where id = 1 or 1#\\\", union select null,version (  )  -- 1\", \"Label\": 1, \"Class\": \"SQLI\"}, {\"Sentence\": \" select * from users where id = 1 or \\\",#\\\" or 1 = 1 -- 1\", \"Label\": 1, \"Class\": \"SQLI\"}, {\"Sentence\": \" select * from users where id = 1 or 1#\\\", = 1 or 1 = 1 -- 1\", \"Label\": 1, \"Class\": \"SQLI\"}, {\"Sentence\": \" select * from users where id = 1 or @#\\\", = 1 union select 1,version (  )  -- 1\", \"Label\": 1, \"Class\": \"SQLI\"}, {\"Sentence\": \" select * from users where id = 1 or \\\",&\\\" or 1 = 1 -- 1\", \"Label\": 1, \"Class\": \"SQLI\"}, {\"Sentence\": \" select * from users where id = 1 or \\\",{\\\" or 1 = 1 -- 1\", \"Label\": 1, \"Class\": \"SQLI\"}, {\"Sentence\": \" select * from users where id = 1 or \\\". ( \\\" or 1 = 1 -- 1\", \"Label\": 1, \"Class\": \"SQLI\"}, {\"Sentence\": \" select * from users where id = 1 or \\\". ) \\\" or 1 = 1 -- 1\", \"Label\": 1, \"Class\": \"SQLI\"}, {\"Sentence\": \" select * from users where id = 1 or \\\".,\\\" or 1 = 1 -- 1\", \"Label\": 1, \"Class\": \"SQLI\"}, {\"Sentence\": \" select * from users where id = 1 or \\\"..\\\" = 1 or 1 = 1 -- 1\", \"Label\": 1, \"Class\": \"SQLI\"}, {\"Sentence\": \"s\", \"Label\": 1, \"Class\": \"SQLI\"}, {\"Sentence\": \" select * from users where id = 1 or \\\".;\\\" or 1 = 1 -- 1\", \"Label\": 1, \"Class\": \"SQLI\"}, {\"Sentence\": \" select * from users where id = 1 or \\\".]\\\" or 1 = 1 -- 1\", \"Label\": 1, \"Class\": \"SQLI\"}, {\"Sentence\": \" select * from users where id = 1 or 1#\\\". union select 1,version (  )  -- 1\", \"Label\": 1, \"Class\": \"SQLI\"}, {\"Sentence\": \" select * from users where id = 1 or 1#\\\". union select version (  ) ,version (  )  -- 1\", \"Label\": 1, \"Class\": \"SQLI\"}, {\"Sentence\": \" select * from users where id = 1 or 1#\\\". union select 'a',version (  )  -- 1\", \"Label\": 1, \"Class\": \"SQLI\"}, {\"Sentence\": \" select * from users where id = 1 or 1#\\\". union select null,version (  )  -- 1\", \"Label\": 1, \"Class\": \"SQLI\"}, {\"Sentence\": \" select * from users where id = 1 or \\\".#\\\" or 1 = 1 -- 1\", \"Label\": 1, \"Class\": \"SQLI\"}, {\"Sentence\": \" select * from users where id = 1 or \\\".[\\\" or 1 = 1 -- 1\", \"Label\": 1, \"Class\": \"SQLI\"}, {\"Sentence\": \" select * from users where id = 1 or \\\"._\\\" or 1 = 1 -- 1\", \"Label\": 1, \"Class\": \"SQLI\"}, {\"Sentence\": \" select * from users where id = 1 or @#\\\". = 1 or 1 = 1 -- 1\", \"Label\": 1, \"Class\": \"SQLI\"}, {\"Sentence\": \" select * from users where id = 1 or 1#\\\". = 1 union select 1,version (  )  -- 1\", \"Label\": 1, \"Class\": \"SQLI\"}, {\"Sentence\": \" select * from users where id = 1 or \\\".%\\\" or 1 = 1 -- 1\", \"Label\": 1, \"Class\": \"SQLI\"}, {\"Sentence\": \" select * from users where id = 1 or \\\".@\\\" or 1 = 1 -- 1\", \"Label\": 1, \"Class\": \"SQLI\"}, {\"Sentence\": \" select * from users where id = 1 or \\\".{\\\" or 1 = 1 -- 1\", \"Label\": 1, \"Class\": \"SQLI\"}, {\"Sentence\": \" select * from users where id = 1 or \\\"1 ( \\\" = 1 or 1 = 1 -- 1\", \"Label\": 1, \"Class\": \"SQLI\"}, {\"Sentence\": \" select * from users where id = 1 or \\\"1 ) \\\" or 1 = 1 -- 1\", \"Label\": 1, \"Class\": \"SQLI\"}, {\"Sentence\": \" select * from users where id = 1 or \\\"1,\\\" or 1 = 1 -- 1\", \"Label\": 1, \"Class\": \"SQLI\"}, {\"Sentence\": \"s\", \"Label\": 1, \"Class\": \"SQLI\"}, {\"Sentence\": \" select * from users where id = 1 or \\\"1;\\\" = 1 or 1 = 1 -- 1\", \"Label\": 1, \"Class\": \"SQLI\"}, {\"Sentence\": \" select * from users where id = 1 or \\\"1]\\\" or 1 = 1 -- 1\", \"Label\": 1, \"Class\": \"SQLI\"}, {\"Sentence\": \" select * from users where id = 1 or 1#\\\"1 union select 1,version (  )  -- 1\", \"Label\": 1, \"Class\": \"SQLI\"}, {\"Sentence\": \" select * from users where id = 1 or 1#\\\"1 union select version (  ) ,version (  )  -- 1\", \"Label\": 1, \"Class\": \"SQLI\"}, {\"Sentence\": \" select * from users where id = 1 or 1#\\\"1 union select 'a',version (  )  -- 1\", \"Label\": 1, \"Class\": \"SQLI\"}, {\"Sentence\": \" select * from users where id = 1 or 1#\\\"1 union select null,version (  )  -- 1\", \"Label\": 1, \"Class\": \"SQLI\"}, {\"Sentence\": \" select * from users where id = 1 or \\\"1#\\\" or 1 = 1 -- 1\", \"Label\": 1, \"Class\": \"SQLI\"}, {\"Sentence\": \" select * from users where id = 1 or \\\"1[\\\" or 1 = 1 -- 1\", \"Label\": 1, \"Class\": \"SQLI\"}, {\"Sentence\": \" select * from users where id = 1 or \\\"1_\\\" or 1 = 1 -- 1\", \"Label\": 1, \"Class\": \"SQLI\"}, {\"Sentence\": \" select * from users where id = 1 or \\\"1&\\\" or 1 = 1 -- 1\", \"Label\": 1, \"Class\": \"SQLI\"}, {\"Sentence\": \" select * from users where id = 1 or \\\"1{\\\" or 1 = 1 -- 1\", \"Label\": 1, \"Class\": \"SQLI\"}, {\"Sentence\": \" select * from users where id = '1' or \\\"\\\"<@ union select 1,version (  )  -- 1'\", \"Label\": 1, \"Class\": \"SQLI\"}, {\"Sentence\": \"&1c\", \"Label\": 1, \"Class\": \"SQLI\"}, {\"Sentence\": \"( s\", \"Label\": 1, \"Class\": \"SQLI\"}, {\"Sentence\": \") s\", \"Label\": 1, \"Class\": \"SQLI\"}, {\"Sentence\": \",s\", \"Label\": 1, \"Class\": \"SQLI\"}, {\"Sentence\": \".s\", \"Label\": 1, \"Class\": \"SQLI\"}, {\"Sentence\": \"1s\", \"Label\": 1, \"Class\": \"SQLI\"}, {\"Sentence\": \";s\", \"Label\": 1, \"Class\": \"SQLI\"}, {\"Sentence\": \"?s\", \"Label\": 1, \"Class\": \"SQLI\"}, {\"Sentence\": \"UE1\", \"Label\": 1, \"Class\": \"SQLI\"}, {\"Sentence\": \"UEf\", \"Label\": 1, \"Class\": \"SQLI\"}, {\"Sentence\": \"UEs\", \"Label\": 1, \"Class\": \"SQLI\"}, {\"Sentence\": \"UEv\", \"Label\": 1, \"Class\": \"SQLI\"}, {\"Sentence\": \"c\", \"Label\": 1, \"Class\": \"SQLI\"}, {\"Sentence\": \"n\", \"Label\": 1, \"Class\": \"SQLI\"}, {\"Sentence\": \"ns\", \"Label\": 1, \"Class\": \"SQLI\"}, {\"Sentence\": \"os\", \"Label\": 1, \"Class\": \"SQLI\"}, {\"Sentence\": \"s\", \"Label\": 1, \"Class\": \"SQLI\"}, {\"Sentence\": \"v\", \"Label\": 1, \"Class\": \"SQLI\"}, {\"Sentence\": \"{s\", \"Label\": 1, \"Class\": \"SQLI\"}, {\"Sentence\": \" select * from users where id = 1 or 1#\\\"; or 1 = 1 -- 1\", \"Label\": 1, \"Class\": \"SQLI\"}, {\"Sentence\": \" select * from users where id = 1 or \\\"; ( \\\" or 1 = 1 -- 1\", \"Label\": 1, \"Class\": \"SQLI\"}, {\"Sentence\": \" select * from users where id = 1 or \\\"; ) \\\" = 1 or 1 = 1 -- 1\", \"Label\": 1, \"Class\": \"SQLI\"}, {\"Sentence\": \" select * from users where id = 1 or \\\";,\\\" = 1 or 1 = 1 -- 1\", \"Label\": 1, \"Class\": \"SQLI\"}, {\"Sentence\": \" select * from users where id = 1 or \\\";.\\\" = 1 or 1 = 1 -- 1\", \"Label\": 1, \"Class\": \"SQLI\"}, {\"Sentence\": \" select * from users where id = 1 or \\\";1\\\" or 1 = 1 -- 1\", \"Label\": 1, \"Class\": \"SQLI\"}, {\"Sentence\": \"s\", \"Label\": 1, \"Class\": \"SQLI\"}, {\"Sentence\": \" select * from users where id = 1 or \\\";]\\\" or 1 = 1 -- 1\", \"Label\": 1, \"Class\": \"SQLI\"}, {\"Sentence\": \" select * from users where id = 1 or 1#\\\"; union select 1,version (  )  -- 1\", \"Label\": 1, \"Class\": \"SQLI\"}, {\"Sentence\": \" select * from users where id = 1 or 1#\\\"; union select version (  ) ,version (  )  -- 1\", \"Label\": 1, \"Class\": \"SQLI\"}, {\"Sentence\": \" select * from users where id = 1 or 1#\\\"; union select 'a',version (  )  -- 1\", \"Label\": 1, \"Class\": \"SQLI\"}, {\"Sentence\": \" select * from users where id = 1 or 1#\\\"; union select null,version (  )  -- 1\", \"Label\": 1, \"Class\": \"SQLI\"}, {\"Sentence\": \" select * from users where id = 1 or \\\";#\\\" or 1 = 1 -- 1\", \"Label\": 1, \"Class\": \"SQLI\"}, {\"Sentence\": \" select * from users where id = 1 or \\\";[\\\" or 1 = 1 -- 1\", \"Label\": 1, \"Class\": \"SQLI\"}, {\"Sentence\": \" select * from users where id = 1 or \\\";_\\\" or 1 = 1 -- 1\", \"Label\": 1, \"Class\": \"SQLI\"}, {\"Sentence\": \" select * from users where id = 1 or @#\\\"; = 1 or 1 = 1 -- 1\", \"Label\": 1, \"Class\": \"SQLI\"}, {\"Sentence\": \" select * from users where id = 1 or 1#\\\"; = 1 union select 1,version (  )  -- 1\", \"Label\": 1, \"Class\": \"SQLI\"}, {\"Sentence\": \" select * from users where id = 1 or \\\";&\\\" or 1 = 1 -- 1\", \"Label\": 1, \"Class\": \"SQLI\"}, {\"Sentence\": \" select * from users where id = '1' union select \\\";\\\"_,version (  )  -- 1'\", \"Label\": 1, \"Class\": \"SQLI\"}, {\"Sentence\": \" select * from users where id = 1 or \\\";@\\\" or 1 = 1 -- 1\", \"Label\": 1, \"Class\": \"SQLI\"}, {\"Sentence\": \" select * from users where id = 1 or \\\";{\\\" or 1 = 1 -- 1\", \"Label\": 1, \"Class\": \"SQLI\"}, {\"Sentence\": \" select * from users where id = 1 or 1#\\\"? or 1 = 1 -- 1\", \"Label\": 1, \"Class\": \"SQLI\"}, {\"Sentence\": \" select * from users where id = 1 or \\\"? ( \\\" or 1 = 1 -- 1\", \"Label\": 1, \"Class\": \"SQLI\"}, {\"Sentence\": \" select * from users where id = 1 or \\\"] ) \\\" or 1 = 1 -- 1\", \"Label\": 1, \"Class\": \"SQLI\"}, {\"Sentence\": \" select * from users where id = 1 or \\\"?,\\\" or 1 = 1 -- 1\", \"Label\": 1, \"Class\": \"SQLI\"}, {\"Sentence\": \" select * from users where id = '1' union select $[\\\"],@@VERSION -- 1'\", \"Label\": 1, \"Class\": \"SQLI\"}, {\"Sentence\": \" select * from users where id = 1 or \\\"].\\\" or 1 = 1 -- 1\", \"Label\": 1, \"Class\": \"SQLI\"}, {\"Sentence\": \" select * from users where id = 1 or \\\"]1\\\" or 1 = 1 -- 1\", \"Label\": 1, \"Class\": \"SQLI\"}, {\"Sentence\": \"s\", \"Label\": 1, \"Class\": \"SQLI\"}, {\"Sentence\": \" select * from users where id = 1 or \\\"?;\\\" or 1 = 1 -- 1\", \"Label\": 1, \"Class\": \"SQLI\"}, {\"Sentence\": \" select * from users where id = 1 or \\\"??\\\" or 1 = 1 -- 1\", \"Label\": 1, \"Class\": \"SQLI\"}, {\"Sentence\": \" select * from users where id = 1 or 1#\\\"? union select 1,version (  )  -- 1\", \"Label\": 1, \"Class\": \"SQLI\"}, {\"Sentence\": \" select * from users where id = 1 or 1#\\\"? union select version (  ) ,version (  )  -- 1\", \"Label\": 1, \"Class\": \"SQLI\"}, {\"Sentence\": \" select * from users where id = 1 or 1#\\\"? union select 'a',version (  )  -- 1\", \"Label\": 1, \"Class\": \"SQLI\"}, {\"Sentence\": \" select * from users where id = 1 or 1#\\\"? union select null,version (  )  -- 1\", \"Label\": 1, \"Class\": \"SQLI\"}, {\"Sentence\": \" select * from users where id = 1 or \\\"?#\\\" or 1 = 1 -- 1\", \"Label\": 1, \"Class\": \"SQLI\"}, {\"Sentence\": \" select * from users where id = 1 or \\\"?[\\\" or 1 = 1 -- 1\", \"Label\": 1, \"Class\": \"SQLI\"}, {\"Sentence\": \" select * from users where id = 1 or \\\"?_\\\" or 1 = 1 -- 1\", \"Label\": 1, \"Class\": \"SQLI\"}, {\"Sentence\": \" select * from users where id = 1 or 1#\\\"? = 1 or 1 = 1 -- 1\", \"Label\": 1, \"Class\": \"SQLI\"}, {\"Sentence\": \" select * from users where id = 1 or 1#\\\"? = 1 union select 1,version (  )  -- 1\", \"Label\": 1, \"Class\": \"SQLI\"}, {\"Sentence\": \" select * from users where id = 1 or \\\"?%\\\" or 1 = 1 -- 1\", \"Label\": 1, \"Class\": \"SQLI\"}, {\"Sentence\": \" select * from users where id = '1' union select \\\"?\\\"_,version (  )  -- 1'\", \"Label\": 1, \"Class\": \"SQLI\"}, {\"Sentence\": \" select * from users where id = 1 or \\\"?@\\\" or 1 = 1 -- 1\", \"Label\": 1, \"Class\": \"SQLI\"}, {\"Sentence\": \" select * from users where id = 1 or \\\"]{\\\" or 1 = 1 -- 1\", \"Label\": 1, \"Class\": \"SQLI\"}, {\"Sentence\": \" select * from users where id = '1' union select ||/1,version (  )  -- 1'\", \"Label\": 1, \"Class\": \"SQLI\"}, {\"Sentence\": \" select * from users where id = '1' union select  ( \\\\ ) ,@@VERSION -- 1'\", \"Label\": 1, \"Class\": \"SQLI\"}, {\"Sentence\": \" select * from users where id = '1' union select  ( \\\\. ) ,@@VERSION -- 1'\", \"Label\": 1, \"Class\": \"SQLI\"}, {\"Sentence\": \" select * from users where id = '1' union select  ( 1 ) ,banner from v$version where rownum = 1 -- 1'\", \"Label\": 1, \"Class\": \"SQLI\"}, {\"Sentence\": \" select * from users where id = '1' union select \\\\,@@VERSION -- 1'\", \"Label\": 1, \"Class\": \"SQLI\"}, {\"Sentence\": \" select * from users where id = '1' union select \\\\.,@@VERSION -- 1'\", \"Label\": 1, \"Class\": \"SQLI\"}, {\"Sentence\": \" select * from users where id = '1' union select \\\\.#,@@VERSION -- 1'\", \"Label\": 1, \"Class\": \"SQLI\"}, {\"Sentence\": \" select * from users where id = '1' union select \\\\.%1,@@VERSION -- 1'\", \"Label\": 1, \"Class\": \"SQLI\"}, {\"Sentence\": \" select * from users where id = '1' union select 1,banner from v$version where rownum = 1 -- 1'\", \"Label\": 1, \"Class\": \"SQLI\"}, {\"Sentence\": \" select * from users where id = '1' union select 1a,banner from v$version where rownum = 1 -- 1'\", \"Label\": 1, \"Class\": \"SQLI\"}, {\"Sentence\": \" select * from users where id = '1' union select 1\\\"!\\\",banner from v$version where rownum = 1 -- 1'\", \"Label\": 1, \"Class\": \"SQLI\"}, {\"Sentence\": \" select * from users where id = '1' union select \\\\#,@@VERSION -- 1'\", \"Label\": 1, \"Class\": \"SQLI\"}, {\"Sentence\": \" select * from users where id = '1' union select $ .,@@VERSION -- 1'\", \"Label\": 1, \"Class\": \"SQLI\"}, {\"Sentence\": \" select * from users where id = '1' union select $ _,@@VERSION -- 1'\", \"Label\": 1, \"Class\": \"SQLI\"}, {\"Sentence\": \" select * from users where id = '1' union select $*$,@@VERSION -- 1'\", \"Label\": 1, \"Class\": \"SQLI\"}, {\"Sentence\": \" select * from users where id = '1' union select +\\\\,@@VERSION -- 1'\", \"Label\": 1, \"Class\": \"SQLI\"}, {\"Sentence\": \" select * from users where id = '1' union select +\\\\.,@@VERSION -- 1'\", \"Label\": 1, \"Class\": \"SQLI\"}, {\"Sentence\": \" select * from users where id = '1' union select !<1,version (  )  -- 1'\", \"Label\": 1, \"Class\": \"SQLI\"}, {\"Sentence\": \" select * from users where id = '1' union select +\\\\#,@@VERSION -- 1'\", \"Label\": 1, \"Class\": \"SQLI\"}, {\"Sentence\": \" select * from users where id = '1' union select !<@,version (  )  -- 1'\", \"Label\": 1, \"Class\": \"SQLI\"}, {\"Sentence\": \" select * from users where id = '1' union select @ 1,version (  )  --  1'\", \"Label\": 1, \"Class\": \"SQLI\"}, {\"Sentence\": \" select * from users where id = '1'   union select null,banner from v$version where rownum = 1 -- 1'\", \"Label\": 1, \"Class\": \"SQLI\"}, {\"Sentence\": \" select * from users where id = '1' union select @ @1,version (  )  --  1'\", \"Label\": 1, \"Class\": \"SQLI\"}, {\"Sentence\": \" select * from users where id = 1 or \\\"\\\\#\\\" or 1 = 1 -- 1\", \"Label\": 1, \"Class\": \"SQLI\"}, {\"Sentence\": \" select * from users where id = 1 or \\\"$ ( \\\" or 1 = 1 -- 1\", \"Label\": 1, \"Class\": \"SQLI\"}, {\"Sentence\": \" select * from users where id = 1 or \\\"_ ) \\\" or 1 = 1 -- 1\", \"Label\": 1, \"Class\": \"SQLI\"}, {\"Sentence\": \" select * from users where id = '1' union select \\\"[\\\"_,version (  )  -- 1'\", \"Label\": 1, \"Class\": \"SQLI\"}, {\"Sentence\": \"s\", \"Label\": 1, \"Class\": \"SQLI\"}, {\"Sentence\": \" select * from users where id = 1 or \\\"_;\\\" or 1 = 1 -- 1\", \"Label\": 1, \"Class\": \"SQLI\"}, {\"Sentence\": \" select * from users where id = 1 or \\\"$?\\\" or 1 = 1 -- 1\", \"Label\": 1, \"Class\": \"SQLI\"}, {\"Sentence\": \" select * from users where id = 1 or 1#\\\"$ union select 1,version (  )  -- 1\", \"Label\": 1, \"Class\": \"SQLI\"}, {\"Sentence\": \" select * from users where id = 1 or 1#\\\"$ union select version (  ) ,version (  )  -- 1\", \"Label\": 1, \"Class\": \"SQLI\"}, {\"Sentence\": \" select * from users where id = 1 or 1#\\\"$ union select 'a',version (  )  -- 1\", \"Label\": 1, \"Class\": \"SQLI\"}, {\"Sentence\": \" select * from users where id = 1 or 1#\\\"$ union select null,version (  )  -- 1\", \"Label\": 1, \"Class\": \"SQLI\"}, {\"Sentence\": \" select * from users where id = 1 or \\\"$#\\\" or 1 = 1 -- 1\", \"Label\": 1, \"Class\": \"SQLI\"}, {\"Sentence\": \" select * from users where id = 1 or \\\"$[\\\" or 1 = 1 -- 1\", \"Label\": 1, \"Class\": \"SQLI\"}, {\"Sentence\": \" select * from users where id = 1 or \\\"$_\\\" or 1 = 1 -- 1\", \"Label\": 1, \"Class\": \"SQLI\"}, {\"Sentence\": \" select * from users where id = 1 or \\\"$&\\\" or 1 = 1 -- 1\", \"Label\": 1, \"Class\": \"SQLI\"}, {\"Sentence\": \" select * from users where id = 1 or \\\"$@\\\" or 1 = 1 -- 1\", \"Label\": 1, \"Class\": \"SQLI\"}, {\"Sentence\": \" select * from users where id = 1 or \\\"_{\\\" or 1 = 1 -- 1\", \"Label\": 1, \"Class\": \"SQLI\"}, {\"Sentence\": \"select * from users where id = '1' * ( \\\\ )  or 1 = 1 -- 1'\", \"Label\": 1, \"Class\": \"SQLI\"}, {\"Sentence\": \" select * from users where id = '1' +  ( \\\\ )  union select 1,@@VERSION -- 1'\", \"Label\": 1, \"Class\": \"SQLI\"}, {\"Sentence\": \" select * from users where id = '1' +  ( \\\\. )  union select 1,@@VERSION -- 1'\", \"Label\": 1, \"Class\": \"SQLI\"}, {\"Sentence\": \" select * from users where id = '1' * ( 1 )  union select 1,banner from v$version where rownum = 1 -- 1'\", \"Label\": 1, \"Class\": \"SQLI\"}, {\"Sentence\": \" select * from users where id = 1 or \\\"& ( \\\" or 1 = 1 -- 1\", \"Label\": 1, \"Class\": \"SQLI\"}, {\"Sentence\": \" select * from users where id = 1 or \\\"& ) \\\" or 1 = 1 -- 1\", \"Label\": 1, \"Class\": \"SQLI\"}, {\"Sentence\": \" select * from users where id = 1 or \\\"%,\\\" or 1 = 1 -- 1\", \"Label\": 1, \"Class\": \"SQLI\"}, {\"Sentence\": \"select * from users where id = '1'<@.. or 1 = 1 -- 1'\", \"Label\": 1, \"Class\": \"SQLI\"}, {\"Sentence\": \" select * from users where id = '1'<@.. union select 1,version (  )  -- 1'\", \"Label\": 1, \"Class\": \"SQLI\"}, {\"Sentence\": \"select * from users where id = '1' <@.$ or 1 = 1 -- 1'\", \"Label\": 1, \"Class\": \"SQLI\"}, {\"Sentence\": \" select * from users where id = '1' <@._ union select 1,version (  )  -- 1'\", \"Label\": 1, \"Class\": \"SQLI\"}, {\"Sentence\": \" select * from users where id = 1 or \\\"%.\\\" or 1 = 1 -- 1\", \"Label\": 1, \"Class\": \"SQLI\"}, {\"Sentence\": \" select * from users where id = '1' + 1||1 union select 1,banner from v$version where rownum = 1 -- 1'\", \"Label\": 1, \"Class\": \"SQLI\"}, {\"Sentence\": \" select * from users where id = '1' *1 union select 1,banner from v$version where rownum = 1 -- 1'\", \"Label\": 1, \"Class\": \"SQLI\"}, {\"Sentence\": \" select * from users where id = 1 or \\\"%1\\\" or 1 = 1 -- 1\", \"Label\": 1, \"Class\": \"SQLI\"}, {\"Sentence\": \"s\", \"Label\": 1, \"Class\": \"SQLI\"}, {\"Sentence\": \" select * from users where id = 1 or \\\"%;\\\" or 1 = 1 -- 1\", \"Label\": 1, \"Class\": \"SQLI\"}, {\"Sentence\": \" select * from users where id = 1 or \\\"%?\\\" or 1 = 1 -- 1\", \"Label\": 1, \"Class\": \"SQLI\"}, {\"Sentence\": \" select * from users where id = '1' + @<@# union select 1,version (  )  -- 1'\", \"Label\": 1, \"Class\": \"SQLI\"}, {\"Sentence\": \"select * from users where id = '1' *$ . or 1 = 1 -- 1'\", \"Label\": 1, \"Class\": \"SQLI\"}, {\"Sentence\": \" select * from users where id = '1' + $ . union select 1,@@VERSION -- 1'\", \"Label\": 1, \"Class\": \"SQLI\"}, {\"Sentence\": \"select * from users where id = '1' *$ 1 or 1 = 1 -- 1'\", \"Label\": 1, \"Class\": \"SQLI\"}, {\"Sentence\": \" select * from users where id = 1 or \\\"%[\\\" or 1 = 1 -- 1\", \"Label\": 1, \"Class\": \"SQLI\"}, {\"Sentence\": \"select * from users where id = '1' <@$_ or 1 = 1 -- 1'\", \"Label\": 1, \"Class\": \"SQLI\"}, {\"Sentence\": \" select * from users where id = '1' <@$_ union select 1,version (  )  -- 1'\", \"Label\": 1, \"Class\": \"SQLI\"}, {\"Sentence\": \" select * from users where id = 1 or \\\"%_\\\" or 1 = 1 -- 1\", \"Label\": 1, \"Class\": \"SQLI\"}, {\"Sentence\": \"select * from users where id = '1' + $+%\\\\ or 1 = 1 -- 1'\", \"Label\": 1, \"Class\": \"SQLI\"}, {\"Sentence\": \"select * from users where id = '1' <@&1 or 1 = 1 -- 1'\", \"Label\": 1, \"Class\": \"SQLI\"}, {\"Sentence\": \" select * from users where id = '1' <@&1 union select 1,version (  )  -- 1'\", \"Label\": 1, \"Class\": \"SQLI\"}, {\"Sentence\": \" select * from users where id = '1' <@<@ union select 1,version (  )  -- 1'\", \"Label\": 1, \"Class\": \"SQLI\"}, {\"Sentence\": \"select * from users where id = '1' + $+%$ or 1 = 1 -- 1'\", \"Label\": 1, \"Class\": \"SQLI\"}, {\"Sentence\": \" select * from users where id = '1' + $+*$ union select 1,@@VERSION -- 1'\", \"Label\": 1, \"Class\": \"SQLI\"}, {\"Sentence\": \" select * from users where id = 1 or \\\"%&\\\" or 1 = 1 -- 1\", \"Label\": 1, \"Class\": \"SQLI\"}, {\"Sentence\": \"select * from users where id = '1' <@&@ or 1 = 1 -- 1'\", \"Label\": 1, \"Class\": \"SQLI\"}, {\"Sentence\": \" select * from users where id = '1' %!<@ union select 1,version (  )  -- 1'\", \"Label\": 1, \"Class\": \"SQLI\"}, {\"Sentence\": \" select * from users where id = '1'<@$$ union select 1,version (  )  -- 1'\", \"Label\": 1, \"Class\": \"SQLI\"}, {\"Sentence\": \" select * from users where id = '1' + @ ( 1 )  union select 1,version (  )  -- 1'\", \"Label\": 1, \"Class\": \"SQLI\"}, {\"Sentence\": \" select * from users where id = '1' + @ 1 union select 1,version (  )  -- 1'\", \"Label\": 1, \"Class\": \"SQLI\"}, {\"Sentence\": \" select * from users where id = '1' + @ 1! union select 1,version (  )  -- 1'\", \"Label\": 1, \"Class\": \"SQLI\"}, {\"Sentence\": \" select * from users where id = '1' + @ @1 union select 1,version (  )  -- 1'\", \"Label\": 1, \"Class\": \"SQLI\"}, {\"Sentence\": \" select * from users where id = 1 or \\\"%{\\\" or 1 = 1 -- 1\", \"Label\": 1, \"Class\": \"SQLI\"}, {\"Sentence\": \" select * from users where id = 1 or \\\"@ ( \\\" or 1 = 1 -- 1\", \"Label\": 1, \"Class\": \"SQLI\"}, {\"Sentence\": \" select * from users where id = 1 or \\\"@ ) \\\" or 1 = 1 -- 1\", \"Label\": 1, \"Class\": \"SQLI\"}, {\"Sentence\": \"s\", \"Label\": 1, \"Class\": \"SQLI\"}, {\"Sentence\": \" select * from users where id = 1 or \\\"@;\\\" = 1 or 1 = 1 -- 1\", \"Label\": 1, \"Class\": \"SQLI\"}, {\"Sentence\": \" select * from users where id = 1 or \\\"@?\\\" or 1 = 1 -- 1\", \"Label\": 1, \"Class\": \"SQLI\"}, {\"Sentence\": \" select * from users where id = 1 or 1#\\\"@ union select 1,version (  )  -- 1\", \"Label\": 1, \"Class\": \"SQLI\"}, {\"Sentence\": \" select * from users where id = 1 or 1#\\\"@ union select version (  ) ,version (  )  -- 1\", \"Label\": 1, \"Class\": \"SQLI\"}, {\"Sentence\": \" select * from users where id = 1 or 1#\\\"@ union select 'a',version (  )  -- 1\", \"Label\": 1, \"Class\": \"SQLI\"}, {\"Sentence\": \" select * from users where id = 1 or 1#\\\"@ union select null,version (  )  -- 1\", \"Label\": 1, \"Class\": \"SQLI\"}, {\"Sentence\": \" select * from users where id = 1 or \\\"@#\\\" or 1 = 1 -- 1\", \"Label\": 1, \"Class\": \"SQLI\"}, {\"Sentence\": \" select * from users where id = 1 or \\\"@%\\\" or 1 = 1 -- 1\", \"Label\": 1, \"Class\": \"SQLI\"}, {\"Sentence\": \" select * from users where id = 1 or \\\"{ ( \\\" = 1 or 1 = 1 -- 1\", \"Label\": 1, \"Class\": \"SQLI\"}, {\"Sentence\": \" select * from users where id = 1 or \\\"{ ) \\\" or 1 = 1 -- 1\", \"Label\": 1, \"Class\": \"SQLI\"}, {\"Sentence\": \" select * from users where id = 1 or \\\"{,\\\" = 1 or 1 = 1 -- 1\", \"Label\": 1, \"Class\": \"SQLI\"}, {\"Sentence\": \" select * from users where id = 1 or \\\"{.\\\" or 1 = 1 -- 1\", \"Label\": 1, \"Class\": \"SQLI\"}, {\"Sentence\": \" select * from users where id = 1 or \\\"{1\\\" = 1 or 1 = 1 -- 1\", \"Label\": 1, \"Class\": \"SQLI\"}, {\"Sentence\": \"s\", \"Label\": 1, \"Class\": \"SQLI\"}, {\"Sentence\": \" select * from users where id = 1 or \\\"{;\\\" or 1 = 1 -- 1\", \"Label\": 1, \"Class\": \"SQLI\"}, {\"Sentence\": \" select * from users where id = 1 or \\\"{?\\\" or 1 = 1 -- 1\", \"Label\": 1, \"Class\": \"SQLI\"}, {\"Sentence\": \" select * from users where id = 1 or 1#\\\"{ union select 1,version (  )  -- 1\", \"Label\": 1, \"Class\": \"SQLI\"}, {\"Sentence\": \" select * from users where id = 1 or 1#\\\"{ union select version (  ) ,version (  )  -- 1\", \"Label\": 1, \"Class\": \"SQLI\"}, {\"Sentence\": \" select * from users where id = 1 or 1#\\\"{ union select 'a',version (  )  -- 1\", \"Label\": 1, \"Class\": \"SQLI\"}, {\"Sentence\": \" select * from users where id = 1 or 1#\\\"{ union select null,version (  )  -- 1\", \"Label\": 1, \"Class\": \"SQLI\"}, {\"Sentence\": \" select * from users where id = 1 or \\\"{#\\\" or 1 = 1 -- 1\", \"Label\": 1, \"Class\": \"SQLI\"}, {\"Sentence\": \" select * from users where id = 1 or @#\\\"{ = 1 or 1 = 1 -- 1\", \"Label\": 1, \"Class\": \"SQLI\"}, {\"Sentence\": \" select * from users where id = 1 or @#\\\"{ = 1 union select 1,version (  )  -- 1\", \"Label\": 1, \"Class\": \"SQLI\"}, {\"Sentence\": \" select * from users where id = 1 or \\\"{%\\\" or 1 = 1 -- 1\", \"Label\": 1, \"Class\": \"SQLI\"}, {\"Sentence\": \" select * from users where id = 1 or \\\"{@\\\" or 1 = 1 -- 1\", \"Label\": 1, \"Class\": \"SQLI\"}, {\"Sentence\": \" select * from users where id = 1 or \\\"{{\\\" or 1 = 1 -- 1\", \"Label\": 1, \"Class\": \"SQLI\"}, {\"Sentence\": \" select * from users where id = 1 + @`\\\\` union select 1,version (  )  -- 1\", \"Label\": 1, \"Class\": \"SQLI\"}, {\"Sentence\": \" select * from users where id = 1 + @<1# union select 1,version (  )  -- 1\", \"Label\": 1, \"Class\": \"SQLI\"}, {\"Sentence\": \" select * from users where id = 1 + @<@. union select 1,version (  )  -- 1\", \"Label\": 1, \"Class\": \"SQLI\"}, {\"Sentence\": \" select * from users where id = 1 -@<@ union select 1,version (  )  -- 1\", \"Label\": 1, \"Class\": \"SQLI\"}, {\"Sentence\": \" select * from users where id = 1 -@<@ union select version (  ) ,version (  )  -- 1\", \"Label\": 1, \"Class\": \"SQLI\"}, {\"Sentence\": \" select * from users where id = 1 -@<@ union select null,version (  )  -- 1\", \"Label\": 1, \"Class\": \"SQLI\"}, {\"Sentence\": \" select * from users where id = 1 + @<@# union select null,version (  )  -- 1\", \"Label\": 1, \"Class\": \"SQLI\"}, {\"Sentence\": \"-'\", \"Label\": 1, \"Class\": \"SQLI\"}, {\"Sentence\": \" '\", \"Label\": 1, \"Class\": \"SQLI\"}, {\"Sentence\": \"&'\", \"Label\": 1, \"Class\": \"SQLI\"}, {\"Sentence\": \"^'\", \"Label\": 1, \"Class\": \"SQLI\"}, {\"Sentence\": \"*'\", \"Label\": 1, \"Class\": \"SQLI\"}, {\"Sentence\": \" or ''-'\", \"Label\": 1, \"Class\": \"SQLI\"}, {\"Sentence\": \" or '' '\", \"Label\": 1, \"Class\": \"SQLI\"}, {\"Sentence\": \" or ''&'\", \"Label\": 1, \"Class\": \"SQLI\"}, {\"Sentence\": \" or ''^'\", \"Label\": 1, \"Class\": \"SQLI\"}, {\"Sentence\": \" or ''*'\", \"Label\": 1, \"Class\": \"SQLI\"}, {\"Sentence\": \"\\\"-\\\"\", \"Label\": 1, \"Class\": \"SQLI\"}, {\"Sentence\": \"\\\" \\\"\", \"Label\": 1, \"Class\": \"SQLI\"}, {\"Sentence\": \"\\\"&\\\"\", \"Label\": 1, \"Class\": \"SQLI\"}, {\"Sentence\": \"\\\"^\\\"\", \"Label\": 1, \"Class\": \"SQLI\"}, {\"Sentence\": \"\\\"*\\\"\", \"Label\": 1, \"Class\": \"SQLI\"}, {\"Sentence\": \"\\\" or \\\"\\\"-\\\"\", \"Label\": 1, \"Class\": \"SQLI\"}, {\"Sentence\": \"\\\" or \\\"\\\" \\\"\", \"Label\": 1, \"Class\": \"SQLI\"}, {\"Sentence\": \"\\\" or \\\"\\\"&\\\"\", \"Label\": 1, \"Class\": \"SQLI\"}, {\"Sentence\": \"\\\" or \\\"\\\"^\\\"\", \"Label\": 1, \"Class\": \"SQLI\"}, {\"Sentence\": \"\\\" or \\\"\\\"*\\\"\", \"Label\": 1, \"Class\": \"SQLI\"}, {\"Sentence\": \"or true--\", \"Label\": 1, \"Class\": \"SQLI\"}, {\"Sentence\": \"\\\" or true--\", \"Label\": 1, \"Class\": \"SQLI\"}, {\"Sentence\": \" or true--\", \"Label\": 1, \"Class\": \"SQLI\"}, {\"Sentence\": \"\\\" )  or true--\", \"Label\": 1, \"Class\": \"SQLI\"}, {\"Sentence\": \" )  or true--\", \"Label\": 1, \"Class\": \"SQLI\"}, {\"Sentence\": \" or 'x' = 'x\", \"Label\": 1, \"Class\": \"SQLI\"}, {\"Sentence\": \" )  or  ( 'x' )  =  ( 'x\", \"Label\": 1, \"Class\": \"SQLI\"}, {\"Sentence\": \"  )  )   or   (  (  'x'  )  )   =   (  (  'x\", \"Label\": 1, \"Class\": \"SQLI\"}, {\"Sentence\": \"\\\" or \\\"x\\\" = \\\"x\", \"Label\": 1, \"Class\": \"SQLI\"}, {\"Sentence\": \"\\\" )  or  ( \\\"x\\\" )  =  ( \\\"x\", \"Label\": 1, \"Class\": \"SQLI\"}, {\"Sentence\": \"\\\"  )  )   or   (  (  \\\"x\\\"  )  )   =   (  (  \\\"x\", \"Label\": 1, \"Class\": \"SQLI\"}, {\"Sentence\": \"or 1 = 1\", \"Label\": 1, \"Class\": \"SQLI\"}, {\"Sentence\": \"or 1 = 1--\", \"Label\": 1, \"Class\": \"SQLI\"}, {\"Sentence\": \"or 1 = 1#\", \"Label\": 1, \"Class\": \"SQLI\"}, {\"Sentence\": \"or 1 = 1/*\", \"Label\": 1, \"Class\": \"SQLI\"}, {\"Sentence\": \"admin' --\", \"Label\": 1, \"Class\": \"SQLI\"}, {\"Sentence\": \"admin' #\", \"Label\": 1, \"Class\": \"SQLI\"}, {\"Sentence\": \"admin'/*\", \"Label\": 1, \"Class\": \"SQLI\"}, {\"Sentence\": \"admin' or '1' = '1\", \"Label\": 1, \"Class\": \"SQLI\"}, {\"Sentence\": \"admin' or '1' = '1'--\", \"Label\": 1, \"Class\": \"SQLI\"}, {\"Sentence\": \"admin' or '1' = '1'#\", \"Label\": 1, \"Class\": \"SQLI\"}, {\"Sentence\": \"admin' or '1' = '1'/*\", \"Label\": 1, \"Class\": \"SQLI\"}, {\"Sentence\": \"admin'or 1 = 1 or '' = '\", \"Label\": 1, \"Class\": \"SQLI\"}, {\"Sentence\": \"admin' or 1 = 1\", \"Label\": 1, \"Class\": \"SQLI\"}, {\"Sentence\": \"admin' or 1 = 1--\", \"Label\": 1, \"Class\": \"SQLI\"}, {\"Sentence\": \"admin' or 1 = 1#\", \"Label\": 1, \"Class\": \"SQLI\"}, {\"Sentence\": \"admin' or 1 = 1/*\", \"Label\": 1, \"Class\": \"SQLI\"}, {\"Sentence\": \"admin' )  or  ( '1' = '1\", \"Label\": 1, \"Class\": \"SQLI\"}, {\"Sentence\": \"admin' )  or  ( '1' = '1'--\", \"Label\": 1, \"Class\": \"SQLI\"}, {\"Sentence\": \"admin' )  or  ( '1' = '1'#\", \"Label\": 1, \"Class\": \"SQLI\"}, {\"Sentence\": \"admin' )  or  ( '1' = '1'/*\", \"Label\": 1, \"Class\": \"SQLI\"}, {\"Sentence\": \"admin' )  or '1' = '1\", \"Label\": 1, \"Class\": \"SQLI\"}, {\"Sentence\": \"admin' )  or '1' = '1'--\", \"Label\": 1, \"Class\": \"SQLI\"}, {\"Sentence\": \"admin' )  or '1' = '1'#\", \"Label\": 1, \"Class\": \"SQLI\"}, {\"Sentence\": \"admin' )  or '1' = '1'/*\", \"Label\": 1, \"Class\": \"SQLI\"}, {\"Sentence\": \"1234 ' AND 1 = 0 UNION ALL SELECT 'admin', '81dc9bdb52d04dc20036dbd8313ed055\", \"Label\": 1, \"Class\": \"SQLI\"}, {\"Sentence\": \"admin\\\" --\", \"Label\": 1, \"Class\": \"SQLI\"}, {\"Sentence\": \"admin\\\" #\", \"Label\": 1, \"Class\": \"SQLI\"}, {\"Sentence\": \"admin\\\"/*\", \"Label\": 1, \"Class\": \"SQLI\"}, {\"Sentence\": \"admin\\\" or \\\"1\\\" = \\\"1\", \"Label\": 1, \"Class\": \"SQLI\"}, {\"Sentence\": \"admin\\\" or \\\"1\\\" = \\\"1\\\"--\", \"Label\": 1, \"Class\": \"SQLI\"}, {\"Sentence\": \"admin\\\" or \\\"1\\\" = \\\"1\\\"#\", \"Label\": 1, \"Class\": \"SQLI\"}, {\"Sentence\": \"admin\\\" or \\\"1\\\" = \\\"1\\\"/*\", \"Label\": 1, \"Class\": \"SQLI\"}, {\"Sentence\": \"admin\\\"or 1 = 1 or \\\"\\\" = \\\"\", \"Label\": 1, \"Class\": \"SQLI\"}, {\"Sentence\": \"admin\\\" or 1 = 1\", \"Label\": 1, \"Class\": \"SQLI\"}, {\"Sentence\": \"admin\\\" or 1 = 1--\", \"Label\": 1, \"Class\": \"SQLI\"}, {\"Sentence\": \"admin\\\" or 1 = 1#\", \"Label\": 1, \"Class\": \"SQLI\"}, {\"Sentence\": \"admin\\\" or 1 = 1/*\", \"Label\": 1, \"Class\": \"SQLI\"}, {\"Sentence\": \"admin\\\" )  or  ( \\\"1\\\" = \\\"1\", \"Label\": 1, \"Class\": \"SQLI\"}, {\"Sentence\": \"admin\\\" )  or  ( \\\"1\\\" = \\\"1\\\"--\", \"Label\": 1, \"Class\": \"SQLI\"}, {\"Sentence\": \"admin\\\" )  or  ( \\\"1\\\" = \\\"1\\\"#\", \"Label\": 1, \"Class\": \"SQLI\"}, {\"Sentence\": \"admin\\\" )  or  ( \\\"1\\\" = \\\"1\\\"/*\", \"Label\": 1, \"Class\": \"SQLI\"}, {\"Sentence\": \"admin\\\" )  or \\\"1\\\" = \\\"1\", \"Label\": 1, \"Class\": \"SQLI\"}, {\"Sentence\": \"admin\\\" )  or \\\"1\\\" = \\\"1\\\"--\", \"Label\": 1, \"Class\": \"SQLI\"}, {\"Sentence\": \"admin\\\" )  or \\\"1\\\" = \\\"1\\\"#\", \"Label\": 1, \"Class\": \"SQLI\"}, {\"Sentence\": \"admin\\\" )  or \\\"1\\\" = \\\"1\\\"/*\", \"Label\": 1, \"Class\": \"SQLI\"}, {\"Sentence\": \"1234 \\\" AND 1 = 0 UNION ALL SELECT \\\"admin\\\", \\\"81dc9bdb52d04dc20036dbd8313ed055\", \"Label\": 1, \"Class\": \"SQLI\"}, {\"Sentence\": \"sqlvuln\", \"Label\": 1, \"Class\": \"SQLI\"}, {\"Sentence\": \"#NAME?\", \"Label\": 1, \"Class\": \"SQLI\"}, {\"Sentence\": \"sqlvuln;\", \"Label\": 1, \"Class\": \"SQLI\"}, {\"Sentence\": \"( sqlvuln )\", \"Label\": 1, \"Class\": \"SQLI\"}, {\"Sentence\": \"a' or 1 = 1--\", \"Label\": 1, \"Class\": \"SQLI\"}, {\"Sentence\": \"\\\"a\\\"\\\" or 1 = 1--\\\"\", \"Label\": 1, \"Class\": \"SQLI\"}, {\"Sentence\": \"or a  =  a\", \"Label\": 1, \"Class\": \"SQLI\"}, {\"Sentence\": \"a' or 'a'  =  'a\", \"Label\": 1, \"Class\": \"SQLI\"}, {\"Sentence\": \"1 or 1 = 1\", \"Label\": 1, \"Class\": \"SQLI\"}, {\"Sentence\": \"a' waitfor delay '0:0:10'--\", \"Label\": 1, \"Class\": \"SQLI\"}, {\"Sentence\": \"1 waitfor delay '0:0:10'--\", \"Label\": 1, \"Class\": \"SQLI\"}, {\"Sentence\": \"declare @q nvarchar  ( 4000 )  select @q  =\", \"Label\": 1, \"Class\": \"SQLI\"}, {\"Sentence\": \"0x770061006900740066006F0072002000640065006C00610079002000270030003A0030003A\", \"Label\": 1, \"Class\": \"SQLI\"}, {\"Sentence\": \"0\", \"Label\": 1, \"Class\": \"SQLI\"}, {\"Sentence\": \"3.10E+13\", \"Label\": 1, \"Class\": \"SQLI\"}, {\"Sentence\": \"declare @s varchar ( 22 )  select @s  =\", \"Label\": 1, \"Class\": \"SQLI\"}, {\"Sentence\": \"0x77616974666F722064656C61792027303A303A31302700 exec ( @s )\", \"Label\": 1, \"Class\": \"SQLI\"}, {\"Sentence\": \"0x730065006c00650063007400200040004000760065007200730069006f006e00 exec ( @q )\", \"Label\": 1, \"Class\": \"SQLI\"}, {\"Sentence\": \"declare @s varchar  ( 8000 )  select @s  =  0x73656c65637420404076657273696f6e\", \"Label\": 1, \"Class\": \"SQLI\"}, {\"Sentence\": \"exec ( @s )\", \"Label\": 1, \"Class\": \"SQLI\"}, {\"Sentence\": \"a'\", \"Label\": 1, \"Class\": \"SQLI\"}, {\"Sentence\": \"?\", \"Label\": 1, \"Class\": \"SQLI\"}, {\"Sentence\": \" or 1 = 1\", \"Label\": 1, \"Class\": \"SQLI\"}, {\"Sentence\": \"\\u2018 or 1 = 1 --\", \"Label\": 1, \"Class\": \"SQLI\"}, {\"Sentence\": \"x' AND userid IS NULL; --\", \"Label\": 1, \"Class\": \"SQLI\"}, {\"Sentence\": \"x' AND email IS NULL; --\", \"Label\": 1, \"Class\": \"SQLI\"}, {\"Sentence\": \"anything' OR 'x' = 'x\", \"Label\": 1, \"Class\": \"SQLI\"}, {\"Sentence\": \"x' AND 1 =  ( SELECT COUNT ( * )  FROM tabname ) ; --\", \"Label\": 1, \"Class\": \"SQLI\"}, {\"Sentence\": \"x' AND members.email IS NULL; --\", \"Label\": 1, \"Class\": \"SQLI\"}, {\"Sentence\": \"x' OR full_name LIKE '%Bob%\", \"Label\": 1, \"Class\": \"SQLI\"}, {\"Sentence\": \"23 OR 1 = 1\", \"Label\": 1, \"Class\": \"SQLI\"}, {\"Sentence\": \"; exec master..xp_cmdshell 'ping 172.10.1.255'--\", \"Label\": 1, \"Class\": \"SQLI\"}, {\"Sentence\": null, \"Label\": 1, \"Class\": \"SQLI\"}, {\"Sentence\": \" or '' = '\", \"Label\": 1, \"Class\": \"SQLI\"}, {\"Sentence\": \" or 'x' = 'x\", \"Label\": 1, \"Class\": \"SQLI\"}, {\"Sentence\": \"or x = x\", \"Label\": 1, \"Class\": \"SQLI\"}, {\"Sentence\": \" )  or  ( 'x' = 'x\", \"Label\": 1, \"Class\": \"SQLI\"}, {\"Sentence\": \"0 or 1 = 1\", \"Label\": 1, \"Class\": \"SQLI\"}, {\"Sentence\": \" or 0 = 0 --\", \"Label\": 1, \"Class\": \"SQLI\"}, {\"Sentence\": \"\\\" or 0 = 0 --\", \"Label\": 1, \"Class\": \"SQLI\"}, {\"Sentence\": \"or 0 = 0 --\", \"Label\": 1, \"Class\": \"SQLI\"}, {\"Sentence\": \" or 0 = 0 #\", \"Label\": 1, \"Class\": \"SQLI\"}, {\"Sentence\": \" or 0 = 0 #\\\"\", \"Label\": 1, \"Class\": \"SQLI\"}, {\"Sentence\": \"or 0 = 0 #\", \"Label\": 1, \"Class\": \"SQLI\"}, {\"Sentence\": \" or 1 = 1--\", \"Label\": 1, \"Class\": \"SQLI\"}, {\"Sentence\": \"\\\" or 1 = 1--\", \"Label\": 1, \"Class\": \"SQLI\"}, {\"Sentence\": \" or '1' = '1'--\", \"Label\": 1, \"Class\": \"SQLI\"}, {\"Sentence\": \" or 1 --'\", \"Label\": 1, \"Class\": \"SQLI\"}, {\"Sentence\": \"or 1 = 1--\", \"Label\": 1, \"Class\": \"SQLI\"}, {\"Sentence\": \"or 1 = 1\", \"Label\": 1, \"Class\": \"SQLI\"}, {\"Sentence\": \"or 1 = 1 --\", \"Label\": 1, \"Class\": \"SQLI\"}, {\"Sentence\": \" or 1 = 1 or '' = '\", \"Label\": 1, \"Class\": \"SQLI\"}, {\"Sentence\": \" or 1 = 1 or \\\"\\\" = \", \"Label\": 1, \"Class\": \"SQLI\"}, {\"Sentence\": \" or a = a--\", \"Label\": 1, \"Class\": \"SQLI\"}, {\"Sentence\": \"or a = a\", \"Label\": 1, \"Class\": \"SQLI\"}, {\"Sentence\": \" )  or  ( 'a' = 'a\", \"Label\": 1, \"Class\": \"SQLI\"}, {\"Sentence\": \")  or  ( a = a\", \"Label\": 1, \"Class\": \"SQLI\"}, {\"Sentence\": \"hi or a = a\", \"Label\": 1, \"Class\": \"SQLI\"}, {\"Sentence\": \"hi or 1 = 1 --\\\"\", \"Label\": 1, \"Class\": \"SQLI\"}, {\"Sentence\": \"hi' or 1 = 1 --\", \"Label\": 1, \"Class\": \"SQLI\"}, {\"Sentence\": \"hi' or 'a' = 'a\", \"Label\": 1, \"Class\": \"SQLI\"}, {\"Sentence\": \"hi' )  or  ( 'a' = 'a\", \"Label\": 1, \"Class\": \"SQLI\"}, {\"Sentence\": \"\\\"hi\\\"\\\" )  or  ( \\\"\\\"a\\\"\\\" = \\\"\\\"a\\\"\", \"Label\": 1, \"Class\": \"SQLI\"}, {\"Sentence\": \"hi' or 'x' = 'x';\", \"Label\": 1, \"Class\": \"SQLI\"}, {\"Sentence\": \"@variable\", \"Label\": 1, \"Class\": \"SQLI\"}, {\"Sentence\": \",@variable\", \"Label\": 1, \"Class\": \"SQLI\"}, {\"Sentence\": \"PRINT\", \"Label\": 1, \"Class\": \"SQLI\"}, {\"Sentence\": \"PRINT @@variable\", \"Label\": 1, \"Class\": \"SQLI\"}, {\"Sentence\": \"select\", \"Label\": 1, \"Class\": \"SQLI\"}, {\"Sentence\": \"insert\", \"Label\": 1, \"Class\": \"SQLI\"}, {\"Sentence\": \"as\", \"Label\": 1, \"Class\": \"SQLI\"}, {\"Sentence\": \"or\", \"Label\": 1, \"Class\": \"SQLI\"}, {\"Sentence\": \"procedure\", \"Label\": 1, \"Class\": \"SQLI\"}, {\"Sentence\": \"limit\", \"Label\": 1, \"Class\": \"SQLI\"}, {\"Sentence\": \"order by\", \"Label\": 1, \"Class\": \"SQLI\"}, {\"Sentence\": \"asc\", \"Label\": 1, \"Class\": \"SQLI\"}, {\"Sentence\": \"desc\", \"Label\": 1, \"Class\": \"SQLI\"}, {\"Sentence\": \"delete\", \"Label\": 1, \"Class\": \"SQLI\"}, {\"Sentence\": \"update\", \"Label\": 1, \"Class\": \"SQLI\"}, {\"Sentence\": \"distinct\", \"Label\": 1, \"Class\": \"SQLI\"}, {\"Sentence\": \"having\", \"Label\": 1, \"Class\": \"SQLI\"}, {\"Sentence\": \"truncate\", \"Label\": 1, \"Class\": \"SQLI\"}, {\"Sentence\": \"replace\", \"Label\": 1, \"Class\": \"SQLI\"}, {\"Sentence\": \"like\", \"Label\": 1, \"Class\": \"SQLI\"}, {\"Sentence\": \"handler\", \"Label\": 1, \"Class\": \"SQLI\"}, {\"Sentence\": \"bfilename\", \"Label\": 1, \"Class\": \"SQLI\"}, {\"Sentence\": \" or username like '%\", \"Label\": 1, \"Class\": \"SQLI\"}, {\"Sentence\": \" or uname like '%\", \"Label\": 1, \"Class\": \"SQLI\"}, {\"Sentence\": \" or userid like '%\", \"Label\": 1, \"Class\": \"SQLI\"}, {\"Sentence\": \" or uid like '%\", \"Label\": 1, \"Class\": \"SQLI\"}, {\"Sentence\": \" or user like '%\", \"Label\": 1, \"Class\": \"SQLI\"}, {\"Sentence\": \"exec xp\", \"Label\": 1, \"Class\": \"SQLI\"}, {\"Sentence\": \"exec sp\", \"Label\": 1, \"Class\": \"SQLI\"}, {\"Sentence\": \"; exec master..xp_cmdshell\", \"Label\": 1, \"Class\": \"SQLI\"}, {\"Sentence\": \"; exec xp_regread\", \"Label\": 1, \"Class\": \"SQLI\"}, {\"Sentence\": \"t'exec master..xp_cmdshell 'nslookup www.google.com'--\", \"Label\": 1, \"Class\": \"SQLI\"}, {\"Sentence\": \"#NAME?\", \"Label\": 1, \"Class\": \"SQLI\"}, {\"Sentence\": \"\\\\x27UNION SELECT\", \"Label\": 1, \"Class\": \"SQLI\"}, {\"Sentence\": \" UNION SELECT\", \"Label\": 1, \"Class\": \"SQLI\"}, {\"Sentence\": \" UNION ALL SELECT\", \"Label\": 1, \"Class\": \"SQLI\"}, {\"Sentence\": \" or  ( EXISTS )\", \"Label\": 1, \"Class\": \"SQLI\"}, {\"Sentence\": \"  ( select top 1\", \"Label\": 1, \"Class\": \"SQLI\"}, {\"Sentence\": \"||UTL_HTTP.REQUEST\", \"Label\": 1, \"Class\": \"SQLI\"}, {\"Sentence\": \"1;SELECT *\", \"Label\": 1, \"Class\": \"SQLI\"}, {\"Sentence\": \"to_timestamp_tz\", \"Label\": 1, \"Class\": \"SQLI\"}, {\"Sentence\": \"tz_offset\", \"Label\": 1, \"Class\": \"SQLI\"}, {\"Sentence\": \"<>\\\"'%; )  ( &+\", \"Label\": 1, \"Class\": \"SQLI\"}, {\"Sentence\": \" or 1 = 1\", \"Label\": 1, \"Class\": \"SQLI\"}, {\"Sentence\": \"%27 or 1 = 1\", \"Label\": 1, \"Class\": \"SQLI\"}, {\"Sentence\": \"$ ( sleep 50 )\", \"Label\": 1, \"Class\": \"SQLI\"}, {\"Sentence\": \"sleep 50'\", \"Label\": 1, \"Class\": \"SQLI\"}, {\"Sentence\": \"char%4039%41%2b%40SELECT\", \"Label\": 1, \"Class\": \"SQLI\"}, {\"Sentence\": \"&apos; OR\", \"Label\": 1, \"Class\": \"SQLI\"}, {\"Sentence\": \"sqlattempt1\", \"Label\": 1, \"Class\": \"SQLI\"}, {\"Sentence\": \"( sqlattempt2 )\", \"Label\": 1, \"Class\": \"SQLI\"}, {\"Sentence\": \"|\", \"Label\": 1, \"Class\": \"SQLI\"}, {\"Sentence\": \"%7C\", \"Label\": 1, \"Class\": \"SQLI\"}, {\"Sentence\": \"*|\", \"Label\": 1, \"Class\": \"SQLI\"}, {\"Sentence\": \"%2A%7C\", \"Label\": 1, \"Class\": \"SQLI\"}, {\"Sentence\": \"* ( | ( mail = *  )  )\", \"Label\": 1, \"Class\": \"SQLI\"}, {\"Sentence\": \"%2A%28%7C%28mail%3D%2A%29%29\", \"Label\": 1, \"Class\": \"SQLI\"}, {\"Sentence\": \"* ( | ( objectclass = *  )  )\", \"Label\": 1, \"Class\": \"SQLI\"}, {\"Sentence\": \"%2A%28%7C%28objectclass%3D%2A%29%29\", \"Label\": 1, \"Class\": \"SQLI\"}, {\"Sentence\": \"(\", \"Label\": 1, \"Class\": \"SQLI\"}, {\"Sentence\": \"28%\", \"Label\": 1, \"Class\": \"SQLI\"}, {\"Sentence\": \")\", \"Label\": 1, \"Class\": \"SQLI\"}, {\"Sentence\": \"29%\", \"Label\": 1, \"Class\": \"SQLI\"}, {\"Sentence\": \"&\", \"Label\": 1, \"Class\": \"SQLI\"}, {\"Sentence\": \"26%\", \"Label\": 1, \"Class\": \"SQLI\"}, {\"Sentence\": \"!\", \"Label\": 1, \"Class\": \"SQLI\"}, {\"Sentence\": \"21%\", \"Label\": 1, \"Class\": \"SQLI\"}, {\"Sentence\": \" or 1 = 1 or '' = '\", \"Label\": 1, \"Class\": \"SQLI\"}, {\"Sentence\": \" or '' = '\", \"Label\": 1, \"Class\": \"SQLI\"}, {\"Sentence\": \"x' or 1 = 1 or 'x' = 'y\", \"Label\": 1, \"Class\": \"SQLI\"}, {\"Sentence\": \"/\", \"Label\": 1, \"Class\": \"SQLI\"}, {\"Sentence\": \"//\", \"Label\": 1, \"Class\": \"SQLI\"}, {\"Sentence\": \"//*\", \"Label\": 1, \"Class\": \"SQLI\"}, {\"Sentence\": \"*/*\", \"Label\": 1, \"Class\": \"SQLI\"}, {\"Sentence\": \"a' or 3 = 3--\", \"Label\": 1, \"Class\": \"SQLI\"}, {\"Sentence\": \"\\\"a\\\"\\\" or 3 = 3--\\\"\", \"Label\": 1, \"Class\": \"SQLI\"}, {\"Sentence\": \" or 3 = 3\", \"Label\": 1, \"Class\": \"SQLI\"}, {\"Sentence\": \"\\u2018 or 3 = 3 --\", \"Label\": 1, \"Class\": \"SQLI\"}, {\"Sentence\": \")  or  ( 'x' = 'x\", \"Label\": 1, \"Class\": \"SQLI\"}, {\"Sentence\": \"or 1 = 1\", \"Label\": 1, \"Class\": \"SQLI\"}, {\"Sentence\": \"; execute immediate 'sel' || 'ect us' || 'er'\", \"Label\": 1, \"Class\": \"SQLI\"}, {\"Sentence\": \"benchmark ( 10000000,MD5 ( 1  )  )  #\", \"Label\": 1, \"Class\": \"SQLI\"}, {\"Sentence\": \"update\", \"Label\": 1, \"Class\": \"SQLI\"}, {\"Sentence\": \"\\\";waitfor delay '0:0:__TIME__'--\", \"Label\": 1, \"Class\": \"SQLI\"}, {\"Sentence\": \"1 )  or pg_sleep ( __TIME__ ) --\", \"Label\": 1, \"Class\": \"SQLI\"}, {\"Sentence\": \"|| ( elt ( -3+5,bin ( 15 ) ,ord ( 10 ) ,hex ( char ( 45  )  )    )  )  \", \"Label\": 1, \"Class\": \"SQLI\"}, {\"Sentence\": \"\\\"hi\\\"\\\" )  or  ( \\\"\\\"a\\\"\\\" = \\\"\\\"a\\\"\", \"Label\": 1, \"Class\": \"SQLI\"}, {\"Sentence\": \"delete\", \"Label\": 1, \"Class\": \"SQLI\"}, {\"Sentence\": \"like\", \"Label\": 1, \"Class\": \"SQLI\"}, {\"Sentence\": \"\\\" or sleep ( __TIME__ ) #\", \"Label\": 1, \"Class\": \"SQLI\"}, {\"Sentence\": \"pg_sleep ( __TIME__ ) --\", \"Label\": 1, \"Class\": \"SQLI\"}, {\"Sentence\": \"* ( | ( objectclass = *  )  )\", \"Label\": 1, \"Class\": \"SQLI\"}, {\"Sentence\": \"declare @q nvarchar  ( 200 )  0x730065006c00650063 ...\", \"Label\": 1, \"Class\": \"SQLI\"}, {\"Sentence\": \"or 0 = 0 #\", \"Label\": 1, \"Class\": \"SQLI\"}, {\"Sentence\": \"insert\", \"Label\": 1, \"Class\": \"SQLI\"}, {\"Sentence\": \"1 )  or sleep ( __TIME__ ) #\", \"Label\": 1, \"Class\": \"SQLI\"}, {\"Sentence\": \")  or  ( 'a' = 'a\", \"Label\": 1, \"Class\": \"SQLI\"}, {\"Sentence\": \"; exec xp_regread\", \"Label\": 1, \"Class\": \"SQLI\"}, {\"Sentence\": \"*|\", \"Label\": 1, \"Class\": \"SQLI\"}, {\"Sentence\": \"@var select @var as var into temp end --\", \"Label\": 1, \"Class\": \"SQLI\"}, {\"Sentence\": \"1  )  )   or benchmark ( 10000000,MD5 ( 1  )  )  #\", \"Label\": 1, \"Class\": \"SQLI\"}, {\"Sentence\": \"asc\", \"Label\": 1, \"Class\": \"SQLI\"}, {\"Sentence\": \"( ||6 )\", \"Label\": 1, \"Class\": \"SQLI\"}, {\"Sentence\": \"\\\"a\\\"\\\" or 3 = 3--\\\"\", \"Label\": 1, \"Class\": \"SQLI\"}, {\"Sentence\": \"\\\" or benchmark ( 10000000,MD5 ( 1  )  )  #\", \"Label\": 1, \"Class\": \"SQLI\"}, {\"Sentence\": \"# from wapiti\", \"Label\": 1, \"Class\": \"SQLI\"}, {\"Sentence\": \"or 0 = 0 --\", \"Label\": 1, \"Class\": \"SQLI\"}, {\"Sentence\": \"1 waitfor delay '0:0:10'--\", \"Label\": 1, \"Class\": \"SQLI\"}, {\"Sentence\": \"or 'a' = 'a\", \"Label\": 1, \"Class\": \"SQLI\"}, {\"Sentence\": \"hi or 1 = 1 --\\\"\", \"Label\": 1, \"Class\": \"SQLI\"}, {\"Sentence\": \"or a  =  a\", \"Label\": 1, \"Class\": \"SQLI\"}, {\"Sentence\": \"UNION ALL SELECT\", \"Label\": 1, \"Class\": \"SQLI\"}, {\"Sentence\": \")  or sleep ( __TIME__ )  = '\", \"Label\": 1, \"Class\": \"SQLI\"}, {\"Sentence\": \"  )  )   or benchmark ( 10000000,MD5 ( 1  )  )  #\", \"Label\": 1, \"Class\": \"SQLI\"}, {\"Sentence\": \"hi' or 'a' = 'a\", \"Label\": 1, \"Class\": \"SQLI\"}, {\"Sentence\": \"0\", \"Label\": 1, \"Class\": \"SQLI\"}, {\"Sentence\": \"21%\", \"Label\": 1, \"Class\": \"SQLI\"}, {\"Sentence\": \"limit\", \"Label\": 1, \"Class\": \"SQLI\"}, {\"Sentence\": \"or 1 = 1\", \"Label\": 1, \"Class\": \"SQLI\"}, {\"Sentence\": \"or 2 > 1\", \"Label\": 1, \"Class\": \"SQLI\"}, {\"Sentence\": \"\\\"  )  )   or benchmark ( 10000000,MD5 ( 1  )  )  #\", \"Label\": 1, \"Class\": \"SQLI\"}, {\"Sentence\": \"PRINT\", \"Label\": 1, \"Class\": \"SQLI\"}, {\"Sentence\": \"hi' )  or  ( 'a' = 'a\", \"Label\": 1, \"Class\": \"SQLI\"}, {\"Sentence\": \"or 3 = 3\", \"Label\": 1, \"Class\": \"SQLI\"}, {\"Sentence\": \")  )  ;waitfor delay '0:0:__TIME__'--\", \"Label\": 1, \"Class\": \"SQLI\"}, {\"Sentence\": \"a' waitfor delay '0:0:10'--\", \"Label\": 1, \"Class\": \"SQLI\"}, {\"Sentence\": \"1; ( load_file ( char ( 47,101,116,99,47,112,97,115, ...\", \"Label\": 1, \"Class\": \"SQLI\"}, {\"Sentence\": \"or 1 = 1\", \"Label\": 1, \"Class\": \"SQLI\"}, {\"Sentence\": \"1 or sleep ( __TIME__ ) #\", \"Label\": 1, \"Class\": \"SQLI\"}, {\"Sentence\": \"or 1 = 1\", \"Label\": 1, \"Class\": \"SQLI\"}, {\"Sentence\": \"and 1 in  ( select var from temp ) --\", \"Label\": 1, \"Class\": \"SQLI\"}, {\"Sentence\": \"or '7659' = '7659\", \"Label\": 1, \"Class\": \"SQLI\"}, {\"Sentence\": \"or 'text'  =  n'text'\", \"Label\": 1, \"Class\": \"SQLI\"}, {\"Sentence\": \"--\", \"Label\": 1, \"Class\": \"SQLI\"}, {\"Sentence\": \"or 1 = 1 or '' = '\", \"Label\": 1, \"Class\": \"SQLI\"}, {\"Sentence\": \"declare @s varchar  ( 200 )  select @s  =  0x73656c6 ...\", \"Label\": 1, \"Class\": \"SQLI\"}, {\"Sentence\": \"exec xp\", \"Label\": 1, \"Class\": \"SQLI\"}, {\"Sentence\": \"; exec master..xp_cmdshell 'ping 172.10.1.255'--\", \"Label\": 1, \"Class\": \"SQLI\"}, {\"Sentence\": \"3.10E+17\", \"Label\": 1, \"Class\": \"SQLI\"}, {\"Sentence\": \"\\\" or pg_sleep ( __TIME__ ) --\", \"Label\": 1, \"Class\": \"SQLI\"}, {\"Sentence\": \"x' AND email IS NULL; --\", \"Label\": 1, \"Class\": \"SQLI\"}, {\"Sentence\": \"&\", \"Label\": 1, \"Class\": \"SQLI\"}, {\"Sentence\": \"admin' or '\", \"Label\": 1, \"Class\": \"SQLI\"}, {\"Sentence\": \"or 'unusual'  =  'unusual'\", \"Label\": 1, \"Class\": \"SQLI\"}, {\"Sentence\": \"//\", \"Label\": 1, \"Class\": \"SQLI\"}, {\"Sentence\": \"truncate\", \"Label\": 1, \"Class\": \"SQLI\"}, {\"Sentence\": \"1 )  or benchmark ( 10000000,MD5 ( 1  )  )  #\", \"Label\": 1, \"Class\": \"SQLI\"}, {\"Sentence\": \"\\\\x27UNION SELECT\", \"Label\": 1, \"Class\": \"SQLI\"}, {\"Sentence\": \"declare @s varchar ( 200 )  select @s  =  0x77616974 ...\", \"Label\": 1, \"Class\": \"SQLI\"}, {\"Sentence\": \"tz_offset\", \"Label\": 1, \"Class\": \"SQLI\"}, {\"Sentence\": \"sqlvuln\", \"Label\": 1, \"Class\": \"SQLI\"}, {\"Sentence\": \"\\\"  )  )  ;waitfor delay '0:0:__TIME__'--\", \"Label\": 1, \"Class\": \"SQLI\"}, {\"Sentence\": \"||6\", \"Label\": 1, \"Class\": \"SQLI\"}, {\"Sentence\": \"or 1 = 1 --\", \"Label\": 1, \"Class\": \"SQLI\"}, {\"Sentence\": \"%2A%28%7C%28objectclass%3D%2A%29%29\", \"Label\": 1, \"Class\": \"SQLI\"}, {\"Sentence\": \"or a = a\", \"Label\": 1, \"Class\": \"SQLI\"}, {\"Sentence\": \")  union select * from information_schema.tables;\", \"Label\": 1, \"Class\": \"SQLI\"}, {\"Sentence\": \"PRINT @@variable\", \"Label\": 1, \"Class\": \"SQLI\"}, {\"Sentence\": \"or isNULL ( 1/0 )  /*\", \"Label\": 1, \"Class\": \"SQLI\"}, {\"Sentence\": \"26%\", \"Label\": 1, \"Class\": \"SQLI\"}, {\"Sentence\": \"\\\" or \\\"a\\\" = \\\"a\", \"Label\": 1, \"Class\": \"SQLI\"}, {\"Sentence\": \"( sqlvuln )\", \"Label\": 1, \"Class\": \"SQLI\"}, {\"Sentence\": \"x' AND members.email IS NULL; --\", \"Label\": 1, \"Class\": \"SQLI\"}, {\"Sentence\": \"or 1 = 1--\", \"Label\": 1, \"Class\": \"SQLI\"}, {\"Sentence\": \" and 1 =  (  if  (  (  load_file ( char ( 110,46,101,120,11 ...\", \"Label\": 1, \"Class\": \"SQLI\"}, {\"Sentence\": \"0x770061006900740066006F0072002000640065006C00 ...\", \"Label\": 1, \"Class\": \"SQLI\"}, {\"Sentence\": \"sleep 50'\", \"Label\": 1, \"Class\": \"SQLI\"}, {\"Sentence\": \"as\", \"Label\": 1, \"Class\": \"SQLI\"}, {\"Sentence\": \"1  )  )   or pg_sleep ( __TIME__ ) --\", \"Label\": 1, \"Class\": \"SQLI\"}, {\"Sentence\": \"/**/or/**/1/**/ = /**/1\", \"Label\": 1, \"Class\": \"SQLI\"}, {\"Sentence\": \"union all select @@version--\", \"Label\": 1, \"Class\": \"SQLI\"}, {\"Sentence\": \",@variable\", \"Label\": 1, \"Class\": \"SQLI\"}, {\"Sentence\": \"( sqlattempt2 )\", \"Label\": 1, \"Class\": \"SQLI\"}, {\"Sentence\": \"or  ( EXISTS )\", \"Label\": 1, \"Class\": \"SQLI\"}, {\"Sentence\": \"t'exec master..xp_cmdshell 'nslookup www.googl ...\", \"Label\": 1, \"Class\": \"SQLI\"}, {\"Sentence\": \"$ ( sleep 50 )\", \"Label\": 1, \"Class\": \"SQLI\"}, {\"Sentence\": \"1 or benchmark ( 10000000,MD5 ( 1  )  )  #\", \"Label\": 1, \"Class\": \"SQLI\"}, {\"Sentence\": \"or '' = '\", \"Label\": 1, \"Class\": \"SQLI\"}, {\"Sentence\": \"||UTL_HTTP.REQUEST\", \"Label\": 1, \"Class\": \"SQLI\"}, {\"Sentence\": \"or pg_sleep ( __TIME__ ) --\", \"Label\": 1, \"Class\": \"SQLI\"}, {\"Sentence\": \"hi' or 'x' = 'x';\", \"Label\": 1, \"Class\": \"SQLI\"}, {\"Sentence\": \"\\\" )  or sleep ( __TIME__ )  = \\\"\", \"Label\": 1, \"Class\": \"SQLI\"}, {\"Sentence\": \"or 'whatever' in  ( 'whatever' )\", \"Label\": 1, \"Class\": \"SQLI\"}, {\"Sentence\": \"; begin declare @var varchar ( 8000 )  set @var = ' ...\", \"Label\": 1, \"Class\": \"SQLI\"}, {\"Sentence\": \" union select 1,load_file ( '/etc/passwd' ) ,1,1,1;\", \"Label\": 1, \"Class\": \"SQLI\"}, {\"Sentence\": \"0x77616974666F722064656C61792027303A303A313027 ...\", \"Label\": 1, \"Class\": \"SQLI\"}, {\"Sentence\": \"exec ( @s )\", \"Label\": 1, \"Class\": \"SQLI\"}, {\"Sentence\": \")  or pg_sleep ( __TIME__ ) --\", \"Label\": 1, \"Class\": \"SQLI\"}, {\"Sentence\": \"union select\", \"Label\": 1, \"Class\": \"SQLI\"}, {\"Sentence\": \"or sleep ( __TIME__ ) #\", \"Label\": 1, \"Class\": \"SQLI\"}, {\"Sentence\": \"select * from information_schema.tables--\", \"Label\": 1, \"Class\": \"SQLI\"}, {\"Sentence\": \"a' or 1 = 1--\", \"Label\": 1, \"Class\": \"SQLI\"}, {\"Sentence\": \"a' or 'a'  =  'a\", \"Label\": 1, \"Class\": \"SQLI\"}, {\"Sentence\": \"declare @s varchar ( 22 )  select @s  =\", \"Label\": 1, \"Class\": \"SQLI\"}, {\"Sentence\": \"or 2 between 1 and 3\", \"Label\": 1, \"Class\": \"SQLI\"}, {\"Sentence\": \"or a = a--\", \"Label\": 1, \"Class\": \"SQLI\"}, {\"Sentence\": \"or '1' = '1\", \"Label\": 1, \"Class\": \"SQLI\"}, {\"Sentence\": \"|\", \"Label\": 1, \"Class\": \"SQLI\"}, {\"Sentence\": \"or sleep ( __TIME__ )  = '\", \"Label\": 1, \"Class\": \"SQLI\"}, {\"Sentence\": \"or 1 --'\", \"Label\": 1, \"Class\": \"SQLI\"}, {\"Sentence\": \"or 0 = 0 #\\\"\", \"Label\": 1, \"Class\": \"SQLI\"}, {\"Sentence\": \"having\", \"Label\": 1, \"Class\": \"SQLI\"}, {\"Sentence\": \"a'\", \"Label\": 1, \"Class\": \"SQLI\"}, {\"Sentence\": \"\\\" or isNULL ( 1/0 )  /*\", \"Label\": 1, \"Class\": \"SQLI\"}, {\"Sentence\": \"declare @s varchar  ( 8000 )  select @s  =  0x73656c ...\", \"Label\": 1, \"Class\": \"SQLI\"}, {\"Sentence\": \"\\u00e2\\u0080\\u0098 or 1 = 1 --\", \"Label\": 1, \"Class\": \"SQLI\"}, {\"Sentence\": \"char%4039%41%2b%40SELECT\", \"Label\": 1, \"Class\": \"SQLI\"}, {\"Sentence\": \"order by\", \"Label\": 1, \"Class\": \"SQLI\"}, {\"Sentence\": \"bfilename\", \"Label\": 1, \"Class\": \"SQLI\"}, {\"Sentence\": \"having 1 = 1--\", \"Label\": 1, \"Class\": \"SQLI\"}, {\"Sentence\": \" )  or benchmark ( 10000000,MD5 ( 1  )  )  #\", \"Label\": 1, \"Class\": \"SQLI\"}, {\"Sentence\": \"or username like char ( 37 ) ;\", \"Label\": 1, \"Class\": \"SQLI\"}, {\"Sentence\": \";waitfor delay '0:0:__TIME__'--\", \"Label\": 1, \"Class\": \"SQLI\"}, {\"Sentence\": \"\\\" or 1 = 1--\", \"Label\": 1, \"Class\": \"SQLI\"}, {\"Sentence\": \"x' AND userid IS NULL; --\", \"Label\": 1, \"Class\": \"SQLI\"}, {\"Sentence\": \"*/*\", \"Label\": 1, \"Class\": \"SQLI\"}, {\"Sentence\": \"or 'text' > 't'\", \"Label\": 1, \"Class\": \"SQLI\"}, {\"Sentence\": \"( select top 1\", \"Label\": 1, \"Class\": \"SQLI\"}, {\"Sentence\": \" or benchmark ( 10000000,MD5 ( 1  )  )  #\", \"Label\": 1, \"Class\": \"SQLI\"}, {\"Sentence\": \"\\\" ) ;waitfor delay '0:0:__TIME__'--\", \"Label\": 1, \"Class\": \"SQLI\"}, {\"Sentence\": \"a' or 3 = 3--\", \"Label\": 1, \"Class\": \"SQLI\"}, {\"Sentence\": \"-- &password =\", \"Label\": 1, \"Class\": \"SQLI\"}, {\"Sentence\": \"group by userid having 1 = 1--\", \"Label\": 1, \"Class\": \"SQLI\"}, {\"Sentence\": \"or '' = '\", \"Label\": 1, \"Class\": \"SQLI\"}, {\"Sentence\": \"; exec master..xp_cmdshell\", \"Label\": 1, \"Class\": \"SQLI\"}, {\"Sentence\": \"or x = x\", \"Label\": 1, \"Class\": \"SQLI\"}, {\"Sentence\": \"select\", \"Label\": 1, \"Class\": \"SQLI\"}, {\"Sentence\": \"\\\"  )  )   or sleep ( __TIME__ )  = \\\"\", \"Label\": 1, \"Class\": \"SQLI\"}, {\"Sentence\": \"0x730065006c0065006300740020004000400076006500 ...\", \"Label\": 1, \"Class\": \"SQLI\"}, {\"Sentence\": \"hi' or 1 = 1 --\", \"Label\": 1, \"Class\": \"SQLI\"}, {\"Sentence\": \"\\\" )  or pg_sleep ( __TIME__ ) --\", \"Label\": 1, \"Class\": \"SQLI\"}, {\"Sentence\": \"or 'x' = 'x\", \"Label\": 1, \"Class\": \"SQLI\"}, {\"Sentence\": \"or 'something'  =  'some'+'thing'\", \"Label\": 1, \"Class\": \"SQLI\"}, {\"Sentence\": \"exec sp\", \"Label\": 1, \"Class\": \"SQLI\"}, {\"Sentence\": \"29%\", \"Label\": 1, \"Class\": \"SQLI\"}, {\"Sentence\": \"(\", \"Label\": 1, \"Class\": \"SQLI\"}, {\"Sentence\": \"\\u00c3\\u00bd or 1 = 1 --\", \"Label\": 1, \"Class\": \"SQLI\"}, {\"Sentence\": \"1 or pg_sleep ( __TIME__ ) --\", \"Label\": 1, \"Class\": \"SQLI\"}, {\"Sentence\": \"0 or 1 = 1\", \"Label\": 1, \"Class\": \"SQLI\"}, {\"Sentence\": \")  or  ( a = a\", \"Label\": 1, \"Class\": \"SQLI\"}, {\"Sentence\": \"uni/**/on sel/**/ect\", \"Label\": 1, \"Class\": \"SQLI\"}, {\"Sentence\": \"replace\", \"Label\": 1, \"Class\": \"SQLI\"}, {\"Sentence\": \"%27 or 1 = 1\", \"Label\": 1, \"Class\": \"SQLI\"}, {\"Sentence\": \")  )   or pg_sleep ( __TIME__ ) --\", \"Label\": 1, \"Class\": \"SQLI\"}, {\"Sentence\": \"%7C\", \"Label\": 1, \"Class\": \"SQLI\"}, {\"Sentence\": \"x' AND 1 =  ( SELECT COUNT ( * )  FROM tabname ) ; --\", \"Label\": 1, \"Class\": \"SQLI\"}, {\"Sentence\": \"&apos; OR\", \"Label\": 1, \"Class\": \"SQLI\"}, {\"Sentence\": \"; or '1' = '1'\", \"Label\": 1, \"Class\": \"SQLI\"}, {\"Sentence\": \"declare @q nvarchar  ( 200 )  select @q  =  0x770061 ...\", \"Label\": 1, \"Class\": \"SQLI\"}, {\"Sentence\": \"1 or 1 = 1\", \"Label\": 1, \"Class\": \"SQLI\"}, {\"Sentence\": \"; exec  ( 'sel' + 'ect us' + 'er' )\", \"Label\": 1, \"Class\": \"SQLI\"}, {\"Sentence\": \"23 OR 1 = 1\", \"Label\": 1, \"Class\": \"SQLI\"}, {\"Sentence\": \"/\", \"Label\": 1, \"Class\": \"SQLI\"}, {\"Sentence\": \"anything' OR 'x' = 'x\", \"Label\": 1, \"Class\": \"SQLI\"}, {\"Sentence\": \"declare @q nvarchar  ( 4000 )  select @q  =\", \"Label\": 1, \"Class\": \"SQLI\"}, {\"Sentence\": \"or 0 = 0 --\", \"Label\": 1, \"Class\": \"SQLI\"}, {\"Sentence\": \"desc\", \"Label\": 1, \"Class\": \"SQLI\"}, {\"Sentence\": \"||'6\", \"Label\": 1, \"Class\": \"SQLI\"}, {\"Sentence\": \")\", \"Label\": 1, \"Class\": \"SQLI\"}, {\"Sentence\": \"1  )  )   or sleep ( __TIME__ ) #\", \"Label\": 1, \"Class\": \"SQLI\"}, {\"Sentence\": \"or 0 = 0 #\", \"Label\": 1, \"Class\": \"SQLI\"}, {\"Sentence\": \"select name from syscolumns where id  =   ( sele ...\", \"Label\": 1, \"Class\": \"SQLI\"}, {\"Sentence\": \"hi or a = a\", \"Label\": 1, \"Class\": \"SQLI\"}, {\"Sentence\": \"* ( | ( mail = *  )  )\", \"Label\": 1, \"Class\": \"SQLI\"}, {\"Sentence\": \"password:*/ = 1--\", \"Label\": 1, \"Class\": \"SQLI\"}, {\"Sentence\": \"distinct\", \"Label\": 1, \"Class\": \"SQLI\"}, {\"Sentence\": \") ;waitfor delay '0:0:__TIME__'--\", \"Label\": 1, \"Class\": \"SQLI\"}, {\"Sentence\": \"to_timestamp_tz\", \"Label\": 1, \"Class\": \"SQLI\"}, {\"Sentence\": \"\\\" )  or benchmark ( 10000000,MD5 ( 1  )  )  #\", \"Label\": 1, \"Class\": \"SQLI\"}, {\"Sentence\": \"UNION SELECT\", \"Label\": 1, \"Class\": \"SQLI\"}, {\"Sentence\": \"%2A%28%7C%28mail%3D%2A%29%29\", \"Label\": 1, \"Class\": \"SQLI\"}, {\"Sentence\": \"#NAME?\", \"Label\": 1, \"Class\": \"SQLI\"}, {\"Sentence\": \"or 1 = 1 /*\", \"Label\": 1, \"Class\": \"SQLI\"}, {\"Sentence\": \")  )   or sleep ( __TIME__ )  = '\", \"Label\": 1, \"Class\": \"SQLI\"}, {\"Sentence\": \"or 1 = 1 or \\\"\\\" = \", \"Label\": 1, \"Class\": \"SQLI\"}, {\"Sentence\": \"or 1 in  ( select @@version ) --\", \"Label\": 1, \"Class\": \"SQLI\"}, {\"Sentence\": \"sqlvuln;\", \"Label\": 1, \"Class\": \"SQLI\"}, {\"Sentence\": \"union select * from users where login  =  char ...\", \"Label\": 1, \"Class\": \"SQLI\"}, {\"Sentence\": \"x' or 1 = 1 or 'x' = 'y\", \"Label\": 1, \"Class\": \"SQLI\"}, {\"Sentence\": \"28%\", \"Label\": 1, \"Class\": \"SQLI\"}, {\"Sentence\": \"\\u00e2\\u0080\\u0098 or 3 = 3 --\", \"Label\": 1, \"Class\": \"SQLI\"}, {\"Sentence\": \"@variable\", \"Label\": 1, \"Class\": \"SQLI\"}, {\"Sentence\": \"or '1' = '1'--\", \"Label\": 1, \"Class\": \"SQLI\"}, {\"Sentence\": \"\\\"a\\\"\\\" or 1 = 1--\\\"\", \"Label\": 1, \"Class\": \"SQLI\"}, {\"Sentence\": \"//*\", \"Label\": 1, \"Class\": \"SQLI\"}, {\"Sentence\": \"%2A%7C\", \"Label\": 1, \"Class\": \"SQLI\"}, {\"Sentence\": \"\\\" or 0 = 0 --\", \"Label\": 1, \"Class\": \"SQLI\"}, {\"Sentence\": \"\\\"  )  )   or pg_sleep ( __TIME__ ) --\", \"Label\": 1, \"Class\": \"SQLI\"}, {\"Sentence\": \"?\", \"Label\": 1, \"Class\": \"SQLI\"}, {\"Sentence\": \"or 1/*\", \"Label\": 1, \"Class\": \"SQLI\"}, {\"Sentence\": \"!\", \"Label\": 1, \"Class\": \"SQLI\"}, {\"Sentence\": null, \"Label\": 1, \"Class\": \"SQLI\"}, {\"Sentence\": \"or a  =  a\", \"Label\": 1, \"Class\": \"SQLI\"}, {\"Sentence\": \"declare @q nvarchar  ( 200 )  select @q  =  0x770061006900740066006F0072002000640065006C00610079002000270030003A0030003A0031003000270000 exec ( @q )\", \"Label\": 1, \"Class\": \"SQLI\"}, {\"Sentence\": \"declare @s varchar ( 200 )  select @s  =  0x77616974666F722064656C61792027303A303A31302700 exec ( @s )\", \"Label\": 1, \"Class\": \"SQLI\"}, {\"Sentence\": \"declare @q nvarchar  ( 200 )  0x730065006c00650063007400200040004000760065007200730069006f006e00 exec ( @q )\", \"Label\": 1, \"Class\": \"SQLI\"}, {\"Sentence\": \"declare @s varchar  ( 200 )  select @s  =  0x73656c65637420404076657273696f6e exec ( @s )\", \"Label\": 1, \"Class\": \"SQLI\"}, {\"Sentence\": \" or 1 = 1\", \"Label\": 1, \"Class\": \"SQLI\"}, {\"Sentence\": \"\\u0018 or 1 = 1 --\", \"Label\": 1, \"Class\": \"SQLI\"}, {\"Sentence\": \"x' OR full_name LIKE '%Bob%\", \"Label\": 1, \"Class\": \"SQLI\"}, {\"Sentence\": \"; exec master..xp_cmdshell 'ping 172.10.1.255'--\", \"Label\": 1, \"Class\": \"SQLI\"}, {\"Sentence\": \" or '' = '\", \"Label\": 1, \"Class\": \"SQLI\"}, {\"Sentence\": \" or 'x' = 'x\", \"Label\": 1, \"Class\": \"SQLI\"}, {\"Sentence\": \" )  or  ( 'x' = 'x\", \"Label\": 1, \"Class\": \"SQLI\"}, {\"Sentence\": \" or 0 = 0 --\", \"Label\": 1, \"Class\": \"SQLI\"}, {\"Sentence\": \" or 0 = 0 #\", \"Label\": 1, \"Class\": \"SQLI\"}, {\"Sentence\": \" or 0 = 0 #\\\"\", \"Label\": 1, \"Class\": \"SQLI\"}, {\"Sentence\": \" or 1 = 1--\", \"Label\": 1, \"Class\": \"SQLI\"}, {\"Sentence\": \" or '1' = '1'--\", \"Label\": 1, \"Class\": \"SQLI\"}, {\"Sentence\": \" or 1 --'\", \"Label\": 1, \"Class\": \"SQLI\"}, {\"Sentence\": \"or 1 = 1--\", \"Label\": 1, \"Class\": \"SQLI\"}, {\"Sentence\": \" or 1 = 1 or '' = '\", \"Label\": 1, \"Class\": \"SQLI\"}, {\"Sentence\": \" or 1 = 1 or \\\"\\\" = \", \"Label\": 1, \"Class\": \"SQLI\"}, {\"Sentence\": \" or a = a--\", \"Label\": 1, \"Class\": \"SQLI\"}, {\"Sentence\": \"or a = a\", \"Label\": 1, \"Class\": \"SQLI\"}, {\"Sentence\": \" )  or  ( 'a' = 'a\", \"Label\": 1, \"Class\": \"SQLI\"}, {\"Sentence\": \"hi' or 'x' = 'x';\", \"Label\": 1, \"Class\": \"SQLI\"}, {\"Sentence\": \"or\", \"Label\": 1, \"Class\": \"SQLI\"}, {\"Sentence\": \"procedure\", \"Label\": 1, \"Class\": \"SQLI\"}, {\"Sentence\": \"handler\", \"Label\": 1, \"Class\": \"SQLI\"}, {\"Sentence\": \" or username like '%\", \"Label\": 1, \"Class\": \"SQLI\"}, {\"Sentence\": \" or uname like '%\", \"Label\": 1, \"Class\": \"SQLI\"}, {\"Sentence\": \" or userid like '%\", \"Label\": 1, \"Class\": \"SQLI\"}, {\"Sentence\": \" or uid like '%\", \"Label\": 1, \"Class\": \"SQLI\"}, {\"Sentence\": \" or user like '%\", \"Label\": 1, \"Class\": \"SQLI\"}, {\"Sentence\": \"; exec master..xp_cmdshell\", \"Label\": 1, \"Class\": \"SQLI\"}, {\"Sentence\": \"; exec xp_regread\", \"Label\": 1, \"Class\": \"SQLI\"}, {\"Sentence\": \"t'exec master..xp_cmdshell 'nslookup www.google.com'--\", \"Label\": 1, \"Class\": \"SQLI\"}, {\"Sentence\": \"#NAME?\", \"Label\": 1, \"Class\": \"SQLI\"}, {\"Sentence\": \" UNION SELECT\", \"Label\": 1, \"Class\": \"SQLI\"}, {\"Sentence\": \" UNION ALL SELECT\", \"Label\": 1, \"Class\": \"SQLI\"}, {\"Sentence\": \" or  ( EXISTS )\", \"Label\": 1, \"Class\": \"SQLI\"}, {\"Sentence\": \"  ( select top 1\", \"Label\": 1, \"Class\": \"SQLI\"}, {\"Sentence\": \"||UTL_HTTP.REQUEST\", \"Label\": 1, \"Class\": \"SQLI\"}, {\"Sentence\": \"1;SELECT *\", \"Label\": 1, \"Class\": \"SQLI\"}, {\"Sentence\": \"<>\\\"'%; )  ( &+\", \"Label\": 1, \"Class\": \"SQLI\"}, {\"Sentence\": \" or 1 = 1\", \"Label\": 1, \"Class\": \"SQLI\"}, {\"Sentence\": \"sqlattempt1\", \"Label\": 1, \"Class\": \"SQLI\"}, {\"Sentence\": \"28%\", \"Label\": 1, \"Class\": \"SQLI\"}, {\"Sentence\": \"29%\", \"Label\": 1, \"Class\": \"SQLI\"}, {\"Sentence\": \"26%\", \"Label\": 1, \"Class\": \"SQLI\"}, {\"Sentence\": \"21%\", \"Label\": 1, \"Class\": \"SQLI\"}, {\"Sentence\": \" or '' = '\", \"Label\": 1, \"Class\": \"SQLI\"}, {\"Sentence\": \" or 3 = 3\", \"Label\": 1, \"Class\": \"SQLI\"}, {\"Sentence\": \"or 3 = 3 --\", \"Label\": 1, \"Class\": \"SQLI\"}, {\"Sentence\": \"Add plain text Ne te quaesiveris extra\", \"Label\": 0, \"Class\": \"NORMAL\"}, {\"Sentence\": \" Man star; soul Render honest perfect man, Commands light, influence, fate; Nothing falls early late\", \"Label\": 0, \"Class\": \"NORMAL\"}, {\"Sentence\": \" Our acts angels are, good ill, Our fatal shadows walk us still\", \"Label\": 0, \"Class\": \"NORMAL\"}, {\"Sentence\": \" Epilogue Beaumont Fletcher\\u2019s Honest Man\\u2019s Fortune Cast bantling rocks, Suckle she-wolf\\u2019s teat; Wintered hawk fox, Power speed hands feet\", \"Label\": 0, \"Class\": \"NORMAL\"}, {\"Sentence\": \"I read day verses written eminent painter original conventional\", \"Label\": 0, \"Class\": \"NORMAL\"}, {\"Sentence\": \" The soul always hears admonition lines, let subject may\", \"Label\": 0, \"Class\": \"NORMAL\"}, {\"Sentence\": \"The sentiment instil value thought may contain\", \"Label\": 0, \"Class\": \"NORMAL\"}, {\"Sentence\": \" To believe thought, believe true private heart true men, \\u2014 genius\", \"Label\": 0, \"Class\": \"NORMAL\"}, {\"Sentence\": \" Speak latent conviction, shall universal sense; inmost due time becomes outmost, \\u2014 first thought rendered back us trumpets Last Judgment\", \"Label\": 0, \"Class\": \"NORMAL\"}, {\"Sentence\": \" Familiar voice mind each, highest merit ascribe Moses, Plato, Milton is, set naught books traditions, spoke men thought\", \"Label\": 0, \"Class\": \"NORMAL\"}, {\"Sentence\": \" A man learn detect watch gleam light flashes across mind within, lustre firmament bards sages\", \"Label\": 0, \"Class\": \"NORMAL\"}, {\"Sentence\": \" Yet dismisses without notice thought, his\", \"Label\": 0, \"Class\": \"NORMAL\"}, {\"Sentence\": \"In every work genius recognize rejected thoughts: come back us certain alienated majesty\", \"Label\": 0, \"Class\": \"NORMAL\"}, {\"Sentence\": \"Great works art affecting lesson us this\", \"Label\": 0, \"Class\": \"NORMAL\"}, {\"Sentence\": \"They teach us abide spontaneous impression good-humored inflexibility whole cry voices side\", \"Label\": 0, \"Class\": \"NORMAL\"}, {\"Sentence\": \" Else, to-morrow stranger say masterly good sense precisely thought felt time, shall forced take shame opinion another\", \"Label\": 0, \"Class\": \"NORMAL\"}, {\"Sentence\": \" There time every man\\u2019s education arrives conviction envy ignorance; imitation suicide; must take better, worse, portion; though wide universe full good, kernel nourishing corn come toil bestowed plot ground given till\", \"Label\": 0, \"Class\": \"NORMAL\"}, {\"Sentence\": \" The power resides new nature, none knows do, know tried\", \"Label\": 0, \"Class\": \"NORMAL\"}, {\"Sentence\": \" Not nothing one face, one character, one fact, makes much impression him, another none\", \"Label\": 0, \"Class\": \"NORMAL\"}, {\"Sentence\": \"This sculpture memory without preestablished harmony\", \"Label\": 0, \"Class\": \"NORMAL\"}, {\"Sentence\": \" The eye placed one ray fall, might testify particular ray\", \"Label\": 0, \"Class\": \"NORMAL\"}, {\"Sentence\": \" We half express ourselves, ashamed divine idea us represents\", \"Label\": 0, \"Class\": \"NORMAL\"}, {\"Sentence\": \" It may safely trusted proportionate good issues, faithfully imparted, God work made manifest cowards\", \"Label\": 0, \"Class\": \"NORMAL\"}, {\"Sentence\": \" A man relieved gay put heart work done best; said done otherwise, shall give peace\", \"Label\": 0, \"Class\": \"NORMAL\"}, {\"Sentence\": \"It deliverance deliver\", \"Label\": 0, \"Class\": \"NORMAL\"}, {\"Sentence\": \" In attempt genius deserts him; muse befriends; invention, hope\", \"Label\": 0, \"Class\": \"NORMAL\"}, {\"Sentence\": \"Trust thyself: every heart vibrates iron string\", \"Label\": 0, \"Class\": \"NORMAL\"}, {\"Sentence\": \" Accept place divine providence found you, society contemporaries, connection events\", \"Label\": 0, \"Class\": \"NORMAL\"}, {\"Sentence\": \" Great men always done so, confided childlike genius age, betraying perception absolutely trustworthy seated heart, working hands, predominating being\", \"Label\": 0, \"Class\": \"NORMAL\"}, {\"Sentence\": \" And men, must accept highest mind transcendent destiny; minors invalids protected corner, cowards fleeing revolution, guides, redeemers, benefactors, obeying Almighty effort, advancing Chaos Dark\", \"Label\": 0, \"Class\": \"NORMAL\"}, {\"Sentence\": \" What pretty oracles nature yields us text, face behaviour children, babes, even brutes! That divided rebel mind, distrust sentiment arithmetic computed strength means opposed purpose, not\", \"Label\": 0, \"Class\": \"NORMAL\"}, {\"Sentence\": \" Their mind whole, eye yet unconquered, look faces, disconcerted\", \"Label\": 0, \"Class\": \"NORMAL\"}, {\"Sentence\": \" Infancy conforms nobody: conform it, one babe commonly makes four five adults prattle play it\", \"Label\": 0, \"Class\": \"NORMAL\"}, {\"Sentence\": \" So God armed youth puberty manhood less piquancy charm, made enviable gracious claims put by, stand itself\", \"Label\": 0, \"Class\": \"NORMAL\"}, {\"Sentence\": \" Do think youth force, cannot speak me\", \"Label\": 0, \"Class\": \"NORMAL\"}, {\"Sentence\": \"Hark! next room voice sufficiently clear emphatic\", \"Label\": 0, \"Class\": \"NORMAL\"}, {\"Sentence\": \"It seems knows speak contemporaries\", \"Label\": 0, \"Class\": \"NORMAL\"}, {\"Sentence\": \" Bashful bold, then, know make us seniors unnecessary\", \"Label\": 0, \"Class\": \"NORMAL\"}, {\"Sentence\": \" The nonchalance boys sure dinner, would disdain much lord say aught conciliate one, healthy attitude human nature\", \"Label\": 0, \"Class\": \"NORMAL\"}, {\"Sentence\": \" A boy parlour pit playhouse; independent, irresponsible, looking corner people facts pass by, tries sentences merits, swift, summary way boys, good, bad, interesting, silly, eloquent, troublesome\", \"Label\": 0, \"Class\": \"NORMAL\"}, {\"Sentence\": \" He cumbers never consequences, interests: gives independent, genuine verdict\", \"Label\": 0, \"Class\": \"NORMAL\"}, {\"Sentence\": \"You must court him: court you\", \"Label\": 0, \"Class\": \"NORMAL\"}, {\"Sentence\": \" But man is, were, clapped jail consciousness\", \"Label\": 0, \"Class\": \"NORMAL\"}, {\"Sentence\": \" As soon acted spoken eclat, committed person, watched sympathy hatred hundreds, whose affections must enter account\", \"Label\": 0, \"Class\": \"NORMAL\"}, {\"Sentence\": \"There Lethe this\", \"Label\": 0, \"Class\": \"NORMAL\"}, {\"Sentence\": \" Ah, could pass neutrality! Who thus avoid pledges, observed, observe unaffected, unbiased, unbribable, unaffrighted innocence, must always formidable\", \"Label\": 0, \"Class\": \"NORMAL\"}, {\"Sentence\": \" He would utter opinions passing affairs, seen private, necessary, would sink like darts ear men, put fear\", \"Label\": 0, \"Class\": \"NORMAL\"}, {\"Sentence\": \" These voices hear solitude, grow faint inaudible enter world\", \"Label\": 0, \"Class\": \"NORMAL\"}, {\"Sentence\": \"Society everywhere conspiracy manhood every one members\", \"Label\": 0, \"Class\": \"NORMAL\"}, {\"Sentence\": \" Society joint-stock company, members agree, better securing bread shareholder, surrender liberty culture eater\", \"Label\": 0, \"Class\": \"NORMAL\"}, {\"Sentence\": \"The virtue request conformity\", \"Label\": 0, \"Class\": \"NORMAL\"}, {\"Sentence\": \"Self-reliance aversion\", \"Label\": 0, \"Class\": \"NORMAL\"}, {\"Sentence\": \" It loves realities creators, names customs\", \"Label\": 0, \"Class\": \"NORMAL\"}, {\"Sentence\": \"Whoso would man must nonconformist\", \"Label\": 0, \"Class\": \"NORMAL\"}, {\"Sentence\": \" He would gather immortal palms must hindered name goodness, must explore goodness\", \"Label\": 0, \"Class\": \"NORMAL\"}, {\"Sentence\": \"Nothing last sacred integrity mind\", \"Label\": 0, \"Class\": \"NORMAL\"}, {\"Sentence\": \" Absolve yourself, shall suffrage world\", \"Label\": 0, \"Class\": \"NORMAL\"}, {\"Sentence\": \" I remember answer quite young I prompted make valued adviser, wont importune dear old doctrines church\", \"Label\": 0, \"Class\": \"NORMAL\"}, {\"Sentence\": \" On saying, What I sacredness traditions, I live wholly within? friend suggested, \\u2014 But impulses may below, above\", \"Label\": 0, \"Class\": \"NORMAL\"}, {\"Sentence\": \" I replied, They seem such; I Devil\\u2019s child, I live Devil\", \"Label\": 0, \"Class\": \"NORMAL\"}, {\"Sentence\": \"No law sacred nature\", \"Label\": 0, \"Class\": \"NORMAL\"}, {\"Sentence\": \" Good bad names readily transferable this; right constitution, wrong it\", \"Label\": 0, \"Class\": \"NORMAL\"}, {\"Sentence\": \" A man carry presence opposition, every thing titular ephemeral he\", \"Label\": 0, \"Class\": \"NORMAL\"}, {\"Sentence\": \" I ashamed think easily capitulate badges names, large societies dead institutions\", \"Label\": 0, \"Class\": \"NORMAL\"}, {\"Sentence\": \"Every decent well-spoken individual affects sways right\", \"Label\": 0, \"Class\": \"NORMAL\"}, {\"Sentence\": \" I ought go upright vital, speak rude truth ways\", \"Label\": 0, \"Class\": \"NORMAL\"}, {\"Sentence\": \" If malice vanity wear coat philanthropy, shall pass? If angry bigot assumes bountiful cause Abolition, comes last news Barbadoes, I say him, \\u2018Go love thy infant; love thy wood-chopper: good-natured modest: grace; never varnish hard, uncharitable ambition incredible tenderness black folk thousand miles off\", \"Label\": 0, \"Class\": \"NORMAL\"}, {\"Sentence\": \"Thy love afar spite home\", \"Label\": 0, \"Class\": \"NORMAL\"}, {\"Sentence\": \"\\u2019 Rough graceless would greeting, truth handsomer affectation love\", \"Label\": 0, \"Class\": \"NORMAL\"}, {\"Sentence\": \" Your goodness must edge it, \\u2014 else none\", \"Label\": 0, \"Class\": \"NORMAL\"}, {\"Sentence\": \"The doctrine hatred must preached counteraction doctrine love pules whines\", \"Label\": 0, \"Class\": \"NORMAL\"}, {\"Sentence\": \" I shun father mother wife brother, genius calls me\", \"Label\": 0, \"Class\": \"NORMAL\"}, {\"Sentence\": \" I would write lintels door-post, Whim\", \"Label\": 0, \"Class\": \"NORMAL\"}, {\"Sentence\": \" I hope somewhat better whim last, cannot spend day explanation\", \"Label\": 0, \"Class\": \"NORMAL\"}, {\"Sentence\": \"Expect show cause I seek I exclude company\", \"Label\": 0, \"Class\": \"NORMAL\"}, {\"Sentence\": \" Then, again, tell me, good man to-day, obligation put poor men good situations\", \"Label\": 0, \"Class\": \"NORMAL\"}, {\"Sentence\": \" Are poor? I tell thee, thou foolish philanthropist, I grudge dollar, dime, cent, I give men belong I belong\", \"Label\": 0, \"Class\": \"NORMAL\"}, {\"Sentence\": \" There class persons spiritual affinity I bought sold; I go prison, need be; miscellaneous popular charities; education college fools; building meeting-houses vain end many stand; alms sots; thousandfold Relief Societies; \\u2014 though I confess shame I sometimes succumb give dollar, wicked dollar I shall manhood withhold\", \"Label\": 0, \"Class\": \"NORMAL\"}, {\"Sentence\": \" Virtues are, popular estimate, rather exception rule\", \"Label\": 0, \"Class\": \"NORMAL\"}, {\"Sentence\": \"There man virtues\", \"Label\": 0, \"Class\": \"NORMAL\"}, {\"Sentence\": \" Men called good action, piece courage charity, much would pay fine expiation daily non-appearance parade\", \"Label\": 0, \"Class\": \"NORMAL\"}, {\"Sentence\": \" Their works done apology extenuation living world, \\u2014 invalids insane pay high board\", \"Label\": 0, \"Class\": \"NORMAL\"}, {\"Sentence\": \"Their virtues penances\", \"Label\": 0, \"Class\": \"NORMAL\"}, {\"Sentence\": \" I wish expiate, live\", \"Label\": 0, \"Class\": \"NORMAL\"}, {\"Sentence\": \"My life spectacle\", \"Label\": 0, \"Class\": \"NORMAL\"}, {\"Sentence\": \" I much prefer lower strain, genuine equal, glittering unsteady\", \"Label\": 0, \"Class\": \"NORMAL\"}, {\"Sentence\": \" I wish sound sweet, need diet bleeding\", \"Label\": 0, \"Class\": \"NORMAL\"}, {\"Sentence\": \" I ask primary evidence man, refuse appeal man actions\", \"Label\": 0, \"Class\": \"NORMAL\"}, {\"Sentence\": \"I know makes difference whether I forbear actions reckoned excellent\", \"Label\": 0, \"Class\": \"NORMAL\"}, {\"Sentence\": \"I cannot consent pay privilege I intrinsic right\", \"Label\": 0, \"Class\": \"NORMAL\"}, {\"Sentence\": \" Few mean gifts may be, I actually am, need assurance assurance fellows secondary testimony\", \"Label\": 0, \"Class\": \"NORMAL\"}, {\"Sentence\": \" What I must concerns me, people think\", \"Label\": 0, \"Class\": \"NORMAL\"}, {\"Sentence\": \" This rule, equally arduous actual intellectual life, may serve whole distinction greatness meanness\", \"Label\": 0, \"Class\": \"NORMAL\"}, {\"Sentence\": \" It harder, always find think know duty better know it\", \"Label\": 0, \"Class\": \"NORMAL\"}, {\"Sentence\": \"It easy world live world\\u2019s opinion; easy solitude live own; great man midst crowd keeps perfect sweetness independence solitude\", \"Label\": 0, \"Class\": \"NORMAL\"}, {\"Sentence\": \" The objection conforming usages become dead is, scatters force\", \"Label\": 0, \"Class\": \"NORMAL\"}, {\"Sentence\": \"It loses time blurs impression character\", \"Label\": 0, \"Class\": \"NORMAL\"}, {\"Sentence\": \" If maintain dead church, contribute dead Bible-society, vote great party either government it, spread table like base housekeepers, \\u2014 screens I difficulty detect precise man are\", \"Label\": 0, \"Class\": \"NORMAL\"}, {\"Sentence\": \" And, course, much force withdrawn proper life\", \"Label\": 0, \"Class\": \"NORMAL\"}, {\"Sentence\": \" But work, I shall know you\", \"Label\": 0, \"Class\": \"NORMAL\"}, {\"Sentence\": \" Do work, shall reinforce yourself\", \"Label\": 0, \"Class\": \"NORMAL\"}, {\"Sentence\": \"A man must consider blindman\\u2019s-buff game conformity\", \"Label\": 0, \"Class\": \"NORMAL\"}, {\"Sentence\": \" If I know sect, I anticipate argument\", \"Label\": 0, \"Class\": \"NORMAL\"}, {\"Sentence\": \"I hear preacher announce text topic expediency one institutions church\", \"Label\": 0, \"Class\": \"NORMAL\"}, {\"Sentence\": \" Do I know beforehand possibly say new spontaneous word? Do I know that, ostentation examining grounds institution, thing? Do I know pledged look one side, \\u2014 permitted side, man, parish minister? He retained attorney, airs bench emptiest affectation\", \"Label\": 0, \"Class\": \"NORMAL\"}, {\"Sentence\": \" Well, men bound eyes one another handkerchief, attached one communities opinion\", \"Label\": 0, \"Class\": \"NORMAL\"}, {\"Sentence\": \" This conformity makes false particulars, authors lies, false particulars\", \"Label\": 0, \"Class\": \"NORMAL\"}, {\"Sentence\": \"Their every truth quite true\", \"Label\": 0, \"Class\": \"NORMAL\"}, {\"Sentence\": \" Their two real two, four real four; every word say chagrins us, know begin set right\", \"Label\": 0, \"Class\": \"NORMAL\"}, {\"Sentence\": \"Meantime nature slow equip us prison-uniform party adhere\", \"Label\": 0, \"Class\": \"NORMAL\"}, {\"Sentence\": \" We come wear one cut face figure, acquire degrees gentlest asinine expression\", \"Label\": 0, \"Class\": \"NORMAL\"}, {\"Sentence\": \" There mortifying experience particular, fail wreak also general history; I mean foolish face praise, forced smile put company feel ease answer conversation interest us\", \"Label\": 0, \"Class\": \"NORMAL\"}, {\"Sentence\": \" The muscles, spontaneously moved, moved low usurping wilfulness, grow tight outline face disagreeable sensation\", \"Label\": 0, \"Class\": \"NORMAL\"}, {\"Sentence\": \"For nonconformity world whips displeasure\", \"Label\": 0, \"Class\": \"NORMAL\"}, {\"Sentence\": \"And therefore man must know estimate sour face\", \"Label\": 0, \"Class\": \"NORMAL\"}, {\"Sentence\": \"The by-standers look askance public street friend\\u2019s parlour\", \"Label\": 0, \"Class\": \"NORMAL\"}, {\"Sentence\": \" If aversation origin contempt resistance like own, might well go home sad countenance; sour faces multitude, like sweet faces, deep cause, put wind blows newspaper directs\", \"Label\": 0, \"Class\": \"NORMAL\"}, {\"Sentence\": \"Yet discontent multitude formidable senate college\", \"Label\": 0, \"Class\": \"NORMAL\"}, {\"Sentence\": \"It easy enough firm man knows world brook rage cultivated classes\", \"Label\": 0, \"Class\": \"NORMAL\"}, {\"Sentence\": \" Their rage decorous prudent, timid vulnerable themselves\", \"Label\": 0, \"Class\": \"NORMAL\"}, {\"Sentence\": \" But feminine rage indignation people added, ignorant poor aroused, unintelligent brute force lies bottom society made growl mow, needs habit magnanimity religion treat godlike trifle concernment\", \"Label\": 0, \"Class\": \"NORMAL\"}, {\"Sentence\": \" The terror scares us self-trust consistency; reverence past act word, eyes others data computing orbit past acts, loath disappoint them\", \"Label\": 0, \"Class\": \"NORMAL\"}, {\"Sentence\": \" But keep head shoulder? Why drag corpse memory, lest contradict somewhat stated public place? Suppose contradict yourself; then? It seems rule wisdom never rely memory alone, scarcely even acts pure memory, bring past judgment thousand-eyed present, live ever new day\", \"Label\": 0, \"Class\": \"NORMAL\"}, {\"Sentence\": \" In metaphysics denied personality Deity: yet devout motions soul come, yield heart life, though clothe God shape color\", \"Label\": 0, \"Class\": \"NORMAL\"}, {\"Sentence\": \" Leave theory, Joseph coat hand harlot, flee\", \"Label\": 0, \"Class\": \"NORMAL\"}, {\"Sentence\": \" A foolish consistency hobgoblin little minds, adored little statesmen philosophers divines\", \"Label\": 0, \"Class\": \"NORMAL\"}, {\"Sentence\": \"With consistency great soul simply nothing do\", \"Label\": 0, \"Class\": \"NORMAL\"}, {\"Sentence\": \"He may well concern shadow wall\", \"Label\": 0, \"Class\": \"NORMAL\"}, {\"Sentence\": \" Speak think hard words, to-morrow speak to-morrow thinks hard words again, though contradict every thing said to-day\", \"Label\": 0, \"Class\": \"NORMAL\"}, {\"Sentence\": \" \\u2014 \\u2018Ah, shall sure misunderstood\", \"Label\": 0, \"Class\": \"NORMAL\"}, {\"Sentence\": \"\\u2019 \\u2014 Is bad, then, misunderstood? Pythagoras misunderstood, Socrates, Jesus, Luther, Copernicus, Galileo, Newton, every pure wise spirit ever took flesh\", \"Label\": 0, \"Class\": \"NORMAL\"}, {\"Sentence\": \"To great misunderstood\", \"Label\": 0, \"Class\": \"NORMAL\"}, {\"Sentence\": \"I suppose man violate nature\", \"Label\": 0, \"Class\": \"NORMAL\"}, {\"Sentence\": \" All sallies rounded law being, inequalities Andes Himmaleh insignificant curve sphere\", \"Label\": 0, \"Class\": \"NORMAL\"}, {\"Sentence\": \"Nor matter gauge try him\", \"Label\": 0, \"Class\": \"NORMAL\"}, {\"Sentence\": \" A character like acrostic Alexandrian stanza; \\u2014 read forward, backward, across, still spells thing\", \"Label\": 0, \"Class\": \"NORMAL\"}, {\"Sentence\": \" In pleasing, contrite wood-life God allows me, let record day day honest thought without prospect retrospect, and, I cannot doubt, found symmetrical, though I mean not, see not\", \"Label\": 0, \"Class\": \"NORMAL\"}, {\"Sentence\": \"My book smell pines resound hum insects\", \"Label\": 0, \"Class\": \"NORMAL\"}, {\"Sentence\": \"The swallow window interweave thread straw carries bill web also\", \"Label\": 0, \"Class\": \"NORMAL\"}, {\"Sentence\": \"We pass are\", \"Label\": 0, \"Class\": \"NORMAL\"}, {\"Sentence\": \"Character teaches wills\", \"Label\": 0, \"Class\": \"NORMAL\"}, {\"Sentence\": \" Men imagine communicate virtue vice overt actions, see virtue vice emit breath every moment\", \"Label\": 0, \"Class\": \"NORMAL\"}, {\"Sentence\": \" There agreement whatever variety actions, honest natural hour\", \"Label\": 0, \"Class\": \"NORMAL\"}, {\"Sentence\": \" For one will, actions harmonious, however unlike seem\", \"Label\": 0, \"Class\": \"NORMAL\"}, {\"Sentence\": \" These varieties lost sight little distance, little height thought\", \"Label\": 0, \"Class\": \"NORMAL\"}, {\"Sentence\": \"One tendency unites all\", \"Label\": 0, \"Class\": \"NORMAL\"}, {\"Sentence\": \"The voyage best ship zigzag line hundred tacks\", \"Label\": 0, \"Class\": \"NORMAL\"}, {\"Sentence\": \" See line sufficient distance, straightens average tendency\", \"Label\": 0, \"Class\": \"NORMAL\"}, {\"Sentence\": \" Your genuine action explain itself, explain genuine actions\", \"Label\": 0, \"Class\": \"NORMAL\"}, {\"Sentence\": \"Your conformity explains nothing\", \"Label\": 0, \"Class\": \"NORMAL\"}, {\"Sentence\": \" Act singly, already done singly justify now\", \"Label\": 0, \"Class\": \"NORMAL\"}, {\"Sentence\": \"Greatness appeals future\", \"Label\": 0, \"Class\": \"NORMAL\"}, {\"Sentence\": \" If I firm enough to-day right, scorn eyes, I must done much right defend now\", \"Label\": 0, \"Class\": \"NORMAL\"}, {\"Sentence\": \" Be will, right now\", \"Label\": 0, \"Class\": \"NORMAL\"}, {\"Sentence\": \" Always scorn appearances, always may\", \"Label\": 0, \"Class\": \"NORMAL\"}, {\"Sentence\": \"The force character cumulative\", \"Label\": 0, \"Class\": \"NORMAL\"}, {\"Sentence\": \"All foregone days virtue work health this\", \"Label\": 0, \"Class\": \"NORMAL\"}, {\"Sentence\": \" What makes majesty heroes senate field, fills imagination? The consciousness train great days victories behind\", \"Label\": 0, \"Class\": \"NORMAL\"}, {\"Sentence\": \"They shed united light advancing actor\", \"Label\": 0, \"Class\": \"NORMAL\"}, {\"Sentence\": \"He attended visible escort angels\", \"Label\": 0, \"Class\": \"NORMAL\"}, {\"Sentence\": \" That throws thunder Chatham\\u2019s voice, dignity Washington\\u2019s port, America Adams\\u2019s eye\", \"Label\": 0, \"Class\": \"NORMAL\"}, {\"Sentence\": \"Honor venerable us ephemeris\", \"Label\": 0, \"Class\": \"NORMAL\"}, {\"Sentence\": \"It always ancient virtue\", \"Label\": 0, \"Class\": \"NORMAL\"}, {\"Sentence\": \"We worship to-day to-day\", \"Label\": 0, \"Class\": \"NORMAL\"}, {\"Sentence\": \" We love pay homage, trap love homage, selfdependent, self-derived, therefore old immaculate pedigree, even shown young person\", \"Label\": 0, \"Class\": \"NORMAL\"}, {\"Sentence\": \"I hope days heard last conformity consistency\", \"Label\": 0, \"Class\": \"NORMAL\"}, {\"Sentence\": \"Let words gazetted ridiculous henceforward\", \"Label\": 0, \"Class\": \"NORMAL\"}, {\"Sentence\": \" Instead gong dinner, let us hear whistle Spartan fife\", \"Label\": 0, \"Class\": \"NORMAL\"}, {\"Sentence\": \"Let us never bow apologize more\", \"Label\": 0, \"Class\": \"NORMAL\"}, {\"Sentence\": \"A great man coming eat house\", \"Label\": 0, \"Class\": \"NORMAL\"}, {\"Sentence\": \"I wish please him; I wish wish please me\", \"Label\": 0, \"Class\": \"NORMAL\"}, {\"Sentence\": \" I stand humanity, though I would make kind, I would make true\", \"Label\": 0, \"Class\": \"NORMAL\"}, {\"Sentence\": \" Let us affront reprimand smooth mediocrity squalid contentment times, hurl face custom, trade, office, fact upshot history, great responsible Thinker Actor working wherever man works; true man belongs time place, centre things\", \"Label\": 0, \"Class\": \"NORMAL\"}, {\"Sentence\": \" Where is, nature\", \"Label\": 0, \"Class\": \"NORMAL\"}, {\"Sentence\": \" He measures you, men, events\", \"Label\": 0, \"Class\": \"NORMAL\"}, {\"Sentence\": \" Ordinarily, every body society reminds us somewhat else, person\", \"Label\": 0, \"Class\": \"NORMAL\"}, {\"Sentence\": \" Character, reality, reminds nothing else; takes place whole creation\", \"Label\": 0, \"Class\": \"NORMAL\"}, {\"Sentence\": \" The man must much, must make circumstances indifferent\", \"Label\": 0, \"Class\": \"NORMAL\"}, {\"Sentence\": \" Every true man cause, country, age; requires infinite spaces numbers time fully accomplish design; \\u2014 posterity seem follow steps train clients\", \"Label\": 0, \"Class\": \"NORMAL\"}, {\"Sentence\": \" A man Caesar born, ages Roman Empire\", \"Label\": 0, \"Class\": \"NORMAL\"}, {\"Sentence\": \" Christ born, millions minds grow cleave genius, confounded virtue possible man\", \"Label\": 0, \"Class\": \"NORMAL\"}, {\"Sentence\": \" An institution lengthened shadow one man; as, Monachism, Hermit Antony; Reformation, Luther; Quakerism, Fox; Methodism, Wesley; Abolition, Clarkson\", \"Label\": 0, \"Class\": \"NORMAL\"}, {\"Sentence\": \" Scipio, Milton called height Rome; history resolves easily biography stout earnest persons\", \"Label\": 0, \"Class\": \"NORMAL\"}, {\"Sentence\": \"Standard automatic speech recognizers output unstructured streams words\", \"Label\": 0, \"Class\": \"NORMAL\"}, {\"Sentence\": \" They neither perform proper segmentation output sentences, predict punctuation symbols\", \"Label\": 0, \"Class\": \"NORMAL\"}, {\"Sentence\": \" The unavailable punctuations sentence boundaries transcribed speech texts create barriers many subsequent processing tasks, summarization, information extraction, question answering machine translation\", \"Label\": 0, \"Class\": \"NORMAL\"}, {\"Sentence\": \" Thus, segmentation long texts necessary many real applications\", \"Label\": 0, \"Class\": \"NORMAL\"}, {\"Sentence\": \" For example, speech-to-speech translation, continuously transcribed speech texts need segmented fed subsequent machine translation systems (Takezawa et al\", \"Label\": 0, \"Class\": \"NORMAL\"}, {\"Sentence\": \", 1998; Nakamura, 2009)\", \"Label\": 0, \"Class\": \"NORMAL\"}, {\"Sentence\": \" This current machine translation (MT) systems perform translation sentence level, various models used MT trained segmented sentences many algorithms inside MT exponential complexity regard length inputs\", \"Label\": 0, \"Class\": \"NORMAL\"}, {\"Sentence\": \"The punctuation prediction problem attracted research interest speech processing community natural language processing community\", \"Label\": 0, \"Class\": \"NORMAL\"}, {\"Sentence\": \" Most previous work primarily exploits local features statistical models lexicons, prosodic cues hidden event language model (HELM) (Liu et al\", \"Label\": 0, \"Class\": \"NORMAL\"}, {\"Sentence\": \", 2005; Matusov et al\", \"Label\": 0, \"Class\": \"NORMAL\"}, {\"Sentence\": \", 2006; Huang Zweig, 2002; Stolcke Shriberg, 1996)\", \"Label\": 0, \"Class\": \"NORMAL\"}, {\"Sentence\": \"The word-level models integrating local features narrow views input could achieve satisfied performance due limited context information access (Favre et al\", \"Label\": 0, \"Class\": \"NORMAL\"}, {\"Sentence\": \", 2008)\", \"Label\": 0, \"Class\": \"NORMAL\"}, {\"Sentence\": \" Naturally, global contexts required model punctuation prediction, especially long-range dependencies\", \"Label\": 0, \"Class\": \"NORMAL\"}, {\"Sentence\": \" For instance, English question sentences, ending question mark long-range dependent initial phrases (Lu Ng, 2010), could Figure 1\", \"Label\": 0, \"Class\": \"NORMAL\"}, {\"Sentence\": \"There work trying incorporate syntactic features broaden view hypotheses punctuation prediction models (Roark et al\", \"Label\": 0, \"Class\": \"NORMAL\"}, {\"Sentence\": \", 2006; Favre et al\", \"Label\": 0, \"Class\": \"NORMAL\"}, {\"Sentence\": \", 2008)\", \"Label\": 0, \"Class\": \"NORMAL\"}, {\"Sentence\": \" In methods, punctuation prediction treated separated post-procedure parsing, may suffer problem error propagation\", \"Label\": 0, \"Class\": \"NORMAL\"}, {\"Sentence\": \" In addition, approaches able incrementally process inputs efficient long inputs, especially cases long transcribed speech texts presentations number streaming words could larger hundreds thousands\", \"Label\": 0, \"Class\": \"NORMAL\"}, {\"Sentence\": \" In paper, propose jointly performing punctuation prediction transition-based dependency parsing transcribed speech text\", \"Label\": 0, \"Class\": \"NORMAL\"}, {\"Sentence\": \" When transition-based parsing consumes stream words left right shift-reduce decoding algorithm, punctuation symbols predicted word based contexts parsing tree\", \"Label\": 0, \"Class\": \"NORMAL\"}, {\"Sentence\": \"Two models proposed cause punctuation prediction interact transition actions parsing\", \"Label\": 0, \"Class\": \"NORMAL\"}, {\"Sentence\": \"One conduct transition actions parsing followed punctuation predictions cascaded way\", \"Label\": 0, \"Class\": \"NORMAL\"}, {\"Sentence\": \" The associate conventional transition actions parsing punctuation perditions, predicted punctuations directly inferred parsing tree\", \"Label\": 0, \"Class\": \"NORMAL\"}, {\"Sentence\": \"Our models linear complexity capable handling streams words length\", \"Label\": 0, \"Class\": \"NORMAL\"}, {\"Sentence\": \" In addition, computation models use rich set syntactic features, improve complicated punctuation predictions global view, especially long range dependencies\", \"Label\": 0, \"Class\": \"NORMAL\"}, {\"Sentence\": \"Figure 1 shows example parsing helps punctuation prediction transcribed speech text\", \"Label\": 0, \"Class\": \"NORMAL\"}, {\"Sentence\": \" As illustrated Figure 1(b), two commas predicted preceding words act adverbial modifiers (advmod) parsing\", \"Label\": 0, \"Class\": \"NORMAL\"}, {\"Sentence\": \"The period word menu predicted parsing adverbial clause modifier (advcl) completed\", \"Label\": 0, \"Class\": \"NORMAL\"}, {\"Sentence\": \" The question mark end input determined direct object modifier (dobj) identified, together long range clue auxiliary word occurs nominal subject (nsubj)\", \"Label\": 0, \"Class\": \"NORMAL\"}, {\"Sentence\": \" Eventually, two segmentations formed according punctuation prediction results, shown Figure 1(c)\", \"Label\": 0, \"Class\": \"NORMAL\"}, {\"Sentence\": \" The training data used models adapted Treebank data excluding punctuations keeping punctuation contexts, simulate unavailable annotated transcribed speech texts\", \"Label\": 0, \"Class\": \"NORMAL\"}, {\"Sentence\": \" In decoding, beam search used get optimal punctuation prediction results\", \"Label\": 0, \"Class\": \"NORMAL\"}, {\"Sentence\": \"We conduct experiments IWSLT data TDT4 test data sets\", \"Label\": 0, \"Class\": \"NORMAL\"}, {\"Sentence\": \"The experimental results show method achieve higher performance CRF-based baseline method\", \"Label\": 0, \"Class\": \"NORMAL\"}, {\"Sentence\": \"The paper structured follows: Section 2 conducts survey related work\", \"Label\": 0, \"Class\": \"NORMAL\"}, {\"Sentence\": \"The transitionbased dependency parsing introduced Section 3\", \"Label\": 0, \"Class\": \"NORMAL\"}, {\"Sentence\": \"We explain approach predicting punctuations transcribed speech texts Section 4\", \"Label\": 0, \"Class\": \"NORMAL\"}, {\"Sentence\": \"Section 5 gives results experiment\", \"Label\": 0, \"Class\": \"NORMAL\"}, {\"Sentence\": \"The conclusion future work given Section 6\", \"Label\": 0, \"Class\": \"NORMAL\"}, {\"Sentence\": \"Sentence boundary detection punctuation prediction extensively studied speech processing field attracted research interest natural language processing field well\", \"Label\": 0, \"Class\": \"NORMAL\"}, {\"Sentence\": \"Most previous work exploits local features task\", \"Label\": 0, \"Class\": \"NORMAL\"}, {\"Sentence\": \" Kim Woodland (2001), Huang Zweig (2002), Christensen et al\", \"Label\": 0, \"Class\": \"NORMAL\"}, {\"Sentence\": \" (2001), Liu et al\", \"Label\": 0, \"Class\": \"NORMAL\"}, {\"Sentence\": \" (2005) integrate prosodic features (pitch, pause duration, etc\", \"Label\": 0, \"Class\": \"NORMAL\"}, {\"Sentence\": \") lexical features (words, n-grams, etc\", \"Label\": 0, \"Class\": \"NORMAL\"}, {\"Sentence\": \") predict punctuation symbols speech recognition, Huang Zweig (2002) uses maximum entropy model, Christensen et al\", \"Label\": 0, \"Class\": \"NORMAL\"}, {\"Sentence\": \" (2001) focus finite state multi-layer perceptron methods, Liu et al\", \"Label\": 0, \"Class\": \"NORMAL\"}, {\"Sentence\": \"(2005) uses conditional random fields\", \"Label\": 0, \"Class\": \"NORMAL\"}, {\"Sentence\": \" However, scenarios prosodic cues available due inaccessible original raw speech waveforms\", \"Label\": 0, \"Class\": \"NORMAL\"}, {\"Sentence\": \"Matusov et al\", \"Label\": 0, \"Class\": \"NORMAL\"}, {\"Sentence\": \"(2006) integrate segmentation features log-linear model statistical machine translation (SMT) framework improve translation performance translating transcribed speech texts\", \"Label\": 0, \"Class\": \"NORMAL\"}, {\"Sentence\": \"Lu Ng (2010) uses dynamic conditional random fields perform sentence boundary sentence type prediction\", \"Label\": 0, \"Class\": \"NORMAL\"}, {\"Sentence\": \"They achieved promising results English Chinese transcribed speech texts\", \"Label\": 0, \"Class\": \"NORMAL\"}, {\"Sentence\": \" The work exploits local features, limited capturing long range dependencies punctuation prediction\", \"Label\": 0, \"Class\": \"NORMAL\"}, {\"Sentence\": \" It natural incorporate global knowledge, syntactic information, improve punctuation prediction performance\", \"Label\": 0, \"Class\": \"NORMAL\"}, {\"Sentence\": \"Roark et al\", \"Label\": 0, \"Class\": \"NORMAL\"}, {\"Sentence\": \"(2006) use rich set non-local features including parser scores re-rank full segmentations\", \"Label\": 0, \"Class\": \"NORMAL\"}, {\"Sentence\": \"Favre et al\", \"Label\": 0, \"Class\": \"NORMAL\"}, {\"Sentence\": \"(2008) integrate syntactic information PCFG parser log-linear combine local features sentence segmentation\", \"Label\": 0, \"Class\": \"NORMAL\"}, {\"Sentence\": \" The punctuation prediction works performed post-procedure step parsing, parse tree needs built advance\", \"Label\": 0, \"Class\": \"NORMAL\"}, {\"Sentence\": \" As parsing stream words transcribed speech text exponentially complex, approaches feasible short input processing\", \"Label\": 0, \"Class\": \"NORMAL\"}, {\"Sentence\": \" Unlike works, incorporate punctuation prediction parsing process left right input without length limitations\", \"Label\": 0, \"Class\": \"NORMAL\"}, {\"Sentence\": \" Numerous dependency parsing algorithms proposed natural language processing community, including transition-based graph-based dependency parsing\", \"Label\": 0, \"Class\": \"NORMAL\"}, {\"Sentence\": \" Compared graph-based parsing, transition-based parsing offer linear time complexity easily leverage non-local features models (Yamada Matsumoto, 2003; Nivre et al\", \"Label\": 0, \"Class\": \"NORMAL\"}, {\"Sentence\": \", 2006b; Zhang Clark, 2008; Huang Sagae, 2010)\", \"Label\": 0, \"Class\": \"NORMAL\"}, {\"Sentence\": \" Starting work (Zhang Nivre, 2011), paper extend transition-based dependency parsing sentence-level stream words integrate parsing punctuation prediction\", \"Label\": 0, \"Class\": \"NORMAL\"}, {\"Sentence\": \"Joint POS tagging transition-based dependency parsing studied (Hatori et al\", \"Label\": 0, \"Class\": \"NORMAL\"}, {\"Sentence\": \", 2011; Bohnet Nivre, 2012)\", \"Label\": 0, \"Class\": \"NORMAL\"}, {\"Sentence\": \" The improvements reported joint model compared pipeline model Chinese richly inflected languages, shows also makes sense jointly perform punctuation prediction parsing, although two tasks POS tagging punctuation prediction different two ways: 1)\", \"Label\": 0, \"Class\": \"NORMAL\"}, {\"Sentence\": \"The former usually works well-formed single sentence latter needs process multiple sentences lengthy\", \"Label\": 0, \"Class\": \"NORMAL\"}, {\"Sentence\": \"2)\", \"Label\": 0, \"Class\": \"NORMAL\"}, {\"Sentence\": \"POS tags must-have features parsing punctuations not\", \"Label\": 0, \"Class\": \"NORMAL\"}, {\"Sentence\": \"The parsing quality former sensitive performance entire task latter\", \"Label\": 0, \"Class\": \"NORMAL\"}, {\"Sentence\": \"Orlando Bloom Miranda Kerr still love Actors Orlando Bloom Model Miranda Kerr want go separate ways\", \"Label\": 0, \"Class\": \"NORMAL\"}, {\"Sentence\": \" However , interview , Bloom said Kerr still love \", \"Label\": 0, \"Class\": \"NORMAL\"}, {\"Sentence\": \"Miranda Kerr Orlando Bloom parents two-year-old Flynn\", \"Label\": 0, \"Class\": \"NORMAL\"}, {\"Sentence\": \" Actor Orlando Bloom announced separation wife , supermodel Miranda Kerr \", \"Label\": 0, \"Class\": \"NORMAL\"}, {\"Sentence\": \" In interview US journalist Katie Couric , broadcast Friday (local time), Bloom said , &quot; sometimes life &apos;t go exactly plan hope &quot; \", \"Label\": 0, \"Class\": \"NORMAL\"}, {\"Sentence\": \" He Kerr still love , emphasised 36-year-old \", \"Label\": 0, \"Class\": \"NORMAL\"}, {\"Sentence\": \"&quot; We &apos;re going support one another love parents Flynn &quot;\", \"Label\": 0, \"Class\": \"NORMAL\"}, {\"Sentence\": \"Kerr Bloom married since 2010\", \"Label\": 0, \"Class\": \"NORMAL\"}, {\"Sentence\": \"Their son Flynn born 2011\", \"Label\": 0, \"Class\": \"NORMAL\"}, {\"Sentence\": \" Jet makers feud seat width big orders stake A row flared leading plane makers width tourist-class seats long-distance flights , setting tone bitter confrontation month &apos;s Dubai Airshow \", \"Label\": 0, \"Class\": \"NORMAL\"}, {\"Sentence\": \" The dispute focuses width seats provided long-haul flights economy passengers - always ones courted airlines , whose allocated space holds key efficiency claims latest jets offered Airbus SAS Boeing Co \", \"Label\": 0, \"Class\": \"NORMAL\"}, {\"Sentence\": \" Airbus week called industry standard would provide seat least 18 inches (46 cm) wide economy cabins , U\", \"Label\": 0, \"Class\": \"NORMAL\"}, {\"Sentence\": \"S\", \"Label\": 0, \"Class\": \"NORMAL\"}, {\"Sentence\": \"arch-rival Boeing says airlines decide\", \"Label\": 0, \"Class\": \"NORMAL\"}, {\"Sentence\": \" The dispute comes plane makers vie sell ever-larger versions twin-engined long-distance aircraft , potentially record orders expected November 17-21 event \", \"Label\": 0, \"Class\": \"NORMAL\"}, {\"Sentence\": \"How back plane laid - particularly whether seating 9 10 abreast - central economic performance claims made new &quot; mini-jumbo &quot; jet designs\", \"Label\": 0, \"Class\": \"NORMAL\"}, {\"Sentence\": \"Boeing says revamped &quot; 777X &quot; hold 406 people based economy seats 17 inches wide set 10 row\", \"Label\": 0, \"Class\": \"NORMAL\"}, {\"Sentence\": \"Airbus says competing version A350 carry 350 people 18-inch-wide economy seat laid 9 abreast\", \"Label\": 0, \"Class\": \"NORMAL\"}, {\"Sentence\": \"Plane giants often trade blows technical matters advertising trade press\", \"Label\": 0, \"Class\": \"NORMAL\"}, {\"Sentence\": \" Now , Airbus appealing directly public ahead Dubai Airshow , 777X expected dominate 100 orders \", \"Label\": 0, \"Class\": \"NORMAL\"}, {\"Sentence\": \" It recently previewed may start new ad war showing financiers slide illustrating three people squashed together restaurant , titled &quot; Would You Accept This ? &quot; &quot; Boeing proposing long-distance flying seats narrower regional turbo-props , &quot; said Airbus sales chief John Leahy \", \"Label\": 0, \"Class\": \"NORMAL\"}, {\"Sentence\": \" As diets change , people get bigger plane seating radically changed \", \"Label\": 0, \"Class\": \"NORMAL\"}, {\"Sentence\": \" Between early 1970s , Boeing 747 jumbo defined modern long-haul travel , turn century , weight average American 40- 49-year-old male increased 10 per cent , according U\", \"Label\": 0, \"Class\": \"NORMAL\"}, {\"Sentence\": \"S\", \"Label\": 0, \"Class\": \"NORMAL\"}, {\"Sentence\": \"Health Department Data\", \"Label\": 0, \"Class\": \"NORMAL\"}, {\"Sentence\": \"The waist average 21st-century American male 39\", \"Label\": 0, \"Class\": \"NORMAL\"}, {\"Sentence\": \"7 inches , according U\", \"Label\": 0, \"Class\": \"NORMAL\"}, {\"Sentence\": \"S\", \"Label\": 0, \"Class\": \"NORMAL\"}, {\"Sentence\": \"health statistics\", \"Label\": 0, \"Class\": \"NORMAL\"}, {\"Sentence\": \" Airbus says rival sticking seat concept 1950s , average girth newly christened &quot; jet set &quot; narrower \", \"Label\": 0, \"Class\": \"NORMAL\"}, {\"Sentence\": \"Airbus says commissioned research suggesting extra inch seat width improves sleep quality 53 per cent\", \"Label\": 0, \"Class\": \"NORMAL\"}, {\"Sentence\": \"Boeing disputes Airbus &apos;s figures seat measurements says manufacturers step decisions airlines balance fares facilities\", \"Label\": 0, \"Class\": \"NORMAL\"}, {\"Sentence\": \"It also says research shows cabin experience depends width seat\", \"Label\": 0, \"Class\": \"NORMAL\"}, {\"Sentence\": \" &quot; It really comes providing flexibility airlines allowing things believe need successful , &quot; said Boeing cabins expert Kent Craver \", \"Label\": 0, \"Class\": \"NORMAL\"}, {\"Sentence\": \"They &apos;t want us dictate makes profitable\", \"Label\": 0, \"Class\": \"NORMAL\"}, {\"Sentence\": \"They know business better anyone else\", \"Label\": 0, \"Class\": \"NORMAL\"}, {\"Sentence\": \" For flyers elbow room , suppliers increasingly issue could affect earnings \", \"Label\": 0, \"Class\": \"NORMAL\"}, {\"Sentence\": \" Behind dispute race plane orders least $ 700-billion estimated business list prices coming decades , enough tip scales U\", \"Label\": 0, \"Class\": \"NORMAL\"}, {\"Sentence\": \"S\", \"Label\": 0, \"Class\": \"NORMAL\"}, {\"Sentence\": \"European exports\", \"Label\": 0, \"Class\": \"NORMAL\"}, {\"Sentence\": \" As Reuters first reported July , seat layout exactly drives battle latest jets \", \"Label\": 0, \"Class\": \"NORMAL\"}, {\"Sentence\": \" Both Airbus Boeing claim 20 per cent better efficiency per seat latest twin-engined long-haul designs market leader segment , 365-seat Boeing 777-300ER \", \"Label\": 0, \"Class\": \"NORMAL\"}, {\"Sentence\": \"Boeing &apos;s performance claims depend part comparing 10-abreast 777X original 9-abreast 777 design\", \"Label\": 0, \"Class\": \"NORMAL\"}, {\"Sentence\": \"The gain unit costs blunted compared 10-abreast use\", \"Label\": 0, \"Class\": \"NORMAL\"}, {\"Sentence\": \" &quot; The reason Boeing cram seats make plane competitive products , &quot; said Kevin Keniston , head passenger comfort Europe &apos;s Airbus \", \"Label\": 0, \"Class\": \"NORMAL\"}, {\"Sentence\": \" On hand , analysts say full 10-seat-per-row cabins existing 777s suggest many passengers voting denser layout , may go hand hand cheaper fares \", \"Label\": 0, \"Class\": \"NORMAL\"}, {\"Sentence\": \" &quot; Eighteen inches seat width would great passengers , reality business point Airbus proposal driven threat 777 , &quot; said cabin interiors expert Mary Kirby , founder editor Runway Girl Network \", \"Label\": 0, \"Class\": \"NORMAL\"}, {\"Sentence\": \"Airbus Boeing supply seats offer catalogue suppliers airlines choose\", \"Label\": 0, \"Class\": \"NORMAL\"}, {\"Sentence\": \"Globe-trotting jet sellers even carry tape measures check competing layouts\", \"Label\": 0, \"Class\": \"NORMAL\"}, {\"Sentence\": \" While boasting comfort , builders also offer jets high-density layouts low-cost airlines regional travel \", \"Label\": 0, \"Class\": \"NORMAL\"}, {\"Sentence\": \"Airbus offers 10-abreast A350 says yet sold\", \"Label\": 0, \"Class\": \"NORMAL\"}, {\"Sentence\": \" Until recently , Airbus stressing need cabin customization offering wider aisle seats jets \", \"Label\": 0, \"Class\": \"NORMAL\"}, {\"Sentence\": \" Without support maker large modern jets , experts say call new industry standard unlikely fly , could distract wave 777X sales \", \"Label\": 0, \"Class\": \"NORMAL\"}, {\"Sentence\": \"The FAA easing restrictions use electronic gadgets airplanes - though chatting cellphones still prohibited\", \"Label\": 0, \"Class\": \"NORMAL\"}, {\"Sentence\": \" Warplanes attack store Russian missiles port city Latakia , official says \", \"Label\": 0, \"Class\": \"NORMAL\"}, {\"Sentence\": \"It &apos;s apparent continuation Israel &apos;s campaign keep arms proliferating Mideast\", \"Label\": 0, \"Class\": \"NORMAL\"}, {\"Sentence\": \"A federal appeals court blocks judge &apos;s ruling NYPD &apos;s controversial tactic discriminates minorities\", \"Label\": 0, \"Class\": \"NORMAL\"}, {\"Sentence\": \"Nearly 100 African migrants hoping travel Algeria die thirst two trucks break middle Sahara\", \"Label\": 0, \"Class\": \"NORMAL\"}, {\"Sentence\": \" Experts say violence left 14 adults seven children dead nothing random chance , sign growing violence America \", \"Label\": 0, \"Class\": \"NORMAL\"}, {\"Sentence\": \"Rather rattled U\", \"Label\": 0, \"Class\": \"NORMAL\"}, {\"Sentence\": \"S\", \"Label\": 0, \"Class\": \"NORMAL\"}, {\"Sentence\": \" government shutdown , investors kept focus probably matters more: Federal Reserve \", \"Label\": 0, \"Class\": \"NORMAL\"}, {\"Sentence\": \" The California woman plans challenge may first-of-its-kind citation , saying Internet-connected eyewear makes navigation easier \", \"Label\": 0, \"Class\": \"NORMAL\"}, {\"Sentence\": \"Police say video appears show Mayor Rob Ford smoking crack pipe\", \"Label\": 0, \"Class\": \"NORMAL\"}, {\"Sentence\": \"Even close allies keep things one another - work every angle find &apos;s held back\", \"Label\": 0, \"Class\": \"NORMAL\"}, {\"Sentence\": \" The Vatican wants know Catholic parishes around globe handle sensitive issues like contraception , divorce gay couples \", \"Label\": 0, \"Class\": \"NORMAL\"}, {\"Sentence\": \" Persons seriously injured following collision Early Friday afternoon , two car drivers seriously injured head-on collision Landesstra\\u00dfe 44 (a rural road)\", \"Label\": 0, \"Class\": \"NORMAL\"}, {\"Sentence\": \" The police completely blocked road immediately , initially could make much comment cause accident \", \"Label\": 0, \"Class\": \"NORMAL\"}, {\"Sentence\": \" However , mention various witness statements first assessed \", \"Label\": 0, \"Class\": \"NORMAL\"}, {\"Sentence\": \"What certain 19-year-old female driver VW Golf driving direction Revensdorf 38-year-old man Gettorf came towards Hyundai\", \"Label\": 0, \"Class\": \"NORMAL\"}, {\"Sentence\": \" The two vehicles collided , whereby woman severely stuck took fire service almost half hour free vehicle wreckage \", \"Label\": 0, \"Class\": \"NORMAL\"}, {\"Sentence\": \"Initially actual cause accident remained unclear\", \"Label\": 0, \"Class\": \"NORMAL\"}, {\"Sentence\": \"Both unfortunate parties taken nearby hospitals\", \"Label\": 0, \"Class\": \"NORMAL\"}, {\"Sentence\": \"The road remained fully blocked around two hours\", \"Label\": 0, \"Class\": \"NORMAL\"}, {\"Sentence\": \"Fire crews called rescue lost puppy got stuck 50ft ground precarious ledge quarry Cocker spaniel Ruby run minor road crash She spotted three days later dog walker trapped quarry Firefighters abseil cliff face pluck dog certain death A puppy lucky escape fire crews called lift safety somehow got stuck 50ft precarious cliff ledge\", \"Label\": 0, \"Class\": \"NORMAL\"}, {\"Sentence\": \"Nine month-old cocker spaniel Ruby run involved road crash Sunday afternoon survived three days alone rescued quarry Wednesday\", \"Label\": 0, \"Class\": \"NORMAL\"}, {\"Sentence\": \" Her owners Scott Alderson , 25 , girlfriend Becky Hall , 20 , Flappit Quarry Denholme , West Yorkshire , reunited Ruby thanked West Yorkshire Fire Rescue Service \", \"Label\": 0, \"Class\": \"NORMAL\"}, {\"Sentence\": \"They searched frantically missing dog posted appeals social networking sites ran quarry following minor accident\", \"Label\": 0, \"Class\": \"NORMAL\"}, {\"Sentence\": \"At around 2\", \"Label\": 0, \"Class\": \"NORMAL\"}, {\"Sentence\": \"15pm Wednesday , eagle-eyed dog walker spotted Ruby ledge quarry , stranded 50ft \", \"Label\": 0, \"Class\": \"NORMAL\"}, {\"Sentence\": \"A Technical Rescue Team Cleckheaton Fire Station rushed scene abseiled rescue Ruby used pet tube transport cliff\", \"Label\": 0, \"Class\": \"NORMAL\"}, {\"Sentence\": \"Specialist Technical Rescue Officer Andy Clayton said: &apos; She precarious situation\", \"Label\": 0, \"Class\": \"NORMAL\"}, {\"Sentence\": \"She right middle cliff face - 50ft top bottom\", \"Label\": 0, \"Class\": \"NORMAL\"}, {\"Sentence\": \"She move muscle rescue - frozen solid\", \"Label\": 0, \"Class\": \"NORMAL\"}, {\"Sentence\": \"But fine\", \"Label\": 0, \"Class\": \"NORMAL\"}, {\"Sentence\": \"She eating biscuits afterwards\", \"Label\": 0, \"Class\": \"NORMAL\"}, {\"Sentence\": \"This unusual call-out\", \"Label\": 0, \"Class\": \"NORMAL\"}, {\"Sentence\": \"The fact dog spotted unbelievable\", \"Label\": 0, \"Class\": \"NORMAL\"}, {\"Sentence\": \"Specialist Technical Rescue Officer Peter Lau said: &quot; Ruby lucky escape\", \"Label\": 0, \"Class\": \"NORMAL\"}, {\"Sentence\": \"&quot; The potential could seriously injured worse\", \"Label\": 0, \"Class\": \"NORMAL\"}, {\"Sentence\": \"Ruby taken vets check-up found fine exhaustion dehydration\", \"Label\": 0, \"Class\": \"NORMAL\"}, {\"Sentence\": \" Miss Hall , Halifax , West Yorkshire , said: &quot; Watching rescue terrifying \", \"Label\": 0, \"Class\": \"NORMAL\"}, {\"Sentence\": \"&quot; I could believe first place\", \"Label\": 0, \"Class\": \"NORMAL\"}, {\"Sentence\": \"It amazing get back arms\", \"Label\": 0, \"Class\": \"NORMAL\"}, {\"Sentence\": \"The vet said became exhausted collapsed would probably fallen\", \"Label\": 0, \"Class\": \"NORMAL\"}, {\"Sentence\": \"The firefighters amazing\", \"Label\": 0, \"Class\": \"NORMAL\"}, {\"Sentence\": \"It really daring\", \"Label\": 0, \"Class\": \"NORMAL\"}, {\"Sentence\": \"We grateful every single one absolutely tremendous\", \"Label\": 0, \"Class\": \"NORMAL\"}, {\"Sentence\": \" Mr Alderson , Keighley , added: &quot; We scared might fall stayed \", \"Label\": 0, \"Class\": \"NORMAL\"}, {\"Sentence\": \"&quot; The firefighters brilliant\", \"Label\": 0, \"Class\": \"NORMAL\"}, {\"Sentence\": \"I &apos;t believe\", \"Label\": 0, \"Class\": \"NORMAL\"}, {\"Sentence\": \" Report: Obama campaign considered dumping Biden Hillary Clinton President Barack Obama &apos;s closest advisers secretly considered replacing Vice President Joe Biden Hillary Clinton 2012 ticket , according New York Times \", \"Label\": 0, \"Class\": \"NORMAL\"}, {\"Sentence\": \" The revelation notable bombshell Mark Halperin John Heilemann &apos;s heavily anticipated 2012 campaign tome , &quot; Double Down: Game Change 2012 \", \"Label\": 0, \"Class\": \"NORMAL\"}, {\"Sentence\": \"&quot; The Times obtained copy forthcoming book reported Thursday evening President &apos;s top aides conducted &quot; extensive group-sessions polling late 2011 &quot; gauge whether dumping Biden could help bolster Obama &apos;s waning re-election hopes\", \"Label\": 0, \"Class\": \"NORMAL\"}, {\"Sentence\": \" According Times &apos; national political correspondent Jonathan Martin , book provides thorough account effort senior officials inside campaign White House , namely former White House Chief Staff Bill Daley , measure effect swapping former Secretary State Clinton Vice President would polls \", \"Label\": 0, \"Class\": \"NORMAL\"}, {\"Sentence\": \"The potential switch closely guarded secret within Chicago campaign infrastructure inside Oval Office\", \"Label\": 0, \"Class\": \"NORMAL\"}, {\"Sentence\": \" Only half dozen President &apos;s closest advisers -- including Daley , former Obama campaign chief Jim Messina , former White House senior advisers David Axelrod David Plouffe -- knew change consideration \", \"Label\": 0, \"Class\": \"NORMAL\"}, {\"Sentence\": \" &quot; Double Down &quot; claims Daley spearheaded effort replace Biden , despite &quot; close personal rapport , &quot; ultimately deciding move data showed adding Clinton ticket &apos;t &quot; materially improve Obama &apos;s odds \", \"Label\": 0, \"Class\": \"NORMAL\"}, {\"Sentence\": \" &quot; In interview Martin , Daley confirmed administration fact consider replacing Biden Clinton \", \"Label\": 0, \"Class\": \"NORMAL\"}, {\"Sentence\": \" &quot; I vocal looking whole bunch things , one , &quot; Daley told paper \", \"Label\": 0, \"Class\": \"NORMAL\"}, {\"Sentence\": \" You remember , point President awful shape , like , &quot; Holy Christ , ? &quot; While Daley characterized research &quot; due diligence , &quot; Martin told CNN &apos;s Anderson Cooper re-election campaign made significant investment finding whether move would pay dividends polls \", \"Label\": 0, \"Class\": \"NORMAL\"}, {\"Sentence\": \" &quot; Campaigns &apos;t spend kind money polling focus groups unless &apos;re seriously considering something , &quot; Martin said AC360 \", \"Label\": 0, \"Class\": \"NORMAL\"}, {\"Sentence\": \" It &apos;s unclear , however , whether Obama knew team exploring swap \", \"Label\": 0, \"Class\": \"NORMAL\"}, {\"Sentence\": \"Martin told CNN asked Daley whether then-boss knew potential shuffle\", \"Label\": 0, \"Class\": \"NORMAL\"}, {\"Sentence\": \" While Daley said &apos;t think President &quot; aware &quot; potential change , former chief staff admitted &apos;s &quot; possible &quot; Obama knew \", \"Label\": 0, \"Class\": \"NORMAL\"}, {\"Sentence\": \"Martin added &quot; Double Down &quot; definitively answer whether political probing reached Obama &apos;s desk\", \"Label\": 0, \"Class\": \"NORMAL\"}, {\"Sentence\": \"Cooper asked Martin whether seriously thought Obama know research dumping Biden ticket\", \"Label\": 0, \"Class\": \"NORMAL\"}, {\"Sentence\": \" &quot; Possibly , &quot; Martin replied \", \"Label\": 0, \"Class\": \"NORMAL\"}, {\"Sentence\": \" A day thanks MGV (Male Choral Society) Dinker This year &quot; Friedrich Wilhelm Dinker &quot; MGV issued invitation 165th anniversary celebration , 52 guests , active singers wives happy accept \", \"Label\": 0, \"Class\": \"NORMAL\"}, {\"Sentence\": \" In clubhouse &quot; Witteborg &quot; Inn Dinker , present enjoyed friendly get-together name music \", \"Label\": 0, \"Class\": \"NORMAL\"}, {\"Sentence\": \" Traditionally , anniversary celebration also always fitting occasion bestow honours \", \"Label\": 0, \"Class\": \"NORMAL\"}, {\"Sentence\": \" This time around , secretary Rolf Wagener delighted receive special &quot; Singer Year &quot; award \", \"Label\": 0, \"Class\": \"NORMAL\"}, {\"Sentence\": \" &quot; Not kept countless records us , also done much running around us , offer sincere thanks , &quot; said Choir Chairman Erich Schlotmann \", \"Label\": 0, \"Class\": \"NORMAL\"}, {\"Sentence\": \" The awards participation performances choir rehearsals means presentation &quot; activity posies &quot; , year went Choir Director Dieter Schulze , 44 attendance marks , followed Honorary Chairman Horst Pier-Ribbert , Chairman , last year &apos;s &quot; Singer Year &quot; Friedrich Winkler , attended 42 times \", \"Label\": 0, \"Class\": \"NORMAL\"}, {\"Sentence\": \" Fifth place went Artur Br\\u00fcckner , responsible organising music copies \", \"Label\": 0, \"Class\": \"NORMAL\"}, {\"Sentence\": \" The Board Directors gave special thanks team managed innkeeper , Ange Pier-Ribbert , delighted present top class menu , Gerda Pier-Ribbert table decorations \", \"Label\": 0, \"Class\": \"NORMAL\"}, {\"Sentence\": \"The &quot; Friedrich-Wilhelm &quot; MGV meets regular choir rehearsals clubhouse every Tuesday 19: 45\", \"Label\": 0, \"Class\": \"NORMAL\"}, {\"Sentence\": \" &quot; New voices love sing welcome time , &quot; said Schlotmann \", \"Label\": 0, \"Class\": \"NORMAL\"}, {\"Sentence\": \" NSA revelations boost corporate paranoia state surveillance On mild day late August German police helicopter buzzed low US consulate Frankfurt , financial capital Germany \", \"Label\": 0, \"Class\": \"NORMAL\"}, {\"Sentence\": \" On instruction Office Protection Constitution (BfV), Germany &apos;s domestic intelligence agency , mission photograph rooftop US outpost , located less 5km European Central Bank Bundesbank \", \"Label\": 0, \"Class\": \"NORMAL\"}, {\"Sentence\": \"German media say BfV hoped identify presence listening antennas action prompted exchange US German foreign ministry Berlin\", \"Label\": 0, \"Class\": \"NORMAL\"}, {\"Sentence\": \" James Clapper , US Director National Intelligence , insisted September US use foreign intelligence capabilities &quot; steal trade secrets foreign companies behalf US companies enhance international competitiveness increase bottom line \", \"Label\": 0, \"Class\": \"NORMAL\"}, {\"Sentence\": \" &quot; But ever since Edward Snowden , contractor turned whistleblower , began releasing treasure trove US surveillance secrets , European governments business leaders longer sure whether take director word \", \"Label\": 0, \"Class\": \"NORMAL\"}, {\"Sentence\": \"Reports US National Security Agency spied Brazilian oil company Petrobras gained access data held US cloud providers including Google Yahoo ratcheted corporate paranoia state surveillance new highs\", \"Label\": 0, \"Class\": \"NORMAL\"}, {\"Sentence\": \" The final straw came revealed Chancellor Angela Merkel &apos;s phone bugged , possibly decade \", \"Label\": 0, \"Class\": \"NORMAL\"}, {\"Sentence\": \" If Europe &apos;s powerful person targeted , surely business leaders also potential targets \", \"Label\": 0, \"Class\": \"NORMAL\"}, {\"Sentence\": \"Snowden made transparent intensive collaboration US intelligence services companies\", \"Label\": 0, \"Class\": \"NORMAL\"}, {\"Sentence\": \"I think &apos;s conceivable data used mutual benefit\", \"Label\": 0, \"Class\": \"NORMAL\"}, {\"Sentence\": \" &quot; Germany must wake , &quot; says Oliver Gr\\u00fcn , president BITMi , represents small medium sized German IT companies \", \"Label\": 0, \"Class\": \"NORMAL\"}, {\"Sentence\": \" German companies believe US poses almost big risk China comes industrial espionage data theft , according survey published July EY , consultancy \", \"Label\": 0, \"Class\": \"NORMAL\"}, {\"Sentence\": \" In documentation leaked Mr Snowden , , however , evidence date US passed foreign companies &apos; trade secrets companies \", \"Label\": 0, \"Class\": \"NORMAL\"}, {\"Sentence\": \"Politicians expressed concern EU lacks certain IT internet capabilities strive reduce dependence US\", \"Label\": 0, \"Class\": \"NORMAL\"}, {\"Sentence\": \"Business leaders sceptical\", \"Label\": 0, \"Class\": \"NORMAL\"}, {\"Sentence\": \"Someone German parliament says build German Google\", \"Label\": 0, \"Class\": \"NORMAL\"}, {\"Sentence\": \"I shut eyes slowly open\", \"Label\": 0, \"Class\": \"NORMAL\"}, {\"Sentence\": null, \"Label\": 0, \"Class\": \"NORMAL\"}, {\"Sentence\": null, \"Label\": 0, \"Class\": \"NORMAL\"}, {\"Sentence\": \" &quot; That &apos;s way , &quot; Hasso Plattner , chairman German business software company SAP , says \", \"Label\": 0, \"Class\": \"NORMAL\"}, {\"Sentence\": \" If one wanted strong European IT industry , one &apos;t let die 20 years ago \", \"Label\": 0, \"Class\": \"NORMAL\"}, {\"Sentence\": \" Everything subsidised Germany , coal , cars farmers \", \"Label\": 0, \"Class\": \"NORMAL\"}, {\"Sentence\": \"Everything IT industry\", \"Label\": 0, \"Class\": \"NORMAL\"}, {\"Sentence\": \" Still , reach technical sophistication US spy agencies exposed Snowden revelations come shock companies previously thought biggest surveillance risk posed China \", \"Label\": 0, \"Class\": \"NORMAL\"}, {\"Sentence\": \"A big shift occurring cloud computing European executives become aware data stored US subject jurisdiction therefore potentially vulnerable\", \"Label\": 0, \"Class\": \"NORMAL\"}, {\"Sentence\": \" According survey carried Cloud Security Alliance , trade body , 10 per cent non-US members cancelled plans use US-based cloud provider revelations US Prism data mining programme \", \"Label\": 0, \"Class\": \"NORMAL\"}, {\"Sentence\": \" Jim Snabe , co-chief executive SAP , says: &quot; We see new question customers &apos;t come year ago - data stored guarantee stays physically jurisdiction \", \"Label\": 0, \"Class\": \"NORMAL\"}, {\"Sentence\": \"&quot; Many German executives argue latest reports simply confirmation already knew: powerful states want steal prized secrets data must therefore guarded costs\", \"Label\": 0, \"Class\": \"NORMAL\"}, {\"Sentence\": \"That economic spying takes place surprise\", \"Label\": 0, \"Class\": \"NORMAL\"}, {\"Sentence\": \"It always taken place\", \"Label\": 0, \"Class\": \"NORMAL\"}, {\"Sentence\": \" &quot; This topic many years &apos;t fundamentally changed current discussion , &quot; says Kurt Bock , chief executive chemical maker BASF \", \"Label\": 0, \"Class\": \"NORMAL\"}, {\"Sentence\": \" The Americans spy us commercial industrial level spy , national interest defend businesses \", \"Label\": 0, \"Class\": \"NORMAL\"}, {\"Sentence\": \" Corporate leaders generally keen boast countermeasures taken , case hands advantage attacker \", \"Label\": 0, \"Class\": \"NORMAL\"}, {\"Sentence\": \" For large companies , message long since drummed home picking free USB stick trade fair , leaving laptop unguarded hotel room unwise , say least \", \"Label\": 0, \"Class\": \"NORMAL\"}, {\"Sentence\": \" Ulrich Hackenberg , board member carmaker Audi , says standard practice years mobile phones collected board meetings cannot used remote listening devices \", \"Label\": 0, \"Class\": \"NORMAL\"}, {\"Sentence\": \"Germany &apos;s BfV advises executives consider using simple prepaid mobiles foreign trips risk smart phones compromised\", \"Label\": 0, \"Class\": \"NORMAL\"}, {\"Sentence\": \"The prepaid mobiles thrown away afterwards\", \"Label\": 0, \"Class\": \"NORMAL\"}, {\"Sentence\": \" However , concern small medium-sized companies remain vulnerable hacking surveillance \", \"Label\": 0, \"Class\": \"NORMAL\"}, {\"Sentence\": \" In Germany , many companies global market leaders particular niche \", \"Label\": 0, \"Class\": \"NORMAL\"}, {\"Sentence\": \" &quot; Small medium sized companies often lack experience , personnel financial resources protect corporate secrets effectively unauthorised access , &quot; BfV warns report \", \"Label\": 0, \"Class\": \"NORMAL\"}, {\"Sentence\": \"The US warns companies economic espionage countries\", \"Label\": 0, \"Class\": \"NORMAL\"}, {\"Sentence\": \" The US National Intelligence Estimate February named France alongside Russia Israel second tier offenders engage hacking economic intelligence , behind China , according The Washington Post \", \"Label\": 0, \"Class\": \"NORMAL\"}, {\"Sentence\": \" A board member German blue-chip company concurred comes economic espionage , &quot; French worst \", \"Label\": 0, \"Class\": \"NORMAL\"}, {\"Sentence\": \" &quot; Bernard Squarcini , former head French internal intelligence agency DCRI , quoted interview month saying: &quot; The services know perfectly well countries , even co-operate antiterrorist fight , spy allies \", \"Label\": 0, \"Class\": \"NORMAL\"}, {\"Sentence\": \" &quot; Gechingen: Absolute protection possible &quot; We want involve residents planning early stage possible , &quot; said Mayor Jens H\\u00e4u\\u00dfler , opening citizen &apos;s information event regarding flood protection concept Gechingen \", \"Label\": 0, \"Class\": \"NORMAL\"}, {\"Sentence\": \" Around 80 participants came Gemeindehalle (community hall) planned measures explained , express concerns submit ideas \", \"Label\": 0, \"Class\": \"NORMAL\"}, {\"Sentence\": \"H\\u00e4u\\u00dfler made clear: &quot; The final decisions made members Town Council &quot;\", \"Label\": 0, \"Class\": \"NORMAL\"}, {\"Sentence\": \" H\\u00e4u\\u00dfler commented flood found Gechingen unprepared 15 May 2009 , decisive event raising question protective measures future \", \"Label\": 0, \"Class\": \"NORMAL\"}, {\"Sentence\": \" A river basin study commissioned collaboration neighbouring community Aidlingen , forms basis flood protection concept Gechingen \", \"Label\": 0, \"Class\": \"NORMAL\"}, {\"Sentence\": \" &quot; The goal protection many developed plots land possible , &quot; said H\\u00e4u\\u00dfler \", \"Label\": 0, \"Class\": \"NORMAL\"}, {\"Sentence\": \" The basis plans need protection expected floods , statistically occurs every 100 years , according German Weather Service \", \"Label\": 0, \"Class\": \"NORMAL\"}, {\"Sentence\": \"Climate change taken account form allowance 15 per cent\", \"Label\": 0, \"Class\": \"NORMAL\"}, {\"Sentence\": \"In expert circles referred &quot; HQ 100aKlima &quot;\", \"Label\": 0, \"Class\": \"NORMAL\"}, {\"Sentence\": \" The masses water caused considerable damage Gechingen 2009 equivalent 1,000-year flood \", \"Label\": 0, \"Class\": \"NORMAL\"}, {\"Sentence\": \" &quot; There thing absolute protection , attempt make relative improvement , &quot; said H\\u00e4u\\u00dfler \", \"Label\": 0, \"Class\": \"NORMAL\"}, {\"Sentence\": \" In order achieve HQ 100aKlima protection , around four million \\u20ac must invested Gechingen , whereby town count State subsidy around 70 per cent \", \"Label\": 0, \"Class\": \"NORMAL\"}, {\"Sentence\": \" However , H\\u00e4u\\u00dfler indicated funding would provided overall concept developed \", \"Label\": 0, \"Class\": \"NORMAL\"}, {\"Sentence\": \" In order develop concept , town reliant cooperation citizens \", \"Label\": 0, \"Class\": \"NORMAL\"}, {\"Sentence\": \"A complex planning approval procedure must completed\", \"Label\": 0, \"Class\": \"NORMAL\"}, {\"Sentence\": \" In best case scenario , implementation could begin 2016 \", \"Label\": 0, \"Class\": \"NORMAL\"}, {\"Sentence\": \" Among measures , protection concept , (we reported) already presented Town Council past week , plans local measures tributary River Irm , running Stammheim Valley \", \"Label\": 0, \"Class\": \"NORMAL\"}, {\"Sentence\": \" In conjunction presentation flood protection concept , participants made use opportunity submit concerns \", \"Label\": 0, \"Class\": \"NORMAL\"}, {\"Sentence\": \" Among others , question raised embankments detention reservoirs longer planned protect location \", \"Label\": 0, \"Class\": \"NORMAL\"}, {\"Sentence\": \" Gregor K\\u00fchn , technical planner commissioned engineering company , H\\u00fcgelsheim-based &apos; Wald und Corbe &apos; , presented concept , emphasised required interplay proposed measures , order sum might achieve desired goal \", \"Label\": 0, \"Class\": \"NORMAL\"}, {\"Sentence\": \" Furthermore , economic solution must found , said Joachim Wald Wald und Corbe \", \"Label\": 0, \"Class\": \"NORMAL\"}, {\"Sentence\": \" There resentment among local residents old town , repeatedly suffer result overflowing canal network , even normal thunderstorms \", \"Label\": 0, \"Class\": \"NORMAL\"}, {\"Sentence\": \"The problem known administrative department initial measures already taken\", \"Label\": 0, \"Class\": \"NORMAL\"}, {\"Sentence\": \" However , H\\u00e4u\\u00dfler indicated guidelines canal systems different flood protection , must confused \", \"Label\": 0, \"Class\": \"NORMAL\"}, {\"Sentence\": \"The town obliged design canal network way withstand rainfall events every two three years\", \"Label\": 0, \"Class\": \"NORMAL\"}, {\"Sentence\": \"To make sewerage channels wider would gobble millions\", \"Label\": 0, \"Class\": \"NORMAL\"}, {\"Sentence\": \"$ 325m rescue package Tassie health The Federal Government insists $ 325 million rescue package Tasmania &apos;s ailing health system tough conditions attached ensure State Government &apos;t waste funds\", \"Label\": 0, \"Class\": \"NORMAL\"}, {\"Sentence\": \" Federal Health Minister Tanya Plibersek announced Commonwealth taking &quot; urgent action &quot; head crisis caused island state &apos;s aging population , higher rates chronic disease system constraints \", \"Label\": 0, \"Class\": \"NORMAL\"}, {\"Sentence\": \" The funding , four years , decided government consultations Tasmanian independent MP Andrew Wilkie \", \"Label\": 0, \"Class\": \"NORMAL\"}, {\"Sentence\": \" &quot; The Government come emergency rescue package believe address unique challenges faced state , &quot; Ms Plibersek said today \", \"Label\": 0, \"Class\": \"NORMAL\"}, {\"Sentence\": \"The $ 325 million package includes $ 31 million elective surgery blitz\", \"Label\": 0, \"Class\": \"NORMAL\"}, {\"Sentence\": \"An additional 2600 operations including orthopedic cataract surgery help clear backlog\", \"Label\": 0, \"Class\": \"NORMAL\"}, {\"Sentence\": \" There &apos;s also money walk-in clinics Hobart Launceston , better after-hospital care , medical specialist training , mental health services rollout personal electronic health record systems local hospitals \", \"Label\": 0, \"Class\": \"NORMAL\"}, {\"Sentence\": \" &quot; These investments respond ideas front-line clinicians told best ways tend Tasmania &apos;s health system , &quot; Ms Plibersek said \", \"Label\": 0, \"Class\": \"NORMAL\"}, {\"Sentence\": \"The minister insisted Tasmanian Government would face strict reporting accountability regime\", \"Label\": 0, \"Class\": \"NORMAL\"}, {\"Sentence\": \"The state would maintain current funding levels order receive Commonwealth cash report monthly spending extra funds\", \"Label\": 0, \"Class\": \"NORMAL\"}, {\"Sentence\": \"A three-person commission set ensure state delivering services effectively efficiently possible\", \"Label\": 0, \"Class\": \"NORMAL\"}, {\"Sentence\": \"Mr Wilkie today said $ 325 million would count little &quot; unless &apos;s followed genuine reform put Tasmania &apos;s public health system sustainable footing\", \"Label\": 0, \"Class\": \"NORMAL\"}, {\"Sentence\": \"&quot; He nevertheless praised Government responding request urgent assistance first raised Prime Minister beginning May\", \"Label\": 0, \"Class\": \"NORMAL\"}, {\"Sentence\": \" &quot; I &apos;m hopeful federal assistance package go long way towards taking state &apos;s public health system critical list , &quot; Mr Wilkie said \", \"Label\": 0, \"Class\": \"NORMAL\"}, {\"Sentence\": \"According State Government additional elective procedures largely reverse recent cuts\", \"Label\": 0, \"Class\": \"NORMAL\"}, {\"Sentence\": \"But federal Opposition health spokesman Peter Dutton believes today &apos;s announcement &quot; band-aid solution\", \"Label\": 0, \"Class\": \"NORMAL\"}, {\"Sentence\": \" &quot; &quot; The reason Labor State Government ripped $ 430 million health system , &quot; told ABC TV \", \"Label\": 0, \"Class\": \"NORMAL\"}, {\"Sentence\": \"You &apos;t state government ripping almost half-a-billion dollars Commonwealth put $ 300 million pretend &apos;s good news day\", \"Label\": 0, \"Class\": \"NORMAL\"}, {\"Sentence\": \"Mr Dutton called Ms Plibersek guarantee one dollar rescue package would spent additional bureaucracy\", \"Label\": 0, \"Class\": \"NORMAL\"}, {\"Sentence\": \" Mozambique security concerns mount powerful personalities clash With statue Samora Machel , Mozambique &apos;s founding president , staring , thousands people gathered central Maputo chant peace slogans rare public demonstration \", \"Label\": 0, \"Class\": \"NORMAL\"}, {\"Sentence\": \" &quot; We want peace back; want stability , &quot; said Vanessa de Sousa , chief executive investment company \", \"Label\": 0, \"Class\": \"NORMAL\"}, {\"Sentence\": \" Fearful future country , swapped corporate attire T-shirt emblazoned &quot; demand security &quot; Portuguese joined crowds capital &apos;s Independence Square Thursday \", \"Label\": 0, \"Class\": \"NORMAL\"}, {\"Sentence\": \" For two weeks , almost daily reports clashes government forces Renamo , worst skirmishes since peace deal 20 years ago \", \"Label\": 0, \"Class\": \"NORMAL\"}, {\"Sentence\": \" Renamo notorious rebel movement , initially backed white-ruled Rhodesia South Africa &apos;s apartheid government part efforts destabilise country &apos;s independent government \", \"Label\": 0, \"Class\": \"NORMAL\"}, {\"Sentence\": \" After 1992 peace deal , became opposition party \", \"Label\": 0, \"Class\": \"NORMAL\"}, {\"Sentence\": \" Analysts believe country unlikely slide back full-blown conflict , recent events unnerved foreign investors locals \", \"Label\": 0, \"Class\": \"NORMAL\"}, {\"Sentence\": \" The stakes high fast-growing economy discovery huge offshore gas reserves coal deposits northwest could bring $ 50bn investment next next years companies including Rio Tinto , Vale Brazil , Eni Italy Anadarko US \", \"Label\": 0, \"Class\": \"NORMAL\"}, {\"Sentence\": \" The ruling Frelimo party , dominant political force since 1975 , Renamo blame tension \", \"Label\": 0, \"Class\": \"NORMAL\"}, {\"Sentence\": \" Renamo says government initiated latest clashes launching attack members Sofala province , traditionally Renamo stronghold , October 17 \", \"Label\": 0, \"Class\": \"NORMAL\"}, {\"Sentence\": \" Assaults former rebels escalated government forces attacked Renamo bases attempted kill Afonso Dhlakama , group &apos;s leader , Fernando Mazanga , Renamo &apos;s spokesman , told Financial Times \", \"Label\": 0, \"Class\": \"NORMAL\"}, {\"Sentence\": \" The government blames Renamo triggering clashes , accusing attacking soldiers \", \"Label\": 0, \"Class\": \"NORMAL\"}, {\"Sentence\": \"President Armando Guebuza sought play concerns instability\", \"Label\": 0, \"Class\": \"NORMAL\"}, {\"Sentence\": \" Mr Guebuza told AFP , French news agency , Wednesday Mr Dhlakama saw &quot; loser &quot; wanted use &quot; whatever remains forces try prove impose government decisions \", \"Label\": 0, \"Class\": \"NORMAL\"}, {\"Sentence\": \"&quot; Both Frelimo Renamo insist want avoid war\", \"Label\": 0, \"Class\": \"NORMAL\"}, {\"Sentence\": \"But concerns grown Mr Mazanga quoted saying Renamo abandoning 1992 peace accord\", \"Label\": 0, \"Class\": \"NORMAL\"}, {\"Sentence\": \"He told FT meant agreement longer respected Frelimo\", \"Label\": 0, \"Class\": \"NORMAL\"}, {\"Sentence\": \" &quot; Our vision come back negotiations , seriousness , &quot; Mr Mazanga said \", \"Label\": 0, \"Class\": \"NORMAL\"}, {\"Sentence\": \"Previous talks parties done little ease tensions fuelled series clashes year\", \"Label\": 0, \"Class\": \"NORMAL\"}, {\"Sentence\": \" &quot; It &apos;s two big men (Guebuza Dhlakama) butting heads together , &quot; said Joseph Hanlon , lecturer Open University Mozambique expert \", \"Label\": 0, \"Class\": \"NORMAL\"}, {\"Sentence\": \"Neither good negotiators neither prepared make kind concessions necessary\", \"Label\": 0, \"Class\": \"NORMAL\"}, {\"Sentence\": \" Renamo , pushing electoral reforms , already said would boycott municipal elections due November \", \"Label\": 0, \"Class\": \"NORMAL\"}, {\"Sentence\": \"Presidential parliamentary polls scheduled next year\", \"Label\": 0, \"Class\": \"NORMAL\"}, {\"Sentence\": \"Some commentators interpreted use force attempt ailing movement win concessions financial spoils government\", \"Label\": 0, \"Class\": \"NORMAL\"}, {\"Sentence\": \" Renamo &apos;s share vote declining since 1992 , newer party , Democratic Movement Mozambique (MDM) formed former Renamo member , expected improve showing elections \", \"Label\": 0, \"Class\": \"NORMAL\"}, {\"Sentence\": \"Mr Mazanga says Mr Guebuza - due step second term ends next year - wants destroy country &apos;s democracy\", \"Label\": 0, \"Class\": \"NORMAL\"}, {\"Sentence\": \" &quot; He want multi-party democracy , want transparent elections want peace want leave presidency , &quot; Mr Mazanga said \", \"Label\": 0, \"Class\": \"NORMAL\"}, {\"Sentence\": \" It unclear much capacity Renamo , carried disruptive hit-and-run attacks police stations vehicles key north-south highway \", \"Label\": 0, \"Class\": \"NORMAL\"}, {\"Sentence\": \" Most skirmishes taken place Sofala province , several hundred kilometres north Maputo , hosts Beira , port miners , including Rio Tinto Vale , rely export coal \", \"Label\": 0, \"Class\": \"NORMAL\"}, {\"Sentence\": \" In June , Rio suspended use railway week Renamo threatened attack line \", \"Label\": 0, \"Class\": \"NORMAL\"}, {\"Sentence\": \"Mr Mazanga coy asked whether Renamo would repeat threat\", \"Label\": 0, \"Class\": \"NORMAL\"}, {\"Sentence\": \" Renamo wanted &quot; warn international community things going well Mozambique , &quot; Mr Mazanga said \", \"Label\": 0, \"Class\": \"NORMAL\"}, {\"Sentence\": \" The instability added frustrations government , says Fernando Lima , head Mediacoop , independent media company , many people also concerned corruption , slow pace development recent spate kidnappings \", \"Label\": 0, \"Class\": \"NORMAL\"}, {\"Sentence\": \" &quot; People think ones responsible future country government president , one find solutions problems , &quot; says \", \"Label\": 0, \"Class\": \"NORMAL\"}, {\"Sentence\": \" Omar Sultuane , demonstrator , said people wanted stability \", \"Label\": 0, \"Class\": \"NORMAL\"}, {\"Sentence\": \" &quot; No one cares Renamo Frelimo , want peace , want free access roads , &quot; said \", \"Label\": 0, \"Class\": \"NORMAL\"}, {\"Sentence\": \" Schools urged focus maths , spelling grammar English literature courses require pupils study least one Shakespeare play , 19th century novel , Romantic poetry contemporary British fiction 1914 onwards \", \"Label\": 0, \"Class\": \"NORMAL\"}, {\"Sentence\": \"The exam also feature &quot; unseen texts &quot; encourage wider reading; A combined English literature language course scrapped\", \"Label\": 0, \"Class\": \"NORMAL\"}, {\"Sentence\": \" From 2015 , pupils required take standalone GCSE language , strong incentives choose English literature separate qualification \", \"Label\": 0, \"Class\": \"NORMAL\"}, {\"Sentence\": \"The Department Education due release new syllabuses English maths tomorrow - first subjects undergo radical overhaul\", \"Label\": 0, \"Class\": \"NORMAL\"}, {\"Sentence\": \"It make changes core subjects next year\", \"Label\": 0, \"Class\": \"NORMAL\"}, {\"Sentence\": \" In separate move , Ofqual , exams regulator , unveil shake-up structure GCSEs , new grading system less coursework \", \"Label\": 0, \"Class\": \"NORMAL\"}, {\"Sentence\": \" Speaking summer , Michael Gove , Education Secretary , said &quot; widespread consensus need reform examination system restore public confidence , &quot; insisting GCSEs would &quot; challenging , ambitious rigorous \", \"Label\": 0, \"Class\": \"NORMAL\"}, {\"Sentence\": \"&quot; Studies show English schools devote less time maths - 116 hours year three hours week term time - countries\", \"Label\": 0, \"Class\": \"NORMAL\"}, {\"Sentence\": \" By comparison , Australian schools provide average 143 hours year pupils around 138 hours Singapore \", \"Label\": 0, \"Class\": \"NORMAL\"}, {\"Sentence\": \" While formal requirement devote timetable maths , Coalition sources said extensive maths GCSE - combined weighting subject league tables - likely encourage schools provide extra teaching \", \"Label\": 0, \"Class\": \"NORMAL\"}, {\"Sentence\": \" The syllabus place greater focus &quot; real world problems , &quot; including financial mathematics \", \"Label\": 0, \"Class\": \"NORMAL\"}, {\"Sentence\": \" 2014 year celebration Geisingen The anniversary celebrations town Geisingen , mark 1,250th anniversary first documented mention town , drawing closer \", \"Label\": 0, \"Class\": \"NORMAL\"}, {\"Sentence\": \" When year comes end eight weeks , anniversary year upon us \", \"Label\": 0, \"Class\": \"NORMAL\"}, {\"Sentence\": \"Geisingen Kirchen-Hausen first documented together year 794\", \"Label\": 0, \"Class\": \"NORMAL\"}, {\"Sentence\": \" A deed drafted Kirchen , towns mentioned \", \"Label\": 0, \"Class\": \"NORMAL\"}, {\"Sentence\": \" On 15 March , anniversary year officially launched , Geisingen currently suitable venues , launch event take place location two towns first documented 1,250 years ago , Kirchen-Hausen \", \"Label\": 0, \"Class\": \"NORMAL\"}, {\"Sentence\": \" As part anniversary celebrations , number events planned Geisingen Kirchen-Hausen \", \"Label\": 0, \"Class\": \"NORMAL\"}, {\"Sentence\": \" Kirchen-Hausen celebrate 1,250th anniversary celebratory weekend 18 20 July \", \"Label\": 0, \"Class\": \"NORMAL\"}, {\"Sentence\": \" On Friday ceremony , Saturday Sunday party held Kirchtalhalle \", \"Label\": 0, \"Class\": \"NORMAL\"}, {\"Sentence\": \"The Kirchen-Hausen Kirchenfest festival also held celebratory weekend\", \"Label\": 0, \"Class\": \"NORMAL\"}, {\"Sentence\": \" Town Musical Director , Rudolf Barth , composed commissioned piece town occasion anniversary , performed three dates \", \"Label\": 0, \"Class\": \"NORMAL\"}, {\"Sentence\": \" On 21 June , conjunction Schwarzwaldverein &#91; Black Forest Association &#93; Mid-Summer Festival , 12 July Arena , accompanied fireworks , 13 December first concert put Stadtmusik (Town Musical Society) new Festival Hall \", \"Label\": 0, \"Class\": \"NORMAL\"}, {\"Sentence\": \" This venue completed inaugurated anniversary year , official date set last weekend September , 27 28 September \", \"Label\": 0, \"Class\": \"NORMAL\"}, {\"Sentence\": \" On occasion Geisingen town anniversary , new chronicle also published \", \"Label\": 0, \"Class\": \"NORMAL\"}, {\"Sentence\": \" &quot; However , merely chronicle Geisingen , rather printed work Geisingen today , consists Geisingen , Kirchen-Hausen , Leipferdingen , Aulfingen Gutmadingen , &quot; said Mayor Walter Hengstler \", \"Label\": 0, \"Class\": \"NORMAL\"}, {\"Sentence\": \" And Geisingen today also celebrating birthday 2014 , 1974 incorporations form current region completed \", \"Label\": 0, \"Class\": \"NORMAL\"}, {\"Sentence\": \"The new chronicle presented 21 22 November new Festival Hall Geisingen\", \"Label\": 0, \"Class\": \"NORMAL\"}, {\"Sentence\": \" However , 2014 also year many anniversaries respects \", \"Label\": 0, \"Class\": \"NORMAL\"}, {\"Sentence\": \"The Narrenzunft Strohglonki (Strohglonki Fool &apos;s Guild celebration) begins 8 February evening traditional customs occasion 60-year anniversary / The Harmonie Gutmadingen music association turn 90 years old 29 March hold celebratory banquet 1 4 May celebrating Bezirksfest &#91; District Music Festival &#93;\", \"Label\": 0, \"Class\": \"NORMAL\"}, {\"Sentence\": \" The Leipferdingen Nursing Home turn 40 years old , Geisingen School new location 50 years celebrating 10 May , Polyhymnia Leipferdingen music association turn 150 years old celebrating part Brunnenfest &#91; Fountain Festival &#93; 4 7 July \", \"Label\": 0, \"Class\": \"NORMAL\"}, {\"Sentence\": \" The town Geisingen first officially documented year 764 , deed donation , possession St\", \"Label\": 0, \"Class\": \"NORMAL\"}, {\"Sentence\": \"Gallen Monastery\", \"Label\": 0, \"Class\": \"NORMAL\"}, {\"Sentence\": \" The deed drawn Kirchen (Hausen), time location courthouse \", \"Label\": 0, \"Class\": \"NORMAL\"}, {\"Sentence\": \"Both communities thus mentioned deed\", \"Label\": 0, \"Class\": \"NORMAL\"}, {\"Sentence\": \" One reason choosing 2014 celebrate 1,250-year anniversary way , also coincides 40th anniversary Community Reform (Gemeindereform)\", \"Label\": 0, \"Class\": \"NORMAL\"}, {\"Sentence\": \" Supreme Court upholds Obama health care law In major victory Obama administration , US Supreme Court today ruled Barack Obama &apos;s signature health care law constitutional \", \"Label\": 0, \"Class\": \"NORMAL\"}, {\"Sentence\": \" By 5-4 vote , justices ruled Patient Protection Affordable Care Act &apos;s individual mandate - requires citizens buy health insurance 2014 else pay penalty - constitutional taxing power government \", \"Label\": 0, \"Class\": \"NORMAL\"}, {\"Sentence\": \" Chief Justice John Roberts sided four liberal members court Justices Scalia , Thomas , Alito Kennedy dissented \", \"Label\": 0, \"Class\": \"NORMAL\"}, {\"Sentence\": \" The court also upheld remaining sections 2700 page law , held health care law &apos;s requirement states increase Medicaid eligibility else lose federal Medicaid funding unconstitutionally coercive \", \"Label\": 0, \"Class\": \"NORMAL\"}, {\"Sentence\": \"The suit block law brought 26 states National Federation Independent Business\", \"Label\": 0, \"Class\": \"NORMAL\"}, {\"Sentence\": \" The law vigorously opposed major Republican presidential candidates 2012 primary season , including presumptive nominee Mitt Romney \", \"Label\": 0, \"Class\": \"NORMAL\"}, {\"Sentence\": \"Thought travel agents thing past thanks internet ? Flight Centre seem bucking trend\", \"Label\": 0, \"Class\": \"NORMAL\"}, {\"Sentence\": \"The company upgraded full year profit forecast looking record earnings holidaymakers Australia United Kingdom\", \"Label\": 0, \"Class\": \"NORMAL\"}, {\"Sentence\": \" The travel company expects full year underlying profit tax $ 325 million $ 340 million , compared $ 305 million $ 315 million previously forecast \", \"Label\": 0, \"Class\": \"NORMAL\"}, {\"Sentence\": \"If current guidance achieved represent 12 17 per cent growth record $ 290\", \"Label\": 0, \"Class\": \"NORMAL\"}, {\"Sentence\": \"4 million profit achieved 2011 / 12\", \"Label\": 0, \"Class\": \"NORMAL\"}, {\"Sentence\": \"Managing director Graham Turner said Flight Centre made 8 per cent profit first half started second half strongly especially Australian UK non-business travel\", \"Label\": 0, \"Class\": \"NORMAL\"}, {\"Sentence\": \" &quot; Year-to-date , 10 countries profitable several track record full-year earnings interest tax contributions , &quot; said \", \"Label\": 0, \"Class\": \"NORMAL\"}, {\"Sentence\": \" This includes Australia United Kingdom , typically largest profit generators \", \"Label\": 0, \"Class\": \"NORMAL\"}, {\"Sentence\": \"In Australia leisure business rebounded second half offset slightly weaker domestic corporate travel market\", \"Label\": 0, \"Class\": \"NORMAL\"}, {\"Sentence\": \" Similarly UK , Flight Centre &apos;s leisure business performed well corporate clients spending less \", \"Label\": 0, \"Class\": \"NORMAL\"}, {\"Sentence\": \"Its US business recovered losses seasonally weaker first half expected deliver third consecutive full year profit\", \"Label\": 0, \"Class\": \"NORMAL\"}, {\"Sentence\": \"Flight Centre shares 3c $ 38\", \"Label\": 0, \"Class\": \"NORMAL\"}, {\"Sentence\": \"20 yesterday\", \"Label\": 0, \"Class\": \"NORMAL\"}, {\"Sentence\": \" The government Jerusalem fails confirm attack Syrian airforce base On Thursday , American government official , wished remain anonymous , made statement American news broadcaster CNN , stating Israeli fighter planes attacked airforce base Syrian town Latakia day \", \"Label\": 0, \"Class\": \"NORMAL\"}, {\"Sentence\": \" The target &quot; missiles related equipment &quot; , Israeli government feared intended Lebanese Hezbollah , according CNN \", \"Label\": 0, \"Class\": \"NORMAL\"}, {\"Sentence\": \" The Syrian Lebanese media , well Arabic broadcaster Al-Arabiya , previously reported base port town Latakia fired upon night Wednesday Thursday , Israelis identified responsible party \", \"Label\": 0, \"Class\": \"NORMAL\"}, {\"Sentence\": \" Israeli television broadcaster Channel 2 showed satellite images base Latakia , Russian S-125 Newa-type defence missiles battery SA-3 missiles could seen , according Channel 2 range 35 kilometres transport warheads weighing 70 kilograms \", \"Label\": 0, \"Class\": \"NORMAL\"}, {\"Sentence\": \" Unsure , government Jerusalem officially confirmed attack \", \"Label\": 0, \"Class\": \"NORMAL\"}, {\"Sentence\": \" However , press agency Reuters also quoted anonymous Israeli government official saying believed Israel carried attack , sure \", \"Label\": 0, \"Class\": \"NORMAL\"}, {\"Sentence\": \" In case , spokesperson Israeli Ministry Defence said: &quot; We commenting reports &quot; \", \"Label\": 0, \"Class\": \"NORMAL\"}, {\"Sentence\": \" Journalist Ron Ben-Yishai , writing daily newspaper Yedioth Ahronoth , emphasised Syrian regime already previously attempted , cases successfully , deliver ground air missiles Hezbollah \", \"Label\": 0, \"Class\": \"NORMAL\"}, {\"Sentence\": \" The Israeli government previously repeatedly warned attempt Syria supply Hezbollah chemical dangerous weapons would crossing &quot; red line &quot; , would result military response \", \"Label\": 0, \"Class\": \"NORMAL\"}, {\"Sentence\": \" Mother buried shallow forest grave pension stolen When elderly mother died , man Wolfsburg devised plan \", \"Label\": 0, \"Class\": \"NORMAL\"}, {\"Sentence\": \"He buried deceased forest - continued collect pension care allowance\", \"Label\": 0, \"Class\": \"NORMAL\"}, {\"Sentence\": \" According police investigations , 67-year-old Wolfsburg resident buried dead mother woods order might continue collect pension care allowance \", \"Label\": 0, \"Class\": \"NORMAL\"}, {\"Sentence\": \"He first covered death 89-year-old pocketed money year half\", \"Label\": 0, \"Class\": \"NORMAL\"}, {\"Sentence\": \" The 67-year-old must face charges fraud , said spokesperson Friday \", \"Label\": 0, \"Class\": \"NORMAL\"}, {\"Sentence\": \" According statement , man hid woman forest near Helmstedt \", \"Label\": 0, \"Class\": \"NORMAL\"}, {\"Sentence\": \"The man already suspicion back May: At time fact medications care-reliant mother longer required drew suspicion\", \"Label\": 0, \"Class\": \"NORMAL\"}, {\"Sentence\": \"The pensioner told investigators mother travelled Spain\", \"Label\": 0, \"Class\": \"NORMAL\"}, {\"Sentence\": \"The officials found strange continued investigate\", \"Label\": 0, \"Class\": \"NORMAL\"}, {\"Sentence\": \"It discovered mother son lived residence 15 years cared final days\", \"Label\": 0, \"Class\": \"NORMAL\"}, {\"Sentence\": \"The 67-year-old finally acknowledged death mother\", \"Label\": 0, \"Class\": \"NORMAL\"}, {\"Sentence\": \" According police , autopsy showed evidence capital offence \", \"Label\": 0, \"Class\": \"NORMAL\"}, {\"Sentence\": \" NSA siphons data Google Yahoo - Snowden wants help Secret Service whistleblower , Edward Snowden , fundamental interest helping Germany clarify increasingly explosive NSA espionage scandal \", \"Label\": 0, \"Class\": \"NORMAL\"}, {\"Sentence\": \"According Green Party MP\", \"Label\": 0, \"Class\": \"NORMAL\"}, {\"Sentence\": \" Hans-Christian Str\\u00f6bele , surprising meeting Snowden Russia addressed conditions former Secret Service employee would make statement German District Attorney investigation committee \", \"Label\": 0, \"Class\": \"NORMAL\"}, {\"Sentence\": \" Snowden referred complex legal situation , Str\\u00f6bele said ARD &apos;s &quot; Panorama &quot; programme \", \"Label\": 0, \"Class\": \"NORMAL\"}, {\"Sentence\": \"Unknown attackers injure girl shots fired car Unknown attackers injured twelve-year-old girl Saxony-Anhalt firing shots car\", \"Label\": 0, \"Class\": \"NORMAL\"}, {\"Sentence\": \" The assailants fired group children Thursday evening Genthin , presumably air gun \", \"Label\": 0, \"Class\": \"NORMAL\"}, {\"Sentence\": \"This announced police Burg\", \"Label\": 0, \"Class\": \"NORMAL\"}, {\"Sentence\": \"The girl suffered minor injury left calf\", \"Label\": 0, \"Class\": \"NORMAL\"}, {\"Sentence\": \"Rescue workers took girl hospital\", \"Label\": 0, \"Class\": \"NORMAL\"}, {\"Sentence\": \" The shots came small car , drove past group six children suddenly stopped \", \"Label\": 0, \"Class\": \"NORMAL\"}, {\"Sentence\": \"Witnesses saw two people sitting car\", \"Label\": 0, \"Class\": \"NORMAL\"}, {\"Sentence\": \"The assailants also fired shots bus stop\", \"Label\": 0, \"Class\": \"NORMAL\"}, {\"Sentence\": \"A pane glass shattered\", \"Label\": 0, \"Class\": \"NORMAL\"}, {\"Sentence\": \"They drove away\", \"Label\": 0, \"Class\": \"NORMAL\"}, {\"Sentence\": \" The Criminal Investigation Department investigating matter , stated Friday \", \"Label\": 0, \"Class\": \"NORMAL\"}, {\"Sentence\": \"Hoarding Bechtle plot painted A group belonging &quot; Schweizer Wiese &quot; citizen &apos;s initiative given hoarding Bechtle plot spa promenade Bad Herrenalb face-lift\", \"Label\": 0, \"Class\": \"NORMAL\"}, {\"Sentence\": \" In addition , cleaned widened footpath , press release announced \", \"Label\": 0, \"Class\": \"NORMAL\"}, {\"Sentence\": \" The planned covering dilapidated house rear plot permitted safety reasons , premises risk collapsing \", \"Label\": 0, \"Class\": \"NORMAL\"}, {\"Sentence\": \" Alfred Abel , currently manages site , arranged &apos; face-lift &apos; cooperation colleague , Reinhard Domke , citizen &apos;s initiative \", \"Label\": 0, \"Class\": \"NORMAL\"}, {\"Sentence\": \" Before citizen &apos;s initiative project , banner message &quot; We favour &quot; put \", \"Label\": 0, \"Class\": \"NORMAL\"}, {\"Sentence\": \" However , little distract 20 members citizen &apos;s initiative project \", \"Label\": 0, \"Class\": \"NORMAL\"}, {\"Sentence\": \" Their motto , large billboard stated &quot; We unfinished buildings &quot; \", \"Label\": 0, \"Class\": \"NORMAL\"}, {\"Sentence\": \"In wanted point danger even bigger ruins Schweizer Wiese - huge project one day fail\", \"Label\": 0, \"Class\": \"NORMAL\"}, {\"Sentence\": \" Chatting many people passing &quot; construction site &quot; , became clear many citizens believe execution project would make things much better town , although many questions citizen &apos;s initiative regarding scale planned project \", \"Label\": 0, \"Class\": \"NORMAL\"}, {\"Sentence\": \" However , beginning resign town continues stall providing answers , said statement citizen &apos;s initiative \", \"Label\": 0, \"Class\": \"NORMAL\"}, {\"Sentence\": \"We told public statements made Mayor also impact\", \"Label\": 0, \"Class\": \"NORMAL\"}, {\"Sentence\": \" In May , meeting Town Council , said feared outcome spa population vote plans spa wellness complex Schweizer Wiese local referendum \", \"Label\": 0, \"Class\": \"NORMAL\"}, {\"Sentence\": \" Some appear utterly frightened , others perceive &quot; blatant attempt blackmail &quot; population , continued press release citizen &apos;s initiative \", \"Label\": 0, \"Class\": \"NORMAL\"}, {\"Sentence\": \"The citizen &apos;s initiative thanked donated paint lent hand\", \"Label\": 0, \"Class\": \"NORMAL\"}, {\"Sentence\": \"On happiness dreaming camels Happiness oasis dreaming camels manage reach It piece Bedouin wisdom first ever chairman Wolfgang Henne described history fascination behind &quot; Helping Hands &quot; society\", \"Label\": 0, \"Class\": \"NORMAL\"}, {\"Sentence\": \" Saturday evening saw celebration tenth birthday organisation , already look back impressive results \", \"Label\": 0, \"Class\": \"NORMAL\"}, {\"Sentence\": \"Founding Chairman Henne reported depth work organisation\", \"Label\": 0, \"Class\": \"NORMAL\"}, {\"Sentence\": \" In 2004 , visited Cheijk-Zajed Hospital Nouakchott Mauritania first time \", \"Label\": 0, \"Class\": \"NORMAL\"}, {\"Sentence\": \" As result , important collaboration developed gynaecologist , Hanne , performed countless operations several journeys location \", \"Label\": 0, \"Class\": \"NORMAL\"}, {\"Sentence\": \" During speech , images trips shown large screen , order give guests anniversary event insight initiatives mentioned \", \"Label\": 0, \"Class\": \"NORMAL\"}, {\"Sentence\": \"The organisation &apos;s desert vehicle also shown\", \"Label\": 0, \"Class\": \"NORMAL\"}, {\"Sentence\": \"It former federal border protection vehicle\", \"Label\": 0, \"Class\": \"NORMAL\"}, {\"Sentence\": \" Rainer Prewo , former Lord Mayor Nagold , made suggestion equipping vehicle photovoltaic system , according Henne , planning assume advisory role within organisation \", \"Label\": 0, \"Class\": \"NORMAL\"}, {\"Sentence\": \" In 2008 , Schleeh carpentry company Baiersbronn built hospital station Socogim , poor district edge Capital , record time less one week - free charge \", \"Label\": 0, \"Class\": \"NORMAL\"}, {\"Sentence\": \"Henne also mentioned new mother child hospital Nouakchott This particularly interesting time Nagold set away maternity clinic\", \"Label\": 0, \"Class\": \"NORMAL\"}, {\"Sentence\": \" You learn great deal working doctor Africa , said Henne , example slow avoid burn-out \", \"Label\": 0, \"Class\": \"NORMAL\"}, {\"Sentence\": \" Due political unrest country , possible make many journeys planned , reason , many local doctors come Germany , sit lectures variety topics \", \"Label\": 0, \"Class\": \"NORMAL\"}, {\"Sentence\": \" In addition , containers materials regularly sent Africa , example March year medical devices , medicines , bandaging material , hospital beds spectacles sent \", \"Label\": 0, \"Class\": \"NORMAL\"}, {\"Sentence\": \" Co-initiator Hans-Joachim Fuchtel provided plenty local colour , telling Mercedes vehicles Mauritania converted mobile goat stalls sharing experiences Stammheim musicians , traditionally support organisation trips Mauritania \", \"Label\": 0, \"Class\": \"NORMAL\"}, {\"Sentence\": \"He identified personal motivation work area auditing young member parliament\", \"Label\": 0, \"Class\": \"NORMAL\"}, {\"Sentence\": \" When became clear much money wasted , decided help Africans controlling budget people \", \"Label\": 0, \"Class\": \"NORMAL\"}, {\"Sentence\": \"Fuchtel also emphasised global economy requires global human kindness\", \"Label\": 0, \"Class\": \"NORMAL\"}, {\"Sentence\": \"The fact Africa lies closer many think means forgotten\", \"Label\": 0, \"Class\": \"NORMAL\"}, {\"Sentence\": \"Africa far Gran Canaria\", \"Label\": 0, \"Class\": \"NORMAL\"}, {\"Sentence\": \"Scientists shed light movements dog &apos;s tail linked mood\", \"Label\": 0, \"Class\": \"NORMAL\"}, {\"Sentence\": \" Earlier research revealed happy dogs wag tails right (from dog &apos;s point view), nervous dogs left-dominated swish \", \"Label\": 0, \"Class\": \"NORMAL\"}, {\"Sentence\": \"But scientists say fellow canines spot respond subtle tail differences\", \"Label\": 0, \"Class\": \"NORMAL\"}, {\"Sentence\": \" Prof Georgio Vallortigara , neuroscientist University Trento , said: &quot; It well known humans left right side brain differently involved stimuli invokes positive negative emotions \", \"Label\": 0, \"Class\": \"NORMAL\"}, {\"Sentence\": \"&quot; Here attempted look species\", \"Label\": 0, \"Class\": \"NORMAL\"}, {\"Sentence\": \" He added humans , dogs right side brain responsible left-handed movement vice versa , two hemispheres played different roles emotions \", \"Label\": 0, \"Class\": \"NORMAL\"}, {\"Sentence\": \" To find dogs react lop-sided tail wags dogs , researchers monitored animals watched films dogs \", \"Label\": 0, \"Class\": \"NORMAL\"}, {\"Sentence\": \"They measured pets &apos; heart rates analysed behaviour\", \"Label\": 0, \"Class\": \"NORMAL\"}, {\"Sentence\": \" It probably long understand tails sometimes go one way , sometimes Prof Vallortigara said: &quot; We presented dogs movies dogs - either naturalistic version silhouette get rid confounding issues , could doctor movement tail present tail left right \", \"Label\": 0, \"Class\": \"NORMAL\"}, {\"Sentence\": \" &quot; When animals saw otherwise expressionless dog move tail right (from tail-wagging dog &apos;s point view), stayed perfectly relaxed \", \"Label\": 0, \"Class\": \"NORMAL\"}, {\"Sentence\": \" But spotted tail veer predominantly left (again tail-swishing dog &apos;s point view), heart rates picked looked anxious \", \"Label\": 0, \"Class\": \"NORMAL\"}, {\"Sentence\": \"Prof Vallortigara said &apos;t think dogs intentionally communicating movements\", \"Label\": 0, \"Class\": \"NORMAL\"}, {\"Sentence\": \" Instead , believes dogs learned experience moves &apos;t feel worried \", \"Label\": 0, \"Class\": \"NORMAL\"}, {\"Sentence\": \" He said: &quot; If several meetings dogs , frequently tail wagging one way associated friendly behaviour , right side producing less friendly behaviour , respond basis experience \", \"Label\": 0, \"Class\": \"NORMAL\"}, {\"Sentence\": \" &quot; The researchers say findings could give owners , vets trainers better insight animal &apos;s emotions \", \"Label\": 0, \"Class\": \"NORMAL\"}, {\"Sentence\": \" Dog behaviour expert John Bradshaw , visiting fellow University Bristol &apos;s school veterinary science , said first study examine whether left right important canines \", \"Label\": 0, \"Class\": \"NORMAL\"}, {\"Sentence\": \"Last year team University Lincoln found dogs turn heads left looking aggressive dog right looking happy dog\", \"Label\": 0, \"Class\": \"NORMAL\"}, {\"Sentence\": \" And another research paper University Victoria Canada , said: &quot; Dogs likely approach robot dog &apos; tail &apos; made wag left rather right , rather becoming anxious - opposite way around Italian study \", \"Label\": 0, \"Class\": \"NORMAL\"}, {\"Sentence\": \"&quot; He said differences could dogs different studies fully interpreting animals films robo-dogs canines\", \"Label\": 0, \"Class\": \"NORMAL\"}, {\"Sentence\": \" A study dogs responded real dogs could help , explained \", \"Label\": 0, \"Class\": \"NORMAL\"}, {\"Sentence\": \" &quot; While considerable evidence many different mammals two sides brain used different purposes , much detail still hammered - dogs exception , &quot; said \", \"Label\": 0, \"Class\": \"NORMAL\"}, {\"Sentence\": \" However , given ease behaviour recorded , probably long understand tails sometimes go one way , sometimes \", \"Label\": 0, \"Class\": \"NORMAL\"}, {\"Sentence\": \"The USA still want prosecute Snowden The USA changed position regarding former US Secret Service employee Edward Snowden\", \"Label\": 0, \"Class\": \"NORMAL\"}, {\"Sentence\": \"He still accused passing secret information without authorisation\", \"Label\": 0, \"Class\": \"NORMAL\"}, {\"Sentence\": \" He must therefore face criminal proceedings USA , said spokesperson US Foreign Office , Jennifer Psaki , Washington \", \"Label\": 0, \"Class\": \"NORMAL\"}, {\"Sentence\": \"Even recent statements Snowden change fact\", \"Label\": 0, \"Class\": \"NORMAL\"}, {\"Sentence\": \" Following recent meeting Snowden Moscow , German Green Party politician Hans-Christian Str\\u00f6bele appealed USA continue threaten prosecution \", \"Label\": 0, \"Class\": \"NORMAL\"}, {\"Sentence\": \" Psaki emphasised Str\\u00f6bele &apos;s comments views parliamentarian , German government member \", \"Label\": 0, \"Class\": \"NORMAL\"}, {\"Sentence\": \"Bird airlifted safety North Sea rig released back wild A bird airlifted ashore found exhausted North Sea oil rig released back wild\", \"Label\": 0, \"Class\": \"NORMAL\"}, {\"Sentence\": \"The water rail put helicopter Aberdeen last month nursed back health Scottish SPCA rescue centre Alloa\", \"Label\": 0, \"Class\": \"NORMAL\"}, {\"Sentence\": \"Centre manager Colin Seddon said: &quot; This water rail likely winter migrant Northern Europe got caught strong winds North Sea\", \"Label\": 0, \"Class\": \"NORMAL\"}, {\"Sentence\": \"&quot; It seems bird became exhausted managed find refuge oil rig\", \"Label\": 0, \"Class\": \"NORMAL\"}, {\"Sentence\": \"He added: &quot; It unable fly contacted help\", \"Label\": 0, \"Class\": \"NORMAL\"}, {\"Sentence\": \"&quot; The water rail fit well time released\", \"Label\": 0, \"Class\": \"NORMAL\"}, {\"Sentence\": \"K\\u00f6nigsfeld: Small team gives spirited performance The voluntary fire service bravely came main autumn test run spite lack personnel\", \"Label\": 0, \"Class\": \"NORMAL\"}, {\"Sentence\": \"Only eleven men took part exercise\", \"Label\": 0, \"Class\": \"NORMAL\"}, {\"Sentence\": \" For training exercise , department commander , Hans Kammerer , chose Feder premises Burgberger Strasse \", \"Label\": 0, \"Class\": \"NORMAL\"}, {\"Sentence\": \"A short-circuit reported occurred sawing\", \"Label\": 0, \"Class\": \"NORMAL\"}, {\"Sentence\": \" Two people injured resulting fire spread smoke , however , one able make emergency call \", \"Label\": 0, \"Class\": \"NORMAL\"}, {\"Sentence\": \"Two fire fighters equipped respiratory gear prepared enter building following initial inspection situation Hans Kammerer\", \"Label\": 0, \"Class\": \"NORMAL\"}, {\"Sentence\": \"After short time managed find first person direct building\", \"Label\": 0, \"Class\": \"NORMAL\"}, {\"Sentence\": \"The second person carried\", \"Label\": 0, \"Class\": \"NORMAL\"}, {\"Sentence\": \"This simple also negotiate narrow stairwell\", \"Label\": 0, \"Class\": \"NORMAL\"}, {\"Sentence\": \" The building , workshop integrated stabling two horses , easy secure \", \"Label\": 0, \"Class\": \"NORMAL\"}, {\"Sentence\": \"There large quantities wood bales straw stored inside\", \"Label\": 0, \"Class\": \"NORMAL\"}, {\"Sentence\": \" In addition , also electrical machines wood processing \", \"Label\": 0, \"Class\": \"NORMAL\"}, {\"Sentence\": \"The first attempt extinguish fire made using tank fire engine\", \"Label\": 0, \"Class\": \"NORMAL\"}, {\"Sentence\": \"Another line taken surface hydrant around 100 metres away\", \"Label\": 0, \"Class\": \"NORMAL\"}, {\"Sentence\": \"Only three attempts could made extinguish blaze\", \"Label\": 0, \"Class\": \"NORMAL\"}, {\"Sentence\": \"A hollow-stream nozzle building also used\", \"Label\": 0, \"Class\": \"NORMAL\"}, {\"Sentence\": \" For Hans Kammerer , exercise also chance show achieved available staff \", \"Label\": 0, \"Class\": \"NORMAL\"}, {\"Sentence\": \" In case emergency , support provided K\\u00f6nigsfeld daytime task force \", \"Label\": 0, \"Class\": \"NORMAL\"}, {\"Sentence\": \"The Commander expressed satisfaction following exercise\", \"Label\": 0, \"Class\": \"NORMAL\"}, {\"Sentence\": \" Trekking mud , rivers jungle provide free medical care Dr\", \"Label\": 0, \"Class\": \"NORMAL\"}, {\"Sentence\": \" Georges Bwelle bringing free health care rural villages Cameroon Bwelle team spend almost every weekend seeing hundreds patients There &apos;t many doctors west African country; one every 5,000 people Cast vote mobile device Dr\", \"Label\": 0, \"Class\": \"NORMAL\"}, {\"Sentence\": \"Georges Bwelle one top 10 CNN Heroes 2013\", \"Label\": 0, \"Class\": \"NORMAL\"}, {\"Sentence\": \" You vote , top 10 Heroes , CNN Hero Year \", \"Label\": 0, \"Class\": \"NORMAL\"}, {\"Sentence\": \" That person receive $ 250,000 continue extraordinary work \", \"Label\": 0, \"Class\": \"NORMAL\"}, {\"Sentence\": \" For 21 years , Georges Bwelle watched ill father slip consciousness , traveling hospitals &apos;t equipped help \", \"Label\": 0, \"Class\": \"NORMAL\"}, {\"Sentence\": \" Jamef Bwelle injured 1981 car accident near Yaounde , Cameroon &apos;s capital \", \"Label\": 0, \"Class\": \"NORMAL\"}, {\"Sentence\": \" He suffered broken arm first , infection developed spread brain , creating hematoma would affect rest life \", \"Label\": 0, \"Class\": \"NORMAL\"}, {\"Sentence\": \" &quot; There neurosurgeons Cameroon , &quot; Georges Bwelle said \", \"Label\": 0, \"Class\": \"NORMAL\"}, {\"Sentence\": \"We would taken Cameroon money\", \"Label\": 0, \"Class\": \"NORMAL\"}, {\"Sentence\": \" Instead , Bwelle spent years escorting father overcrowded clinics hospitals , getting whatever treatment could get \", \"Label\": 0, \"Class\": \"NORMAL\"}, {\"Sentence\": \" &quot; It &apos;s easy , &quot; Bwelle said \", \"Label\": 0, \"Class\": \"NORMAL\"}, {\"Sentence\": \"You leave home 5 a\", \"Label\": 0, \"Class\": \"NORMAL\"}, {\"Sentence\": \"m\", \"Label\": 0, \"Class\": \"NORMAL\"}, {\"Sentence\": \" , running hospital first , first \", \"Label\": 0, \"Class\": \"NORMAL\"}, {\"Sentence\": \"There lot patients\", \"Label\": 0, \"Class\": \"NORMAL\"}, {\"Sentence\": \"Some people die waiting\", \"Label\": 0, \"Class\": \"NORMAL\"}, {\"Sentence\": \"The situation &apos;t changed much since Bwelle &apos;s father passed away 2002\", \"Label\": 0, \"Class\": \"NORMAL\"}, {\"Sentence\": \" In Cameroon , one doctor every 5,000 people , according World Health Organization \", \"Label\": 0, \"Class\": \"NORMAL\"}, {\"Sentence\": \" For comparison &apos;s sake , ratio United States one doctor every 413 people \", \"Label\": 0, \"Class\": \"NORMAL\"}, {\"Sentence\": \" And even could see physician , many Cameroonians &apos;t afford \", \"Label\": 0, \"Class\": \"NORMAL\"}, {\"Sentence\": \" Two five people country live poverty line , nearly three-quarters country &apos;s health-care spending private \", \"Label\": 0, \"Class\": \"NORMAL\"}, {\"Sentence\": \" &quot; The problem poverty , &quot; Bwelle said \", \"Label\": 0, \"Class\": \"NORMAL\"}, {\"Sentence\": \" And poverty , cannot enjoy life \", \"Label\": 0, \"Class\": \"NORMAL\"}, {\"Sentence\": \" Seeing father many countrymen suffer , Bwelle determined something \", \"Label\": 0, \"Class\": \"NORMAL\"}, {\"Sentence\": \"Dr\", \"Label\": 0, \"Class\": \"NORMAL\"}, {\"Sentence\": \"Georges Bwelle team volunteers performed 700 free surgeries past year\", \"Label\": 0, \"Class\": \"NORMAL\"}, {\"Sentence\": \" He became doctor , working vascular surgeon Yaounde &apos;s Central Hospital \", \"Label\": 0, \"Class\": \"NORMAL\"}, {\"Sentence\": \" And started nonprofit , ASCOVIME , travels rural areas weekends provide free medical care \", \"Label\": 0, \"Class\": \"NORMAL\"}, {\"Sentence\": \" Since 2008 , group volunteers helped nearly 32,000 people \", \"Label\": 0, \"Class\": \"NORMAL\"}, {\"Sentence\": \" Almost every Friday , 30 people jam vans , tie medical supplies roofs travel across rough terrain visit villages need \", \"Label\": 0, \"Class\": \"NORMAL\"}, {\"Sentence\": \"Their luck &apos;t always hold\", \"Label\": 0, \"Class\": \"NORMAL\"}, {\"Sentence\": \"They &apos;ve push vehicles rivers mud\", \"Label\": 0, \"Class\": \"NORMAL\"}, {\"Sentence\": \" But arrive , receive true heroes &apos; welcome: feast , singing dancing , best accommodations community offer \", \"Label\": 0, \"Class\": \"NORMAL\"}, {\"Sentence\": \" In villages , free medical care truly cause celebration , Bwelle -- big smile boundless energy -- happy join fun \", \"Label\": 0, \"Class\": \"NORMAL\"}, {\"Sentence\": \" The next morning , team begins meeting hundreds patients \", \"Label\": 0, \"Class\": \"NORMAL\"}, {\"Sentence\": \" &quot; We receiving 500 people trip , &quot; Bwelle said \", \"Label\": 0, \"Class\": \"NORMAL\"}, {\"Sentence\": \" They coming 60 kilometers around village , &apos;re coming foot \", \"Label\": 0, \"Class\": \"NORMAL\"}, {\"Sentence\": \"Each weekend clinics provides variety medical care\", \"Label\": 0, \"Class\": \"NORMAL\"}, {\"Sentence\": \" Many people treated malaria , tuberculosis , malnutrition , diabetes , parasites sexually transmitted diseases \", \"Label\": 0, \"Class\": \"NORMAL\"}, {\"Sentence\": \" Others might receive crutches , pair donated eyeglasses free birth certificates -- documentation &apos;s required school many impoverished families simply &apos;t afford \", \"Label\": 0, \"Class\": \"NORMAL\"}, {\"Sentence\": \" In evenings , team simple surgeries local anesthesia \", \"Label\": 0, \"Class\": \"NORMAL\"}, {\"Sentence\": \" Operations usually done schoolhouse , town hall home; procedure , patients get walk recovery area make way next person \", \"Label\": 0, \"Class\": \"NORMAL\"}, {\"Sentence\": \" With group &apos;s generator lighting operating room sanitizing equipment , Bwelle volunteers work early hours Sunday morning \", \"Label\": 0, \"Class\": \"NORMAL\"}, {\"Sentence\": \" It &apos;s backbreaking pace , village musicians usually help keep team motivated \", \"Label\": 0, \"Class\": \"NORMAL\"}, {\"Sentence\": \" &quot; They beating drums night keep us awake continue work , &quot; Bwelle said \", \"Label\": 0, \"Class\": \"NORMAL\"}, {\"Sentence\": \" On Sunday , team heads back city , tired proud work \", \"Label\": 0, \"Class\": \"NORMAL\"}, {\"Sentence\": \" The group -- mix Cameroonian doctors foreign medical students -- performed 700 free surgeries past year , know help make world difference help \", \"Label\": 0, \"Class\": \"NORMAL\"}, {\"Sentence\": \"One man explained free hernia surgery &apos;d received allow work\", \"Label\": 0, \"Class\": \"NORMAL\"}, {\"Sentence\": \" &quot; This change future family , &quot; man said \", \"Label\": 0, \"Class\": \"NORMAL\"}, {\"Sentence\": \" In addition holding weekend clinics working hospital surgeon , Bwelle also works nights private medical clinics around Yaounde \", \"Label\": 0, \"Class\": \"NORMAL\"}, {\"Sentence\": \" It &apos;s second job , said , funds 60% nonprofit; rest covered private donations \", \"Label\": 0, \"Class\": \"NORMAL\"}, {\"Sentence\": \" &quot; I &apos;m sure sleeps , &quot; said Katie O &apos;Malley , second-year medical student Drexel University Philadelphia volunteer Bwelle &apos;s group \", \"Label\": 0, \"Class\": \"NORMAL\"}, {\"Sentence\": \"He always either hospital trying make money organization go campaigns\", \"Label\": 0, \"Class\": \"NORMAL\"}, {\"Sentence\": \" For medical nursing students O &apos;Malley , come United States Europe join Bwelle missions , &apos;s hands-on opportunity &apos;d never get home \", \"Label\": 0, \"Class\": \"NORMAL\"}, {\"Sentence\": \"&quot; We &apos;ve able scrub surgeries help blot blood away hold tools Dr\", \"Label\": 0, \"Class\": \"NORMAL\"}, {\"Sentence\": \" Bwelle , &quot; O &apos;Malley said \", \"Label\": 0, \"Class\": \"NORMAL\"}, {\"Sentence\": \"That &apos;s something &apos;d ever get America second-year medical student\", \"Label\": 0, \"Class\": \"NORMAL\"}, {\"Sentence\": \" The student volunteers usually pay way Cameroon , often arriving donated medical supplies \", \"Label\": 0, \"Class\": \"NORMAL\"}, {\"Sentence\": \" But arrive Yaounde , board , transportation instruction covered Bwelle \", \"Label\": 0, \"Class\": \"NORMAL\"}, {\"Sentence\": \" &quot; He &apos;s hero , without doubt , &quot; O &apos;Malley said \", \"Label\": 0, \"Class\": \"NORMAL\"}, {\"Sentence\": \" He gives life organization , desire help Cameroon people everlasting \", \"Label\": 0, \"Class\": \"NORMAL\"}, {\"Sentence\": \" For Bwelle , near-constant workload &apos;t hardship \", \"Label\": 0, \"Class\": \"NORMAL\"}, {\"Sentence\": \" Helping others live happier lives , fulfilling promise made father , something brings great joy \", \"Label\": 0, \"Class\": \"NORMAL\"}, {\"Sentence\": \" &quot; I happy I work , &quot; Bwelle said \", \"Label\": 0, \"Class\": \"NORMAL\"}, {\"Sentence\": \"And I think father\", \"Label\": 0, \"Class\": \"NORMAL\"}, {\"Sentence\": \"I hope sees I\", \"Label\": 0, \"Class\": \"NORMAL\"}, {\"Sentence\": \" To make people laugh , reduce pain , &apos;s I &apos;m \", \"Label\": 0, \"Class\": \"NORMAL\"}, {\"Sentence\": \"Check ASCOVIME website see help\", \"Label\": 0, \"Class\": \"NORMAL\"}, {\"Sentence\": \"Endurance pays dividends Six teams battled become champion club tennis tournament\", \"Label\": 0, \"Class\": \"NORMAL\"}, {\"Sentence\": \" In end , endurance Maier / Bronner team decided final match \", \"Label\": 0, \"Class\": \"NORMAL\"}, {\"Sentence\": \"The tennis division Sportfreunde Rohrdorf (Rohrdorf Sports Fans) enjoyed perfect weather tournament local clubs enthusiasts\", \"Label\": 0, \"Class\": \"NORMAL\"}, {\"Sentence\": \"The focus tournament fun playing tennis\", \"Label\": 0, \"Class\": \"NORMAL\"}, {\"Sentence\": \" Five matches scheduled team , every team playing one match others \", \"Label\": 0, \"Class\": \"NORMAL\"}, {\"Sentence\": \" The matches doubles matches long set nine points , maximum duration 45 minutes \", \"Label\": 0, \"Class\": \"NORMAL\"}, {\"Sentence\": \" Anja Schlichter managed tournament The organisation tournament placed trusty hands Anja Schlichter , supported Carmen M\\u00fcller Inga Kronemeyer \", \"Label\": 0, \"Class\": \"NORMAL\"}, {\"Sentence\": \" After first three matches lunch break pasta , tournament moved crucial phase \", \"Label\": 0, \"Class\": \"NORMAL\"}, {\"Sentence\": \" The favourites , Andre Maier / Matthias Bronner , tied Michael Klippel Sadmin Osmicic (both teams SG Rohrweiler), meaning last two games produce victor \", \"Label\": 0, \"Class\": \"NORMAL\"}, {\"Sentence\": \" At awards ceremony , Carmen M\\u00fcller finally pleasure presenting Challenge Cup Andre Maier Matthias Bronner , shown greatest staying power final leg \", \"Label\": 0, \"Class\": \"NORMAL\"}, {\"Sentence\": \"Second place taken Michael Klippel / Sadmin Osmicic partnership\", \"Label\": 0, \"Class\": \"NORMAL\"}, {\"Sentence\": \"Bronze went Rainer Bernd Maier Asphaltriecher team\", \"Label\": 0, \"Class\": \"NORMAL\"}, {\"Sentence\": \" In late afternoon sun , accompanied coffee cake , tournament drew successful close \", \"Label\": 0, \"Class\": \"NORMAL\"}, {\"Sentence\": \"Guillaume Nicloux &apos;s adaptation Denis Diderot &apos;s novel boasts exceptional production design period detail also heavier going\", \"Label\": 0, \"Class\": \"NORMAL\"}, {\"Sentence\": \" Unfolding 1760s France , tells grim story Suzanne , young aristocrat sent convent family \", \"Label\": 0, \"Class\": \"NORMAL\"}, {\"Sentence\": \" When rebels , experiences extreme cruelty hands wantonly sadistic Mother Superior becomes object erotic fascination another \", \"Label\": 0, \"Class\": \"NORMAL\"}, {\"Sentence\": \"The film never slips prurience sensationalism - &apos;s problem\", \"Label\": 0, \"Class\": \"NORMAL\"}, {\"Sentence\": \" The earnest solemnity storytelling risks making hair shirt-like ordeal audiences , \", \"Label\": 0, \"Class\": \"NORMAL\"}, {\"Sentence\": \" Google , Samsung , Huawei sued Nortel patents The group owns thousands former Nortel patents filed barrage patent lawsuits Thursday cell phone manufacturers including Google , company outbid Nortel bankruptcy auction \", \"Label\": 0, \"Class\": \"NORMAL\"}, {\"Sentence\": \" Rockstar , consortium bought Nortel patents $ 4\", \"Label\": 0, \"Class\": \"NORMAL\"}, {\"Sentence\": \"5 billion , sued Samsung Electronics Co Ltd , HTC Corp , Huawei four companies patent infringement U\", \"Label\": 0, \"Class\": \"NORMAL\"}, {\"Sentence\": \"S\", \"Label\": 0, \"Class\": \"NORMAL\"}, {\"Sentence\": \"District Court Texas\", \"Label\": 0, \"Class\": \"NORMAL\"}, {\"Sentence\": \" Rockstar jointly owned Apple , Microsoft , Blackberry , Ericsson Sony \", \"Label\": 0, \"Class\": \"NORMAL\"}, {\"Sentence\": \"Google accused infringing seven patents\", \"Label\": 0, \"Class\": \"NORMAL\"}, {\"Sentence\": \" The patents cover technology helps match Internet search terms relevant advertising , lawsuit said , core Google &apos;s search business \", \"Label\": 0, \"Class\": \"NORMAL\"}, {\"Sentence\": \" Representatives Samsung , Huawei , HTC Rockstar could immediately reached \", \"Label\": 0, \"Class\": \"NORMAL\"}, {\"Sentence\": \" Samsung , Huawei HTC manufacture phones operate Google &apos;s Android operating system , competes fiercely Apple Microsoft mobile products \", \"Label\": 0, \"Class\": \"NORMAL\"}, {\"Sentence\": \"In 2011 Google placed initial $ 900 million bid Nortel &apos;s patents\", \"Label\": 0, \"Class\": \"NORMAL\"}, {\"Sentence\": \" Google increased bid several times , ultimately offering much $ 4\", \"Label\": 0, \"Class\": \"NORMAL\"}, {\"Sentence\": \"4 billion\", \"Label\": 0, \"Class\": \"NORMAL\"}, {\"Sentence\": \" After losing Rockstar Nortel patents , Google went acquire Motorola Mobility $ 12\", \"Label\": 0, \"Class\": \"NORMAL\"}, {\"Sentence\": \"5 billion , deal driven partly Motorola &apos;s library patents \", \"Label\": 0, \"Class\": \"NORMAL\"}, {\"Sentence\": \" &quot; Despite losing attempt acquire patents-in-suit auction , Google infringed continues infringe , &quot; lawsuit said \", \"Label\": 0, \"Class\": \"NORMAL\"}, {\"Sentence\": \" Rockstar seeking increased damages Google , claims Google &apos;s patent infringement willful , according complaint \", \"Label\": 0, \"Class\": \"NORMAL\"}, {\"Sentence\": \" Early puberty: Growing older sooner African-American Hispanic girls tend reach puberty earlier white counterparts , research shows \", \"Label\": 0, \"Class\": \"NORMAL\"}, {\"Sentence\": \"Physical changes &apos;t mean puberty imminent There &apos;s evidence hormones chemicals blame Experts think obesity epidemic might one trigger early puberty The trend toward early puberty pronounced boys Former CNN correspondent Pat Etheridge journalist specializing children &apos;s health family issues\", \"Label\": 0, \"Class\": \"NORMAL\"}, {\"Sentence\": \" Should mother alarmed daughter begins sprout breast buds pubic hair 7 8 ? At annual conference American Academy Pediatrics week Orlando , Florida , pediatric endocrinologist Dr\", \"Label\": 0, \"Class\": \"NORMAL\"}, {\"Sentence\": \"Paul Kaplowitz explained early physical changes quite common among American girls represent new norm\", \"Label\": 0, \"Class\": \"NORMAL\"}, {\"Sentence\": \" &quot; I spend lot time reassuring parents -- usually , signal rapid progression full puberty , &quot; said Kaplowitz \", \"Label\": 0, \"Class\": \"NORMAL\"}, {\"Sentence\": \" Obvious signs development , budding breasts , pubic underarm hair body odor appearing sooner girls \", \"Label\": 0, \"Class\": \"NORMAL\"}, {\"Sentence\": \"But slight shift age menarche (the first period) past four decades\", \"Label\": 0, \"Class\": \"NORMAL\"}, {\"Sentence\": \" In United States , average age 12\", \"Label\": 0, \"Class\": \"NORMAL\"}, {\"Sentence\": \"5 years , 12\", \"Label\": 0, \"Class\": \"NORMAL\"}, {\"Sentence\": \"75 1970\", \"Label\": 0, \"Class\": \"NORMAL\"}, {\"Sentence\": \" &quot; Once breasts begin develop , takes least two three years menarche , &quot; said Kaplowitz , also author &quot; Early Puberty Girls: The Essential Guide Coping This Common Problem \", \"Label\": 0, \"Class\": \"NORMAL\"}, {\"Sentence\": \"&quot; Time accurate test puberty going progress\", \"Label\": 0, \"Class\": \"NORMAL\"}, {\"Sentence\": \" There debate constitutes actual onset puberty , considered &quot; precocious &quot; breast enlargement accompanied growth spurt age 8 \", \"Label\": 0, \"Class\": \"NORMAL\"}, {\"Sentence\": \" In cases , process slow stall -- something pediatrician monitor closely \", \"Label\": 0, \"Class\": \"NORMAL\"}, {\"Sentence\": \"A rapid progression may warrant tests endocrinologist rule serious problems tumors cysts\", \"Label\": 0, \"Class\": \"NORMAL\"}, {\"Sentence\": \"There treatments delay early menses ward another consequence: premature aging bones ultimately lead stunted growth short adult\", \"Label\": 0, \"Class\": \"NORMAL\"}, {\"Sentence\": \" Recommendations drug hormone therapy based child &apos;s age , rate development , growth rate emotional maturity \", \"Label\": 0, \"Class\": \"NORMAL\"}, {\"Sentence\": \" Psychosocial aspects important , \", \"Label\": 0, \"Class\": \"NORMAL\"}, {\"Sentence\": \" Kaplowitz cautious medication acknowledges , &quot; suppressing puberty may alleviate behavioral issues girls &apos; feelings different peers \", \"Label\": 0, \"Class\": \"NORMAL\"}, {\"Sentence\": \"&quot; The big issue understandable: Parents simply &apos;t want young daughters periods\", \"Label\": 0, \"Class\": \"NORMAL\"}, {\"Sentence\": \" &quot; They worry risk pregnancy even handle hygiene , &quot; said Kaplowitz \", \"Label\": 0, \"Class\": \"NORMAL\"}, {\"Sentence\": \" &quot; It shock , &quot; recalls one woman whose daughter started period 10 \", \"Label\": 0, \"Class\": \"NORMAL\"}, {\"Sentence\": \" Even though signs talked menstruation , emotionally prepared \", \"Label\": 0, \"Class\": \"NORMAL\"}, {\"Sentence\": \"She came home school scared upset first among friends\", \"Label\": 0, \"Class\": \"NORMAL\"}, {\"Sentence\": \"There lots well-publicized theories causes precocious puberty\", \"Label\": 0, \"Class\": \"NORMAL\"}, {\"Sentence\": \" Yet , &apos;s consistent body evidence hormones milk foods , chemicals environment sexual messages media blame \", \"Label\": 0, \"Class\": \"NORMAL\"}, {\"Sentence\": \"Boys - like girls - hitting puberty earlier\", \"Label\": 0, \"Class\": \"NORMAL\"}, {\"Sentence\": \"Kaplowitz contends premise holds weight epidemic obesity\", \"Label\": 0, \"Class\": \"NORMAL\"}, {\"Sentence\": \"He helped conduct 2001 study 6- 9-year-old girls links body fat timing puberty\", \"Label\": 0, \"Class\": \"NORMAL\"}, {\"Sentence\": \" Other findings support conclusion , many contributing factors \", \"Label\": 0, \"Class\": \"NORMAL\"}, {\"Sentence\": \" In country , African-American Hispanic girls tend reach puberty earlier white counterparts \", \"Label\": 0, \"Class\": \"NORMAL\"}, {\"Sentence\": \"There varying explanations\", \"Label\": 0, \"Class\": \"NORMAL\"}, {\"Sentence\": \" Globally , patterns early puberty appear influenced everything economic conditions climate genes \", \"Label\": 0, \"Class\": \"NORMAL\"}, {\"Sentence\": \" Another conundrum: Although boys getting facial pubic hair younger ages , trend toward full-blown early puberty pronounced girls \", \"Label\": 0, \"Class\": \"NORMAL\"}, {\"Sentence\": \"Other doctors attending AAP conference reinforced complexities topic\", \"Label\": 0, \"Class\": \"NORMAL\"}, {\"Sentence\": \"The appearance acne pubic hair common even infants toddlers\", \"Label\": 0, \"Class\": \"NORMAL\"}, {\"Sentence\": \" &quot; We need careful identify true onset puberty , &quot; said Dr\", \"Label\": 0, \"Class\": \"NORMAL\"}, {\"Sentence\": \" Lawrence Silverman , pediatric endocrinologist Goryeb Children &apos;s Hospital Morristown , New Jersey \", \"Label\": 0, \"Class\": \"NORMAL\"}, {\"Sentence\": \"Parents hesitate get guidance pediatrician talk child\", \"Label\": 0, \"Class\": \"NORMAL\"}, {\"Sentence\": \" &quot; It may mean sooner-than-expected conversation , &quot; Kaplowitz advised \", \"Label\": 0, \"Class\": \"NORMAL\"}, {\"Sentence\": \" If remain calm , child usually respond well \", \"Label\": 0, \"Class\": \"NORMAL\"}, {\"Sentence\": \" Girls blossom early need reassurance , even happens ahead schedule , process normal part life \", \"Label\": 0, \"Class\": \"NORMAL\"}, {\"Sentence\": \" Issuing statements regarding Merkel spying scandal Russia The former US intelligence expert , Edward Snowden , may make statements regarding US espionage scandal involving Federal Chancellor , Angela Merkel , Russian asylum \", \"Label\": 0, \"Class\": \"NORMAL\"}, {\"Sentence\": \" Representatives German Federal Prosecutor &apos;s Office could either submit questions writing meet 30-year-old person Russia , reported Interfax Agency \", \"Label\": 0, \"Class\": \"NORMAL\"}, {\"Sentence\": \" Green Party parliament representative , Hans-Christian Str\\u00f6bele , yesterday first German politician meet Snowden Moscow , discuss scandal \", \"Label\": 0, \"Class\": \"NORMAL\"}, {\"Sentence\": \" Cocaine-addict lawyer tipped Mr Big police investigation jailed Basharat Ditta , 42 , would feed information crime lord Neil Scarbrough The solicitor feared secret drug addiction would exposed Was given three-year prison sentence Liverpool Crown Court A top defence lawyer told drugs Mr Big major police investigation , feared secret drug addiction would exposed , jailed three years \", \"Label\": 0, \"Class\": \"NORMAL\"}, {\"Sentence\": \" Basharat Ditta , 42 , would feed sensitive intelligence crime lord Neil Scarbrough inquiries drug trafficking activities became compromised cocaine habit \", \"Label\": 0, \"Class\": \"NORMAL\"}, {\"Sentence\": \" The solicitor , nicknamed &quot; Bash &quot; hailed criminals &quot; top brief , &quot; arrested home 2011 following police surveillance operation Scarborough , represented previous narcotics trial \", \"Label\": 0, \"Class\": \"NORMAL\"}, {\"Sentence\": \" Officers spotted Sarborough , 32 , dropping three bags cocaine lawyer &apos;s home Blackburn , Lancashire , Law Society dinner colleagues \", \"Label\": 0, \"Class\": \"NORMAL\"}, {\"Sentence\": \" Inquiries revealed Ditta &quot; regular user &quot; Class A drug tests found traces cocaine hair , wallet credit cards \", \"Label\": 0, \"Class\": \"NORMAL\"}, {\"Sentence\": \"Over eight month period January August 2011 sought illicitly obtain information arrests two men behalf Scarborough well one associates\", \"Label\": 0, \"Class\": \"NORMAL\"}, {\"Sentence\": \" All four suspects watched police time part major investigation heroin cocaine racket operating across Lancashire , Cumbria , Merseyside , Berkshire West Yorkshire \", \"Label\": 0, \"Class\": \"NORMAL\"}, {\"Sentence\": \"They 32 men later jailed police seized heroin cocaine worth \\u00a3 1\", \"Label\": 0, \"Class\": \"NORMAL\"}, {\"Sentence\": \"5million along \\u00a3 200,000 cash series raids \", \"Label\": 0, \"Class\": \"NORMAL\"}, {\"Sentence\": \" Ditta , 42 , fed information criminals fears cocaine addiction would exposed Today Liverpool Crown Court Ditta , works law firm Forbes Solicitors , based Blackburn , facing disgrace found guilty two counts perverting course justice following three week trial Liverpool Crown Court \", \"Label\": 0, \"Class\": \"NORMAL\"}, {\"Sentence\": \"He admitted cocaine possession earlier hearing\", \"Label\": 0, \"Class\": \"NORMAL\"}, {\"Sentence\": \"The lawyer &apos;s downfall came police investigating Scarborough discovered regular phone contact Ditta February 2011\", \"Label\": 0, \"Class\": \"NORMAL\"}, {\"Sentence\": \"Two detectives trailed suspect spotted arriving Ditta &apos;s house seen place drugs purity 60 per cent lawyer &apos;s bins black golf glove\", \"Label\": 0, \"Class\": \"NORMAL\"}, {\"Sentence\": \" Soon drop , Scarborough regular phone contact Ditta dinner Blackburn Rovers football stadium , Ewood Park \", \"Label\": 0, \"Class\": \"NORMAL\"}, {\"Sentence\": \"The lawyer returned home discover drugs nine communications\", \"Label\": 0, \"Class\": \"NORMAL\"}, {\"Sentence\": \" The court heard Ditta &quot; regular user &quot; cocaine tests found traces Class A drug hair , wallet credit cards Ditta arrested later denied using cocaine said speaking suspected dealer client argued discussions subject &quot; legal privilege \", \"Label\": 0, \"Class\": \"NORMAL\"}, {\"Sentence\": \"&quot; During arrest Ditta picked wallet tried remove several credit cards seized hair sample taken fom\", \"Label\": 0, \"Class\": \"NORMAL\"}, {\"Sentence\": \"In police interview said ran office home address well work place clients would call house legal business\", \"Label\": 0, \"Class\": \"NORMAL\"}, {\"Sentence\": \" But court heard would call major players drugs supply chain , previously represented , key arrests tell detectives knew \", \"Label\": 0, \"Class\": \"NORMAL\"}, {\"Sentence\": \" Prosecuting , Anne Whyte said: &quot; If anyone know break law , criminal solicitor \", \"Label\": 0, \"Class\": \"NORMAL\"}, {\"Sentence\": \" &quot; Mr Ditta accused abusing position criminal solicitor , become involved specific clients \", \"Label\": 0, \"Class\": \"NORMAL\"}, {\"Sentence\": \" The relationship talking simply drug dealer , drug dealer providing lawyer drugs \", \"Label\": 0, \"Class\": \"NORMAL\"}, {\"Sentence\": \"Some communications undoubtedly legitimate ones lawyer\", \"Label\": 0, \"Class\": \"NORMAL\"}, {\"Sentence\": \"But went way beyond ordinary confines lawyer-client relationship\", \"Label\": 0, \"Class\": \"NORMAL\"}, {\"Sentence\": \"He thwarted police &apos;s investigation much possible enable continue criminal activities\", \"Label\": 0, \"Class\": \"NORMAL\"}, {\"Sentence\": \" Mr Ditta honouring profession , dishonouring \", \"Label\": 0, \"Class\": \"NORMAL\"}, {\"Sentence\": \" He got close certain clients , particular Scarborough , allowed independence compromised \", \"Label\": 0, \"Class\": \"NORMAL\"}, {\"Sentence\": \" Ditta denied wrongdoing claimed: &quot; If I corrupt lawyer , I , I wanted feed information Mr Scarborough , I would wait 15 hours , I would immediately \", \"Label\": 0, \"Class\": \"NORMAL\"}, {\"Sentence\": \"&quot; But hearing Supt Lee Halstead Lancashire Police said: &quot; Mr Ditta turned criminal solicitor criminal moment started obtaining drugs organised criminals\", \"Label\": 0, \"Class\": \"NORMAL\"}, {\"Sentence\": \"&quot; His addiction cocaine left hopelessly compromised vulnerable motives leading members organised crime groups tasked obtain valuable information regarding police investigations\", \"Label\": 0, \"Class\": \"NORMAL\"}, {\"Sentence\": \"Solicitors uphold highest standards integrity instil trust confidence public\", \"Label\": 0, \"Class\": \"NORMAL\"}, {\"Sentence\": \"Mr Ditta betrayed trust attempted hide behind veneer profession\", \"Label\": 0, \"Class\": \"NORMAL\"}, {\"Sentence\": \" Lancashire &apos;s Serious Organised Crime Unit led investigation Mr Ditta also seen convicted three counts possession cocaine perverting course justice , demonstrating commitment bringing criminals justice \", \"Label\": 0, \"Class\": \"NORMAL\"}, {\"Sentence\": \"Let case serve warning criminals one beyond reach law\", \"Label\": 0, \"Class\": \"NORMAL\"}, {\"Sentence\": \"We find put courts\", \"Label\": 0, \"Class\": \"NORMAL\"}, {\"Sentence\": \" Scarborough jailed 14 years pleading guilty conspiracy supply heroin , cocaine cannabis \", \"Label\": 0, \"Class\": \"NORMAL\"}, {\"Sentence\": \"Thirty five men involved racket jailed total 153 years drugs offences\", \"Label\": 0, \"Class\": \"NORMAL\"}, {\"Sentence\": \" On website Ditta gave question answer session says fantasy job would lawyer representing clients Death Row America , ultimate dinner guest Mohammed Ali inequality motivation work \", \"Label\": 0, \"Class\": \"NORMAL\"}, {\"Sentence\": \" US-Mexico drug tunnel railway found One sophisticated drug smuggling tunnels USA Mexico found , complete lighting , ventilation electric rail systems \", \"Label\": 0, \"Class\": \"NORMAL\"}, {\"Sentence\": \"US authorities described four foot three foot tunnel one sophisticated secret passages ever discovered\", \"Label\": 0, \"Class\": \"NORMAL\"}, {\"Sentence\": \" The tunnel , zigzags length nearly six football pitches , links warehouses near Tijuana , Mexico San Diego , USA \", \"Label\": 0, \"Class\": \"NORMAL\"}, {\"Sentence\": \" The area filled nondescript warehouses , making easier conceal trucks loaded drugs \", \"Label\": 0, \"Class\": \"NORMAL\"}, {\"Sentence\": \" The tunnel shut drugs made undetected , authorities said \", \"Label\": 0, \"Class\": \"NORMAL\"}, {\"Sentence\": \" Authorities seized eight-and-a-half tons marijuana 327 pounds cocaine connection tunnel &apos;s discovery , according court records \", \"Label\": 0, \"Class\": \"NORMAL\"}, {\"Sentence\": \"Three men authorities say worked drivers charged possession marijuana cocaine intent distribute\", \"Label\": 0, \"Class\": \"NORMAL\"}, {\"Sentence\": \"They face prison sentences 10 years life imprisonment convicted\", \"Label\": 0, \"Class\": \"NORMAL\"}, {\"Sentence\": \" In Nogales , Arizona , smugglers tap vast underground drainage canals \", \"Label\": 0, \"Class\": \"NORMAL\"}, {\"Sentence\": \"The tunnel eighth major passage discovered San Diego since 2006\", \"Label\": 0, \"Class\": \"NORMAL\"}, {\"Sentence\": \" Some largest tunnels discovered central Mexico &apos;s marijuana harvest October , presents drug cartels challenge quickly get product consumers \", \"Label\": 0, \"Class\": \"NORMAL\"}, {\"Sentence\": \" In 2010 , authorities found roughly 700-yard passage equipped rail tracks extended kitchen Tijuana home two San Diego warehouses \", \"Label\": 0, \"Class\": \"NORMAL\"}, {\"Sentence\": \"Frontier Airlines charge carry-on baggage Frontier Airlines plans charge $ 100 passengers store carry-on luggage board flight\", \"Label\": 0, \"Class\": \"NORMAL\"}, {\"Sentence\": \" Frontier Airlines plans start charging $ 100 carry-on bag $ 2 coffee soda , although announcement Wednesday say passengers get keep whole \", \"Label\": 0, \"Class\": \"NORMAL\"}, {\"Sentence\": \" The new carry-on fee bags overhead bin , small bags seat still free \", \"Label\": 0, \"Class\": \"NORMAL\"}, {\"Sentence\": \" Frontier said charge $ 25 fee paid advance , $ 100 travelers wait pay &apos;re gate \", \"Label\": 0, \"Class\": \"NORMAL\"}, {\"Sentence\": \"Frontier spokeswoman Kate O &apos;Malley said $ 100 fee get travelers take care charge advance\", \"Label\": 0, \"Class\": \"NORMAL\"}, {\"Sentence\": \" &quot; We &apos;t want charge , &quot; said \", \"Label\": 0, \"Class\": \"NORMAL\"}, {\"Sentence\": \"Airlines began charging first second checked bags 2008\", \"Label\": 0, \"Class\": \"NORMAL\"}, {\"Sentence\": \" Passengers trying avoid fees stuffing much carry-on baggage stashed overhead bins , meaning bins often run space \", \"Label\": 0, \"Class\": \"NORMAL\"}, {\"Sentence\": \"Fees one way get passengers bring less board\", \"Label\": 0, \"Class\": \"NORMAL\"}, {\"Sentence\": \"O &apos;Malley said new charge really raising money\", \"Label\": 0, \"Class\": \"NORMAL\"}, {\"Sentence\": \"It &apos;s Frontier &apos;s loyal customers making clear finding overhead bin space become increasingly difficult\", \"Label\": 0, \"Class\": \"NORMAL\"}, {\"Sentence\": \"Passengers buy tickets airline &apos;s website &apos;t pay\", \"Label\": 0, \"Class\": \"NORMAL\"}, {\"Sentence\": \" That means one passenger line Frontier gate might get bring bag free , next person line might owe $ 100 similar bag \", \"Label\": 0, \"Class\": \"NORMAL\"}, {\"Sentence\": \"O &apos;Malley said Frontier &apos;s website check-in procedures changed make sure passengers know fee get gate\", \"Label\": 0, \"Class\": \"NORMAL\"}, {\"Sentence\": \" Frontier &apos;s new carry-on fee &apos;t start summer , though date &apos;t set \", \"Label\": 0, \"Class\": \"NORMAL\"}, {\"Sentence\": \" Passengers often grumble baggage charges fees , airlines love \", \"Label\": 0, \"Class\": \"NORMAL\"}, {\"Sentence\": \" They argue luggage costs money handle , passengers want service pay \", \"Label\": 0, \"Class\": \"NORMAL\"}, {\"Sentence\": \"Many Wall Street view addition baggage fees sign airlines charging enough money cover cost air travel years losses\", \"Label\": 0, \"Class\": \"NORMAL\"}, {\"Sentence\": \" Most &apos;t touched carry-on bag fees , though \", \"Label\": 0, \"Class\": \"NORMAL\"}, {\"Sentence\": \"Spirit Airlines Inc\", \"Label\": 0, \"Class\": \"NORMAL\"}, {\"Sentence\": \" started first carry-on fee three years ago , fellow discounter Allegiant Air later followed \", \"Label\": 0, \"Class\": \"NORMAL\"}, {\"Sentence\": \" The airline fee Hungary &apos;s Wizz Air , said airline consultant Jay Sorensen , closely tracks add-on fees \", \"Label\": 0, \"Class\": \"NORMAL\"}, {\"Sentence\": \"He estimated December 2011 report Spirit &apos;s carry-on fee brings $ 50 million year\", \"Label\": 0, \"Class\": \"NORMAL\"}, {\"Sentence\": \" Sorensen , former executive Midwest Airlines , flew Spirit recently wondered &apos;d find gate passengers encountered Spirit &apos;s unusual carry-on bag fee \", \"Label\": 0, \"Class\": \"NORMAL\"}, {\"Sentence\": \" &quot; The boarding process smoothest I seen airline career , &quot; said \", \"Label\": 0, \"Class\": \"NORMAL\"}, {\"Sentence\": \"I expecting see gnashing teeth fight breaking gate\", \"Label\": 0, \"Class\": \"NORMAL\"}, {\"Sentence\": \" The plane full , said , &quot; boarded lickety-split \", \"Label\": 0, \"Class\": \"NORMAL\"}, {\"Sentence\": \" &quot; Frontier also following Spirit &apos;s $ 2 charge coffee , tea , soda , juice \", \"Label\": 0, \"Class\": \"NORMAL\"}, {\"Sentence\": \" Frontier said passengers get soda juice keep whole , give coffee refills free \", \"Label\": 0, \"Class\": \"NORMAL\"}, {\"Sentence\": \"It still give away water\", \"Label\": 0, \"Class\": \"NORMAL\"}, {\"Sentence\": \"US Airways briefly tried charging beverages 2008 backed seven months later passengers complained major airline followed\", \"Label\": 0, \"Class\": \"NORMAL\"}, {\"Sentence\": \"Frontier &apos;s move charge carry-on fee passengers &apos;t buy direct airline latest effort steer customers toward website\", \"Label\": 0, \"Class\": \"NORMAL\"}, {\"Sentence\": \"Airlines pay online travel sellers Orbitz $ 10 $ 25 ticket sold\", \"Label\": 0, \"Class\": \"NORMAL\"}, {\"Sentence\": \"That given airlines incentive steer passengers buy directly instead going online travel agency\", \"Label\": 0, \"Class\": \"NORMAL\"}, {\"Sentence\": \" Frontier gone furthest area , though \", \"Label\": 0, \"Class\": \"NORMAL\"}, {\"Sentence\": \"In September began giving half many frequent flier miles customers bought online travel agency\", \"Label\": 0, \"Class\": \"NORMAL\"}, {\"Sentence\": \"On Wednesday slashed mileage award 25 percent miles trip\", \"Label\": 0, \"Class\": \"NORMAL\"}, {\"Sentence\": \" So , 1,000 mile Frontier trip purchased online travel agency would earn 250 miles \", \"Label\": 0, \"Class\": \"NORMAL\"}, {\"Sentence\": \"It also allows passengers choose seat advance buy directly Frontier website\", \"Label\": 0, \"Class\": \"NORMAL\"}, {\"Sentence\": \" Frontier loyal base customers home city Denver , business shrinking losing money \", \"Label\": 0, \"Class\": \"NORMAL\"}, {\"Sentence\": \" Revenue dropped 9 percent flying capacity shrank almost 13 percent first quarter , according financial results released Wednesday corporate parent Republic Airways Holdings Inc \", \"Label\": 0, \"Class\": \"NORMAL\"}, {\"Sentence\": \"Republic trying fix Frontier &apos;s finances part selling airline\", \"Label\": 0, \"Class\": \"NORMAL\"}, {\"Sentence\": \" US borders: &quot; Super tunnel &quot; drug smuggling discovered On border Mexico USA , investigators discovered shut &quot; super tunnel &quot; intended drug smuggling \", \"Label\": 0, \"Class\": \"NORMAL\"}, {\"Sentence\": \" As announced US Customs Authorities , pipe Tijuana San Diego , measuring 500 metres length , equipped electricity , railway track ventilation system \", \"Label\": 0, \"Class\": \"NORMAL\"}, {\"Sentence\": \" Three suspects detained relation discovery , eight tonnes marijuana almost 150 kilograms cocaine seized \", \"Label\": 0, \"Class\": \"NORMAL\"}, {\"Sentence\": \" According details provided , tunnel yet put use \", \"Label\": 0, \"Class\": \"NORMAL\"}, {\"Sentence\": \" &quot; These cartels stupid think dig radar , &quot; said US Attorney District Southern California , Laura Diffy , press conference held front warehouse San Diego , end tunnel discovered \", \"Label\": 0, \"Class\": \"NORMAL\"}, {\"Sentence\": \" Referring drug gangs , Duffy assured: &quot; If continue build attempt use tunnels , determined make big waste dirty money &quot; \", \"Label\": 0, \"Class\": \"NORMAL\"}, {\"Sentence\": \"Both US authorities Mexican security forces engaged ongoing battle drug cartels\", \"Label\": 0, \"Class\": \"NORMAL\"}, {\"Sentence\": \" Since 2006 , 77,000 people killed conjunction drug crime Mexico \", \"Label\": 0, \"Class\": \"NORMAL\"}, {\"Sentence\": \" Built experts Due elaborate configuration tunnel , investigators working assumption build architects engineers construction took around one year \", \"Label\": 0, \"Class\": \"NORMAL\"}, {\"Sentence\": \"The railway system equipped way electrically powered carts could used\", \"Label\": 0, \"Class\": \"NORMAL\"}, {\"Sentence\": \" On Mexican side , entrance located building located 80 metres border \", \"Label\": 0, \"Class\": \"NORMAL\"}, {\"Sentence\": \" According authorities , ladder runs 20 metres underground actual entrance tunnel \", \"Label\": 0, \"Class\": \"NORMAL\"}, {\"Sentence\": \"The tunnel cross-section measuring 1\", \"Label\": 0, \"Class\": \"NORMAL\"}, {\"Sentence\": \"20 metres high 90 centimetres across\", \"Label\": 0, \"Class\": \"NORMAL\"}, {\"Sentence\": \"It would thus suitable assist illegal immigration USA\", \"Label\": 0, \"Class\": \"NORMAL\"}, {\"Sentence\": \"Two suspects detained conjunction cocaine find\", \"Label\": 0, \"Class\": \"NORMAL\"}, {\"Sentence\": \" The third , Mexican , detained due seizure marijuana \", \"Label\": 0, \"Class\": \"NORMAL\"}, {\"Sentence\": \" All three face maximum penalty life imprisonment , according authorities \", \"Label\": 0, \"Class\": \"NORMAL\"}, {\"Sentence\": \" Since 2006 , eight tunnels type discovered , press conference San Diego continued \", \"Label\": 0, \"Class\": \"NORMAL\"}, {\"Sentence\": \" However , first time cocaine found tunnel construction \", \"Label\": 0, \"Class\": \"NORMAL\"}, {\"Sentence\": \"Normally cocaine smuggled smaller quantities tunnels\", \"Label\": 0, \"Class\": \"NORMAL\"}, {\"Sentence\": \" This shows &quot; desperation &quot; drug gangs , whose traditional routes cut , said Bill Sherman DEA Drug Squad San Diego \", \"Label\": 0, \"Class\": \"NORMAL\"}, {\"Sentence\": \"They anything make USA\", \"Label\": 0, \"Class\": \"NORMAL\"}, {\"Sentence\": \" No specific details given regarding detained , reported least one Mexican They expect prison terms ten years \", \"Label\": 0, \"Class\": \"NORMAL\"}, {\"Sentence\": \"Dog-lovers victorious Once athletes Bitz dog-lovers association victorious Rally Obedience Tournament\", \"Label\": 0, \"Class\": \"NORMAL\"}, {\"Sentence\": \" Achim Scherrenbacher started things Kandel two dogs; bitch Sandy achieved 94 points Beginners class thus took fifth place , 15-month-old Marley took twelfth place 87 points \", \"Label\": 0, \"Class\": \"NORMAL\"}, {\"Sentence\": \" With dog Woody competing Class 1 competition , Susi H\\u00f6pp subject critical scrutiny judge \", \"Label\": 0, \"Class\": \"NORMAL\"}, {\"Sentence\": \" Land Rover rally series announced The interior racing seats six-point harness belts , well intercom system \", \"Label\": 0, \"Class\": \"NORMAL\"}, {\"Sentence\": \" Options include upgraded brakes , service package providing access Bowler Works mechanics , logistic support , vehicle storage events \", \"Label\": 0, \"Class\": \"NORMAL\"}, {\"Sentence\": \" Drew Bowler , managing director Bowler Motorsport , said: &quot; Rally customers coming Bowler changed \", \"Label\": 0, \"Class\": \"NORMAL\"}, {\"Sentence\": \" &quot; They &apos;re experienced racers , people looking excitement adventure , achievable path towards world-class events \", \"Label\": 0, \"Class\": \"NORMAL\"}, {\"Sentence\": \" We &apos;re delighted offering path partnership Land Rover MSA , believe format offers new way experience different rally disciplines UK overseas , prepare entrants rigours realities Rally Raid \", \"Label\": 0, \"Class\": \"NORMAL\"}, {\"Sentence\": \"We &apos;ve really enjoyed developing Defender Challenge car - &apos;ll really fun championship\", \"Label\": 0, \"Class\": \"NORMAL\"}, {\"Sentence\": \" Additionally , Defender Challenge provide training test day February , well option compete desert events North Africa Middle East \", \"Label\": 0, \"Class\": \"NORMAL\"}, {\"Sentence\": \" Ben Greenman: The Tenth Anniversary New York Comedy Festival: The New Yorker One could argue New York City birthplace standup comedy America: nearly hundred years ago , vaudevillian Frank Fay , served master ceremonies Palace Theatre , Broadway , started telling jokes directly crowd , conversational manner \", \"Label\": 0, \"Class\": \"NORMAL\"}, {\"Sentence\": \" Fay &apos;s innovation extended years , recently New York Comedy Festival \", \"Label\": 0, \"Class\": \"NORMAL\"}, {\"Sentence\": \" Created overseen Caroline Hirsch , founder standup institution Carolines , festival celebrates tenth anniversary year , sixty shows small clubs large theatres \", \"Label\": 0, \"Class\": \"NORMAL\"}, {\"Sentence\": \" &quot; Most headliners appeared Carolines , went greater success , point &apos;re big play club , &quot; Hirsch said \", \"Label\": 0, \"Class\": \"NORMAL\"}, {\"Sentence\": \"We built festival way continuing work\", \"Label\": 0, \"Class\": \"NORMAL\"}, {\"Sentence\": \" This year &apos;s event includes appearances Wanda Sykes , Kathy Griffin , Bill Maher , well &quot; Stand Up Heroes , &quot; annual music-and-comedy benefit military veterans , Madison Square Garden , featuring , among others , Bruce Springsteen , Jon Stewart , Roger Waters , Bill Cosby \", \"Label\": 0, \"Class\": \"NORMAL\"}, {\"Sentence\": \" As festival expanded , world comedy \", \"Label\": 0, \"Class\": \"NORMAL\"}, {\"Sentence\": \" Several comedians participating year &apos;s festival came nontraditional channels , shows smaller networks , like Comedy Central , FX , Spike \", \"Label\": 0, \"Class\": \"NORMAL\"}, {\"Sentence\": \"Nick Kroll rose prominence deep-cable sitcom (FXX &apos;s gleefully raunchy fantasy-football-themed &quot; The League &quot;) Comedy Central sketch show\", \"Label\": 0, \"Class\": \"NORMAL\"}, {\"Sentence\": \" Jenny Slate cast member &quot; Saturday Night Live &quot; &quot; Parks Recreation , &quot; though best known viral video series &quot; Marcel Shell Shoes On \", \"Label\": 0, \"Class\": \"NORMAL\"}, {\"Sentence\": \" &quot; Both Kroll Slate , well young comedians distinctive voices (the surreally pessimistic Anthony Jeselnik , wry , racially focussed W\", \"Label\": 0, \"Class\": \"NORMAL\"}, {\"Sentence\": \" Kamau Bell), products decentralized world American comedy \", \"Label\": 0, \"Class\": \"NORMAL\"}, {\"Sentence\": \"One festival &apos;s biggest draws interview: David Steinberg talking Larry David\", \"Label\": 0, \"Class\": \"NORMAL\"}, {\"Sentence\": \" Steinberg started standup comedian become accomplished television film director , well unofficial comedy historian \", \"Label\": 0, \"Class\": \"NORMAL\"}, {\"Sentence\": \" From 2005 2007 , hosted show TV Land called &quot; Sit Down Comedy David Steinberg \", \"Label\": 0, \"Class\": \"NORMAL\"}, {\"Sentence\": \" &quot; The meeting takes place Town Hall , center Manhattan \", \"Label\": 0, \"Class\": \"NORMAL\"}, {\"Sentence\": \" &quot; The city definitely comedy DNA Larry &apos;s work , &quot; Steinberg said \", \"Label\": 0, \"Class\": \"NORMAL\"}, {\"Sentence\": \" He telling , &apos;s , sometimes &apos;ll walk alley two buildings think , Hey , I lose money , maybe I &apos;ll live \", \"Label\": 0, \"Class\": \"NORMAL\"}, {\"Sentence\": \"Australian woman appeals Thai jail time A 21-year-old Sydney woman sentenced 15 days jail Phuket falsely claiming assaulted taxi driver appealing verdict granted bail\", \"Label\": 0, \"Class\": \"NORMAL\"}, {\"Sentence\": \" Stevie Rochelle Bamford initially found guilty Phuket provincial court June 15 making false claims telling Thai police local taxi driver , two men restraining , carried assault early hours Sunday June 10 \", \"Label\": 0, \"Class\": \"NORMAL\"}, {\"Sentence\": \" However , CCTV footage later revealed returned hotel safely becoming separated Australian boyfriend \", \"Label\": 0, \"Class\": \"NORMAL\"}, {\"Sentence\": \"Phuket police interviewed Bamford two days confessed fabricating story\", \"Label\": 0, \"Class\": \"NORMAL\"}, {\"Sentence\": \"She held local police cells court hearing\", \"Label\": 0, \"Class\": \"NORMAL\"}, {\"Sentence\": \"Bamford sentenced serve 15-day prison term low security detention centre outskirts Phuket rather adult women &apos;s jail\", \"Label\": 0, \"Class\": \"NORMAL\"}, {\"Sentence\": \" She daughter former Australian league player Peter Tunks , appealed Department Foreign Affairs Canberra assist daughter \", \"Label\": 0, \"Class\": \"NORMAL\"}, {\"Sentence\": \"Tunks told Sydney &apos;s Sunday Telegraph whole family &quot; extremely concerned &quot; daughter &apos;s welfare wanted back Australia\", \"Label\": 0, \"Class\": \"NORMAL\"}, {\"Sentence\": \" &quot; It &apos;s obviously worrying time &apos;re hopeful back home safely soon possible , &quot; Tunks said \", \"Label\": 0, \"Class\": \"NORMAL\"}, {\"Sentence\": \" Bamford appealing sentence granted bail 50,000 baht \", \"Label\": 0, \"Class\": \"NORMAL\"}, {\"Sentence\": \" Reports Australia said meantime , holidaying resort area Krabi Southern Thailand \", \"Label\": 0, \"Class\": \"NORMAL\"}, {\"Sentence\": \"Thai-based legal sources said Bamford represented local lawyer Phuket warned appeal may lead court increasing sentence two years forcing serve adult prison\", \"Label\": 0, \"Class\": \"NORMAL\"}, {\"Sentence\": \" However , following recent murder Australian travel agent Michelle Smith Phuket , Thailand may also looking repair battered tourist image , leading acquittal \", \"Label\": 0, \"Class\": \"NORMAL\"}, {\"Sentence\": \" Bombardier profit dips plane deliveries , orders fall Canadian plane train maker Bombardier Inc reported 15 percent fall net profit Thursday , pressured fewer aircraft orders deliveries third quarter contract issues train unit \", \"Label\": 0, \"Class\": \"NORMAL\"}, {\"Sentence\": \"Montreal-based Bombardier also release flight test data brand-new CSeries aircraft offer update whether plane meet ambitious schedule going commercial service next September\", \"Label\": 0, \"Class\": \"NORMAL\"}, {\"Sentence\": \" After test plane &apos;s inaugural flight month half ago , flown three times , raising questions whether testing phase track \", \"Label\": 0, \"Class\": \"NORMAL\"}, {\"Sentence\": \"Results fell short forecasts sent shares sliding 8 percent Toronto Stock Exchange\", \"Label\": 0, \"Class\": \"NORMAL\"}, {\"Sentence\": \" Cameron Doerksen , analyst National Bank Financial , lowered rating &quot; sector perform &quot; &quot; outperform &quot; Thursday view stock limited upside next one two quarters \", \"Label\": 0, \"Class\": \"NORMAL\"}, {\"Sentence\": \" &quot; While weaker aircraft deliveries mostly anticipated , clearly disappointed margin performance transportation , &quot; Doerksen said client note \", \"Label\": 0, \"Class\": \"NORMAL\"}, {\"Sentence\": \"We believe Bombardier receive new orders CSeries flight test program progresses\", \"Label\": 0, \"Class\": \"NORMAL\"}, {\"Sentence\": \" However , new orders announced coming months , suspect market become skeptical program \", \"Label\": 0, \"Class\": \"NORMAL\"}, {\"Sentence\": \"Bombardier hopes CSeries aircraft family catapult low end market dominated Boeing Airbus\", \"Label\": 0, \"Class\": \"NORMAL\"}, {\"Sentence\": \"The first test plane unveiled March took flight first time September months delays\", \"Label\": 0, \"Class\": \"NORMAL\"}, {\"Sentence\": \"But firm orders CSeries moderate far 177 potential buyers wait flight test results validate company &apos;s claims new jetliner &apos;s fuel efficiency cost savings potential\", \"Label\": 0, \"Class\": \"NORMAL\"}, {\"Sentence\": \"There currently 403 total orders commitments 15 customers operators\", \"Label\": 0, \"Class\": \"NORMAL\"}, {\"Sentence\": \"Chief Executive Officer Pierre Beaudoin confident Bombardier would meet 300 firm order target time first jet put commercial use\", \"Label\": 0, \"Class\": \"NORMAL\"}, {\"Sentence\": \"Executives also reassured analysts media Thursday program progressing according schedule\", \"Label\": 0, \"Class\": \"NORMAL\"}, {\"Sentence\": \" &quot; The test plane &apos;t stay ground longer anticipated , &quot; Beaudoin said conference call , adding ground tests software updates scheduled plane &apos;s downtime \", \"Label\": 0, \"Class\": \"NORMAL\"}, {\"Sentence\": \"Every manufacturer schedules different way\", \"Label\": 0, \"Class\": \"NORMAL\"}, {\"Sentence\": \"We decided first flight update period &apos;s done\", \"Label\": 0, \"Class\": \"NORMAL\"}, {\"Sentence\": \"That happen flight program\", \"Label\": 0, \"Class\": \"NORMAL\"}, {\"Sentence\": \" The second five test planes expected take flight coming weeks , remainder following shortly , company said \", \"Label\": 0, \"Class\": \"NORMAL\"}, {\"Sentence\": \" Still , analysts skeptical first customer begin operating CSeries plane 12 months maiden flight \", \"Label\": 0, \"Class\": \"NORMAL\"}, {\"Sentence\": \"Bombardier said evaluating entry-into-service (EIS) schedule provide update next months\", \"Label\": 0, \"Class\": \"NORMAL\"}, {\"Sentence\": \" &quot; This slow pace flight testing - although line Bombardier &apos;s internal schedule apparently - reinforces view entry-into-service pushed Q1 / 15 , &quot; said Doerksen \", \"Label\": 0, \"Class\": \"NORMAL\"}, {\"Sentence\": \" For third quarter ended September 30 , Bombardier &apos;s net profit fell $ 147 million , 8 cents per share , $ 172 million , 9 cents per share year earlier \", \"Label\": 0, \"Class\": \"NORMAL\"}, {\"Sentence\": \"Adjusted earnings per share unchanged 9 cents\", \"Label\": 0, \"Class\": \"NORMAL\"}, {\"Sentence\": \"Revenue dipped marginally $ 4\", \"Label\": 0, \"Class\": \"NORMAL\"}, {\"Sentence\": \"1 billion $ 4\", \"Label\": 0, \"Class\": \"NORMAL\"}, {\"Sentence\": \"2 billion\", \"Label\": 0, \"Class\": \"NORMAL\"}, {\"Sentence\": \"Analysts expected earnings 10 cents per share revenue $ 4\", \"Label\": 0, \"Class\": \"NORMAL\"}, {\"Sentence\": \"56 billion , according Thomson Reuters I / B / E / S\", \"Label\": 0, \"Class\": \"NORMAL\"}, {\"Sentence\": \" The world &apos;s fourth-largest planemaker said delivered 45 aircraft quarter , 57 year earlier \", \"Label\": 0, \"Class\": \"NORMAL\"}, {\"Sentence\": \" Net orders fell 26 aircraft , 83 \", \"Label\": 0, \"Class\": \"NORMAL\"}, {\"Sentence\": \"The backlog aerospace division $ 32\", \"Label\": 0, \"Class\": \"NORMAL\"}, {\"Sentence\": \"9 billion September 30 , unchanged December 31 \", \"Label\": 0, \"Class\": \"NORMAL\"}, {\"Sentence\": \" &quot; In aerospace , results line guidance , low order intake overall market conditions disappointment , &quot; Beaudoin said \", \"Label\": 0, \"Class\": \"NORMAL\"}, {\"Sentence\": \"Aerospace revenue fell 13 percent $ 2 billion\", \"Label\": 0, \"Class\": \"NORMAL\"}, {\"Sentence\": \" Bombardier , world &apos;s largest trainmaker , said revenue division rose nearly 11 percent $ 2\", \"Label\": 0, \"Class\": \"NORMAL\"}, {\"Sentence\": \"1 billion\", \"Label\": 0, \"Class\": \"NORMAL\"}, {\"Sentence\": \"The order backlog transportation unit $ 32\", \"Label\": 0, \"Class\": \"NORMAL\"}, {\"Sentence\": \"6 billion September 30 , marginally December 31 \", \"Label\": 0, \"Class\": \"NORMAL\"}, {\"Sentence\": \"The transportation division &apos;s margins affected execution issues large contracts\", \"Label\": 0, \"Class\": \"NORMAL\"}, {\"Sentence\": \"Executives said new guidance would provided fourth quarter\", \"Label\": 0, \"Class\": \"NORMAL\"}, {\"Sentence\": \" Shares Bombardier , also announced Google Inc Chief Financial Officer Patrick Pichette would join board , 8\", \"Label\": 0, \"Class\": \"NORMAL\"}, {\"Sentence\": \"5 percent C $ 4\", \"Label\": 0, \"Class\": \"NORMAL\"}, {\"Sentence\": \"83 mid afternoon trading Thursday\", \"Label\": 0, \"Class\": \"NORMAL\"}, {\"Sentence\": \" Brazil &apos;s Embraer SA , world &apos;s third-largest commercial planemaker Bombardier &apos;s closest rival , reported 10 percent fall quarterly profit Thursday \", \"Label\": 0, \"Class\": \"NORMAL\"}, {\"Sentence\": \" Kenyan press outraged controversial media law &quot; It frightening place , valid ask: prevent Parliament simply sweeping away independence judiciary tomorrow ? &quot; paper said , challenging bill unconstitutional \", \"Label\": 0, \"Class\": \"NORMAL\"}, {\"Sentence\": \" &quot; This law draconian punitive reject , &quot; said Cyrus Kamau , managing director Capital Group - home CapitalFM , one Kenya &apos;s respected independent radio stations news websites \", \"Label\": 0, \"Class\": \"NORMAL\"}, {\"Sentence\": \" He said new media tribunal &quot; always biased &apos;s extension government , &quot; restrictions content advertising would damage Kenya &apos;s place global economy \", \"Label\": 0, \"Class\": \"NORMAL\"}, {\"Sentence\": \" &quot; I hope president listen us , appeal reject bill return MPs , &quot; said \", \"Label\": 0, \"Class\": \"NORMAL\"}, {\"Sentence\": \" According The Star newspaper , new bill effectively hand government &quot; stranglehold media , &quot; The Standard said democracy free speech Kenya &quot; dealt major blow &quot; lambasted bill &quot; draconian \", \"Label\": 0, \"Class\": \"NORMAL\"}, {\"Sentence\": \"&quot; The passing bill comes amid string measures reinforce national security wake September &apos;s attack Islamist gunmen Westgate shopping mall\", \"Label\": 0, \"Class\": \"NORMAL\"}, {\"Sentence\": \"Kenya media drew ire authorities broadcasting security camera footage troops dispatched scene attack purportedly robbing upmarket mall\", \"Label\": 0, \"Class\": \"NORMAL\"}, {\"Sentence\": \" Police chief David Kimaiyo reacted summoning two journalists media executive questioning , although summons retracted following media outcry \", \"Label\": 0, \"Class\": \"NORMAL\"}, {\"Sentence\": \" Under new bill , media houses fined 20 million Kenyan shillings individual journalists one million additional risk &quot; de-listed , &quot; barred receiving official press accreditation \", \"Label\": 0, \"Class\": \"NORMAL\"}, {\"Sentence\": \"The tribunal also power seize property offender fine paid\", \"Label\": 0, \"Class\": \"NORMAL\"}, {\"Sentence\": \" According Daily Nation , &quot; even one fine enough cripple FM stations \", \"Label\": 0, \"Class\": \"NORMAL\"}, {\"Sentence\": \"&quot; It also said measures could devastating effect described Kenya &apos;s &quot; lively blogosphere\", \"Label\": 0, \"Class\": \"NORMAL\"}, {\"Sentence\": \" &quot; By silencing media , politicians know whatever like impunity \", \"Label\": 0, \"Class\": \"NORMAL\"}, {\"Sentence\": \" &quot; No one ever know , &quot; wrote Nation journalist Mutuma Mathiu , describing Kenyan media key source checks balances public life \", \"Label\": 0, \"Class\": \"NORMAL\"}, {\"Sentence\": \" &quot; Left , politicians would bankrupt country take us back hunting gathering , &quot; wrote \", \"Label\": 0, \"Class\": \"NORMAL\"}, {\"Sentence\": \"Kenyan lawmakers target public anger past\", \"Label\": 0, \"Class\": \"NORMAL\"}, {\"Sentence\": \" In May voted overturn cuts ordered national salaries commission reinstate hefty salaries around 532,000 shillings month tax-free - ranked among highest world \", \"Label\": 0, \"Class\": \"NORMAL\"}, {\"Sentence\": \" Tax foreign property owners burst London &apos;s bubble The Treasury provisionally costed CGT measure awaiting final decision Mr Osborne , , 2012 Budget , introduced 7% rate stamp duty homes costing \\u00a3 2m annual charges buyers choose hold homes company rather individuals \", \"Label\": 0, \"Class\": \"NORMAL\"}, {\"Sentence\": \" Already stamp duty take residential property boroughs Westminster Kensington &amp; Chelsea , stood \\u00a3 708 million 2012 / 13 tax year , exceeds combined total Northern Ireland , Wales , Scotland , North East , North West Yorkshire Humber put together \", \"Label\": 0, \"Class\": \"NORMAL\"}, {\"Sentence\": \" Mr Cook said: &quot; Following increases stamp duty high value homes introduction associated anti-avoidance legislation , difficult argue high value property under-taxed irrespective effect out-dated council tax system \", \"Label\": 0, \"Class\": \"NORMAL\"}, {\"Sentence\": \" &quot; &quot; But move could make foreign investors reticent buy property London current owners reluctant sell , &quot; added \", \"Label\": 0, \"Class\": \"NORMAL\"}, {\"Sentence\": \" Prime property - top 5% 10% housing market price - affluent south-west London belt , stretches Fulham Wimbledon , increased record 11\", \"Label\": 0, \"Class\": \"NORMAL\"}, {\"Sentence\": \"8% past year\", \"Label\": 0, \"Class\": \"NORMAL\"}, {\"Sentence\": \"Prices central London continued show steady year-on-year growth 5\", \"Label\": 0, \"Class\": \"NORMAL\"}, {\"Sentence\": \"6% overshadowed burgeoning &quot; domestic market &quot; city &apos;s south west , north (7\", \"Label\": 0, \"Class\": \"NORMAL\"}, {\"Sentence\": \"4%) east (6\", \"Label\": 0, \"Class\": \"NORMAL\"}, {\"Sentence\": \"5%) experiencing uptick , according research Savills \", \"Label\": 0, \"Class\": \"NORMAL\"}, {\"Sentence\": \"A stubborn ankle injury threatens prevent deployment Nicolai M\\u00fcller FSV Mainz &apos;s Bundesliga away match FC Augsburg\", \"Label\": 0, \"Class\": \"NORMAL\"}, {\"Sentence\": \"Mainz concerned regarding availability Nicolai M\\u00fcller\", \"Label\": 0, \"Class\": \"NORMAL\"}, {\"Sentence\": \"Tomorrow attempt train team\", \"Label\": 0, \"Class\": \"NORMAL\"}, {\"Sentence\": \"Up managed individual training\", \"Label\": 0, \"Class\": \"NORMAL\"}, {\"Sentence\": \" &quot; We shortly make decision regarding whether play , &quot; said manager Thomas Tuchel \", \"Label\": 0, \"Class\": \"NORMAL\"}, {\"Sentence\": \"The 40 year-old hopes best striker (with six goals) team\", \"Label\": 0, \"Class\": \"NORMAL\"}, {\"Sentence\": \" Mainz already without injured key players Niki Zimling , Julian Baumgartlinger Niko Bungert \", \"Label\": 0, \"Class\": \"NORMAL\"}, {\"Sentence\": \"Is Europe &apos;s elite ready business Britain ? Business Britain launched April pledge bring business together define UK &apos;s wealth job creators want see changed relationship EU\", \"Label\": 0, \"Class\": \"NORMAL\"}, {\"Sentence\": \" To end , commissioned largest comprehensive poll British business leaders asking thoughts Britain , business EU \", \"Label\": 0, \"Class\": \"NORMAL\"}, {\"Sentence\": \" YouGov polled 1,000 business leaders , broadly representative Britain &apos;s business sizes , sectors regions \", \"Label\": 0, \"Class\": \"NORMAL\"}, {\"Sentence\": \"The conclusions poll come surprise many\", \"Label\": 0, \"Class\": \"NORMAL\"}, {\"Sentence\": \" We found vast majority businesses looking export outside Europe , focusing countries modernising growing EU states stagnate \", \"Label\": 0, \"Class\": \"NORMAL\"}, {\"Sentence\": \" They want see Government prioritise new trading links likes China , India Brazil , rather getting bogged long arduous process reforming EU &apos;s arcane institutions \", \"Label\": 0, \"Class\": \"NORMAL\"}, {\"Sentence\": \"When asked views specific policy areas - ranging monopoly regulation product laws - majority business leaders thought control key competences returned Westminster\", \"Label\": 0, \"Class\": \"NORMAL\"}, {\"Sentence\": \" There general discontent Single Market , businesses saying costs Brussels regulation outweighed benefits part Europe &apos;s trading area - even 40 per cent large businesses , traditionally pro-European companies , agreed \", \"Label\": 0, \"Class\": \"NORMAL\"}, {\"Sentence\": \" Finally , tellingly , poll business leaders found clear majority wanted see Britain pursue course treaty change relationship EU based trade , politics \", \"Label\": 0, \"Class\": \"NORMAL\"}, {\"Sentence\": \" This finding , reflected across sizes major business groups , shows business pushing &quot; meaningful change &quot; brings powers back UK \", \"Label\": 0, \"Class\": \"NORMAL\"}, {\"Sentence\": \"The stakes high - achieving treaty change better deal Britain sees 16 per cent swing towards voting stay EU referendum\", \"Label\": 0, \"Class\": \"NORMAL\"}, {\"Sentence\": \"The Prime Minister doubt: poll shows British business backs plan renegotiating terms Britain &apos;s membership EU\", \"Label\": 0, \"Class\": \"NORMAL\"}, {\"Sentence\": \"It also shows business expects renegotiation make significant shift current balance power back towards UK\", \"Label\": 0, \"Class\": \"NORMAL\"}, {\"Sentence\": \" A better deal British business possible , increasingly necessary eurozone embarks road closer economic fiscal union \", \"Label\": 0, \"Class\": \"NORMAL\"}, {\"Sentence\": \" The priority must jobs growth Britain , findings poll show , business means renewed focus trade fundamental change Brussels &quot; regulatory approach \", \"Label\": 0, \"Class\": \"NORMAL\"}, {\"Sentence\": \"Clive Palmer claims PM Tony Abbott conflict interest parental leave scheme Billionaire MP Clive Palmer says Prime Minister Tony Abbott conflict interest parental leave scheme daughters might get pregnant benefit\", \"Label\": 0, \"Class\": \"NORMAL\"}, {\"Sentence\": \" The mining magnate , dispute paying $ 6 million carbon tax bill , made claim tried brush questions whether conflict \", \"Label\": 0, \"Class\": \"NORMAL\"}, {\"Sentence\": \"The Palmer United Party could control four votes Senate may crucial deciding carbon mining taxes axed\", \"Label\": 0, \"Class\": \"NORMAL\"}, {\"Sentence\": \"But Mr Palmer claimed ministers could conflict interest said Mr Abbott &apos;s daughters stood personally benefit policies\", \"Label\": 0, \"Class\": \"NORMAL\"}, {\"Sentence\": \" &quot; He &apos;s got major conflict interest comes paid parental leave daughters get pregnant , &apos;ll direct interest whether get leave , &quot; Mr Palmer said \", \"Label\": 0, \"Class\": \"NORMAL\"}, {\"Sentence\": \" Two months election , electoral commission officially declared Mr Palmer winner Sunshine Coast seat Fairfax 53 votes , recount \", \"Label\": 0, \"Class\": \"NORMAL\"}, {\"Sentence\": \"Mr Palmer called overhaul election counting speed process\", \"Label\": 0, \"Class\": \"NORMAL\"}, {\"Sentence\": \"Tony Abbott &apos;s daughters Frances Bridget\", \"Label\": 0, \"Class\": \"NORMAL\"}, {\"Sentence\": \" Should election decided two months stopped voting ? &quot; We need better system , &quot; said \", \"Label\": 0, \"Class\": \"NORMAL\"}, {\"Sentence\": \" Why &apos;t system walk , punch details computer , vote immediately result 6\", \"Label\": 0, \"Class\": \"NORMAL\"}, {\"Sentence\": \"30 night ? Mr Palmer also criticised use pencils mark ballots\", \"Label\": 0, \"Class\": \"NORMAL\"}, {\"Sentence\": \"Is rub result someone &apos;t like ? In day age pencil seems extraordinary\", \"Label\": 0, \"Class\": \"NORMAL\"}, {\"Sentence\": \"The Electoral Commission studying options electronic voting recently released joint discussion paper New Zealand\", \"Label\": 0, \"Class\": \"NORMAL\"}, {\"Sentence\": \" Mr Palmer , 59 , said policies included international airport Sunshine Coast would take &quot; seriously &quot; new job \", \"Label\": 0, \"Class\": \"NORMAL\"}, {\"Sentence\": \"Public office public service\", \"Label\": 0, \"Class\": \"NORMAL\"}, {\"Sentence\": \" &quot; We seek reward , except reward history critical time serve community , &quot; said \", \"Label\": 0, \"Class\": \"NORMAL\"}, {\"Sentence\": \"The post hardly ever emptied Sundays &quot; Many citizens yet noticed red dots indicating Sunday post collection still found many post boxes town centre districts\", \"Label\": 0, \"Class\": \"NORMAL\"}, {\"Sentence\": \" However , read small print yellow boxes operated Post AG , quickly find boxes longer emptied Sundays holidays , &quot; announced FDP \", \"Label\": 0, \"Class\": \"NORMAL\"}, {\"Sentence\": \"An inquiry FDP confirmed\", \"Label\": 0, \"Class\": \"NORMAL\"}, {\"Sentence\": \"Only post boxes front post office building Ernst-Ludwig-Stra\\u00dfe 36 Jakob-M\\u00fcller-Stra\\u00dfe 1 H\\u00fcttenfeld still emptied\", \"Label\": 0, \"Class\": \"NORMAL\"}, {\"Sentence\": \"Whether still Sunday collections Hofheim Rosengarten addressed inquiry FDP\", \"Label\": 0, \"Class\": \"NORMAL\"}, {\"Sentence\": \" The FDP spokesperson social youth-related affairs , Fritz R\\u00f6hrenbeck wants dig deeper \", \"Label\": 0, \"Class\": \"NORMAL\"}, {\"Sentence\": \" The Sunday collection important postal service , especially case scheduled post \", \"Label\": 0, \"Class\": \"NORMAL\"}, {\"Sentence\": \" &quot; The company radically unacceptably cutting back , despite price increase letters January 2013 \", \"Label\": 0, \"Class\": \"NORMAL\"}, {\"Sentence\": \" Thomas Bittner , Liberal Party Parliamentary Group Municipal Association Chairman , supporting fellow group members: &quot; What annoys , fact collection times changed cancelled quiet &quot; \", \"Label\": 0, \"Class\": \"NORMAL\"}, {\"Sentence\": \" In , postal service miles mark comes public accessibility \", \"Label\": 0, \"Class\": \"NORMAL\"}, {\"Sentence\": \" &quot; At least post boxes districts Neuschlo\\u00df Rosengarten must still emptied Sundays , &quot; said Bittner R\\u00f6hrenbeck unison \", \"Label\": 0, \"Class\": \"NORMAL\"}, {\"Sentence\": \"It also case town centre citizens particular mobile must also able access post box Sunday collection foot\", \"Label\": 0, \"Class\": \"NORMAL\"}, {\"Sentence\": \" In Town Parliament , R\\u00f6hrenbeck asked whether Town Council planning discussions postal service regarding matter \", \"Label\": 0, \"Class\": \"NORMAL\"}, {\"Sentence\": \"Mayor Erich Maier responded postal service communicated Lampertheim\", \"Label\": 0, \"Class\": \"NORMAL\"}, {\"Sentence\": \" To best knowledge , however , Sunday collection Hofheim \", \"Label\": 0, \"Class\": \"NORMAL\"}, {\"Sentence\": \"Their party spoken favour privatisation\", \"Label\": 0, \"Class\": \"NORMAL\"}, {\"Sentence\": \" &quot; Decisions made elsewhere , &quot; said Maier \", \"Label\": 0, \"Class\": \"NORMAL\"}, {\"Sentence\": \" Parents Georgia teen died &apos; freak accident &apos; believe son murdered The parents Georgia teenager , whose body found inside rolled-up wrestling mat high school gym , believe son murdered , family &apos;s attorney said Thursday \", \"Label\": 0, \"Class\": \"NORMAL\"}, {\"Sentence\": \" Kendrick Johnson , Valdosta , Ga \", \"Label\": 0, \"Class\": \"NORMAL\"}, {\"Sentence\": \" , found Jan \", \"Label\": 0, \"Class\": \"NORMAL\"}, {\"Sentence\": \"11 stuck upright mat propped behind bleachers inside high school gym\", \"Label\": 0, \"Class\": \"NORMAL\"}, {\"Sentence\": \" Lowndes County sheriff &apos;s investigators concluded Johnson died freak accident , 17-year-old &apos;s family disputes \", \"Label\": 0, \"Class\": \"NORMAL\"}, {\"Sentence\": \" &quot; They absolutely think son murdered , &quot; Benjamin Crump , attorney representing Kenneth Jacquelyn Johnson , told FoxNews\", \"Label\": 0, \"Class\": \"NORMAL\"}, {\"Sentence\": \"com\", \"Label\": 0, \"Class\": \"NORMAL\"}, {\"Sentence\": \"They never believed died way sheriff concluded\", \"Label\": 0, \"Class\": \"NORMAL\"}, {\"Sentence\": \" &quot; They believe defies logic , laws physics well common sense , &quot; Crump said \", \"Label\": 0, \"Class\": \"NORMAL\"}, {\"Sentence\": \"They think cover-up protect person people responsible son &apos;s death\", \"Label\": 0, \"Class\": \"NORMAL\"}, {\"Sentence\": \" &quot; They sent son school book-bag returned body bag , &quot; said \", \"Label\": 0, \"Class\": \"NORMAL\"}, {\"Sentence\": \"U\", \"Label\": 0, \"Class\": \"NORMAL\"}, {\"Sentence\": \"S\", \"Label\": 0, \"Class\": \"NORMAL\"}, {\"Sentence\": \" Attorney Michael Moore said Thursday conducting formal investigation Johnson &apos;s death , noting several key questions remain unanswered \", \"Label\": 0, \"Class\": \"NORMAL\"}, {\"Sentence\": \"What cause death ? Was death result crime ? Moore said press conference Thursday afternoon\", \"Label\": 0, \"Class\": \"NORMAL\"}, {\"Sentence\": \"I follow facts wherever lead\", \"Label\": 0, \"Class\": \"NORMAL\"}, {\"Sentence\": \"My objective discovery truth\", \"Label\": 0, \"Class\": \"NORMAL\"}, {\"Sentence\": \" &quot; I opinion sufficient basis exists &quot; formal investigation , said \", \"Label\": 0, \"Class\": \"NORMAL\"}, {\"Sentence\": \"Moore told reporters initial autopsy indicated Johnson died result &quot; positional asphyxia\", \"Label\": 0, \"Class\": \"NORMAL\"}, {\"Sentence\": \" &quot; A second autopsy , however , listed different cause death , according Moore \", \"Label\": 0, \"Class\": \"NORMAL\"}, {\"Sentence\": \" &quot; There several questions must answered confirmed , &quot; said \", \"Label\": 0, \"Class\": \"NORMAL\"}, {\"Sentence\": \"Moore added uncovers sufficient evidence warrant criminal civil rights investigation death Johnson ask FBI conduct\", \"Label\": 0, \"Class\": \"NORMAL\"}, {\"Sentence\": \"A representative Lowndes County Sheriff &apos;s Office immediately available comment contacted Thursday\", \"Label\": 0, \"Class\": \"NORMAL\"}, {\"Sentence\": \"A southern Georgia judge Wednesday ordered authorities release surveillance video investigators reviewed\", \"Label\": 0, \"Class\": \"NORMAL\"}, {\"Sentence\": \"The teenager &apos;s parents said hope video footage contain clues died\", \"Label\": 0, \"Class\": \"NORMAL\"}, {\"Sentence\": \" Israeli warplanes attack target inside Syria , official says Israeli warplanes struck target inside Syrian port city Latakia Thursday night , senior administration official confirms Fox News \", \"Label\": 0, \"Class\": \"NORMAL\"}, {\"Sentence\": \" The official specify target , said least one \", \"Label\": 0, \"Class\": \"NORMAL\"}, {\"Sentence\": \"The Associated Press reports target Russian-made SA-125 missiles\", \"Label\": 0, \"Class\": \"NORMAL\"}, {\"Sentence\": \"At least twice earlier year Israel launched airstrikes shipments missiles inside Syria\", \"Label\": 0, \"Class\": \"NORMAL\"}, {\"Sentence\": \"House fire Helmbrechts: Rescue services retrieve charred body The fire service called Helmbrechts late Thursday evening\", \"Label\": 0, \"Class\": \"NORMAL\"}, {\"Sentence\": \"A three-bedroom house district Hof catches fire night\", \"Label\": 0, \"Class\": \"NORMAL\"}, {\"Sentence\": \"Rescue workers retrieve charred body house\", \"Label\": 0, \"Class\": \"NORMAL\"}, {\"Sentence\": \" During fire Helmbrechts , rescue services found charred body three-bedroom house \", \"Label\": 0, \"Class\": \"NORMAL\"}, {\"Sentence\": \" Whether person living house yet unclear , said police spokesperson Bayreuth \", \"Label\": 0, \"Class\": \"NORMAL\"}, {\"Sentence\": \" Late Thursday evening , fire broke ground floor house \", \"Label\": 0, \"Class\": \"NORMAL\"}, {\"Sentence\": \" When fire service arrived , flames already bursting window \", \"Label\": 0, \"Class\": \"NORMAL\"}, {\"Sentence\": \"Rescue workers entered premises found body bedroom\", \"Label\": 0, \"Class\": \"NORMAL\"}, {\"Sentence\": \"This another bedroom completely burnt\", \"Label\": 0, \"Class\": \"NORMAL\"}, {\"Sentence\": \"The entire ground floor suffered damage\", \"Label\": 0, \"Class\": \"NORMAL\"}, {\"Sentence\": \" There residents home fire , continued police spokesperson \", \"Label\": 0, \"Class\": \"NORMAL\"}, {\"Sentence\": \" For time , house longer habitable \", \"Label\": 0, \"Class\": \"NORMAL\"}, {\"Sentence\": \"The precise cause fire initially unclear\", \"Label\": 0, \"Class\": \"NORMAL\"}, {\"Sentence\": \" An Obama voter &apos;s cry despair I voted President Obama twice , sharing hope possibility change He says Obama worthy efforts thwarted GOP obstructionism Obstructionism &apos;t excuse Obamacare website woes , drone attacks Obama &apos;s 2008 campaign memoir sad reminder might Nathaniel P\", \"Label\": 0, \"Class\": \"NORMAL\"}, {\"Sentence\": \"Morris second-year student Harvard Medical School\", \"Label\": 0, \"Class\": \"NORMAL\"}, {\"Sentence\": \"I &apos;m reading terribly sad book days\", \"Label\": 0, \"Class\": \"NORMAL\"}, {\"Sentence\": \" It &apos;s book I thought would uplift doldrums second-year medical school , renew sense hope \", \"Label\": 0, \"Class\": \"NORMAL\"}, {\"Sentence\": \" It &apos;s called &quot; The Audacity Win , &quot; &apos;s memoir Barack Obama &apos;s 2008 presidential campaign \", \"Label\": 0, \"Class\": \"NORMAL\"}, {\"Sentence\": \" When I &apos;m finished patient write-ups night get bed , book returns time politics inspired millions speeches could take breath away \", \"Label\": 0, \"Class\": \"NORMAL\"}, {\"Sentence\": \" The election turned landslide , news anchors paused reflect historic nature hour \", \"Label\": 0, \"Class\": \"NORMAL\"}, {\"Sentence\": \" My classmates cried joy , parents saved every newspaper could find \", \"Label\": 0, \"Class\": \"NORMAL\"}, {\"Sentence\": \" A young team visionaries headed White House , nation ready change \", \"Label\": 0, \"Class\": \"NORMAL\"}, {\"Sentence\": \" During Obama &apos;s transition office 2008 , 82% approval rating \", \"Label\": 0, \"Class\": \"NORMAL\"}, {\"Sentence\": \"And I close book\", \"Label\": 0, \"Class\": \"NORMAL\"}, {\"Sentence\": \" Cutting present rude awakening , like snapping dream \", \"Label\": 0, \"Class\": \"NORMAL\"}, {\"Sentence\": \" It &apos;s hard remember days optimism -- seem distant memory , sad reminder opportunities gone \", \"Label\": 0, \"Class\": \"NORMAL\"}, {\"Sentence\": \" Change indeed happened , years since I cast first ballot \", \"Label\": 0, \"Class\": \"NORMAL\"}, {\"Sentence\": \"It simply nothing I could imagined\", \"Label\": 0, \"Class\": \"NORMAL\"}, {\"Sentence\": \" I credit Obama great varied accomplishments , passage Affordable Care Act military exit Iraq , end &quot; &apos;t ask &apos;t tell , &quot; killing Osama bin Laden \", \"Label\": 0, \"Class\": \"NORMAL\"}, {\"Sentence\": \" Moreover , I believe partisan obstructionism upended many efforts push nation forward: immigration reform , public option health care , closing base Guantanamo Bay , among others \", \"Label\": 0, \"Class\": \"NORMAL\"}, {\"Sentence\": \" But , countless times I found defending Obama administration colleagues peers , I &apos;ve reached limit explanations I provide \", \"Label\": 0, \"Class\": \"NORMAL\"}, {\"Sentence\": \"I &apos;ve reached point political despair\", \"Label\": 0, \"Class\": \"NORMAL\"}, {\"Sentence\": \" Republican obstructionism cannot explain allowing bugging foreign leaders , drones strike innocent children overseas \", \"Label\": 0, \"Class\": \"NORMAL\"}, {\"Sentence\": \" It cannot explain National Security Agency collect data private lives Americans , prosecuting whistle-blowers reveal government wrongdoing \", \"Label\": 0, \"Class\": \"NORMAL\"}, {\"Sentence\": \" It cannot account assassinating Anwar al-Awlaki , American citizen , without trial , shirking public funding spending limits presidential campaigns \", \"Label\": 0, \"Class\": \"NORMAL\"}, {\"Sentence\": \"It cannot justify findings report says White House &apos;s efforts silence media &quot; aggressive\", \"Label\": 0, \"Class\": \"NORMAL\"}, {\"Sentence\": null, \"Label\": 0, \"Class\": \"NORMAL\"}, {\"Sentence\": null, \"Label\": 0, \"Class\": \"NORMAL\"}, {\"Sentence\": \"since Nixon Administration\", \"Label\": 0, \"Class\": \"NORMAL\"}, {\"Sentence\": \" &quot; And , recently , cannot excuse failure design simple website three years since Affordable Care Act signed law \", \"Label\": 0, \"Class\": \"NORMAL\"}, {\"Sentence\": \"I &apos;t know I expected\", \"Label\": 0, \"Class\": \"NORMAL\"}, {\"Sentence\": \" If , 18 years old , I supposed figure governance may contradict political campaigns precede \", \"Label\": 0, \"Class\": \"NORMAL\"}, {\"Sentence\": \" Obviously , elective office &apos;t predictable course , opposing political party random events , Newtown massacre , shape public conversation \", \"Label\": 0, \"Class\": \"NORMAL\"}, {\"Sentence\": \" Yet , examples I listed , largely seem administration &apos;s choosing \", \"Label\": 0, \"Class\": \"NORMAL\"}, {\"Sentence\": \"That troubles\", \"Label\": 0, \"Class\": \"NORMAL\"}, {\"Sentence\": \" I voted Obama 2012 , I excited candidacy \", \"Label\": 0, \"Class\": \"NORMAL\"}, {\"Sentence\": \"Mitt Romney presented confusing unrefined alternative could seem lock policies positions\", \"Label\": 0, \"Class\": \"NORMAL\"}, {\"Sentence\": \" I felt second term Obama , free pressures future elections , would fulfill hope heard long \", \"Label\": 0, \"Class\": \"NORMAL\"}, {\"Sentence\": \" Still , Obama &apos;s approval rating sank 45% week , returning 2008 book become much harder \", \"Label\": 0, \"Class\": \"NORMAL\"}, {\"Sentence\": \"It makes yearn many promises disappeared\", \"Label\": 0, \"Class\": \"NORMAL\"}, {\"Sentence\": \"This week I reading portion book describing Obama suffered huge loss Clinton Pennsylvania primary\", \"Label\": 0, \"Class\": \"NORMAL\"}, {\"Sentence\": \" At post-mortem campaign meeting , told staff needed get back track stay true purpose cause \", \"Label\": 0, \"Class\": \"NORMAL\"}, {\"Sentence\": \" &quot; I want us get mojo back , &quot; said \", \"Label\": 0, \"Class\": \"NORMAL\"}, {\"Sentence\": \"We &apos;ve got remember\", \"Label\": 0, \"Class\": \"NORMAL\"}, {\"Sentence\": \" &apos; It &apos;s five years later , Mr\", \"Label\": 0, \"Class\": \"NORMAL\"}, {\"Sentence\": \" President , I &apos;t agree \", \"Label\": 0, \"Class\": \"NORMAL\"}, {\"Sentence\": \"The opinions expressed commentary solely Nathaniel Morris\", \"Label\": 0, \"Class\": \"NORMAL\"}, {\"Sentence\": \" Even though SG Achim / Baden gone four match days without victory , positive mood still prevailing within top flight handball team \", \"Label\": 0, \"Class\": \"NORMAL\"}, {\"Sentence\": \"Trainer Tomasz Malmon let doubt fact\", \"Label\": 0, \"Class\": \"NORMAL\"}, {\"Sentence\": \"Everyone still fully motivated task hand\", \"Label\": 0, \"Class\": \"NORMAL\"}, {\"Sentence\": \" That said , I hope finally start winning \", \"Label\": 0, \"Class\": \"NORMAL\"}, {\"Sentence\": \" &quot; I longer remember victory like tastes , &quot; said Malmon , anticipating success team VfL Fredenbeck II \", \"Label\": 0, \"Class\": \"NORMAL\"}, {\"Sentence\": \" Even though third-tier reserves Fredenbeck &apos;t exactly best form moment , Malmon issued warning advance I trained many players A-Youth \", \"Label\": 0, \"Class\": \"NORMAL\"}, {\"Sentence\": \" Consequently , particularly motivated playing former coach \", \"Label\": 0, \"Class\": \"NORMAL\"}, {\"Sentence\": \" &quot; In addition , wait see whether reinforcements first team , &quot; explained SG coach \", \"Label\": 0, \"Class\": \"NORMAL\"}, {\"Sentence\": \" In case , finally get back winning track , Malmon &apos;s team improve recent performances \", \"Label\": 0, \"Class\": \"NORMAL\"}, {\"Sentence\": \" There major problems , primarily terms covering counter attacking \", \"Label\": 0, \"Class\": \"NORMAL\"}, {\"Sentence\": \"The team &apos;s eye goal must considerably improved\", \"Label\": 0, \"Class\": \"NORMAL\"}, {\"Sentence\": \" Therefore , I hope players finally managed clear heads short break \", \"Label\": 0, \"Class\": \"NORMAL\"}, {\"Sentence\": \" Gutach: Increased safety pedestrians They even 100 metres apart: On Tuesday , new B 33 pedestrian lights Dorfparkplatz Gutach became operational - within view existing Town Hall traffic lights \", \"Label\": 0, \"Class\": \"NORMAL\"}, {\"Sentence\": \" Two sets lights close one another: intentional silly error ? Yesterday , Gutacht &apos;s Mayor gave clear answer question \", \"Label\": 0, \"Class\": \"NORMAL\"}, {\"Sentence\": \" &quot; At time , Town Hall traffic lights installed school route , &quot; explained Eckert yesterday \", \"Label\": 0, \"Class\": \"NORMAL\"}, {\"Sentence\": \" The Kluser lights protect cyclists , well travelling bus residents Bergle \", \"Label\": 0, \"Class\": \"NORMAL\"}, {\"Sentence\": \" The system , officially became operational yesterday , importance Sulzbachweg / Kirchstrasse junction \", \"Label\": 0, \"Class\": \"NORMAL\"}, {\"Sentence\": \" We museum , two churches , spa gardens , bus stop , doctor &apos;s practice bank , mention traffic &apos; Grub &apos; residential area \", \"Label\": 0, \"Class\": \"NORMAL\"}, {\"Sentence\": \" &quot; At times high road pedestrian traffic , additional set lights required ensure safety , &quot; said Eckert \", \"Label\": 0, \"Class\": \"NORMAL\"}, {\"Sentence\": \"This also confirmed Peter Arnold Offenburg District Office\", \"Label\": 0, \"Class\": \"NORMAL\"}, {\"Sentence\": \" &quot; According current measurements , around 12,000 vehicles travel town Gutach B33 daily basis , heavy goods traffic accounts around ten per cent , &quot; emphasised Arnold \", \"Label\": 0, \"Class\": \"NORMAL\"}, {\"Sentence\": \" Therefore construction additional set lights necessary: &quot; Here safety comes first , &apos;s simple , &quot; said Arnold \", \"Label\": 0, \"Class\": \"NORMAL\"}, {\"Sentence\": \" A total four road safety inspections carried roundabout also considered , however , idea rejected account narrowness Sulzbachweg / Kirchstrasse junctions \", \"Label\": 0, \"Class\": \"NORMAL\"}, {\"Sentence\": \" According Arnold , every possible test carried prior selection location traffic light posts: &quot; Using goods vehicle loaded particularly long tree trunks , also tested whether vehicles could access B 33 Sulzbachweg without knocking traffic light posts &quot; \", \"Label\": 0, \"Class\": \"NORMAL\"}, {\"Sentence\": \" The traffic light system , cost around EUR 15,000 , &quot; modern system currently available market , &quot; explained Arnold \", \"Label\": 0, \"Class\": \"NORMAL\"}, {\"Sentence\": \" The system fitted coloured LEDs , bright enough drivers easily see lights , even sun low sky \", \"Label\": 0, \"Class\": \"NORMAL\"}, {\"Sentence\": \" And also energy-efficient: The older light systems consume around 100 Watts , new ones consuming eight \", \"Label\": 0, \"Class\": \"NORMAL\"}, {\"Sentence\": \"There three sets lights per direction travel\", \"Label\": 0, \"Class\": \"NORMAL\"}, {\"Sentence\": \"Arnold explained technology used new system: It fitted two radar sensors\", \"Label\": 0, \"Class\": \"NORMAL\"}, {\"Sentence\": \" If pedestrian presses button traffic lights , top radar sensor checks traffic status \", \"Label\": 0, \"Class\": \"NORMAL\"}, {\"Sentence\": \" If street clear , pedestrian obtains green light immediately , , delay around 15 seconds \", \"Label\": 0, \"Class\": \"NORMAL\"}, {\"Sentence\": \"An additional radar sensor checks whether green phase pedestrian ended\", \"Label\": 0, \"Class\": \"NORMAL\"}, {\"Sentence\": \" &quot; If group people disabled persons crossing street , green phase extended , thus ensuring everyone gets safely across street , &quot; explained Arnold \", \"Label\": 0, \"Class\": \"NORMAL\"}, {\"Sentence\": \" Of course , drivers must also play part keep eyes road \", \"Label\": 0, \"Class\": \"NORMAL\"}, {\"Sentence\": \"Yesterday case: The light barely turned green pedestrians luxury vehicle sped red light\", \"Label\": 0, \"Class\": \"NORMAL\"}, {\"Sentence\": \"Fancy glow-in-the-dark ice cream ? A British entrepreneur created world &apos;s first glow-in-the-dark ice cream - using jellyfish\", \"Label\": 0, \"Class\": \"NORMAL\"}, {\"Sentence\": \"Charlie Francis harnessed fluorescent properties marine animal develop luminescent snack\", \"Label\": 0, \"Class\": \"NORMAL\"}, {\"Sentence\": \"He came idea reading research paper jellyfish convinced scientists China chemically recreate glowing protein\", \"Label\": 0, \"Class\": \"NORMAL\"}, {\"Sentence\": \"The ice cream reacts eater &apos;s tongue - raising pH level protein making glow\", \"Label\": 0, \"Class\": \"NORMAL\"}, {\"Sentence\": \" Chris says ice cream lights reacts heat mouth means lick , brighter becomes \", \"Label\": 0, \"Class\": \"NORMAL\"}, {\"Sentence\": \" Charlie , founder &quot; Lick Me I &apos;m Delicious &quot; ice cream company , said: &quot; It incredible stuff still early days terms production , \\u00a3 200 gets 2g stuff \", \"Label\": 0, \"Class\": \"NORMAL\"}, {\"Sentence\": \"&quot; The protein using ice cream reacts tongue neutral pH\", \"Label\": 0, \"Class\": \"NORMAL\"}, {\"Sentence\": \"So mouth warms protein raise pH level ice cream glow\", \"Label\": 0, \"Class\": \"NORMAL\"}, {\"Sentence\": \"We testing past months seemed perfect share Halloween gives wonderful glow effect\", \"Label\": 0, \"Class\": \"NORMAL\"}, {\"Sentence\": \"It probably expensive ice cream I made jellyfish luminescence four times expensive gold\", \"Label\": 0, \"Class\": \"NORMAL\"}, {\"Sentence\": \"So scoop costs around \\u00a3 140\", \"Label\": 0, \"Class\": \"NORMAL\"}, {\"Sentence\": \"It tastes pretty good though\", \"Label\": 0, \"Class\": \"NORMAL\"}, {\"Sentence\": \" Charlie &apos;s experimental company , based Bristol , famed unusual flavours including beer , cheese , beef gold leaf \", \"Label\": 0, \"Class\": \"NORMAL\"}, {\"Sentence\": \"But next creation set even ambitious\", \"Label\": 0, \"Class\": \"NORMAL\"}, {\"Sentence\": \"He said: &quot; I really want develop invisible ice cream\", \"Label\": 0, \"Class\": \"NORMAL\"}, {\"Sentence\": \" &quot; It inherently impossible refraction caused ice crystals make ice cream , I reckon find way \", \"Label\": 0, \"Class\": \"NORMAL\"}, {\"Sentence\": \" The ice cream harnesses fluorescent properties jellyfish , synthesized Chinese scientists Freudenstadt: Quick moves take hosts surprise With slender squad , TSV Freudenstadt Herren I team (Men &apos;s First Team) stepped Schiller School Gymnasium Reutlingen face TG G\\u00f6nningen Swabian Alb region \", \"Label\": 0, \"Class\": \"NORMAL\"}, {\"Sentence\": \"The Alb men stood side net undoubtedly experienced team\", \"Label\": 0, \"Class\": \"NORMAL\"}, {\"Sentence\": \" However , soon became evident , due part age , could really keep fast pace Freudenstadt team \", \"Label\": 0, \"Class\": \"NORMAL\"}, {\"Sentence\": \"G\\u00f6nningen found extremely difficult cope hard well-positioned offensive moves\", \"Label\": 0, \"Class\": \"NORMAL\"}, {\"Sentence\": \"They repeatedly missed passes attacks coming cleanly net Simon Schenk Eduard Schulz blocking game scratch\", \"Label\": 0, \"Class\": \"NORMAL\"}, {\"Sentence\": \"Clear victories first two sets clearly demonstrated superiority Freudenstadt team areas\", \"Label\": 0, \"Class\": \"NORMAL\"}, {\"Sentence\": \" Faced overwhelming match-determining performance , third set following somewhat tame spiritless performance , final score 3: 0 (25: 13 , 25: 14 , 25: 22)\", \"Label\": 0, \"Class\": \"NORMAL\"}, {\"Sentence\": \" On 2 November , play TV Baiersbronn , managed clear victory Nagold , step onto court face much stronger opponent \", \"Label\": 0, \"Class\": \"NORMAL\"}, {\"Sentence\": \" TSV Freudenstadt I: Dominik B\\u00e4uerle , Yannik B\\u00fcchle , Sebastian D\\u00f6lker , Felix P\\u00e4lchen , Stefan R\\u00e4ller , Simon Schenk Eduard Schulz \", \"Label\": 0, \"Class\": \"NORMAL\"}, {\"Sentence\": \" In B Class , two teams Baiersbronn Freudenstadt faced Murgtalhalle Baiersbronn \", \"Label\": 0, \"Class\": \"NORMAL\"}, {\"Sentence\": \"They produced hard-fought two-hour match\", \"Label\": 0, \"Class\": \"NORMAL\"}, {\"Sentence\": \" Nerves sides , particularly receiving ball , resulted errors lost points; even lack passing times critical moments overeagerness saw potential points wasted \", \"Label\": 0, \"Class\": \"NORMAL\"}, {\"Sentence\": \" However , evenly matched game , great physical effort Marcus Blasutto &apos;s TSV team proved decisive spite tremendous commitment teams \", \"Label\": 0, \"Class\": \"NORMAL\"}, {\"Sentence\": \" Coulson used phone hacking verify tip Former News World editor Andy Coulson allegedly used &quot; phone hacking , surveillance confrontation &quot; attempt confirm bogus tip affair involving then-home secretary Charles Clarke \", \"Label\": 0, \"Class\": \"NORMAL\"}, {\"Sentence\": \" Prosecutor Andrew Edis QC told Old Bailey News World heard false rumour May 2005 Clarke seeing &quot; attractive special adviser , &quot; Hannah Pawlby \", \"Label\": 0, \"Class\": \"NORMAL\"}, {\"Sentence\": \" The newspaper tasked private investigator Glenn Mulcaire hacking Pawlby &apos;s voicemails &quot; door-stepped &quot; , Coulson also called left voicemails , court heard \", \"Label\": 0, \"Class\": \"NORMAL\"}, {\"Sentence\": \" &quot; The prosecution suggests Mr Coulson , editor NotW , man stands outside people &apos;s houses hoping catch , man likes put story people see say , &quot; Mr Edis said \", \"Label\": 0, \"Class\": \"NORMAL\"}, {\"Sentence\": \" He said NotW used three ways investigate stories: phone hacking , surveillance , confrontation \", \"Label\": 0, \"Class\": \"NORMAL\"}, {\"Sentence\": \"The editor personally involved third\", \"Label\": 0, \"Class\": \"NORMAL\"}, {\"Sentence\": \" Obviously knows second , surveillance , must \", \"Label\": 0, \"Class\": \"NORMAL\"}, {\"Sentence\": \" What first ? Does know phone hacking ? He says &apos;t , say &quot; Oh yes , &quot; \", \"Label\": 0, \"Class\": \"NORMAL\"}, {\"Sentence\": \" Rumours affair involving Clarke first picked NotW &apos;s features desk source sexually interested Ms Pawlby told: &quot; Don &apos;t bother wasting time , &apos;s Charles \", \"Label\": 0, \"Class\": \"NORMAL\"}, {\"Sentence\": \"&quot; A tape voicemails taken phone least three occasions seized Mulcaire &apos;s home August 2006\", \"Label\": 0, \"Class\": \"NORMAL\"}, {\"Sentence\": \"Investigators also found entries private investigator &apos;s computer Ms Pawlby sister &quot; Projects\", \"Label\": 0, \"Class\": \"NORMAL\"}, {\"Sentence\": \" &quot; During period investigated , Ms Pawlby &apos;s grandparents received anonymous calls asking information , Mr Edis said \", \"Label\": 0, \"Class\": \"NORMAL\"}, {\"Sentence\": \" Meanwhile , former chief reporter Neville Thurlbeck former reporter James Weatherup oversaw surveillance Ms Pawlby &apos;s movements \", \"Label\": 0, \"Class\": \"NORMAL\"}, {\"Sentence\": \" Leaving voicemail June 18 2005 , Coulson told her: &quot; I &apos;ve got story &apos;re planning run tomorrow I really would like speak Charles \", \"Label\": 0, \"Class\": \"NORMAL\"}, {\"Sentence\": \" &quot; Mr Edis said Coulson &apos;s involvement story followed pattern important men , former home secretary David Blunkett \", \"Label\": 0, \"Class\": \"NORMAL\"}, {\"Sentence\": \" The jury heard Thursday Coulson confronted Mr Blunkett affair married woman seeing co-defendant Rebekah Brooks , married time \", \"Label\": 0, \"Class\": \"NORMAL\"}, {\"Sentence\": \"Coulson Brooks deny conspiring others hack phones October 3 2000 August 9 2006\", \"Label\": 0, \"Class\": \"NORMAL\"}, {\"Sentence\": \" Mulcaire , Thurlbeck Weatherup admitted phone hacking \", \"Label\": 0, \"Class\": \"NORMAL\"}, {\"Sentence\": \" Geislingen: More 100 young Catholics Kleiner Heuberg stand together confirmation profession faith In two services , 101 15 16-year-olds Am Kleinen Heuberg pastoral care unit confirmed \", \"Label\": 0, \"Class\": \"NORMAL\"}, {\"Sentence\": \" In morning , service accompanied Laudato-Si Group , afternoon service featured &apos; The Spirit &apos; youth choir \", \"Label\": 0, \"Class\": \"NORMAL\"}, {\"Sentence\": \" Upon receiving confirmation sacrament , young people accepted baptism asked power Holy Spirit \", \"Label\": 0, \"Class\": \"NORMAL\"}, {\"Sentence\": \" Over recent months confirmed , direction Deacon Reiner Dehner assistance several church members , preparing special day \", \"Label\": 0, \"Class\": \"NORMAL\"}, {\"Sentence\": \" In various projects , learned different tasks involved Christian church life attended Youth Day Untermachtal together \", \"Label\": 0, \"Class\": \"NORMAL\"}, {\"Sentence\": \"GM recalls new pickup trucks U\", \"Label\": 0, \"Class\": \"NORMAL\"}, {\"Sentence\": \"S\", \"Label\": 0, \"Class\": \"NORMAL\"}, {\"Sentence\": \" fix seatbacks General Motors Co recalling nearly 19,000 all-new 2014 Chevrolet Silverado GMC Sierra pickup trucks repair problem manual reclining seatback , according notice U\", \"Label\": 0, \"Class\": \"NORMAL\"}, {\"Sentence\": \"S\", \"Label\": 0, \"Class\": \"NORMAL\"}, {\"Sentence\": \"auto safety regulators Friday\", \"Label\": 0, \"Class\": \"NORMAL\"}, {\"Sentence\": \" On trucks , front seats may defect reclining mechanism \", \"Label\": 0, \"Class\": \"NORMAL\"}, {\"Sentence\": \" As result , seatbacks fail comply federal auto safety standards head restraints \", \"Label\": 0, \"Class\": \"NORMAL\"}, {\"Sentence\": \" &quot; If vehicle struck behind , head restraint may properly protect occupants , increasing risk injury , &quot; according notice posted National Highway Traffic Safety Administration website \", \"Label\": 0, \"Class\": \"NORMAL\"}, {\"Sentence\": \"The recalled models built August 1 September 10\", \"Label\": 0, \"Class\": \"NORMAL\"}, {\"Sentence\": \"GM &apos;s truck roll-out began June represents important vehicle launch No\", \"Label\": 0, \"Class\": \"NORMAL\"}, {\"Sentence\": \"1 U\", \"Label\": 0, \"Class\": \"NORMAL\"}, {\"Sentence\": \"S\", \"Label\": 0, \"Class\": \"NORMAL\"}, {\"Sentence\": \"automaker since 2009 bankruptcy restructuring\", \"Label\": 0, \"Class\": \"NORMAL\"}, {\"Sentence\": \"GM told truck owners defect first half October\", \"Label\": 0, \"Class\": \"NORMAL\"}, {\"Sentence\": \" NHTSA could review owner notification letter due 16-day government shutdown , tempered auto sales growth October \", \"Label\": 0, \"Class\": \"NORMAL\"}, {\"Sentence\": \" Sales Silverado Sierra trucks , redesigned 2014 model year , 20 percent first 10 months year , GM said Friday \", \"Label\": 0, \"Class\": \"NORMAL\"}, {\"Sentence\": \" In October , GM sold 42,660 Silverado 16,503 Sierra pickup trucks \", \"Label\": 0, \"Class\": \"NORMAL\"}, {\"Sentence\": \"GM shares 1\", \"Label\": 0, \"Class\": \"NORMAL\"}, {\"Sentence\": \"4 percent $ 37\", \"Label\": 0, \"Class\": \"NORMAL\"}, {\"Sentence\": \"47 New York Stock Exchange Friday afternoon\", \"Label\": 0, \"Class\": \"NORMAL\"}, {\"Sentence\": \" UN hails new goals tackle poverty The United Nations start work immediately new set goals replace millennium development goals , put place 12 years ago tackle global poverty \", \"Label\": 0, \"Class\": \"NORMAL\"}, {\"Sentence\": \" Australian diplomats played key role pushing &quot; sustainable development goals &quot; replace MDGs , expire 2015 , ahead UN sustainable development summit began Rio de Janeiro overnight \", \"Label\": 0, \"Class\": \"NORMAL\"}, {\"Sentence\": \" They included final draft document , endorsed world leaders including Ms Gillard summit \", \"Label\": 0, \"Class\": \"NORMAL\"}, {\"Sentence\": \"UN Secretary-General Ban Ki-moon told summit overnight time &quot; rise national interests\", \"Label\": 0, \"Class\": \"NORMAL\"}, {\"Sentence\": \" &quot; &quot; I pleased member states agreed launch take ownership process establish universal sustainable development goals - SDGs , &quot; said \", \"Label\": 0, \"Class\": \"NORMAL\"}, {\"Sentence\": \" These SDGs build advances millennium development goals , integral part post-2015 development framework \", \"Label\": 0, \"Class\": \"NORMAL\"}, {\"Sentence\": \"I spare effort implement mandate given member states realise vision sustainable development goals build success MDGs\", \"Label\": 0, \"Class\": \"NORMAL\"}, {\"Sentence\": \"Mastering struggle perfection\", \"Label\": 0, \"Class\": \"NORMAL\"}, {\"Sentence\": \" The role Santiago , old man Hemingway &apos;s novel &quot; The Old Man Sea &quot; , perfectly suited Horst Janson \", \"Label\": 0, \"Class\": \"NORMAL\"}, {\"Sentence\": \" Janson old hand comes profession , art acting \", \"Label\": 0, \"Class\": \"NORMAL\"}, {\"Sentence\": \" The old man , Santiago , best comes fishing \", \"Label\": 0, \"Class\": \"NORMAL\"}, {\"Sentence\": \" As , pair complement one another superbly \", \"Label\": 0, \"Class\": \"NORMAL\"}, {\"Sentence\": \" You almost think see folds old man &apos;s neck , young fisherman Manolo speaks \", \"Label\": 0, \"Class\": \"NORMAL\"}, {\"Sentence\": \" When Santiago sits arched chair , tired life , genuine emotion Janson \", \"Label\": 0, \"Class\": \"NORMAL\"}, {\"Sentence\": \" Furthermore , role old fisherman character role , , Janson masters excellently \", \"Label\": 0, \"Class\": \"NORMAL\"}, {\"Sentence\": \" Hemingway told story fighter , courageous man &apos;t give ultimately wins battle fish result knowledge strong \", \"Label\": 0, \"Class\": \"NORMAL\"}, {\"Sentence\": \" For long periods , Janson performer stage \", \"Label\": 0, \"Class\": \"NORMAL\"}, {\"Sentence\": \" He manages focus audience &apos;s attention , result monologues never become boring , even moment \", \"Label\": 0, \"Class\": \"NORMAL\"}, {\"Sentence\": \" His efforts finally pull fish surface water genuine members audience forget sea question consists merely water bottles , illuminated blue \", \"Label\": 0, \"Class\": \"NORMAL\"}, {\"Sentence\": \"Director Jens Hasselmann old man boat perform front Fischerdorf\", \"Label\": 0, \"Class\": \"NORMAL\"}, {\"Sentence\": \"During course performance respective active scene illuminated\", \"Label\": 0, \"Class\": \"NORMAL\"}, {\"Sentence\": \" Santiago &apos;s cabin bar singer Marie-Luise Gunst , sings Cuban lifestyle , songs beautiful voice \", \"Label\": 0, \"Class\": \"NORMAL\"}, {\"Sentence\": \"The four musicians accompany Cuban rhythms guests bar time\", \"Label\": 0, \"Class\": \"NORMAL\"}, {\"Sentence\": \" CDC issues children &apos;s allergy guidelines schools On Wednesday , Centers Disease Control Prevention released set guidelines manage children &apos;s food allergies school \", \"Label\": 0, \"Class\": \"NORMAL\"}, {\"Sentence\": \"This first set guidelines U\", \"Label\": 0, \"Class\": \"NORMAL\"}, {\"Sentence\": \"S\", \"Label\": 0, \"Class\": \"NORMAL\"}, {\"Sentence\": \" government put , number school-age children suffering food allergies climbs \", \"Label\": 0, \"Class\": \"NORMAL\"}, {\"Sentence\": \"One 20 children United States food allergies\", \"Label\": 0, \"Class\": \"NORMAL\"}, {\"Sentence\": \"The CDC found prevalence food allergies among children increased 18 percent 1997 2007\", \"Label\": 0, \"Class\": \"NORMAL\"}, {\"Sentence\": \" The guide contains information schools make faculty staff aware children &apos;s food allergies , handle allergic reaction occur \", \"Label\": 0, \"Class\": \"NORMAL\"}, {\"Sentence\": \"It also recommends schools epinephrine stocked -- EpiPen brand auto-injector commonly used -- respond potentially fatal anaphylaxis\", \"Label\": 0, \"Class\": \"NORMAL\"}, {\"Sentence\": \"State legislatures recently updating rules allow schools stock epinephrine easily\", \"Label\": 0, \"Class\": \"NORMAL\"}, {\"Sentence\": \"The report also includes list typical symptoms communicated children allergic reaction\", \"Label\": 0, \"Class\": \"NORMAL\"}, {\"Sentence\": \" Kids may say , &quot; It feels like something poking tongue , &quot; &quot; My tongue feels like hair , &quot; &quot; My tongue tingling \", \"Label\": 0, \"Class\": \"NORMAL\"}, {\"Sentence\": \"&quot; Basketball: Hopes growing Neckar Riesen (Neckar Giants)\", \"Label\": 0, \"Class\": \"NORMAL\"}, {\"Sentence\": \"The chances relegated Ludwigsburg Budesliga basketball players remaining league improved\", \"Label\": 0, \"Class\": \"NORMAL\"}, {\"Sentence\": \" This wild card procedure , Neckar Riesen one applicant fewer \", \"Label\": 0, \"Class\": \"NORMAL\"}, {\"Sentence\": \"The Hamburg Towers basketball project declining make application possible stand-in place\", \"Label\": 0, \"Class\": \"NORMAL\"}, {\"Sentence\": \" &quot; We participate wild card process , &quot; said former national team player Pascal Roller , putting together concept professional club Hansa town since 2012 \", \"Label\": 0, \"Class\": \"NORMAL\"}, {\"Sentence\": \" However , sigh relief heard Ludwigsburg \", \"Label\": 0, \"Class\": \"NORMAL\"}, {\"Sentence\": \" &quot; We concerning wild card process certain D\\u00fcsseldorf receiving licence , &quot; said boss Neckar Riesen Alexander Reil , speaking paper \", \"Label\": 0, \"Class\": \"NORMAL\"}, {\"Sentence\": \"Newly promoted D\\u00fcsseldorf Baskets 23 May submit documents arbitration panel prove financial fitness Bundesliga\", \"Label\": 0, \"Class\": \"NORMAL\"}, {\"Sentence\": \" However , Rhineland team already refused licence twice \", \"Label\": 0, \"Class\": \"NORMAL\"}, {\"Sentence\": \"The Court Arbitration authority last resort\", \"Label\": 0, \"Class\": \"NORMAL\"}, {\"Sentence\": \" Networking universities companies important On visit district Breisgau-Hochschwarzwald , explained Parliamentary President Guido Wolf Titisee-Neustadt workforce tomorrow come \", \"Label\": 0, \"Class\": \"NORMAL\"}, {\"Sentence\": \" In Hochschwarzwald Support Centre , addressed important question alongside executive principals vocational colleges district grammar school chairs parents &apos; council \", \"Label\": 0, \"Class\": \"NORMAL\"}, {\"Sentence\": \" &quot; Education important factor location , &quot; highlighted Claudia Stehle , Director Hans Thoma School , introduced networked Hochschwarzwald Education Centre Schools Project \", \"Label\": 0, \"Class\": \"NORMAL\"}, {\"Sentence\": \" During presentation , Wolf seemed impressed educational pilot project \", \"Label\": 0, \"Class\": \"NORMAL\"}, {\"Sentence\": \" Since 2011 , successful collaboration W\\u00e4lderstadt Support Centre , District Grammar School Vocational School Complex \", \"Label\": 0, \"Class\": \"NORMAL\"}, {\"Sentence\": \"He also praised family-friendly approach within district\", \"Label\": 0, \"Class\": \"NORMAL\"}, {\"Sentence\": \" &quot; It important , keep family life stage mind , , account demographic change , period spent providing long-term care support relatives well , &quot; explained Wolf \", \"Label\": 0, \"Class\": \"NORMAL\"}, {\"Sentence\": \"He also stated increasing number employed persons looking long-term care support relatives\", \"Label\": 0, \"Class\": \"NORMAL\"}, {\"Sentence\": \" &quot; Without support employer , resulting burden placed employees could result termination employment contract , &quot; said Wolf \", \"Label\": 0, \"Class\": \"NORMAL\"}, {\"Sentence\": \" However , nobody afford lose qualified workers , &quot; added \", \"Label\": 0, \"Class\": \"NORMAL\"}, {\"Sentence\": \" Another , particularly important factor networking universities companies \", \"Label\": 0, \"Class\": \"NORMAL\"}, {\"Sentence\": \" &quot; After , people learned merits region studies often remain within region , along acquired knowledge skills , contributes strengthening region , &quot; said State Parliamentary President , expressing thorough conviction \", \"Label\": 0, \"Class\": \"NORMAL\"}, {\"Sentence\": \"For sufficient number educational places provided need skilled workers covered\", \"Label\": 0, \"Class\": \"NORMAL\"}, {\"Sentence\": \" In opinion , district &apos;s advantage location advantageous location south-west Germany , immediate proximity France Switzerland \", \"Label\": 0, \"Class\": \"NORMAL\"}, {\"Sentence\": \" In addition , train journey Titisee-Neustadt Freiburg , experienced first-hand efforts already undertaken develop public transport \", \"Label\": 0, \"Class\": \"NORMAL\"}, {\"Sentence\": \" &quot; You must continue tenacious make sure local public transport becomes even better , &quot; explained address given local politicians attendance \", \"Label\": 0, \"Class\": \"NORMAL\"}, {\"Sentence\": \" Illmensee: Second mountain bike race enthuses participants In fantastic weather , 214 cyclists came Illmensee take circuit , hills around lake \", \"Label\": 0, \"Class\": \"NORMAL\"}, {\"Sentence\": \"This announced Ulrich Knobel organising Illmensee Sports Club\", \"Label\": 0, \"Class\": \"NORMAL\"}, {\"Sentence\": \" Among participants also numerous amateur cyclists wanted chance practice hobby competitive environment , particular short distance 15 kilometres 300 metre climb \", \"Label\": 0, \"Class\": \"NORMAL\"}, {\"Sentence\": \"Two top-class junior cyclists also starting line-up competition: Felix Bader Bad Waldsee Pascal Treubel Aach-Linz came recommendation achieved good positions German Championships\", \"Label\": 0, \"Class\": \"NORMAL\"}, {\"Sentence\": \"The pair managed break away field keeping expectations\", \"Label\": 0, \"Class\": \"NORMAL\"}, {\"Sentence\": \" As case previous year , Felix Bader managed hold small lead right end defended title overall winner short distance race Once , Pascal Treubel took second place \", \"Label\": 0, \"Class\": \"NORMAL\"}, {\"Sentence\": \"In ladies &apos; race Theresa Duelli Team Albtraum managed take top place podium\", \"Label\": 0, \"Class\": \"NORMAL\"}, {\"Sentence\": \"In second third places Anne Adel Illmensee Leonie Treiber Owingen\", \"Label\": 0, \"Class\": \"NORMAL\"}, {\"Sentence\": \"The increasing number riders live work area fantastic development\", \"Label\": 0, \"Class\": \"NORMAL\"}, {\"Sentence\": \"And top performance - entire range athletic ability represented\", \"Label\": 0, \"Class\": \"NORMAL\"}, {\"Sentence\": \" Participants &apos; ages also wide-ranging , youngest starters ten years old oldest 70 \", \"Label\": 0, \"Class\": \"NORMAL\"}, {\"Sentence\": \" This year , even absolute top athletes starting line main race \", \"Label\": 0, \"Class\": \"NORMAL\"}, {\"Sentence\": \"Four cyclists managed break away top regional racers\", \"Label\": 0, \"Class\": \"NORMAL\"}, {\"Sentence\": \" These included Philipp Pangerl , semi-professional mountain biker Black Tusk Racing Team \", \"Label\": 0, \"Class\": \"NORMAL\"}, {\"Sentence\": \" Together team mate , Pangerl already twice crowned World Champion 12-hour race \", \"Label\": 0, \"Class\": \"NORMAL\"}, {\"Sentence\": \"This year became European Champion special discipline\", \"Label\": 0, \"Class\": \"NORMAL\"}, {\"Sentence\": \" Also competing Roland Ballerstedt , already claimed two German duathlon championships \", \"Label\": 0, \"Class\": \"NORMAL\"}, {\"Sentence\": \" After 45 kilometres climb 900 metres , leading riders neck neck final straight front Drei-Seen-Hall \", \"Label\": 0, \"Class\": \"NORMAL\"}, {\"Sentence\": \"Pangerl sped finish line first place\", \"Label\": 0, \"Class\": \"NORMAL\"}, {\"Sentence\": \" Only one second later , experienced Ballerstedt managed take second place overall standings \", \"Label\": 0, \"Class\": \"NORMAL\"}, {\"Sentence\": \"Hermann Warthmann reached finish line simultaneously take joint third overall standings\", \"Label\": 0, \"Class\": \"NORMAL\"}, {\"Sentence\": \" In ladies &apos; race , Christiane Cohsmann achieved fastest time main race \", \"Label\": 0, \"Class\": \"NORMAL\"}, {\"Sentence\": \" Areane Blersch Binzwangen took second place , ahead Natascha Werner Stuttgart \", \"Label\": 0, \"Class\": \"NORMAL\"}, {\"Sentence\": \"Athletes assistants seemed satisfied smooth well-organised running event\", \"Label\": 0, \"Class\": \"NORMAL\"}, {\"Sentence\": \" RBS suspends two forex traders Royal Bank Scotland suspended two traders foreign exchange division according two people familiar situation , another sign global probe regulators suspected manipulation currency market rapidly gaining traction \", \"Label\": 0, \"Class\": \"NORMAL\"}, {\"Sentence\": \" Some world &apos;s largest banks , including UBS , Barclays , Deutsche Bank RBS , confirmed co-operating regulators investigations world &apos;s largest financial market , $ 5\", \"Label\": 0, \"Class\": \"NORMAL\"}, {\"Sentence\": \"3tn changes hands day\", \"Label\": 0, \"Class\": \"NORMAL\"}, {\"Sentence\": \"The two traders would first RBS employees suspended widening probe echoes Libor interbank lending manipulation scandal\", \"Label\": 0, \"Class\": \"NORMAL\"}, {\"Sentence\": \" The bank , declined comment suspensions , confirmed month received requests information regulators \", \"Label\": 0, \"Class\": \"NORMAL\"}, {\"Sentence\": \" &quot; Our ongoing inquiry matter continues co-operating fully FCA regulators , &quot; bank said two weeks ago \", \"Label\": 0, \"Class\": \"NORMAL\"}, {\"Sentence\": \" Last month , people close situation said RBS turned records emails instant messages UK regulator , Financial Conduct Authority , sent former trader \", \"Label\": 0, \"Class\": \"NORMAL\"}, {\"Sentence\": \" This trader , Richard Usher , left RBS 2010 understand given leave current position European head forex spot trading JPMorgan \", \"Label\": 0, \"Class\": \"NORMAL\"}, {\"Sentence\": \" Rohan Ramchandani , head European spot trading Citi , went leave week , Matt Gardiner , former senior currencies trader Barclays UBS , suspended Standard Chartered week \", \"Label\": 0, \"Class\": \"NORMAL\"}, {\"Sentence\": \"None traders accused wrongdoing\", \"Label\": 0, \"Class\": \"NORMAL\"}, {\"Sentence\": \" Mr Usher &apos;s instant message group included bankers Barclays Citigroup , people close situation said \", \"Label\": 0, \"Class\": \"NORMAL\"}, {\"Sentence\": \" UBS said week taken action employees Swiss regulator , Finma , said investigating suspected manipulation foreign exchange market number Swiss banks \", \"Label\": 0, \"Class\": \"NORMAL\"}, {\"Sentence\": \" At least six authorities globally - European Commission , Finma , Switzerland &apos;s competition authority Weko , FCA , Department Justice US Hong Kong Monetary Authority - looking allegations bankers colluded move currencies market \", \"Label\": 0, \"Class\": \"NORMAL\"}, {\"Sentence\": \" HSBC , Citigroup , JPMorgan Credit Suisse also launched internal probes received requests information regulators , said people familiar situation \", \"Label\": 0, \"Class\": \"NORMAL\"}, {\"Sentence\": \"Banks scouring years &quot; worth instant messages emails search instances wrongdoing\", \"Label\": 0, \"Class\": \"NORMAL\"}, {\"Sentence\": \"News probes rattled traders area one bigger profit drivers investment banks &apos; trading units past years challenged year low volatility currencies cuts opportunities speculators\", \"Label\": 0, \"Class\": \"NORMAL\"}, {\"Sentence\": \" Some bankers tried play affair saying vast highly liquid foreign exchange market almost impossible manipulate , senior traders saying necessarily true \", \"Label\": 0, \"Class\": \"NORMAL\"}, {\"Sentence\": \" A senior trader said despite huge volume daily foreign exchange trading , fragmentation liquidity different trading platforms banks &quot; increasing use internal platforms meant &quot; start get impact market quite small ticket prices \", \"Label\": 0, \"Class\": \"NORMAL\"}, {\"Sentence\": \"&quot; The news came day Credit Suisse announced dismissed trader London exchange traded funds desk week caused nearly $ 6m loss late last year\", \"Label\": 0, \"Class\": \"NORMAL\"}, {\"Sentence\": \"The bank promptly notified relevant authorities co-operating regulators\", \"Label\": 0, \"Class\": \"NORMAL\"}, {\"Sentence\": \" &quot; We confident trader acted alone matter contained , &quot; Credit Suisse said \", \"Label\": 0, \"Class\": \"NORMAL\"}, {\"Sentence\": \"A study aiming increase benefits Scotland HS2 rail project announced UK government\", \"Label\": 0, \"Class\": \"NORMAL\"}, {\"Sentence\": \"The work HS2 Ltd suggests high-speed services Scotland north England start soon Phase One opens 2026\", \"Label\": 0, \"Class\": \"NORMAL\"}, {\"Sentence\": \"Transport minister Baroness Kramer said project would &quot; bring UK together\", \"Label\": 0, \"Class\": \"NORMAL\"}, {\"Sentence\": \"&quot; Scottish transport minister Keith Brown said &quot; excited &quot; work UK government plan\", \"Label\": 0, \"Class\": \"NORMAL\"}, {\"Sentence\": \"Phase One consist new high speed rail line London West Midlands\", \"Label\": 0, \"Class\": \"NORMAL\"}, {\"Sentence\": \" When Phase Two completed , lines run Manchester Leeds \", \"Label\": 0, \"Class\": \"NORMAL\"}, {\"Sentence\": \"In June government revised estimated cost building high-speed link London North England \\u00a3 32\", \"Label\": 0, \"Class\": \"NORMAL\"}, {\"Sentence\": \"7bn \\u00a3 42\", \"Label\": 0, \"Class\": \"NORMAL\"}, {\"Sentence\": \"6bn\", \"Label\": 0, \"Class\": \"NORMAL\"}, {\"Sentence\": \" The UK government , holding talks Transport Scotland , instructed HS2 Ltd look rail capacity journey time improvements northern England Scotland \", \"Label\": 0, \"Class\": \"NORMAL\"}, {\"Sentence\": \"This include possibility eventual journey times Glasgow Edinburgh London three hours less\", \"Label\": 0, \"Class\": \"NORMAL\"}, {\"Sentence\": \"Baroness Kramer said: &quot; Our goal HS2 truly national network bring UK cities closer together\", \"Label\": 0, \"Class\": \"NORMAL\"}, {\"Sentence\": \"&quot; We driving forward HS2 benefits bring huge\", \"Label\": 0, \"Class\": \"NORMAL\"}, {\"Sentence\": \"Without face crisis capacity rail network\", \"Label\": 0, \"Class\": \"NORMAL\"}, {\"Sentence\": \" But also connectivity , across UK 18 cities including Glasgow Edinburgh better connected HS2 \", \"Label\": 0, \"Class\": \"NORMAL\"}, {\"Sentence\": \"Scottish Secretary Alistair Carmichael added: &quot; Today &apos;s announcement good news Scotland\", \"Label\": 0, \"Class\": \"NORMAL\"}, {\"Sentence\": \" &quot; For Scottish government , Keith Brown called Mr Carmichael &quot; unequivocally &quot; back Scotland &apos;s inclusion HS2 network \", \"Label\": 0, \"Class\": \"NORMAL\"}, {\"Sentence\": \" Mr Brown said: &quot; High speed rail potential bring huge economic benefits Scotland , also adds Scotland &apos;s economic weight overall case high speed rail across Britain \", \"Label\": 0, \"Class\": \"NORMAL\"}, {\"Sentence\": \" &quot; So excited work partnership UK Government examine options bringing high speed rail Scotland , creating benefit complementing Glasgow-Edinburgh line Scottish Government already planning \", \"Label\": 0, \"Class\": \"NORMAL\"}, {\"Sentence\": \"I look forward reviewing report investigation UK ministers next year together decide next steps\", \"Label\": 0, \"Class\": \"NORMAL\"}, {\"Sentence\": \" Pawnbrokers shine Singapore middle class feel pinch At pawnshop Bendemeer shopping centre Singapore , Janani Amirthalinga swapping gold bangle , ring pair earrings pay daughters &quot; school fees \", \"Label\": 0, \"Class\": \"NORMAL\"}, {\"Sentence\": \" &quot; My husband I bought house money &apos;s stuck , &quot; Mrs Amirthalinga says \", \"Label\": 0, \"Class\": \"NORMAL\"}, {\"Sentence\": \" Even though earns S $ 3,000 ($ 2,400) month administrator husband works well , monthly family income insufficient , says \", \"Label\": 0, \"Class\": \"NORMAL\"}, {\"Sentence\": \" Indeed , demand across parts southeast Asia - household debt rising - ValueMax , carrying transaction , week became third pawnshop list Singapore stock exchange \", \"Label\": 0, \"Class\": \"NORMAL\"}, {\"Sentence\": \" Pawning jewellery merely fast way land cash - S $ 1,300 Ms Amirthalinga &apos;s case - almost cheap unsecured bank loans \", \"Label\": 0, \"Class\": \"NORMAL\"}, {\"Sentence\": \" Typically pawnbrokers Singapore charge effective annual percentage rate 17 per cent , 15\", \"Label\": 0, \"Class\": \"NORMAL\"}, {\"Sentence\": \"4 per cent offered United Overseas Bank , local lender branch shopping centre \", \"Label\": 0, \"Class\": \"NORMAL\"}, {\"Sentence\": \" However , pawnbrokers advantage requiring credit checks proof salary , arrange loans faster banks \", \"Label\": 0, \"Class\": \"NORMAL\"}, {\"Sentence\": \"Hence millions people across region turning pawnshops families feel squeeze rising living costs ballooning household consumer debt\", \"Label\": 0, \"Class\": \"NORMAL\"}, {\"Sentence\": \" After five years robust growth since global financial crisis , cheap credit fuelled loose monetary policy advanced economies , lower- middle-income families turning pawn shops make difference economies slow \", \"Label\": 0, \"Class\": \"NORMAL\"}, {\"Sentence\": \" This week Standard &amp; Poor &apos;s , rating agency , cited increasing household leverage , mainly rising mortgages , risk factor Asian banks &quot; creditworthiness \", \"Label\": 0, \"Class\": \"NORMAL\"}, {\"Sentence\": \" It said Malaysia , Thailand Singapore highest household debt gross domestic product ratios Asia \", \"Label\": 0, \"Class\": \"NORMAL\"}, {\"Sentence\": \" Malaysia topped list 80 per cent GDP , 60 per cent 2008 \", \"Label\": 0, \"Class\": \"NORMAL\"}, {\"Sentence\": \" Economists also worried high levels consumer debt Thailand , week narrowly emerged technical recession \", \"Label\": 0, \"Class\": \"NORMAL\"}, {\"Sentence\": \" On Thursday , data showed continued export weakness , softening consumer demand \", \"Label\": 0, \"Class\": \"NORMAL\"}, {\"Sentence\": \" &quot; Bottom line costs rising , people middle lower end &#91; income scale &#93; looking supplement income wherever , &quot; says Song Seng Wun , economist CIMB , Malaysian bank \", \"Label\": 0, \"Class\": \"NORMAL\"}, {\"Sentence\": \" Historically high prices gold past two years added rush pawn personal belongings , people take opportunity cash value family jewellery \", \"Label\": 0, \"Class\": \"NORMAL\"}, {\"Sentence\": \" In Singapore , 70 per cent items pawned city-state &apos;s 200 pawn outlets gold \", \"Label\": 0, \"Class\": \"NORMAL\"}, {\"Sentence\": \" People saying &quot; gold price looks good , let &apos;s pawn grandma &apos;s gold chain get back next month \", \"Label\": 0, \"Class\": \"NORMAL\"}, {\"Sentence\": \" In Thailand largest pawnshop operator , EasyMoney , seen 20 per cent rise number customers using outlets recent months \", \"Label\": 0, \"Class\": \"NORMAL\"}, {\"Sentence\": \" Such growth pawn business ValueMax , operator outlet Bendemeer 15 others like Singapore , plans expand neighbouring Malaysia - four shops - outside Asia , says Yeah Lee Ching , ValueMax &apos;s executive director \", \"Label\": 0, \"Class\": \"NORMAL\"}, {\"Sentence\": \"The company fund using 60 per cent S $ 66m raised week listing Singapore stock exchange\", \"Label\": 0, \"Class\": \"NORMAL\"}, {\"Sentence\": \" While discount lenders come fire high interest rates , Ms Yeah says pawning offer cheaper rates lenders , also add directly debt \", \"Label\": 0, \"Class\": \"NORMAL\"}, {\"Sentence\": \" &quot; Customers mortgaging items already , monetising personal assets increase household debt , &quot; says \", \"Label\": 0, \"Class\": \"NORMAL\"}, {\"Sentence\": \" There &apos;s increased social acceptance pawnbroking means secure short term , secured financing \", \"Label\": 0, \"Class\": \"NORMAL\"}, {\"Sentence\": \"Nor types people use pawnbrokers financially stretched\", \"Label\": 0, \"Class\": \"NORMAL\"}, {\"Sentence\": \" Wealthy people Singapore also use ValueMax outlets , pawning gold bars Rolex watches , command 60 per cent purchase price cash \", \"Label\": 0, \"Class\": \"NORMAL\"}, {\"Sentence\": \"We see customers walks life\", \"Label\": 0, \"Class\": \"NORMAL\"}, {\"Sentence\": \" &quot; They include wealthy individuals need borrow short term business ventures investments , small businesses need tide cash flow needs , &quot; says Ms Yeah \", \"Label\": 0, \"Class\": \"NORMAL\"}, {\"Sentence\": \"Sometimes need money quickly\", \"Label\": 0, \"Class\": \"NORMAL\"}, {\"Sentence\": \" Jumbo visits home Black Forest ham Jumbo search &quot; world &apos;s best ham &quot;: For TV programme &quot; Galileo &quot; , Pro7 star visited Bonndorf \", \"Label\": 0, \"Class\": \"NORMAL\"}, {\"Sentence\": \"The presenter established one thing right outset: The important thing comes ham legs pork - turbo fattening provide good basis\", \"Label\": 0, \"Class\": \"NORMAL\"}, {\"Sentence\": \" Can ham bought supermarket good quality product ? Uli , boss large ham factory Schwarzwald , explained Jumbo Bonndorf company , &quot; Adler &quot; , operates \", \"Label\": 0, \"Class\": \"NORMAL\"}, {\"Sentence\": \" &quot; Germany &apos;s most-loved ham , &quot; said Jumbo , presenting Black Forest ham \", \"Label\": 0, \"Class\": \"NORMAL\"}, {\"Sentence\": \"He could enter factory wearing hair protection white coat\", \"Label\": 0, \"Class\": \"NORMAL\"}, {\"Sentence\": \"Jumbo also first disinfect hands could reach microphone\", \"Label\": 0, \"Class\": \"NORMAL\"}, {\"Sentence\": \" Jumbo seen getting something keep going fast food restaurant Waldshut &quot; Here work huge quantities , &quot; commented television producers , astonished mass production Black Forest ham \", \"Label\": 0, \"Class\": \"NORMAL\"}, {\"Sentence\": \" 16,000 joints meat per week speak \", \"Label\": 0, \"Class\": \"NORMAL\"}, {\"Sentence\": \" Weight , fat content colour: Uli explained required best quality \", \"Label\": 0, \"Class\": \"NORMAL\"}, {\"Sentence\": \"The majority pigs slaughtered six months old\", \"Label\": 0, \"Class\": \"NORMAL\"}, {\"Sentence\": \"Television standards ? Even specific details pH value meat play role\", \"Label\": 0, \"Class\": \"NORMAL\"}, {\"Sentence\": \" The darker meat , higher pH value \", \"Label\": 0, \"Class\": \"NORMAL\"}, {\"Sentence\": \" &quot; I would curious would happen measure Roberto Blanco , &quot; said Jumbo cynically \", \"Label\": 0, \"Class\": \"NORMAL\"}, {\"Sentence\": \"Here standard private television production presented purest form\", \"Label\": 0, \"Class\": \"NORMAL\"}, {\"Sentence\": \" Nonetheless , worth watching \", \"Label\": 0, \"Class\": \"NORMAL\"}, {\"Sentence\": \"The viewer sees joints still carved hand\", \"Label\": 0, \"Class\": \"NORMAL\"}, {\"Sentence\": \"After all: Black Forest ham traditionally arrives shelf boneless\", \"Label\": 0, \"Class\": \"NORMAL\"}, {\"Sentence\": \"The secret ham mix herbs combined salt\", \"Label\": 0, \"Class\": \"NORMAL\"}, {\"Sentence\": \"The appearance smoking tower furnace remind Jumbo submarine\", \"Label\": 0, \"Class\": \"NORMAL\"}, {\"Sentence\": \"The trick: Here fir branches smoker provide special flavour Black Forest ham\", \"Label\": 0, \"Class\": \"NORMAL\"}, {\"Sentence\": \" After 20 days smoke , ham finally almost black \", \"Label\": 0, \"Class\": \"NORMAL\"}, {\"Sentence\": \" &quot; And slice disappear inside Jumbo , &quot; said , announcing sampling product \", \"Label\": 0, \"Class\": \"NORMAL\"}, {\"Sentence\": \" &quot; That really delicious , &quot; said TV star conclusion \", \"Label\": 0, \"Class\": \"NORMAL\"}, {\"Sentence\": \"All involved happy evaluation\", \"Label\": 0, \"Class\": \"NORMAL\"}, {\"Sentence\": \" Living future-oriented perspective If truth told , Waltraud Ries , lives dreamy life \", \"Label\": 0, \"Class\": \"NORMAL\"}, {\"Sentence\": \" Her house located peaceful neighbourhood Stuttgart , plenty greenery , old tree population , nice neighbours much traffic \", \"Label\": 0, \"Class\": \"NORMAL\"}, {\"Sentence\": \"She minutes city centre using public transport\", \"Label\": 0, \"Class\": \"NORMAL\"}, {\"Sentence\": \" &quot; Hopefully &apos;t afraid spiders ? &quot; asks Waltraud Ries , pointing large spider door frame \", \"Label\": 0, \"Class\": \"NORMAL\"}, {\"Sentence\": \"I looking new home husband time\", \"Label\": 0, \"Class\": \"NORMAL\"}, {\"Sentence\": \"But know difficult Stuttgart\", \"Label\": 0, \"Class\": \"NORMAL\"}, {\"Sentence\": \" However , reason desire move arachnophobia , rather fear able manage large number steps house , inside home old age , explained \", \"Label\": 0, \"Class\": \"NORMAL\"}, {\"Sentence\": \" Furthermore: Since undergoing meniscus operation , lady , mid-fifties , experience means move floor floor disability \", \"Label\": 0, \"Class\": \"NORMAL\"}, {\"Sentence\": \" Only recently , released book subject &quot; Living happily old age - Which type property best ? &quot; \", \"Label\": 0, \"Class\": \"NORMAL\"}, {\"Sentence\": \" &quot; Our home best example property simply &apos;t work old age , &quot; begins recount \", \"Label\": 0, \"Class\": \"NORMAL\"}, {\"Sentence\": \" When moved maisonette husband 20 years ago , simply pretty apartment green surroundings \", \"Label\": 0, \"Class\": \"NORMAL\"}, {\"Sentence\": \" Now , mid-fifties , Waltraud Ries different thoughts \", \"Label\": 0, \"Class\": \"NORMAL\"}, {\"Sentence\": \" However , aware one people actually deal topic &apos; living old age &apos; \", \"Label\": 0, \"Class\": \"NORMAL\"}, {\"Sentence\": \"The majority people put back minds long possible\", \"Label\": 0, \"Class\": \"NORMAL\"}, {\"Sentence\": \" Only people get old , says , smirking \", \"Label\": 0, \"Class\": \"NORMAL\"}, {\"Sentence\": \"Only psychological strain becomes severe people give consideration\", \"Label\": 0, \"Class\": \"NORMAL\"}, {\"Sentence\": \" &quot; But stage late , &quot; said Ries \", \"Label\": 0, \"Class\": \"NORMAL\"}, {\"Sentence\": \" In book , interior decorator presents 17 housing models independent living old age \", \"Label\": 0, \"Class\": \"NORMAL\"}, {\"Sentence\": \" &quot; However , type residence choose always personal decision , &quot; explains \", \"Label\": 0, \"Class\": \"NORMAL\"}, {\"Sentence\": \"There solution overcoming old age\", \"Label\": 0, \"Class\": \"NORMAL\"}, {\"Sentence\": \" Even afford spend retirement Tuscany Brittany , always take fact may become ill consideration \", \"Label\": 0, \"Class\": \"NORMAL\"}, {\"Sentence\": \" And: &apos; Without sound knowledge local language , even become lonely living dolce vita , &apos; added author , providing food thought seeking move abroad \", \"Label\": 0, \"Class\": \"NORMAL\"}, {\"Sentence\": \" Her models include classic care models , alternative living arrangements often-mentioned pensioners &apos; living community \", \"Label\": 0, \"Class\": \"NORMAL\"}, {\"Sentence\": \"In old age everyone quirks ticks\", \"Label\": 0, \"Class\": \"NORMAL\"}, {\"Sentence\": \" &apos; However , type residential community would , &apos; commented wink \", \"Label\": 0, \"Class\": \"NORMAL\"}, {\"Sentence\": \"Definitely nothing like student accommodation shared bathroom kitchen\", \"Label\": 0, \"Class\": \"NORMAL\"}, {\"Sentence\": \" &apos; In old age simply need space withdraw , &apos; said Ries \", \"Label\": 0, \"Class\": \"NORMAL\"}, {\"Sentence\": \" However , author wish rule possibility pensioners &apos; residential community work \", \"Label\": 0, \"Class\": \"NORMAL\"}, {\"Sentence\": \" However , must operate differently classic student digs \", \"Label\": 0, \"Class\": \"NORMAL\"}, {\"Sentence\": \" And sometimes also want peace quiet , &apos; believes \", \"Label\": 0, \"Class\": \"NORMAL\"}, {\"Sentence\": \"With opinion least alone State Capital\", \"Label\": 0, \"Class\": \"NORMAL\"}, {\"Sentence\": \" The experience Theresa R\\u00fctten , head citizen &apos;s Life Old Age service State Capital , also &apos; majority old people Stuttgart want remain homes long possible &apos; \", \"Label\": 0, \"Class\": \"NORMAL\"}, {\"Sentence\": \"Her agency agency advises people topic &apos; growing old &apos;\", \"Label\": 0, \"Class\": \"NORMAL\"}, {\"Sentence\": \"Therefore experience Stiftung Warentest consumer study also elderly people particular would accept inconveniences limitations able remain usual environment\", \"Label\": 0, \"Class\": \"NORMAL\"}, {\"Sentence\": \"Nowadays many possibilities designing house apartment way barrier-free\", \"Label\": 0, \"Class\": \"NORMAL\"}, {\"Sentence\": \"Ries recommends working age-appropriate renovation house apartment first seek in-depth information &apos;t simply use first tradesman comes along\", \"Label\": 0, \"Class\": \"NORMAL\"}, {\"Sentence\": \"Nowadays specialists renovation suit needs elderly\", \"Label\": 0, \"Class\": \"NORMAL\"}, {\"Sentence\": \" Even case rental apartments landlords work carried , even matter raising level toilet seat , clarified interior designer \", \"Label\": 0, \"Class\": \"NORMAL\"}, {\"Sentence\": \" However , always case existing apartment made age-appropriate therefore barrier-free , even beautiful ever \", \"Label\": 0, \"Class\": \"NORMAL\"}, {\"Sentence\": \"Waltraud Ries go experience\", \"Label\": 0, \"Class\": \"NORMAL\"}, {\"Sentence\": \" You could course install stair lift inside apartment , cobbled path door apartment , featuring number steps would much greater hindrance \", \"Label\": 0, \"Class\": \"NORMAL\"}, {\"Sentence\": \"She keep looking found ideal property husband\", \"Label\": 0, \"Class\": \"NORMAL\"}, {\"Sentence\": \"She afraid move spider front door\", \"Label\": 0, \"Class\": \"NORMAL\"}, {\"Sentence\": \"Vienna Airport abolishes passenger call-outs Mr\", \"Label\": 0, \"Class\": \"NORMAL\"}, {\"Sentence\": \" Max Maier , please make way Gate 24 \", \"Label\": 0, \"Class\": \"NORMAL\"}, {\"Sentence\": \" In future , announcements longer happen Vienna International Airport \", \"Label\": 0, \"Class\": \"NORMAL\"}, {\"Sentence\": \"The majority loudspeaker announcements cease - thus considerably reducing noise level\", \"Label\": 0, \"Class\": \"NORMAL\"}, {\"Sentence\": \"The goal adjustment create relaxing atmosphere\", \"Label\": 0, \"Class\": \"NORMAL\"}, {\"Sentence\": \" As airport spokesperson Peter Kleeman announced Radio Vienna adjusting approach towards announcements , Vienna Airport following international trend \", \"Label\": 0, \"Class\": \"NORMAL\"}, {\"Sentence\": \" Among others , airports Kopenhagen , Frankfurt Dubai already done away noisy call-outs \", \"Label\": 0, \"Class\": \"NORMAL\"}, {\"Sentence\": \"By away announcements - average around 200 personal call-outs come loudspeakers per day - atmosphere airport calmer future\", \"Label\": 0, \"Class\": \"NORMAL\"}, {\"Sentence\": \" &quot; Experience also shown individual announcements relatively seldom taken notice , time , information regarding changes departure gates flight times somewhat lost among , &quot; said Kleeman chatting radio broadcaster \", \"Label\": 0, \"Class\": \"NORMAL\"}, {\"Sentence\": \" British police serve Assange extradition notice Btitish police served extradition notice today WikiLeaks founder Julian Assange , taken refuge Ecuador &apos;s embassy London requested asylum \", \"Label\": 0, \"Class\": \"NORMAL\"}, {\"Sentence\": \" Scotland Yard said served &quot; surrender notice &quot; 40-year-old Australian requiring appear police station , adding failure would make liable arrest \", \"Label\": 0, \"Class\": \"NORMAL\"}, {\"Sentence\": \" Assange faces extradition Sweden sex crime allegations , exhausted options British law Supreme Court overturned appeal extradition earlier month \", \"Label\": 0, \"Class\": \"NORMAL\"}, {\"Sentence\": \" Fearing Stockholm would pass US , sought refuge Ecuador &apos;s embassy London June 19 , asking South American country political asylum \", \"Label\": 0, \"Class\": \"NORMAL\"}, {\"Sentence\": \" Scotland Yard &quot; served surrender notice upon 40-year-old man requires attend police station date time choosing , &quot; spokesman said \", \"Label\": 0, \"Class\": \"NORMAL\"}, {\"Sentence\": \"He remains breach bail conditions\", \"Label\": 0, \"Class\": \"NORMAL\"}, {\"Sentence\": \"The embassy declined comment serving police notice\", \"Label\": 0, \"Class\": \"NORMAL\"}, {\"Sentence\": \" Assange fears extradited Sweden United States face possible espionage charges , releasing 250,000 US diplomatic cables WikiLeaks anti-secrecy website \", \"Label\": 0, \"Class\": \"NORMAL\"}, {\"Sentence\": \" Worker falls ladder: seriously injured On Thursday , 51-year-old worker Eggelsberg fell ladder replacing broken external sensor seriously injured \", \"Label\": 0, \"Class\": \"NORMAL\"}, {\"Sentence\": \"The man Lamprechtshausen wanted replace broken heating sensor external facade guest house\", \"Label\": 0, \"Class\": \"NORMAL\"}, {\"Sentence\": \" As climbing ladder , resting roof guttering , slipped away man fell onto concrete \", \"Label\": 0, \"Class\": \"NORMAL\"}, {\"Sentence\": \"He suffered serious injuries taken &quot; Christophorus 6 &quot; rescue helicopter Salzburg Regional Hospital\", \"Label\": 0, \"Class\": \"NORMAL\"}, {\"Sentence\": \" NSA Blames &quot; Internal Error , &quot; Not Hackers , For Website Crash The shadowy National Security Agency said late Friday glitch brought public website hours , hackers claimed online \", \"Label\": 0, \"Class\": \"NORMAL\"}, {\"Sentence\": \"&quot; NSA\", \"Label\": 0, \"Class\": \"NORMAL\"}, {\"Sentence\": \"gov accessible several hours tonight internal error occurred scheduled update , &quot; spy agency said emailed statement \", \"Label\": 0, \"Class\": \"NORMAL\"}, {\"Sentence\": \"The issue resolved evening\", \"Label\": 0, \"Class\": \"NORMAL\"}, {\"Sentence\": \"Claims outage caused distributed denial service &#91; DDoS &#93; attack true\", \"Label\": 0, \"Class\": \"NORMAL\"}, {\"Sentence\": \" Earlier evening online server trackers noted NSA &apos;s website least six hours , site continues inaccessible users \", \"Label\": 0, \"Class\": \"NORMAL\"}, {\"Sentence\": \" Earlier NSA spokesperson told ABC News agency &apos;s internal , sensitive network &quot; &quot; compromised \", \"Label\": 0, \"Class\": \"NORMAL\"}, {\"Sentence\": \" No classified information danger , spokesperson said \", \"Label\": 0, \"Class\": \"NORMAL\"}, {\"Sentence\": \"At least one hacktivist group online claimed responsible bringing NSA site DDoS attack\", \"Label\": 0, \"Class\": \"NORMAL\"}, {\"Sentence\": \"DDoS attacks designed flood target website traffic servers overloaded site collapses\", \"Label\": 0, \"Class\": \"NORMAL\"}, {\"Sentence\": \"The cyber tactic relatively unsophisticated one attacks meant penetrate internal network target system\", \"Label\": 0, \"Class\": \"NORMAL\"}, {\"Sentence\": \" The formerly super secretive NSA , nicknamed No Such Agency , found public light , amid vicious criticism , past months following stream revelations vast foreign domestic surveillance programs - collectively product secret NSA files stolen agency leaked disenchanted former NSA contractor Edward Snowden \", \"Label\": 0, \"Class\": \"NORMAL\"}, {\"Sentence\": \"Such growing controversy surrounding agency prompted early speculation tonight &apos;s incident result targeted cyber operation\", \"Label\": 0, \"Class\": \"NORMAL\"}, {\"Sentence\": \" Revolutionary Sacred Music Factory To close celebrations occasion 160th anniversary , Liederkranz Dunningen (Dunningen Amateur Choir , Glee Club , like) perform Franz Schubert &apos;s &quot; Deutsche Messe &quot; (German Mass) accompany two church services \", \"Label\": 0, \"Class\": \"NORMAL\"}, {\"Sentence\": \" Following great success musical , &quot; Rock Life &quot; , enthused audiences past Spring , Liederkranz bless two church services performance Franz Schubert &apos;s Deutsche Messe , close anniversary year celebrations \", \"Label\": 0, \"Class\": \"NORMAL\"}, {\"Sentence\": \" On Saturday 26 October , exceptional mass heard 7\", \"Label\": 0, \"Class\": \"NORMAL\"}, {\"Sentence\": \"12:00 PM\", \"Label\": 0, \"Class\": \"NORMAL\"}, {\"Sentence\": \"m\", \"Label\": 0, \"Class\": \"NORMAL\"}, {\"Sentence\": \"evening mass St\", \"Label\": 0, \"Class\": \"NORMAL\"}, {\"Sentence\": \" Marinuskirche Dunningen Sunday 27 October , 10\", \"Label\": 0, \"Class\": \"NORMAL\"}, {\"Sentence\": \"15 , service St\", \"Label\": 0, \"Class\": \"NORMAL\"}, {\"Sentence\": \"Johannes Baptistkirche Lackendorf\", \"Label\": 0, \"Class\": \"NORMAL\"}, {\"Sentence\": \" The so-called &apos; German Mass &apos; , original title &quot; Ges\\u00e4nge zur Feier des heiliges Opfers der Messe &quot; (Songs celebrate holy sacrifice mass), D 872 , spiritual work composer Franz Schubert , dating 1826 , time written considered almost revolutionary \", \"Label\": 0, \"Class\": \"NORMAL\"}, {\"Sentence\": \"Patron Johan Philipp Neumann mind mass performed part church services\", \"Label\": 0, \"Class\": \"NORMAL\"}, {\"Sentence\": \" Under directorship Hermann Schneider , choir accompanied wind ensemble Frohsinn Tennenbronn Music Society , Noemi Lokodi organ \", \"Label\": 0, \"Class\": \"NORMAL\"}, {\"Sentence\": \" Council sets sights rail system Should &quot; Am Hirschen &quot; railway crossing reconstructed great cost , order increase traffic safety ? The Town Councils decided answer yes \", \"Label\": 0, \"Class\": \"NORMAL\"}, {\"Sentence\": \" Schiltach contribute EUR 220,000 project \", \"Label\": 0, \"Class\": \"NORMAL\"}, {\"Sentence\": \"The Deutsche Bahn hopes improve Kinzigtal railway line coming year\", \"Label\": 0, \"Class\": \"NORMAL\"}, {\"Sentence\": \" In particular , safety railway crossings increased - collisions trains vehicles frequently occur across country \", \"Label\": 0, \"Class\": \"NORMAL\"}, {\"Sentence\": \" If municipalities agree reconstruction measures , required contribute one third costs , remainder divided Deutsche Bahn Federal Government \", \"Label\": 0, \"Class\": \"NORMAL\"}, {\"Sentence\": \" Schiltach &apos;s town master mason , Roland Grie\\u00dfhaber , explained peculiarities &quot; Am Hirschen &quot; railway crossing Town Council \", \"Label\": 0, \"Class\": \"NORMAL\"}, {\"Sentence\": \" At crossing , town planning increase height mouth tunnel west railway line \", \"Label\": 0, \"Class\": \"NORMAL\"}, {\"Sentence\": \" Larger vehicles , example transport long logs , would able wait event oncoming traffic , without block railway line \", \"Label\": 0, \"Class\": \"NORMAL\"}, {\"Sentence\": \"Grie\\u00dfhaber therefore suggested required supporting wall constructed way town could due course widen adjoining street order guarantee smooth flow traffic\", \"Label\": 0, \"Class\": \"NORMAL\"}, {\"Sentence\": \" This subject controversial discussion Town Council , council members cast doubt need widen road: Thomas Kipp summarised perspective critics statement: &quot; Do hand much money account vehicles ? &quot; Mayor Thomas Haas retorted: The &quot; Hirschen &quot; railway crossing used regularly transportation long logs \", \"Label\": 0, \"Class\": \"NORMAL\"}, {\"Sentence\": \" Even wood &quot; Kuhbach &quot; area occasionally transported via route , vehicles , measure 20 metres length , would able use route via H\\u00e4berles Bridge , would able make turn Hauptstrasse \", \"Label\": 0, \"Class\": \"NORMAL\"}, {\"Sentence\": \" Furthermore , Hauptstrasse blocked , route would also serve bypass vehicles permitted use tunnel , argued Haas \", \"Label\": 0, \"Class\": \"NORMAL\"}, {\"Sentence\": \" Given likely Kirchberg Schlossberg tunnel reconstructed renovated , currently case Wolfach , &quot; Am Hirschen &quot; railway crossing may become major traffic significance longer period time \", \"Label\": 0, \"Class\": \"NORMAL\"}, {\"Sentence\": \"The councillors agreed investigation conducted costs planned widening road would incur\", \"Label\": 0, \"Class\": \"NORMAL\"}, {\"Sentence\": \" Nevertheless , reconstruction railway crossing consented majority , provision required supporting wall built way town could , required , extend connecting road &quot; Bahnhofstra\\u00dfe &quot; direction around 5\", \"Label\": 0, \"Class\": \"NORMAL\"}, {\"Sentence\": \"5 metres accommodate oncoming traffic\", \"Label\": 0, \"Class\": \"NORMAL\"}, {\"Sentence\": \" The reconstruction railway crossing Trautwein tannery could , hand , bring entirely different problem regard access steep &quot; Geroltzh\\u00e4user Weg &quot; \", \"Label\": 0, \"Class\": \"NORMAL\"}, {\"Sentence\": \" The Administrative Department Deutsche Bahn &apos;s reconstruction plans investigated Breinlinger Engineering Office , doubts whether planned connection Geroltzh\\u00e4user Weg straightforward \", \"Label\": 0, \"Class\": \"NORMAL\"}, {\"Sentence\": \"The investigation came conclusion could ruled inclination road could result longer vehicles becoming stuck\", \"Label\": 0, \"Class\": \"NORMAL\"}, {\"Sentence\": \" The town , authority responsible road construction , would bear responsibility \", \"Label\": 0, \"Class\": \"NORMAL\"}, {\"Sentence\": \"The reconstruction could therefore result liability disputes\", \"Label\": 0, \"Class\": \"NORMAL\"}, {\"Sentence\": \" Because transportation wood turning possible things , reconstruction railway crossing consented , argued Haas \", \"Label\": 0, \"Class\": \"NORMAL\"}, {\"Sentence\": \" At point , risk train collision vehicle positioned crossing considerably lower railway crossings , account fact midpoint good line sight , directly alongside stopping point \", \"Label\": 0, \"Class\": \"NORMAL\"}, {\"Sentence\": \" The trains , coming central station , must also sufficiently slowed threat collision \", \"Label\": 0, \"Class\": \"NORMAL\"}, {\"Sentence\": \" According councillors , reconstruction railway line rejected majority , town Schiltach would &quot; bear brunt cost &quot; problem vehicles becoming stuck , since Deutsche Bahn would able deny responsibility following completion construction work \", \"Label\": 0, \"Class\": \"NORMAL\"}, {\"Sentence\": \" The committee considers reconstruction &quot; Vor Heubach &quot; &apos; Vor Kuhbach &quot; railway crossings , crossing agreements already reached Deutsche Bahn , unproblematic \", \"Label\": 0, \"Class\": \"NORMAL\"}, {\"Sentence\": \"Dieter Thomas Kuhn Stuttgart: The &quot; singing mountain wave &quot; open-air stage Stuttgart - &quot; When summer ? &quot; actually question people &apos;s lips Killesberg Open-Air Theatre Friday evening\", \"Label\": 0, \"Class\": \"NORMAL\"}, {\"Sentence\": \"It genuinely tropical evening Stuttgart\", \"Label\": 0, \"Class\": \"NORMAL\"}, {\"Sentence\": \" This therefore provided ideal conditions pop star , Dieter Thomas Kuhn , band \", \"Label\": 0, \"Class\": \"NORMAL\"}, {\"Sentence\": \"Click image gallery performance &quot; singing mountain wave &quot;\", \"Label\": 0, \"Class\": \"NORMAL\"}, {\"Sentence\": \"Parents Intersex Kids Can Pick &apos; Gender Undetermined &apos; Germany became first European nation recognize third gender babies born ambiguous genitalia\", \"Label\": 0, \"Class\": \"NORMAL\"}, {\"Sentence\": \"No longer newborns rigidly assigned male female\", \"Label\": 0, \"Class\": \"NORMAL\"}, {\"Sentence\": \" The new law &apos;t require parents declare gender children , allowing parents declare gender &quot; undetermined &quot; &quot; unspecified &quot; birth certificates \", \"Label\": 0, \"Class\": \"NORMAL\"}, {\"Sentence\": \" The aim law take pressure parents might make hasty decisions sex-assignment surgery newborns , fight discrimination intersex \", \"Label\": 0, \"Class\": \"NORMAL\"}, {\"Sentence\": \" One intersex person , according BBC , said years later , &quot; I neither man woman \", \"Label\": 0, \"Class\": \"NORMAL\"}, {\"Sentence\": \" &quot; I remain patchwork created doctors , bruised scarred \", \"Label\": 0, \"Class\": \"NORMAL\"}, {\"Sentence\": \" An estimated one 2,000 children born year neither boy girl \", \"Label\": 0, \"Class\": \"NORMAL\"}, {\"Sentence\": \" They intersex , part group 60 conditions fall diagnosis disorders sexual development , umbrella term atypical chromosomes , gonads (ovaries testes), unusually developed genitalia \", \"Label\": 0, \"Class\": \"NORMAL\"}, {\"Sentence\": \"Wallis Simpson may intersex\", \"Label\": 0, \"Class\": \"NORMAL\"}, {\"Sentence\": \" Gender identification still well understood , experts United States say sex cannot determined , &apos;s better use best available information assign wait monitor child &apos;s psychological physical development undertaking surgery , \", \"Label\": 0, \"Class\": \"NORMAL\"}, {\"Sentence\": \"New York City psychiatrist Dr\", \"Label\": 0, \"Class\": \"NORMAL\"}, {\"Sentence\": \" Jack Drescher , specializes issues gender identification , said new German law &quot; sounds like good thing \", \"Label\": 0, \"Class\": \"NORMAL\"}, {\"Sentence\": \"&quot; Intersex children pose ethical dilemma\", \"Label\": 0, \"Class\": \"NORMAL\"}, {\"Sentence\": \" &quot; Some people life-endangering conditions require surgery , kids , &quot; said \", \"Label\": 0, \"Class\": \"NORMAL\"}, {\"Sentence\": \" You make gender assignment without surgery , see identity develops \", \"Label\": 0, \"Class\": \"NORMAL\"}, {\"Sentence\": \"The science knowing child develop gender identity accurate\", \"Label\": 0, \"Class\": \"NORMAL\"}, {\"Sentence\": \"Nobody answer questions happens\", \"Label\": 0, \"Class\": \"NORMAL\"}, {\"Sentence\": \"It &apos;s like mystery people gay\", \"Label\": 0, \"Class\": \"NORMAL\"}, {\"Sentence\": \" A report filed European Commission 2011 described intersex people different transsexual transgender people , status gender related instead relates biological makeup , neither exclusively male exclusively female , typical clearly defined either \", \"Label\": 0, \"Class\": \"NORMAL\"}, {\"Sentence\": \" These features manifest secondary sexual characteristics , muscle mass , hair distribution , breasts stature; primary sexual characteristics reproductive organs genitalia; chromosomal structures hormones \", \"Label\": 0, \"Class\": \"NORMAL\"}, {\"Sentence\": \" The report also gives overview discrimination faced intersex transgender people realm employment , well levels harassment , violence bias crimes \", \"Label\": 0, \"Class\": \"NORMAL\"}, {\"Sentence\": \"Gender nonconforming boys special camp\", \"Label\": 0, \"Class\": \"NORMAL\"}, {\"Sentence\": \" Already , Australia Nepal allow adults mark male , female &quot; third gender &quot; official documents \", \"Label\": 0, \"Class\": \"NORMAL\"}, {\"Sentence\": \" In June , 52-year-old Australian , Norrie May-Welby , became world &apos;s first recognized &quot; genderless &quot; person winning legal appeal keep &quot; unspecified &quot; gender status life \", \"Label\": 0, \"Class\": \"NORMAL\"}, {\"Sentence\": \" German passports third designation M F -- X , intersex , according Interior Ministry \", \"Label\": 0, \"Class\": \"NORMAL\"}, {\"Sentence\": \" In neighboring France , gender issues still controversial , according news report France 24 \", \"Label\": 0, \"Class\": \"NORMAL\"}, {\"Sentence\": \" In 2011 , dozens French lawmakers strongly Catholic country signed petition &quot; gender theory &quot; withdrawn school textbooks \", \"Label\": 0, \"Class\": \"NORMAL\"}, {\"Sentence\": \"The U\", \"Label\": 0, \"Class\": \"NORMAL\"}, {\"Sentence\": \"S\", \"Label\": 0, \"Class\": \"NORMAL\"}, {\"Sentence\": \" website Catholic Online also opposed German law , writing &quot; world dragged new state , gender choice , sexual activity , reverse two pillars civilization \", \"Label\": 0, \"Class\": \"NORMAL\"}, {\"Sentence\": \"&quot; One Maryland mother newborn also told Baby Zone would rather see babies assigned gender birth\", \"Label\": 0, \"Class\": \"NORMAL\"}, {\"Sentence\": \" &quot; Parenting stressful enough without extra limitations , especially &apos;t know gender child , &quot; told parenting website \", \"Label\": 0, \"Class\": \"NORMAL\"}, {\"Sentence\": \"Children need stability certainty\", \"Label\": 0, \"Class\": \"NORMAL\"}, {\"Sentence\": \" Historically , children born male female genitalia called hermaphrodites , named handsome Greek god dual sexuality \", \"Label\": 0, \"Class\": \"NORMAL\"}, {\"Sentence\": \" And little decade ago , medical community thought gender slate could erased redrawn \", \"Label\": 0, \"Class\": \"NORMAL\"}, {\"Sentence\": \" But , many challenging ethical basis surgery , knowing gender identity complex , doctors sometimes get wrong , knowing child feel gender assignment grow \", \"Label\": 0, \"Class\": \"NORMAL\"}, {\"Sentence\": \" &quot; Back middle 20th century , called &apos; psychiatric emergency , &apos; &quot; said Drescher \", \"Label\": 0, \"Class\": \"NORMAL\"}, {\"Sentence\": \" When kids born , &apos;t call psychiatrist , called surgeon \", \"Label\": 0, \"Class\": \"NORMAL\"}, {\"Sentence\": \"The prevailing theory treat children ambiguous genitalia put forward Dr\", \"Label\": 0, \"Class\": \"NORMAL\"}, {\"Sentence\": \" John Money Johns Hopkins University , held gender malleable \", \"Label\": 0, \"Class\": \"NORMAL\"}, {\"Sentence\": \"He coined term &quot; gender identity &quot; argued social environmental cues -- parents raised child -- interacted child &apos;s genes hormones shape whether person identified male female\", \"Label\": 0, \"Class\": \"NORMAL\"}, {\"Sentence\": \" But one 1966 case , known &quot; John / Joan , &quot; theories became controversial \", \"Label\": 0, \"Class\": \"NORMAL\"}, {\"Sentence\": \" He advised parents boy whose penis severed botched circumcision child fully castrated , removing testicles , well , raise girl \", \"Label\": 0, \"Class\": \"NORMAL\"}, {\"Sentence\": \" &quot; Money presented case successful case transition , , &quot; said Drescher \", \"Label\": 0, \"Class\": \"NORMAL\"}, {\"Sentence\": \" When boy around 15 , transitioned back boy married woman \", \"Label\": 0, \"Class\": \"NORMAL\"}, {\"Sentence\": \" But 38 , committed suicide \", \"Label\": 0, \"Class\": \"NORMAL\"}, {\"Sentence\": \"Drescher said doctors still &quot; practicing model\", \"Label\": 0, \"Class\": \"NORMAL\"}, {\"Sentence\": \" &quot; But 1990s , advent Internet , survivors gender surgeries come forward &quot; happy outcome \", \"Label\": 0, \"Class\": \"NORMAL\"}, {\"Sentence\": \" &quot; Such case Jim Bruce , 36-year-old writer Montana , born XY male chromosomes ambiguous genitals \", \"Label\": 0, \"Class\": \"NORMAL\"}, {\"Sentence\": \"Doctors &apos;t sure large clitoris small penis convinced could never live &quot; satisfactory life &quot; man\", \"Label\": 0, \"Class\": \"NORMAL\"}, {\"Sentence\": \" So shortly birth 1976 , Bruce &apos;s external organ testes surgically removed raised girl \", \"Label\": 0, \"Class\": \"NORMAL\"}, {\"Sentence\": \"He given female hormones age 12\", \"Label\": 0, \"Class\": \"NORMAL\"}, {\"Sentence\": \" &quot; I knew I &apos;t girl , &quot; told ABCNews\", \"Label\": 0, \"Class\": \"NORMAL\"}, {\"Sentence\": \"com\", \"Label\": 0, \"Class\": \"NORMAL\"}, {\"Sentence\": \" I unhappy , really difficult ask questions \", \"Label\": 0, \"Class\": \"NORMAL\"}, {\"Sentence\": \" At 18 , set vaginoplasty \", \"Label\": 0, \"Class\": \"NORMAL\"}, {\"Sentence\": \" But depressed knowing something wrong , demanded medical records \", \"Label\": 0, \"Class\": \"NORMAL\"}, {\"Sentence\": \"What found horrifying\", \"Label\": 0, \"Class\": \"NORMAL\"}, {\"Sentence\": \"I sterilized birth -- one ever told\", \"Label\": 0, \"Class\": \"NORMAL\"}, {\"Sentence\": \"Bruce born DSD prevented body producing enough testosterone properly develop genitals\", \"Label\": 0, \"Class\": \"NORMAL\"}, {\"Sentence\": \" After learning truth , changed back man , taking testosterone shots breasts removed \", \"Label\": 0, \"Class\": \"NORMAL\"}, {\"Sentence\": \"Surgery rendered infertile\", \"Label\": 0, \"Class\": \"NORMAL\"}, {\"Sentence\": \" Today , advocates others organization called Interface Project , trying normalize perceptions intersex \", \"Label\": 0, \"Class\": \"NORMAL\"}, {\"Sentence\": \" But Anne Tamar-Mattis , executive director California-based legal group Advocates Informed Choice , worries German law &quot; invites labeling stigma \", \"Label\": 0, \"Class\": \"NORMAL\"}, {\"Sentence\": \" &quot; &quot; A lot activists concerned German rule encourage parents make quick decisions give child &apos; undetermined , &apos; &quot; said \", \"Label\": 0, \"Class\": \"NORMAL\"}, {\"Sentence\": \"We afraid encourage intervention\", \"Label\": 0, \"Class\": \"NORMAL\"}, {\"Sentence\": \" We think better process assigning male female sex , waiting \", \"Label\": 0, \"Class\": \"NORMAL\"}, {\"Sentence\": \" But &apos;t seen law play , speculate \", \"Label\": 0, \"Class\": \"NORMAL\"}, {\"Sentence\": \"Tamar-Mattis said organization supports Australian law &quot; allows adults choose recognized third gender\", \"Label\": 0, \"Class\": \"NORMAL\"}, {\"Sentence\": \" &quot; &quot; Adults able make decisions legal gender , &quot; said \", \"Label\": 0, \"Class\": \"NORMAL\"}, {\"Sentence\": \"German law assigning birth\", \"Label\": 0, \"Class\": \"NORMAL\"}, {\"Sentence\": \"That battle young children take point\", \"Label\": 0, \"Class\": \"NORMAL\"}, {\"Sentence\": \" When grown , make decisions bodies \", \"Label\": 0, \"Class\": \"NORMAL\"}, {\"Sentence\": \"But Dr\", \"Label\": 0, \"Class\": \"NORMAL\"}, {\"Sentence\": \" Arlene Baratz , Pittsburgh breast radiologist daughter disorder sexual development helps hundreds others support group , said German law &quot; empower &quot; parents children \", \"Label\": 0, \"Class\": \"NORMAL\"}, {\"Sentence\": \" Baratz &apos;s daughter Katie born male chromosomes , DSD called complete androgen insensitivity syndrome \", \"Label\": 0, \"Class\": \"NORMAL\"}, {\"Sentence\": \" Because androgen receptors faulty , Katie developed female characteristics \", \"Label\": 0, \"Class\": \"NORMAL\"}, {\"Sentence\": \" She vagina , uterus ovaries \", \"Label\": 0, \"Class\": \"NORMAL\"}, {\"Sentence\": \" Now 29 , Katie married University Pennsylvania , resident child psychiatry \", \"Label\": 0, \"Class\": \"NORMAL\"}, {\"Sentence\": \" Though infertile , hopes become parent adoption gestational surrogacy \", \"Label\": 0, \"Class\": \"NORMAL\"}, {\"Sentence\": \" &quot; The law gives parents space rush making decisions , &quot; said Baratz \", \"Label\": 0, \"Class\": \"NORMAL\"}, {\"Sentence\": \"It gives time tests figure period time write &apos; male &apos; &apos; female\", \"Label\": 0, \"Class\": \"NORMAL\"}, {\"Sentence\": \" &apos; This way , OK -- raise child , love child \", \"Label\": 0, \"Class\": \"NORMAL\"}, {\"Sentence\": \"You wonderful baby enjoy fun\", \"Label\": 0, \"Class\": \"NORMAL\"}, {\"Sentence\": \"We &apos;t rush surgery irreversible\", \"Label\": 0, \"Class\": \"NORMAL\"}, {\"Sentence\": \" &quot; It brings children decision takes away anxiety motivates parents &apos;t feel right thing , &quot; said \", \"Label\": 0, \"Class\": \"NORMAL\"}, {\"Sentence\": \" Ultimately , child decide sex feels comfortable -- &apos;s wonderful thing \", \"Label\": 0, \"Class\": \"NORMAL\"}, {\"Sentence\": \"It empowers children make decision\", \"Label\": 0, \"Class\": \"NORMAL\"}, {\"Sentence\": \" Tourism: Descent Romans Beneath Cologne , sewage channel Roman times , measuring around 120 metres length , preserved \", \"Label\": 0, \"Class\": \"NORMAL\"}, {\"Sentence\": \"Anyone visiting Cologne cannot miss cathedral\", \"Label\": 0, \"Class\": \"NORMAL\"}, {\"Sentence\": \" The two towers , measuring around 157 metres , extend heavens , making Europe &apos;s second tallest church building \", \"Label\": 0, \"Class\": \"NORMAL\"}, {\"Sentence\": \" However , visitors marvel two ornate church towers realise much discover beneath cathedral \", \"Label\": 0, \"Class\": \"NORMAL\"}, {\"Sentence\": \"Rainer Schulze expert comes Cologne underworld\", \"Label\": 0, \"Class\": \"NORMAL\"}, {\"Sentence\": \" The meeting point tours Cologne Tourism Service Centre , right cathedral \", \"Label\": 0, \"Class\": \"NORMAL\"}, {\"Sentence\": \" The tour begins somewhat unspectacular fashion: &quot; We begin underground car park , &quot; says Schulze \", \"Label\": 0, \"Class\": \"NORMAL\"}, {\"Sentence\": \" In 1970s , city fathers wanted car-friendly city , therefore sections old city wall remain tall \", \"Label\": 0, \"Class\": \"NORMAL\"}, {\"Sentence\": \"The majority users parking garage therefore hurry past Roman relics simply drop car\", \"Label\": 0, \"Class\": \"NORMAL\"}, {\"Sentence\": \" However , anyone takes closer look parking level D2 discover archaeological site , cordoned metal railings \", \"Label\": 0, \"Class\": \"NORMAL\"}, {\"Sentence\": \" Ruins measuring five metres tall , made stones around size palm hand , waiting discovered \", \"Label\": 0, \"Class\": \"NORMAL\"}, {\"Sentence\": \" &quot; These remnants Roman city wall , built second half first century A\", \"Label\": 0, \"Class\": \"NORMAL\"}, {\"Sentence\": \"D , &quot; explains Schulze \", \"Label\": 0, \"Class\": \"NORMAL\"}, {\"Sentence\": \" Before returning daylight , Schulze participants take glance dark , 15-metre shaft upper parking level \", \"Label\": 0, \"Class\": \"NORMAL\"}, {\"Sentence\": \" This well old cathedral , barely noticed days \", \"Label\": 0, \"Class\": \"NORMAL\"}, {\"Sentence\": \" The next stop tour praetorium , participants descend depths \", \"Label\": 0, \"Class\": \"NORMAL\"}, {\"Sentence\": \" Here find residence powerful man north Alps , Praetor CCAA \", \"Label\": 0, \"Class\": \"NORMAL\"}, {\"Sentence\": \"One visitor wants know CCAA means\", \"Label\": 0, \"Class\": \"NORMAL\"}, {\"Sentence\": \" &quot; The abbreviation stands &quot; Colonia Claudia Ara Agrippinensium &quot; , basically amounts &quot; City Roman Law City Agrippinians , founded Emperor Claudius Site Altars Imperial Cult &quot; \", \"Label\": 0, \"Class\": \"NORMAL\"}, {\"Sentence\": \"And Praetorium refers former Governor &apos;s Palace centre power Roman Empire Rhine\", \"Label\": 0, \"Class\": \"NORMAL\"}, {\"Sentence\": \" From exhibition vestibule , tunnel leads preserved Roman sewer , measuring around 120 metres length \", \"Label\": 0, \"Class\": \"NORMAL\"}, {\"Sentence\": \" &quot; If want take peaceful stroll along section so-called Cloaca Maxima , &quot; says Schulze , encouraging guests \", \"Label\": 0, \"Class\": \"NORMAL\"}, {\"Sentence\": \"Schulze one surprise\", \"Label\": 0, \"Class\": \"NORMAL\"}, {\"Sentence\": \" Once collected key information desk , leads group 16-metre , accessible shaft \", \"Label\": 0, \"Class\": \"NORMAL\"}, {\"Sentence\": \" &quot; We Mikwe , ritual Jewish bath , &quot; explains \", \"Label\": 0, \"Class\": \"NORMAL\"}, {\"Sentence\": \"The Jewish congregation built bath deep ground order reach groundwater essential ritual washing\", \"Label\": 0, \"Class\": \"NORMAL\"}, {\"Sentence\": \" To day differing water levels caused varying levels Rhine read lower end Mikwe , origins trace back eighth century \", \"Label\": 0, \"Class\": \"NORMAL\"}, {\"Sentence\": \" The Mikwe form part archaeological area Town Hall Square , construction work set begin shortly \", \"Label\": 0, \"Class\": \"NORMAL\"}, {\"Sentence\": \" However , years complete \", \"Label\": 0, \"Class\": \"NORMAL\"}, {\"Sentence\": \" Two YMCA employees charged sex offences allegations Jonathan Lord , Royal Commission hears Two YMCA NSW employees charged child sex offences allegations raised Caringbah child care worker Jonathan Lord 2011 , child sexual abuse Royal Commission heard \", \"Label\": 0, \"Class\": \"NORMAL\"}, {\"Sentence\": \" But opening statement Commission said &quot; never dealt incident child sexual assault within organisation , &quot; Commission told \", \"Label\": 0, \"Class\": \"NORMAL\"}, {\"Sentence\": \" Chief executive officer Phillip Hare asked one case YMCA employee charged child pornography offences , another gym instructor YMCA Caringbah Hall convicted child sexual offences children care 1991 \", \"Label\": 0, \"Class\": \"NORMAL\"}, {\"Sentence\": \" Mr Hare told Gail Furness , counsel assisting Commission , knew first case know second one \", \"Label\": 0, \"Class\": \"NORMAL\"}, {\"Sentence\": \"He conceded YMCA &apos;s opening statement commission also inaccurate claiming &quot; external audits YMCA recognised YMCA forefront child safety\", \"Label\": 0, \"Class\": \"NORMAL\"}, {\"Sentence\": \"&quot; Evidence commission YMCA notified received second lowest four possible ratings Department Education Communities quality audit August year\", \"Label\": 0, \"Class\": \"NORMAL\"}, {\"Sentence\": \" Mr Hare , started YMCA 21 , conceded management &quot; &quot; failed recruiting Lord failed make sure staff clear obligations report child safe policy breaches \", \"Label\": 0, \"Class\": \"NORMAL\"}, {\"Sentence\": \"Earlier year Lord convicted sexual offences 12 boys two years worked YMCA\", \"Label\": 0, \"Class\": \"NORMAL\"}, {\"Sentence\": \"He jailed minimum six years\", \"Label\": 0, \"Class\": \"NORMAL\"}, {\"Sentence\": \"But Mr Hare rejected suggestion YMCA cultural problem prevented staff reporting Lord &apos;s breaches child safety\", \"Label\": 0, \"Class\": \"NORMAL\"}, {\"Sentence\": \" Staff gave evidence observed breaches including Lord alone children , babysitting privately , sit lap , saying loved one letting play mobile phone \", \"Label\": 0, \"Class\": \"NORMAL\"}, {\"Sentence\": \" Danielle Ockwell , supervised Lord asked child protection training concerned behaviour , testified found YMCA Caringbah children &apos;s services manager Jacqui Barnat supervised Lord &quot; intimidating hard approach lot time \", \"Label\": 0, \"Class\": \"NORMAL\"}, {\"Sentence\": \"&quot; The CEO said accept staff &apos;s evidence uncomfortable reporting upwards managers\", \"Label\": 0, \"Class\": \"NORMAL\"}, {\"Sentence\": \" Rather , said , friendships Lord clouded judgements reporting \", \"Label\": 0, \"Class\": \"NORMAL\"}, {\"Sentence\": \" Mr Hare said provided view YMCA NSW board lesson organisation &quot; Jonathan Lord incident &quot; &quot; reporting &quot; staff , board agreed \", \"Label\": 0, \"Class\": \"NORMAL\"}, {\"Sentence\": \"Mr Hare said decision get staff sign confidentiality agreements soon allegations emerged made YMCA general manager children &apos;s services Liam Whitley\", \"Label\": 0, \"Class\": \"NORMAL\"}, {\"Sentence\": \"He said intended avoid contamination evidence &quot; overzealous &quot; poorly executed\", \"Label\": 0, \"Class\": \"NORMAL\"}, {\"Sentence\": \" YMCA NSW child safe organisation time Jonathan Lord employed 2009 2011 , child sex abuse expert Professor Stephen Smallbone Griffith University told commission \", \"Label\": 0, \"Class\": \"NORMAL\"}, {\"Sentence\": \" He said &quot; serious problems &quot; recruitment , screening , induction , training supervision staff \", \"Label\": 0, \"Class\": \"NORMAL\"}, {\"Sentence\": \"The hearing adjourned December 20\", \"Label\": 0, \"Class\": \"NORMAL\"}, {\"Sentence\": \"You could call Dostoevsky USA\", \"Label\": 0, \"Class\": \"NORMAL\"}, {\"Sentence\": \"Philip K\", \"Label\": 0, \"Class\": \"NORMAL\"}, {\"Sentence\": \" Dick God seeker , metaphysician , certain extent novels stories also feature recurring themes \", \"Label\": 0, \"Class\": \"NORMAL\"}, {\"Sentence\": \" The external likeness astounding: piercing eyes , beard , high forehead \", \"Label\": 0, \"Class\": \"NORMAL\"}, {\"Sentence\": \" And , Fyodor M\", \"Label\": 0, \"Class\": \"NORMAL\"}, {\"Sentence\": \" Dostoevsky - massive oeuvre - considered revealer apologist Russian soul , Philip K\", \"Label\": 0, \"Class\": \"NORMAL\"}, {\"Sentence\": \" Dick considered American prophet , certainly highly esteemed within native country \", \"Label\": 0, \"Class\": \"NORMAL\"}, {\"Sentence\": \" Some titles released Heyne Verlag publishing house , &apos; Haffman &apos;s cassette &apos; featuring 118 stories distributed Zweitaudenseins \", \"Label\": 0, \"Class\": \"NORMAL\"}, {\"Sentence\": \" Dick illustrates America - kingdom breathtaking technical progress , paired paranoia , fixation security belief chosen \", \"Label\": 0, \"Class\": \"NORMAL\"}, {\"Sentence\": \" Dick &apos; God experiences &apos; , later books read like mixture Book Revelation computer manual \", \"Label\": 0, \"Class\": \"NORMAL\"}, {\"Sentence\": \" Perhaps crazy , perhaps drugs affected brain \", \"Label\": 0, \"Class\": \"NORMAL\"}, {\"Sentence\": \" He realised , early , computers divinities \", \"Label\": 0, \"Class\": \"NORMAL\"}, {\"Sentence\": \" He wrote &apos; Theology Computer &apos; questioned separates humans machine , creator creation \", \"Label\": 0, \"Class\": \"NORMAL\"}, {\"Sentence\": \"That &quot; Blade Runner &quot; problem\", \"Label\": 0, \"Class\": \"NORMAL\"}, {\"Sentence\": \"Killing\", \"Label\": 0, \"Class\": \"NORMAL\"}, {\"Sentence\": \"A master science fiction\", \"Label\": 0, \"Class\": \"NORMAL\"}, {\"Sentence\": \"A fantastic writer\", \"Label\": 0, \"Class\": \"NORMAL\"}, {\"Sentence\": \" His stories inspired film producers Ridley Scott , Paul Verhoeven Steven Spielberg \", \"Label\": 0, \"Class\": \"NORMAL\"}, {\"Sentence\": \"The latter story particularly significant\", \"Label\": 0, \"Class\": \"NORMAL\"}, {\"Sentence\": \" &quot; Minority Report &quot; originates year 1956 , exudes scent Cold War McCarthy Tribunal \", \"Label\": 0, \"Class\": \"NORMAL\"}, {\"Sentence\": \" Here principle &quot; Pre-Crime &quot; developed , i\", \"Label\": 0, \"Class\": \"NORMAL\"}, {\"Sentence\": \"e\", \"Label\": 0, \"Class\": \"NORMAL\"}, {\"Sentence\": \"something less official doctrine within White House\", \"Label\": 0, \"Class\": \"NORMAL\"}, {\"Sentence\": \" In Dick &apos;s world , alarmingly similar , mutants look future - police access insight \", \"Label\": 0, \"Class\": \"NORMAL\"}, {\"Sentence\": \" &quot; We arrest individuals &apos;ve broken law , &quot; says government official \", \"Label\": 0, \"Class\": \"NORMAL\"}, {\"Sentence\": \" &quot; We get first , commit act violence &quot; \", \"Label\": 0, \"Class\": \"NORMAL\"}, {\"Sentence\": \" And: &quot; In society major crimes , detention camp full would-be criminals &quot; \", \"Label\": 0, \"Class\": \"NORMAL\"}, {\"Sentence\": \"They read time streams\", \"Label\": 0, \"Class\": \"NORMAL\"}, {\"Sentence\": \"They assume bad things going happen prevent criminal thought turning action\", \"Label\": 0, \"Class\": \"NORMAL\"}, {\"Sentence\": \"Dick &apos;s tale acts blueprint anti-terror laws phone tapping madness NSA\", \"Label\": 0, \"Class\": \"NORMAL\"}, {\"Sentence\": \"Anticipation attack: This also Obama &apos;s drone philosophy practices work\", \"Label\": 0, \"Class\": \"NORMAL\"}, {\"Sentence\": \" However , Dick &apos;s story yet finished \", \"Label\": 0, \"Class\": \"NORMAL\"}, {\"Sentence\": \" The Police Chief argues division power , military controls daily life - left State \", \"Label\": 0, \"Class\": \"NORMAL\"}, {\"Sentence\": \"Then watcher watched convicted future crime\", \"Label\": 0, \"Class\": \"NORMAL\"}, {\"Sentence\": \"The system slips\", \"Label\": 0, \"Class\": \"NORMAL\"}, {\"Sentence\": \" It perfect , lies \", \"Label\": 0, \"Class\": \"NORMAL\"}, {\"Sentence\": \"It devises conditions\", \"Label\": 0, \"Class\": \"NORMAL\"}, {\"Sentence\": \" It accepts errors victims , builds \", \"Label\": 0, \"Class\": \"NORMAL\"}, {\"Sentence\": \"The system creates threat fighting\", \"Label\": 0, \"Class\": \"NORMAL\"}, {\"Sentence\": \"To read Philip K\", \"Label\": 0, \"Class\": \"NORMAL\"}, {\"Sentence\": \" Dick means get closer truth , time time \", \"Label\": 0, \"Class\": \"NORMAL\"}, {\"Sentence\": \"Court blocks ruling NYPD stop-and-frisk policy A federal appeals court Thursday blocked judge &apos;s order requiring changes New York Police Department &apos;s stop-and-frisk program removed judge case\", \"Label\": 0, \"Class\": \"NORMAL\"}, {\"Sentence\": \"The 2nd U\", \"Label\": 0, \"Class\": \"NORMAL\"}, {\"Sentence\": \"S\", \"Label\": 0, \"Class\": \"NORMAL\"}, {\"Sentence\": \"Circuit Court Appeals said decisions Judge Shira Scheindlin stayed pending outcome appeal city\", \"Label\": 0, \"Class\": \"NORMAL\"}, {\"Sentence\": \"The judge ruled August city violated Constitution way carried program stopping questioning people\", \"Label\": 0, \"Class\": \"NORMAL\"}, {\"Sentence\": \" The city appealed findings remedial orders , including decision assign monitor help police department changes policy training program associated \", \"Label\": 0, \"Class\": \"NORMAL\"}, {\"Sentence\": \"The appeals court heard arguments Tuesday requested stay\", \"Label\": 0, \"Class\": \"NORMAL\"}, {\"Sentence\": \"The appeals court said judge needed removed case ran afoul code conduct U\", \"Label\": 0, \"Class\": \"NORMAL\"}, {\"Sentence\": \"S\", \"Label\": 0, \"Class\": \"NORMAL\"}, {\"Sentence\": \"judges compromising necessity judge avoid appearance partiality part series media interviews public statements responding publicly criticism court\", \"Label\": 0, \"Class\": \"NORMAL\"}, {\"Sentence\": \"The judge ruled police officers violated civil rights tens thousands people wrongly targeting black Hispanic men stop-and-frisk program\", \"Label\": 0, \"Class\": \"NORMAL\"}, {\"Sentence\": \" She appointed outside monitor oversee major changes , including reforms policies , training supervision , ordered pilot program test body-worn cameras precincts stops occur \", \"Label\": 0, \"Class\": \"NORMAL\"}, {\"Sentence\": \" In August , New York City agreed end practice storing names addresses people whose cases dismissed police stop \", \"Label\": 0, \"Class\": \"NORMAL\"}, {\"Sentence\": \" An oral argument city &apos;s appeal scheduled sometime March 14 , 2014 \", \"Label\": 0, \"Class\": \"NORMAL\"}, {\"Sentence\": \"The stop-and-frisk tactic criticized number civil rights advocates\", \"Label\": 0, \"Class\": \"NORMAL\"}, {\"Sentence\": \" Stop-and-frisk around decades form , recorded stops increased dramatically administration independent Mayor Michael Bloomberg all-time high 2011 684,330 , mostly black Hispanic men \", \"Label\": 0, \"Class\": \"NORMAL\"}, {\"Sentence\": \" A lawsuit filed 2004 four men , minorities , became class action case \", \"Label\": 0, \"Class\": \"NORMAL\"}, {\"Sentence\": \" Supporters changes NYPD &apos;s stop-and-frisk program say changes end unfair practices , mold trusted effective police force affect police departments use policy \", \"Label\": 0, \"Class\": \"NORMAL\"}, {\"Sentence\": \" Opponents say changes would lower police morale crime , waste money solve broader problem police force pressure shrinking thousands officers last decade \", \"Label\": 0, \"Class\": \"NORMAL\"}, {\"Sentence\": \" The judge noted &apos;t putting end stop-and-frisk practice , constitutional , reforming way NYPD implemented stops \", \"Label\": 0, \"Class\": \"NORMAL\"}, {\"Sentence\": \" Obama &apos;s Health Care Walk Back Amid firestorm criticism , President Obama yesterday walked back oft-repeated , unambiguous promise &quot; like health plan , keep \", \"Label\": 0, \"Class\": \"NORMAL\"}, {\"Sentence\": \" &quot; With hundreds thousands receiving cancellation notices providers , Republicans slammed president recent days misleading American public \", \"Label\": 0, \"Class\": \"NORMAL\"}, {\"Sentence\": \" Yesterday , Obama tweaked original pledge \", \"Label\": 0, \"Class\": \"NORMAL\"}, {\"Sentence\": \" &quot; For vast majority people health insurance works , keep , &quot; said speech Boston \", \"Label\": 0, \"Class\": \"NORMAL\"}, {\"Sentence\": \" Addressing called &quot; flurry news &quot; cancellations , Obama urged Americans receiving notices shop new coverage marketplace \", \"Label\": 0, \"Class\": \"NORMAL\"}, {\"Sentence\": \" Most people going able get better , comprehensive health care plans price even cheaper projected \", \"Label\": 0, \"Class\": \"NORMAL\"}, {\"Sentence\": \" &quot; You &apos;re going get better deal , &quot; said \", \"Label\": 0, \"Class\": \"NORMAL\"}, {\"Sentence\": \"The administration said come surprise 5 percent population purchase insurance may forced switch plans coverage &apos;t meet new standards required Affordable Care Act\", \"Label\": 0, \"Class\": \"NORMAL\"}, {\"Sentence\": \" &quot; Let say directly Americans: deserve better , &quot; Sebelius said testimony House Energy Commerce Committee Washington \", \"Label\": 0, \"Class\": \"NORMAL\"}, {\"Sentence\": \" Sebelius , overseeing implementation Affordable Care Act , said launch online marketplace gone &quot; miserably &quot; since October \", \"Label\": 0, \"Class\": \"NORMAL\"}, {\"Sentence\": \" &quot; I frustrated angry anyone , &quot; said \", \"Label\": 0, \"Class\": \"NORMAL\"}, {\"Sentence\": \"I eager earn confidence back\", \"Label\": 0, \"Class\": \"NORMAL\"}, {\"Sentence\": \" An exasperated Sebelius uttered phrase , caught hot mic , aide seated behind yesterday &apos;s House hearing following contentious exchange Rep\", \"Label\": 0, \"Class\": \"NORMAL\"}, {\"Sentence\": \" Billy Long , R-Mo \", \"Label\": 0, \"Class\": \"NORMAL\"}, {\"Sentence\": \" , whether required enroll Obamacare \", \"Label\": 0, \"Class\": \"NORMAL\"}, {\"Sentence\": \" More three hours hearing , Long repeatedly pressed Sebelius &quot; architect &quot; Affordable Care Act voluntarily forgone government-sponsored insurance purchase plan HealthCare\", \"Label\": 0, \"Class\": \"NORMAL\"}, {\"Sentence\": \"gov , pitching millions Americans \", \"Label\": 0, \"Class\": \"NORMAL\"}, {\"Sentence\": \" In small town New Zealand , Burt Munro considered lovable oddball , resolved compete race America 1920 motorbike \", \"Label\": 0, \"Class\": \"NORMAL\"}, {\"Sentence\": \" In spite heart defect , Burt could deterred pursuing dream \", \"Label\": 0, \"Class\": \"NORMAL\"}, {\"Sentence\": \" With savings , donations mortgage old workshop , set Los Angeles ship \", \"Label\": 0, \"Class\": \"NORMAL\"}, {\"Sentence\": \" The film followed coffee , tea cake \", \"Label\": 0, \"Class\": \"NORMAL\"}, {\"Sentence\": \"Learning rather unemployment: Tourism pilot project untrained A pilot project tourist industry launched today Mecklenburg lake district\", \"Label\": 0, \"Class\": \"NORMAL\"}, {\"Sentence\": \" Under management Federal Employment Agency , 49 men women already working within industry untrained workers , trained qualified hotel restaurant staff course three winters \", \"Label\": 0, \"Class\": \"NORMAL\"}, {\"Sentence\": \" &quot; What &apos;s innovative six-month courses end diplomas , &quot; said Carmen Wiechert Neubrandenburg Employment Agency \", \"Label\": 0, \"Class\": \"NORMAL\"}, {\"Sentence\": \" There many benefits: The participants unemployed , companies receive trained skilled workers , continually increasing demand hotels restaurants , agency fund unemployment \", \"Label\": 0, \"Class\": \"NORMAL\"}, {\"Sentence\": \" Also involved project Chamber Industry Commerce Neubrandenburg German Hotel Restaurant Association (Deutsche Hotel- und Gastst\\u00e4tte , Dehoga) Mecklenburg-Western Pomerania \", \"Label\": 0, \"Class\": \"NORMAL\"}, {\"Sentence\": \"Frankfurt parking fees increase dramatically Parking Frankfurt could soon noticeably expensive\", \"Label\": 0, \"Class\": \"NORMAL\"}, {\"Sentence\": \" The City Magistrate today discussed submission head department transport , Stefan Majer (Green Party)\", \"Label\": 0, \"Class\": \"NORMAL\"}, {\"Sentence\": \" According proposal , parking fees increased 50 per cent \", \"Label\": 0, \"Class\": \"NORMAL\"}, {\"Sentence\": \" This increase , however , result raised prices , rather fact time interval permitted parking meters ticketing machines reduced 30 20 minutes \", \"Label\": 0, \"Class\": \"NORMAL\"}, {\"Sentence\": \"The City Council must reach decision December\", \"Label\": 0, \"Class\": \"NORMAL\"}, {\"Sentence\": \"The Retail Committee Frankfurt Chamber Industry Commerce believes &quot; good idea &quot;\", \"Label\": 0, \"Class\": \"NORMAL\"}, {\"Sentence\": \"The option parking right outside businesses &quot; advantage smaller retailers must underestimated\", \"Label\": 0, \"Class\": \"NORMAL\"}, {\"Sentence\": \"&quot;\", \"Label\": 0, \"Class\": \"NORMAL\"}, {\"Sentence\": \"The Verkehrsclub Deutschland (German Traffic Club) opinion increase two decades &quot; completely appropriate actually long overdue &quot;\", \"Label\": 0, \"Class\": \"NORMAL\"}, {\"Sentence\": \"Local public transport also become expensive\", \"Label\": 0, \"Class\": \"NORMAL\"}, {\"Sentence\": \" Rangnick scolding refs: Mane diver As satisfied Ralf Rangnick present winning form Austrian Bundesliga table-toppers , Red Bull Salzburg , Sporting Director &quot; Bulls &quot; expressed equal disappointment referees \", \"Label\": 0, \"Class\": \"NORMAL\"}, {\"Sentence\": \" &quot; There currently dangerous trend , Mane Alan dubbed &apos; divers &apos; , &quot; said press conference Salburg Thursday , defence two tricky offensive players \", \"Label\": 0, \"Class\": \"NORMAL\"}, {\"Sentence\": \" The recent cause Rangnick &apos;s criticism yellow card Mane 3: 0 Gr\\u00f6dig last Sunday , whereby Senegalese striker penalised supposed play acting - admittedly justified , shown TV footage \", \"Label\": 0, \"Class\": \"NORMAL\"}, {\"Sentence\": \" &quot; A blatant wrong decision , &quot; commented Rangnick , referred Harkam &quot; completely depth &quot; \", \"Label\": 0, \"Class\": \"NORMAL\"}, {\"Sentence\": \"Harkam also played &quot; part &quot; escalation Salzburg Coach Roger Schmidt Gr\\u00f6dig Trainer Adi H\\u00fctter game\", \"Label\": 0, \"Class\": \"NORMAL\"}, {\"Sentence\": \"He firmly defended German compatriot: &quot; In individual situation I would behaved way Roger Schmidt &quot;\", \"Label\": 0, \"Class\": \"NORMAL\"}, {\"Sentence\": \"Schmidt wish contact colleagues skirmish H\\u00fctter\", \"Label\": 0, \"Class\": \"NORMAL\"}, {\"Sentence\": \"I know\", \"Label\": 0, \"Class\": \"NORMAL\"}, {\"Sentence\": \" &quot; After , I one insulted , &quot; emphasised 46-year-old \", \"Label\": 0, \"Class\": \"NORMAL\"}, {\"Sentence\": \" However , regard winning run , Rangnick sang team &apos;s praises \", \"Label\": 0, \"Class\": \"NORMAL\"}, {\"Sentence\": \" &quot; There two words it: Really good , &quot; stated \", \"Label\": 0, \"Class\": \"NORMAL\"}, {\"Sentence\": \"There lot criticise\", \"Label\": 0, \"Class\": \"NORMAL\"}, {\"Sentence\": \" Most , manner team playing impressive \", \"Label\": 0, \"Class\": \"NORMAL\"}, {\"Sentence\": \"We must stay composed keep\", \"Label\": 0, \"Class\": \"NORMAL\"}, {\"Sentence\": \"There hardly squad changes winter transfer window\", \"Label\": 0, \"Class\": \"NORMAL\"}, {\"Sentence\": \"There major reason change anything\", \"Label\": 0, \"Class\": \"NORMAL\"}, {\"Sentence\": \" &quot; Unless player comes forward expresses desire leave club , &quot; explained Rangnick \", \"Label\": 0, \"Class\": \"NORMAL\"}, {\"Sentence\": \"Tripodi denies influenced Obeid Former NSW Labor minister Joe Tripodi investigated state &apos;s corruption watchdog\", \"Label\": 0, \"Class\": \"NORMAL\"}, {\"Sentence\": \" Former NSW minister Joe Tripodi denied changing maritime leases policy request political mentor Eddie Obeid , hidden interests three properties government-controlled land \", \"Label\": 0, \"Class\": \"NORMAL\"}, {\"Sentence\": \" The Independent Commission Against Corruption (ICAC) Friday widened inquiry whether Mr Obeid lobbied several state ministers leases Circular Quay , Obeids owned two restaurants cafe , renewed without going tender expiration August 2005 \", \"Label\": 0, \"Class\": \"NORMAL\"}, {\"Sentence\": \" It &apos;s investigating allegations Mr Tripodi knew Mr Obeid &apos;s secret interest properties , evidence given Mr Tripodi &apos;s former deputy chief staff , Lynne Ashpole , Thursday \", \"Label\": 0, \"Class\": \"NORMAL\"}, {\"Sentence\": \"During years discussions starting 2005 government pushing leases go public tender\", \"Label\": 0, \"Class\": \"NORMAL\"}, {\"Sentence\": \"The lessees also wanted longer terms\", \"Label\": 0, \"Class\": \"NORMAL\"}, {\"Sentence\": \" In 2009 leases Circular Quay enterprises , earned Obeids $ 2\", \"Label\": 0, \"Class\": \"NORMAL\"}, {\"Sentence\": \"5 million annually , renewed without going public tender \", \"Label\": 0, \"Class\": \"NORMAL\"}, {\"Sentence\": \" Mr Tripodi , ports minister February 2006 November 2009 , initially favour public tenders \", \"Label\": 0, \"Class\": \"NORMAL\"}, {\"Sentence\": \" But denied changes made request Mr Obeid , Mr Tripodi acknowledged urging shift government lease policy \", \"Label\": 0, \"Class\": \"NORMAL\"}, {\"Sentence\": \" A phone transcript tabled ICAC showed calls August September 2007 Mr Obeid , Mr Tripodi Steve Dunn , senior bureaucrat come ports ministry working Mr Obeid fisheries department \", \"Label\": 0, \"Class\": \"NORMAL\"}, {\"Sentence\": \" &quot; Was matter discussed course telephone conversations development commercial lease policy , &quot; Assistant Commissioner Anthony Whealy asked Mr Tripodi \", \"Label\": 0, \"Class\": \"NORMAL\"}, {\"Sentence\": \" &quot; No , &quot; Mr Tripodi replied \", \"Label\": 0, \"Class\": \"NORMAL\"}, {\"Sentence\": \"I &apos;t remember discussed definitely &apos;t\", \"Label\": 0, \"Class\": \"NORMAL\"}, {\"Sentence\": \"Definitely Mr Obeid\", \"Label\": 0, \"Class\": \"NORMAL\"}, {\"Sentence\": \"Leg almost hacked off: Rocker retrial A bloody attack within &apos; Rocker &apos; scene re-investigated four years\", \"Label\": 0, \"Class\": \"NORMAL\"}, {\"Sentence\": \" Proceedings attempted murder , grievous bodily harm material damage , brought two 30-year-olds begun Frankfurt District Court \", \"Label\": 0, \"Class\": \"NORMAL\"}, {\"Sentence\": \"They accompanied strict security precautions\", \"Label\": 0, \"Class\": \"NORMAL\"}, {\"Sentence\": \"The accused initially remained silent\", \"Label\": 0, \"Class\": \"NORMAL\"}, {\"Sentence\": \"They said active within Rocker scene time belonged Bandidos\", \"Label\": 0, \"Class\": \"NORMAL\"}, {\"Sentence\": \" The Public Prosecutor accused stabbed beaten three men car Finowfurt , together unknown accomplices \", \"Label\": 0, \"Class\": \"NORMAL\"}, {\"Sentence\": \" All victims seriously injured , one man almost losing leg \", \"Label\": 0, \"Class\": \"NORMAL\"}, {\"Sentence\": \" The victims said belonged competing gang , Hell &apos;s Angels \", \"Label\": 0, \"Class\": \"NORMAL\"}, {\"Sentence\": \"One said high-ranking member Berlin\", \"Label\": 0, \"Class\": \"NORMAL\"}, {\"Sentence\": \"It seems attack preceded car chase involving several cars\", \"Label\": 0, \"Class\": \"NORMAL\"}, {\"Sentence\": \" According accusations , part turf war represented demonstration power \", \"Label\": 0, \"Class\": \"NORMAL\"}, {\"Sentence\": \"The two accused acquitted initial trial beginning 2012\", \"Label\": 0, \"Class\": \"NORMAL\"}, {\"Sentence\": \" At time , speaker court said could proven men actually involved bloody feud \", \"Label\": 0, \"Class\": \"NORMAL\"}, {\"Sentence\": \"The assailants worn masks recognised\", \"Label\": 0, \"Class\": \"NORMAL\"}, {\"Sentence\": \"The Federal Supreme Court repealed verdict following appeal Public Prosecutor &apos;s Office referred case back District Court re-trial\", \"Label\": 0, \"Class\": \"NORMAL\"}, {\"Sentence\": \"One accused currently serving time open prison account another offence\", \"Label\": 0, \"Class\": \"NORMAL\"}, {\"Sentence\": \"Proceedings initially mainly involved reconstruction series events night crime\", \"Label\": 0, \"Class\": \"NORMAL\"}, {\"Sentence\": \"The police inspector responsible time invited witness\", \"Label\": 0, \"Class\": \"NORMAL\"}, {\"Sentence\": \" The central point focus mobile phone conversations accused third parties , police intercepted \", \"Label\": 0, \"Class\": \"NORMAL\"}, {\"Sentence\": \"What makes things difficult Rockers almost always observe consider complete silence appearing court - say absolutely nothing\", \"Label\": 0, \"Class\": \"NORMAL\"}, {\"Sentence\": \"This also applies case victims\", \"Label\": 0, \"Class\": \"NORMAL\"}, {\"Sentence\": \" In first trial , one victims spoke \", \"Label\": 0, \"Class\": \"NORMAL\"}, {\"Sentence\": \" When asked , Public Prosecutor Stefan Golfier Frankfurt (Oder) Public Prosecutor &apos;s Office said new evidence come light since previous trial \", \"Label\": 0, \"Class\": \"NORMAL\"}, {\"Sentence\": \"A eleven days proceedings scheduled trial\", \"Label\": 0, \"Class\": \"NORMAL\"}, {\"Sentence\": \"Car driver seriously injured accident A 37-year-old car driver Aachen seriously injured accident Thursday evening\", \"Label\": 0, \"Class\": \"NORMAL\"}, {\"Sentence\": \" According information police , 41-year-old M\\u00fcsch travelling car Kempener bypass direction Grefrath , around 9\", \"Label\": 0, \"Class\": \"NORMAL\"}, {\"Sentence\": \"15 p\", \"Label\": 0, \"Class\": \"NORMAL\"}, {\"Sentence\": \"m\", \"Label\": 0, \"Class\": \"NORMAL\"}, {\"Sentence\": null, \"Label\": 0, \"Class\": \"NORMAL\"}, {\"Sentence\": \"As went turn right onto St\", \"Label\": 0, \"Class\": \"NORMAL\"}, {\"Sentence\": \"T\\u00f6niser Stra\\u00dfe failed see 37-year-old &apos;s oncoming vehicle\", \"Label\": 0, \"Class\": \"NORMAL\"}, {\"Sentence\": \"The vehicles collided\", \"Label\": 0, \"Class\": \"NORMAL\"}, {\"Sentence\": \"The Aachen resident suffered serious injuries taken hospital treatment\", \"Label\": 0, \"Class\": \"NORMAL\"}, {\"Sentence\": \"Foreign workers 457 visas could undergo &quot; genuineness &quot; test A &quot; genuineness &quot; test foreign workers 457 visas considered government contemplates expanding crackdown\", \"Label\": 0, \"Class\": \"NORMAL\"}, {\"Sentence\": \" The test , adopted , would applied criteria aimed preventing 457s used fill unskilled positions back door way move family friends Australia \", \"Label\": 0, \"Class\": \"NORMAL\"}, {\"Sentence\": \" A government discussion paper released today former Labor MP Maxine McKew slammed government &apos;s rhetoric foreign workers , saying could offend Australia &apos;s neighbours \", \"Label\": 0, \"Class\": \"NORMAL\"}, {\"Sentence\": \" &quot; Loud declarations &apos; foreigners getting back queue &apos; &apos; Aussie jobs first &apos; unpleasant throwback time unions demanded protected labor market , &quot; told Australia India Institute today \", \"Label\": 0, \"Class\": \"NORMAL\"}, {\"Sentence\": \" Historically , meant white labour protected - region saw echoes historic artifact , I &apos;t surprised \", \"Label\": 0, \"Class\": \"NORMAL\"}, {\"Sentence\": \"The discussion paper outlines 12 measures previously considered former Immigration Minister Chris Bowen\", \"Label\": 0, \"Class\": \"NORMAL\"}, {\"Sentence\": \" Immigration Minister Brendan O &apos;Connor , yesterday Sri Lanka meeting officials people smuggling , implemented five recommended changes remainder consideration \", \"Label\": 0, \"Class\": \"NORMAL\"}, {\"Sentence\": \"If &quot; genuineness &quot; criteria adopted visa applicant could scrutinised &quot; whether nomination genuine circumstances nominee relation personal associate owner relevant person sponsoring business\", \"Label\": 0, \"Class\": \"NORMAL\"}, {\"Sentence\": \"&quot; Businesses could also required account number 457 visa holders previously businesses intended sponsor small number workers employed hundreds\", \"Label\": 0, \"Class\": \"NORMAL\"}, {\"Sentence\": \" Meanwhile , 35-year-old Sri Lankan asylum seeker died suspected heart attack arriving asylum boat Christmas Island week \", \"Label\": 0, \"Class\": \"NORMAL\"}, {\"Sentence\": \"The man &apos;s distraught nine-year-old son travelled Australia comforted since death father Wednesday adult cousin also vessel\", \"Label\": 0, \"Class\": \"NORMAL\"}, {\"Sentence\": \" Australian authorities rushed man Christmas Island Hospital , died \", \"Label\": 0, \"Class\": \"NORMAL\"}, {\"Sentence\": \"USA: Shots fired Los Angeles Airport On Friday morning (local time) unknown suspect fired shots LAX Airport\", \"Label\": 0, \"Class\": \"NORMAL\"}, {\"Sentence\": \" While airport management announced via short messaging service Twitter shooter custody , &quot; Los Angeles Times &quot; reported man dead \", \"Label\": 0, \"Class\": \"NORMAL\"}, {\"Sentence\": \"A member security staff also killed\", \"Label\": 0, \"Class\": \"NORMAL\"}, {\"Sentence\": \"The media also reported several people injured\", \"Label\": 0, \"Class\": \"NORMAL\"}, {\"Sentence\": \" US President Barack Obama kept informed situation , said White House spokesperson Jay Carney \", \"Label\": 0, \"Class\": \"NORMAL\"}, {\"Sentence\": \"The incident took place Terminal 3\", \"Label\": 0, \"Class\": \"NORMAL\"}, {\"Sentence\": \" Eye witnesses reported seeing shooter gun one departure lounges , reported several media \", \"Label\": 0, \"Class\": \"NORMAL\"}, {\"Sentence\": \"One traveller told broadcaster CNN many people sought protection panic\", \"Label\": 0, \"Class\": \"NORMAL\"}, {\"Sentence\": \"Travellers screamed children cried\", \"Label\": 0, \"Class\": \"NORMAL\"}, {\"Sentence\": \" Panic broke among waiting , many hiding behind seats fear \", \"Label\": 0, \"Class\": \"NORMAL\"}, {\"Sentence\": \"An employee &quot; Los Angeles Times &quot; travelling time told heard two shots fired\", \"Label\": 0, \"Class\": \"NORMAL\"}, {\"Sentence\": \"An employee security company TSA suffered gunshot wound foot\", \"Label\": 0, \"Class\": \"NORMAL\"}, {\"Sentence\": \"The scene &quot; like something movie &quot;\", \"Label\": 0, \"Class\": \"NORMAL\"}, {\"Sentence\": \"The man reported taken safety area\", \"Label\": 0, \"Class\": \"NORMAL\"}, {\"Sentence\": \"The shots said fired near security inspection area\", \"Label\": 0, \"Class\": \"NORMAL\"}, {\"Sentence\": \"Airport building evacuated Television footage revealed numerous ambulances police cars arrived terminal\", \"Label\": 0, \"Class\": \"NORMAL\"}, {\"Sentence\": \"One hundred people brought building safety\", \"Label\": 0, \"Class\": \"NORMAL\"}, {\"Sentence\": \"Users Twitter published photos SWAT officer weapon lying ground\", \"Label\": 0, \"Class\": \"NORMAL\"}, {\"Sentence\": \" According message shared airport management via twitter , incident began 9\", \"Label\": 0, \"Class\": \"NORMAL\"}, {\"Sentence\": \"30 (local time)\", \"Label\": 0, \"Class\": \"NORMAL\"}, {\"Sentence\": \" The access roads blocked , , according CNN , caused long tailbacks \", \"Label\": 0, \"Class\": \"NORMAL\"}, {\"Sentence\": \" Except landing arrival aircraft , flight traffic temporarily suspended , reported \", \"Label\": 0, \"Class\": \"NORMAL\"}, {\"Sentence\": \" However , several planes could seen taking CNN \", \"Label\": 0, \"Class\": \"NORMAL\"}, {\"Sentence\": \"Terminal 3 serves mainly small US airlines\", \"Label\": 0, \"Class\": \"NORMAL\"}, {\"Sentence\": \"The Los Angeles LAX airport one largest airports USA\", \"Label\": 0, \"Class\": \"NORMAL\"}, {\"Sentence\": \" Maintenance day small &apos; Engl\\u00e4nderh\\u00fctte &apos; For fifth maintenance day follow-up Natura 2000 project Upper Hotzenwald , group dedicated participants met small Engl\\u00e4nderh\\u00fctte (Englishman &apos;s Cottage) Ibach Following suggestions population , valley area cottage cleared , said Mayor Helmut Kaiser \", \"Label\": 0, \"Class\": \"NORMAL\"}, {\"Sentence\": \" According Kaiser , many hikers refer area showpiece Schluchtensteig , landscape provides ideal framework fantastic views \", \"Label\": 0, \"Class\": \"NORMAL\"}, {\"Sentence\": \" He thanked present willingness cooperate emphasised maintenance day suitable instrument strengthen connection people nature , He offering every citizen opportunity focus nature \", \"Label\": 0, \"Class\": \"NORMAL\"}, {\"Sentence\": \" At time tourist aspect , environmental aspects also taken consideration \", \"Label\": 0, \"Class\": \"NORMAL\"}, {\"Sentence\": \" This environmental aspect explained Friederike Tribukait Department Nature Conservation Freiburg Regional Council , following greeting Regional Councillor Tilman Bollacher , taken role patron wished campaign every success \", \"Label\": 0, \"Class\": \"NORMAL\"}, {\"Sentence\": \" According Tribukait , tourist objective vision coincided goal preserving extremely overgrown old Allmend grazing pasture , specific protected habitats , opening connection still existing grazing land \", \"Label\": 0, \"Class\": \"NORMAL\"}, {\"Sentence\": \" Certain species , rare butterflies grasshoppers , cannot get past barriers form forest areas \", \"Label\": 0, \"Class\": \"NORMAL\"}, {\"Sentence\": \"They require clear pathways order preserve species\", \"Label\": 0, \"Class\": \"NORMAL\"}, {\"Sentence\": \"Tribukait said want fail use opportunity say word defence planned biosphere area\", \"Label\": 0, \"Class\": \"NORMAL\"}, {\"Sentence\": \"The current measures integrate seamlessly plans\", \"Label\": 0, \"Class\": \"NORMAL\"}, {\"Sentence\": \" A biosphere area offers chance sustainable economic ecological development basis internationally recognised Unesco status , thus offers extension achieved thus far Life Project previous care days \", \"Label\": 0, \"Class\": \"NORMAL\"}, {\"Sentence\": \" After various statements , forest ranger Christoph Wehle Life Project manager Cornelia Bischoff divided helpers groups \", \"Label\": 0, \"Class\": \"NORMAL\"}, {\"Sentence\": \" The larger trees cut advance , although forest tractors on-call required \", \"Label\": 0, \"Class\": \"NORMAL\"}, {\"Sentence\": \"One group helpers take care clearance juniper bushes maintenance dry stone wall\", \"Label\": 0, \"Class\": \"NORMAL\"}, {\"Sentence\": \"The objective create clear view viewpoint\", \"Label\": 0, \"Class\": \"NORMAL\"}, {\"Sentence\": \" Rapist South Africa: two life sentences Nine months brutal rape mutilation 17-year-old girl South Africa , perpetrator condemned two life sentences Friday \", \"Label\": 0, \"Class\": \"NORMAL\"}, {\"Sentence\": \"This reported broadcaster SABC\", \"Label\": 0, \"Class\": \"NORMAL\"}, {\"Sentence\": \"The victim later died result serious injuries\", \"Label\": 0, \"Class\": \"NORMAL\"}, {\"Sentence\": \"Johannes Kana already found guilty crime start week\", \"Label\": 0, \"Class\": \"NORMAL\"}, {\"Sentence\": \"The crime caused nationwide horror\", \"Label\": 0, \"Class\": \"NORMAL\"}, {\"Sentence\": \" The 21-year-old raped Anene Booysen February industrial estate Bredasdorp , near Capetown \", \"Label\": 0, \"Class\": \"NORMAL\"}, {\"Sentence\": \" For 14 hours , doctors battled save life victim , ultimately vain \", \"Label\": 0, \"Class\": \"NORMAL\"}, {\"Sentence\": \"The sight young girl horrific carers nursing staff required psychological support\", \"Label\": 0, \"Class\": \"NORMAL\"}, {\"Sentence\": \" During trial , Kana admitted bar Booysen night attack \", \"Label\": 0, \"Class\": \"NORMAL\"}, {\"Sentence\": \" He also admitted beating raping , however denied responsible death girl \", \"Label\": 0, \"Class\": \"NORMAL\"}, {\"Sentence\": \" The police initially assumed multiple attackers , however , released two suspects custody evidence insufficient \", \"Label\": 0, \"Class\": \"NORMAL\"}, {\"Sentence\": \"During proceedings public prosecution also emphasised convinced Kana alone time attack\", \"Label\": 0, \"Class\": \"NORMAL\"}, {\"Sentence\": \" Rapes almost part everyday life South Africa: There around 64,000 reports sexual assault every year \", \"Label\": 0, \"Class\": \"NORMAL\"}, {\"Sentence\": \" This almost ten times many Germany , although population 82 million people , Germany much higher number residents South Africa (50 million)\", \"Label\": 0, \"Class\": \"NORMAL\"}, {\"Sentence\": \" Police women &apos;s associations South Africa , however , estimate number unreported cases sexual assault 10-25 times high \", \"Label\": 0, \"Class\": \"NORMAL\"}, {\"Sentence\": \" Pope Francis name first cardinals February Pope Francis create new cardinals Catholic Church first time February 22 , Vatican announced Thursday \", \"Label\": 0, \"Class\": \"NORMAL\"}, {\"Sentence\": \" Cardinals highest-ranking clergy Catholic Church pope , &apos;re ones elect popes , Francis appointing first group men ultimately help choose successor \", \"Label\": 0, \"Class\": \"NORMAL\"}, {\"Sentence\": \"There 201 cardinals\", \"Label\": 0, \"Class\": \"NORMAL\"}, {\"Sentence\": \" However , cardinal reaches 80 longer permitted participate election pope -- falls group 120 &quot; cardinal electors \", \"Label\": 0, \"Class\": \"NORMAL\"}, {\"Sentence\": \" &quot; In statement announcing news , Father Federico Lombardi , Vatican spokesman , said meeting existing cardinals would held ceremony elevate new cardinals , known consistory \", \"Label\": 0, \"Class\": \"NORMAL\"}, {\"Sentence\": \" &quot; Pope Francis decided communicate decision convoke February &apos;s consistory advance order facilitate planning meetings involving participation cardinals different parts world , &quot; Lombardi said \", \"Label\": 0, \"Class\": \"NORMAL\"}, {\"Sentence\": \" Jack Valero Catholic Voices said February , number cardinal electors likely dropped \", \"Label\": 0, \"Class\": \"NORMAL\"}, {\"Sentence\": \"He said usually pope would name many cardinals needed raise number cardinal electors back 120 many cardinals aged 80 wanted\", \"Label\": 0, \"Class\": \"NORMAL\"}, {\"Sentence\": \" Next year &apos;s consistory would significant would first since Francis elected March year , Valero said \", \"Label\": 0, \"Class\": \"NORMAL\"}, {\"Sentence\": \"At moment sort bias towards Europe especially towards Italy\", \"Label\": 0, \"Class\": \"NORMAL\"}, {\"Sentence\": \" &quot; It interesting see whether new Pope nominate cardinals rest world restore balance , &quot; said \", \"Label\": 0, \"Class\": \"NORMAL\"}, {\"Sentence\": \" Forty percent Roman Catholics South America , tiny number cardinals \", \"Label\": 0, \"Class\": \"NORMAL\"}, {\"Sentence\": \" The cardinals also first chosen since Francis formed Council Cardinals , group eight cardinals around world tasked looking ways reform church \", \"Label\": 0, \"Class\": \"NORMAL\"}, {\"Sentence\": \"In past Pope decided everything\", \"Label\": 0, \"Class\": \"NORMAL\"}, {\"Sentence\": \" &quot; Now Francis selected eight cardinals help , &quot; Valero said \", \"Label\": 0, \"Class\": \"NORMAL\"}, {\"Sentence\": \"He said &quot; quite possible &quot; Francis would ask cardinals advice\", \"Label\": 0, \"Class\": \"NORMAL\"}, {\"Sentence\": \"But &apos;ve situation -- &apos;s completely new\", \"Label\": 0, \"Class\": \"NORMAL\"}, {\"Sentence\": \"Valero said popes typically elevated bishops large places position cardinal Francis &quot; full surprises -- &apos;t know &apos;ll name\", \"Label\": 0, \"Class\": \"NORMAL\"}, {\"Sentence\": \" &quot; The 100-year-old natural stone wall , serving foremost boundary old school yard - due renovated - Kirchstrasse , feature renovation cost plan town Br\\u00e4unlingen \", \"Label\": 0, \"Class\": \"NORMAL\"}, {\"Sentence\": \" In days Kilbig Autumn Folk Festival , first renovation work carried front school yard , small corner wall balustrades installed stabilise relieve static load old natural stone wall , one hundred years old \", \"Label\": 0, \"Class\": \"NORMAL\"}, {\"Sentence\": \" According Alexander Misok Br\\u00e4unlingen Municipal Planning Building Control Authority , ongoing procedure plans involve Regional Memorial Authority planning stage draw renovation concept old wall \", \"Label\": 0, \"Class\": \"NORMAL\"}, {\"Sentence\": \" A cost calculation performed team professionals , submitted Town Council , make decision determine ongoing procedure \", \"Label\": 0, \"Class\": \"NORMAL\"}, {\"Sentence\": \"A decision expected made coming year\", \"Label\": 0, \"Class\": \"NORMAL\"}, {\"Sentence\": \" Following renovation , plastering planting trees old internal school yard , within two wings 1912 school , subsequent measure boundary wall , need refurbishment , must renovated ground within foreseeable future \", \"Label\": 0, \"Class\": \"NORMAL\"}, {\"Sentence\": \" The historic , one hundred-year-old boundary wall old school-yard Kirchstrasse need renovation , primarily result water frost damage , account lack drainage , leaning forwards \", \"Label\": 0, \"Class\": \"NORMAL\"}, {\"Sentence\": \" Deep cracks number individual stones testify weather damage , however , present wall danger collapse \", \"Label\": 0, \"Class\": \"NORMAL\"}, {\"Sentence\": \" A secure wall essential school yard used pupils , purpose current fortification work \", \"Label\": 0, \"Class\": \"NORMAL\"}, {\"Sentence\": \" The school yard renovation originally planned back 2008 / 2009 , however , high unplanned expenses meant work pushed back \", \"Label\": 0, \"Class\": \"NORMAL\"}, {\"Sentence\": \" The Regional Memorial Authority major say historic school wall renovation , even used filming \", \"Label\": 0, \"Class\": \"NORMAL\"}, {\"Sentence\": \" If authority impose requirements , town Br\\u00e4unlingen would hope receive subsidies monument preservationists \", \"Label\": 0, \"Class\": \"NORMAL\"}, {\"Sentence\": \" The pupils Br\\u00e4unlingen Primary School , taught well renovated old school building , new hall , soon able use old school yard well \", \"Label\": 0, \"Class\": \"NORMAL\"}, {\"Sentence\": \" A black box car ? As America &apos;s road planners struggle find cash mend crumbling highway system , many beginning see solution little black box fits neatly dashboard car \", \"Label\": 0, \"Class\": \"NORMAL\"}, {\"Sentence\": \" The devices , track every mile motorist drives transmit information bureaucrats , center controversial attempt Washington state planning offices overhaul outdated system funding America &apos;s major roads \", \"Label\": 0, \"Class\": \"NORMAL\"}, {\"Sentence\": \"The usually dull arena highway planning suddenly spawned intense debate colorful alliances\", \"Label\": 0, \"Class\": \"NORMAL\"}, {\"Sentence\": \" Libertarians joined environmental groups lobbying allow government use little boxes keep track miles drive , possibly drive - use information draw tax bill \", \"Label\": 0, \"Class\": \"NORMAL\"}, {\"Sentence\": \"The tea party aghast\", \"Label\": 0, \"Class\": \"NORMAL\"}, {\"Sentence\": \" The American Civil Liberties Union deeply concerned , , raising variety privacy issues \", \"Label\": 0, \"Class\": \"NORMAL\"}, {\"Sentence\": \" And Congress &apos;t agree whether proceed , several states waiting \", \"Label\": 0, \"Class\": \"NORMAL\"}, {\"Sentence\": \" They exploring , next decade , move system drivers pay per mile road roll \", \"Label\": 0, \"Class\": \"NORMAL\"}, {\"Sentence\": \" Thousands motorists already taken black boxes , GPS monitoring , test drive \", \"Label\": 0, \"Class\": \"NORMAL\"}, {\"Sentence\": \"This really must nation\", \"Label\": 0, \"Class\": \"NORMAL\"}, {\"Sentence\": \" &quot; It matter something might choose , &quot; said Hasan Ikhrata , executive director Southern California Assn\", \"Label\": 0, \"Class\": \"NORMAL\"}, {\"Sentence\": \" Governments , planning state start tracking miles driven every California motorist 2025 \", \"Label\": 0, \"Class\": \"NORMAL\"}, {\"Sentence\": \"There going change pay taxes\", \"Label\": 0, \"Class\": \"NORMAL\"}, {\"Sentence\": \"The technology\", \"Label\": 0, \"Class\": \"NORMAL\"}, {\"Sentence\": \" The push comes country &apos;s Highway Trust Fund , financed taxes Americans pay gas pump , broke \", \"Label\": 0, \"Class\": \"NORMAL\"}, {\"Sentence\": \"Americans &apos;t buy much gas used\", \"Label\": 0, \"Class\": \"NORMAL\"}, {\"Sentence\": \"Cars get many miles gallon\", \"Label\": 0, \"Class\": \"NORMAL\"}, {\"Sentence\": \" The federal tax , 18\", \"Label\": 0, \"Class\": \"NORMAL\"}, {\"Sentence\": \"4 cents per gallon , &apos;t gone 20 years \", \"Label\": 0, \"Class\": \"NORMAL\"}, {\"Sentence\": \"Politicians loath raise tax even one penny gas prices high\", \"Label\": 0, \"Class\": \"NORMAL\"}, {\"Sentence\": \" &quot; The gas tax sustainable , &quot; said Lee Munnich , transportation policy expert University Minnesota \", \"Label\": 0, \"Class\": \"NORMAL\"}, {\"Sentence\": \"His state recently put tracking devices 500 cars test pay-by-mile system\", \"Label\": 0, \"Class\": \"NORMAL\"}, {\"Sentence\": \" &quot; This works logical alternative long term , &quot; said \", \"Label\": 0, \"Class\": \"NORMAL\"}, {\"Sentence\": \"Wonks call mileage-based user fee\", \"Label\": 0, \"Class\": \"NORMAL\"}, {\"Sentence\": \" It surprise idea appeals urban liberals , taxes could rigged change driving patterns ways could help reduce congestion greenhouse gases , example \", \"Label\": 0, \"Class\": \"NORMAL\"}, {\"Sentence\": \"California planners looking system devise strategies meet goals laid state &apos;s ambitious global warming laws\", \"Label\": 0, \"Class\": \"NORMAL\"}, {\"Sentence\": \"But Rep\", \"Label\": 0, \"Class\": \"NORMAL\"}, {\"Sentence\": \"Bill Shuster (R-Pa\", \"Label\": 0, \"Class\": \"NORMAL\"}, {\"Sentence\": \"), chairman House Transportation Committee , said , , sees viable long-term alternative \", \"Label\": 0, \"Class\": \"NORMAL\"}, {\"Sentence\": \"The free marketeers Reason Foundation also fond drivers pay per mile\", \"Label\": 0, \"Class\": \"NORMAL\"}, {\"Sentence\": \" &quot; This tax going black hole , &quot; said Adrian Moore , vice president policy Reason \", \"Label\": 0, \"Class\": \"NORMAL\"}, {\"Sentence\": \"People paying directly getting\", \"Label\": 0, \"Class\": \"NORMAL\"}, {\"Sentence\": \"The movement also bolstered two former U\", \"Label\": 0, \"Class\": \"NORMAL\"}, {\"Sentence\": \"S\", \"Label\": 0, \"Class\": \"NORMAL\"}, {\"Sentence\": \" Transportation secretaries , 2011 report urged Congress move pay-per-mile direction \", \"Label\": 0, \"Class\": \"NORMAL\"}, {\"Sentence\": \"The U\", \"Label\": 0, \"Class\": \"NORMAL\"}, {\"Sentence\": \"S\", \"Label\": 0, \"Class\": \"NORMAL\"}, {\"Sentence\": \" Senate approved $ 90-million pilot project last year would involved 10,000 cars \", \"Label\": 0, \"Class\": \"NORMAL\"}, {\"Sentence\": \" But House leadership killed proposal , acting concerns rural lawmakers representing constituents whose daily lives often involve logging lots miles get work town \", \"Label\": 0, \"Class\": \"NORMAL\"}, {\"Sentence\": \"Several states cities nonetheless moving ahead\", \"Label\": 0, \"Class\": \"NORMAL\"}, {\"Sentence\": \" The eager Oregon , enlisting 5,000 drivers country &apos;s biggest experiment \", \"Label\": 0, \"Class\": \"NORMAL\"}, {\"Sentence\": \"Those drivers soon pay mileage fees instead gas taxes state\", \"Label\": 0, \"Class\": \"NORMAL\"}, {\"Sentence\": \"Nevada already completed pilot\", \"Label\": 0, \"Class\": \"NORMAL\"}, {\"Sentence\": \"New York City looking one\", \"Label\": 0, \"Class\": \"NORMAL\"}, {\"Sentence\": \"Illinois trying limited basis trucks\", \"Label\": 0, \"Class\": \"NORMAL\"}, {\"Sentence\": \" And I-95 Coalition , includes 17 state transportation departments along Eastern Seaboard (including Maryland , Pennsylvania , Virginia Florida), studying could go implementing change \", \"Label\": 0, \"Class\": \"NORMAL\"}, {\"Sentence\": \"The concept universal hit\", \"Label\": 0, \"Class\": \"NORMAL\"}, {\"Sentence\": \" In Nevada , 50 volunteers &apos; cars equipped devices long ago , drivers uneasy government able monitor every move \", \"Label\": 0, \"Class\": \"NORMAL\"}, {\"Sentence\": \" &quot; Concerns Big Brother sorts things major problem , &quot; said Alauddin Khan , directs strategic performance management Nevada Department Transportation \", \"Label\": 0, \"Class\": \"NORMAL\"}, {\"Sentence\": \"It something people wanted\", \"Label\": 0, \"Class\": \"NORMAL\"}, {\"Sentence\": \" As trial got underway , ACLU Nevada warned website: &quot; It would fairly easy turn devices full-fledged tracking devices \", \"Label\": 0, \"Class\": \"NORMAL\"}, {\"Sentence\": \" &quot; There need build enormous , unwieldy technological infrastructure inevitably expanded keep records individuals &apos; everyday comings goings \", \"Label\": 0, \"Class\": \"NORMAL\"}, {\"Sentence\": \" Nevada among several states scrambling find affordable technology would allow state keep track many miles car driven , exactly time \", \"Label\": 0, \"Class\": \"NORMAL\"}, {\"Sentence\": \" If , Khan said , public gets comfortable \", \"Label\": 0, \"Class\": \"NORMAL\"}, {\"Sentence\": \"The hunt technology led state agencies small California startup called True Mileage\", \"Label\": 0, \"Class\": \"NORMAL\"}, {\"Sentence\": \"The firm originally business helping states tax drivers\", \"Label\": 0, \"Class\": \"NORMAL\"}, {\"Sentence\": \" It seeking break emerging market auto insurance , drivers would pay based mileage \", \"Label\": 0, \"Class\": \"NORMAL\"}, {\"Sentence\": \" But devices testing appeal highway planners &apos;t use GPS deliver limited amount information , uploaded periodically modem \", \"Label\": 0, \"Class\": \"NORMAL\"}, {\"Sentence\": \" &quot; People willing track speed track location , &quot; said Ryan Morrison , chief executive True Mileage \", \"Label\": 0, \"Class\": \"NORMAL\"}, {\"Sentence\": \"There big mistakes state pilot programs\", \"Label\": 0, \"Class\": \"NORMAL\"}, {\"Sentence\": \"There lot less expensive less intrusive ways\", \"Label\": 0, \"Class\": \"NORMAL\"}, {\"Sentence\": \" In Oregon , planners experimenting giving drivers different choices \", \"Label\": 0, \"Class\": \"NORMAL\"}, {\"Sentence\": \"They choose device without GPS\", \"Label\": 0, \"Class\": \"NORMAL\"}, {\"Sentence\": \" Or choose device , opting instead pay flat fee based average number miles driven state residents \", \"Label\": 0, \"Class\": \"NORMAL\"}, {\"Sentence\": \" Other places hoping sell concept wary public devices , less \", \"Label\": 0, \"Class\": \"NORMAL\"}, {\"Sentence\": \" In New York City , transportation officials seeking develop taxing device would also equipped pay parking meter fees , provide &quot; pay-as-you-drive &quot; insurance , create pool real-time speed data drivers motorists could use avoid traffic \", \"Label\": 0, \"Class\": \"NORMAL\"}, {\"Sentence\": \" &quot; Motorists would attracted participate value benefits offers , &quot; says city planning document \", \"Label\": 0, \"Class\": \"NORMAL\"}, {\"Sentence\": \" Some transportation planners , though , wonder talk paying mile giant distraction \", \"Label\": 0, \"Class\": \"NORMAL\"}, {\"Sentence\": \" At Metropolitan Transportation Commission San Francisco Bay Area , officials say Congress could simply deal bankrupt Highway Trust Fund raising gas taxes \", \"Label\": 0, \"Class\": \"NORMAL\"}, {\"Sentence\": \" An extra one-time annual levy could imposed drivers hybrids others whose vehicles &apos;t use much gas , pay fair share \", \"Label\": 0, \"Class\": \"NORMAL\"}, {\"Sentence\": \" &quot; There need radical surgery need take aspirin , &quot; said Randy Rentschler , commission &apos;s director legislation public affairs \", \"Label\": 0, \"Class\": \"NORMAL\"}, {\"Sentence\": \" If , hundreds millions drivers concerned privacy host things \", \"Label\": 0, \"Class\": \"NORMAL\"}, {\"Sentence\": \" Snowden may make statements Russia The former US intelligence expert , Edward Snowden , may make statements regarding US espionage scandal Russian asylum \", \"Label\": 0, \"Class\": \"NORMAL\"}, {\"Sentence\": \"Representatives Federal Prosecutor could either submit questions writing meet 30-year-old person Russia\", \"Label\": 0, \"Class\": \"NORMAL\"}, {\"Sentence\": \" This reported Interfax Agency reference groups aware situation , named greater detail \", \"Label\": 0, \"Class\": \"NORMAL\"}, {\"Sentence\": \" Such matters clarified intergovernmental level , stated \", \"Label\": 0, \"Class\": \"NORMAL\"}, {\"Sentence\": \"A departure Snowden Russia virtually impossible\", \"Label\": 0, \"Class\": \"NORMAL\"}, {\"Sentence\": \" &quot; If happen , would lose status refugee , &quot; said Agency , quoting source \", \"Label\": 0, \"Class\": \"NORMAL\"}, {\"Sentence\": \" Because Germany ally USA , Snowden would risk deportation travel , source continued \", \"Label\": 0, \"Class\": \"NORMAL\"}, {\"Sentence\": \"Open-air concert accompanied high summer temperatures\", \"Label\": 0, \"Class\": \"NORMAL\"}, {\"Sentence\": \"The Hammereisenbach Music Society gave open-air concert terrace Hammer Guest House\", \"Label\": 0, \"Class\": \"NORMAL\"}, {\"Sentence\": \" When conductor , Bianca Willmann , raised baton 7: 30 p\", \"Label\": 0, \"Class\": \"NORMAL\"}, {\"Sentence\": \"m\", \"Label\": 0, \"Class\": \"NORMAL\"}, {\"Sentence\": \" , thermometer still reading 25 degrees \", \"Label\": 0, \"Class\": \"NORMAL\"}, {\"Sentence\": \"Around 50 listeners enjoyed sounds Hammrich musicians\", \"Label\": 0, \"Class\": \"NORMAL\"}, {\"Sentence\": \" Chairperson , Manuela Honeck , provided explanation accompany pieces \", \"Label\": 0, \"Class\": \"NORMAL\"}, {\"Sentence\": \" In , Honeck thanked helped successfully manage first Musikerhock \", \"Label\": 0, \"Class\": \"NORMAL\"}, {\"Sentence\": \" Snowden ready &quot; cooperate &quot; Germany US surveillance Edward Snowden , US intelligence whistleblower , declared willing travel Berlin give evidence German parliament US National Security Agency director Keith Alexander fail provide answers activities \", \"Label\": 0, \"Class\": \"NORMAL\"}, {\"Sentence\": \" German MP Hans-Christian Str\\u00f6bele Thursday met Mr Snowden Russia , granted asylum , discuss testifying Germany \", \"Label\": 0, \"Class\": \"NORMAL\"}, {\"Sentence\": \" A letter Mr Snowden , presented media Berlin Friday MP , said: &quot; Though outcome efforts demonstrably positive , government continues treat dissent defection , seeks criminalise political speech felony charges provide defence \", \"Label\": 0, \"Class\": \"NORMAL\"}, {\"Sentence\": \" &quot; However , speaking truth crime \", \"Label\": 0, \"Class\": \"NORMAL\"}, {\"Sentence\": \" In letter , Mr Snowden said believed support international community could persuade US government abandon criminal charges \", \"Label\": 0, \"Class\": \"NORMAL\"}, {\"Sentence\": \"The charges filed US justice department include espionage theft government property\", \"Label\": 0, \"Class\": \"NORMAL\"}, {\"Sentence\": \" Hans-Peter Friedrich , German interior minister , told Zeit Online: &quot; If Mr Snowden ready speak German officials , find ways make possible \", \"Label\": 0, \"Class\": \"NORMAL\"}, {\"Sentence\": \"&quot; Relations US Germany come strain following claims NSA bugged Chancellor Angela &apos;s Merkel &apos;s phone\", \"Label\": 0, \"Class\": \"NORMAL\"}, {\"Sentence\": \" Thomas Oppermann , MP heads parliamentary panel oversees intelligence , said opportunity hear Mr Snowden witness &quot; without bringing danger completely ruining relations US , &quot; taken \", \"Label\": 0, \"Class\": \"NORMAL\"}, {\"Sentence\": \" Mr Str\\u00f6bele , MP Germany &apos;s Green party , published picture Mr Snowden Twitter feed \", \"Label\": 0, \"Class\": \"NORMAL\"}, {\"Sentence\": \"He accompanied visit Russia two German journalists\", \"Label\": 0, \"Class\": \"NORMAL\"}, {\"Sentence\": \" Mr Str\\u00f6bele said , according former NSA contractor &apos;s lawyer , Mr Snowden would able return Russia left \", \"Label\": 0, \"Class\": \"NORMAL\"}, {\"Sentence\": \" If Mr Snowden testified Germany would need assurances would &quot; safe &quot; , MP said \", \"Label\": 0, \"Class\": \"NORMAL\"}, {\"Sentence\": \"Mr Snowden said letter faced &quot; severe sustained &quot; campaign persecution forced home\", \"Label\": 0, \"Class\": \"NORMAL\"}, {\"Sentence\": \"However said heartened worldwide response &quot; act political expression\", \"Label\": 0, \"Class\": \"NORMAL\"}, {\"Sentence\": \"&quot; Citizens around world well high officials - including United States - judged revelation unaccountable system pervasive surveillance public service\", \"Label\": 0, \"Class\": \"NORMAL\"}, {\"Sentence\": \"The letter extends offer cooperate German authorities &quot; difficulties humanitarian situation resolved\", \"Label\": 0, \"Class\": \"NORMAL\"}, {\"Sentence\": \"&quot; Arctic Monkeys postpone Glasgow gig due Alex Turner &apos;s illness Rock band Arctic Monkeys postponed gig Glasgow lead singer diagnosed laryngitis\", \"Label\": 0, \"Class\": \"NORMAL\"}, {\"Sentence\": \"The Sheffield group scheduled perform Hydro venue city Friday\", \"Label\": 0, \"Class\": \"NORMAL\"}, {\"Sentence\": \" However , lead singer Alex Turner &apos;s illness forced reschedule show \", \"Label\": 0, \"Class\": \"NORMAL\"}, {\"Sentence\": \"The band &apos;s announcement came forced similarly postpone gig LG Arena Birmingham Thursday\", \"Label\": 0, \"Class\": \"NORMAL\"}, {\"Sentence\": \" In statement official website , Arctic Monkeys said: &quot; Following decision postpone show Birmingham LG Arena tonight seeking medical advice , Arctic Monkeys must also postpone show Glasgow Hydro Friday , November 1 \", \"Label\": 0, \"Class\": \"NORMAL\"}, {\"Sentence\": \"&quot; &quot; Alex Turner diagnosed laryngitis regrettably able perform\", \"Label\": 0, \"Class\": \"NORMAL\"}, {\"Sentence\": \"&quot; The show LG Arena Birmingham take place November 20 show Glasgow Hydro take place November 21\", \"Label\": 0, \"Class\": \"NORMAL\"}, {\"Sentence\": \"All tickets remain valid shows\", \"Label\": 0, \"Class\": \"NORMAL\"}, {\"Sentence\": \"We wish apologise ticket holders inconvenience caused\", \"Label\": 0, \"Class\": \"NORMAL\"}, {\"Sentence\": \"Please contact customer services box office purchased tickets assistance\", \"Label\": 0, \"Class\": \"NORMAL\"}, {\"Sentence\": \"Travelling BVB fans created terrible scenes flares Veltins Arena district derby Schalke Borussia Dortmund announced would serious consequences\", \"Label\": 0, \"Class\": \"NORMAL\"}, {\"Sentence\": \" Before Friday &apos;s Bundesliga match VfB Stuttgart , &apos; Ultras &apos; responded silence - initially \", \"Label\": 0, \"Class\": \"NORMAL\"}, {\"Sentence\": \" It unusual , almost ghostly atmosphere fans created shortly kick-off Bundesliga match German runners-up Borussia Dortmend VfB Stuttgart , Signal Iduna Park \", \"Label\": 0, \"Class\": \"NORMAL\"}, {\"Sentence\": \"It mainly chants away fans could heard\", \"Label\": 0, \"Class\": \"NORMAL\"}, {\"Sentence\": \" The south stand , hand , loyal - loudest - BVB fans stand , initially unusually quiet: No singing battle cries \", \"Label\": 0, \"Class\": \"NORMAL\"}, {\"Sentence\": \" The &apos; Capo &apos;s &apos; podium , individual usually coordinates unison chants , remained empty \", \"Label\": 0, \"Class\": \"NORMAL\"}, {\"Sentence\": \" And right front , stand , single large flag text &quot; Stadium Ban Section &quot; blew wind \", \"Label\": 0, \"Class\": \"NORMAL\"}, {\"Sentence\": \" Only goalkeeper , Roman Weidenfeller , first BVB player step onto field , cheers briefly erupt , usually case \", \"Label\": 0, \"Class\": \"NORMAL\"}, {\"Sentence\": \" When team mates followed , loud singing scarves waving - means everywhere \", \"Label\": 0, \"Class\": \"NORMAL\"}, {\"Sentence\": \" In central blocks south stand , blocks 12 13 , nothing moved \", \"Label\": 0, \"Class\": \"NORMAL\"}, {\"Sentence\": \" Even stadium announcer , Norbert Dickel , speaking successful results recent days - derby victory , win Arsenal , contract extension coach J\\u00f6rgen klopp - raise spirits \", \"Label\": 0, \"Class\": \"NORMAL\"}, {\"Sentence\": \" Just five minutes kick-off , Capo climbed onto podium - tension almost tangible point , lifted large shout , Dickel asked shout section fans usual \", \"Label\": 0, \"Class\": \"NORMAL\"}, {\"Sentence\": \" As always , south stand left end , finally stand resumed usual role loudest section stadium \", \"Label\": 0, \"Class\": \"NORMAL\"}, {\"Sentence\": \" And soon vociferous request &quot; derby winners stand &quot; came south stand upon kick-off , everything back normal \", \"Label\": 0, \"Class\": \"NORMAL\"}, {\"Sentence\": \"The previous silence indeed reaction events previous days\", \"Label\": 0, \"Class\": \"NORMAL\"}, {\"Sentence\": \" Immediately local district derby FC Schalke 04 , travelling BVB fans fired flares crowds spectators onto pitch - almost hit goalkeeper Roman Weidenfeller \", \"Label\": 0, \"Class\": \"NORMAL\"}, {\"Sentence\": \" The kick-off delayed account chaotic scenes , As result , BVB Chairman Hans Joachim Watzke invited heads Dortmund Ultras fan group office - Watzke &apos;s words believed , rather uncomfortable meeting fan representatives \", \"Label\": 0, \"Class\": \"NORMAL\"}, {\"Sentence\": \" &quot; There massive impact entire Ultra movement , &quot; announced BVB Chairman Thursday evening panel discussion Frankfurt \", \"Label\": 0, \"Class\": \"NORMAL\"}, {\"Sentence\": \" As immediate measure , Watzke prohibited Ultras organising choreography home match VfB Stuttgart \", \"Label\": 0, \"Class\": \"NORMAL\"}, {\"Sentence\": \" &quot; I banned , &quot; explained \", \"Label\": 0, \"Class\": \"NORMAL\"}, {\"Sentence\": \"We cannot ignore zero tolerance policy regarding pyrotechnics Saxony\", \"Label\": 0, \"Class\": \"NORMAL\"}, {\"Sentence\": \" In addition , Ultras given option several different punishments - Tuesday decide one accept \", \"Label\": 0, \"Class\": \"NORMAL\"}, {\"Sentence\": \" Otherwise BVB impose sanction end next week , said Watzke \", \"Label\": 0, \"Class\": \"NORMAL\"}, {\"Sentence\": \" &quot; It severe , &quot; assured Watzke \", \"Label\": 0, \"Class\": \"NORMAL\"}, {\"Sentence\": \"It interesting see reactions south stand\", \"Label\": 0, \"Class\": \"NORMAL\"}, {\"Sentence\": \" In October , number jobless fell slightly 22 , total 1,307 \", \"Label\": 0, \"Class\": \"NORMAL\"}, {\"Sentence\": \"The rate 3\", \"Label\": 0, \"Class\": \"NORMAL\"}, {\"Sentence\": \"1 per cent indeed better previous year also better September , &quot; however , hoped , &quot; said Monika Felder-Bauer , acting branch manager Employment Agency Sonthofen \", \"Label\": 0, \"Class\": \"NORMAL\"}, {\"Sentence\": \"Several companies thus far reacted cautiously comes hiring\", \"Label\": 0, \"Class\": \"NORMAL\"}, {\"Sentence\": \" Stating reason , Felder-Bauer said: &quot; We barely skilled workers fields skilled crafts trades , healthcare geriatric care \", \"Label\": 0, \"Class\": \"NORMAL\"}, {\"Sentence\": \"&quot; Seasonal job offers staff hotel restaurant businesses coming since September\", \"Label\": 0, \"Class\": \"NORMAL\"}, {\"Sentence\": \"The Winter season within industry begins mid-December\", \"Label\": 0, \"Class\": \"NORMAL\"}, {\"Sentence\": \"The complete background report found &quot; Allg\\u00e4uer Anzeigeblatt &quot; newspaper dated 31 / 10 / 2013 (page 33)\", \"Label\": 0, \"Class\": \"NORMAL\"}, {\"Sentence\": \"Tony Blair said &apos;d seize chance return Britain &apos;s prime minister - acknowledges comeback unlikely\", \"Label\": 0, \"Class\": \"NORMAL\"}, {\"Sentence\": \" In interview overnight mark fifth anniversary departure office , 59-year-old aired views various domestic policies \", \"Label\": 0, \"Class\": \"NORMAL\"}, {\"Sentence\": \" Since stood June 2007 decade leader , Mr Blair largely avoided discussing British politics , confining comments foreign affairs role envoy Quartet Middle East peacemakers \", \"Label\": 0, \"Class\": \"NORMAL\"}, {\"Sentence\": \" Asked would return post prime minister , Mr Blair quoted London &apos;s Evening Standard saying: &quot; Yes , sure , &apos;s likely happen , \", \"Label\": 0, \"Class\": \"NORMAL\"}, {\"Sentence\": null, \"Label\": 0, \"Class\": \"NORMAL\"}, {\"Sentence\": null, \"Label\": 0, \"Class\": \"NORMAL\"}, {\"Sentence\": \" &quot; ESA makes decision major space missions: Missions costing billions Distant planets , gravitational waves black holes - experts European Space Agency must agree two major projects launched coming years \", \"Label\": 0, \"Class\": \"NORMAL\"}, {\"Sentence\": \" There 30 proposals choose , five still running \", \"Label\": 0, \"Class\": \"NORMAL\"}, {\"Sentence\": \"Distant worlds\", \"Label\": 0, \"Class\": \"NORMAL\"}, {\"Sentence\": \" Astronomers already found 1,000 planets near stars \", \"Label\": 0, \"Class\": \"NORMAL\"}, {\"Sentence\": \" Whether life exists least , no-one knows \", \"Label\": 0, \"Class\": \"NORMAL\"}, {\"Sentence\": \" The choice difficult one: Should search gravitational waves ? Or instead conduct research origin cosmos ? Or search planets similar Earth thus perhaps discover extraterrestrial life ? These questions currently asked responsible European Space Agency , ESA \", \"Label\": 0, \"Class\": \"NORMAL\"}, {\"Sentence\": \" For &quot; Cosmic Vision &quot; programme , looking ideas two major space projects , greatly advance research \", \"Label\": 0, \"Class\": \"NORMAL\"}, {\"Sentence\": \"The budget &quot; L-Missions &quot; lies around one billion Euro\", \"Label\": 0, \"Class\": \"NORMAL\"}, {\"Sentence\": \"The projects planned start 2028 2034\", \"Label\": 0, \"Class\": \"NORMAL\"}, {\"Sentence\": \" At beginning September , elite field European space research met Paris discuss proposals missions \", \"Label\": 0, \"Class\": \"NORMAL\"}, {\"Sentence\": \" 30 ideas debate , five made onto short list \", \"Label\": 0, \"Class\": \"NORMAL\"}, {\"Sentence\": \" Numerous panels assessing proposals , posing questions researchers \", \"Label\": 0, \"Class\": \"NORMAL\"}, {\"Sentence\": \" Over coming days , final decision made Scientific Programme Committee \", \"Label\": 0, \"Class\": \"NORMAL\"}, {\"Sentence\": \" In total , four main questions chosen ESA , missions &quot; Cosmic Vision &quot; programme , initiated 2007 , find answers \", \"Label\": 0, \"Class\": \"NORMAL\"}, {\"Sentence\": \"What conditions required formation planets life ? The precise processes formation stars large gas clouds - thus formation planets orbit stars - lie proverbial darkness\", \"Label\": 0, \"Class\": \"NORMAL\"}, {\"Sentence\": \"A large infra-red telescope space could penetrate darkness\", \"Label\": 0, \"Class\": \"NORMAL\"}, {\"Sentence\": \" And star planets , circumstances life exist ? In order pursue question , &quot; Cheops &quot; space telescope launched 2017 , 500 known planetary systems proximity us investigated greater detail \", \"Label\": 0, \"Class\": \"NORMAL\"}, {\"Sentence\": \" The possibilities , however , limited - Cheops small mission budget 150 million Euro \", \"Label\": 0, \"Class\": \"NORMAL\"}, {\"Sentence\": \" With larger instruments , astronomers could map planets similar Earth even analyse composition atmospheres , thus search &quot; biomarkers &quot;: gases serve indicator biological activity \", \"Label\": 0, \"Class\": \"NORMAL\"}, {\"Sentence\": \"How solar system function ? This question also provide information regarding preconditions origins life\", \"Label\": 0, \"Class\": \"NORMAL\"}, {\"Sentence\": \" The magnetic activity star , interaction magnetic field emitted particle radiation play important role \", \"Label\": 0, \"Class\": \"NORMAL\"}, {\"Sentence\": \" It possible investigate processes solar system , serve example applied elsewhere \", \"Label\": 0, \"Class\": \"NORMAL\"}, {\"Sentence\": \" With &quot; Solar Orbiter &quot; , ESA already approved M-class mission (for budget stands around half million Euro) address matter \", \"Label\": 0, \"Class\": \"NORMAL\"}, {\"Sentence\": \"The probe launched 2017 closely observe surface activity sun\", \"Label\": 0, \"Class\": \"NORMAL\"}, {\"Sentence\": \"Jupiter moons also great interest researchers\", \"Label\": 0, \"Class\": \"NORMAL\"}, {\"Sentence\": \"They want find role giant planet played development solar system\", \"Label\": 0, \"Class\": \"NORMAL\"}, {\"Sentence\": \"The ESA planning first total three L-Missions &quot; Cosmic Vision &quot; programme address subject\", \"Label\": 0, \"Class\": \"NORMAL\"}, {\"Sentence\": \"The &quot; Juice &quot; (Jupiter Icy Moons Explorer) probe planned begin journey 2022\", \"Label\": 0, \"Class\": \"NORMAL\"}, {\"Sentence\": \" Eight years later reach Jupiter investigate atmosphere planet well icy moons Europa , Callisto Ganymede \", \"Label\": 0, \"Class\": \"NORMAL\"}, {\"Sentence\": \" What basic physical laws Universe ? Outer space offers many possibilities studying substances extreme conditions thus examining whether laws nature , known us , still valid \", \"Label\": 0, \"Class\": \"NORMAL\"}, {\"Sentence\": \" There may also deviations could show physicians path new theory , umbrella known natural laws could united \", \"Label\": 0, \"Class\": \"NORMAL\"}, {\"Sentence\": \"How universe come consist ? 13\", \"Label\": 0, \"Class\": \"NORMAL\"}, {\"Sentence\": \"7 billion years ago , cosmos created Big Bang \", \"Label\": 0, \"Class\": \"NORMAL\"}, {\"Sentence\": \" Alongside materials familiar us , stars , planets life forms composed , exists dark matter , gravitational force holds galaxies galaxy clusters together , dark energy , effects accelerate expansion universe \", \"Label\": 0, \"Class\": \"NORMAL\"}, {\"Sentence\": \" Thus far , researchers know neither physical laws applied initial moments Big Bang , dark matter dark energy consist \", \"Label\": 0, \"Class\": \"NORMAL\"}, {\"Sentence\": \" With &quot; Euclid &quot; , ESA already approved M-mission , planned commence 2020 \", \"Label\": 0, \"Class\": \"NORMAL\"}, {\"Sentence\": \" With special telescope , probe examine distribution material universe across entire sky , thus enabling conclusions drawn regarding properties dark matter dark energy \", \"Label\": 0, \"Class\": \"NORMAL\"}, {\"Sentence\": \"Proposals running\", \"Label\": 0, \"Class\": \"NORMAL\"}, {\"Sentence\": null, \"Label\": 0, \"Class\": \"NORMAL\"}, {\"Sentence\": null, \"Label\": 0, \"Class\": \"NORMAL\"}, {\"Sentence\": \" Of 30 proposals , two remain end selection procedure \", \"Label\": 0, \"Class\": \"NORMAL\"}, {\"Sentence\": \" The proposal best chance approval L-mission , opinion many experts , &quot; E-Lisa &quot; , demanding concept aims prove existence gravitational waves \", \"Label\": 0, \"Class\": \"NORMAL\"}, {\"Sentence\": \" Many physicians perceive entail changes structure space-time , Albert Einstein predicted almost 100 years ago \", \"Label\": 0, \"Class\": \"NORMAL\"}, {\"Sentence\": \"To date never proved exist\", \"Label\": 0, \"Class\": \"NORMAL\"}, {\"Sentence\": \"The scientists behind project hope Elisa could achieve\", \"Label\": 0, \"Class\": \"NORMAL\"}, {\"Sentence\": \" The mission involves placing detector , consisting two three probes , outer space \", \"Label\": 0, \"Class\": \"NORMAL\"}, {\"Sentence\": \" Unlike systems Earth , could also prove gravitational waves created Big Bang , thus provide fresh knowledge regarding origin cosmos \", \"Label\": 0, \"Class\": \"NORMAL\"}, {\"Sentence\": \" Four proposals still competing second L-mission place: large X-ray telescope called &quot; Athena &quot; , among things would research black holes , &quot; Icy Planets &quot; , another mission outer planets solar system , &quot; prism &quot; , mission measurement cosmic background radiation , &quot; Exoplanet Finder &quot; , would find investigate planets similar Earth \", \"Label\": 0, \"Class\": \"NORMAL\"}, {\"Sentence\": \" Among others , proposals already ruled include proposals bringing samples back Mars , conducting research moon , Venus asteroids , well proposals area solar physics \", \"Label\": 0, \"Class\": \"NORMAL\"}, {\"Sentence\": \" Gazprom &apos;s Alexei Miller says pipeline Bulgaria starts new gas era The start construction South Stream gas pipeline Bulgaria marks launch one Europe &apos;s largest energy projects , Gazprom &apos;s chief said \", \"Label\": 0, \"Class\": \"NORMAL\"}, {\"Sentence\": \" &quot; A landmark event taken place today: Construction started Bulgarian section South Stream gas pipeline , large-scale important project Europe , &quot; Gazprom Chairman Alexei Miller said statement Thursday \", \"Label\": 0, \"Class\": \"NORMAL\"}, {\"Sentence\": \"This project key element energy security whole European continent\", \"Label\": 0, \"Class\": \"NORMAL\"}, {\"Sentence\": \"South Stream meant add diversity Russia &apos;s export routes Europe\", \"Label\": 0, \"Class\": \"NORMAL\"}, {\"Sentence\": \" A contractual dispute Gazprom counterparts Ukraine , hosts Russia &apos;s gas Europe , adds layer risk conventional routes , officials say \", \"Label\": 0, \"Class\": \"NORMAL\"}, {\"Sentence\": \" Miller said direct connection Bulgaria , member European Union , means geopolitical risks associated transit countries eliminated &quot; forever \", \"Label\": 0, \"Class\": \"NORMAL\"}, {\"Sentence\": \"&quot; Bulgarian consumers receive gas South Stream discounted rate entire project starts operating 2015\", \"Label\": 0, \"Class\": \"NORMAL\"}, {\"Sentence\": \"Gazprom said construction begin downstream countries year &apos;s end\", \"Label\": 0, \"Class\": \"NORMAL\"}, {\"Sentence\": \"The pipeline designed annual capacity 2\", \"Label\": 0, \"Class\": \"NORMAL\"}, {\"Sentence\": \"2 trillion cubic feet natural gas\", \"Label\": 0, \"Class\": \"NORMAL\"}, {\"Sentence\": \"Falkenberg club makes two wonderful evenings\", \"Label\": 0, \"Class\": \"NORMAL\"}, {\"Sentence\": \"The new season Falkenberg &quot; Blue Velvet &quot; club begun\", \"Label\": 0, \"Class\": \"NORMAL\"}, {\"Sentence\": \" This Friday evening , &quot; Pump party &quot; event taking place , one day later , Saturday evening , festivities continue over-25s party \", \"Label\": 0, \"Class\": \"NORMAL\"}, {\"Sentence\": \"Fat beats cool sounds course promised organisers nights\", \"Label\": 0, \"Class\": \"NORMAL\"}, {\"Sentence\": \" Pamela Anderson chops iconic blonde locks , debuts dramatic new pixie cut \", \"Label\": 0, \"Class\": \"NORMAL\"}, {\"Sentence\": \"Pam &apos;s blonde locks made famous role sexy TV show Baywatch\", \"Label\": 0, \"Class\": \"NORMAL\"}, {\"Sentence\": \"Pamela Anderson latest celebrity shock fans dramatic new hairdo\", \"Label\": 0, \"Class\": \"NORMAL\"}, {\"Sentence\": \"The ex-Baywatch babe ditched long blonde locks favour platinum pixie crop\", \"Label\": 0, \"Class\": \"NORMAL\"}, {\"Sentence\": \"The 46-year-old actress revealed latest look LA Wednesday shared snap Twitter page\", \"Label\": 0, \"Class\": \"NORMAL\"}, {\"Sentence\": \" It &apos;s first time 20 years blonde beauty short hair , &apos;re loving demure change \", \"Label\": 0, \"Class\": \"NORMAL\"}, {\"Sentence\": \"What think Pammy &apos;s hair ? Share us thoughts comments\", \"Label\": 0, \"Class\": \"NORMAL\"}, {\"Sentence\": \" Thus far , Kempten Police Department look back calm Halloween night \", \"Label\": 0, \"Class\": \"NORMAL\"}, {\"Sentence\": \"The authorities called twice deal children throwing eggs houses\", \"Label\": 0, \"Class\": \"NORMAL\"}, {\"Sentence\": \" Because home owners realised immediately , egg remnants could cleaned , meaning material damage occurred \", \"Label\": 0, \"Class\": \"NORMAL\"}, {\"Sentence\": \" Furthermore , town centre area , fireworks set , material damage caused either \", \"Label\": 0, \"Class\": \"NORMAL\"}, {\"Sentence\": \"The residents Bischof-Freundorfer-Weg reported car wrapped toilet paper wheel trims stolen\", \"Label\": 0, \"Class\": \"NORMAL\"}, {\"Sentence\": \" However , man found wheel trims nearby prior police arriving , account police involvement required \", \"Label\": 0, \"Class\": \"NORMAL\"}, {\"Sentence\": \" Town Council delighted solid budget Every time discussion Town Council meetings turns budget , Mayor Ralph Gerster good reason smile \", \"Label\": 0, \"Class\": \"NORMAL\"}, {\"Sentence\": \"The municipality coffers Herdwangen-Sch\\u00f6nach well stocked administration debt-free since 2005\", \"Label\": 0, \"Class\": \"NORMAL\"}, {\"Sentence\": \" In sense , 2012 budgetary year , also recorded complete success \", \"Label\": 0, \"Class\": \"NORMAL\"}, {\"Sentence\": \"This became clear upon presentation annual accounts 2012\", \"Label\": 0, \"Class\": \"NORMAL\"}, {\"Sentence\": \" As Andrea Rothmund explained , administrative budget came EUR one million higher originally planned , around 7\", \"Label\": 0, \"Class\": \"NORMAL\"}, {\"Sentence\": \"6 million Euro\", \"Label\": 0, \"Class\": \"NORMAL\"}, {\"Sentence\": \" The administrative budget surplus , around EUR 1\", \"Label\": 0, \"Class\": \"NORMAL\"}, {\"Sentence\": \"8 million , also stood around EUR one million projections \", \"Label\": 0, \"Class\": \"NORMAL\"}, {\"Sentence\": \"The surplus primarily due higher trade tax income local authorities &apos; contribution towards income tax\", \"Label\": 0, \"Class\": \"NORMAL\"}, {\"Sentence\": \"The capital budget also stood well projected values\", \"Label\": 0, \"Class\": \"NORMAL\"}, {\"Sentence\": \"Instead projected EUR 1\", \"Label\": 0, \"Class\": \"NORMAL\"}, {\"Sentence\": \"5 million Euro , value last year EUR 2\", \"Label\": 0, \"Class\": \"NORMAL\"}, {\"Sentence\": \"5 million\", \"Label\": 0, \"Class\": \"NORMAL\"}, {\"Sentence\": \" &quot; This mainly due higher contribution administrative budget , &quot; said Rothmund \", \"Label\": 0, \"Class\": \"NORMAL\"}, {\"Sentence\": \" Because fewer investments made 2012 budgetary year planned , reserves also came higher \", \"Label\": 0, \"Class\": \"NORMAL\"}, {\"Sentence\": \" In total , managed increase general contingency reserves around EUR 2\", \"Label\": 0, \"Class\": \"NORMAL\"}, {\"Sentence\": \"1 million , total EUR 4\", \"Label\": 0, \"Class\": \"NORMAL\"}, {\"Sentence\": \"9 million\", \"Label\": 0, \"Class\": \"NORMAL\"}, {\"Sentence\": \"Mayor Ralph Gerster thanked Rothmund team good work\", \"Label\": 0, \"Class\": \"NORMAL\"}, {\"Sentence\": \" &quot; A job like something achieve overnight , &quot; said Gerster praise annual financial statement \", \"Label\": 0, \"Class\": \"NORMAL\"}, {\"Sentence\": \"He Town Councillors clearly delighted good figures\", \"Label\": 0, \"Class\": \"NORMAL\"}, {\"Sentence\": \" It may sound like paradox , precisely good figures could soon work expensive citizens \", \"Label\": 0, \"Class\": \"NORMAL\"}, {\"Sentence\": \" In past , good financial situation meant local authorities could away high municipal rates \", \"Label\": 0, \"Class\": \"NORMAL\"}, {\"Sentence\": \" However , according Gerster , time time resulted subsidies reduced state \", \"Label\": 0, \"Class\": \"NORMAL\"}, {\"Sentence\": \"There prerequisites must fulfilled order receive subsidies various compensation elements\", \"Label\": 0, \"Class\": \"NORMAL\"}, {\"Sentence\": \" Among requirements , towns municipalities applying subsidies must levy certain municipal rates \", \"Label\": 0, \"Class\": \"NORMAL\"}, {\"Sentence\": \" &quot; We address subject municipal rates , investments made coming years could subsidies , &quot; commented Gerster regarding matter \", \"Label\": 0, \"Class\": \"NORMAL\"}, {\"Sentence\": \" Sleepless New York On way host families Weymouth , Massachusetts , pupils Schwarzwald Grammar School got know American city New York \", \"Label\": 0, \"Class\": \"NORMAL\"}, {\"Sentence\": \" After eight-hour flight , headed straight Brooklyn Bridge , via heart city , Manhattan , reached foot \", \"Label\": 0, \"Class\": \"NORMAL\"}, {\"Sentence\": \" From fascinating view world-famous skyline , particularly impressive evening light \", \"Label\": 0, \"Class\": \"NORMAL\"}, {\"Sentence\": \" Due time difference , pupils go almost 24 hours , however , true slogan , &quot; city never sleeps &quot; , day rounded trip Times Square \", \"Label\": 0, \"Class\": \"NORMAL\"}, {\"Sentence\": \" In spite shutdown , able visit Statue Liberty second day , climb statue foot \", \"Label\": 0, \"Class\": \"NORMAL\"}, {\"Sentence\": \" They moved Financial District , via Wall Street , visit 9 / 11 memorial \", \"Label\": 0, \"Class\": \"NORMAL\"}, {\"Sentence\": \" On third day , pupils able take overview fascinating city viewing platform Empire State Building , enjoying views height 373 metres \", \"Label\": 0, \"Class\": \"NORMAL\"}, {\"Sentence\": \" They made way hustle bustle New York streets , via Rockerfeller Center , Central Park , provided perfect opportunity rest Autumn sun \", \"Label\": 0, \"Class\": \"NORMAL\"}, {\"Sentence\": \" Following short flight New York Boston , pupils arrived host families experiencing school day Weymouth High School \", \"Label\": 0, \"Class\": \"NORMAL\"}, {\"Sentence\": \"What happens e-mail transit ? E-mail short electronic mail\", \"Label\": 0, \"Class\": \"NORMAL\"}, {\"Sentence\": \" Are technical measures maintain privacy correspondence , similar traditional postal service , implemented design Internet-based service ? When designing early Internet services , focus lay making communication possible \", \"Label\": 0, \"Class\": \"NORMAL\"}, {\"Sentence\": \" Thus , developing underlying technical protocols , attention given creating stable foundation interception-proof exchange mail \", \"Label\": 0, \"Class\": \"NORMAL\"}, {\"Sentence\": \" For reason , traditional email like open postcard sealed letter \", \"Label\": 0, \"Class\": \"NORMAL\"}, {\"Sentence\": \" When user &quot; Anna &quot; sends email &quot; Benni &quot; , pair &apos;s computers directly connected ? Anna &apos;s email program browser first sends mail service provider &apos;s mail server \", \"Label\": 0, \"Class\": \"NORMAL\"}, {\"Sentence\": \" If Gmail account , example , would Google \", \"Label\": 0, \"Class\": \"NORMAL\"}, {\"Sentence\": \"This mail server sends content provider Benni uses\", \"Label\": 0, \"Class\": \"NORMAL\"}, {\"Sentence\": \" En route , mail pass number servers Internet \", \"Label\": 0, \"Class\": \"NORMAL\"}, {\"Sentence\": \"Benni call content provider\", \"Label\": 0, \"Class\": \"NORMAL\"}, {\"Sentence\": \"Are traditional e-mails read third parties journey net ? The majority e-mails read several times software robots en route recipient\", \"Label\": 0, \"Class\": \"NORMAL\"}, {\"Sentence\": \"Checks generally carried sender &apos;s provider whether mail contains malware attachment\", \"Label\": 0, \"Class\": \"NORMAL\"}, {\"Sentence\": \"A virus check also carried recipient systems\", \"Label\": 0, \"Class\": \"NORMAL\"}, {\"Sentence\": \" In addition , providers check whether nuisance unwanted spam mail , deleted immediately least sorted spam folder \", \"Label\": 0, \"Class\": \"NORMAL\"}, {\"Sentence\": \" Do robots tasks ? In case systems Gmail , robots also identify information Google requires displaying context-based advertising \", \"Label\": 0, \"Class\": \"NORMAL\"}, {\"Sentence\": \" If Anna Benni communicate upcoming holiday travels via Gmail , Google display corresponding links holiday offers \", \"Label\": 0, \"Class\": \"NORMAL\"}, {\"Sentence\": \"Do unknown individuals also read e-mails ? The probability unauthorised persons reading mail extremely low\", \"Label\": 0, \"Class\": \"NORMAL\"}, {\"Sentence\": \" However , theoretically , possible \", \"Label\": 0, \"Class\": \"NORMAL\"}, {\"Sentence\": \" Within companies , administrators often able read electronic mail sent \", \"Label\": 0, \"Class\": \"NORMAL\"}, {\"Sentence\": \"Law enforcement authorities Secret Services also legal authorisation intercept take note e-mails\", \"Label\": 0, \"Class\": \"NORMAL\"}, {\"Sentence\": \"This may include potential illegal spying activities\", \"Label\": 0, \"Class\": \"NORMAL\"}, {\"Sentence\": \" Is possible protect e-mails read ? With encryption using OpenPGP standard , e-mail effectively protected read \", \"Label\": 0, \"Class\": \"NORMAL\"}, {\"Sentence\": \" With great technical effort , also possible conceal metadata email communication even possible tell communicating \", \"Label\": 0, \"Class\": \"NORMAL\"}, {\"Sentence\": \" How important Yahoo Google within e-mail market Germany ? According study conducted Convios Consulting August 2013 , among main mail services private use , Yahoo Google play minor role \", \"Label\": 0, \"Class\": \"NORMAL\"}, {\"Sentence\": \" While number Yahoo Mail accounts fallen recently , Google &apos;s Gmail managed grow considerably \", \"Label\": 0, \"Class\": \"NORMAL\"}, {\"Sentence\": \" Konstanz: Road block following accident Sch\\u00e4nzle roundabout According police , accident occurred 51-year-old driver Swiss Seat Ibiza travelling town left lane two-lane Reichenaustrasse \", \"Label\": 0, \"Class\": \"NORMAL\"}, {\"Sentence\": \"Shortly Sch\\u00e4nzle roundabout noticed left-turn lane going direction Stromeyersdorfstra\\u00dfe moved across right lane\", \"Label\": 0, \"Class\": \"NORMAL\"}, {\"Sentence\": \" In , collided BMW 23-year-old Konstanz resident , travelling lane \", \"Label\": 0, \"Class\": \"NORMAL\"}, {\"Sentence\": \"The VW Passat 19-year-old driver travelling behind BMW also damaged\", \"Label\": 0, \"Class\": \"NORMAL\"}, {\"Sentence\": \" In total , EUR 15,000 material damage caused , announced police \", \"Label\": 0, \"Class\": \"NORMAL\"}, {\"Sentence\": \" The road blocked accident investigated , statement continued \", \"Label\": 0, \"Class\": \"NORMAL\"}, {\"Sentence\": \" Norway: Norwegian village lights huge mirrors Using huge mirrors , residents Norwegian village brought light dreary valley \", \"Label\": 0, \"Class\": \"NORMAL\"}, {\"Sentence\": \" Due low level sunshine , autumn spring village Rjukan Vestfjord valley normally languishes shadows surrounding mountains \", \"Label\": 0, \"Class\": \"NORMAL\"}, {\"Sentence\": \" With three gigantic mirrors , 45 metres tall , centuries-old dream came true Wednesday \", \"Label\": 0, \"Class\": \"NORMAL\"}, {\"Sentence\": \" &quot; Finally ! &apos; , raved Mayor Steinar Bergsland inaugural ceremony , televised broadcaster TV2 \", \"Label\": 0, \"Class\": \"NORMAL\"}, {\"Sentence\": \" Some valley residents lay back sun loungers , others safely put sunglasses \", \"Label\": 0, \"Class\": \"NORMAL\"}, {\"Sentence\": \" Up , hungry sunshine winter travel nearby peak cable car \", \"Label\": 0, \"Class\": \"NORMAL\"}, {\"Sentence\": \" Ten years ago , local artist Martin Andersen presented proposal directing sun valley using mirrors \", \"Label\": 0, \"Class\": \"NORMAL\"}, {\"Sentence\": \" However , basic idea talked location since 1913 \", \"Label\": 0, \"Class\": \"NORMAL\"}, {\"Sentence\": \" After several years debate , Town Council finally approved project , cost 5 million krone (around EUR 615,000)\", \"Label\": 0, \"Class\": \"NORMAL\"}, {\"Sentence\": \"A similar construction provided sunshine Italian alpine resort Viganella number years\", \"Label\": 0, \"Class\": \"NORMAL\"}, {\"Sentence\": \"Electricity become expensive Pfullendorf The citizens Pfullendorf adjust high electricity costs\", \"Label\": 0, \"Class\": \"NORMAL\"}, {\"Sentence\": \" As Managing Director municipal energy company , J\\u00f6rg-Arne Bias , confirmed S\\u00dcDKURIER , families four Pfullendorf receiving end price increase EUR 70 90 per year \", \"Label\": 0, \"Class\": \"NORMAL\"}, {\"Sentence\": \"One major reason upcoming price increase rise so-called EEC Levy 5\", \"Label\": 0, \"Class\": \"NORMAL\"}, {\"Sentence\": \"277 6\", \"Label\": 0, \"Class\": \"NORMAL\"}, {\"Sentence\": \"3 Cents per kilowatt hour\", \"Label\": 0, \"Class\": \"NORMAL\"}, {\"Sentence\": \" This levy reset four operators large power grids , October year \", \"Label\": 0, \"Class\": \"NORMAL\"}, {\"Sentence\": \" They estimate additional costs incur result &quot; energy turnaround &quot; , able recover means levy price electricity \", \"Label\": 0, \"Class\": \"NORMAL\"}, {\"Sentence\": \"The Pfullendorf municipal energy company forms last link chain\", \"Label\": 0, \"Class\": \"NORMAL\"}, {\"Sentence\": \" In projections , supervisory council energy company even assumed levy higher reported J\\u00f6rg-Arne Bias \", \"Label\": 0, \"Class\": \"NORMAL\"}, {\"Sentence\": \"The specific figures must calculated municipal energy cmpany inform customers precise price increase next week\", \"Label\": 0, \"Class\": \"NORMAL\"}, {\"Sentence\": \" &quot; We working assumption increase 1 cent plus x , &quot; said Bias , figure likely closer 2 cents \", \"Label\": 0, \"Class\": \"NORMAL\"}, {\"Sentence\": \"Beautiful animals delicious tarts entice The beautiful rabbits various breeds colourings presented District Exhibition weekend community centre\", \"Label\": 0, \"Class\": \"NORMAL\"}, {\"Sentence\": \"The evaluations already made Thursday\", \"Label\": 0, \"Class\": \"NORMAL\"}, {\"Sentence\": \" Once , W514 local association organising large exhibition \", \"Label\": 0, \"Class\": \"NORMAL\"}, {\"Sentence\": \" Here breeders clubs District Soest exhibiting best animals , young private individuals Wickeder also showing rabbits \", \"Label\": 0, \"Class\": \"NORMAL\"}, {\"Sentence\": \" On Thursday , six adjudicators assessed numerous rabbits able assign awards exceptional animals \", \"Label\": 0, \"Class\": \"NORMAL\"}, {\"Sentence\": \" The visitors show kept well informed , evaluations animals posted cages \", \"Label\": 0, \"Class\": \"NORMAL\"}, {\"Sentence\": \"Mayor Hermann Arndt officially opening exhibition 14: 30\", \"Label\": 0, \"Class\": \"NORMAL\"}, {\"Sentence\": \" The rabbit show , however , open visitors 10: 00 a\", \"Label\": 0, \"Class\": \"NORMAL\"}, {\"Sentence\": \"m\", \"Label\": 0, \"Class\": \"NORMAL\"}, {\"Sentence\": \"Saturday 10: 00 a\", \"Label\": 0, \"Class\": \"NORMAL\"}, {\"Sentence\": \"m\", \"Label\": 0, \"Class\": \"NORMAL\"}, {\"Sentence\": \"3:30 PM\", \"Label\": 0, \"Class\": \"NORMAL\"}, {\"Sentence\": \"m\", \"Label\": 0, \"Class\": \"NORMAL\"}, {\"Sentence\": \" Sunday , followed prize ceremony \", \"Label\": 0, \"Class\": \"NORMAL\"}, {\"Sentence\": \"Guests also invited take part tombola impressive prizes sample delicious food cafeteria\", \"Label\": 0, \"Class\": \"NORMAL\"}, {\"Sentence\": \" Iran satisfied nuclear negotiations process Iran expressed satisfaction negotiation process , one week next nuclear meeting five UN veto powers Germany \", \"Label\": 0, \"Class\": \"NORMAL\"}, {\"Sentence\": \" &quot; After many years , reached agreement International Nuclear Energy Authorities clear differences past years , &quot; wrote Foreign Minister Mohammed Dschawad Sarif Facebook page \", \"Label\": 0, \"Class\": \"NORMAL\"}, {\"Sentence\": \" It without doubt long path , chief nuclear negotiator satisfied negotiation process also optimistic sides come solution end \", \"Label\": 0, \"Class\": \"NORMAL\"}, {\"Sentence\": \" Haigerloch: Focus Abendmahlskirche As town &apos;s contribution 150th anniversary Protestant Church Haigerloch , town &apos;s Office Culture Tourism dedicate last year &apos;s public thematic tours Sunday 27 October Abendsmahlskirche (Church Holy Communion)\", \"Label\": 0, \"Class\": \"NORMAL\"}, {\"Sentence\": \" Following visit Nuclear Bunker Museum , focus turn Haigerloch period 1850 , Haigerloch came Prussian rule \", \"Label\": 0, \"Class\": \"NORMAL\"}, {\"Sentence\": \"The crowning glory visit Abendmahlskirche\", \"Label\": 0, \"Class\": \"NORMAL\"}, {\"Sentence\": \" There participants tour told story construction church gain insight development Protestant congregation , Catholic area \", \"Label\": 0, \"Class\": \"NORMAL\"}, {\"Sentence\": \" Last least , church eyes also turn last supper painting , painted Friedrich Sch\\u00fcz support Walter Kr\\u00f6ll Georg Halbritter \", \"Label\": 0, \"Class\": \"NORMAL\"}, {\"Sentence\": \"It faithful reproduction famous work Leonardo da Vinci Milan\", \"Label\": 0, \"Class\": \"NORMAL\"}, {\"Sentence\": \" The meeting point one half hour tour Nuclear Bunder Museum , 3: 00 p\", \"Label\": 0, \"Class\": \"NORMAL\"}, {\"Sentence\": \"m\", \"Label\": 0, \"Class\": \"NORMAL\"}, {\"Sentence\": \"Tickets available ticket office Nuclear Bunker Museum\", \"Label\": 0, \"Class\": \"NORMAL\"}, {\"Sentence\": \"The Haigerloch Town Tourist Office available questions provide information\", \"Label\": 0, \"Class\": \"NORMAL\"}, {\"Sentence\": \" China plea paper &apos; overhauled &apos; A Chinese newspaper made front-page appeal release reporter accused defamation overhauled , press regulator says \", \"Label\": 0, \"Class\": \"NORMAL\"}, {\"Sentence\": \"The Guangzhou-based New Express made rare public plea release journalist Chen Yongzhou\", \"Label\": 0, \"Class\": \"NORMAL\"}, {\"Sentence\": \"But Mr Chen subsequently admitted television taken bribes fabricate stories part state-owned company\", \"Label\": 0, \"Class\": \"NORMAL\"}, {\"Sentence\": \" Now New Express undergo &quot; full rectification , &quot; regulator said \", \"Label\": 0, \"Class\": \"NORMAL\"}, {\"Sentence\": \" The &quot; rectification &quot; order came Guangdong Administration Press Publication , Radio , Film Television \", \"Label\": 0, \"Class\": \"NORMAL\"}, {\"Sentence\": \"A preliminary investigation showed Yangcheng Evening News Group &apos;s New Express published several untrue reports listed company Zoomlion period September 2012 August 2013\", \"Label\": 0, \"Class\": \"NORMAL\"}, {\"Sentence\": \" &quot; New Express &apos;s editorial management disordered , &quot; regulator said statement \", \"Label\": 0, \"Class\": \"NORMAL\"}, {\"Sentence\": \"It said decided &quot; impose administrative penalty Chen Yongzhou revoking reporter &apos;s license\", \"Label\": 0, \"Class\": \"NORMAL\"}, {\"Sentence\": \" &quot; It also &quot; instructed Yangcheng Evening News Group undertake complete rectification New Express , recommended investigate relevant responsible persons New Express immediately revise New Express &apos;s leadership team \", \"Label\": 0, \"Class\": \"NORMAL\"}, {\"Sentence\": \"&quot; Mr Chen wrote several articles New Express alleging financial irregularities construction-equipment company called Zoomlion\", \"Label\": 0, \"Class\": \"NORMAL\"}, {\"Sentence\": \" After detained , newspaper published two front-page appeals release , saying backed journalism \", \"Label\": 0, \"Class\": \"NORMAL\"}, {\"Sentence\": \"But Mr Chen appeared state television admitting published false stories money\", \"Label\": 0, \"Class\": \"NORMAL\"}, {\"Sentence\": \" &quot; In case I &apos;ve caused damages Zoomlion also whole news media industry ability earn public &apos;s trust , &quot; told state broadcaster CCTV \", \"Label\": 0, \"Class\": \"NORMAL\"}, {\"Sentence\": \"I mainly I hankered money fame\", \"Label\": 0, \"Class\": \"NORMAL\"}, {\"Sentence\": \"I &apos;ve realised wrongdoing\", \"Label\": 0, \"Class\": \"NORMAL\"}, {\"Sentence\": \" Following Mr Chen &apos;s apology , New Express issued front-page apology , saying failed properly check reports \", \"Label\": 0, \"Class\": \"NORMAL\"}, {\"Sentence\": \"Several high-profile suspects made televised confessions recently\", \"Label\": 0, \"Class\": \"NORMAL\"}, {\"Sentence\": \" Experts say confessions still routinely coerced , despite change law earlier year banning authorities forcing anyone incriminate \", \"Label\": 0, \"Class\": \"NORMAL\"}, {\"Sentence\": \"Traffic lights permanently red: observe waiting time Sometimes traffic light simply never turns green\", \"Label\": 0, \"Class\": \"NORMAL\"}, {\"Sentence\": \" The contact loop road react , light defective \", \"Label\": 0, \"Class\": \"NORMAL\"}, {\"Sentence\": \" What - drive red ? If affected person waited sufficiently long period time red light , provided crossing clear , drive , explained Stuttgart-based lawyer Ralf Becker &quot; Motorrad &quot; (Motorcycle) magazine \", \"Label\": 0, \"Class\": \"NORMAL\"}, {\"Sentence\": \" The waiting time must , however , &quot; appropriate &quot; , interpreted differently case-to-case basis \", \"Label\": 0, \"Class\": \"NORMAL\"}, {\"Sentence\": \"Becker advises wait least five minutes fault traffic lights assumed\", \"Label\": 0, \"Class\": \"NORMAL\"}, {\"Sentence\": \" Anyone drives spite red light must , however , aware / fully liable resulting accident \", \"Label\": 0, \"Class\": \"NORMAL\"}, {\"Sentence\": \" Anyone waits less five minutes , certain circumstances , waited long enough , warned Becker , referring ruling Hamm Higher Regional Court \", \"Label\": 0, \"Class\": \"NORMAL\"}, {\"Sentence\": \" In case question , driver ignored light permanently red around three minutes held responsible negligently jumping red light \", \"Label\": 0, \"Class\": \"NORMAL\"}, {\"Sentence\": \" The traffic lights actually defective , rather turned green minutes later \", \"Label\": 0, \"Class\": \"NORMAL\"}, {\"Sentence\": \"He spared driving ban account special circumstances - spared fine\", \"Label\": 0, \"Class\": \"NORMAL\"}, {\"Sentence\": \" Halloween 2013: By Numbers When I little , Halloween magical \", \"Label\": 0, \"Class\": \"NORMAL\"}, {\"Sentence\": \" My sister I allowed eat candy , stay late play dress-up neighborhood \", \"Label\": 0, \"Class\": \"NORMAL\"}, {\"Sentence\": \" Nowadays , I &apos;ve become scrooge \", \"Label\": 0, \"Class\": \"NORMAL\"}, {\"Sentence\": \"I &apos;t signed past two years give candy apartment probably &apos;t year\", \"Label\": 0, \"Class\": \"NORMAL\"}, {\"Sentence\": \"But stats show I &apos;m black sheep comes Halloween\", \"Label\": 0, \"Class\": \"NORMAL\"}, {\"Sentence\": \" The majority Americans - 158 million fact - celebrating Halloween year , spending total $ 6\", \"Label\": 0, \"Class\": \"NORMAL\"}, {\"Sentence\": \"9 billion candy , costumes decorations , according National Retail Federation \", \"Label\": 0, \"Class\": \"NORMAL\"}, {\"Sentence\": \"One thing I look forward every Halloween trends\", \"Label\": 0, \"Class\": \"NORMAL\"}, {\"Sentence\": \"Costumes expected account $ 1\", \"Label\": 0, \"Class\": \"NORMAL\"}, {\"Sentence\": \"2 billion dollars $ 6\", \"Label\": 0, \"Class\": \"NORMAL\"}, {\"Sentence\": \"9 billion spent , according NRF \", \"Label\": 0, \"Class\": \"NORMAL\"}, {\"Sentence\": \" This year , sexy inanimate objects rage \", \"Label\": 0, \"Class\": \"NORMAL\"}, {\"Sentence\": \" Women &apos;t sexy professionals anymore; also sexy foods like pizza , hamburgers carrots \", \"Label\": 0, \"Class\": \"NORMAL\"}, {\"Sentence\": \" As men , I expect seeing lot zombies , thanks The Walking Dead I &apos;ll bet Daft Punk space men make Instagram feeds year \", \"Label\": 0, \"Class\": \"NORMAL\"}, {\"Sentence\": \" According Google , highest searched costumes zombies , Batman , pirates witches \", \"Label\": 0, \"Class\": \"NORMAL\"}, {\"Sentence\": \"I guess &apos;s nothing wrong going traditional\", \"Label\": 0, \"Class\": \"NORMAL\"}, {\"Sentence\": \"We dressed dogs last year amazement alone\", \"Label\": 0, \"Class\": \"NORMAL\"}, {\"Sentence\": \" In fact , Americans spend $ 330 million pet costumes year , according NRF \", \"Label\": 0, \"Class\": \"NORMAL\"}, {\"Sentence\": \"That &apos;s lot ironic hotdog dogs\", \"Label\": 0, \"Class\": \"NORMAL\"}, {\"Sentence\": \" When comes candy , &apos;t screw around \", \"Label\": 0, \"Class\": \"NORMAL\"}, {\"Sentence\": \"Americans spend $ 1\", \"Label\": 0, \"Class\": \"NORMAL\"}, {\"Sentence\": \"9 billion year , according The Nielsen Company \", \"Label\": 0, \"Class\": \"NORMAL\"}, {\"Sentence\": \" That &apos;s around 600 million pounds worth Hershey bars , lollipops , Milk Duds , Twizzlers Clark Bars \", \"Label\": 0, \"Class\": \"NORMAL\"}, {\"Sentence\": \" That &apos;s great news 41 million trick-or-treaters set take neighborhoods , according U\", \"Label\": 0, \"Class\": \"NORMAL\"}, {\"Sentence\": \"S\", \"Label\": 0, \"Class\": \"NORMAL\"}, {\"Sentence\": \"Commerce Department\", \"Label\": 0, \"Class\": \"NORMAL\"}, {\"Sentence\": \" In fact , buy , kidding , consume 90 million pounds chocolate Halloween \", \"Label\": 0, \"Class\": \"NORMAL\"}, {\"Sentence\": \" The one thing &apos;t want consume , candy corn; yet nearly 35 million pounds sold around Halloween , according National Confectioners Association \", \"Label\": 0, \"Class\": \"NORMAL\"}, {\"Sentence\": \"That &apos;s 9 billion individual kernels corn\", \"Label\": 0, \"Class\": \"NORMAL\"}, {\"Sentence\": \"It &apos;s mystery I yet solve\", \"Label\": 0, \"Class\": \"NORMAL\"}, {\"Sentence\": \"Nothing quintessentially Halloween haunted houses\", \"Label\": 0, \"Class\": \"NORMAL\"}, {\"Sentence\": \" They best names , like &quot; Terror Behind Walls &quot; (which , way actual prison), &quot; Howl-O-Scream &quot; &quot; The House Shock \", \"Label\": 0, \"Class\": \"NORMAL\"}, {\"Sentence\": \" &quot; In fact , 1,200 officially sanctioned haunted houses United States generating $ 500 million revenue , according America Haunts , includes awesome photos mid-peeing pants friend puts Facebook &apos;t take guy like sees photo leaves comment like &quot; nice face \", \"Label\": 0, \"Class\": \"NORMAL\"}, {\"Sentence\": \" &quot; Finally , let &apos;s talk pumpkins \", \"Label\": 0, \"Class\": \"NORMAL\"}, {\"Sentence\": \" Charlie Brown introduced us The Great Pumpkin kids , carving jack-o-lantern like decorating Christmas tree - &apos;s something &apos;ve done since little \", \"Label\": 0, \"Class\": \"NORMAL\"}, {\"Sentence\": \" Lucky us , &quot; baby pumpkin trend &quot; started last year thanks Pinterest , us grew carving gourds sitting \", \"Label\": 0, \"Class\": \"NORMAL\"}, {\"Sentence\": \" This year , Americans spend around $ 106 million pumpkins , according U\", \"Label\": 0, \"Class\": \"NORMAL\"}, {\"Sentence\": \"S\", \"Label\": 0, \"Class\": \"NORMAL\"}, {\"Sentence\": \"Census Bureau\", \"Label\": 0, \"Class\": \"NORMAL\"}, {\"Sentence\": \" The jack-o-lantern slowly withering front porch probably came Illinois , grew 542 million pounds pumpkin year \", \"Label\": 0, \"Class\": \"NORMAL\"}, {\"Sentence\": \" If &apos;re looking extra credit , call Tim Susan Mathisdon Napa , Calif \", \"Label\": 0, \"Class\": \"NORMAL\"}, {\"Sentence\": \" , try carve 2,032 pound pumpkin \", \"Label\": 0, \"Class\": \"NORMAL\"}, {\"Sentence\": \"Stock exchange operator Nasdaq OMX keeps customers tenterhooks\", \"Label\": 0, \"Class\": \"NORMAL\"}, {\"Sentence\": \" Trading Nasdaq Options Market interrupted Friday afternoon , German time \", \"Label\": 0, \"Class\": \"NORMAL\"}, {\"Sentence\": \" In announcement , operator cited technical problems reason \", \"Label\": 0, \"Class\": \"NORMAL\"}, {\"Sentence\": \" On eleven options markets , including two also operated Nasdaq OMX , business continued normal \", \"Label\": 0, \"Class\": \"NORMAL\"}, {\"Sentence\": \"The recent incident latest series small large breakdowns suffered stock exchange operator\", \"Label\": 0, \"Class\": \"NORMAL\"}, {\"Sentence\": \" As recently last Tuesday , Nasdaq indices calculated one hour due data transfer errors \", \"Label\": 0, \"Class\": \"NORMAL\"}, {\"Sentence\": \"In August year two breakdowns single week\", \"Label\": 0, \"Class\": \"NORMAL\"}, {\"Sentence\": \" First , US investment bank Goldman Sachs sent large quantities incorrect purchase orders options markets due technical problems \", \"Label\": 0, \"Class\": \"NORMAL\"}, {\"Sentence\": \" As result , stock exchange operators required almost entire day look delete orders \", \"Label\": 0, \"Class\": \"NORMAL\"}, {\"Sentence\": \" Two days later , half stock dealing USA came standstill several hours , due computer failure Nasdaq exchange \", \"Label\": 0, \"Class\": \"NORMAL\"}, {\"Sentence\": \" Furthermore , last year listing Facebook stock exchange caused quite furore \", \"Label\": 0, \"Class\": \"NORMAL\"}, {\"Sentence\": \" The Nasdaq systems could cope flood purchase sales orders , Exchange Supervisory Authority established later date , imposing record penalty 10 million dollars company \", \"Label\": 0, \"Class\": \"NORMAL\"}, {\"Sentence\": \"Piercing beep disturbs residents Rhenus Midgard also invested highly land They stockpile coal arrives ships\", \"Label\": 0, \"Class\": \"NORMAL\"}, {\"Sentence\": \" At time , company also irons fire location \", \"Label\": 0, \"Class\": \"NORMAL\"}, {\"Sentence\": \" Besides coal imports , Rhenus Midgard also active field wind park logistics , among ventures \", \"Label\": 0, \"Class\": \"NORMAL\"}, {\"Sentence\": \"The coals shimmer black storage yard front embankment\", \"Label\": 0, \"Class\": \"NORMAL\"}, {\"Sentence\": \"Here two huge blue stacker reclaimer machines distribute load coals required\", \"Label\": 0, \"Class\": \"NORMAL\"}, {\"Sentence\": \" With movement handling machines , shrill warning noise rings site \", \"Label\": 0, \"Class\": \"NORMAL\"}, {\"Sentence\": \" &quot; The signals purpose security legally prescribed , &quot; said Matthias Schrell , Managing Director Rhenus Midgard Wilhelmshaven \", \"Label\": 0, \"Class\": \"NORMAL\"}, {\"Sentence\": \" Unfortunately , event unfavourable wind , heard far away - result already number complaints people north town \", \"Label\": 0, \"Class\": \"NORMAL\"}, {\"Sentence\": \"The 40-year-old said taking complaints seriously therefore touch affected\", \"Label\": 0, \"Class\": \"NORMAL\"}, {\"Sentence\": \" In close consultation authorities , position make warning signals quieter means implementation technical measures \", \"Label\": 0, \"Class\": \"NORMAL\"}, {\"Sentence\": \"In future also seek open dialogue neighbours\", \"Label\": 0, \"Class\": \"NORMAL\"}, {\"Sentence\": \"For Matthias Schrell plans location\", \"Label\": 0, \"Class\": \"NORMAL\"}, {\"Sentence\": \" With construction Lower Saxony Bridge , Rhenus Midgard continuing focus coal exports power stations one major powers sector Europe \", \"Label\": 0, \"Class\": \"NORMAL\"}, {\"Sentence\": \" Thanks mooring basin front terminal , sunken depth 18\", \"Label\": 0, \"Class\": \"NORMAL\"}, {\"Sentence\": \"5 metres , time possible unload Capesize bulk carriers \", \"Label\": 0, \"Class\": \"NORMAL\"}, {\"Sentence\": \" &quot; In terms handling , year hope break 3 million tonne mark , &quot; said Schrell \", \"Label\": 0, \"Class\": \"NORMAL\"}, {\"Sentence\": \" Alongside local Eon power plant , imported coals also go power plants inland \", \"Label\": 0, \"Class\": \"NORMAL\"}, {\"Sentence\": \" When GDF-Suez plant added network , around 5 million tonnes coal imports per year realistic \", \"Label\": 0, \"Class\": \"NORMAL\"}, {\"Sentence\": \"The three ship unloaders bridge second transport belt could see rise 10 million\", \"Label\": 0, \"Class\": \"NORMAL\"}, {\"Sentence\": \" Anger Bali bomb plotter &apos;s sentence Survivors relatives 202 people killed 2002 Bali bombing reacted anger sentence given last plotters face justice , saying Umar Patek face firing squad \", \"Label\": 0, \"Class\": \"NORMAL\"}, {\"Sentence\": \" Patek , spent almost 10 years run one South-East Asia &apos;s wanted , yesterday sentenced 20 years jail role building explosive devices used bombing \", \"Label\": 0, \"Class\": \"NORMAL\"}, {\"Sentence\": \"He could released within 15 years granted parole\", \"Label\": 0, \"Class\": \"NORMAL\"}, {\"Sentence\": \" The 45-year-old found guilty mass murder attack two nightclubs popular tourist area Kuta left 202 people dead , including 88 Australians , injured scores \", \"Label\": 0, \"Class\": \"NORMAL\"}, {\"Sentence\": \" He also found guilty number terrorism-related charges , including wave bombings churches across Indonesia Christmas Eve 2000 \", \"Label\": 0, \"Class\": \"NORMAL\"}, {\"Sentence\": \" Prosecutors demanded life sentence , although could pushed man dubbed &quot; Demolition Man &quot; reputation master bomb-maker sentenced death \", \"Label\": 0, \"Class\": \"NORMAL\"}, {\"Sentence\": \" The decision reignited painful memories Perth mother June Corteen , lost 39-year-old twin daughters Jane Jenny destruction unleashed Patek co-conspirators almost decade ago \", \"Label\": 0, \"Class\": \"NORMAL\"}, {\"Sentence\": \" Fighting back tears , said Patek sentenced death \", \"Label\": 0, \"Class\": \"NORMAL\"}, {\"Sentence\": \"I really feel follow footsteps guys\", \"Label\": 0, \"Class\": \"NORMAL\"}, {\"Sentence\": \" &quot; He put front firing squad , &quot; Ms Corteen told AAP \", \"Label\": 0, \"Class\": \"NORMAL\"}, {\"Sentence\": \" I live every day without seeing grandchildren , daughters \", \"Label\": 0, \"Class\": \"NORMAL\"}, {\"Sentence\": \" The Sari Club levelled massive bomb loaded van parked outside detonated 11pm October 12 , 2002 \", \"Label\": 0, \"Class\": \"NORMAL\"}, {\"Sentence\": \"Peter Hughes Paddy &apos;s Bar suicide bomber detonated backpack loaded explosives 20 seconds earlier\", \"Label\": 0, \"Class\": \"NORMAL\"}, {\"Sentence\": \" He lapsed month-long coma wake bombing , &quot; died &quot; three times life support \", \"Label\": 0, \"Class\": \"NORMAL\"}, {\"Sentence\": \" Mr Hughes said Patek shared fate three members Jemaah Islamiah terror cell responsible carnage - Amrozi , Mukhlas Imam Samudra - executed four years ago \", \"Label\": 0, \"Class\": \"NORMAL\"}, {\"Sentence\": \" Really , guy get death penalty anybody \", \"Label\": 0, \"Class\": \"NORMAL\"}, {\"Sentence\": \" To keep alive , well , &apos;s reason keep alive \", \"Label\": 0, \"Class\": \"NORMAL\"}, {\"Sentence\": \" To get 20 years , killing 202 people injuring many hundreds , &apos;s much \", \"Label\": 0, \"Class\": \"NORMAL\"}, {\"Sentence\": \"Patek last Bali bombers face justice\", \"Label\": 0, \"Class\": \"NORMAL\"}, {\"Sentence\": \" He avoided capture almost decade eventually apprehended January 2011 Pakistani town Abbottabad , US forces killed former al-Qaeda chief Osama bin Laden less four months later \", \"Label\": 0, \"Class\": \"NORMAL\"}, {\"Sentence\": \" During trial , FBI agent testified intelligence reports revealed Patek Pakistan meet bin Laden effort re-establish links South-East Asian terrorist groups al-Qaeda \", \"Label\": 0, \"Class\": \"NORMAL\"}, {\"Sentence\": \" &quot; He &apos;t give , &quot; Ms Corteen said \", \"Label\": 0, \"Class\": \"NORMAL\"}, {\"Sentence\": \" Until recently , really &apos;t feel sorry much grief caused people \", \"Label\": 0, \"Class\": \"NORMAL\"}, {\"Sentence\": \" The verdict comes ahead 10th anniversary attack later year , marked ceremonies Bali Australia \", \"Label\": 0, \"Class\": \"NORMAL\"}, {\"Sentence\": \" &quot; There lot tears year , &quot; Ms Corteen said \", \"Label\": 0, \"Class\": \"NORMAL\"}, {\"Sentence\": \"Patek may yet appeal sentence\", \"Label\": 0, \"Class\": \"NORMAL\"}, {\"Sentence\": \"Nothing beats Germany property location national international investors\", \"Label\": 0, \"Class\": \"NORMAL\"}, {\"Sentence\": \" The economic situation right , financing options fantastic \", \"Label\": 0, \"Class\": \"NORMAL\"}, {\"Sentence\": \"This message 9th &apos; Immobilientag &apos; (Property Day) organised B\\u00f6rsen Zeitung (stock exchange newspaper)\", \"Label\": 0, \"Class\": \"NORMAL\"}, {\"Sentence\": \" The German property markets benefiting country &apos;s economic strength general conditions , compared rest Europe , competitive \", \"Label\": 0, \"Class\": \"NORMAL\"}, {\"Sentence\": \" This pointed Christian Ulbrich , Jones Lang LaSalle CEO Europe , Near East Africa , 9th &apos; Immobilientag &apos; (Property Day) organised B\\u00f6rsen Zeitung (stock exchange newspaper)\", \"Label\": 0, \"Class\": \"NORMAL\"}, {\"Sentence\": \" The extent German commercial properties sought evident transaction volumes , said Ulbrich \", \"Label\": 0, \"Class\": \"NORMAL\"}, {\"Sentence\": \" In first three quarters year , increase 31% compared period year \", \"Label\": 0, \"Class\": \"NORMAL\"}, {\"Sentence\": \" In Great Britain , growth stands 6% , France 19% \", \"Label\": 0, \"Class\": \"NORMAL\"}, {\"Sentence\": \" &quot; Property investments offer attractive rate return , &quot; said Ulbrich \", \"Label\": 0, \"Class\": \"NORMAL\"}, {\"Sentence\": \"The yield gap properties federal government bonds historically high level\", \"Label\": 0, \"Class\": \"NORMAL\"}, {\"Sentence\": \" Sayings come Bible At least 40 women attended last women &apos;s breakfast year , Evangelical Parish Bisingen \", \"Label\": 0, \"Class\": \"NORMAL\"}, {\"Sentence\": \"The theme day parish hall &quot; Sayings Bible &quot; &quot; Expressions Middle Ages &quot;\", \"Label\": 0, \"Class\": \"NORMAL\"}, {\"Sentence\": \" Zita K\\u00f6hler , Chairperson Parish Council , agreed give talk Biblical proverbs breakfast \", \"Label\": 0, \"Class\": \"NORMAL\"}, {\"Sentence\": \" &quot; Proverbs contain pearls wisdom , commandments warnings , &quot; explained \", \"Label\": 0, \"Class\": \"NORMAL\"}, {\"Sentence\": \"She compared several German sayings corresponding Bible verses explained meaning\", \"Label\": 0, \"Class\": \"NORMAL\"}, {\"Sentence\": \" She referred sayings as: &quot; Holzauge sei wachsam &quot; (keep eyes peeled), &quot; wie Schuppen von den Augen fallen &quot; (like scales falling one &apos;s eyes), &quot; ein Auge auf jemand werfen &quot; (to cast eye someone), &quot; den Seinen gibt &apos;s der Herr im Schlaf &quot; (good things come sleep) &quot; seine H\\u00e4nde Unschuld waschen &quot; (to wash one &apos;s hands something)\", \"Label\": 0, \"Class\": \"NORMAL\"}, {\"Sentence\": \" On several occasions , speaker asked listening guess proverb based \", \"Label\": 0, \"Class\": \"NORMAL\"}, {\"Sentence\": \" Expressions Middle Ages addressed Parish Councillor Christel Dehner: &quot; Aller guten Dinge sind drei &quot; (All good things come threes), &quot; blau machen &quot; (to skip school / work), &quot; etwas verhauen &quot; (to wallop something)\", \"Label\": 0, \"Class\": \"NORMAL\"}, {\"Sentence\": \" She explained meaning origin expressions , referred &quot; bridges past &quot; \", \"Label\": 0, \"Class\": \"NORMAL\"}, {\"Sentence\": \"To round morning tombola\", \"Label\": 0, \"Class\": \"NORMAL\"}, {\"Sentence\": \" The prizes placed , covered , table humorously paraphrased prior presented winners \", \"Label\": 0, \"Class\": \"NORMAL\"}, {\"Sentence\": \"Mayoral candidate Roman Waizenegger also found among visitors joint breakfast\", \"Label\": 0, \"Class\": \"NORMAL\"}, {\"Sentence\": \" On last weekend August , Vogtsbauernhof Black Forest Open Air Museum Gutach near Hornberg firmly hands children \", \"Label\": 0, \"Class\": \"NORMAL\"}, {\"Sentence\": \" Traditionally , museum welcomes visitors Saturday Sunday , year 24 25 August , colourful party children families part summer holiday programme , numerous participation activities events \", \"Label\": 0, \"Class\": \"NORMAL\"}, {\"Sentence\": \" &quot; On days , adults children alike learn various traditional handicrafts , &quot; said press release \", \"Label\": 0, \"Class\": \"NORMAL\"}, {\"Sentence\": \" Whether producing soap , turning candles , felting making silk , suitable activity whatever age \", \"Label\": 0, \"Class\": \"NORMAL\"}, {\"Sentence\": \" The children receive help regional artisans , present 11\", \"Label\": 0, \"Class\": \"NORMAL\"}, {\"Sentence\": \"12:00 AM\", \"Label\": 0, \"Class\": \"NORMAL\"}, {\"Sentence\": \"m\", \"Label\": 0, \"Class\": \"NORMAL\"}, {\"Sentence\": \"5:00 PM\", \"Label\": 0, \"Class\": \"NORMAL\"}, {\"Sentence\": \"m\", \"Label\": 0, \"Class\": \"NORMAL\"}, {\"Sentence\": \"Activities also taking place museum workshop\", \"Label\": 0, \"Class\": \"NORMAL\"}, {\"Sentence\": \" The young guests able demonstrate manual skills building cuckoo pipes , water wheels spinning tops \", \"Label\": 0, \"Class\": \"NORMAL\"}, {\"Sentence\": \" The host old games , wheelbarrow racing walking stilts , promises plenty fun \", \"Label\": 0, \"Class\": \"NORMAL\"}, {\"Sentence\": \"Here speed coordination order day\", \"Label\": 0, \"Class\": \"NORMAL\"}, {\"Sentence\": \" For miniature detectives , open air museum offering mystery tour museum Saturday Sunday , midday 2\", \"Label\": 0, \"Class\": \"NORMAL\"}, {\"Sentence\": \"12:00 PM\", \"Label\": 0, \"Class\": \"NORMAL\"}, {\"Sentence\": \"m\", \"Label\": 0, \"Class\": \"NORMAL\"}, {\"Sentence\": \"respectively\", \"Label\": 0, \"Class\": \"NORMAL\"}, {\"Sentence\": \" On tour premises , children work stories true made \", \"Label\": 0, \"Class\": \"NORMAL\"}, {\"Sentence\": \" In addition , visitors special opportunity get know open air museum carriage journey drawn Black Forest Chestnut horses \", \"Label\": 0, \"Class\": \"NORMAL\"}, {\"Sentence\": \" It horses found admired grounds , many animals sheep , goats , cows chickens well \", \"Label\": 0, \"Class\": \"NORMAL\"}, {\"Sentence\": \" On Sunday children also able enjoy clown , Otsch , pranks museum guests 11\", \"Label\": 0, \"Class\": \"NORMAL\"}, {\"Sentence\": \"12:00 AM\", \"Label\": 0, \"Class\": \"NORMAL\"}, {\"Sentence\": \"m\", \"Label\": 0, \"Class\": \"NORMAL\"}, {\"Sentence\": \" Meanwhile , cosy magical alternative provided Hermann B\\u00fcttner \", \"Label\": 0, \"Class\": \"NORMAL\"}, {\"Sentence\": \"The story-teller taking younger guests wonderful world fairytale 11\", \"Label\": 0, \"Class\": \"NORMAL\"}, {\"Sentence\": \"12:00 AM\", \"Label\": 0, \"Class\": \"NORMAL\"}, {\"Sentence\": \"m\", \"Label\": 0, \"Class\": \"NORMAL\"}, {\"Sentence\": \" , 1: 00 p\", \"Label\": 0, \"Class\": \"NORMAL\"}, {\"Sentence\": \"m\", \"Label\": 0, \"Class\": \"NORMAL\"}, {\"Sentence\": \"3:00 PM\", \"Label\": 0, \"Class\": \"NORMAL\"}, {\"Sentence\": \"m\", \"Label\": 0, \"Class\": \"NORMAL\"}, {\"Sentence\": \"The traditional children &apos;s dance group Gutach also performing 11: 30 a\", \"Label\": 0, \"Class\": \"NORMAL\"}, {\"Sentence\": \"m\", \"Label\": 0, \"Class\": \"NORMAL\"}, {\"Sentence\": \" Furthermore , event days , 11\", \"Label\": 0, \"Class\": \"NORMAL\"}, {\"Sentence\": \"12:00 AM\", \"Label\": 0, \"Class\": \"NORMAL\"}, {\"Sentence\": \"m\", \"Label\": 0, \"Class\": \"NORMAL\"}, {\"Sentence\": \"5\", \"Label\": 0, \"Class\": \"NORMAL\"}, {\"Sentence\": \"12:00 PM\", \"Label\": 0, \"Class\": \"NORMAL\"}, {\"Sentence\": \"m\", \"Label\": 0, \"Class\": \"NORMAL\"}, {\"Sentence\": \" , numerous artisans broom maker , sewer , spinner , weaver baker letting visitors look shoulders \", \"Label\": 0, \"Class\": \"NORMAL\"}, {\"Sentence\": \" So , visitors open air museum expect varied holiday programme right end summer holidays Baden-Wuerttemberg \", \"Label\": 0, \"Class\": \"NORMAL\"}, {\"Sentence\": \" An overview milk egg alternatives Vegan nutrition promotes vegetable alternatives eggs , milk dairy products \", \"Label\": 0, \"Class\": \"NORMAL\"}, {\"Sentence\": \" Mashed tofu plant cream , example , serves substitute quark cheese \", \"Label\": 0, \"Class\": \"NORMAL\"}, {\"Sentence\": \"The Vegetarian Association provide examples World Vegan Day 1 November\", \"Label\": 0, \"Class\": \"NORMAL\"}, {\"Sentence\": \" On occasion World vegan Day 1 November , Vegetarian Association Germany propose host vegan alternatives: Pure plant margarine good alternative butter , yoghurt replaced soya yoghurt \", \"Label\": 0, \"Class\": \"NORMAL\"}, {\"Sentence\": \" Soya , oat , almond rice milk used place milk \", \"Label\": 0, \"Class\": \"NORMAL\"}, {\"Sentence\": \"Plant whipping cream replace traditional whipping cream\", \"Label\": 0, \"Class\": \"NORMAL\"}, {\"Sentence\": \"There also plant alternatives eggs\", \"Label\": 0, \"Class\": \"NORMAL\"}, {\"Sentence\": \" Half mashed , ripe banana , example , replace egg binding agent cake \", \"Label\": 0, \"Class\": \"NORMAL\"}, {\"Sentence\": \"50 grams apple sauce tablespoon ground linseed plus three tablespoons water also suitable\", \"Label\": 0, \"Class\": \"NORMAL\"}, {\"Sentence\": \" A dough becomes fluffy replacing egg mixture one tablespoon baking powder , one tablespoon cornflour three tablespoons mineral water , example \", \"Label\": 0, \"Class\": \"NORMAL\"}, {\"Sentence\": \"50 grams soya yoghurt silken tofu also fulfil purpose\", \"Label\": 0, \"Class\": \"NORMAL\"}, {\"Sentence\": \" According information Vegetarian Association , around 800,000 Germans currently vegan diet , i\", \"Label\": 0, \"Class\": \"NORMAL\"}, {\"Sentence\": \"e\", \"Label\": 0, \"Class\": \"NORMAL\"}, {\"Sentence\": \"100% vegetable diet\", \"Label\": 0, \"Class\": \"NORMAL\"}, {\"Sentence\": \"John Kerry says US spying &quot; reached far inappropriately &quot; unprecedented admission John Kerry indicated softening U\", \"Label\": 0, \"Class\": \"NORMAL\"}, {\"Sentence\": \"S &apos;s defensive stance surveillance programmes unprecedented admission occasions spying &quot; reached far inappropriately\", \"Label\": 0, \"Class\": \"NORMAL\"}, {\"Sentence\": \" &quot; The Secretary State also admitted &apos;d guilty , along Barack Obama , &quot; automatic pilot &quot; incendiary revelations whistleblower Edward Snowden NSA &apos;s spying activities emerged \", \"Label\": 0, \"Class\": \"NORMAL\"}, {\"Sentence\": \"The leaks put US government centre diplomatic storm allies\", \"Label\": 0, \"Class\": \"NORMAL\"}, {\"Sentence\": \" Speaking open government conference London via video link , Mr Kerry said: &quot; There question President I others government actually learned things happening automatic pilot ability , going back World War Two difficult years Cold War , , course , 9 / 11 \", \"Label\": 0, \"Class\": \"NORMAL\"}, {\"Sentence\": \"&quot; He became first high-ranking member U\", \"Label\": 0, \"Class\": \"NORMAL\"}, {\"Sentence\": \"S government admit US spying crossed line , emphasised one &apos;s rights abused \", \"Label\": 0, \"Class\": \"NORMAL\"}, {\"Sentence\": \" He said: &quot; In cases , reached far inappropriately \", \"Label\": 0, \"Class\": \"NORMAL\"}, {\"Sentence\": \"&quot; And President determined try clarify make clear people thorough review order nobody sense abuse\", \"Label\": 0, \"Class\": \"NORMAL\"}, {\"Sentence\": \"I assure innocent people abused process\", \"Label\": 0, \"Class\": \"NORMAL\"}, {\"Sentence\": \" Mr Kerry insisted , however , NSA force good surveillance operations saved many lives \", \"Label\": 0, \"Class\": \"NORMAL\"}, {\"Sentence\": \"He added: &quot; We &apos;re dealing new world people willing blow\", \"Label\": 0, \"Class\": \"NORMAL\"}, {\"Sentence\": \"&quot; There radical extremism world hell-bent determined try kill people blow people attack governments\", \"Label\": 0, \"Class\": \"NORMAL\"}, {\"Sentence\": \" So able intercept stop happens ? We actually prevented airplanes going , buildings blown , people assassinated &apos;ve able learn ahead time plans \", \"Label\": 0, \"Class\": \"NORMAL\"}, {\"Sentence\": \" Meanwhile , U\", \"Label\": 0, \"Class\": \"NORMAL\"}, {\"Sentence\": \"S\", \"Label\": 0, \"Class\": \"NORMAL\"}, {\"Sentence\": \"lawmakers head Europe help address concerns abroad alleged U\", \"Label\": 0, \"Class\": \"NORMAL\"}, {\"Sentence\": \"S\", \"Label\": 0, \"Class\": \"NORMAL\"}, {\"Sentence\": \"spying convince Europeans need continue joint anti-terrorism efforts U\", \"Label\": 0, \"Class\": \"NORMAL\"}, {\"Sentence\": \"S\", \"Label\": 0, \"Class\": \"NORMAL\"}, {\"Sentence\": \" , chairman Senate subcommittee European affairs said Thursday \", \"Label\": 0, \"Class\": \"NORMAL\"}, {\"Sentence\": \"Senator Chris Murphy Connecticut said spoke European Parliament members others week concerned threats stop participating anti-terrorist organizations frustration surveillance National Security Agency\", \"Label\": 0, \"Class\": \"NORMAL\"}, {\"Sentence\": \"&quot; It &apos;s really important U\", \"Label\": 0, \"Class\": \"NORMAL\"}, {\"Sentence\": \"S\", \"Label\": 0, \"Class\": \"NORMAL\"}, {\"Sentence\": \" national security interests Europeans stay board us respect mutual anti-terrorism endeavors , &quot; Murphy , first-term Democrat chairman Senate Foreign Relations Subcommittee European Affairs , said interview Washington \", \"Label\": 0, \"Class\": \"NORMAL\"}, {\"Sentence\": \" And I &apos;m going Europe make clear need continue work together combatting terrorism , notwithstanding anger NSA programs \", \"Label\": 0, \"Class\": \"NORMAL\"}, {\"Sentence\": \"News reports NSA swept millions phone records Europe frayed relations U\", \"Label\": 0, \"Class\": \"NORMAL\"}, {\"Sentence\": \"S\", \"Label\": 0, \"Class\": \"NORMAL\"}, {\"Sentence\": \" allies , though agency &apos;s chief said week inaccurate reflected misunderstanding metadata Nato allies collected shared United States \", \"Label\": 0, \"Class\": \"NORMAL\"}, {\"Sentence\": \"Other revelations cited documents leaked Snowden NSA monitored German Chancellor Angela Merkel &apos;s cellphone 34 world leaders\", \"Label\": 0, \"Class\": \"NORMAL\"}, {\"Sentence\": \" The national intelligence director , James Clapper , defended spying allies necessary said &apos;s commonplace sides \", \"Label\": 0, \"Class\": \"NORMAL\"}, {\"Sentence\": \" Amid uproar , Murphy said office arranging congressional trip , expected take place year , hopes delegation include members parties chambers \", \"Label\": 0, \"Class\": \"NORMAL\"}, {\"Sentence\": \"Names participating lawmakers released coming days\", \"Label\": 0, \"Class\": \"NORMAL\"}, {\"Sentence\": \"He said itinerary still worked\", \"Label\": 0, \"Class\": \"NORMAL\"}, {\"Sentence\": \" While Murphy said purpose trip help improve relationships , said &quot; tough love &quot; also dispensed \", \"Label\": 0, \"Class\": \"NORMAL\"}, {\"Sentence\": \"He said European leaders need honest people kind espionage programs &apos;ve used years\", \"Label\": 0, \"Class\": \"NORMAL\"}, {\"Sentence\": \" &quot; While amend surveillance programs better protect rights Europeans , also need come terms fact &apos;re ones spying , &quot; Murphy said \", \"Label\": 0, \"Class\": \"NORMAL\"}, {\"Sentence\": \" Meanwhile , Mr Kerry scheduled head weekend Middle East Poland address rancor U\", \"Label\": 0, \"Class\": \"NORMAL\"}, {\"Sentence\": \"S\", \"Label\": 0, \"Class\": \"NORMAL\"}, {\"Sentence\": \" strategies Syria , Egypt Iran well U\", \"Label\": 0, \"Class\": \"NORMAL\"}, {\"Sentence\": \"S\", \"Label\": 0, \"Class\": \"NORMAL\"}, {\"Sentence\": \"surveillance activities\", \"Label\": 0, \"Class\": \"NORMAL\"}, {\"Sentence\": \" Union SPD continued coalition negotiations , addressing topics internal affairs justice \", \"Label\": 0, \"Class\": \"NORMAL\"}, {\"Sentence\": \" To end , competent working group met morning \", \"Label\": 0, \"Class\": \"NORMAL\"}, {\"Sentence\": \" Among issues , topics discussed included direct democracy , bribery MPs Federal Police \", \"Label\": 0, \"Class\": \"NORMAL\"}, {\"Sentence\": \" During morning , Migration Integration working group also sought continue discussions \", \"Label\": 0, \"Class\": \"NORMAL\"}, {\"Sentence\": \" Among issues addressed dual nationality , regard sides opposing ideas \", \"Label\": 0, \"Class\": \"NORMAL\"}, {\"Sentence\": \"The SPD would like put end pressure placed immigrant children decide one nationality - Union rejects notion dual passport\", \"Label\": 0, \"Class\": \"NORMAL\"}, {\"Sentence\": \" Regarding subject traffic , agenda Friday , SPD substantiated opposition car toll charge promoted CSU \", \"Label\": 0, \"Class\": \"NORMAL\"}, {\"Sentence\": \" A toll road sticker would amount &quot; flat rate fee frequent drivers would thus environmentally counterproductive , &quot; explained SPD negotiator issues relating traffic , Florian Pronold , letter parliamentary group \", \"Label\": 0, \"Class\": \"NORMAL\"}, {\"Sentence\": \" There would threat diverted traffic country roads , already accident hotspots \", \"Label\": 0, \"Class\": \"NORMAL\"}, {\"Sentence\": \" The introduction toll cars would also first step , Pronold &apos;s eyes \", \"Label\": 0, \"Class\": \"NORMAL\"}, {\"Sentence\": \" &quot; There risk compensation Germans would abolished later point time , &quot; said \", \"Label\": 0, \"Class\": \"NORMAL\"}, {\"Sentence\": \"Mick Jagger says never hit Katy Perry 18\", \"Label\": 0, \"Class\": \"NORMAL\"}, {\"Sentence\": \" During interview Australian radio show week , pop star said sang backing vocals Jagger &apos;s 2004 song &quot; Old Habits Die Hard \", \"Label\": 0, \"Class\": \"NORMAL\"}, {\"Sentence\": \"&quot; Perry said dinner veteran rocker &quot; hit I 18\", \"Label\": 0, \"Class\": \"NORMAL\"}, {\"Sentence\": \" &quot; She added , &quot; That long time ago , &apos;s kind \", \"Label\": 0, \"Class\": \"NORMAL\"}, {\"Sentence\": \" &quot; In statement Thursday , representative Jagger , 70 , says &quot; categorically denies ever made pass Katy Perry \", \"Label\": 0, \"Class\": \"NORMAL\"}, {\"Sentence\": \"&quot; The rep adds: &quot; Perhaps confusing someone else\", \"Label\": 0, \"Class\": \"NORMAL\"}, {\"Sentence\": \"&quot; Perry one singers make guest appearance Rolling Stones &apos; tour year\", \"Label\": 0, \"Class\": \"NORMAL\"}, {\"Sentence\": \" Her new album , &quot; Prism , &quot; debuted No\", \"Label\": 0, \"Class\": \"NORMAL\"}, {\"Sentence\": \"1 week\", \"Label\": 0, \"Class\": \"NORMAL\"}, {\"Sentence\": \" Konstanz: Cyclist knocks 63-year-old man According police , accident occurred Thursday evening around 10: 00 p\", \"Label\": 0, \"Class\": \"NORMAL\"}, {\"Sentence\": \"m\", \"Label\": 0, \"Class\": \"NORMAL\"}, {\"Sentence\": \" , 26-year-old man cycling illegally , left footpath Bahnhofplatz direction Marktst\\u00e4tte , ladies bicycle \", \"Label\": 0, \"Class\": \"NORMAL\"}, {\"Sentence\": \" According police , 63-year-old man suddenly stepped pub onto footpath , cyclist unable brake time \", \"Label\": 0, \"Class\": \"NORMAL\"}, {\"Sentence\": \" During subsequent collision , pedestrian thrown wall building , fell onto ground , suffering laceration head measured around 15 centimetres length \", \"Label\": 0, \"Class\": \"NORMAL\"}, {\"Sentence\": \"An ambulance team brought injured man clinic medical treatment\", \"Label\": 0, \"Class\": \"NORMAL\"}, {\"Sentence\": \"Oil extends drop toward $ 96 barrel The price oil continued fall Friday concerns high supplies offset report showing China &apos;s power-hungry manufacturing sector strengthening\", \"Label\": 0, \"Class\": \"NORMAL\"}, {\"Sentence\": \"Benchmark U\", \"Label\": 0, \"Class\": \"NORMAL\"}, {\"Sentence\": \"S\", \"Label\": 0, \"Class\": \"NORMAL\"}, {\"Sentence\": \"crude December delivery 14 cents $ 96\", \"Label\": 0, \"Class\": \"NORMAL\"}, {\"Sentence\": \"24 barrel late morning Europe electronic trading New York Mercantile Exchange\", \"Label\": 0, \"Class\": \"NORMAL\"}, {\"Sentence\": \" The contract fell 39 cents Thursday , leaving 5\", \"Label\": 0, \"Class\": \"NORMAL\"}, {\"Sentence\": \"8 percent month October\", \"Label\": 0, \"Class\": \"NORMAL\"}, {\"Sentence\": \"Ample supplies crude weighed price recent weeks\", \"Label\": 0, \"Class\": \"NORMAL\"}, {\"Sentence\": \"The Energy Department said Wednesday U\", \"Label\": 0, \"Class\": \"NORMAL\"}, {\"Sentence\": \"S\", \"Label\": 0, \"Class\": \"NORMAL\"}, {\"Sentence\": \"supplies increased 4\", \"Label\": 0, \"Class\": \"NORMAL\"}, {\"Sentence\": \"1 million barrels last week\", \"Label\": 0, \"Class\": \"NORMAL\"}, {\"Sentence\": \" Over five weeks , supplies risen 25 million barrels \", \"Label\": 0, \"Class\": \"NORMAL\"}, {\"Sentence\": \"But suggestion stronger demand came Friday two reports Chinese manufacturing showed uptick activity\", \"Label\": 0, \"Class\": \"NORMAL\"}, {\"Sentence\": \"That suggests China &apos;s economic recovery could continue strengthen growth rebounded 7\", \"Label\": 0, \"Class\": \"NORMAL\"}, {\"Sentence\": \"8 percent third quarter two-decade low previous quarter\", \"Label\": 0, \"Class\": \"NORMAL\"}, {\"Sentence\": \" Brent crude , benchmark international crude also used U\", \"Label\": 0, \"Class\": \"NORMAL\"}, {\"Sentence\": \"S\", \"Label\": 0, \"Class\": \"NORMAL\"}, {\"Sentence\": \" refineries , fell 26 cents $ 108\", \"Label\": 0, \"Class\": \"NORMAL\"}, {\"Sentence\": \"58 barrel ICE exchange London\", \"Label\": 0, \"Class\": \"NORMAL\"}, {\"Sentence\": \" L\\u00f6ffingen: K\\u00f6pfler still candidate Information online: Although L\\u00f6ffingen , small town Baar , 7,514 residents , described intact infrastructure , forward-looking school , youth senior citizens policies municipal energy companies , thus far no-one registered second mayoral candidate \", \"Label\": 0, \"Class\": \"NORMAL\"}, {\"Sentence\": \" So far , candidate succeed Mayor Norbert Brugger , longer running account age , 46-year-old banker business economist Dieter K\\u00f6pfler L\\u00f6ffingen \", \"Label\": 0, \"Class\": \"NORMAL\"}, {\"Sentence\": \" The deadline applications Monday 11 November , 6: 00 p\", \"Label\": 0, \"Class\": \"NORMAL\"}, {\"Sentence\": \"m\", \"Label\": 0, \"Class\": \"NORMAL\"}, {\"Sentence\": \"New anti-nicotine vaccine could take pleasure smoking Scientists developed anti-nicotine vaccine could take pleasure smoking cigarette\", \"Label\": 0, \"Class\": \"NORMAL\"}, {\"Sentence\": \"A single dose vaccine able protect mice nicotine addiction life\", \"Label\": 0, \"Class\": \"NORMAL\"}, {\"Sentence\": \" Further tests needed starting human trials , would take several years , Professor Ronald Crystal Weill Cornell Medical College New York said early signs good \", \"Label\": 0, \"Class\": \"NORMAL\"}, {\"Sentence\": \" &quot; We hopeful kind vaccine strategy finally help millions smokers tried stop , exhausting methods market today , find nicotine addiction strong enough overcome current approaches , &quot; Prof Cornell said \", \"Label\": 0, \"Class\": \"NORMAL\"}, {\"Sentence\": \"The new vaccine contains harmless virus engineered carry genetic information make anti-nicotine antibodies\", \"Label\": 0, \"Class\": \"NORMAL\"}, {\"Sentence\": \" The virus selectively infects liver cells , start make steady stream antibodies \", \"Label\": 0, \"Class\": \"NORMAL\"}, {\"Sentence\": \" The antibodies hunt nicotine molecules bloodstream , neutralising reached brain , preventing smoker getting nicotine hit \", \"Label\": 0, \"Class\": \"NORMAL\"}, {\"Sentence\": \" In tests , vaccinated mice subsequently given nicotine continued normal activity \", \"Label\": 0, \"Class\": \"NORMAL\"}, {\"Sentence\": \" But mice given vaccine &quot; chilled , &quot; say researchers , sign nicotine reached brains \", \"Label\": 0, \"Class\": \"NORMAL\"}, {\"Sentence\": \"The experiments described journal Science Translational Medicine\", \"Label\": 0, \"Class\": \"NORMAL\"}, {\"Sentence\": \"Previous tobacco vaccines failed contained antibodies\", \"Label\": 0, \"Class\": \"NORMAL\"}, {\"Sentence\": \"The jabs given frequently keep antibody levels topped proved expensive impractical\", \"Label\": 0, \"Class\": \"NORMAL\"}, {\"Sentence\": \" But cost new vaccine likely far lower , turns liver cells antibody factories \", \"Label\": 0, \"Class\": \"NORMAL\"}, {\"Sentence\": \" Prof Crystal said future human vaccine completely safe could given children tempted try cigarette , preventing nicotine addiction \", \"Label\": 0, \"Class\": \"NORMAL\"}, {\"Sentence\": \"But likely would used smokers quit\", \"Label\": 0, \"Class\": \"NORMAL\"}, {\"Sentence\": \" &quot; They know start smoking , receive pleasure due nicotine vaccine , help kick habit , &quot; said \", \"Label\": 0, \"Class\": \"NORMAL\"}, {\"Sentence\": \"British scientists said results interesting warned far research needed\", \"Label\": 0, \"Class\": \"NORMAL\"}, {\"Sentence\": \"Egypt swears first freely elected president Mohamed Morsi takes oath office day triumph unlikely mark end political strife Egypt\", \"Label\": 0, \"Class\": \"NORMAL\"}, {\"Sentence\": \" ISLAMIST Mohamed Morsi promised &quot; new Egypt &quot; took oath office become country &apos;s first freely elected president , succeeding Hosni Mubarak ousted 16 months ago \", \"Label\": 0, \"Class\": \"NORMAL\"}, {\"Sentence\": \" At inauguration Supreme Constitutional Court , Morsi also became Arab world &apos;s first freely elected Islamist president Egypt &apos;s fifth head state since overthrow monarchy 60 years ago \", \"Label\": 0, \"Class\": \"NORMAL\"}, {\"Sentence\": \"He took oath court &apos;s 18 black-robed judges Nile-side seat built resemble ancient Egyptian temple\", \"Label\": 0, \"Class\": \"NORMAL\"}, {\"Sentence\": \" &quot; We aspire better tomorrow , new Egypt second republic , &quot; Morsi said solemn ceremony shown live state television \", \"Label\": 0, \"Class\": \"NORMAL\"}, {\"Sentence\": \" &quot; Today , Egyptian people laid foundation new life - absolute freedom , genuine democracy stability , &quot; said Morsi , 60-year-old US-trained engineer Muslim Brotherhood , fundamentalist group spent 84 years since inception outlawed organisation harshly targeted successive governments \", \"Label\": 0, \"Class\": \"NORMAL\"}, {\"Sentence\": \"Hundreds soldiers policemen guarded building Morsi arrived shortly 11am local time small motorcade\", \"Label\": 0, \"Class\": \"NORMAL\"}, {\"Sentence\": \" Only several hundred supporters gathered outside court cheer new president , departure presidential pomp Mubarak years , traffic briefly halted allow motorcade usually busy road linking city centre southern suburbs \", \"Label\": 0, \"Class\": \"NORMAL\"}, {\"Sentence\": \" Derided Brotherhood &apos;s uncharismatic &quot; spare tyre , &quot; personal prestige surged since victory delivery Friday speech tried present candidate Islamists want complete work 2011 uprising authoritarian Mubarak \", \"Label\": 0, \"Class\": \"NORMAL\"}, {\"Sentence\": \" &quot; Egypt today civil , national , constitutional modern state , &quot; Morsi , wearing blue business suit red tie , told judges wood-panelled chamber took oath office \", \"Label\": 0, \"Class\": \"NORMAL\"}, {\"Sentence\": \"Morsi later travelled Cairo University make inauguration address\", \"Label\": 0, \"Class\": \"NORMAL\"}, {\"Sentence\": \"He given official welcome army band played national anthem stood attention\", \"Label\": 0, \"Class\": \"NORMAL\"}, {\"Sentence\": \"Military ruler Field Marshal Hussein Tantawi attendance\", \"Label\": 0, \"Class\": \"NORMAL\"}, {\"Sentence\": \" His arrival greeted chants , &quot; The army people one hand , &quot; hundreds gathered university &apos;s main lecture room \", \"Label\": 0, \"Class\": \"NORMAL\"}, {\"Sentence\": \" Established 1908 bastion secular education , Cairo University later became stronghold Islamist student groups 1970s \", \"Label\": 0, \"Class\": \"NORMAL\"}, {\"Sentence\": \" Morsi took symbolic oath Friday Tahrir Square , birthplace uprising ended Mubarak &apos;s authoritarian rule last year , vowed reclaim presidential powers stripped office military council took ousted leader \", \"Label\": 0, \"Class\": \"NORMAL\"}, {\"Sentence\": \" But agreeing take official oath court , rather parliament customary , bowing military &apos;s indication contest power continue \", \"Label\": 0, \"Class\": \"NORMAL\"}, {\"Sentence\": \"Morsi &apos;s speech Tahrir Square filled dramatic populist gestures\", \"Label\": 0, \"Class\": \"NORMAL\"}, {\"Sentence\": \"Pimp must go prison The District Court Constance condemned 33-year-old man St\", \"Label\": 0, \"Class\": \"NORMAL\"}, {\"Sentence\": \" Georgen three half years prison exploitative human trafficking , pimping , issuing threats grievous bodily harm \", \"Label\": 0, \"Class\": \"NORMAL\"}, {\"Sentence\": \" The former German soldier , following two tours Afghanistan , worked doorman , made confession within context plea-bargaining procedure \", \"Label\": 0, \"Class\": \"NORMAL\"}, {\"Sentence\": \" According confession , five occasions got know women via Internet telephone contacts , sent onto streets weeks \", \"Label\": 0, \"Class\": \"NORMAL\"}, {\"Sentence\": \"He broke resistance means violence issuing threats\", \"Label\": 0, \"Class\": \"NORMAL\"}, {\"Sentence\": \" He kept income women , worked years \", \"Label\": 0, \"Class\": \"NORMAL\"}, {\"Sentence\": \"He prevented women making contact outside world confiscating mobile phones SIM cards\", \"Label\": 0, \"Class\": \"NORMAL\"}, {\"Sentence\": \" Together accomplice , procured women , brought various brothels south-west \", \"Label\": 0, \"Class\": \"NORMAL\"}, {\"Sentence\": \" There monitored extent , order control income \", \"Label\": 0, \"Class\": \"NORMAL\"}, {\"Sentence\": \" Appearing court , accused initially claimed suffering severe trauma colleagues serving alongside Afghanistan lost lives explosion \", \"Label\": 0, \"Class\": \"NORMAL\"}, {\"Sentence\": \" Once psychiatric expert cast considerable doubt suffering psychiatric condition , thus limited culpability , 33-year-old made full confession \", \"Label\": 0, \"Class\": \"NORMAL\"}, {\"Sentence\": \"The court question female victims\", \"Label\": 0, \"Class\": \"NORMAL\"}, {\"Sentence\": \" As official Criminal Investigation Department reported , following first conviction achieved using telephone surveillance measures , least four cases exploitative human trafficking could identified \", \"Label\": 0, \"Class\": \"NORMAL\"}, {\"Sentence\": \"The intercepted conversations characterised high level aggression\", \"Label\": 0, \"Class\": \"NORMAL\"}, {\"Sentence\": \" In subsequent hearings , victims confirmed ordeal \", \"Label\": 0, \"Class\": \"NORMAL\"}, {\"Sentence\": \" A witness , whereby one woman suffered blue bruises body , yet make statement \", \"Label\": 0, \"Class\": \"NORMAL\"}, {\"Sentence\": \" This case &quot; completely broken personality &quot; , views violence exploitation field normal \", \"Label\": 0, \"Class\": \"NORMAL\"}, {\"Sentence\": \"Yesterday accused expressed regret behaviour\", \"Label\": 0, \"Class\": \"NORMAL\"}, {\"Sentence\": \" &quot; I removed circles hope lead completely normal life following imprisonment , &quot; stated \", \"Label\": 0, \"Class\": \"NORMAL\"}, {\"Sentence\": \" For 30 years , Josef Winkler writing heart , telling hardships childhood youth \", \"Label\": 0, \"Class\": \"NORMAL\"}, {\"Sentence\": \" The catastrophes Catholic village upbringing - speechlessness , tendency towards brute force dulled sexuality , confinement lack joy - described many times Kaernten-born poet \", \"Label\": 0, \"Class\": \"NORMAL\"}, {\"Sentence\": \" The B\\u00fcchner prizewinner known primarily writer prose , theatre texts something rarity \", \"Label\": 0, \"Class\": \"NORMAL\"}, {\"Sentence\": \" In collage prose texts For performance piece , &quot; Wetterleuchten auf der Zungenspitze &quot; (Summer lightning tip tongue), seen Garage X Petersplatz , Gerhard Fresacher , creates collage prose texts \", \"Label\": 0, \"Class\": \"NORMAL\"}, {\"Sentence\": \" The theatre producer thus combined elements autobiographically inspired novel &quot; Der Leibeigene &quot; (1987) &#91; The Bondsman &#93; featuring prose miniatures &quot; Leichnam , seine Familie belauernd &quot; (2003) &#91; Corpse , stalking family &#93; \", \"Label\": 0, \"Class\": \"NORMAL\"}, {\"Sentence\": \" On predominantly empty stage - one important requirement: crumpled sofa , cast members allude copulating masturbating - eight-person ensemble work way text material \", \"Label\": 0, \"Class\": \"NORMAL\"}, {\"Sentence\": \" However , Director Fresacher seems little trust text \", \"Label\": 0, \"Class\": \"NORMAL\"}, {\"Sentence\": \" The 70-minute performance glosses script host director &apos;s additions , well-known repertoire post-dramatic theatrical styles \", \"Label\": 0, \"Class\": \"NORMAL\"}, {\"Sentence\": \" In particular , actresses play major role sometimes rather dubious staging \", \"Label\": 0, \"Class\": \"NORMAL\"}, {\"Sentence\": \" They manhandled , heads held water , tacked wall evening gowns \", \"Label\": 0, \"Class\": \"NORMAL\"}, {\"Sentence\": \" Wrapped cellophane girdles , stumble dangerously high heels across set , either delivering monologues top voices lying completely silent stage \", \"Label\": 0, \"Class\": \"NORMAL\"}, {\"Sentence\": \" However , source text makes barely reference intense delivery \", \"Label\": 0, \"Class\": \"NORMAL\"}, {\"Sentence\": \"The best moments evening singing starts - tracks range Deep Purple traditional folk songs\", \"Label\": 0, \"Class\": \"NORMAL\"}, {\"Sentence\": \" Only towards end highly charged performance start wind , see flashes Winkler &apos;s somewhat absurd sense humour \", \"Label\": 0, \"Class\": \"NORMAL\"}, {\"Sentence\": \" Music makes entertaining afternoon It 15 years ago Kaul family first invited Dietingen senior citizens coffee cake , followed snack \", \"Label\": 0, \"Class\": \"NORMAL\"}, {\"Sentence\": \" Previously , elderly citizens hosted service station canteen \", \"Label\": 0, \"Class\": \"NORMAL\"}, {\"Sentence\": \"The coffee afternoon held St\", \"Label\": 0, \"Class\": \"NORMAL\"}, {\"Sentence\": \"Josef nursing home\", \"Label\": 0, \"Class\": \"NORMAL\"}, {\"Sentence\": \"The residents home delighted delicious cakes tarts\", \"Label\": 0, \"Class\": \"NORMAL\"}, {\"Sentence\": \" Later , sausage salad provided \", \"Label\": 0, \"Class\": \"NORMAL\"}, {\"Sentence\": \"Silvia Kimmich-Bantle father Karl Kimmich entertained attendance popular tunes\", \"Label\": 0, \"Class\": \"NORMAL\"}, {\"Sentence\": \" Haslach: Scepticism visibly gives way confidence The 2015 Parish Council elections bring fundamental change , example Haslach Pastoral Care Unit (Seelsorgeeinheit Haslach , SE)\", \"Label\": 0, \"Class\": \"NORMAL\"}, {\"Sentence\": \"There one joint Parish Council six parishes\", \"Label\": 0, \"Class\": \"NORMAL\"}, {\"Sentence\": \" In joint meeting Saturday , committees Haslach , Hofstetten , M\\u00fchlenbach , Fischerbach , Steinach Welschensteinach prepared changes \", \"Label\": 0, \"Class\": \"NORMAL\"}, {\"Sentence\": \"This changes made fundamental decisions diocese Parish Councils implement satisfactory manner possible\", \"Label\": 0, \"Class\": \"NORMAL\"}, {\"Sentence\": \"During course day one thing became particularly clear: scepticism towards new system reluctantly yet visibly giving way confidence\", \"Label\": 0, \"Class\": \"NORMAL\"}, {\"Sentence\": \" The extremely constructive discussions six committees full-time members pastoral care team addressed topics ranging perceptions expectations regarding 2015 reforms , concrete proposals regarding future composition size Parish Council \", \"Label\": 0, \"Class\": \"NORMAL\"}, {\"Sentence\": \"Regional Dean Georg Schmitt explained newly drawn-up guidelines pastoral care units arch-diocese Freiburg help presentation\", \"Label\": 0, \"Class\": \"NORMAL\"}, {\"Sentence\": \" According guidelines , SE Haslach , church community , corporation public law , shall assume rights obligations six individual church communities \", \"Label\": 0, \"Class\": \"NORMAL\"}, {\"Sentence\": \" There one joint Parish Council Foundation Council , rector represented virtue office \", \"Label\": 0, \"Class\": \"NORMAL\"}, {\"Sentence\": \" From parish , least two elected members represented , so-called church community teams set on-site six parishes \", \"Label\": 0, \"Class\": \"NORMAL\"}, {\"Sentence\": \"In future task promote church life local basis\", \"Label\": 0, \"Class\": \"NORMAL\"}, {\"Sentence\": \" Regarding issue finances individual parishes , need extensive discussion became evident \", \"Label\": 0, \"Class\": \"NORMAL\"}, {\"Sentence\": \"The reforms plan accumulated assets parishes retained specified purpose\", \"Label\": 0, \"Class\": \"NORMAL\"}, {\"Sentence\": \" Accounts payable , hand , passed &quot; church community &quot; whole \", \"Label\": 0, \"Class\": \"NORMAL\"}, {\"Sentence\": \" In particular , planned major investments , debts thus affect parishes , cause great concern \", \"Label\": 0, \"Class\": \"NORMAL\"}, {\"Sentence\": \" &quot; In past , investments made projects could managed individual parishes , &quot; said Haslach &apos;s Parish Council Chairman Bruno Prinzbach \", \"Label\": 0, \"Class\": \"NORMAL\"}, {\"Sentence\": \" Barbar Ritter , Chair Committee Schutterwald-Neuried pastoral care unit , practical experience joint committee five parishes \", \"Label\": 0, \"Class\": \"NORMAL\"}, {\"Sentence\": \" In 2006 set task , &quot; Become one , remain five &quot; came realise task really simple \", \"Label\": 0, \"Class\": \"NORMAL\"}, {\"Sentence\": \" The Committees Haslach pastoral care unit set answer questions regarding future composition size joint Parish Council , practical work church community teams \", \"Label\": 0, \"Class\": \"NORMAL\"}, {\"Sentence\": \"The specific details confirmed subsequent meetings decided additional joint meeting six committees coming spring\", \"Label\": 0, \"Class\": \"NORMAL\"}, {\"Sentence\": \" At end , Parish Counsellor Michael Sch\\u00f6ner Steinach presented new logo pastoral care unit , agreed clear majority \", \"Label\": 0, \"Class\": \"NORMAL\"}, {\"Sentence\": \"Aircraft electronic device rules stay force Australia Australian airline passengers need continue turning tablets smart phones take-off landing despite moves US loosen regulations covering devices\", \"Label\": 0, \"Class\": \"NORMAL\"}, {\"Sentence\": \" The US Federal Aviation Administration left way open American carriers change procedures passengers able read e-books , watch videos play games devices critical phases flight provided remain &quot; airplane &quot; mode \", \"Label\": 0, \"Class\": \"NORMAL\"}, {\"Sentence\": \"Passengers already bulk flight many people find annoying unable access e-books take-offs landings\", \"Label\": 0, \"Class\": \"NORMAL\"}, {\"Sentence\": \" Australian carriers looking decision , requires US carriers undertake massive amount work meet requirements , indicated immediate plans change procedures \", \"Label\": 0, \"Class\": \"NORMAL\"}, {\"Sentence\": \"The Civil Aviation Safety Authority also said looking announcement emphasised restrictions use electronic devices critical phases flight still place Australia\", \"Label\": 0, \"Class\": \"NORMAL\"}, {\"Sentence\": \" &quot; CASA currently specific regulations governing use electronic devices aircraft , &quot; said \", \"Label\": 0, \"Class\": \"NORMAL\"}, {\"Sentence\": \"The issue covered regulations require aircraft operators ensure safety maintained times passengers comply safety instructions given crew members\", \"Label\": 0, \"Class\": \"NORMAL\"}, {\"Sentence\": \" Virgin , already talking CASA extending use in-flight wi-fi entertainment system , amenable change said would take lead regulator \", \"Label\": 0, \"Class\": \"NORMAL\"}, {\"Sentence\": \" &quot; We would welcome review CASA allowing use electronic devices really think improve customer experience (wireless in-flight entertainment) planes , &quot; spokesman said \", \"Label\": 0, \"Class\": \"NORMAL\"}, {\"Sentence\": \"Qantas said would stick current rules\", \"Label\": 0, \"Class\": \"NORMAL\"}, {\"Sentence\": \" &quot; Our current policy electronic devices cannot used take-off landing immediate plans change , &quot; said \", \"Label\": 0, \"Class\": \"NORMAL\"}, {\"Sentence\": \"The FAA ruling applies American airlines\", \"Label\": 0, \"Class\": \"NORMAL\"}, {\"Sentence\": \" However , always interested regulatory developments could benefit passengers certainly taking close look FAA &apos;s decision reasons behind \", \"Label\": 0, \"Class\": \"NORMAL\"}, {\"Sentence\": \" For US carriers , impact ruling vary airline airline depend age fleet \", \"Label\": 0, \"Class\": \"NORMAL\"}, {\"Sentence\": \" Carriers need prove planes tolerate radio interference mobile devices well revise manuals , training materials , carry-on baggage programs passenger briefings \", \"Label\": 0, \"Class\": \"NORMAL\"}, {\"Sentence\": \" &quot; Once airline verifies tolerance fleet , allow passengers use handheld , lightweight electronic devices tablets , e-readers , smartphones-at altitudes , &quot; FAA said \", \"Label\": 0, \"Class\": \"NORMAL\"}, {\"Sentence\": \" In rare instances low visibility , crew instruct passengers turn devices landing \", \"Label\": 0, \"Class\": \"NORMAL\"}, {\"Sentence\": \"The group also recommended heavier devices safely stowed seats overhead bins take-off landing\", \"Label\": 0, \"Class\": \"NORMAL\"}, {\"Sentence\": \" Driver speeding 130mph hot drink legs fined \\u00a3 1,000 A motorist fined \\u00a3 1,000 driving 130mph (210km / h) hot drink balanced legs \", \"Label\": 0, \"Class\": \"NORMAL\"}, {\"Sentence\": \" Andrew Howie , 35 , Tiptree , Essex , spotted driving Mercedes Benz A120 Braintree 27 May \", \"Label\": 0, \"Class\": \"NORMAL\"}, {\"Sentence\": \"When police stopped discovered takeaway drink legs\", \"Label\": 0, \"Class\": \"NORMAL\"}, {\"Sentence\": \"At Colchester Magistrates &apos; Court Howie admitted charge driving without due care attention\", \"Label\": 0, \"Class\": \"NORMAL\"}, {\"Sentence\": \"Seven points added licence resulted receiving six-month driving ban\", \"Label\": 0, \"Class\": \"NORMAL\"}, {\"Sentence\": \"Howie also ordered pay costs \\u00a3 90 victim surcharge \\u00a3 100\", \"Label\": 0, \"Class\": \"NORMAL\"}, {\"Sentence\": \" As crowds horse-showing experts gathered Cardiff battle Horse Year , knew competition would tough \", \"Label\": 0, \"Class\": \"NORMAL\"}, {\"Sentence\": \"But nobody quite ready three-year-old Fenton Kirkland\", \"Label\": 0, \"Class\": \"NORMAL\"}, {\"Sentence\": \" Not yet school months taking first steps , toddler pet Shetland pony Toffee trotted three rounds ease take top prize - leaving 30 adult opponents trailing behind \", \"Label\": 0, \"Class\": \"NORMAL\"}, {\"Sentence\": \" The inseparable pair - height - commended appearance , behaviour style annual contest run Sunnybank Equestrian Centre , Rudry near Cardiff \", \"Label\": 0, \"Class\": \"NORMAL\"}, {\"Sentence\": \" Taking stage men women smart bowler hats , tipped flat cap jaunty angle paraded two-year-old Toffee around ring \", \"Label\": 0, \"Class\": \"NORMAL\"}, {\"Sentence\": \"Fenton lauded judges natural handling skills well beyond years\", \"Label\": 0, \"Class\": \"NORMAL\"}, {\"Sentence\": \"And Toffee received top marks appearance personality\", \"Label\": 0, \"Class\": \"NORMAL\"}, {\"Sentence\": \"Fenton given Toffee third birthday present last March practised Shetland pony every day since\", \"Label\": 0, \"Class\": \"NORMAL\"}, {\"Sentence\": \" His mother Donna , 30 , said: &quot; Fenton Toffee great double act \", \"Label\": 0, \"Class\": \"NORMAL\"}, {\"Sentence\": \"&quot; They comers two walked gold cup rosette\", \"Label\": 0, \"Class\": \"NORMAL\"}, {\"Sentence\": \"It second time competed Toffee ecstatic\", \"Label\": 0, \"Class\": \"NORMAL\"}, {\"Sentence\": \"Complete strangers arena thought phenomenal wanted photos taken\", \"Label\": 0, \"Class\": \"NORMAL\"}, {\"Sentence\": \" The youngster , village Nantyglo , near Ebbw Vale , South Wales , following footsteps aunt Sharon Howells , showing horses 10 years \", \"Label\": 0, \"Class\": \"NORMAL\"}, {\"Sentence\": \"Mrs Howells said: &quot; The whole place electric everybody cheering clapping\", \"Label\": 0, \"Class\": \"NORMAL\"}, {\"Sentence\": \"&quot; He running sand full length arena even though looked tiny marvellous job\", \"Label\": 0, \"Class\": \"NORMAL\"}, {\"Sentence\": \" Fenton animal mad - loves horses , tractors farms got two chickens looks \", \"Label\": 0, \"Class\": \"NORMAL\"}, {\"Sentence\": \"The way started &apos;ll Horse Year show long - I &apos;m sure &apos;ll well\", \"Label\": 0, \"Class\": \"NORMAL\"}, {\"Sentence\": \"A spokesman annual horse show said: &quot; Fenton three knows handle pony\", \"Label\": 0, \"Class\": \"NORMAL\"}, {\"Sentence\": \"&quot; They great team together\", \"Label\": 0, \"Class\": \"NORMAL\"}, {\"Sentence\": \"The judges marked Fenton Toffee well turned way presented show ring\", \"Label\": 0, \"Class\": \"NORMAL\"}, {\"Sentence\": \"They look good teamwork pony handler - Fenton Toffee best ring\", \"Label\": 0, \"Class\": \"NORMAL\"}, {\"Sentence\": \" I &apos;m sure Fenton helped cute clothes , really looked part \", \"Label\": 0, \"Class\": \"NORMAL\"}, {\"Sentence\": \" Syria destroyed chemical weapons making ability , watchdog group says Syria destroyed critical equipment producing chemical weapons poison gas munitions , global chemical weapons watchdog said Thursday fierce clashes raged country &apos;s north , close one sites toxic agents believed stored \", \"Label\": 0, \"Class\": \"NORMAL\"}, {\"Sentence\": \" Also Thursday , Syrian activist group said 120,000 people killed since start country &apos;s civil war nearly three years ago \", \"Label\": 0, \"Class\": \"NORMAL\"}, {\"Sentence\": \"The announcement Organization Prohibition Chemical Weapons came one day ahead Nov\", \"Label\": 0, \"Class\": \"NORMAL\"}, {\"Sentence\": \"1 deadline set The Hague-based organization Damascus destroy &quot; render inoperable &quot; chemical weapon production facilities machinery mixing chemicals poison gas filling munitions\", \"Label\": 0, \"Class\": \"NORMAL\"}, {\"Sentence\": \"The completion essentially initial stage destruction significant milestone ambitious timeline aims destroy Damascus &apos; chemical weapons mid-2014\", \"Label\": 0, \"Class\": \"NORMAL\"}, {\"Sentence\": \"Destruction equipment means Syria longer produce new chemical weapons\", \"Label\": 0, \"Class\": \"NORMAL\"}, {\"Sentence\": \" However , Damascus still start destroying existing weapons stockpiles \", \"Label\": 0, \"Class\": \"NORMAL\"}, {\"Sentence\": \" The country believed around 1,000 metric tons chemicals weapons including mustard gas nerve agent sarin \", \"Label\": 0, \"Class\": \"NORMAL\"}, {\"Sentence\": \" The announcement came fighting raged Thursday town Safira , experts say home chemical weapons production facility well storage sites , reported Britain-based Syrian Observatory Human Rights \", \"Label\": 0, \"Class\": \"NORMAL\"}, {\"Sentence\": \" The activist group , tracking death toll network activists Syria , said Thursday 120,296 people died \", \"Label\": 0, \"Class\": \"NORMAL\"}, {\"Sentence\": \" Of , said 61,067 civilians , including 6,365 children \", \"Label\": 0, \"Class\": \"NORMAL\"}, {\"Sentence\": \" On government side , said 29,954 members President Bashar Assad &apos;s armed forces , 18,678 pro-government fighters 187 Lebanese Hezbollah militants \", \"Label\": 0, \"Class\": \"NORMAL\"}, {\"Sentence\": \" Also among dead said 2,202 army defectors 5,375 opposition fighters , many foreigners \", \"Label\": 0, \"Class\": \"NORMAL\"}, {\"Sentence\": \" On July 25 , U\", \"Label\": 0, \"Class\": \"NORMAL\"}, {\"Sentence\": \"N\", \"Label\": 0, \"Class\": \"NORMAL\"}, {\"Sentence\": \" estimated 100,000 died conflict since March 2011 \", \"Label\": 0, \"Class\": \"NORMAL\"}, {\"Sentence\": \"It updated figure since\", \"Label\": 0, \"Class\": \"NORMAL\"}, {\"Sentence\": \"The conflict forced 2 million people flee country\", \"Label\": 0, \"Class\": \"NORMAL\"}, {\"Sentence\": \" Assad &apos;s troops battling rebels , many linked al-Qaida groups , Safira weeks \", \"Label\": 0, \"Class\": \"NORMAL\"}, {\"Sentence\": \"The Observatory said casualties sides Thursday specifics\", \"Label\": 0, \"Class\": \"NORMAL\"}, {\"Sentence\": \"The fighting underscored dangers chemical weapons &apos; inspectors face race tight deadlines mission rid Syria toxic arsenal midst ongoing civil war\", \"Label\": 0, \"Class\": \"NORMAL\"}, {\"Sentence\": \" A statement OPCW , works closely United Nations , said team &quot; satisfied verified - seen destroyed - Syria &apos;s declared critical production mixing / filling equipment \", \"Label\": 0, \"Class\": \"NORMAL\"}, {\"Sentence\": \" &quot; It added , &quot; inspection activities currently planned \", \"Label\": 0, \"Class\": \"NORMAL\"}, {\"Sentence\": \" &quot; Earlier week , inspectors said completed first round verification work , visiting 21 23 sites declared Damascus \", \"Label\": 0, \"Class\": \"NORMAL\"}, {\"Sentence\": \" They unable visit two sites security concerns , inspectors said \", \"Label\": 0, \"Class\": \"NORMAL\"}, {\"Sentence\": \" On Thursday , OPCW said two locations , according Syria , &quot; abandoned \", \"Label\": 0, \"Class\": \"NORMAL\"}, {\"Sentence\": null, \"Label\": 0, \"Class\": \"NORMAL\"}, {\"Sentence\": null, \"Label\": 0, \"Class\": \"NORMAL\"}, {\"Sentence\": \" chemical weapons program items contained moved declared sites , inspected \", \"Label\": 0, \"Class\": \"NORMAL\"}, {\"Sentence\": \"&quot; It immediately clear facility Safira one two sites OPCW inspectors able visit\", \"Label\": 0, \"Class\": \"NORMAL\"}, {\"Sentence\": \"Syria submitted plan total destruction chemical weapons approved next month OPCW &apos;s executive committee\", \"Label\": 0, \"Class\": \"NORMAL\"}, {\"Sentence\": \" &quot; I salute fortitude courage &apos;ve demonstrated fulfilling challenging mission ever undertaken organization , &quot; watchdog &apos;s director-general , Ahmet Uzumcu , said comments released OPCW \", \"Label\": 0, \"Class\": \"NORMAL\"}, {\"Sentence\": \" Now third year , civil war pits primarily Sunni Muslim rebels Assad &apos;s government security forces , stacked members Alawite sect , offshoot Shiite Islam \", \"Label\": 0, \"Class\": \"NORMAL\"}, {\"Sentence\": \" In developments , Observatory &apos;s chief Rami Abdurrahman said strong explosion Wednesday inside air defense facility Syria &apos;s coastal province Latakia \", \"Label\": 0, \"Class\": \"NORMAL\"}, {\"Sentence\": \" The cause blast known , said \", \"Label\": 0, \"Class\": \"NORMAL\"}, {\"Sentence\": \" Highland Games Kaltenhof Alongside brake van pulling tractors , also second contest agricultural autumn festival Kaltenhof 6 8 September \", \"Label\": 0, \"Class\": \"NORMAL\"}, {\"Sentence\": \" On Saturday 7 September , Highland Games start 1: 30 p\", \"Label\": 0, \"Class\": \"NORMAL\"}, {\"Sentence\": \"m\", \"Label\": 0, \"Class\": \"NORMAL\"}, {\"Sentence\": \" While course Scottish tradition , given touch Swabian colour Kaltenhof event grounds \", \"Label\": 0, \"Class\": \"NORMAL\"}, {\"Sentence\": \" Teams individual competitors pitted one another disciplines tossing caber , horseshoe tossing bucket carrying \", \"Label\": 0, \"Class\": \"NORMAL\"}, {\"Sentence\": \"The caber four half metres long weighs 25 30 kilometres\", \"Label\": 0, \"Class\": \"NORMAL\"}, {\"Sentence\": \" &quot; It &apos;t distance , &quot; explains organiser Peter Saile \", \"Label\": 0, \"Class\": \"NORMAL\"}, {\"Sentence\": \" The log must thrown vertically , somersault finish lying straight \", \"Label\": 0, \"Class\": \"NORMAL\"}, {\"Sentence\": \"This scores maximum points\", \"Label\": 0, \"Class\": \"NORMAL\"}, {\"Sentence\": \" In tossing horseshoe , comes accuracy \", \"Label\": 0, \"Class\": \"NORMAL\"}, {\"Sentence\": \"Horseshoes thrown onto peg distance eight metres\", \"Label\": 0, \"Class\": \"NORMAL\"}, {\"Sentence\": \"Participants must prove skill strength carrying bucket water 50 metres\", \"Label\": 0, \"Class\": \"NORMAL\"}, {\"Sentence\": \"Time recorded water quantity measured vat end\", \"Label\": 0, \"Class\": \"NORMAL\"}, {\"Sentence\": \"Two members &quot; clan &quot; team take part individual competition\", \"Label\": 0, \"Class\": \"NORMAL\"}, {\"Sentence\": \"The winners team individual contests receive prizes\", \"Label\": 0, \"Class\": \"NORMAL\"}, {\"Sentence\": \"Teams practice 10: 00 a\", \"Label\": 0, \"Class\": \"NORMAL\"}, {\"Sentence\": \"m\", \"Label\": 0, \"Class\": \"NORMAL\"}, {\"Sentence\": \"Suitable clothing desirable - example competitors wear kilts\", \"Label\": 0, \"Class\": \"NORMAL\"}, {\"Sentence\": \" However , Swabian traditional clothing also permitted \", \"Label\": 0, \"Class\": \"NORMAL\"}, {\"Sentence\": \"The judging panel also award bonus points &quot; outfits &quot;\", \"Label\": 0, \"Class\": \"NORMAL\"}, {\"Sentence\": \"Registration open hours prior beginning competition\", \"Label\": 0, \"Class\": \"NORMAL\"}, {\"Sentence\": \" With Scottish-Swabian Highland Games tractor pulling contest , begin half hour beforehand , promises great deal action event grounds Saturday \", \"Label\": 0, \"Class\": \"NORMAL\"}, {\"Sentence\": \" In evening , fans brass band music treat \", \"Label\": 0, \"Class\": \"NORMAL\"}, {\"Sentence\": \" At 19: 00 , &quot; birab\\u00f6hmische &quot; (a play words alluding regions pear trees , Bohemia , perhaps love beer well !) wind music group Sch\\u00f6mberg , provide great evening entertainment \", \"Label\": 0, \"Class\": \"NORMAL\"}, {\"Sentence\": \"The band plays lively polkas marches\", \"Label\": 0, \"Class\": \"NORMAL\"}, {\"Sentence\": \" However , repertoire also includes emotive waltzes full big band sound \", \"Label\": 0, \"Class\": \"NORMAL\"}, {\"Sentence\": \" Heinz Koch Weilen unter den Rinnen also , better known &apos; singing inn keeper black sausage baron &quot; \", \"Label\": 0, \"Class\": \"NORMAL\"}, {\"Sentence\": \" In past , appeared Christmas market Dornhan Narrenzunft (Fool &apos;s Guild event)\", \"Label\": 0, \"Class\": \"NORMAL\"}, {\"Sentence\": \" On Sunday , Leinstetten Music Society entertain audiences morning session , B\\u00f6ffingen Farmer &apos;s Band guests 2: 00 p\", \"Label\": 0, \"Class\": \"NORMAL\"}, {\"Sentence\": \"m\", \"Label\": 0, \"Class\": \"NORMAL\"}, {\"Sentence\": \" , &quot; Oldies &quot; bring celebrations close \", \"Label\": 0, \"Class\": \"NORMAL\"}, {\"Sentence\": \" The celebrations get way Friday , &quot; Stoppelacker &quot; (Stubble Field) party featuring DJ Ralf \", \"Label\": 0, \"Class\": \"NORMAL\"}, {\"Sentence\": \"Other items itinerary Saturday Sunday include vintage car tractor meet exhibitions companies topic agriculture forestry\", \"Label\": 0, \"Class\": \"NORMAL\"}, {\"Sentence\": \" Further attractions Sunday corn maze , craft market sheep shearing \", \"Label\": 0, \"Class\": \"NORMAL\"}, {\"Sentence\": \" Specially children , petting zoo , &quot; straw bouncy castle &quot; , tractor driving (under supervision) tractor surfing \", \"Label\": 0, \"Class\": \"NORMAL\"}, {\"Sentence\": \" The event organised community hall association , ski club &quot; Z\\u00fcndkapsele &quot; (blasting caps) tractor enthusiasts \", \"Label\": 0, \"Class\": \"NORMAL\"}, {\"Sentence\": \" George Kerevan: Europe break-up gives Scots choice Another day , another independence scare story \", \"Label\": 0, \"Class\": \"NORMAL\"}, {\"Sentence\": \"This time warned independent Scotland would required join Europe-wide free-travel zone condition EU membership\", \"Label\": 0, \"Class\": \"NORMAL\"}, {\"Sentence\": \"Cue stories passport controls Berwick barbed wire border along Hadrian &apos;s Wall\", \"Label\": 0, \"Class\": \"NORMAL\"}, {\"Sentence\": \" True , Strathclyde paper pointed possible economic benefits freer movement rest Europe , though - predictably - figure headlines \", \"Label\": 0, \"Class\": \"NORMAL\"}, {\"Sentence\": \"Nor anyone point EU member states spend much time bending formal rules suits\", \"Label\": 0, \"Class\": \"NORMAL\"}, {\"Sentence\": \" Since Scotland &apos;t Schengen area , continued non-compliance would cheap concession Brussels offer return whatever really wanted Scots \", \"Label\": 0, \"Class\": \"NORMAL\"}, {\"Sentence\": \" So , non-story , \", \"Label\": 0, \"Class\": \"NORMAL\"}, {\"Sentence\": \"And one long tooth become fossilised: I first heard &quot; independence means passport controls &quot; canard least 40 years ago\", \"Label\": 0, \"Class\": \"NORMAL\"}, {\"Sentence\": \"Yet interesting point lost retelling whiskery old tale\", \"Label\": 0, \"Class\": \"NORMAL\"}, {\"Sentence\": \" Why independent Scotland expected Europe &apos;s bidding , anyway ? Why trade London &apos;s yoke Brussels , especially ? Here real European news: great , post-war plan unite Europe finally stalled \", \"Label\": 0, \"Class\": \"NORMAL\"}, {\"Sentence\": \" With euro crisis , Project Europe officially dead \", \"Label\": 0, \"Class\": \"NORMAL\"}, {\"Sentence\": \" Across EU , parties dedicated opposing EU , scrapping euro common currency , gaining ground \", \"Label\": 0, \"Class\": \"NORMAL\"}, {\"Sentence\": \" Even Germany , Eurosceptic Alternative Germany Party - founded year - came nowhere grab nearly five million votes September &apos;s federal elections , thus effectively knocking Free Democrats (equivalent Lib Dems) Bundestag \", \"Label\": 0, \"Class\": \"NORMAL\"}, {\"Sentence\": \"There always domestic opposition plan create federal Europe\", \"Label\": 0, \"Class\": \"NORMAL\"}, {\"Sentence\": \" However , current economic crisis proved watershed \", \"Label\": 0, \"Class\": \"NORMAL\"}, {\"Sentence\": \" The austerity imposed Berlin European Central Bank , coupled straitjacket imposed national economies adherence common currency , led many people think Project Europe gone far \", \"Label\": 0, \"Class\": \"NORMAL\"}, {\"Sentence\": \"The crisis euro little national governments running excessive budget deficits - true Greece\", \"Label\": 0, \"Class\": \"NORMAL\"}, {\"Sentence\": \" Rather , euro system locked members exchange rates favourable German exporters - something German politicians want keep \", \"Label\": 0, \"Class\": \"NORMAL\"}, {\"Sentence\": \" Without possibility domestic currency devaluation , southern Europe finds built-in productivity disadvantage vis-\\u00e0-vis Germany \", \"Label\": 0, \"Class\": \"NORMAL\"}, {\"Sentence\": \"The recourse slash wages public spending - spurred Berlin\", \"Label\": 0, \"Class\": \"NORMAL\"}, {\"Sentence\": \"Beyond current budget currency problems lies deeper European productivity malaise\", \"Label\": 0, \"Class\": \"NORMAL\"}, {\"Sentence\": \" As result &quot; green &quot; energy policies imposed Brussels - code subsidising French German energy firms consumer &apos;s expense - European industry pays twice much electricity , four times much gas , United States \", \"Label\": 0, \"Class\": \"NORMAL\"}, {\"Sentence\": \" That crippling cost disadvantage , &apos;ve already seen Grangemouth \", \"Label\": 0, \"Class\": \"NORMAL\"}, {\"Sentence\": \"All wage freezes world &apos;t stop European petrochemicals industry hammered cheap US shale gas\", \"Label\": 0, \"Class\": \"NORMAL\"}, {\"Sentence\": \" As result , revolt brewing , especially France , EU &apos;s main cheerleader \", \"Label\": 0, \"Class\": \"NORMAL\"}, {\"Sentence\": \" After war , French political elite saw EU vehicle keep Germany check , give Paris equal billing world Washington \", \"Label\": 0, \"Class\": \"NORMAL\"}, {\"Sentence\": \" But Berlin longer needs Paris passport political legitimacy imposed economic policy Europe , leaving battered French economy struggling \", \"Label\": 0, \"Class\": \"NORMAL\"}, {\"Sentence\": \" Result: Marine Le Pen &apos;s right-wing , anti-EU National Front crucial by-election , knocking ruling Socialists third place \", \"Label\": 0, \"Class\": \"NORMAL\"}, {\"Sentence\": \"The Front popular party France 24 per cent vote - timely warning British Labour &apos;t assume split right automatically favour left\", \"Label\": 0, \"Class\": \"NORMAL\"}, {\"Sentence\": \" What Le Pen newfound popularity among French white , working class ? She wants use next year &apos;s EU elections create anti-EU , anti-common currency bloc across European Parliament \", \"Label\": 0, \"Class\": \"NORMAL\"}, {\"Sentence\": \" If , possible , anti-EU parties well elections , bloc could dominate European Parliament first time \", \"Label\": 0, \"Class\": \"NORMAL\"}, {\"Sentence\": \"Here &apos;s point: sometime soon growing anti-EU anti-common currency feeling Europe coalesce kill euro\", \"Label\": 0, \"Class\": \"NORMAL\"}, {\"Sentence\": \" The EU &apos;t disappear , revert something like loose &quot; Europe (Sovereign) Nations &quot; favoured General de Gaulle \", \"Label\": 0, \"Class\": \"NORMAL\"}, {\"Sentence\": \"Germany satellite economies might keep euro France southern Europe revive currencies\", \"Label\": 0, \"Class\": \"NORMAL\"}, {\"Sentence\": \" I expect UK distance project , hoping cosy US \", \"Label\": 0, \"Class\": \"NORMAL\"}, {\"Sentence\": \" However , Washington &apos;s growing interest Pacific suggests Britain left Atlantic cold \", \"Label\": 0, \"Class\": \"NORMAL\"}, {\"Sentence\": \"Where leave Scotland ? We choose region (essentially) Little England\", \"Label\": 0, \"Class\": \"NORMAL\"}, {\"Sentence\": \"Or defend economic interests - includes telling Berlin Brussels get\", \"Label\": 0, \"Class\": \"NORMAL\"}, {\"Sentence\": \"I suspect Scotland could well inside looser European arrangement provided kept currency\", \"Label\": 0, \"Class\": \"NORMAL\"}, {\"Sentence\": \"Co-operation like-minded countries easier non-federal Europe Nations\", \"Label\": 0, \"Class\": \"NORMAL\"}, {\"Sentence\": \"Otherwise consider emulating Norway retaining economic independence\", \"Label\": 0, \"Class\": \"NORMAL\"}, {\"Sentence\": \" The SNP government Scotland - remarkably-- successful anti-austerity political movement Europe , spectacular majority 2011 basis opposing cuts proposed (and implemented) Labour &apos;s chancellor Alistair Darling subsequent Tory-Lib Dem coalition \", \"Label\": 0, \"Class\": \"NORMAL\"}, {\"Sentence\": \"It would ridiculous Scotland vote independence accept austerity imposed Berlin Brussels\", \"Label\": 0, \"Class\": \"NORMAL\"}, {\"Sentence\": \" Children taught myths legends &quot; models way life &quot; , author says \", \"Label\": 0, \"Class\": \"NORMAL\"}, {\"Sentence\": \" Tales Thor could show &quot; brute strength match subtle trickery , &quot; Arthurian legends reveal importance dream \", \"Label\": 0, \"Class\": \"NORMAL\"}, {\"Sentence\": \" Saying many myths would &quot; far wild , far scandalous cases far filthy taught schools , &quot; Crossley-Holland advocated &quot; careful selection &quot; age-appropriate works \", \"Label\": 0, \"Class\": \"NORMAL\"}, {\"Sentence\": \" &quot; I find wonderful America , myth folklore already part education , &quot; said \", \"Label\": 0, \"Class\": \"NORMAL\"}, {\"Sentence\": \"I advocating plan twenty years\", \"Label\": 0, \"Class\": \"NORMAL\"}, {\"Sentence\": \" He added authors teachers &quot; overtly didactic &quot; &quot; total switch-off &quot; children , messages &quot; subliminated &quot; enjoyable stories \", \"Label\": 0, \"Class\": \"NORMAL\"}, {\"Sentence\": \" Crossley-Holland , translated Beowulf Anglo-Saxon well writing Penguin Book Norse Myths British Folk Tales , said: &quot; You may well intentions better keep well sight \", \"Label\": 0, \"Class\": \"NORMAL\"}, {\"Sentence\": \"&quot; Perhaps big difference adult author writing adult adult author writing child necessity sense hope\", \"Label\": 0, \"Class\": \"NORMAL\"}, {\"Sentence\": \" Not everything simplified come happy ending , innate sense good evil \", \"Label\": 0, \"Class\": \"NORMAL\"}, {\"Sentence\": \"And must subliminated; revealed story rather stated\", \"Label\": 0, \"Class\": \"NORMAL\"}, {\"Sentence\": \"The old basis showing telling\", \"Label\": 0, \"Class\": \"NORMAL\"}, {\"Sentence\": \" Salem: Johanna Rahner Ecumenical Discussion Forum At next Ecumenical Discussion Forum Monday 21 October , Neues Museum des Schlosses (New Castle Museum), focus topic &quot; To hell Hell - Theological reflections approach notion end times &quot; \", \"Label\": 0, \"Class\": \"NORMAL\"}, {\"Sentence\": \"The speaker Johanna Rahner\", \"Label\": 0, \"Class\": \"NORMAL\"}, {\"Sentence\": \" The Ecumenical Discussion Forum initiative Catholic Protestant churches Salem , Salem Castle Lake Constance District Cultural Office \", \"Label\": 0, \"Class\": \"NORMAL\"}, {\"Sentence\": \" At forum , Johanna Rahner wants address question people today view &quot; end times &quot; death \", \"Label\": 0, \"Class\": \"NORMAL\"}, {\"Sentence\": \" While people past centuries overly conscious , focusing pictures heaven hell &quot; defined ideas &quot; , contemporary prophetic teaching hope consummation characterised certain bashfulness , even speechlessness \", \"Label\": 0, \"Class\": \"NORMAL\"}, {\"Sentence\": \" &quot; The greater hope well truly cast Christians religious critics , &quot; said speaker \", \"Label\": 0, \"Class\": \"NORMAL\"}, {\"Sentence\": \" They &quot; provided us many question marks , seem lost exclamation marks &quot; \", \"Label\": 0, \"Class\": \"NORMAL\"}, {\"Sentence\": \" Johanna Rahner continued: &quot; However , crucial challenge remains fear death &quot; \", \"Label\": 0, \"Class\": \"NORMAL\"}, {\"Sentence\": \" Associated matter longing , &quot; dreams everything good end &quot; \", \"Label\": 0, \"Class\": \"NORMAL\"}, {\"Sentence\": \" Johanna Rahner , born 1962 Baden-Baden , studied Catholic theology biology 1982 1989 Albert Ludwig &apos;s University Freiburg \", \"Label\": 0, \"Class\": \"NORMAL\"}, {\"Sentence\": \" In 1997 graduated doctor theology , also Freiburg \", \"Label\": 0, \"Class\": \"NORMAL\"}, {\"Sentence\": \"A post-doctoral lecturing qualification fundamental theology ecumenical theology followed 2003 Westfalian Wilhelm &apos;s University\", \"Label\": 0, \"Class\": \"NORMAL\"}, {\"Sentence\": \" Since 2010 , Johanna Rahner occupied Chair Systematic Theology Institute Catholic Theology University Kassel \", \"Label\": 0, \"Class\": \"NORMAL\"}, {\"Sentence\": \"Germany &apos;s largest national church launched campaign advertising minister &apos;s position\", \"Label\": 0, \"Class\": \"NORMAL\"}, {\"Sentence\": \" This comes time possible shortage ministers: The Protestant Lutheran Regional Church Hanover calculates , things stand , current number around 1,800 pastors halved 2030 \", \"Label\": 0, \"Class\": \"NORMAL\"}, {\"Sentence\": \" For young people today , career attractive offers good future prospects , said Pastor Mathis Burfien (43) conversation Protestant Press Service \", \"Label\": 0, \"Class\": \"NORMAL\"}, {\"Sentence\": \"It attractive able determine daily working routine\", \"Label\": 0, \"Class\": \"NORMAL\"}, {\"Sentence\": \" With Burfien , regional church first time commissioned minister work full time , endeavouring inspire young people study theology \", \"Label\": 0, \"Class\": \"NORMAL\"}, {\"Sentence\": \" At present , fewer fewer young people deciding study theology Abitur examinations (equivalent A levels)\", \"Label\": 0, \"Class\": \"NORMAL\"}, {\"Sentence\": \" Burfien puts process secularisation: &quot; God &apos;s voice quiet , world loud &quot; \", \"Label\": 0, \"Class\": \"NORMAL\"}, {\"Sentence\": \"The job characterised great freedom variety\", \"Label\": 0, \"Class\": \"NORMAL\"}, {\"Sentence\": \"I master schedule therefore turn focus important\", \"Label\": 0, \"Class\": \"NORMAL\"}, {\"Sentence\": \" As pastoral workers , ministers close people \", \"Label\": 0, \"Class\": \"NORMAL\"}, {\"Sentence\": \"They earn much teachers make good living\", \"Label\": 0, \"Class\": \"NORMAL\"}, {\"Sentence\": \" Of course wages higher within private sector , hand , theologians secure employer \", \"Label\": 0, \"Class\": \"NORMAL\"}, {\"Sentence\": \" This would suit young people today , career , meaningful job well \", \"Label\": 0, \"Class\": \"NORMAL\"}, {\"Sentence\": \" According information Regional Church , covers three quarters Lower Saxony , around 60 pastors retire every year \", \"Label\": 0, \"Class\": \"NORMAL\"}, {\"Sentence\": \" At time , around 40 theology graduates begin vicars \", \"Label\": 0, \"Class\": \"NORMAL\"}, {\"Sentence\": \" In future may difficult fill positions sparsely populated outlying areas Harz , Emsland Wendland \", \"Label\": 0, \"Class\": \"NORMAL\"}, {\"Sentence\": \" Among initiatives , Burfien wants organise study days young people , inviting famous faces studied theology \", \"Label\": 0, \"Class\": \"NORMAL\"}, {\"Sentence\": \"Theology courses offer broad training\", \"Label\": 0, \"Class\": \"NORMAL\"}, {\"Sentence\": \"You even become Federal President theology degree\", \"Label\": 0, \"Class\": \"NORMAL\"}, {\"Sentence\": \" A kindergarten found private buyer &quot; The building good hands , &quot; said Winterlingen &apos;s Mayor Michael Maier \", \"Label\": 0, \"Class\": \"NORMAL\"}, {\"Sentence\": \"The local authorities sold former Kindergarten Gartenstra\\u00dfe private buyer\", \"Label\": 0, \"Class\": \"NORMAL\"}, {\"Sentence\": \" The Town Council consented sale recent meeting , part meeting open public \", \"Label\": 0, \"Class\": \"NORMAL\"}, {\"Sentence\": \"The building changed hands &quot; appropriate &quot; price\", \"Label\": 0, \"Class\": \"NORMAL\"}, {\"Sentence\": \" &quot; The local authorities satisfied , &quot; emphasised Maier \", \"Label\": 0, \"Class\": \"NORMAL\"}, {\"Sentence\": \" EUR 100,000 added local budget \", \"Label\": 0, \"Class\": \"NORMAL\"}, {\"Sentence\": \"It yet clear new owner use former Kindergarten\", \"Label\": 0, \"Class\": \"NORMAL\"}, {\"Sentence\": \" The Mayor considers right decision Winterlingen handed responsibility building someone else winter , thus longer pay upkeep building , heating , tending garden clearing pavement \", \"Label\": 0, \"Class\": \"NORMAL\"}, {\"Sentence\": \" &quot; This expense offloaded , &quot; Maier glad say \", \"Label\": 0, \"Class\": \"NORMAL\"}, {\"Sentence\": \" The throwaway society think The night long , music loud atmosphere good , point everyone go home \", \"Label\": 0, \"Class\": \"NORMAL\"}, {\"Sentence\": \" Except: In stomachs passenger back seats , hunger strikes \", \"Label\": 0, \"Class\": \"NORMAL\"}, {\"Sentence\": \" Of course , may odd cocktail glass bubbly ! So could natural casually pull next drive-through pick little treat ? I admit , I right comes picking fast food late night , early morning case may \", \"Label\": 0, \"Class\": \"NORMAL\"}, {\"Sentence\": \" A chips , coke , burger - straight home bed ! However , way home clear differences hungry clubbers become evident \", \"Label\": 0, \"Class\": \"NORMAL\"}, {\"Sentence\": \" What wrong people continually throw fast food bags car window ? ! At weekend particular , discarded paper bags found side road car parks \", \"Label\": 0, \"Class\": \"NORMAL\"}, {\"Sentence\": \"&quot; Why ? &quot; I ask\", \"Label\": 0, \"Class\": \"NORMAL\"}, {\"Sentence\": \" Are people stupid take bags home throw nearest rubbish bin ? After , waste paper spoil landscape \", \"Label\": 0, \"Class\": \"NORMAL\"}, {\"Sentence\": \" Bags also seen covering transport facilities crash barriers , thus causing accidents \", \"Label\": 0, \"Class\": \"NORMAL\"}, {\"Sentence\": \" However , so-called &quot; throwaway society &quot; think things \", \"Label\": 0, \"Class\": \"NORMAL\"}, {\"Sentence\": \"They probably even know term even means\", \"Label\": 0, \"Class\": \"NORMAL\"}, {\"Sentence\": \" If often evening , often several people car , know back seat look like partied night: clothes , bottles rubbish begin pile \", \"Label\": 0, \"Class\": \"NORMAL\"}, {\"Sentence\": \"A bags &apos;t make much difference - contrast street no-one wants trample peoples &apos; leftover food\", \"Label\": 0, \"Class\": \"NORMAL\"}, {\"Sentence\": \"I see day coming towns municipalities get fed clearing - fast food chains operate deposit scheme bags\", \"Label\": 0, \"Class\": \"NORMAL\"}, {\"Sentence\": \" FAA: Air passengers use gadgets planes (but make cell phone calls) Airline passengers able use electronic devices gate-to-gate read , work , play games , watch movies listen music - talk cellphones - much-anticipated new guidelines issued Thursday Federal Aviation Administration \", \"Label\": 0, \"Class\": \"NORMAL\"}, {\"Sentence\": \"But passengers &apos;t expect changes happen immediately\", \"Label\": 0, \"Class\": \"NORMAL\"}, {\"Sentence\": \" How fast change implemented vary airline , FAA Administrator Michael Huerta said news conference \", \"Label\": 0, \"Class\": \"NORMAL\"}, {\"Sentence\": \"Airlines show FAA airplanes meet new guidelines &apos;ve updating flight crew training manuals rules stowing devices reflect new guidelines\", \"Label\": 0, \"Class\": \"NORMAL\"}, {\"Sentence\": \"The FAA said already received plans airlines expand use portable electronic devices planes\", \"Label\": 0, \"Class\": \"NORMAL\"}, {\"Sentence\": \"Delta JetBlue among airliners already submitted plans\", \"Label\": 0, \"Class\": \"NORMAL\"}, {\"Sentence\": \" &quot; Depending condition plan , could approve expanded use electronic devices soon , &quot; FAA said statement \", \"Label\": 0, \"Class\": \"NORMAL\"}, {\"Sentence\": \" Currently , passengers required turn smartphones , tablets devices plane &apos;s door closes \", \"Label\": 0, \"Class\": \"NORMAL\"}, {\"Sentence\": \" They &apos;re supposed restart planes reach 10,000 feet captain gives go-ahead \", \"Label\": 0, \"Class\": \"NORMAL\"}, {\"Sentence\": \"Passengers supposed turn devices plane descends land restart plane ground\", \"Label\": 0, \"Class\": \"NORMAL\"}, {\"Sentence\": \" Under new guidelines , airlines whose planes properly protected electronic interference may allow passengers use devices takeoffs , landings taxiing , FAA said \", \"Label\": 0, \"Class\": \"NORMAL\"}, {\"Sentence\": \"Most new airliners planes modified passengers use Wifi higher altitudes expected meet criteria\", \"Label\": 0, \"Class\": \"NORMAL\"}, {\"Sentence\": \" Laura Glading , president Association Professional Flight Attendants , welcomed changes \", \"Label\": 0, \"Class\": \"NORMAL\"}, {\"Sentence\": \" &quot; Once new policy safely implemented - &apos;re going work closely carrier - win-win , &quot; Glading said statement \", \"Label\": 0, \"Class\": \"NORMAL\"}, {\"Sentence\": \"We &apos;re frankly tired feeling like &apos; hall monitors &apos; comes issue\", \"Label\": 0, \"Class\": \"NORMAL\"}, {\"Sentence\": \" But connecting Internet surf , exchange emails , text download data still prohibited 10,000 feet , agency said \", \"Label\": 0, \"Class\": \"NORMAL\"}, {\"Sentence\": \" Passengers told switch smartphones , tablets devices airplane mode \", \"Label\": 0, \"Class\": \"NORMAL\"}, {\"Sentence\": \" So , still Words With Friends , online Scrabble-type game actor Alec Baldwin playing smartphone 2011 famously booted American Airlines jet refusing turn device plane parked gate \", \"Label\": 0, \"Class\": \"NORMAL\"}, {\"Sentence\": \"And heavier devices laptops continue stowed concern might injure someone go flying around cabin\", \"Label\": 0, \"Class\": \"NORMAL\"}, {\"Sentence\": \"In-flight cellphone calls also continue prohibited\", \"Label\": 0, \"Class\": \"NORMAL\"}, {\"Sentence\": \" Regulatory authority phone calls belongs Federal Communications Commission , FAA \", \"Label\": 0, \"Class\": \"NORMAL\"}, {\"Sentence\": \" FAA may lift ban electronic devices takeoff landing Last month , National Transportation Safety Board Mark Rosenker , CBS News national transportation safety expert , said cell phones still considered risk \", \"Label\": 0, \"Class\": \"NORMAL\"}, {\"Sentence\": \" &quot; Cell phones , really issue , potentially could create interference navigational devices , know , according FCC , could interfere cell phone towers &apos;re air , &quot; Rosenker said \", \"Label\": 0, \"Class\": \"NORMAL\"}, {\"Sentence\": \"An industry advisory committee created FAA examine issue recommended last month government permit greater use personal electronic devices\", \"Label\": 0, \"Class\": \"NORMAL\"}, {\"Sentence\": \"Pressure building FAA recent years ease restrictions use\", \"Label\": 0, \"Class\": \"NORMAL\"}, {\"Sentence\": \"Critics Sen\", \"Label\": 0, \"Class\": \"NORMAL\"}, {\"Sentence\": \" Claire McCaskill , D-Mo \", \"Label\": 0, \"Class\": \"NORMAL\"}, {\"Sentence\": \" , contend valid safety reason prohibitions \", \"Label\": 0, \"Class\": \"NORMAL\"}, {\"Sentence\": \"The restrictions also become increasingly difficult enforce use devices become ubiquitous\", \"Label\": 0, \"Class\": \"NORMAL\"}, {\"Sentence\": \"Some studies indicate many third passengers forget ignore directions turn devices\", \"Label\": 0, \"Class\": \"NORMAL\"}, {\"Sentence\": \" The FAA began restricting passengers &apos; use electronic devices 1966 response reports interference navigation communications equipment passengers began carrying FM radios , high-tech gadgets day \", \"Label\": 0, \"Class\": \"NORMAL\"}, {\"Sentence\": \" New airliners far reliant electrical systems previous generations aircraft , also designed approved FAA resistant electronic interference \", \"Label\": 0, \"Class\": \"NORMAL\"}, {\"Sentence\": \"Airlines offering Wi-Fi use cruising altitudes passengers several years\", \"Label\": 0, \"Class\": \"NORMAL\"}, {\"Sentence\": \"Planes modified Wi-Fi systems also resistant interference\", \"Label\": 0, \"Class\": \"NORMAL\"}, {\"Sentence\": \" The vast majority airliners qualify greater electronic device use new guidelines , Huerta said \", \"Label\": 0, \"Class\": \"NORMAL\"}, {\"Sentence\": \"Today &apos;s electronic devices generally emit much lower power radio transmissions previous generations devices\", \"Label\": 0, \"Class\": \"NORMAL\"}, {\"Sentence\": \" E-readers , example , emit minimal transmissions turning page \", \"Label\": 0, \"Class\": \"NORMAL\"}, {\"Sentence\": \"But transmissions stronger devices downloading sending data\", \"Label\": 0, \"Class\": \"NORMAL\"}, {\"Sentence\": \"Among pressing relaxation restrictions passengers &apos; use devices Amazon\", \"Label\": 0, \"Class\": \"NORMAL\"}, {\"Sentence\": \"com\", \"Label\": 0, \"Class\": \"NORMAL\"}, {\"Sentence\": \" In 2011 , company officials loaded airliner full Kindle e-readers flew around test problems found none \", \"Label\": 0, \"Class\": \"NORMAL\"}, {\"Sentence\": \"FAA advisory committee members expressed mixed feelings whether use devices presents risk\", \"Label\": 0, \"Class\": \"NORMAL\"}, {\"Sentence\": \"Douglas Kidd National Association Airline Passengers said believes interference devices genuine even risk minimal\", \"Label\": 0, \"Class\": \"NORMAL\"}, {\"Sentence\": \" Other committee members said anecdotal reports pilots support devices interfere aircraft systems , reports old \", \"Label\": 0, \"Class\": \"NORMAL\"}, {\"Sentence\": \" However , committee recommended FAA allow pilots order passengers shut devices instrument landings low visibility \", \"Label\": 0, \"Class\": \"NORMAL\"}, {\"Sentence\": \" A travel industry group welcomed changes , calling common-sense accommodations traveling public bristling technology \", \"Label\": 0, \"Class\": \"NORMAL\"}, {\"Sentence\": \" &quot; We &apos;re pleased FAA recognizes enjoyable passenger experience incompatible safety security , &quot; said Roger Dow , CEO U\", \"Label\": 0, \"Class\": \"NORMAL\"}, {\"Sentence\": \"S\", \"Label\": 0, \"Class\": \"NORMAL\"}, {\"Sentence\": \"Travel Association\", \"Label\": 0, \"Class\": \"NORMAL\"}, {\"Sentence\": \"modify 9 28845 28845 apply2 Fun 2453 1 bbs314 129-945\", \"Label\": 0, \"Class\": \"NORMAL\"}, {\"Sentence\": \"cgi down_file http://coolseo\", \"Label\": 0, \"Class\": \"NORMAL\"}, {\"Sentence\": \"co\", \"Label\": 0, \"Class\": \"NORMAL\"}, {\"Sentence\": \"uk new2 4 1 * ** *** **** ****** ******* ******** ********* ************* ******************* ********************** subject desc 79 sub0104 9 e_qna eng modify 1 28988 28988 F1 read F1 9636 35 v aWR4PTM0MjQsd1mc3RhcnRQYWdlPTMxNSZsaXN0Tm89MjU5NSZ0YWJsZT1yZWRfYmJzX2RhdGEmY29kZT1xbmEmc2VhcmNoX2l0ZW09JnNlYX123Jja123F9vcmRlcj0 = || Y29kZT1xbmEmc2VhcmNsasdf;lkaspodfkd123oX2l0sdfsdZW09JnNlYXJjaF9vcmRlcj0mdW5zaW5nY29kZTE9MTI1Nzc1NTY5MSZ1bnNpbmdjb2RlMj0xMjU3NzU1N123zczJnVuc2luZ2NvZGUzPSZjYXRlPSZwd2Q9|| e_qna eng \\ub09c \\uc9f1\\uc774\\ub2e4\", \"Label\": 0, \"Class\": \"NORMAL\"}, {\"Sentence\": \"\\ub09c \\uba4b\\uc788\\ub2e4\", \"Label\": 0, \"Class\": \"NORMAL\"}, {\"Sentence\": \"\\ub09c \\ud6cc\\ub96d\\ud558\\ub2e4\", \"Label\": 0, \"Class\": \"NORMAL\"}, {\"Sentence\": \"69 47164 F6 reply F6 1568 0 csdf1123mVwbHk =  9 134 e_qna eng modify 38 22747 22747 3945 556 V gallery2 view 366 3 F1 read F1 8628 80 sub0204 photo OPTOMA 218 30 02_01 1091 wr_datetime asc 2 sub0203 photo e_qna eng 8 18489 bbs338 12 view 132\", \"Label\": 0, \"Class\": \"NORMAL\"}, {\"Sentence\": \"cgi yes awesomescott111@hanmail\", \"Label\": 0, \"Class\": \"NORMAL\"}, {\"Sentence\": \"net /usr/lib/sendmail http://1sa23l\", \"Label\": 0, \"Class\": \"NORMAL\"}, {\"Sentence\": \"net \\ud64d\\uae38\\ub3d9 yoda-master@hanmail\", \"Label\": 0, \"Class\": \"NORMAL\"}, {\"Sentence\": \"net /usr/lib/sendmail bbs338 12 view 120\", \"Label\": 0, \"Class\": \"NORMAL\"}, {\"Sentence\": \"cgi yes sub0202 photo 2 1 yetglezip 71 75 e_qna view eng 25 47817 e_qna eng delete 41 24242 bbs314 129-945\", \"Label\": 0, \"Class\": \"NORMAL\"}, {\"Sentence\": \"cgi down_file http://hohohohoohoho\", \"Label\": 0, \"Class\": \"NORMAL\"}, {\"Sentence\": \"com/post/140267892711/management-consulting-via-how-to-get-more-value study 95 6 wr_datetime desc bbs338 12 view 122\", \"Label\": 0, \"Class\": \"NORMAL\"}, {\"Sentence\": \"cgi 60 9bedb57073 heartbeat nav-menus false yetglezip 41 49 PRODUCT393 PRODUCT393 bbs1 1 view 115\", \"Label\": 0, \"Class\": \"NORMAL\"}, {\"Sentence\": \"cgi 393 F4 read F4 634 PDS 1771 1 yetglezip 3980 wr_hit desc 497 1490110 bbs4 for_print 9\", \"Label\": 0, \"Class\": \"NORMAL\"}, {\"Sentence\": \"cgi maket 238 %BB%E7%C0%E5%B4%DC -----------------------------7e116d19044c 2 [url = http://ciassssssional\", \"Label\": 0, \"Class\": \"NORMAL\"}, {\"Sentence\": \"us\", \"Label\": 0, \"Class\": \"NORMAL\"}, {\"Sentence\": \"com/]Buy Ciddds[/url] [url = http://vsdfasdfasdferic\", \"Label\": 0, \"Class\": \"NORMAL\"}, {\"Sentence\": \"us\", \"Label\": 0, \"Class\": \"NORMAL\"}, {\"Sentence\": \"org/]VIAGRA TABS[/url] http://RockVideoGames\", \"Label\": 0, \"Class\": \"NORMAL\"}, {\"Sentence\": \"com/wp-includes/online-mc, PRODUCT409 PRODUCT409 %EB%B0%95%EC%A3%BC%ED%98%B8 %ED%99%8D%EA%B8%B8%EB%8F%99 %ED%99%8D%EA%B8%B8%EA%B0%80 %ED%99%8D%EA%B8%B8%EB%82%98 %ED%99%8D%EA%B8%B8%EB%8B%A4 %ED%99%8D%EA%B8%B8%EB%9D%BC %ED%99%8D%EA%B8%B8%EB%A7%88 %ED%99%8D%EA%B8%B8%EB%B0%94 %ED%99%8D%EA%B8%B8%EC%82%AC %ED%99%8D%EA%B8%B8%EC%95%84 %ED%99%8D%EA%B8%B8%EC%9E%90 %ED%99%8D%EC%A7%88%EC%B0%A8%ED%99%8D%EC%A7%88%EC%B0%A8 & & =  (\\uc8fc)\\ub098\\ube60\\uc694\\ud558\\ud558 ******* ********* ********** *********** ************** *************** +5hIp5/XQSe0q9x4@V$K@xbLIzU9CXs34UqM8@V$K@B9PWaIyA1ZscZc0tdMH@V$K@xbLIzU9CXs34UqM8 -----------------------------7e110e370ece -----------------------------7e115a25c0784 -----------------------------7e1161151f9e -----------------------------7e123d150600 -----------------------------7e12422e2 -----------------------------7e12422e2c090a -----------------------------7e12b2f1e1098 -----------------------------7e12db131 -----------------------------7e12db131f238a -----------------------------7e13482d1 -----------------------------7e13482d1b1020 -----------------------------7e135771c0f0c -----------------------------7e17a8320a4 -----------------------------7e1846d0fba -----------------------------7e196581600 -----------------------------7e1c7582640 ------WebKitFormBoundaryxqnD09MP6AAoISHj \", \"Label\": 0, \"Class\": \"NORMAL\"}, {\"Sentence\": null, \"Label\": 0, \"Class\": \"NORMAL\"}, {\"Sentence\": \"/flash/agency/buchun01\", \"Label\": 0, \"Class\": \"NORMAL\"}, {\"Sentence\": \"jpg /161-4065/\\ucd94/8482/73 /i5W9va9aKuNwS0p1213dMXvxZSo3FQ =  =  /usr/lib/sendmail 0 001000000000000022 004000000000000011 004000000000000012 00:00 01 010 0101 0102 01024328836 01026253919 01052578483 01055251172 01055511178 01082117188 01087911493 0109 0124 02 04 05 06 07 08 09 1 1 1& 1\", \"Label\": 0, \"Class\": \"NORMAL\"}, {\"Sentence\": \"000 1\", \"Label\": 0, \"Class\": \"NORMAL\"}, {\"Sentence\": \"004 10 100 100) 100*50 10031 10054 10093 101 10134board 10179 102 10229 10250 10293 10348 1038644987 105\", \"Label\": 0, \"Class\": \"NORMAL\"}, {\"Sentence\": \"cgi 1051 1054 106 107 1071 1079 108 108\", \"Label\": 0, \"Class\": \"NORMAL\"}, {\"Sentence\": \"cgi 1081743475 1085 109-1\", \"Label\": 0, \"Class\": \"NORMAL\"}, {\"Sentence\": \"cgi 109090 1097 11 11\", \"Label\": 0, \"Class\": \"NORMAL\"}, {\"Sentence\": \"cgi 2& 20 20003 2017 201704/00001491382788757\", \"Label\": 0, \"Class\": \"NORMAL\"}, {\"Sentence\": \"zip 201704/00001491528420366\", \"Label\": 0, \"Class\": \"NORMAL\"}, {\"Sentence\": \"zip 201704/00001491528883971\", \"Label\": 0, \"Class\": \"NORMAL\"}, {\"Sentence\": \"pdf 201704/00001491529916387\", \"Label\": 0, \"Class\": \"NORMAL\"}, {\"Sentence\": \"pdf 201704/00001491529916625\", \"Label\": 0, \"Class\": \"NORMAL\"}, {\"Sentence\": \"pdf 201704/00001491530124766\", \"Label\": 0, \"Class\": \"NORMAL\"}, {\"Sentence\": \"zip 201704/00001491530253354\", \"Label\": 0, \"Class\": \"NORMAL\"}, {\"Sentence\": \"pdf 201704/00001491530253903\", \"Label\": 0, \"Class\": \"NORMAL\"}, {\"Sentence\": \"pdf 201704/00001491530747318\", \"Label\": 0, \"Class\": \"NORMAL\"}, {\"Sentence\": \"pdf 201704/00001491531111591\", \"Label\": 0, \"Class\": \"NORMAL\"}, {\"Sentence\": \"pdf 201704/00001491531111628\", \"Label\": 0, \"Class\": \"NORMAL\"}, {\"Sentence\": \"pdf 201704/00001491531280013\", \"Label\": 0, \"Class\": \"NORMAL\"}, {\"Sentence\": \"pdf 201704/00001491531338012\", \"Label\": 0, \"Class\": \"NORMAL\"}, {\"Sentence\": \"pdf 201704/00001491531745287\", \"Label\": 0, \"Class\": \"NORMAL\"}, {\"Sentence\": \"zip 201704/00001491531967789\", \"Label\": 0, \"Class\": \"NORMAL\"}, {\"Sentence\": \"pdf 20170407112157Xyhcho 202 2020 203 204 20438 20648 20721304 214\\\" alt = \\\"time options\\\" title = \\\"time options s\", \"Label\": 0, \"Class\": \"NORMAL\"}, {\"Sentence\": \"com\\\" style = \\\"max-width:450px;float:left;padding:10px 10px 10px 0px;border:0px;\\\"> As type buying selling turn 2145 215 22 220 540 543 544473 buy omnicef diners club store 544473\\\"> buy omnicef diners club store </a>  544473\\\"]buy omnicef diners club store[/url] 9ArATgxuN99s5bw1e@V$K@JrLjlTnn1aFZqEw2cH@V$K@1d2RRER7vmuzdd4nPCz@V$K@/CkclyEqatPpZvNr  </methodCall>   </methodCall> 482  </params>   <?xml version = \\\"1\", \"Label\": 0, \"Class\": \"NORMAL\"}, {\"Sentence\": \"0\\\" encoding = \\\"utf-8\\\" ?>   <_filter>  <![CDATA[insert]]>  </_filter>   <_filter>  <![CDATA[signup]]>  </_filter>   <_filter>  <![CDATA[widget_login]]>  </_filter>   <a href = \\\"http://caritaskinshasa\", \"Label\": 0, \"Class\": \"NORMAL\"}, {\"Sentence\": \"org/?option = com_k2  <a href = \\\"http://corfopym\", \"Label\": 0, \"Class\": \"NORMAL\"}, {\"Sentence\": \"com/?option = com_k2  <act>  <![CDATA[procMemberInsert]]>  </act>   <act>  <![CDATA[procMemberLogin]]>  </act>   <allow_comment>  <![CDATA[]]>  </allow_comment>   <allow_trackback>  <![CDATA[]]>  </allow_trackback>   <birthday>  <![CDATA[19850616]]>  </birthday>   <content>  <![CDATA[ <img src = \\\"http://media2\", \"Label\": 0, \"Class\": \"NORMAL\"}, {\"Sentence\": \"picsearch\", \"Label\": 0, \"Class\": \"NORMAL\"}, {\"Sentence\": \"com/is?-WZx-uhyLezKNiYLvAbKL3W4oh5F749nr2KUmFFjZOU  <email_address>  <![CDATA[elwoodbuckley@freenet\", \"Label\": 0, \"Class\": \"NORMAL\"}, {\"Sentence\": \"de]]>  </email_address>   <find_account_answer>  <![CDATA[fqaepqdkct]]>  </find_account_answer>   <find_account_question>  <![CDATA[6]]>  </find_account_question>   <homepage>  <![CDATA[]]>  </homepage>   <is_secret>  <![CDATA[]]>  </is_secret>   <methodCall>   <mid>  <![CDATA[qna]]>  </mid>   <module>  <![CDATA[member]]>  </module>   <nick_name>  <![CDATA[ElwoodBuckley041104]]>  </nick_name>   <params>   <password2>  <![CDATA[Yxg6dsF5iU]]>  </password2>   <password>  <![CDATA[Yxg6dsF5iU]]>  </password>   <reward_point>  <![CDATA[0]]>  </reward_point>   <title>  <![CDATA[Ways To Make Cash Online - Make Money From Home]]>  </title>   <user_id>  <![CDATA[ElwoodBuckley041104]]>  </user_id>   <user_name>  <![CDATA[ElwoodBuckley041104]]>  </user_name>   =  =   =  = 01 @7520 A3B10 A3B12C41 A3B12C411 APP AR-203 ASCd AgAHMzM3MsdfjMwMExG6Pvz1i3DhGd7DSt5Ve9Qu/n91BdfdEB5EbdeO/M5lphLOo5yOn/ZyS1jabRmzu2WUHoScLEwJjaDz2yHm9tJWbLuELC/JM8Eix/VtyWmMO5osa8FbYZnPanAxI7Ty0n7avQytu2rEK2F+N+C390zLVThtSXL1Isk49OSEWuEAzdaRlmLUWcpx6XSDjFZ++1cgwEoAILJ9Q5NObm6nYipbGovJ6YZgiEncnT9GU6x6sgKNppX0YgXXmss+0Qi5eXWmDn30UlwjfTbmc+Ta17XLDXGm6f/hiM7f4fde+5c+Pavn9EIZXYe9K6G/GyCM7I0dzjPIsjEOwl96y+fYXoZoJcp79kLwtTy6F1dL1HAs8DSFoIrfoUs7zyFtzgMnV2K0sT68IwWkiof2eM1Xes5nbDzmHOEQZ+loGLF2UBIyGcz4cSCtdZhrJXt7TxSIzeHKYpCgtVhNo4zJDlHo7zpUnR+8dSlUsdf18e08zs4iGMRK43bhv6oGA6dUw/dX+exrGTL+NMOThQUQvFdYNsc+AFGWo3PqLFhjQ9s3RzK5krr6II3e2vKhs36q7NgNgaIlQNiqNo8cNbE8iVUxZcHhvxaOStpiUN+N9KY4sZ51Ole8offosPb1NqXs3575SXU+1dEpaggUrUJqKjeUM4Hu90KoHmbL2+/zt6Bk+GCnk2WBKJENscEetfLBCBzBGXPlKC7/G5W4k8Gviynn4qCUoD9FvagtKTTF4MaA5rZtrKRabUae++259WRUZ3VEHfzjpXLaogS9DoeVHDebAClkkuAdU6F6fa2wFIM58 =  AgAHMzM3MjMwMJnS2WotX5wisoSRNiccx9VSfDnC/TFaDo/9wddE55SqhLOo5yOn/ZyS1jabRmzu2WUHoScLEwJjDz2yHsm9tJWa4Oyj22HdAIrJSshxe0KmKTxD4lBsReQqG6IN3ULz8oaEwMT7lKcx4Ukfep1IwCe7xHXlsW2gCFxdZmh731jKLuFDn/9rcY4AkdgqajLoHmVnLk3uBcTxbQS8XWJJk8++VnGu9toYSualxl0CgjSRgl01ddYqiaVYQOBShAcHCdfbHmbDZIPrPowSVFUAGpYsVDx3fVEdDa8NKRAPMI3wAlq40FqZDdhNXNr70OL9ZRzS82kWdHP8w2hd1KcIheAxDSw4a5FLAjzSWrdjcOvUfJQO5QT/90J19i2IWnuTNIdTzOcf3uVy23sHyWmsBEWHyaSsKDm7dfOPPwHIWamQKkdcm5KoWp/FgoIR09S0cn/BZzLOsdcFSbhYOxA =  =  B_qna B_solution Bn2GepSdoAsdfe4V4a1@V$K@Bn2GepSdoAe4V4a1@23V$K@PlVEBnTVHAYa01hH@V$K@eTZyMZ0F3YBl4Ozr@V$K@Bn2GepSdoAe4V4a1@V$K@xJ8t+K+x1e6/nqCp@V$a1K@PLnd8fSYoXD3QL3s Board00001 C CYsdfSL7J/aXGaV/30TU412JWfjHA =  =  Cont Content-Disposi Content-Disposition: form- Content-Disposition: form-data; name = \\\"app\\\" Content-Disposition: form-data; name = \\\"cd_loan_type\\\" Content-Disposition: form-data; name = \\\"id_finance\\\" Content-Disposition: form-data; name = \\\"mode\\\" Content-Disposition: form-data; name = \\\"no\\\" Content-Disposition: form-data; name = \\\"no_goods\\\" Content-Disposition: form-data; name = \\\"path\\\" Content-Disposition: form-data; name = \\\"pnm\\\" Content-Disposition: form-data; name = \\\"return_page\\\" Content-Disposition: form-data; name = \\\"type\\\" D2 D3 DC-3000 DF Del E EA F1 F4 F5 F6 FG123P8HQ+vasd0pVzD2O+YlD+v1V2g =  =  FmsdfVDvlXqIVetUIzs@V$K@Vj+fqZ6TuN123pq1X2w@V$K@dqRLntgax88tXGB3@V$K@R43SsinxoXFCKjAy FmVDvlXqIVetUIzs@V$K@n5aESvV0q4Se1iBn8@Vasd$K@M5IvfWDvvs5y1TnouS@V$K@Vj+fqZ6TuNpq1X2w@V$K@fuvKbfOrsGKtsDsdf7l@V$K@ZtgfO1WcVPD67KFos@V$K@dqRLntgax88tXGB3 Free Fun Hf6DNiDdq1xzaB3bdDT@V$512K@MRn61gAqhi0iae213dd@V$K@Hf6DNisdfDxzaB3bdDT@V$K@rSTgzjcYIY7Iirl+@V$K@iTI/NtJsfFTdH8ah@V$K@Hf6DNiDxzaB3bdDT@V$K@EdodGNxPNEYWbWcs JVwH/8xSq6ezJPYt@V$s23K@vPr4I41U8oeym0BEi+@V$K@3WPcTx1mJ5sBdACl@V$K@3WPcTx1mJ5sBdACl@V$K@QpmadUUMPKv2tSJP@V$K@JVwH/8xSq6ezasdfJPYt@V$K@vPr4IU8oeym0BEi+ L-840 360ml \\ud2b8\\ub9ac\\uac70 L-840 450 \\ud2b8\\ub9ac\\uac70 L5VSRxv4dfoDXwH+hZ@V$K@T0NO9ASwF7J4gKAh@V$K@VWvmclMqqannOAJf@V$K@ERQVjx2OGeE0Mxdf@V$K@VicBva15FL1xm0WH@Va123$K@T0NO9ASwF7J4gKAh@V$K@VicBva15FL1xm0WH PSC-1 NPP Purchase omnicef without prescri QJt5lWbasdftpJ3yciKW@V$K@Hf6DNi123Dxz1aB3bdDT@V$K@iTI/NtJsfFaTdH8vah@V$K@MRn61gAqhi0iaedd QNA_7 R RandD S SF-1013 SR-600 School TC-100 TP1 TracyJat TzwvXJPEcaaOZ9DhJ0@V$K@6DPV+YkQBHbJYSMo@V$Kw@fykXPjdnQQrXTvasdfSr@V$K@c1LOcyiCkFas+XHzbo@V$K@LIHG/+VLgv8RRGR01123@V$K@TzwvXJPEcOZ9DhJ0@V$K@uiGFBm0312rIUaiuBxk UWxvAe743xrPY10JM@V$K@rojWCf7y+OXORcBK@V$Kv@0AIa2oYla5Nt1ckw3@V$K@GMPMso40NCSoArEA V V0hYD71LOy24uhiN4N@3V$K@L5VSRxv4oDXwH+hZ@Vsdf$K@znwrm3vjnUyJBkle@V$K@OuJAnfBzCHbLSge1 VISITVIEW WJyyJ+94QQ2bZbMjn@V$K@kyzIU123+92FxfeBsdfaTn@V$K@3GcBPScFJ6QQEw12gn@V$K@kyzIU+92FsdxfeBaTn@V$K@kNefOsew6E+LZCD51r@V$K@WJyyJ+94Q4asdfkQbZbMjn@V123$K@WJyyJ+94QQbZbMjn WlDxZ/Xl9Gqymv123SWnoZdkHQ =  =  WnuIfx55kZ XQg12SK2QaeLWOadsfsa124yeMxePT1Pg =  =  Y Y&check_name Y,Y,Y,Y,Y,Y,Y,Y,Y,Y,Y,Y Y29k123ZT1mcmVlJnNlYXJjaasdvFa9pdGVtPSZzZWFyY2hfb3JkZXI9JnVuc2luZ2NvZGUxPTEyNTc3NTU2OTEkljoimdW5zasadfW5nY29kZTI9MTI1Nzc1NTc4123OCZ1asdfbnNpbmdjb232Rl41Mz0mY2F0ZT0mcHdkPQ =  = || Y29kZTasdf1xbmEmc2VcwehcmNoX2l0ZW09JnNlYXJjaF9vcmRlcasdj0mdW5zaW5nY29kZTE9MTIc131Nzc1NTY5MSZ1bnNpbmdjb2RlMj0xMjU3NzU1NzczJnVuc2412sasdfqluZ2NvasdfpwZGUzPSZjYXRlPSZwd2Q9|| YM YYkswPo6JL4ZZMkx@V$K@JnrdZp35dfasbHSPasldfp1123x571@V$K@7QbUi7a/9aCtxupAas;ldf@V$K@7QbUi7a/9aCtxupA@V$Ks;dlfsalkl;k@jW4BJJFvS0sJfNr9@V$K@YYkswPo6JL4ZZMkx@V$asdlkfjK@cM7J0WfRkiELyEje YcrJWg5O Yfrhmym9asdfkHyKybz9y@V$K@7asdlfksaldfXRKgdViFaBwTq7N@V$K@Yfrhmym9HyasldfkpoKybz9y@V$K@ZIKXXH1fCD3qlt7L add again_loan_Mobile agree_10_1 agree_20_1 agree_20_2 agree_30_1 agree_30_2 agree_30_3 agree_30_4 agree_40_1 agree_40_2 and1 ap14 application apply2 checkPwd\", \"Label\": 0, \"Class\": \"NORMAL\"}]}}, {\"mode\": \"vega-lite\"});\n",
              "</script>"
            ],
            "text/plain": [
              "alt.LayerChart(...)"
            ]
          },
          "execution_count": 53,
          "metadata": {},
          "output_type": "execute_result"
        }
      ],
      "source": [
        "bars = alt.Chart(data).mark_bar(size=50).encode(\n",
        "    x=alt.X(\"Class\", axis=alt.Axis(title='Categories')),\n",
        "    y=alt.Y(\"count():Q\", axis=alt.Axis(title='Frequency')),\n",
        "    tooltip=[alt.Tooltip('count()', title='Frequency'), 'Class'],\n",
        "    color='Class'\n",
        "\n",
        ")\n",
        "\n",
        "text = bars.mark_text(\n",
        "    align='center',\n",
        "    baseline='bottom',\n",
        ").encode(\n",
        "    text='count()'\n",
        ")\n",
        "\n",
        "(bars + text).interactive().properties(\n",
        "    height=300,\n",
        "    width=700,\n",
        "    title = \"Distribution of Categories\",\n",
        ")"
      ]
    },
    {
      "cell_type": "code",
      "execution_count": null,
      "metadata": {
        "colab": {
          "base_uri": "https://localhost:8080/"
        },
        "id": "QoTcadqJGcBF",
        "outputId": "c5dc6451-801c-4720-a72e-ef5ddca07a0a"
      },
      "outputs": [
        {
          "name": "stdout",
          "output_type": "stream",
          "text": [
            "['SQLI' 'NORMAL']\n"
          ]
        }
      ],
      "source": [
        "print(data['Class'].unique())"
      ]
    },
    {
      "cell_type": "code",
      "execution_count": null,
      "metadata": {
        "colab": {
          "base_uri": "https://localhost:8080/"
        },
        "id": "S9bKkpIoGjBj",
        "outputId": "ad869c9a-19cf-4750-eeaf-416bb1563a4b"
      },
      "outputs": [
        {
          "name": "stdout",
          "output_type": "stream",
          "text": [
            "Class\n",
            "NORMAL    3072\n",
            "SQLI      1127\n",
            "dtype: int64\n"
          ]
        }
      ],
      "source": [
        "print(data.groupby('Class').size())"
      ]
    },
    {
      "cell_type": "code",
      "execution_count": null,
      "metadata": {
        "colab": {
          "base_uri": "https://localhost:8080/"
        },
        "id": "gGjJzBkkGo70",
        "outputId": "c5abebbb-6530-4e8c-ca59-a35410d9c353"
      },
      "outputs": [
        {
          "name": "stdout",
          "output_type": "stream",
          "text": [
            "        Sentence  Label\n",
            "Class                  \n",
            "NORMAL      3060   3072\n",
            "SQLI        1125   1127\n"
          ]
        }
      ],
      "source": [
        "print(data.groupby('Class').count())"
      ]
    },
    {
      "cell_type": "code",
      "execution_count": null,
      "metadata": {
        "colab": {
          "base_uri": "https://localhost:8080/"
        },
        "id": "bNa3PFwfGwtf",
        "outputId": "af032ae3-8d45-4a51-d697-05c36f47dde8"
      },
      "outputs": [
        {
          "data": {
            "text/plain": [
              "4194    False\n",
              "4195    False\n",
              "4196    False\n",
              "4197    False\n",
              "4198    False\n",
              "Name: Class, dtype: bool"
            ]
          },
          "execution_count": 57,
          "metadata": {},
          "output_type": "execute_result"
        }
      ],
      "source": [
        "a= data['Class']==\"SQLI\"\n",
        "a.tail()\n"
      ]
    },
    {
      "cell_type": "code",
      "execution_count": null,
      "metadata": {
        "colab": {
          "base_uri": "https://localhost:8080/",
          "height": 418
        },
        "id": "psKTmT-PG4US",
        "outputId": "f12c0dcf-8317-4836-cccd-51448ead1655"
      },
      "outputs": [
        {
          "data": {
            "text/html": [
              "\n",
              "<div id=\"altair-viz-32436cf1a2e7445b97f74ba0b40f1dd4\"></div>\n",
              "<script type=\"text/javascript\">\n",
              "  var VEGA_DEBUG = (typeof VEGA_DEBUG == \"undefined\") ? {} : VEGA_DEBUG;\n",
              "  (function(spec, embedOpt){\n",
              "    let outputDiv = document.currentScript.previousElementSibling;\n",
              "    if (outputDiv.id !== \"altair-viz-32436cf1a2e7445b97f74ba0b40f1dd4\") {\n",
              "      outputDiv = document.getElementById(\"altair-viz-32436cf1a2e7445b97f74ba0b40f1dd4\");\n",
              "    }\n",
              "    const paths = {\n",
              "      \"vega\": \"https://cdn.jsdelivr.net/npm//vega@5?noext\",\n",
              "      \"vega-lib\": \"https://cdn.jsdelivr.net/npm//vega-lib?noext\",\n",
              "      \"vega-lite\": \"https://cdn.jsdelivr.net/npm//vega-lite@4.17.0?noext\",\n",
              "      \"vega-embed\": \"https://cdn.jsdelivr.net/npm//vega-embed@6?noext\",\n",
              "    };\n",
              "\n",
              "    function maybeLoadScript(lib, version) {\n",
              "      var key = `${lib.replace(\"-\", \"\")}_version`;\n",
              "      return (VEGA_DEBUG[key] == version) ?\n",
              "        Promise.resolve(paths[lib]) :\n",
              "        new Promise(function(resolve, reject) {\n",
              "          var s = document.createElement('script');\n",
              "          document.getElementsByTagName(\"head\")[0].appendChild(s);\n",
              "          s.async = true;\n",
              "          s.onload = () => {\n",
              "            VEGA_DEBUG[key] = version;\n",
              "            return resolve(paths[lib]);\n",
              "          };\n",
              "          s.onerror = () => reject(`Error loading script: ${paths[lib]}`);\n",
              "          s.src = paths[lib];\n",
              "        });\n",
              "    }\n",
              "\n",
              "    function showError(err) {\n",
              "      outputDiv.innerHTML = `<div class=\"error\" style=\"color:red;\">${err}</div>`;\n",
              "      throw err;\n",
              "    }\n",
              "\n",
              "    function displayChart(vegaEmbed) {\n",
              "      vegaEmbed(outputDiv, spec, embedOpt)\n",
              "        .catch(err => showError(`Javascript Error: ${err.message}<br>This usually means there's a typo in your chart specification. See the javascript console for the full traceback.`));\n",
              "    }\n",
              "\n",
              "    if(typeof define === \"function\" && define.amd) {\n",
              "      requirejs.config({paths});\n",
              "      require([\"vega-embed\"], displayChart, err => showError(`Error loading script: ${err.message}`));\n",
              "    } else {\n",
              "      maybeLoadScript(\"vega\", \"5\")\n",
              "        .then(() => maybeLoadScript(\"vega-lite\", \"4.17.0\"))\n",
              "        .then(() => maybeLoadScript(\"vega-embed\", \"6\"))\n",
              "        .catch(showError)\n",
              "        .then(() => displayChart(vegaEmbed));\n",
              "    }\n",
              "  })({\"config\": {\"view\": {\"continuousWidth\": 400, \"continuousHeight\": 300}}, \"layer\": [{\"mark\": {\"type\": \"bar\", \"size\": 50}, \"encoding\": {\"color\": {\"field\": \"Class\", \"type\": \"nominal\"}, \"x\": {\"field\": \"Class\", \"type\": \"nominal\"}, \"y\": {\"axis\": {\"format\": \".0%\", \"title\": \"Percentage of requirements\"}, \"field\": \"PercentOfTotal\", \"type\": \"quantitative\"}}, \"selection\": {\"selector002\": {\"type\": \"interval\", \"bind\": \"scales\", \"encodings\": [\"x\", \"y\"]}}, \"transform\": [{\"window\": [{\"op\": \"sum\", \"field\": \"id\", \"as\": \"TotalArticles\"}], \"frame\": [null, null]}, {\"calculate\": \"datum.id / datum.TotalArticles\", \"as\": \"PercentOfTotal\"}]}, {\"mark\": {\"type\": \"text\", \"align\": \"center\", \"baseline\": \"bottom\"}, \"encoding\": {\"color\": {\"field\": \"Class\", \"type\": \"nominal\"}, \"text\": {\"field\": \"PercentOfTotal\", \"format\": \".2%\", \"type\": \"quantitative\"}, \"x\": {\"field\": \"Class\", \"type\": \"nominal\"}, \"y\": {\"axis\": {\"format\": \".0%\", \"title\": \"Percentage of requirements\"}, \"field\": \"PercentOfTotal\", \"type\": \"quantitative\"}}, \"transform\": [{\"window\": [{\"op\": \"sum\", \"field\": \"id\", \"as\": \"TotalArticles\"}], \"frame\": [null, null]}, {\"calculate\": \"datum.id / datum.TotalArticles\", \"as\": \"PercentOfTotal\"}]}], \"data\": {\"name\": \"data-60aaf0b7ced48fe4773ebe467ec8a756\"}, \"height\": 300, \"title\": \"Percentage distribution of categories\", \"width\": 700, \"$schema\": \"https://vega.github.io/schema/vega-lite/v4.17.0.json\", \"datasets\": {\"data-60aaf0b7ced48fe4773ebe467ec8a756\": [{\"Class\": \"NORMAL\", \"id\": 3072}, {\"Class\": \"SQLI\", \"id\": 1127}]}}, {\"mode\": \"vega-lite\"});\n",
              "</script>"
            ],
            "text/plain": [
              "alt.LayerChart(...)"
            ]
          },
          "execution_count": 58,
          "metadata": {},
          "output_type": "execute_result"
        }
      ],
      "source": [
        "data['id'] = 1\n",
        "df2 = pd.DataFrame(data.groupby('Class').count()['id']).reset_index()\n",
        "\n",
        "bars = alt.Chart(df2).mark_bar(size=50).encode(\n",
        "    x=alt.X('Class'),\n",
        "    y=alt.Y('PercentOfTotal:Q', axis=alt.Axis(format='.0%', title='Percentage of requirements')),\n",
        "    color='Class'\n",
        ").transform_window(\n",
        "    TotalArticles='sum(id)',\n",
        "    frame=[None, None]\n",
        ").transform_calculate(\n",
        "    PercentOfTotal=\"datum.id / datum.TotalArticles\"\n",
        ")\n",
        "\n",
        "text = bars.mark_text(\n",
        "    align='center',\n",
        "    baseline='bottom',\n",
        "    #dx=5  # Nudges text to right so it doesn't appear on top of the bar\n",
        ").encode(\n",
        "    text=alt.Text('PercentOfTotal:Q', format='.2%')\n",
        ")\n",
        "\n",
        "(bars + text).interactive().properties(\n",
        "    height=300,\n",
        "    width=700,\n",
        "    title = \"Percentage distribution of categories\",\n",
        ")"
      ]
    },
    {
      "cell_type": "code",
      "execution_count": null,
      "metadata": {
        "colab": {
          "base_uri": "https://localhost:8080/",
          "height": 736
        },
        "id": "W7JsnaoJHFZf",
        "outputId": "049b82cd-dbdd-4c00-b884-82709e7dab9e"
      },
      "outputs": [
        {
          "data": {
            "image/png": "[encoded data removed]",
            "text/plain": [
              "<Waffle size 1296x720 with 1 Axes>"
            ]
          },
          "metadata": {},
          "output_type": "display_data"
        }
      ],
      "source": [
        "percentage = data['Class'].value_counts(normalize=True) * 100\n",
        "percentage = percentage.round(2)\n",
        "fig = plt.figure(\n",
        "    FigureClass=Waffle,\n",
        "    columns=60,\n",
        "    values=data['Class'].value_counts(),\n",
        "    labels=[\"{0} ({1}%)\".format(k, v) for k, v in percentage.items()],\n",
        "    figsize=(18, 10),\n",
        "    legend={'loc': 'lower left', 'bbox_to_anchor': (0, -0.2), 'ncol': len(data), 'framealpha': 0},\n",
        ")\n",
        "plt.title('Percentage distribution of categories')\n",
        "plt.show()"
      ]
    },
    {
      "cell_type": "code",
      "execution_count": null,
      "metadata": {
        "colab": {
          "base_uri": "https://localhost:8080/",
          "height": 17
        },
        "id": "DLKsyCD79ozk",
        "outputId": "c49b26b9-521c-4215-fd88-25ff81893d19"
      },
      "outputs": [
        {
          "data": {
            "text/html": [
              "        <script type=\"text/javascript\">\n",
              "        window.PlotlyConfig = {MathJaxConfig: 'local'};\n",
              "        if (window.MathJax) {MathJax.Hub.Config({SVG: {font: \"STIX-Web\"}});}\n",
              "        if (typeof require !== 'undefined') {\n",
              "        require.undef(\"plotly\");\n",
              "        requirejs.config({\n",
              "            paths: {\n",
              "                'plotly': ['https://cdn.plot.ly/plotly-2.8.3.min']\n",
              "            }\n",
              "        });\n",
              "        require(['plotly'], function(Plotly) {\n",
              "            window._Plotly = Plotly;\n",
              "        });\n",
              "        }\n",
              "        </script>\n",
              "        "
            ]
          },
          "metadata": {},
          "output_type": "display_data"
        }
      ],
      "source": [
        "\n",
        "##Importing Libraries\n",
        "import pandas as pd\n",
        "import numpy as np\n",
        "import seaborn as sns\n",
        "import sklearn\n",
        "import matplotlib.pyplot as plt\n",
        "import plotly.offline as py\n",
        "from sklearn import tree,linear_model,neighbors, svm\n",
        "from sklearn.model_selection import cross_val_score, train_test_split,GridSearchCV, KFold\n",
        "from sklearn.metrics import accuracy_score,confusion_matrix,classification_report,recall_score,f1_score,precision_score\n",
        "from sklearn.exceptions import ConvergenceWarning\n",
        "from sklearn.svm import SVC\n",
        "from sklearn.naive_bayes import GaussianNB\n",
        "from sklearn.ensemble import RandomForestClassifier,AdaBoostClassifier\n",
        "from imblearn.over_sampling import SMOTE\n",
        "from imblearn.under_sampling import RandomUnderSampler\n",
        "from collections import Counter\n",
        "import time\n",
        "import matplotlib.pyplot as plt\n",
        "import plotly.offline as py\n",
        "from plotly import tools\n",
        "py.init_notebook_mode(connected=True)\n",
        "import plotly.graph_objs as go\n"
      ]
    },
    {
      "cell_type": "code",
      "execution_count": null,
      "metadata": {
        "id": "q6H8gQkE9r6o"
      },
      "outputs": [],
      "source": [
        "## For ignoring warnings to view clean output\n",
        "import warnings\n",
        "warnings.filterwarnings(\"ignore\", category=FutureWarning)\n",
        "warnings.filterwarnings(\"ignore\", category=ConvergenceWarning)\n",
        "warnings.filterwarnings(\"ignore\", category=DeprecationWarning)"
      ]
    },
    {
      "cell_type": "code",
      "execution_count": null,
      "metadata": {
        "colab": {
          "base_uri": "https://localhost:8080/",
          "height": 143
        },
        "id": "IDLuNRKS9uaX",
        "outputId": "bd63abb1-57f6-4098-f6a5-e16aa3900590"
      },
      "outputs": [
        {
          "data": {
            "text/html": [
              "\n",
              "  <div id=\"df-90baff28-845c-4b7b-bda4-72d4a31ea19f\">\n",
              "    <div class=\"colab-df-container\">\n",
              "      <div>\n",
              "<style scoped>\n",
              "    .dataframe tbody tr th:only-of-type {\n",
              "        vertical-align: middle;\n",
              "    }\n",
              "\n",
              "    .dataframe tbody tr th {\n",
              "        vertical-align: top;\n",
              "    }\n",
              "\n",
              "    .dataframe thead th {\n",
              "        text-align: right;\n",
              "    }\n",
              "</style>\n",
              "<table border=\"1\" class=\"dataframe\">\n",
              "  <thead>\n",
              "    <tr style=\"text-align: right;\">\n",
              "      <th></th>\n",
              "      <th>Sentence</th>\n",
              "      <th>Label</th>\n",
              "      <th>Class</th>\n",
              "    </tr>\n",
              "  </thead>\n",
              "  <tbody>\n",
              "    <tr>\n",
              "      <th>0</th>\n",
              "      <td>a</td>\n",
              "      <td>1</td>\n",
              "      <td>SQLI</td>\n",
              "    </tr>\n",
              "    <tr>\n",
              "      <th>1</th>\n",
              "      <td>a'</td>\n",
              "      <td>1</td>\n",
              "      <td>SQLI</td>\n",
              "    </tr>\n",
              "    <tr>\n",
              "      <th>2</th>\n",
              "      <td>a' --</td>\n",
              "      <td>1</td>\n",
              "      <td>SQLI</td>\n",
              "    </tr>\n",
              "  </tbody>\n",
              "</table>\n",
              "</div>\n",
              "      <button class=\"colab-df-convert\" onclick=\"convertToInteractive('df-90baff28-845c-4b7b-bda4-72d4a31ea19f')\"\n",
              "              title=\"Convert this dataframe to an interactive table.\"\n",
              "              style=\"display:none;\">\n",
              "        \n",
              "  <svg xmlns=\"http://www.w3.org/2000/svg\" height=\"24px\"viewBox=\"0 0 24 24\"\n",
              "       width=\"24px\">\n",
              "    <path d=\"M0 0h24v24H0V0z\" fill=\"none\"/>\n",
              "    <path d=\"M18.56 5.44l.94 2.06.94-2.06 2.06-.94-2.06-.94-.94-2.06-.94 2.06-2.06.94zm-11 1L8.5 8.5l.94-2.06 2.06-.94-2.06-.94L8.5 2.5l-.94 2.06-2.06.94zm10 10l.94 2.06.94-2.06 2.06-.94-2.06-.94-.94-2.06-.94 2.06-2.06.94z\"/><path d=\"M17.41 7.96l-1.37-1.37c-.4-.4-.92-.59-1.43-.59-.52 0-1.04.2-1.43.59L10.3 9.45l-7.72 7.72c-.78.78-.78 2.05 0 2.83L4 21.41c.39.39.9.59 1.41.59.51 0 1.02-.2 1.41-.59l7.78-7.78 2.81-2.81c.8-.78.8-2.07 0-2.86zM5.41 20L4 18.59l7.72-7.72 1.47 1.35L5.41 20z\"/>\n",
              "  </svg>\n",
              "      </button>\n",
              "      \n",
              "  <style>\n",
              "    .colab-df-container {\n",
              "      display:flex;\n",
              "      flex-wrap:wrap;\n",
              "      gap: 12px;\n",
              "    }\n",
              "\n",
              "    .colab-df-convert {\n",
              "      background-color: #E8F0FE;\n",
              "      border: none;\n",
              "      border-radius: 50%;\n",
              "      cursor: pointer;\n",
              "      display: none;\n",
              "      fill: #1967D2;\n",
              "      height: 32px;\n",
              "      padding: 0 0 0 0;\n",
              "      width: 32px;\n",
              "    }\n",
              "\n",
              "    .colab-df-convert:hover {\n",
              "      background-color: #E2EBFA;\n",
              "      box-shadow: 0px 1px 2px rgba(60, 64, 67, 0.3), 0px 1px 3px 1px rgba(60, 64, 67, 0.15);\n",
              "      fill: #174EA6;\n",
              "    }\n",
              "\n",
              "    [theme=dark] .colab-df-convert {\n",
              "      background-color: #3B4455;\n",
              "      fill: #D2E3FC;\n",
              "    }\n",
              "\n",
              "    [theme=dark] .colab-df-convert:hover {\n",
              "      background-color: #434B5C;\n",
              "      box-shadow: 0px 1px 3px 1px rgba(0, 0, 0, 0.15);\n",
              "      filter: drop-shadow(0px 1px 2px rgba(0, 0, 0, 0.3));\n",
              "      fill: #FFFFFF;\n",
              "    }\n",
              "  </style>\n",
              "\n",
              "      <script>\n",
              "        const buttonEl =\n",
              "          document.querySelector('#df-90baff28-845c-4b7b-bda4-72d4a31ea19f button.colab-df-convert');\n",
              "        buttonEl.style.display =\n",
              "          google.colab.kernel.accessAllowed ? 'block' : 'none';\n",
              "\n",
              "        async function convertToInteractive(key) {\n",
              "          const element = document.querySelector('#df-90baff28-845c-4b7b-bda4-72d4a31ea19f');\n",
              "          const dataTable =\n",
              "            await google.colab.kernel.invokeFunction('convertToInteractive',\n",
              "                                                     [key], {});\n",
              "          if (!dataTable) return;\n",
              "\n",
              "          const docLinkHtml = 'Like what you see? Visit the ' +\n",
              "            '<a target=\"_blank\" href=https://colab.research.google.com/notebooks/data_table.ipynb>data table notebook</a>'\n",
              "            + ' to learn more about interactive tables.';\n",
              "          element.innerHTML = '';\n",
              "          dataTable['output_type'] = 'display_data';\n",
              "          await google.colab.output.renderOutput(dataTable, element);\n",
              "          const docLink = document.createElement('div');\n",
              "          docLink.innerHTML = docLinkHtml;\n",
              "          element.appendChild(docLink);\n",
              "        }\n",
              "      </script>\n",
              "    </div>\n",
              "  </div>\n",
              "  "
            ],
            "text/plain": [
              "  Sentence  Label Class\n",
              "0        a      1  SQLI\n",
              "1       a'      1  SQLI\n",
              "2    a' --      1  SQLI"
            ]
          },
          "execution_count": 62,
          "metadata": {},
          "output_type": "execute_result"
        }
      ],
      "source": [
        "## Importing the dataset\n",
        "data = pd.read_csv('/content/drive/MyDrive/SQLI/sqli_modified.csv', header=0)\n",
        "data.head(3)"
      ]
    },
    {
      "cell_type": "code",
      "execution_count": null,
      "metadata": {
        "id": "bn6v_l0996Zq"
      },
      "outputs": [],
      "source": [
        "X = data.iloc[:,:-1]\n",
        "y = data.iloc[:, 2]"
      ]
    },
    {
      "cell_type": "code",
      "execution_count": null,
      "metadata": {
        "colab": {
          "base_uri": "https://localhost:8080/"
        },
        "id": "bvkZcdWPbC7Z",
        "outputId": "e2cac997-b0bb-4046-ec46-1979e428ec56"
      },
      "outputs": [
        {
          "name": "stdout",
          "output_type": "stream",
          "text": [
            "Sentence : 3921 categories\n",
            "Label : 2 categories\n",
            "Class : 2 categories\n"
          ]
        }
      ],
      "source": [
        "# Shows the columns with their number of categories each variable is having\n",
        "for col in data.columns:\n",
        "    print(col, ':', len(data[col].unique()), 'categories')"
      ]
    },
    {
      "cell_type": "code",
      "execution_count": null,
      "metadata": {
        "colab": {
          "base_uri": "https://localhost:8080/"
        },
        "id": "UMGwfD5--VYu",
        "outputId": "36a1d85b-b2d9-4889-86ff-f903973b3b2a"
      },
      "outputs": [
        {
          "data": {
            "text/plain": [
              "(4199, 3921)"
            ]
          },
          "execution_count": 70,
          "metadata": {},
          "output_type": "execute_result"
        }
      ],
      "source": [
        "pd.get_dummies(data,drop_first=True).shape"
      ]
    },
    {
      "cell_type": "code",
      "execution_count": null,
      "metadata": {
        "id": "7JBiMYdMbPA3"
      },
      "outputs": [],
      "source": [
        "X = pd.get_dummies(X, drop_first=True)"
      ]
    },
    {
      "cell_type": "code",
      "execution_count": null,
      "metadata": {
        "colab": {
          "base_uri": "https://localhost:8080/"
        },
        "id": "-8y3c9W8bVa1",
        "outputId": "e8ba8b95-a023-4987-aded-71e31a314a0d"
      },
      "outputs": [
        {
          "data": {
            "text/plain": [
              "(4199, 3920)"
            ]
          },
          "execution_count": 72,
          "metadata": {},
          "output_type": "execute_result"
        }
      ],
      "source": [
        "X.shape"
      ]
    },
    {
      "cell_type": "code",
      "execution_count": null,
      "metadata": {
        "colab": {
          "base_uri": "https://localhost:8080/"
        },
        "id": "fpmnSb4hbZph",
        "outputId": "b799354f-9c4c-4506-ffa4-56efd14db904"
      },
      "outputs": [
        {
          "data": {
            "text/plain": [
              "NORMAL    3072\n",
              "SQLI      1127\n",
              "Name: Class, dtype: int64"
            ]
          },
          "execution_count": 73,
          "metadata": {},
          "output_type": "execute_result"
        }
      ],
      "source": [
        "### Checking for data imbalance\n",
        "y.value_counts()"
      ]
    },
    {
      "cell_type": "code",
      "execution_count": null,
      "metadata": {
        "colab": {
          "base_uri": "https://localhost:8080/"
        },
        "id": "QWpWSnlida9W",
        "outputId": "46dd6818-0bf9-4c1e-8056-12b4684bfd36"
      },
      "outputs": [
        {
          "name": "stdout",
          "output_type": "stream",
          "text": [
            "SQLI: 26.84%\n",
            " NORMAL: 73.16\n"
          ]
        }
      ],
      "source": [
        "print('SQLI: ' + str(round(data['Class'].value_counts()['SQLI'] / len(data) * 100, 2)) + '%\\n NORMAL: ' +\n",
        "      str(round(data['Class'].value_counts()['NORMAL'] / len(data) * 100, 2)))"
      ]
    },
    {
      "cell_type": "markdown",
      "metadata": {
        "id": "cHZqDZhMeA4m"
      },
      "source": [
        "# Splitting the dataset into training and test data for normal distribution"
      ]
    },
    {
      "cell_type": "code",
      "execution_count": null,
      "metadata": {
        "id": "ILk79a-Pdx_u"
      },
      "outputs": [],
      "source": [
        "X_train_over,X_test_over,y_train_over,y_test_over = train_test_split(X,y,test_size=0.2,random_state=42)"
      ]
    },
    {
      "cell_type": "code",
      "execution_count": null,
      "metadata": {
        "colab": {
          "base_uri": "https://localhost:8080/"
        },
        "id": "O7sxkQwbd_lr",
        "outputId": "295cfa8d-0978-4861-b459-1067a255e41e"
      },
      "outputs": [
        {
          "data": {
            "text/plain": [
              "NORMAL    3072\n",
              "SQLI      1127\n",
              "Name: Class, dtype: int64"
            ]
          },
          "execution_count": 76,
          "metadata": {},
          "output_type": "execute_result"
        }
      ],
      "source": [
        "# Print class frequencies\n",
        "pd.Series(y).value_counts()"
      ]
    },
    {
      "cell_type": "code",
      "execution_count": null,
      "metadata": {
        "colab": {
          "base_uri": "https://localhost:8080/"
        },
        "id": "AFwaT-BDexHu",
        "outputId": "c346013e-8ace-482e-afae-3fe0fded2dad"
      },
      "outputs": [
        {
          "name": "stdout",
          "output_type": "stream",
          "text": [
            "(3359, 3920)\n",
            "(840, 3920)\n",
            "(3359,)\n",
            "(840,)\n"
          ]
        }
      ],
      "source": [
        "# print the shapes of our training and test set\n",
        "print(X_train_over.shape)\n",
        "print(X_test_over.shape)\n",
        "print(y_train_over.shape)\n",
        "print(y_test_over.shape)"
      ]
    },
    {
      "cell_type": "code",
      "execution_count": null,
      "metadata": {
        "colab": {
          "base_uri": "https://localhost:8080/"
        },
        "id": "GnYQU8D2e254",
        "outputId": "f062d278-c128-4686-e18a-ea2ae71a7fa0"
      },
      "outputs": [
        {
          "data": {
            "text/plain": [
              "NORMAL    588\n",
              "SQLI      252\n",
              "Name: Class, dtype: int64"
            ]
          },
          "execution_count": 78,
          "metadata": {},
          "output_type": "execute_result"
        }
      ],
      "source": [
        "y_test_over.value_counts()"
      ]
    },
    {
      "cell_type": "markdown",
      "metadata": {
        "id": "JrxdP9ARfQ3J"
      },
      "source": [
        "Model Evaluation : F1 Macro\n",
        "Macro F1-score will give the same importance to each label/ class. It will be low for models that only perform well on the common classes while performing poorly on the rare classes.*\n",
        "\n",
        "1. Logistic Regression"
      ]
    },
    {
      "cell_type": "code",
      "execution_count": null,
      "metadata": {
        "colab": {
          "base_uri": "https://localhost:8080/"
        },
        "id": "TcAcCG_We50G",
        "outputId": "c3cde0f8-886f-468b-a695-6ff01018533f"
      },
      "outputs": [
        {
          "name": "stdout",
          "output_type": "stream",
          "text": [
            "Execution time: 0.6765115261077881 sec\n"
          ]
        }
      ],
      "source": [
        "start_time = time.time()\n",
        "LR_model = linear_model.LogisticRegression()\n",
        "# feeding the training data into the model\n",
        "LR_model.fit(X_train_over, y_train_over)\n",
        "print(\"Execution time: \" + str((time.time() - start_time)) + ' sec')"
      ]
    },
    {
      "cell_type": "code",
      "execution_count": null,
      "metadata": {
        "colab": {
          "base_uri": "https://localhost:8080/"
        },
        "id": "TocAgn5Gfavi",
        "outputId": "3f6e7cd1-8270-42ab-e114-b502c19139ee"
      },
      "outputs": [
        {
          "name": "stdout",
          "output_type": "stream",
          "text": [
            "Confusion Matrix: - \n",
            " [[588   0]\n",
            " [  0 252]]\n",
            "\n",
            "Classification Report: - \n",
            "               precision    recall  f1-score   support\n",
            "\n",
            "        SQLI       1.00      1.00      1.00       588\n",
            "      NORMAL       1.00      1.00      1.00       252\n",
            "\n",
            "    accuracy                           1.00       840\n",
            "   macro avg       1.00      1.00      1.00       840\n",
            "weighted avg       1.00      1.00      1.00       840\n",
            "\n",
            "Recall: 1.0\n",
            "Precision: 1.0\n",
            "F1 score: 1.0\n",
            "Accuracy: 1.0\n"
          ]
        }
      ],
      "source": [
        "# predicting the values for x-test\n",
        "y_pred = LR_model.predict(X_test_over)\n",
        "# finding the training and testing accuracy\n",
        "name = ['SQLI','NORMAL']\n",
        "LR_r=recall_score(y_test_over,y_pred, average='macro')\n",
        "LR_p=precision_score(y_test_over,y_pred, average='macro')\n",
        "LR_f=f1_score(y_test_over,y_pred, average='macro')\n",
        "acc=accuracy_score(y_test_over,y_pred)\n",
        "\n",
        "\n",
        "print(\"Confusion Matrix: - \\n\",confusion_matrix(y_test_over, y_pred))\n",
        "print()\n",
        "print(\"Classification Report: - \\n\",classification_report(y_test_over, y_pred,target_names=name))\n",
        "print(\"Recall:\", LR_r)\n",
        "print(\"Precision:\", LR_p)\n",
        "print(\"F1 score:\", LR_f)\n",
        "print(\"Accuracy:\", acc)"
      ]
    },
    {
      "cell_type": "markdown",
      "metadata": {
        "id": "u0TdganKf0f_"
      },
      "source": [
        "# 2. Naive Bayes"
      ]
    },
    {
      "cell_type": "code",
      "execution_count": null,
      "metadata": {
        "colab": {
          "base_uri": "https://localhost:8080/"
        },
        "id": "O_xYwfADf2XT",
        "outputId": "c495e054-09ec-42ae-ea86-b94bbfd110f5"
      },
      "outputs": [
        {
          "name": "stdout",
          "output_type": "stream",
          "text": [
            "Execution time: 0.5133500099182129 sec\n"
          ]
        }
      ],
      "source": [
        "start_time = time.time()\n",
        "NB_model = GaussianNB()\n",
        "# feeding the training data into the model\n",
        "NB_model.fit(X_train_over, y_train_over)\n",
        "print(\"Execution time: \" + str((time.time() - start_time)) + ' sec')"
      ]
    },
    {
      "cell_type": "code",
      "execution_count": null,
      "metadata": {
        "colab": {
          "base_uri": "https://localhost:8080/"
        },
        "id": "Wab-kV0Df7pt",
        "outputId": "a189d52c-befb-4e75-e788-9d33a22b934d"
      },
      "outputs": [
        {
          "name": "stdout",
          "output_type": "stream",
          "text": [
            "Confusion Matrix: - \n",
            " [[588   0]\n",
            " [  0 252]]\n",
            "\n",
            "Classification Report: - \n",
            "               precision    recall  f1-score   support\n",
            "\n",
            "        SQLI       1.00      1.00      1.00       588\n",
            "      NORMAL       1.00      1.00      1.00       252\n",
            "\n",
            "    accuracy                           1.00       840\n",
            "   macro avg       1.00      1.00      1.00       840\n",
            "weighted avg       1.00      1.00      1.00       840\n",
            "\n",
            "Recall: 1.0\n",
            "Precision: 1.0\n",
            "F1 score: 1.0\n"
          ]
        }
      ],
      "source": [
        "# predicting the values for x-test\n",
        "y_pred = NB_model.predict(X_test_over)\n",
        "# finding the training and testing accuracy\n",
        "name = ['SQLI','NORMAL']\n",
        "NB_r=recall_score(y_test_over,y_pred, average='macro')\n",
        "NB_p=precision_score(y_test_over,y_pred, average='macro')\n",
        "NB_f=f1_score(y_test_over,y_pred, average='macro')\n",
        "print(\"Confusion Matrix: - \\n\",confusion_matrix(y_test_over, y_pred))\n",
        "print()\n",
        "print(\"Classification Report: - \\n\",classification_report(y_test_over, y_pred,target_names=name))\n",
        "print(\"Recall:\", NB_r)\n",
        "print(\"Precision:\", NB_p)\n",
        "print(\"F1 score:\", NB_f)"
      ]
    },
    {
      "cell_type": "markdown",
      "metadata": {
        "id": "0YjZTjU1gKna"
      },
      "source": [
        "# 3. Decision Tree"
      ]
    },
    {
      "cell_type": "code",
      "execution_count": null,
      "metadata": {
        "colab": {
          "base_uri": "https://localhost:8080/"
        },
        "id": "sW1plT0DgL65",
        "outputId": "bb69d497-e97a-4d3e-9959-09c24a7c4fdf"
      },
      "outputs": [
        {
          "name": "stdout",
          "output_type": "stream",
          "text": [
            "Execution time: 0.15318584442138672 sec\n"
          ]
        }
      ],
      "source": [
        "start_time = time.time()\n",
        "DT_model = tree.DecisionTreeClassifier()\n",
        "# feeding the training data into the model\n",
        "DT_model.fit(X_train_over, y_train_over)\n",
        "print(\"Execution time: \" + str((time.time() - start_time)) + ' sec')"
      ]
    },
    {
      "cell_type": "code",
      "execution_count": null,
      "metadata": {
        "colab": {
          "base_uri": "https://localhost:8080/"
        },
        "id": "XoKh7L03gQ1y",
        "outputId": "b0644457-6da1-43f3-af4f-3410bb7f96fd"
      },
      "outputs": [
        {
          "name": "stdout",
          "output_type": "stream",
          "text": [
            "Confusion Matrix: - \n",
            " [[588   0]\n",
            " [  0 252]]\n",
            "\n",
            "Classification Report: - \n",
            "               precision    recall  f1-score   support\n",
            "\n",
            "        SQLI       1.00      1.00      1.00       588\n",
            "      NORMAL       1.00      1.00      1.00       252\n",
            "\n",
            "    accuracy                           1.00       840\n",
            "   macro avg       1.00      1.00      1.00       840\n",
            "weighted avg       1.00      1.00      1.00       840\n",
            "\n",
            "Recall: 1.0\n",
            "Precision: 1.0\n",
            "F1 score: 1.0\n"
          ]
        }
      ],
      "source": [
        "# predicting the values for x-test\n",
        "y_pred = DT_model.predict(X_test_over)\n",
        "# finding the training and testing accuracy\n",
        "name = ['SQLI','NORMAL']\n",
        "DT_r=recall_score(y_test_over,y_pred, average='macro')\n",
        "DT_p=precision_score(y_test_over,y_pred, average='macro')\n",
        "DT_f=f1_score(y_test_over,y_pred, average='macro')\n",
        "print(\"Confusion Matrix: - \\n\",confusion_matrix(y_test_over, y_pred))\n",
        "print()\n",
        "print(\"Classification Report: - \\n\",classification_report(y_test_over, y_pred,target_names=name))\n",
        "print(\"Recall:\", DT_r)\n",
        "print(\"Precision:\", DT_p)\n",
        "print(\"F1 score:\", DT_f)"
      ]
    },
    {
      "cell_type": "markdown",
      "metadata": {
        "id": "qZt7CWPugn4O"
      },
      "source": [
        "# 4. K Nearest Neighbors\n"
      ]
    },
    {
      "cell_type": "code",
      "execution_count": null,
      "metadata": {
        "colab": {
          "base_uri": "https://localhost:8080/"
        },
        "id": "wlgxb6gqgu4G",
        "outputId": "b8065ed3-a8a3-4631-d457-fb86658bdf00"
      },
      "outputs": [
        {
          "name": "stdout",
          "output_type": "stream",
          "text": [
            "Execution time: 0.07775664329528809 sec\n"
          ]
        }
      ],
      "source": [
        "start_time = time.time()\n",
        "knn_model = neighbors.KNeighborsClassifier()\n",
        "# feeding the training data into the model\n",
        "knn_model.fit(X_train_over, y_train_over)\n",
        "print(\"Execution time: \" + str((time.time() - start_time)) + ' sec')"
      ]
    },
    {
      "cell_type": "code",
      "execution_count": null,
      "metadata": {
        "colab": {
          "base_uri": "https://localhost:8080/"
        },
        "id": "swfZBQyOgyeh",
        "outputId": "e0e5ed43-c0bf-4b7e-a625-bdd5c579f519"
      },
      "outputs": [
        {
          "name": "stdout",
          "output_type": "stream",
          "text": [
            "Confusion Matrix: - \n",
            " [[588   0]\n",
            " [  0 252]]\n",
            "\n",
            "Classification Report: - \n",
            "               precision    recall  f1-score   support\n",
            "\n",
            "        SQLI       1.00      1.00      1.00       588\n",
            "      NORMAL       1.00      1.00      1.00       252\n",
            "\n",
            "    accuracy                           1.00       840\n",
            "   macro avg       1.00      1.00      1.00       840\n",
            "weighted avg       1.00      1.00      1.00       840\n",
            "\n",
            "Recall: 1.0\n",
            "Precision: 1.0\n",
            "F1 score: 1.0\n"
          ]
        }
      ],
      "source": [
        "# predicting the values for x-test\n",
        "y_pred = knn_model.predict(X_test_over)\n",
        "# finding the training and testing accuracy\n",
        "name = ['SQLI','NORMAL']\n",
        "knn_r=recall_score(y_test_over,y_pred, average='macro')\n",
        "knn_p=precision_score(y_test_over,y_pred, average='macro')\n",
        "knn_f=f1_score(y_test_over,y_pred, average='macro')\n",
        "print(\"Confusion Matrix: - \\n\",confusion_matrix(y_test_over, y_pred))\n",
        "print()\n",
        "print(\"Classification Report: - \\n\",classification_report(y_test_over, y_pred,target_names=name))\n",
        "print(\"Recall:\", knn_r)\n",
        "print(\"Precision:\", knn_p)\n",
        "print(\"F1 score:\", knn_f)"
      ]
    },
    {
      "cell_type": "markdown",
      "metadata": {
        "id": "wJwr10SFjN3c"
      },
      "source": [
        "**Support** **Vector** **Machine**"
      ]
    },
    {
      "cell_type": "code",
      "execution_count": null,
      "metadata": {
        "colab": {
          "base_uri": "https://localhost:8080/"
        },
        "id": "mlNq1yszjIcu",
        "outputId": "7b33081b-0ced-4331-d5a0-9ae06ecce8a3"
      },
      "outputs": [
        {
          "name": "stdout",
          "output_type": "stream",
          "text": [
            "Execution time: 38.27940821647644 sec\n"
          ]
        }
      ],
      "source": [
        "start_time = time.time()\n",
        "svm_model = svm.SVC()\n",
        "# feeding the training data into the model\n",
        "svm_model.fit(X_train_over, y_train_over)\n",
        "print(\"Execution time: \" + str((time.time() - start_time)) + ' sec')"
      ]
    },
    {
      "cell_type": "code",
      "execution_count": null,
      "metadata": {
        "colab": {
          "base_uri": "https://localhost:8080/"
        },
        "id": "sp45nYkLjUnU",
        "outputId": "063eb8d5-7849-478d-d977-2801e4ceda09"
      },
      "outputs": [
        {
          "name": "stdout",
          "output_type": "stream",
          "text": [
            "Confusion Matrix: - \n",
            " [[588   0]\n",
            " [  0 252]]\n",
            "\n",
            "Classification Report: - \n",
            "               precision    recall  f1-score   support\n",
            "\n",
            "        SQLI       1.00      1.00      1.00       588\n",
            "      NORMAL       1.00      1.00      1.00       252\n",
            "\n",
            "    accuracy                           1.00       840\n",
            "   macro avg       1.00      1.00      1.00       840\n",
            "weighted avg       1.00      1.00      1.00       840\n",
            "\n",
            "Recall: 1.0\n",
            "Precision: 1.0\n",
            "F1 score: 1.0\n"
          ]
        }
      ],
      "source": [
        "# predicting the values for x-test\n",
        "y_pred = svm_model.predict(X_test_over)\n",
        "# finding the training and testing accuracy\n",
        "name = ['SQLI','NORMAL']\n",
        "svm_r=recall_score(y_test_over,y_pred, average='macro')\n",
        "svm_p=precision_score(y_test_over,y_pred, average='macro')\n",
        "svm_f=f1_score(y_test_over,y_pred, average='macro')\n",
        "print(\"Confusion Matrix: - \\n\",confusion_matrix(y_test_over, y_pred))\n",
        "print()\n",
        "print(\"Classification Report: - \\n\",classification_report(y_test_over, y_pred,target_names=name))\n",
        "print(\"Recall:\", svm_r)\n",
        "print(\"Precision:\", svm_p)\n",
        "print(\"F1 score:\", svm_f)"
      ]
    },
    {
      "cell_type": "markdown",
      "metadata": {
        "id": "u7TVgljlllJv"
      },
      "source": [
        "# 6. AdaBoost"
      ]
    },
    {
      "cell_type": "code",
      "execution_count": null,
      "metadata": {
        "colab": {
          "base_uri": "https://localhost:8080/"
        },
        "id": "5cvTLN2slbFh",
        "outputId": "ec7ce6e1-7371-46e3-e7d2-aff2726f6539"
      },
      "outputs": [
        {
          "name": "stdout",
          "output_type": "stream",
          "text": [
            "Execution time: 0.1758286952972412 sec\n"
          ]
        }
      ],
      "source": [
        "start_time = time.time()\n",
        "adb_model = AdaBoostClassifier()\n",
        "# feeding the training data into the model\n",
        "adb_model.fit(X_train_over, y_train_over)\n",
        "print(\"Execution time: \" + str((time.time() - start_time)) + ' sec')"
      ]
    },
    {
      "cell_type": "code",
      "execution_count": null,
      "metadata": {
        "colab": {
          "base_uri": "https://localhost:8080/"
        },
        "id": "nlAJVqxKlsqM",
        "outputId": "91b57a91-efe3-4e0d-d434-b87e20e4e7da"
      },
      "outputs": [
        {
          "name": "stdout",
          "output_type": "stream",
          "text": [
            "Confusion Matrix: - \n",
            " [[588   0]\n",
            " [  0 252]]\n",
            "\n",
            "Classification Report: - \n",
            "               precision    recall  f1-score   support\n",
            "\n",
            "        SQLI       1.00      1.00      1.00       588\n",
            "      NORMAL       1.00      1.00      1.00       252\n",
            "\n",
            "    accuracy                           1.00       840\n",
            "   macro avg       1.00      1.00      1.00       840\n",
            "weighted avg       1.00      1.00      1.00       840\n",
            "\n",
            "Recall: 1.0\n",
            "Precision: 1.0\n",
            "F1 score: 1.0\n"
          ]
        }
      ],
      "source": [
        "# predicting the values for x-test\n",
        "y_pred = adb_model.predict(X_test_over)\n",
        "# finding the training and testing accuracy\n",
        "name = ['SQLI','NORMAL']\n",
        "adb_r=recall_score(y_test_over,y_pred, average='macro')\n",
        "adb_p=precision_score(y_test_over,y_pred, average='macro')\n",
        "adb_f=f1_score(y_test_over,y_pred, average='macro')\n",
        "print(\"Confusion Matrix: - \\n\",confusion_matrix(y_test_over, y_pred))\n",
        "print()\n",
        "print(\"Classification Report: - \\n\",classification_report(y_test_over, y_pred,target_names=name))\n",
        "print(\"Recall:\", adb_r)\n",
        "print(\"Precision:\", adb_p)\n",
        "print(\"F1 score:\", adb_f)"
      ]
    },
    {
      "cell_type": "markdown",
      "metadata": {
        "id": "EKU0akHLmCE5"
      },
      "source": [
        "**Random Forrest**"
      ]
    },
    {
      "cell_type": "code",
      "execution_count": null,
      "metadata": {
        "colab": {
          "base_uri": "https://localhost:8080/"
        },
        "id": "1iPTRmcIl855",
        "outputId": "6d3b3eb8-f286-45aa-ba5a-6d8badb3d569"
      },
      "outputs": [
        {
          "name": "stdout",
          "output_type": "stream",
          "text": [
            "Execution time: 2.5946502685546875 sec\n"
          ]
        }
      ],
      "source": [
        "start_time = time.time()\n",
        "RF_model = RandomForestClassifier()\n",
        "# feeding the training data into the model\n",
        "RF_model.fit(X_train_over, y_train_over)\n",
        "print(\"Execution time: \" + str((time.time() - start_time)) + ' sec')"
      ]
    },
    {
      "cell_type": "code",
      "execution_count": null,
      "metadata": {
        "colab": {
          "base_uri": "https://localhost:8080/"
        },
        "id": "UfxqjgFwmK6j",
        "outputId": "7c6403b2-223f-4e60-e626-0db4f88a8b85"
      },
      "outputs": [
        {
          "name": "stdout",
          "output_type": "stream",
          "text": [
            "Confusion Matrix: - \n",
            " [[588   0]\n",
            " [  0 252]]\n",
            "\n",
            "Classification Report: - \n",
            "               precision    recall  f1-score   support\n",
            "\n",
            "        SQLI       1.00      1.00      1.00       588\n",
            "      NORMAL       1.00      1.00      1.00       252\n",
            "\n",
            "    accuracy                           1.00       840\n",
            "   macro avg       1.00      1.00      1.00       840\n",
            "weighted avg       1.00      1.00      1.00       840\n",
            "\n",
            "Recall: 1.0\n",
            "Precision: 1.0\n",
            "F1 score: 1.0\n"
          ]
        }
      ],
      "source": [
        "# predicting the values for x-test\n",
        "y_pred = RF_model.predict(X_test_over)\n",
        "# finding the training and testing accuracy\n",
        "name = ['SQLI','NORMAL']\n",
        "RF_r=recall_score(y_test_over,y_pred, average='macro')\n",
        "RF_p=precision_score(y_test_over,y_pred, average='macro')\n",
        "RF_f=f1_score(y_test_over,y_pred, average='macro')\n",
        "print(\"Confusion Matrix: - \\n\",confusion_matrix(y_test_over, y_pred))\n",
        "print()\n",
        "print(\"Classification Report: - \\n\",classification_report(y_test_over, y_pred,target_names=name))\n",
        "print(\"Recall:\", RF_r)\n",
        "print(\"Precision:\", RF_p)\n",
        "print(\"F1 score:\", RF_f)"
      ]
    },
    {
      "cell_type": "code",
      "execution_count": null,
      "metadata": {
        "colab": {
          "base_uri": "https://localhost:8080/",
          "height": 559
        },
        "id": "KlNMe7A3gbtx",
        "outputId": "09e0760a-58f9-435a-ab8a-b572a1bb6702"
      },
      "outputs": [
        {
          "data": {
            "application/vnd.plotly.v1+json": {
              "config": {
                "plotlyServerURL": "https://plot.ly"
              },
              "data": [
                {
                  "name": "recall_score",
                  "type": "bar",
                  "x": [
                    "Logistic Regression",
                    "Naive Bayes Classifier",
                    "Decision Tree Classifier",
                    "K-Nearest Neighbor",
                    "Support Vector Machine",
                    "AdaBoost",
                    "Random Forest Classifier"
                  ],
                  "y": [
                    1,
                    1,
                    1,
                    1,
                    1,
                    1,
                    1
                  ]
                }
              ],
              "layout": {
                "template": {
                  "data": {
                    "bar": [
                      {
                        "error_x": {
                          "color": "#2a3f5f"
                        },
                        "error_y": {
                          "color": "#2a3f5f"
                        },
                        "marker": {
                          "line": {
                            "color": "#E5ECF6",
                            "width": 0.5
                          },
                          "pattern": {
                            "fillmode": "overlay",
                            "size": 10,
                            "solidity": 0.2
                          }
                        },
                        "type": "bar"
                      }
                    ],
                    "barpolar": [
                      {
                        "marker": {
                          "line": {
                            "color": "#E5ECF6",
                            "width": 0.5
                          },
                          "pattern": {
                            "fillmode": "overlay",
                            "size": 10,
                            "solidity": 0.2
                          }
                        },
                        "type": "barpolar"
                      }
                    ],
                    "carpet": [
                      {
                        "aaxis": {
                          "endlinecolor": "#2a3f5f",
                          "gridcolor": "white",
                          "linecolor": "white",
                          "minorgridcolor": "white",
                          "startlinecolor": "#2a3f5f"
                        },
                        "baxis": {
                          "endlinecolor": "#2a3f5f",
                          "gridcolor": "white",
                          "linecolor": "white",
                          "minorgridcolor": "white",
                          "startlinecolor": "#2a3f5f"
                        },
                        "type": "carpet"
                      }
                    ],
                    "choropleth": [
                      {
                        "colorbar": {
                          "outlinewidth": 0,
                          "ticks": ""
                        },
                        "type": "choropleth"
                      }
                    ],
                    "contour": [
                      {
                        "colorbar": {
                          "outlinewidth": 0,
                          "ticks": ""
                        },
                        "colorscale": [
                          [
                            0,
                            "#0d0887"
                          ],
                          [
                            0.1111111111111111,
                            "#46039f"
                          ],
                          [
                            0.2222222222222222,
                            "#7201a8"
                          ],
                          [
                            0.3333333333333333,
                            "#9c179e"
                          ],
                          [
                            0.4444444444444444,
                            "#bd3786"
                          ],
                          [
                            0.5555555555555556,
                            "#d8576b"
                          ],
                          [
                            0.6666666666666666,
                            "#ed7953"
                          ],
                          [
                            0.7777777777777778,
                            "#fb9f3a"
                          ],
                          [
                            0.8888888888888888,
                            "#fdca26"
                          ],
                          [
                            1,
                            "#f0f921"
                          ]
                        ],
                        "type": "contour"
                      }
                    ],
                    "contourcarpet": [
                      {
                        "colorbar": {
                          "outlinewidth": 0,
                          "ticks": ""
                        },
                        "type": "contourcarpet"
                      }
                    ],
                    "heatmap": [
                      {
                        "colorbar": {
                          "outlinewidth": 0,
                          "ticks": ""
                        },
                        "colorscale": [
                          [
                            0,
                            "#0d0887"
                          ],
                          [
                            0.1111111111111111,
                            "#46039f"
                          ],
                          [
                            0.2222222222222222,
                            "#7201a8"
                          ],
                          [
                            0.3333333333333333,
                            "#9c179e"
                          ],
                          [
                            0.4444444444444444,
                            "#bd3786"
                          ],
                          [
                            0.5555555555555556,
                            "#d8576b"
                          ],
                          [
                            0.6666666666666666,
                            "#ed7953"
                          ],
                          [
                            0.7777777777777778,
                            "#fb9f3a"
                          ],
                          [
                            0.8888888888888888,
                            "#fdca26"
                          ],
                          [
                            1,
                            "#f0f921"
                          ]
                        ],
                        "type": "heatmap"
                      }
                    ],
                    "heatmapgl": [
                      {
                        "colorbar": {
                          "outlinewidth": 0,
                          "ticks": ""
                        },
                        "colorscale": [
                          [
                            0,
                            "#0d0887"
                          ],
                          [
                            0.1111111111111111,
                            "#46039f"
                          ],
                          [
                            0.2222222222222222,
                            "#7201a8"
                          ],
                          [
                            0.3333333333333333,
                            "#9c179e"
                          ],
                          [
                            0.4444444444444444,
                            "#bd3786"
                          ],
                          [
                            0.5555555555555556,
                            "#d8576b"
                          ],
                          [
                            0.6666666666666666,
                            "#ed7953"
                          ],
                          [
                            0.7777777777777778,
                            "#fb9f3a"
                          ],
                          [
                            0.8888888888888888,
                            "#fdca26"
                          ],
                          [
                            1,
                            "#f0f921"
                          ]
                        ],
                        "type": "heatmapgl"
                      }
                    ],
                    "histogram": [
                      {
                        "marker": {
                          "pattern": {
                            "fillmode": "overlay",
                            "size": 10,
                            "solidity": 0.2
                          }
                        },
                        "type": "histogram"
                      }
                    ],
                    "histogram2d": [
                      {
                        "colorbar": {
                          "outlinewidth": 0,
                          "ticks": ""
                        },
                        "colorscale": [
                          [
                            0,
                            "#0d0887"
                          ],
                          [
                            0.1111111111111111,
                            "#46039f"
                          ],
                          [
                            0.2222222222222222,
                            "#7201a8"
                          ],
                          [
                            0.3333333333333333,
                            "#9c179e"
                          ],
                          [
                            0.4444444444444444,
                            "#bd3786"
                          ],
                          [
                            0.5555555555555556,
                            "#d8576b"
                          ],
                          [
                            0.6666666666666666,
                            "#ed7953"
                          ],
                          [
                            0.7777777777777778,
                            "#fb9f3a"
                          ],
                          [
                            0.8888888888888888,
                            "#fdca26"
                          ],
                          [
                            1,
                            "#f0f921"
                          ]
                        ],
                        "type": "histogram2d"
                      }
                    ],
                    "histogram2dcontour": [
                      {
                        "colorbar": {
                          "outlinewidth": 0,
                          "ticks": ""
                        },
                        "colorscale": [
                          [
                            0,
                            "#0d0887"
                          ],
                          [
                            0.1111111111111111,
                            "#46039f"
                          ],
                          [
                            0.2222222222222222,
                            "#7201a8"
                          ],
                          [
                            0.3333333333333333,
                            "#9c179e"
                          ],
                          [
                            0.4444444444444444,
                            "#bd3786"
                          ],
                          [
                            0.5555555555555556,
                            "#d8576b"
                          ],
                          [
                            0.6666666666666666,
                            "#ed7953"
                          ],
                          [
                            0.7777777777777778,
                            "#fb9f3a"
                          ],
                          [
                            0.8888888888888888,
                            "#fdca26"
                          ],
                          [
                            1,
                            "#f0f921"
                          ]
                        ],
                        "type": "histogram2dcontour"
                      }
                    ],
                    "mesh3d": [
                      {
                        "colorbar": {
                          "outlinewidth": 0,
                          "ticks": ""
                        },
                        "type": "mesh3d"
                      }
                    ],
                    "parcoords": [
                      {
                        "line": {
                          "colorbar": {
                            "outlinewidth": 0,
                            "ticks": ""
                          }
                        },
                        "type": "parcoords"
                      }
                    ],
                    "pie": [
                      {
                        "automargin": true,
                        "type": "pie"
                      }
                    ],
                    "scatter": [
                      {
                        "marker": {
                          "colorbar": {
                            "outlinewidth": 0,
                            "ticks": ""
                          }
                        },
                        "type": "scatter"
                      }
                    ],
                    "scatter3d": [
                      {
                        "line": {
                          "colorbar": {
                            "outlinewidth": 0,
                            "ticks": ""
                          }
                        },
                        "marker": {
                          "colorbar": {
                            "outlinewidth": 0,
                            "ticks": ""
                          }
                        },
                        "type": "scatter3d"
                      }
                    ],
                    "scattercarpet": [
                      {
                        "marker": {
                          "colorbar": {
                            "outlinewidth": 0,
                            "ticks": ""
                          }
                        },
                        "type": "scattercarpet"
                      }
                    ],
                    "scattergeo": [
                      {
                        "marker": {
                          "colorbar": {
                            "outlinewidth": 0,
                            "ticks": ""
                          }
                        },
                        "type": "scattergeo"
                      }
                    ],
                    "scattergl": [
                      {
                        "marker": {
                          "colorbar": {
                            "outlinewidth": 0,
                            "ticks": ""
                          }
                        },
                        "type": "scattergl"
                      }
                    ],
                    "scattermapbox": [
                      {
                        "marker": {
                          "colorbar": {
                            "outlinewidth": 0,
                            "ticks": ""
                          }
                        },
                        "type": "scattermapbox"
                      }
                    ],
                    "scatterpolar": [
                      {
                        "marker": {
                          "colorbar": {
                            "outlinewidth": 0,
                            "ticks": ""
                          }
                        },
                        "type": "scatterpolar"
                      }
                    ],
                    "scatterpolargl": [
                      {
                        "marker": {
                          "colorbar": {
                            "outlinewidth": 0,
                            "ticks": ""
                          }
                        },
                        "type": "scatterpolargl"
                      }
                    ],
                    "scatterternary": [
                      {
                        "marker": {
                          "colorbar": {
                            "outlinewidth": 0,
                            "ticks": ""
                          }
                        },
                        "type": "scatterternary"
                      }
                    ],
                    "surface": [
                      {
                        "colorbar": {
                          "outlinewidth": 0,
                          "ticks": ""
                        },
                        "colorscale": [
                          [
                            0,
                            "#0d0887"
                          ],
                          [
                            0.1111111111111111,
                            "#46039f"
                          ],
                          [
                            0.2222222222222222,
                            "#7201a8"
                          ],
                          [
                            0.3333333333333333,
                            "#9c179e"
                          ],
                          [
                            0.4444444444444444,
                            "#bd3786"
                          ],
                          [
                            0.5555555555555556,
                            "#d8576b"
                          ],
                          [
                            0.6666666666666666,
                            "#ed7953"
                          ],
                          [
                            0.7777777777777778,
                            "#fb9f3a"
                          ],
                          [
                            0.8888888888888888,
                            "#fdca26"
                          ],
                          [
                            1,
                            "#f0f921"
                          ]
                        ],
                        "type": "surface"
                      }
                    ],
                    "table": [
                      {
                        "cells": {
                          "fill": {
                            "color": "#EBF0F8"
                          },
                          "line": {
                            "color": "white"
                          }
                        },
                        "header": {
                          "fill": {
                            "color": "#C8D4E3"
                          },
                          "line": {
                            "color": "white"
                          }
                        },
                        "type": "table"
                      }
                    ]
                  },
                  "layout": {
                    "annotationdefaults": {
                      "arrowcolor": "#2a3f5f",
                      "arrowhead": 0,
                      "arrowwidth": 1
                    },
                    "autotypenumbers": "strict",
                    "coloraxis": {
                      "colorbar": {
                        "outlinewidth": 0,
                        "ticks": ""
                      }
                    },
                    "colorscale": {
                      "diverging": [
                        [
                          0,
                          "#8e0152"
                        ],
                        [
                          0.1,
                          "#c51b7d"
                        ],
                        [
                          0.2,
                          "#de77ae"
                        ],
                        [
                          0.3,
                          "#f1b6da"
                        ],
                        [
                          0.4,
                          "#fde0ef"
                        ],
                        [
                          0.5,
                          "#f7f7f7"
                        ],
                        [
                          0.6,
                          "#e6f5d0"
                        ],
                        [
                          0.7,
                          "#b8e186"
                        ],
                        [
                          0.8,
                          "#7fbc41"
                        ],
                        [
                          0.9,
                          "#4d9221"
                        ],
                        [
                          1,
                          "#276419"
                        ]
                      ],
                      "sequential": [
                        [
                          0,
                          "#0d0887"
                        ],
                        [
                          0.1111111111111111,
                          "#46039f"
                        ],
                        [
                          0.2222222222222222,
                          "#7201a8"
                        ],
                        [
                          0.3333333333333333,
                          "#9c179e"
                        ],
                        [
                          0.4444444444444444,
                          "#bd3786"
                        ],
                        [
                          0.5555555555555556,
                          "#d8576b"
                        ],
                        [
                          0.6666666666666666,
                          "#ed7953"
                        ],
                        [
                          0.7777777777777778,
                          "#fb9f3a"
                        ],
                        [
                          0.8888888888888888,
                          "#fdca26"
                        ],
                        [
                          1,
                          "#f0f921"
                        ]
                      ],
                      "sequentialminus": [
                        [
                          0,
                          "#0d0887"
                        ],
                        [
                          0.1111111111111111,
                          "#46039f"
                        ],
                        [
                          0.2222222222222222,
                          "#7201a8"
                        ],
                        [
                          0.3333333333333333,
                          "#9c179e"
                        ],
                        [
                          0.4444444444444444,
                          "#bd3786"
                        ],
                        [
                          0.5555555555555556,
                          "#d8576b"
                        ],
                        [
                          0.6666666666666666,
                          "#ed7953"
                        ],
                        [
                          0.7777777777777778,
                          "#fb9f3a"
                        ],
                        [
                          0.8888888888888888,
                          "#fdca26"
                        ],
                        [
                          1,
                          "#f0f921"
                        ]
                      ]
                    },
                    "colorway": [
                      "#636efa",
                      "#EF553B",
                      "#00cc96",
                      "#ab63fa",
                      "#FFA15A",
                      "#19d3f3",
                      "#FF6692",
                      "#B6E880",
                      "#FF97FF",
                      "#FECB52"
                    ],
                    "font": {
                      "color": "#2a3f5f"
                    },
                    "geo": {
                      "bgcolor": "white",
                      "lakecolor": "white",
                      "landcolor": "#E5ECF6",
                      "showlakes": true,
                      "showland": true,
                      "subunitcolor": "white"
                    },
                    "hoverlabel": {
                      "align": "left"
                    },
                    "hovermode": "closest",
                    "mapbox": {
                      "style": "light"
                    },
                    "paper_bgcolor": "white",
                    "plot_bgcolor": "#E5ECF6",
                    "polar": {
                      "angularaxis": {
                        "gridcolor": "white",
                        "linecolor": "white",
                        "ticks": ""
                      },
                      "bgcolor": "#E5ECF6",
                      "radialaxis": {
                        "gridcolor": "white",
                        "linecolor": "white",
                        "ticks": ""
                      }
                    },
                    "scene": {
                      "xaxis": {
                        "backgroundcolor": "#E5ECF6",
                        "gridcolor": "white",
                        "gridwidth": 2,
                        "linecolor": "white",
                        "showbackground": true,
                        "ticks": "",
                        "zerolinecolor": "white"
                      },
                      "yaxis": {
                        "backgroundcolor": "#E5ECF6",
                        "gridcolor": "white",
                        "gridwidth": 2,
                        "linecolor": "white",
                        "showbackground": true,
                        "ticks": "",
                        "zerolinecolor": "white"
                      },
                      "zaxis": {
                        "backgroundcolor": "#E5ECF6",
                        "gridcolor": "white",
                        "gridwidth": 2,
                        "linecolor": "white",
                        "showbackground": true,
                        "ticks": "",
                        "zerolinecolor": "white"
                      }
                    },
                    "shapedefaults": {
                      "line": {
                        "color": "#2a3f5f"
                      }
                    },
                    "ternary": {
                      "aaxis": {
                        "gridcolor": "white",
                        "linecolor": "white",
                        "ticks": ""
                      },
                      "baxis": {
                        "gridcolor": "white",
                        "linecolor": "white",
                        "ticks": ""
                      },
                      "bgcolor": "#E5ECF6",
                      "caxis": {
                        "gridcolor": "white",
                        "linecolor": "white",
                        "ticks": ""
                      }
                    },
                    "title": {
                      "x": 0.05
                    },
                    "xaxis": {
                      "automargin": true,
                      "gridcolor": "white",
                      "linecolor": "white",
                      "ticks": "",
                      "title": {
                        "standoff": 15
                      },
                      "zerolinecolor": "white",
                      "zerolinewidth": 2
                    },
                    "yaxis": {
                      "automargin": true,
                      "gridcolor": "white",
                      "linecolor": "white",
                      "ticks": "",
                      "title": {
                        "standoff": 15
                      },
                      "zerolinecolor": "white",
                      "zerolinewidth": 2
                    }
                  }
                }
              }
            },
            "text/html": [
              "<div>                            <div id=\"b17e97ab-6ae2-4118-9bd1-4bd62b565d21\" class=\"plotly-graph-div\" style=\"height:525px; width:100%;\"></div>            <script type=\"text/javascript\">                require([\"plotly\"], function(Plotly) {                    window.PLOTLYENV=window.PLOTLYENV || {};                                    if (document.getElementById(\"b17e97ab-6ae2-4118-9bd1-4bd62b565d21\")) {                    Plotly.newPlot(                        \"b17e97ab-6ae2-4118-9bd1-4bd62b565d21\",                        [{\"name\":\"recall_score\",\"x\":[\"Logistic Regression\",\"Naive Bayes Classifier\",\"Decision Tree Classifier\",\"K-Nearest Neighbor\",\"Support Vector Machine\",\"AdaBoost\",\"Random Forest Classifier\"],\"y\":[1.0,1.0,1.0,1.0,1.0,1.0,1.0],\"type\":\"bar\"}],                        {\"template\":{\"data\":{\"bar\":[{\"error_x\":{\"color\":\"#2a3f5f\"},\"error_y\":{\"color\":\"#2a3f5f\"},\"marker\":{\"line\":{\"color\":\"#E5ECF6\",\"width\":0.5},\"pattern\":{\"fillmode\":\"overlay\",\"size\":10,\"solidity\":0.2}},\"type\":\"bar\"}],\"barpolar\":[{\"marker\":{\"line\":{\"color\":\"#E5ECF6\",\"width\":0.5},\"pattern\":{\"fillmode\":\"overlay\",\"size\":10,\"solidity\":0.2}},\"type\":\"barpolar\"}],\"carpet\":[{\"aaxis\":{\"endlinecolor\":\"#2a3f5f\",\"gridcolor\":\"white\",\"linecolor\":\"white\",\"minorgridcolor\":\"white\",\"startlinecolor\":\"#2a3f5f\"},\"baxis\":{\"endlinecolor\":\"#2a3f5f\",\"gridcolor\":\"white\",\"linecolor\":\"white\",\"minorgridcolor\":\"white\",\"startlinecolor\":\"#2a3f5f\"},\"type\":\"carpet\"}],\"choropleth\":[{\"colorbar\":{\"outlinewidth\":0,\"ticks\":\"\"},\"type\":\"choropleth\"}],\"contour\":[{\"colorbar\":{\"outlinewidth\":0,\"ticks\":\"\"},\"colorscale\":[[0.0,\"#0d0887\"],[0.1111111111111111,\"#46039f\"],[0.2222222222222222,\"#7201a8\"],[0.3333333333333333,\"#9c179e\"],[0.4444444444444444,\"#bd3786\"],[0.5555555555555556,\"#d8576b\"],[0.6666666666666666,\"#ed7953\"],[0.7777777777777778,\"#fb9f3a\"],[0.8888888888888888,\"#fdca26\"],[1.0,\"#f0f921\"]],\"type\":\"contour\"}],\"contourcarpet\":[{\"colorbar\":{\"outlinewidth\":0,\"ticks\":\"\"},\"type\":\"contourcarpet\"}],\"heatmap\":[{\"colorbar\":{\"outlinewidth\":0,\"ticks\":\"\"},\"colorscale\":[[0.0,\"#0d0887\"],[0.1111111111111111,\"#46039f\"],[0.2222222222222222,\"#7201a8\"],[0.3333333333333333,\"#9c179e\"],[0.4444444444444444,\"#bd3786\"],[0.5555555555555556,\"#d8576b\"],[0.6666666666666666,\"#ed7953\"],[0.7777777777777778,\"#fb9f3a\"],[0.8888888888888888,\"#fdca26\"],[1.0,\"#f0f921\"]],\"type\":\"heatmap\"}],\"heatmapgl\":[{\"colorbar\":{\"outlinewidth\":0,\"ticks\":\"\"},\"colorscale\":[[0.0,\"#0d0887\"],[0.1111111111111111,\"#46039f\"],[0.2222222222222222,\"#7201a8\"],[0.3333333333333333,\"#9c179e\"],[0.4444444444444444,\"#bd3786\"],[0.5555555555555556,\"#d8576b\"],[0.6666666666666666,\"#ed7953\"],[0.7777777777777778,\"#fb9f3a\"],[0.8888888888888888,\"#fdca26\"],[1.0,\"#f0f921\"]],\"type\":\"heatmapgl\"}],\"histogram\":[{\"marker\":{\"pattern\":{\"fillmode\":\"overlay\",\"size\":10,\"solidity\":0.2}},\"type\":\"histogram\"}],\"histogram2d\":[{\"colorbar\":{\"outlinewidth\":0,\"ticks\":\"\"},\"colorscale\":[[0.0,\"#0d0887\"],[0.1111111111111111,\"#46039f\"],[0.2222222222222222,\"#7201a8\"],[0.3333333333333333,\"#9c179e\"],[0.4444444444444444,\"#bd3786\"],[0.5555555555555556,\"#d8576b\"],[0.6666666666666666,\"#ed7953\"],[0.7777777777777778,\"#fb9f3a\"],[0.8888888888888888,\"#fdca26\"],[1.0,\"#f0f921\"]],\"type\":\"histogram2d\"}],\"histogram2dcontour\":[{\"colorbar\":{\"outlinewidth\":0,\"ticks\":\"\"},\"colorscale\":[[0.0,\"#0d0887\"],[0.1111111111111111,\"#46039f\"],[0.2222222222222222,\"#7201a8\"],[0.3333333333333333,\"#9c179e\"],[0.4444444444444444,\"#bd3786\"],[0.5555555555555556,\"#d8576b\"],[0.6666666666666666,\"#ed7953\"],[0.7777777777777778,\"#fb9f3a\"],[0.8888888888888888,\"#fdca26\"],[1.0,\"#f0f921\"]],\"type\":\"histogram2dcontour\"}],\"mesh3d\":[{\"colorbar\":{\"outlinewidth\":0,\"ticks\":\"\"},\"type\":\"mesh3d\"}],\"parcoords\":[{\"line\":{\"colorbar\":{\"outlinewidth\":0,\"ticks\":\"\"}},\"type\":\"parcoords\"}],\"pie\":[{\"automargin\":true,\"type\":\"pie\"}],\"scatter\":[{\"marker\":{\"colorbar\":{\"outlinewidth\":0,\"ticks\":\"\"}},\"type\":\"scatter\"}],\"scatter3d\":[{\"line\":{\"colorbar\":{\"outlinewidth\":0,\"ticks\":\"\"}},\"marker\":{\"colorbar\":{\"outlinewidth\":0,\"ticks\":\"\"}},\"type\":\"scatter3d\"}],\"scattercarpet\":[{\"marker\":{\"colorbar\":{\"outlinewidth\":0,\"ticks\":\"\"}},\"type\":\"scattercarpet\"}],\"scattergeo\":[{\"marker\":{\"colorbar\":{\"outlinewidth\":0,\"ticks\":\"\"}},\"type\":\"scattergeo\"}],\"scattergl\":[{\"marker\":{\"colorbar\":{\"outlinewidth\":0,\"ticks\":\"\"}},\"type\":\"scattergl\"}],\"scattermapbox\":[{\"marker\":{\"colorbar\":{\"outlinewidth\":0,\"ticks\":\"\"}},\"type\":\"scattermapbox\"}],\"scatterpolar\":[{\"marker\":{\"colorbar\":{\"outlinewidth\":0,\"ticks\":\"\"}},\"type\":\"scatterpolar\"}],\"scatterpolargl\":[{\"marker\":{\"colorbar\":{\"outlinewidth\":0,\"ticks\":\"\"}},\"type\":\"scatterpolargl\"}],\"scatterternary\":[{\"marker\":{\"colorbar\":{\"outlinewidth\":0,\"ticks\":\"\"}},\"type\":\"scatterternary\"}],\"surface\":[{\"colorbar\":{\"outlinewidth\":0,\"ticks\":\"\"},\"colorscale\":[[0.0,\"#0d0887\"],[0.1111111111111111,\"#46039f\"],[0.2222222222222222,\"#7201a8\"],[0.3333333333333333,\"#9c179e\"],[0.4444444444444444,\"#bd3786\"],[0.5555555555555556,\"#d8576b\"],[0.6666666666666666,\"#ed7953\"],[0.7777777777777778,\"#fb9f3a\"],[0.8888888888888888,\"#fdca26\"],[1.0,\"#f0f921\"]],\"type\":\"surface\"}],\"table\":[{\"cells\":{\"fill\":{\"color\":\"#EBF0F8\"},\"line\":{\"color\":\"white\"}},\"header\":{\"fill\":{\"color\":\"#C8D4E3\"},\"line\":{\"color\":\"white\"}},\"type\":\"table\"}]},\"layout\":{\"annotationdefaults\":{\"arrowcolor\":\"#2a3f5f\",\"arrowhead\":0,\"arrowwidth\":1},\"autotypenumbers\":\"strict\",\"coloraxis\":{\"colorbar\":{\"outlinewidth\":0,\"ticks\":\"\"}},\"colorscale\":{\"diverging\":[[0,\"#8e0152\"],[0.1,\"#c51b7d\"],[0.2,\"#de77ae\"],[0.3,\"#f1b6da\"],[0.4,\"#fde0ef\"],[0.5,\"#f7f7f7\"],[0.6,\"#e6f5d0\"],[0.7,\"#b8e186\"],[0.8,\"#7fbc41\"],[0.9,\"#4d9221\"],[1,\"#276419\"]],\"sequential\":[[0.0,\"#0d0887\"],[0.1111111111111111,\"#46039f\"],[0.2222222222222222,\"#7201a8\"],[0.3333333333333333,\"#9c179e\"],[0.4444444444444444,\"#bd3786\"],[0.5555555555555556,\"#d8576b\"],[0.6666666666666666,\"#ed7953\"],[0.7777777777777778,\"#fb9f3a\"],[0.8888888888888888,\"#fdca26\"],[1.0,\"#f0f921\"]],\"sequentialminus\":[[0.0,\"#0d0887\"],[0.1111111111111111,\"#46039f\"],[0.2222222222222222,\"#7201a8\"],[0.3333333333333333,\"#9c179e\"],[0.4444444444444444,\"#bd3786\"],[0.5555555555555556,\"#d8576b\"],[0.6666666666666666,\"#ed7953\"],[0.7777777777777778,\"#fb9f3a\"],[0.8888888888888888,\"#fdca26\"],[1.0,\"#f0f921\"]]},\"colorway\":[\"#636efa\",\"#EF553B\",\"#00cc96\",\"#ab63fa\",\"#FFA15A\",\"#19d3f3\",\"#FF6692\",\"#B6E880\",\"#FF97FF\",\"#FECB52\"],\"font\":{\"color\":\"#2a3f5f\"},\"geo\":{\"bgcolor\":\"white\",\"lakecolor\":\"white\",\"landcolor\":\"#E5ECF6\",\"showlakes\":true,\"showland\":true,\"subunitcolor\":\"white\"},\"hoverlabel\":{\"align\":\"left\"},\"hovermode\":\"closest\",\"mapbox\":{\"style\":\"light\"},\"paper_bgcolor\":\"white\",\"plot_bgcolor\":\"#E5ECF6\",\"polar\":{\"angularaxis\":{\"gridcolor\":\"white\",\"linecolor\":\"white\",\"ticks\":\"\"},\"bgcolor\":\"#E5ECF6\",\"radialaxis\":{\"gridcolor\":\"white\",\"linecolor\":\"white\",\"ticks\":\"\"}},\"scene\":{\"xaxis\":{\"backgroundcolor\":\"#E5ECF6\",\"gridcolor\":\"white\",\"gridwidth\":2,\"linecolor\":\"white\",\"showbackground\":true,\"ticks\":\"\",\"zerolinecolor\":\"white\"},\"yaxis\":{\"backgroundcolor\":\"#E5ECF6\",\"gridcolor\":\"white\",\"gridwidth\":2,\"linecolor\":\"white\",\"showbackground\":true,\"ticks\":\"\",\"zerolinecolor\":\"white\"},\"zaxis\":{\"backgroundcolor\":\"#E5ECF6\",\"gridcolor\":\"white\",\"gridwidth\":2,\"linecolor\":\"white\",\"showbackground\":true,\"ticks\":\"\",\"zerolinecolor\":\"white\"}},\"shapedefaults\":{\"line\":{\"color\":\"#2a3f5f\"}},\"ternary\":{\"aaxis\":{\"gridcolor\":\"white\",\"linecolor\":\"white\",\"ticks\":\"\"},\"baxis\":{\"gridcolor\":\"white\",\"linecolor\":\"white\",\"ticks\":\"\"},\"bgcolor\":\"#E5ECF6\",\"caxis\":{\"gridcolor\":\"white\",\"linecolor\":\"white\",\"ticks\":\"\"}},\"title\":{\"x\":0.05},\"xaxis\":{\"automargin\":true,\"gridcolor\":\"white\",\"linecolor\":\"white\",\"ticks\":\"\",\"title\":{\"standoff\":15},\"zerolinecolor\":\"white\",\"zerolinewidth\":2},\"yaxis\":{\"automargin\":true,\"gridcolor\":\"white\",\"linecolor\":\"white\",\"ticks\":\"\",\"title\":{\"standoff\":15},\"zerolinecolor\":\"white\",\"zerolinewidth\":2}}}},                        {\"responsive\": true}                    ).then(function(){\n",
              "                            \n",
              "var gd = document.getElementById('b17e97ab-6ae2-4118-9bd1-4bd62b565d21');\n",
              "var x = new MutationObserver(function (mutations, observer) {{\n",
              "        var display = window.getComputedStyle(gd).display;\n",
              "        if (!display || display === 'none') {{\n",
              "            console.log([gd, 'removed!']);\n",
              "            Plotly.purge(gd);\n",
              "            observer.disconnect();\n",
              "        }}\n",
              "}});\n",
              "\n",
              "// Listen for the removal of the full notebook cells\n",
              "var notebookContainer = gd.closest('#notebook-container');\n",
              "if (notebookContainer) {{\n",
              "    x.observe(notebookContainer, {childList: true});\n",
              "}}\n",
              "\n",
              "// Listen for the clearing of the current output cell\n",
              "var outputEl = gd.closest('.output');\n",
              "if (outputEl) {{\n",
              "    x.observe(outputEl, {childList: true});\n",
              "}}\n",
              "\n",
              "                        })                };                });            </script>        </div>"
            ]
          },
          "metadata": {},
          "output_type": "display_data"
        },
        {
          "data": {
            "text/plain": [
              "<Figure size 360x720 with 0 Axes>"
            ]
          },
          "metadata": {},
          "output_type": "display_data"
        }
      ],
      "source": [
        "%matplotlib inline\n",
        "fig = plt.figure(figsize=(5, 10))\n",
        "models=['Logistic Regression','Naive Bayes Classifier','Decision Tree Classifier','K-Nearest Neighbor','Support Vector Machine','AdaBoost','Random Forest Classifier']\n",
        "fig = go.Figure(data=[go.Bar(name='recall_score', x=models, y=[LR_f,NB_f,DT_f,knn_f,svm_f,adb_f,RF_f])])\n",
        "fig.show()"
      ]
    }
  ],
  "metadata": {
    "colab": {
      "provenance": []
    },
    "kernelspec": {
      "display_name": "Python 3",
      "name": "python3"
    },
    "language_info": {
      "name": "python"
    }
  },
  "nbformat": 4,
  "nbformat_minor": 0
}